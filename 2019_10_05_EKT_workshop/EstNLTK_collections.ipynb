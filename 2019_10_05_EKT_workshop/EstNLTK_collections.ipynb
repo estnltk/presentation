{
 "cells": [
  {
   "cell_type": "markdown",
   "metadata": {},
   "source": [
    "# Tekstikolletsioonid ja nende kasutamine\n",
    "\n",
    "Tekstikollekstsioonide (*korpuste*)  töötlemiseks on olemas kaks põhimõttelist võimalust:\n",
    "\n",
    "* tekstid on salvestatud failidena (*pickle*),\n",
    "* tekstid on salvestatud andmebaasi objektidena.\n",
    "\n",
    "Andmebaasi kasutamise eeliseks on parem otsitavus ning võimalus kasutada olemasolevaid andmetöötlusalgoritme.\n",
    "\n",
    "* EstNLTK 1.4 teek kasutab [ElasticSearch](https://www.elastic.co/products/elasticsearch) otsingumootorit teksikollektsioonide salvestamiseks. \n",
    "* EstNLTK 1.6 teek kasutab [PostgreSQL](https://www.postgresql.org) andmebaasi teksikollektsioonide salvestamiseks. \n",
    "\n",
    "PostgreSQL eeliseks:\n",
    "\n",
    "* stabiilne API,\n",
    "* ennustatav resursi kulu,\n",
    "* parem skaleeruvus praktiliste andmemahtude juures,\n",
    "* lihtsam integreeritavus olemasolevasse it-taristusse.\n",
    "\n",
    "**Tüüpilised sammud tekstikollektsioonide töötamisel** \n",
    "* Tekstikollektsiooni loomine\n",
    "* Tekstikollektsiooni annoteerimine\n",
    "* Tekstikollektsioonidest otsimine\n"
   ]
  },
  {
   "cell_type": "markdown",
   "metadata": {},
   "source": [
    "## 0. Ettevalmistavad sammud \n",
    "\n",
    "Selleks et Jupyteriga oleks lihtsam töötada tuleks soovitusi muuta agresiivsemaks (*autocomplete*)."
   ]
  },
  {
   "cell_type": "code",
   "execution_count": 1,
   "metadata": {},
   "outputs": [],
   "source": [
    "%config IPCompleter.greedy=True"
   ]
  },
  {
   "cell_type": "markdown",
   "metadata": {},
   "source": [
    "See võimaldab meil *Tab*-iga küsida objekti meetodeid ning *Shift+Tab*-iga küsida funktsioonide dokumentatsiooni."
   ]
  },
  {
   "cell_type": "markdown",
   "metadata": {},
   "source": [
    "## 1. Tekstikollektsioonide loomine failidest\n",
    "\n",
    "Selleks et oleks selge, mis mooduleid konkreetsetes sammudes kasutatakse, impordime moodulid vajadusepõhiselt iga andmetöötlussammu ees."
   ]
  },
  {
   "cell_type": "markdown",
   "metadata": {},
   "source": [
    "### Sisendtektide uurimine\n",
    "\n",
    "Järgnevas on meie eesmärk uurida raadiosaadete automaat-transkriptsiooni abil saadud materjale. Vastavad failid asuvad kataloogis `data/kpt` ning on UTF-8 kodeeringus. Nende lugemiseks on vaja failid õiges kodeeringus avada."
   ]
  },
  {
   "cell_type": "code",
   "execution_count": 2,
   "metadata": {},
   "outputs": [
    {
     "name": "stdout",
     "output_type": "stream",
     "text": [
      "K01: Kuku raadios välja öeldud seisukohad ei pea ühtima Kuku raadio seisukohtadega. Te kuulate Kuku raadiot?\n",
      "-:\n",
      "K02: Breivik tahtis proovida, mismoodi õhu lenn Sid raisakotkas kohe appi pahenduse, kui õhusegasse Aalto tegi, kaval linn. Natuurist haaras, pärdik öeldes kuuleb. Palun lenda sirgelt. Pal\n"
     ]
    }
   ],
   "source": [
    "file = open(\"data/kpt/2019-09-07.txt\", mode=\"r\", encoding=\"utf-8\")\n",
    "raw_text = file.read()\n",
    "print(raw_text[:300])"
   ]
  },
  {
   "cell_type": "markdown",
   "metadata": {},
   "source": [
    "Teksti vaadates on selge, et tekst koosneb blokkidest, mis algavad kõneleja nimega ning millele millele järgneb repliik. \n",
    "Selline struktuur on väha sagedane ka ametlike dokumentide või tootekirjelduste korral, \n",
    "kus teksti eri osade eraldamiseks kasutatakse pealkirju või muid korduvaid struktuurielemente. \n",
    "Tavaliselt on kõige lihtsam selliseid struktuurielemente tuvastada regulaaravaldiste abil.  "
   ]
  },
  {
   "cell_type": "markdown",
   "metadata": {},
   "source": [
    "## Teksti segmenteerimine\n",
    "\n",
    "Esimese asjana tuleb tekstist üles leida kõnetuvastaja poolt pandud rääkija tähis või nimi. Selleks kasutame kahte märgendajat:\n",
    "* ```ŖegexTagger``` abil märgime peale rääkija,\n",
    "* ```TextSegmentsTagger``` abil märgime peale kõnelejale vastava repliigi. "
   ]
  },
  {
   "cell_type": "markdown",
   "metadata": {},
   "source": [
    "### Kõnelejale vastav regulaaravaldis\n",
    "\n",
    "Kuna kõnetuvastuse väljund on selgete struktuuriga, siis on vastava regulaaravaldise leidmine üsna lihtne.\n",
    "Tavaliselt on kerge leida ka muude tekstide erinevaid alamosasid eraldavate struktuurielemetidele \n",
    "(lõikude nummerdus, kuupäevaline kirje päis, jms) vastavaid mustreid. \n",
    "\n",
    "Igal juhul on vastava regulaaravaldise tuletamiseks ja testimiseks vaja võtta illustreerivad näited. Nendest saab hiljem luua ka ühiktesti, mille abil tulevikus tagada funktsionaalsuse säilimine edasisel mustrite täiendamisel."
   ]
  },
  {
   "cell_type": "code",
   "execution_count": 3,
   "metadata": {},
   "outputs": [],
   "source": [
    "import re"
   ]
  },
  {
   "cell_type": "code",
   "execution_count": 4,
   "metadata": {},
   "outputs": [],
   "source": [
    "test_text =  'K01: Kuku...\\n-:\\nArtur Talvik: Tere, siin on...'"
   ]
  },
  {
   "cell_type": "markdown",
   "metadata": {},
   "source": [
    "Kuna regulaaravaldistest arusaamine on keerukas, siis teeme seda sammhaaval. \n",
    "Selleks, et mitte takerduda paosümbolite (*escape symbols*) rägastikku, on mõistlik kasutada formaati `r'sõne'`.\n",
    "Nii ei ole vaja regulaaravalidiste paosümboleid mitmekordselt pagendada."
   ]
  },
  {
   "cell_type": "code",
   "execution_count": 5,
   "metadata": {},
   "outputs": [
    {
     "name": "stdout",
     "output_type": "stream",
     "text": [
      "['K']\n",
      "[('K', ''), ('\\n-', '\\n'), ('\\nA', '\\n')]\n",
      "[('K01:', ''), ('\\n-:', '\\n'), ('\\nArtur Talvik:', '\\n')]\n"
     ]
    }
   ],
   "source": [
    "print(re.findall(r'^.',test_text))\n",
    "print(re.findall(r'((^|\\n).)',test_text))\n",
    "print(re.findall(r'((^|\\n).*:)',test_text))"
   ]
  },
  {
   "cell_type": "markdown",
   "metadata": {},
   "source": [
    "Et edaspidi oleks lihtsam, tuleks regulaaravaldise osadele anda nimed:\n",
    "* ```name``` - kõneleja nimi,\n",
    "* ```span``` - kõneleja fikseeriv tekstifragment."
   ]
  },
  {
   "cell_type": "code",
   "execution_count": 6,
   "metadata": {},
   "outputs": [
    {
     "name": "stdout",
     "output_type": "stream",
     "text": [
      "['K01', '-', 'Artur Talvik']\n",
      "['K01: ', '-:', 'Artur Talvik: ']\n",
      "['K01: ', '\\n-:', '\\nArtur Talvik: ']\n"
     ]
    }
   ],
   "source": [
    "pattern = r'((^|\\n)(?P<span>(?P<name>.*): ?))'\n",
    "print([match.group('name') for match in re.finditer(pattern, test_text)])\n",
    "print([match.group('span') for match in re.finditer(pattern, test_text)])\n",
    "print([match.group() for match in re.finditer(pattern, test_text)])"
   ]
  },
  {
   "cell_type": "markdown",
   "metadata": {},
   "source": [
    "### RegexTagger mustrisõnastik\n",
    "\n",
    "Märgendaja ```RegexTagger``` defineerimiseks on peale mustrite vaja veel määrata:\n",
    "* ```_regex_pattern_``` - regulaaravaldise muster,\n",
    "* ```_group_``` - tekstifragmenti (*spani*) defineeriv regulaaravaldise grupp,\n",
    "* ```_priority_``` - mustri prioriteet konfliktide korral,\n",
    "* ```_validator_``` - validaator valepositiivsete vastete eemldamiseks.\n",
    "\n",
    "Esimesed kaks parameetrit on alati vajalikud. Meie näites on meil märgendamiseks vajalik vaid üks muster. "
   ]
  },
  {
   "cell_type": "code",
   "execution_count": 7,
   "metadata": {},
   "outputs": [],
   "source": [
    "header_voc_1 = \\\n",
    "[{\n",
    "    '_regex_pattern_': pattern,\n",
    "    '_group_': 'span',\n",
    "}]"
   ]
  },
  {
   "cell_type": "markdown",
   "metadata": {},
   "source": [
    "Lisaks on mõistlik defineerida ka tekstifragmentidele (*spanidele*) vastavad annotatsiooniatribuudid (kõneleja isik). \n",
    "Selleks tuleb anda ette funktsioon, mis võttab sisse kogu regulaaravalidsele vastava ```Match``` objekti ja tuletab sellest atribuudi väärtuse.  "
   ]
  },
  {
   "cell_type": "code",
   "execution_count": 8,
   "metadata": {},
   "outputs": [],
   "source": [
    "header_voc_2 = \\\n",
    "[{\n",
    "    '_regex_pattern_': pattern,\n",
    "    '_group_': 'span',\n",
    "    'person': lambda m: m.group('name') \n",
    "}]"
   ]
  },
  {
   "cell_type": "code",
   "execution_count": 9,
   "metadata": {},
   "outputs": [],
   "source": [
    "header_voc_3 = \\\n",
    "[{\n",
    "    '_regex_pattern_': pattern,\n",
    "    '_group_': 'span',\n",
    "    '_validator_': lambda m: m.group('span') != '-:', \n",
    "    'person': lambda m: m.group('name') \n",
    "}]"
   ]
  },
  {
   "cell_type": "markdown",
   "metadata": {},
   "source": [
    "### Märgendaja enda loomine\n",
    "\n",
    "Märgendaja `RegexTagger` loomisel on tarvis alati määrata kolm peamist parameetrit:\n",
    "\n",
    "* `vocabulary` - mustrisõnastik,\n",
    "* `output_layer` - väljundkihi nimi,\n",
    "* `output_attributes` - väljundkihti tellitavate atribuutide nimed.\n",
    "\n",
    "Lisaks saab mängida erinevate täpishäälestust võimaldavate parameetritega:\n",
    "* `ambiguous` - kas leitud märgendused võib olla mitu annotatsiooni,\n",
    "* `conflict_resolving_strategy` - mida teha kui regulaaravalistele vastavad fragmendid on ülekattes \n",
    "* `overlapped, ignore_case` - lisaargumendid argumendid `re.finditer` funktsiooni häälestamiseks\n",
    "\n",
    "Täpishäälestuse parameetreid on enamasti vaja vaid siis, kui mustrisõnastik käitub ootamatult ning on tarvis aru saada, mis läks valesti.  "
   ]
  },
  {
   "cell_type": "code",
   "execution_count": 12,
   "metadata": {},
   "outputs": [],
   "source": [
    "from estnltk import Text\n",
    "from estnltk.taggers import RegexTagger"
   ]
  },
  {
   "cell_type": "markdown",
   "metadata": {},
   "source": [
    "Tekstifragmente ei pea attribuutidega annoteerima. "
   ]
  },
  {
   "cell_type": "code",
   "execution_count": 13,
   "metadata": {},
   "outputs": [
    {
     "data": {
      "text/html": [
       "<h4>Layer</h4>\n",
       "\n",
       "\n",
       "<table border=\"1\" class=\"dataframe\">\n",
       "  <thead>\n",
       "    <tr style=\"text-align: right;\">\n",
       "      <th>layer name</th>\n",
       "      <th>attributes</th>\n",
       "      <th>parent</th>\n",
       "      <th>enveloping</th>\n",
       "      <th>ambiguous</th>\n",
       "      <th>span count</th>\n",
       "    </tr>\n",
       "  </thead>\n",
       "  <tbody>\n",
       "    <tr>\n",
       "      <td>headers</td>\n",
       "      <td></td>\n",
       "      <td>None</td>\n",
       "      <td>None</td>\n",
       "      <td>False</td>\n",
       "      <td>5</td>\n",
       "    </tr>\n",
       "  </tbody>\n",
       "</table>\n",
       "<table border=\"1\" class=\"dataframe\">\n",
       "  <thead>\n",
       "    <tr style=\"text-align: right;\">\n",
       "      <th>text</th>\n",
       "    </tr>\n",
       "  </thead>\n",
       "  <tbody>\n",
       "    <tr>\n",
       "      <td>K01:</td>\n",
       "    </tr>\n",
       "    <tr>\n",
       "      <td>-:</td>\n",
       "    </tr>\n",
       "    <tr>\n",
       "      <td>K02:</td>\n",
       "    </tr>\n",
       "    <tr>\n",
       "      <td>-:</td>\n",
       "    </tr>\n",
       "    <tr>\n",
       "      <td>K06:</td>\n",
       "    </tr>\n",
       "  </tbody>\n",
       "</table>"
      ],
      "text/plain": [
       "Layer(name='headers', attributes=(), spans=SL[Span('K01: ', [{}]),\n",
       "Span('-:', [{}]),\n",
       "Span('K02: ', [{}]),\n",
       "Span('-:', [{}]),\n",
       "Span('K06: ', [{}])])"
      ]
     },
     "metadata": {},
     "output_type": "display_data"
    }
   ],
   "source": [
    "tagger = RegexTagger(vocabulary = header_voc_1, output_layer = 'headers') \n",
    "text = tagger.tag(Text(raw_text))\n",
    "display(text.headers[:5])"
   ]
  },
  {
   "cell_type": "markdown",
   "metadata": {},
   "source": [
    "Märgendaja lisab tekstifragmentidele atribuudi ainult siis, kui:\n",
    "\n",
    "* vastav atribuut on tellitud väljundkihti,\n",
    "* mustrisõnastikus on reegel atribuudi arvutamiseks.\n"
   ]
  },
  {
   "cell_type": "code",
   "execution_count": 15,
   "metadata": {},
   "outputs": [
    {
     "data": {
      "text/html": [
       "<h4>Layer</h4>\n",
       "\n",
       "\n",
       "<table border=\"1\" class=\"dataframe\">\n",
       "  <thead>\n",
       "    <tr style=\"text-align: right;\">\n",
       "      <th>layer name</th>\n",
       "      <th>attributes</th>\n",
       "      <th>parent</th>\n",
       "      <th>enveloping</th>\n",
       "      <th>ambiguous</th>\n",
       "      <th>span count</th>\n",
       "    </tr>\n",
       "  </thead>\n",
       "  <tbody>\n",
       "    <tr>\n",
       "      <td>headers</td>\n",
       "      <td></td>\n",
       "      <td>None</td>\n",
       "      <td>None</td>\n",
       "      <td>False</td>\n",
       "      <td>3</td>\n",
       "    </tr>\n",
       "  </tbody>\n",
       "</table>\n",
       "<table border=\"1\" class=\"dataframe\">\n",
       "  <thead>\n",
       "    <tr style=\"text-align: right;\">\n",
       "      <th>text</th>\n",
       "    </tr>\n",
       "  </thead>\n",
       "  <tbody>\n",
       "    <tr>\n",
       "      <td>K01:</td>\n",
       "    </tr>\n",
       "    <tr>\n",
       "      <td>-:</td>\n",
       "    </tr>\n",
       "    <tr>\n",
       "      <td>K02:</td>\n",
       "    </tr>\n",
       "  </tbody>\n",
       "</table>"
      ],
      "text/plain": [
       "Layer(name='headers', attributes=(), spans=SL[Span('K01: ', [{}]),\n",
       "Span('-:', [{}]),\n",
       "Span('K02: ', [{}])])"
      ]
     },
     "metadata": {},
     "output_type": "display_data"
    },
    {
     "data": {
      "text/html": [
       "<h4>Layer</h4>\n",
       "\n",
       "\n",
       "<table border=\"1\" class=\"dataframe\">\n",
       "  <thead>\n",
       "    <tr style=\"text-align: right;\">\n",
       "      <th>layer name</th>\n",
       "      <th>attributes</th>\n",
       "      <th>parent</th>\n",
       "      <th>enveloping</th>\n",
       "      <th>ambiguous</th>\n",
       "      <th>span count</th>\n",
       "    </tr>\n",
       "  </thead>\n",
       "  <tbody>\n",
       "    <tr>\n",
       "      <td>headers</td>\n",
       "      <td>person</td>\n",
       "      <td>None</td>\n",
       "      <td>None</td>\n",
       "      <td>False</td>\n",
       "      <td>3</td>\n",
       "    </tr>\n",
       "  </tbody>\n",
       "</table>\n",
       "<table border=\"1\" class=\"dataframe\">\n",
       "  <thead>\n",
       "    <tr style=\"text-align: right;\">\n",
       "      <th>text</th>\n",
       "      <th>person</th>\n",
       "    </tr>\n",
       "  </thead>\n",
       "  <tbody>\n",
       "    <tr>\n",
       "      <td>K01:</td>\n",
       "      <td>K01</td>\n",
       "    </tr>\n",
       "    <tr>\n",
       "      <td>-:</td>\n",
       "      <td>-</td>\n",
       "    </tr>\n",
       "    <tr>\n",
       "      <td>K02:</td>\n",
       "      <td>K02</td>\n",
       "    </tr>\n",
       "  </tbody>\n",
       "</table>"
      ],
      "text/plain": [
       "Layer(name='headers', attributes=('person',), spans=SL[Span('K01: ', [{'person': 'K01'}]),\n",
       "Span('-:', [{'person': '-'}]),\n",
       "Span('K02: ', [{'person': 'K02'}])])"
      ]
     },
     "metadata": {},
     "output_type": "display_data"
    }
   ],
   "source": [
    "# Atribuut person pole tellitud\n",
    "tagger = RegexTagger(vocabulary = header_voc_2, output_layer = 'headers') \n",
    "text = tagger.tag(Text(raw_text))\n",
    "display(text.headers[:3])\n",
    "\n",
    "# Atribuut person on tellitud \n",
    "tagger = RegexTagger(\n",
    "    vocabulary = header_voc_2, \n",
    "    output_layer = 'headers',\n",
    "    output_attributes = ['person']\n",
    ") \n",
    "\n",
    "text = tagger.tag(Text(raw_text))\n",
    "display(text.headers[:3])"
   ]
  },
  {
   "cell_type": "markdown",
   "metadata": {},
   "source": [
    "### Teksti segmenteerimine erinevate inimeste kõneks\n",
    "\n",
    "Järgmiseks loomulikuks sammuks on repliikide eraldamine tekstist. Selle käigus on mõistlik kõneleja isik panna eraldi atribuudiks.\n",
    "Jällegi on tegemist standardse teksti struktureerimise ülesandega, mille käigus jagatakse põhitekst päiste (*header*) järgi osadeks. \n",
    "\n",
    "Selle jaoks on EstNLTK teegis olemas `TextSegmentsTagger` märgendaja, mille loomisel tuleb määrata parameetrid:\n",
    "\n",
    "* `input_layer` - päiselementide kiht,\n",
    "* `output_layer` - väljundkiht,\n",
    "* `output_attributes` - väljundkihti tellitavate atribuutide nimekiri."
   ]
  },
  {
   "cell_type": "code",
   "execution_count": 16,
   "metadata": {},
   "outputs": [],
   "source": [
    "from estnltk.taggers import TextSegmentsTagger"
   ]
  },
  {
   "cell_type": "code",
   "execution_count": 17,
   "metadata": {},
   "outputs": [
    {
     "data": {
      "text/html": [
       "<h4>Layer</h4>\n",
       "\n",
       "\n",
       "<table border=\"1\" class=\"dataframe\">\n",
       "  <thead>\n",
       "    <tr style=\"text-align: right;\">\n",
       "      <th>layer name</th>\n",
       "      <th>attributes</th>\n",
       "      <th>parent</th>\n",
       "      <th>enveloping</th>\n",
       "      <th>ambiguous</th>\n",
       "      <th>span count</th>\n",
       "    </tr>\n",
       "  </thead>\n",
       "  <tbody>\n",
       "    <tr>\n",
       "      <td>lines</td>\n",
       "      <td>person</td>\n",
       "      <td>None</td>\n",
       "      <td>None</td>\n",
       "      <td>False</td>\n",
       "      <td>5</td>\n",
       "    </tr>\n",
       "  </tbody>\n",
       "</table>\n",
       "<table border=\"1\" class=\"dataframe\">\n",
       "  <thead>\n",
       "    <tr style=\"text-align: right;\">\n",
       "      <th>text</th>\n",
       "      <th>person</th>\n",
       "    </tr>\n",
       "  </thead>\n",
       "  <tbody>\n",
       "    <tr>\n",
       "      <td>Kuku raadios välja öeldud seisukohad ei pea ühtima Kuku raadio seisukohtadega. T ..., type: &lt;class 'str'&gt;, length: 104</td>\n",
       "      <td>None</td>\n",
       "    </tr>\n",
       "    <tr>\n",
       "      <td>\\n</td>\n",
       "      <td>None</td>\n",
       "    </tr>\n",
       "    <tr>\n",
       "      <td>Breivik tahtis proovida, mismoodi õhu lenn Sid raisakotkas kohe appi pahenduse,  ..., type: &lt;class 'str'&gt;, length: 243</td>\n",
       "      <td>None</td>\n",
       "    </tr>\n",
       "    <tr>\n",
       "      <td>\\n</td>\n",
       "      <td>None</td>\n",
       "    </tr>\n",
       "    <tr>\n",
       "      <td>Ta oli liiga uudis ainult koduvabariigist.\\n</td>\n",
       "      <td>None</td>\n",
       "    </tr>\n",
       "  </tbody>\n",
       "</table>"
      ],
      "text/plain": [
       "Layer(name='lines', attributes=('person',), spans=SL[Span('Kuku raadios välja öeldud seisukohad ei pea ühtima Kuku raadio seisukohtadega. Te kuulate Kuku raadiot?\\n', [{'person': None}]),\n",
       "Span('\\n', [{'person': None}]),\n",
       "Span('Breivik tahtis proovida, mismoodi õhu lenn Sid raisakotkas kohe appi pahenduse, kui õhusegasse Aalto tegi, kaval linn. Natuurist haaras, pärdik öeldes kuuleb. Palun lenda sirgelt. Palun lenda kõrge. Võtta asja kerge, tappa maha, ära päädhabi.\\n', [{'person': None}]),\n",
       "Span('\\n', [{'person': None}]),\n",
       "Span('Ta oli liiga uudis ainult koduvabariigist.\\n', [{'person': None}])])"
      ]
     },
     "execution_count": 17,
     "metadata": {},
     "output_type": "execute_result"
    }
   ],
   "source": [
    "tagger = TextSegmentsTagger(\n",
    "    input_layer = 'headers', \n",
    "    output_layer = 'lines',\n",
    "    output_attributes = ['person'])\n",
    "\n",
    "tagger.tag(text)\n",
    "text.lines[:5]"
   ]
  },
  {
   "cell_type": "markdown",
   "metadata": {},
   "source": [
    "Saadud tulemus on vigane.\n",
    "\n",
    "* Repliikide hulka on sattunud ka tühje tekste.\n",
    "* Kuigi `person` on tellinud väljundkihti, siis ei jõua selle väärtus atribuutide hulka.\n",
    "\n",
    "Nende probleemide lahendamiseks tuleb `TextSegmentsTagger` loomisel määrata parameetrid:\n",
    "\n",
    "* `validator` - funktsioon päiste täiendavaks valideerimiseks,\n",
    "* `decorator` - funktsioon tellitud attribuutide väärtuste arvutamiseks.\n",
    "\n",
    "Viimaks saab parameetriga \n",
    "\n",
    "* `include_header` - määrata kas päiselement kuulub tekstifragmendi koosseisu või mitte. \n",
    "\n",
    "Tüüpiliselt on mõistlik päisest mõelda kui tekstifragmendile vastavast metainfost ja seega see ei peaks see olema teksti osa. "
   ]
  },
  {
   "cell_type": "code",
   "execution_count": 19,
   "metadata": {},
   "outputs": [
    {
     "data": {
      "text/html": [
       "<h4>Layer</h4>\n",
       "\n",
       "\n",
       "<table border=\"1\" class=\"dataframe\">\n",
       "  <thead>\n",
       "    <tr style=\"text-align: right;\">\n",
       "      <th>layer name</th>\n",
       "      <th>attributes</th>\n",
       "      <th>parent</th>\n",
       "      <th>enveloping</th>\n",
       "      <th>ambiguous</th>\n",
       "      <th>span count</th>\n",
       "    </tr>\n",
       "  </thead>\n",
       "  <tbody>\n",
       "    <tr>\n",
       "      <td>lines</td>\n",
       "      <td>person</td>\n",
       "      <td>None</td>\n",
       "      <td>None</td>\n",
       "      <td>False</td>\n",
       "      <td>5</td>\n",
       "    </tr>\n",
       "  </tbody>\n",
       "</table>\n",
       "<table border=\"1\" class=\"dataframe\">\n",
       "  <thead>\n",
       "    <tr style=\"text-align: right;\">\n",
       "      <th>text</th>\n",
       "      <th>person</th>\n",
       "    </tr>\n",
       "  </thead>\n",
       "  <tbody>\n",
       "    <tr>\n",
       "      <td>Kuku raadios välja öeldud seisukohad ei pea ühtima Kuku raadio seisukohtadega. T ..., type: &lt;class 'str'&gt;, length: 107</td>\n",
       "      <td>K01</td>\n",
       "    </tr>\n",
       "    <tr>\n",
       "      <td>Breivik tahtis proovida, mismoodi õhu lenn Sid raisakotkas kohe appi pahenduse,  ..., type: &lt;class 'str'&gt;, length: 246</td>\n",
       "      <td>K02</td>\n",
       "    </tr>\n",
       "    <tr>\n",
       "      <td>Ta oli liiga uudis ainult koduvabariigist.\\n</td>\n",
       "      <td>K06</td>\n",
       "    </tr>\n",
       "    <tr>\n",
       "      <td>Tere, siin on Keskpäevatund ja Kuku raadio, Tallinna stuudios Urmas Jaagant, Ain ..., type: &lt;class 'str'&gt;, length: 952</td>\n",
       "      <td>Artur Talvik</td>\n",
       "    </tr>\n",
       "    <tr>\n",
       "      <td>Ma arvan, et asi on lihtne nagu tavapäraselt, et Gunnar Kobin ilmselt läks süste ..., type: &lt;class 'str'&gt;, length: 225</td>\n",
       "      <td>Ainar Ruussaar</td>\n",
       "    </tr>\n",
       "  </tbody>\n",
       "</table>"
      ],
      "text/plain": [
       "Layer(name='lines', attributes=('person',), spans=SL[Span('Kuku raadios välja öeldud seisukohad ei pea ühtima Kuku raadio seisukohtadega. Te kuulate Kuku raadiot?\\n-:\\n', [{'person': 'K01'}]),\n",
       "Span('Breivik tahtis proovida, mismoodi õhu lenn Sid raisakotkas kohe appi pahenduse, kui õhusegasse Aalto tegi, kaval linn. Natuurist haaras, pärdik öeldes kuuleb. Palun lenda sirgelt. Palun lenda kõrge. Võtta asja kerge, tappa maha, ära päädhabi.\\n-:\\n', [{'person': 'K02'}]),\n",
       "Span('Ta oli liiga uudis ainult koduvabariigist.\\n', [{'person': 'K06'}]),\n",
       "Span('Tere, siin on Keskpäevatund ja Kuku raadio, Tallinna stuudios Urmas Jaagant, Ainar Ruussaar ja Priit Hõbemägi. Mart Sander laulis lõbusa laulukese. Palun lenda sirgelt ja see laul on meie poolt tervituseks Gunnar kobinile. Kes kelle kohta hiljuti saime teada, et ta loobus Nordika juhi ametikohast, nimelt ta pidi Kobin alustama teisel septembril tordika juhina, aga ootamatult selgus, et ta on juba suvel oma ametikohast loobunud ja tõi ühe põhjusena välja selle, et ühiskonnas tekkinud suur diskussioon tema töötasu üle, mis oli siis viisteist tuhat bruto ühes kuus ei ole vastavuses tema tegeliku töö panusena. Et seda tema lauset oskan mina kahte moodi analüüsida, üks on see, et liiga, et talle makstakse liiga palju raha ja tema panuseks väikeseks, aga teisest küljest võiks mõelda ka niimoodi, et ta ütleb, et selle panuse eest, mis tema suudaks ettevõtte arengusse panna, on seda raha liiga vähe. Kuidas see asi tegelikult on, eks teab ta ise.\\n', [{'person': 'Artur Talvik'}]),\n",
       "Span('Ma arvan, et asi on lihtne nagu tavapäraselt, et Gunnar Kobin ilmselt läks süsteemi mille esiesmapilgul seal tundmaõppimisel said aru, et tema natuur, tema eesmärgid ja see süsteem, kuhu ta sattus ei klapi päris hästi kokku.\\n', [{'person': 'Ainar Ruussaar'}])])"
      ]
     },
     "metadata": {},
     "output_type": "display_data"
    },
    {
     "data": {
      "text/html": [
       "<b>Span</b>\n",
       "<table border=\"1\" class=\"dataframe\">\n",
       "  <thead>\n",
       "    <tr style=\"text-align: right;\">\n",
       "      <th>text</th>\n",
       "      <th>person</th>\n",
       "    </tr>\n",
       "  </thead>\n",
       "  <tbody>\n",
       "    <tr>\n",
       "      <td><span style=\"font-family: monospace; white-space: pre-wrap;\"><span style=\"text-decoration: underline;\">Kuku raadios välja öeldud seisukohad ei pea ühtima Kuku raadio seisukohtadega. Te kuulate Kuku raadiot?\\n-:\\n</span></span></td>\n",
       "      <td>K01</td>\n",
       "    </tr>\n",
       "  </tbody>\n",
       "</table>"
      ],
      "text/plain": [
       "Span('Kuku raadios välja öeldud seisukohad ei pea ühtima Kuku raadio seisukohtadega. Te kuulate Kuku raadiot?\\n-:\\n', [{'person': 'K01'}])"
      ]
     },
     "metadata": {},
     "output_type": "display_data"
    }
   ],
   "source": [
    "tagger = TextSegmentsTagger(\n",
    "    input_layer = 'headers', \n",
    "    output_layer = 'lines',\n",
    "    output_attributes = ['person'],\n",
    "    decorator = lambda header_span: {'person': header_span['person']},\n",
    "    validator = lambda header_span: header_span['person'] != '-' \n",
    ")\n",
    "\n",
    "if 'lines' in text.layers:\n",
    "    del text.lines\n",
    "\n",
    "tagger.tag(text)\n",
    "display(text.lines[:5])\n",
    "display(text.lines[0])"
   ]
  },
  {
   "cell_type": "markdown",
   "metadata": {},
   "source": [
    "Saadud tulemus on ikkagi vigane:\n",
    "\n",
    "* Ignoreeritud päiselemendid lähevad alles jäänud teksti fragmentide koosseisu.\n",
    "\n",
    "Tühjade tekstifragmentide eemaldamiseks saab kasutada funktsiooni `apply_filter`, aga hetkel jätame selle probleemi lahendamata."
   ]
  },
  {
   "cell_type": "code",
   "execution_count": 24,
   "metadata": {},
   "outputs": [
    {
     "data": {
      "text/html": [
       "<h4>Layer</h4>\n",
       "\n",
       "\n",
       "<table border=\"1\" class=\"dataframe\">\n",
       "  <thead>\n",
       "    <tr style=\"text-align: right;\">\n",
       "      <th>layer name</th>\n",
       "      <th>attributes</th>\n",
       "      <th>parent</th>\n",
       "      <th>enveloping</th>\n",
       "      <th>ambiguous</th>\n",
       "      <th>span count</th>\n",
       "    </tr>\n",
       "  </thead>\n",
       "  <tbody>\n",
       "    <tr>\n",
       "      <td>lines</td>\n",
       "      <td>person</td>\n",
       "      <td>None</td>\n",
       "      <td>None</td>\n",
       "      <td>False</td>\n",
       "      <td>5</td>\n",
       "    </tr>\n",
       "  </tbody>\n",
       "</table>\n",
       "<table border=\"1\" class=\"dataframe\">\n",
       "  <thead>\n",
       "    <tr style=\"text-align: right;\">\n",
       "      <th>text</th>\n",
       "      <th>person</th>\n",
       "    </tr>\n",
       "  </thead>\n",
       "  <tbody>\n",
       "    <tr>\n",
       "      <td>Kuku raadios välja öeldud seisukohad ei pea ühtima Kuku raadio seisukohtadega. T ..., type: &lt;class 'str'&gt;, length: 104</td>\n",
       "      <td>K01</td>\n",
       "    </tr>\n",
       "    <tr>\n",
       "      <td>\\n</td>\n",
       "      <td>-</td>\n",
       "    </tr>\n",
       "    <tr>\n",
       "      <td>Breivik tahtis proovida, mismoodi õhu lenn Sid raisakotkas kohe appi pahenduse,  ..., type: &lt;class 'str'&gt;, length: 243</td>\n",
       "      <td>K02</td>\n",
       "    </tr>\n",
       "    <tr>\n",
       "      <td>\\n</td>\n",
       "      <td>-</td>\n",
       "    </tr>\n",
       "    <tr>\n",
       "      <td>Ta oli liiga uudis ainult koduvabariigist.\\n</td>\n",
       "      <td>K06</td>\n",
       "    </tr>\n",
       "  </tbody>\n",
       "</table>"
      ],
      "text/plain": [
       "Layer(name='lines', attributes=('person',), spans=SL[Span('Kuku raadios välja öeldud seisukohad ei pea ühtima Kuku raadio seisukohtadega. Te kuulate Kuku raadiot?\\n', [{'person': 'K01'}]),\n",
       "Span('\\n', [{'person': '-'}]),\n",
       "Span('Breivik tahtis proovida, mismoodi õhu lenn Sid raisakotkas kohe appi pahenduse, kui õhusegasse Aalto tegi, kaval linn. Natuurist haaras, pärdik öeldes kuuleb. Palun lenda sirgelt. Palun lenda kõrge. Võtta asja kerge, tappa maha, ära päädhabi.\\n', [{'person': 'K02'}]),\n",
       "Span('\\n', [{'person': '-'}]),\n",
       "Span('Ta oli liiga uudis ainult koduvabariigist.\\n', [{'person': 'K06'}])])"
      ]
     },
     "metadata": {},
     "output_type": "display_data"
    },
    {
     "data": {
      "text/html": [
       "<b>Span</b>\n",
       "<table border=\"1\" class=\"dataframe\">\n",
       "  <thead>\n",
       "    <tr style=\"text-align: right;\">\n",
       "      <th>text</th>\n",
       "      <th>person</th>\n",
       "    </tr>\n",
       "  </thead>\n",
       "  <tbody>\n",
       "    <tr>\n",
       "      <td><span style=\"font-family: monospace; white-space: pre-wrap;\"><span style=\"text-decoration: underline;\">Kuku raadios välja öeldud seisukohad ei pea ühtima Kuku raadio seisukohtadega. Te kuulate Kuku raadiot?\\n</span></span></td>\n",
       "      <td>K01</td>\n",
       "    </tr>\n",
       "  </tbody>\n",
       "</table>"
      ],
      "text/plain": [
       "Span('Kuku raadios välja öeldud seisukohad ei pea ühtima Kuku raadio seisukohtadega. Te kuulate Kuku raadiot?\\n', [{'person': 'K01'}])"
      ]
     },
     "metadata": {},
     "output_type": "display_data"
    }
   ],
   "source": [
    "tagger = TextSegmentsTagger(\n",
    "    input_layer = 'headers', \n",
    "    output_layer = 'lines',\n",
    "    output_attributes = ['person'],\n",
    "    decorator = lambda header_span: {'person': header_span['person']}\n",
    ")\n",
    "if 'lines' in text.layers:\n",
    "    del text.lines\n",
    "tagger.tag(text)\n",
    "display(text.lines[:5])\n",
    "display(text.lines[0])"
   ]
  },
  {
   "cell_type": "markdown",
   "metadata": {},
   "source": [
    "### Segmentatsiooni esmane valideerimine\n",
    "\n",
    "Esmase korrektsuse hindamiseks kasutame kihi grupeerimisfunktsiooni, mis käitub analoogselt mooduli `Pandas` meetodiga `groupby`."
   ]
  },
  {
   "cell_type": "code",
   "execution_count": 25,
   "metadata": {},
   "outputs": [
    {
     "data": {
      "text/plain": [
       "{('K01',): 1,\n",
       " ('-',): 3,\n",
       " ('K02',): 1,\n",
       " ('K06',): 3,\n",
       " ('Artur Talvik',): 21,\n",
       " ('Ainar Ruussaar',): 16,\n",
       " ('K07',): 13,\n",
       " ('Ignar Fjuk',): 2}"
      ]
     },
     "execution_count": 25,
     "metadata": {},
     "output_type": "execute_result"
    }
   ],
   "source": [
    "text.lines.groupby(['person']).count"
   ]
  },
  {
   "cell_type": "markdown",
   "metadata": {},
   "source": [
    "Järgnev näide võimaldab uurida millised repliigid vastavad kõnelejale `K06`. "
   ]
  },
  {
   "cell_type": "code",
   "execution_count": 26,
   "metadata": {},
   "outputs": [
    {
     "name": "stdout",
     "output_type": "stream",
     "text": [
      "Ta oli liiga uudis ainult koduvabariigist.\n",
      "\n",
      "Ta on tähtajaline neli päevauudiseid koduvabariigist.\n",
      "\n",
      "Ta oli neli päevauudiseid koduvabariigist.\n",
      "\n"
     ]
    }
   ],
   "source": [
    "for span in text.lines.groupby(['person']).groups[('K06',)]:\n",
    "    print(span.text)\n"
   ]
  },
  {
   "cell_type": "markdown",
   "metadata": {},
   "source": [
    "Viimase kõige keerukama näidena leiame repliikide kogupikkuse tähemärkides. "
   ]
  },
  {
   "cell_type": "code",
   "execution_count": 27,
   "metadata": {},
   "outputs": [
    {
     "data": {
      "text/plain": [
       "{('K01',): 104,\n",
       " ('-',): 2,\n",
       " ('K02',): 243,\n",
       " ('K06',): 140,\n",
       " ('Artur Talvik',): 19145,\n",
       " ('Ainar Ruussaar',): 9171,\n",
       " ('K07',): 12607,\n",
       " ('Ignar Fjuk',): 30}"
      ]
     },
     "metadata": {},
     "output_type": "display_data"
    }
   ],
   "source": [
    "display(text.lines.groupby(['person'])\n",
    "      .aggregate(func = lambda spans: sum(s.end - s.start for s in spans)))"
   ]
  },
  {
   "cell_type": "markdown",
   "metadata": {},
   "source": [
    "Kuna Keskpäevatunnis on reeglina kolm osalejat, siis võib arvata, et märgend `K07` vastab Ignar Fjukile."
   ]
  },
  {
   "cell_type": "markdown",
   "metadata": {},
   "source": [
    "## 2. Tekstikollektsiooni loomine\n",
    "\n",
    "Järgnevas näites lisame kõikidele repliikidele vastavad tekstiobjektid Postgre andmebaasis olevasse tekstikollektsiooni. "
   ]
  },
  {
   "cell_type": "markdown",
   "metadata": {},
   "source": [
    "### Ühenduse loomine Postgre SQL andmebaasiga \n",
    "\n",
    "EstNLTK teegis defineeritakse ühenduse parameetrid läbi `PostgreStorage` klassi.  "
   ]
  },
  {
   "cell_type": "code",
   "execution_count": 28,
   "metadata": {},
   "outputs": [],
   "source": [
    "from estnltk.storage.postgres import PostgresStorage"
   ]
  },
  {
   "cell_type": "code",
   "execution_count": 29,
   "metadata": {},
   "outputs": [
    {
     "name": "stdout",
     "output_type": "stream",
     "text": [
      "INFO:storage.py:42: connecting to host: '127.0.0.1', port: 5432, dbname: 'ekt', user: 'swen'\n",
      "INFO:storage.py:58: schema: 'media_analysis', temporary: False, role: 'swen'\n"
     ]
    }
   ],
   "source": [
    "storage = PostgresStorage(host='127.0.0.1',\n",
    "                          port=5432,\n",
    "                          dbname='ekt',\n",
    "                          user='swen',\n",
    "                          password='kala',\n",
    "                          schema='media_analysis',\n",
    "                          role=None,\n",
    "                          temporary=False)"
   ]
  },
  {
   "cell_type": "markdown",
   "metadata": {},
   "source": [
    "Kui andmebaasis parameetritele vastavat skeemat pole siis tuleb see luua. \n",
    "Analoogselt saab ka kogu skeema kustutada."
   ]
  },
  {
   "cell_type": "code",
   "execution_count": 30,
   "metadata": {},
   "outputs": [],
   "source": [
    "from estnltk.storage.postgres import create_schema, delete_schema"
   ]
  },
  {
   "cell_type": "code",
   "execution_count": 36,
   "metadata": {},
   "outputs": [],
   "source": [
    "# create_schema(storage)\n",
    "# delete_schema(storage)"
   ]
  },
  {
   "cell_type": "markdown",
   "metadata": {},
   "source": [
    "Lisaks saab vaadata ka skeemasse kuuluvadi kollektsioone ning ühenduse parameetreid."
   ]
  },
  {
   "cell_type": "code",
   "execution_count": 37,
   "metadata": {},
   "outputs": [
    {
     "data": {
      "text/html": [
       "<b>PostgresStorage</b><br/>\n",
       "user=swen password=xxx dbname=ekt host=127.0.0.1 port=5432 schema=media_analysis<br/>temporary=False<br/>\n",
       "collection count: 0\n",
       "<br/>This storage has no collections."
      ],
      "text/plain": [
       "<estnltk.storage.postgres.storage.PostgresStorage at 0x1a204d9518>"
      ]
     },
     "execution_count": 37,
     "metadata": {},
     "output_type": "execute_result"
    }
   ],
   "source": [
    "storage"
   ]
  },
  {
   "cell_type": "markdown",
   "metadata": {},
   "source": [
    "### Tekstikollektsiooni formaadi fikseerimine\n",
    "\n",
    "Tekstikollektsiooni saab tekstidele lisaks salvestada ka metaandmeid. \n",
    "Metaandmeid hoitakse eraldiseisvates veergudes ning edaspidi on nende järgi lihtne ja kiire tekste grupeerida.\n",
    "Meie näite korral on teksti kirjeldavateks olulisteks metaatribuutideks:\n",
    "\n",
    "* kõneleja isik, \n",
    "* saate toimumise aeg.\n",
    "\n",
    "Neist esimene on sõne ja teine kuupäeva formaadis. Need andmeformaadid on EstNLTK poolt toetatud. "
   ]
  },
  {
   "cell_type": "code",
   "execution_count": 38,
   "metadata": {},
   "outputs": [
    {
     "name": "stdout",
     "output_type": "stream",
     "text": [
      "INFO:collection.py:107: new empty collection 'kpt' created\n"
     ]
    },
    {
     "data": {
      "text/html": [
       "<b>PgCollection</b><br/><b>name:</b> kpt<br/><b>storage:</b> PostgresStorage(user=swen password=xxx dbname=ekt host=127.0.0.1 port=5432 schema=media_analysis temporary=False)<br/><b>count objects:</b> 0<br/><b>Metadata</b><br/><table border=\"1\" class=\"dataframe\">\n",
       "  <thead>\n",
       "    <tr style=\"text-align: right;\">\n",
       "      <th></th>\n",
       "      <th>data type</th>\n",
       "    </tr>\n",
       "  </thead>\n",
       "  <tbody>\n",
       "    <tr>\n",
       "      <th>date</th>\n",
       "      <td>timestamp without time zone</td>\n",
       "    </tr>\n",
       "    <tr>\n",
       "      <th>person</th>\n",
       "      <td>text</td>\n",
       "    </tr>\n",
       "  </tbody>\n",
       "</table><b>Layers</b><br/>unknown"
      ],
      "text/plain": [
       "<estnltk.storage.postgres.collection.PgCollection at 0x1a206390b8>"
      ]
     },
     "execution_count": 38,
     "metadata": {},
     "output_type": "execute_result"
    }
   ],
   "source": [
    "# Metaatribuutide kirjeldus\n",
    "storage['kpt'].meta = {'date':'datetime', 'person':'str'}\n",
    "# Kollektsiooni formaadi fikseerimine\n",
    "storage['kpt'].create('Keskpäevatunni saadete automaatne transcriptsioon')"
   ]
  },
  {
   "cell_type": "markdown",
   "metadata": {},
   "source": [
    "Implementatsioonivea tõttu ei jäta tekstikollektsioon meelde tellitud metaatribuute ning need tuleb eraldi tellida. "
   ]
  },
  {
   "cell_type": "code",
   "execution_count": 39,
   "metadata": {},
   "outputs": [
    {
     "name": "stdout",
     "output_type": "stream",
     "text": [
      "['id', 'data']\n",
      "['id', 'data', 'date', 'person']\n"
     ]
    }
   ],
   "source": [
    "print(storage['kpt'].column_names)\n",
    "storage['kpt'].column_names += list(storage['kpt'].meta.keys())\n",
    "print(storage['kpt'].column_names)"
   ]
  },
  {
   "cell_type": "markdown",
   "metadata": {},
   "source": [
    "### Tekstide lisamine kollektsiooni\n",
    "\n",
    "Tekstide lisamiseks tuleb itereerida üle kõikide originaal failide:\n",
    "\n",
    "* luua esmane tekstobjekt,\n",
    "* märgendada igale tekstile repliigid, \n",
    "* luua iga repliigi jaoks eraldi tekstobjekt ning paigutada see kollektsiooni.\n",
    "\n",
    "Kuna eelnevalt on kogu vajalik töö ära tehtud, siis nüüd on vaja vaid kood kokku koguda."
   ]
  },
  {
   "cell_type": "code",
   "execution_count": 40,
   "metadata": {},
   "outputs": [],
   "source": [
    "import os\n",
    "from datetime import datetime"
   ]
  },
  {
   "cell_type": "code",
   "execution_count": 41,
   "metadata": {},
   "outputs": [],
   "source": [
    "header_voc_2 = \\\n",
    "[{\n",
    "    '_regex_pattern_': pattern,\n",
    "    '_group_': 'span',\n",
    "    'person': lambda m: m.group('name') \n",
    "}]\n",
    "\n",
    "header_tagger = RegexTagger(\n",
    "    vocabulary = header_voc_2, \n",
    "    output_layer = 'headers', \n",
    "    output_attributes = ['person'])"
   ]
  },
  {
   "cell_type": "code",
   "execution_count": 42,
   "metadata": {},
   "outputs": [],
   "source": [
    "segmenter = TextSegmentsTagger(\n",
    "    input_layer = 'headers', \n",
    "    output_layer = 'lines',\n",
    "    output_attributes = ['person'],\n",
    "    decorator = lambda span: {'person': span['person']},\n",
    ")"
   ]
  },
  {
   "cell_type": "code",
   "execution_count": 43,
   "metadata": {},
   "outputs": [
    {
     "name": "stdout",
     "output_type": "stream",
     "text": [
      "2019-09-07.txt\n",
      "INFO:collection.py:325: inserted 0 texts into the collection 'kpt'\n"
     ]
    },
    {
     "ename": "NameError",
     "evalue": "name 'codecs' is not defined",
     "output_type": "error",
     "traceback": [
      "\u001b[0;31m---------------------------------------------------------------------------\u001b[0m",
      "\u001b[0;31mNameError\u001b[0m                                 Traceback (most recent call last)",
      "\u001b[0;32m<ipython-input-43-88978a3cb5dd>\u001b[0m in \u001b[0;36m<module>\u001b[0;34m\u001b[0m\n\u001b[1;32m     11\u001b[0m         \u001b[0mprint\u001b[0m\u001b[0;34m(\u001b[0m\u001b[0mfilename\u001b[0m\u001b[0;34m)\u001b[0m\u001b[0;34m\u001b[0m\u001b[0;34m\u001b[0m\u001b[0m\n\u001b[1;32m     12\u001b[0m         \u001b[0mdate\u001b[0m \u001b[0;34m=\u001b[0m \u001b[0mdatetime\u001b[0m\u001b[0;34m.\u001b[0m\u001b[0mstrptime\u001b[0m\u001b[0;34m(\u001b[0m\u001b[0mre\u001b[0m\u001b[0;34m.\u001b[0m\u001b[0msearch\u001b[0m\u001b[0;34m(\u001b[0m\u001b[0;34mr'(?P<date>.*)\\.txt'\u001b[0m\u001b[0;34m,\u001b[0m \u001b[0mfilename\u001b[0m\u001b[0;34m)\u001b[0m\u001b[0;34m.\u001b[0m\u001b[0mgroup\u001b[0m\u001b[0;34m(\u001b[0m\u001b[0;34m'date'\u001b[0m\u001b[0;34m)\u001b[0m\u001b[0;34m,\u001b[0m\u001b[0;34m'%Y-%m-%d'\u001b[0m\u001b[0;34m)\u001b[0m\u001b[0;34m\u001b[0m\u001b[0;34m\u001b[0m\u001b[0m\n\u001b[0;32m---> 13\u001b[0;31m         \u001b[0mfile\u001b[0m \u001b[0;34m=\u001b[0m \u001b[0mcodecs\u001b[0m\u001b[0;34m.\u001b[0m\u001b[0mopen\u001b[0m\u001b[0;34m(\u001b[0m\u001b[0;34m\"data/kpt/{}\"\u001b[0m\u001b[0;34m.\u001b[0m\u001b[0mformat\u001b[0m\u001b[0;34m(\u001b[0m\u001b[0mfilename\u001b[0m\u001b[0;34m)\u001b[0m\u001b[0;34m,\u001b[0m \u001b[0;34m\"r\"\u001b[0m\u001b[0;34m,\u001b[0m \u001b[0;34m\"utf-8\"\u001b[0m\u001b[0;34m)\u001b[0m\u001b[0;34m\u001b[0m\u001b[0;34m\u001b[0m\u001b[0m\n\u001b[0m\u001b[1;32m     14\u001b[0m         \u001b[0mtext\u001b[0m \u001b[0;34m=\u001b[0m \u001b[0msegmenter\u001b[0m\u001b[0;34m(\u001b[0m\u001b[0mheader_tagger\u001b[0m\u001b[0;34m(\u001b[0m\u001b[0mText\u001b[0m\u001b[0;34m(\u001b[0m\u001b[0mfile\u001b[0m\u001b[0;34m.\u001b[0m\u001b[0mread\u001b[0m\u001b[0;34m(\u001b[0m\u001b[0;34m)\u001b[0m\u001b[0;34m)\u001b[0m\u001b[0;34m)\u001b[0m\u001b[0;34m)\u001b[0m\u001b[0;34m\u001b[0m\u001b[0;34m\u001b[0m\u001b[0m\n\u001b[1;32m     15\u001b[0m \u001b[0;34m\u001b[0m\u001b[0m\n",
      "\u001b[0;31mNameError\u001b[0m: name 'codecs' is not defined"
     ]
    }
   ],
   "source": [
    "collection = storage['kpt']\n",
    "directory = os.fsencode('data/kpt')\n",
    "\n",
    "with collection.insert() as collection_insert:\n",
    "\n",
    "    for file in os.listdir(directory):\n",
    "        filename = os.fsdecode(file)\n",
    "        if filename == 'readme.md':\n",
    "            continue\n",
    "        \n",
    "        print(filename)\n",
    "        date = datetime.strptime(re.search(r'(?P<date>.*)\\.txt', filename).group('date'),'%Y-%m-%d')\n",
    "        file = codecs.open(\"data/kpt/{}\".format(filename), \"r\", \"utf-8\")\n",
    "        text = segmenter(header_tagger(Text(file.read())))\n",
    "    \n",
    "        for span in text.lines:\n",
    "            \n",
    "            line = span.text.strip()\n",
    "            if line == '':\n",
    "                continue\n",
    "                \n",
    "            line_text = Text(line)\n",
    "            line_text.tag_layer(['compound_tokens', 'words', 'paragraphs'])\n",
    "            meta_data = {'date': date, 'person': span['person']}\n",
    "            collection_insert(text=line_text, meta_data=meta_data)"
   ]
  },
  {
   "cell_type": "markdown",
   "metadata": {},
   "source": [
    "## 3. Tekstikollektsiooni annoteerimine\n",
    "\n",
    "### Tekstikollektsiooni märgenduskihtide tüübid \n",
    "\n",
    "Märgenduskihid tekstikollektsioonis jagunevad kaheks:\n",
    "\n",
    "* esialgsed kihid (luuakse koos tekstiobjektiga).\n",
    "* eraldi seisvad kihid (neid saab pärast juurde teha).\n",
    "\n",
    "Kuna esialgsete kihtide muutmine eeldab tekstiobjekti muutmist, siis on mõistliklisada tekstile vaid need kihid, mida edasiste analüüsidega ei muudeta. Kõik ülejäänid kihid tuleks lisadada hiljem eraldi. Meie näites on esialgseteks kihtideks vaid segmentatsioonikihid, mida on vaja morfoloogiliseks analüüsiks. Kõik ülejäänud kihid lisame tekstidele hiljem juurde.\n",
    "\n",
    "Esialgseid kihte on võimalk vaadata vaadates kollektsiooni kuuluvat teksti."
   ]
  },
  {
   "cell_type": "code",
   "execution_count": null,
   "metadata": {},
   "outputs": [],
   "source": [
    "collection[0]"
   ]
  },
  {
   "cell_type": "markdown",
   "metadata": {},
   "source": [
    "### Uue kihi lisamine tekstikollektsiooni\n",
    "\n",
    "Tekstikollektsiooni uue kihi lisamikseks on kõige lihtsam viis, vajaliku märgendaja loomine ning selle rakendamine kogu kollektsioonile. \n",
    "Meie näiteks on selleks vabamorfile vastav märgendaja."
   ]
  },
  {
   "cell_type": "code",
   "execution_count": null,
   "metadata": {},
   "outputs": [],
   "source": [
    "from estnltk.taggers import VabamorfTagger "
   ]
  },
  {
   "cell_type": "code",
   "execution_count": null,
   "metadata": {},
   "outputs": [],
   "source": [
    "vabamorf = VabamorfTagger(disambiguate = True, output_layer = 'morph_analysis')\n",
    "collection.create_layer(tagger=vabamorf)"
   ]
  },
  {
   "cell_type": "markdown",
   "metadata": {},
   "source": [
    "Tulemust saab vaadata kollektsiooni vaadates. Sealjuures ei ole ilma täiendavate sammudeta kihti võimalik näha."
   ]
  },
  {
   "cell_type": "code",
   "execution_count": null,
   "metadata": {},
   "outputs": [],
   "source": [
    "display(collection)\n",
    "display(collection[0])"
   ]
  },
  {
   "cell_type": "markdown",
   "metadata": {},
   "source": [
    "### Naiivne nimeolemi tuvastus\n",
    "\n",
    "Järgnevas näitame kuidas saab repliikide peale märkida mõned olulised nimeolemid, mille sagedust saaks näiteks hiljem ajas jälgida. Meie eesmärgiks on siin vaid süsteemi tutvustamine mitte parim täpsus. "
   ]
  },
  {
   "cell_type": "code",
   "execution_count": null,
   "metadata": {},
   "outputs": [],
   "source": [
    "text = Text(raw_text).analyse('morphology')\n",
    "text.morph_analysis[:5]"
   ]
  },
  {
   "cell_type": "markdown",
   "metadata": {},
   "source": [
    "Vaatame sagedasi lemmasid tuvastamaks oluliste fraaside põhju."
   ]
  },
  {
   "cell_type": "code",
   "execution_count": null,
   "metadata": {},
   "outputs": [],
   "source": [
    "lemma_freq = text.morph_analysis.groupby(['lemma']).count\n",
    "sorted(lemma_freq.items(), key=lambda x: x[1], reverse=True)"
   ]
  },
  {
   "cell_type": "code",
   "execution_count": null,
   "metadata": {},
   "outputs": [],
   "source": [
    "from estnltk.taggers import PhraseTagger"
   ]
  },
  {
   "cell_type": "code",
   "execution_count": null,
   "metadata": {},
   "outputs": [],
   "source": [
    "entity_voc=[\n",
    "{\n",
    "    '_phrase_': ('kuku', 'raadio'),\n",
    "    'entity': 'Kuku Raadio'\n",
    "},\n",
    "{\n",
    "    '_phrase_': ('keskerakond',),\n",
    "    'entity': 'Keskerakond' \n",
    "},\n",
    "{\n",
    "    '_phrase_': ('Keskerakond',),\n",
    "    'entity': 'Keskerakond' \n",
    "},\n",
    "\n",
    "{\n",
    "    '_phrase_': ('Eesti',),\n",
    "    'entity': 'Eesti'\n",
    "},\n",
    "{\n",
    "    '_phrase_': ('Ukraina',),\n",
    "    'entity': 'Ukraina'\n",
    "}   \n",
    "]"
   ]
  },
  {
   "cell_type": "code",
   "execution_count": null,
   "metadata": {},
   "outputs": [],
   "source": [
    "entity_tagger=PhraseTagger(\n",
    "    output_layer='entities',\n",
    "    output_attributes=['entity'],\n",
    "    input_layer='morph_analysis', \n",
    "    input_attribute='lemma',\n",
    "    vocabulary=entity_voc, \n",
    "    key='_phrase_')"
   ]
  },
  {
   "cell_type": "code",
   "execution_count": null,
   "metadata": {},
   "outputs": [],
   "source": [
    "if 'entities' in text.layers:\n",
    "    del text.entities\n",
    "entity_tagger(text)\n",
    "text.entities.groupby(['entity']).count"
   ]
  },
  {
   "cell_type": "markdown",
   "metadata": {},
   "source": [
    "Lets run the corresponding tagger on the entire text collection."
   ]
  },
  {
   "cell_type": "code",
   "execution_count": null,
   "metadata": {},
   "outputs": [],
   "source": [
    "collection.create_layer(tagger=entity_tagger)\n",
    "collection"
   ]
  },
  {
   "cell_type": "markdown",
   "metadata": {},
   "source": [
    "### Tulemuste kiire vaatamine\n",
    "\n",
    "Selleks et tulemust näha, tuleb eraldi loodud kiht lülitada tekstobjekti rekonstrueerimisel kasutatavate kihtide loetellu. "
   ]
  },
  {
   "cell_type": "code",
   "execution_count": null,
   "metadata": {},
   "outputs": [],
   "source": [
    "collection.selected_layers.append('entities')\n",
    "collection.selected_layers"
   ]
  },
  {
   "cell_type": "code",
   "execution_count": null,
   "metadata": {},
   "outputs": [],
   "source": [
    "display(collection[0].text)\n",
    "display(collection[0].entities)"
   ]
  },
  {
   "cell_type": "markdown",
   "metadata": {},
   "source": [
    "## 4. Päringud tekstikollektsiooni\n",
    "\n",
    "Päringuid on vaja selleks, et valida välja teatud kriteeriumidele vastavad tekstid. \n",
    "Selleks on vaja luua päringuobjekt ning rakendada seda kogu kollektsioonile või alamkollektsioonile.\n",
    "Erinevaid päringuobjekte on mitmeid ning neid saab kombineerida. \n",
    "\n",
    "### Kihipäringud\n",
    "Vaatame esmalt kihipäringuid, et tuvastada, millised nimeolemid esinevad Kuku Raadioga samas repliigis.  "
   ]
  },
  {
   "cell_type": "code",
   "execution_count": null,
   "metadata": {},
   "outputs": [],
   "source": [
    "from estnltk.storage.postgres import JsonbLayerQuery"
   ]
  },
  {
   "cell_type": "code",
   "execution_count": null,
   "metadata": {},
   "outputs": [],
   "source": [
    "layer_query ={'entities': JsonbLayerQuery('entities', entity='Kuku Raadio')}"
   ]
  },
  {
   "cell_type": "code",
   "execution_count": null,
   "metadata": {},
   "outputs": [],
   "source": [
    "for key, text, meta in collection.select(\n",
    "    layer_query=layer_query,\n",
    "    layers=['entities'],\n",
    "    return_index=True,\n",
    "    collection_meta=['person', 'date']):\n",
    "    display(text.entities)"
   ]
  },
  {
   "cell_type": "markdown",
   "metadata": {},
   "source": [
    "### Päringud originaalsele tekstiobjektile\n",
    "\n",
    "Esialgsetele kihtidele saab teha päringuid läbi tekstipäringute, aga siis peavad vastavad kihid sisaldama atribuute. Meie ühelgil kihil pole atribuute, kuna `text` pole päris atribuut. Seega ei saa me ühtegi huvitavat päringut teha."
   ]
  },
  {
   "cell_type": "code",
   "execution_count": null,
   "metadata": {},
   "outputs": [],
   "source": [
    "from estnltk.storage.postgres import JsonbTextQuery"
   ]
  },
  {
   "cell_type": "code",
   "execution_count": null,
   "metadata": {},
   "outputs": [],
   "source": [
    "collection.select(query=JsonbTextQuery('tokens', text='raadios')).head()"
   ]
  },
  {
   "cell_type": "markdown",
   "metadata": {},
   "source": [
    "### Päringud alustekstile\n",
    "\n",
    "Leidub eraldi päringuobjekt alusteksti alamsõnede otsimiseks. Seda on kasulik kasutada otsingufaasis."
   ]
  },
  {
   "cell_type": "code",
   "execution_count": null,
   "metadata": {},
   "outputs": [],
   "source": [
    "from estnltk.storage.postgres import SubstringQuery"
   ]
  },
  {
   "cell_type": "code",
   "execution_count": null,
   "metadata": {},
   "outputs": [],
   "source": [
    "collection.select(SubstringQuery('kuku')).head(2)\n"
   ]
  },
  {
   "cell_type": "markdown",
   "metadata": {},
   "source": [
    "## 5. Andmebaasiühenduse sulgemine"
   ]
  },
  {
   "cell_type": "markdown",
   "metadata": {},
   "source": [
    "Ühenduse sulgemine."
   ]
  },
  {
   "cell_type": "code",
   "execution_count": null,
   "metadata": {},
   "outputs": [],
   "source": [
    "storage.close()"
   ]
  },
  {
   "cell_type": "markdown",
   "metadata": {},
   "source": [
    "Käsud Postgre objektide kustutamiseks."
   ]
  },
  {
   "cell_type": "code",
   "execution_count": null,
   "metadata": {},
   "outputs": [],
   "source": [
    "# storage.delete('kpt')\n",
    "# storage['kpt'].delete()"
   ]
  }
 ],
 "metadata": {
  "kernelspec": {
   "display_name": "Python 3",
   "language": "python",
   "name": "python3"
  },
  "language_info": {
   "codemirror_mode": {
    "name": "ipython",
    "version": 3
   },
   "file_extension": ".py",
   "mimetype": "text/x-python",
   "name": "python",
   "nbconvert_exporter": "python",
   "pygments_lexer": "ipython3",
   "version": "3.6.9"
  }
 },
 "nbformat": 4,
 "nbformat_minor": 2
}
