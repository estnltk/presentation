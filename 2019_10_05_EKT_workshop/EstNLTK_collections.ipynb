{
 "cells": [
  {
   "cell_type": "markdown",
   "metadata": {},
   "source": [
    "# Tekstikolletsioonid ja nende kasutamine\n",
    "\n",
    "Tekstikollekstsioonide (*korpuste*)  töötlemiseks on olemas kaks põhimõttelist võimalust:\n",
    "\n",
    "* tekstid on salvestatud failidena (*pickle*),\n",
    "* tekstid on salvestatud andmebaasi objektidena.\n",
    "\n",
    "Andmebaasi kasutamise eeliseks on parem otsitavus ning võimalus kasutada olemasolevaid algoritme.\n",
    "\n",
    "* EstNLTK 1.4 teek kasutab [ElasticSearch](https://www.elastic.co/products/elasticsearch) otsingumootorit teksikollektsioonide salvestamiseks. \n",
    "* EstNLTK 1.6 teek kasutab [PostgreSQL](https://www.postgresql.org) andmebaasi teksikollektsioonide salvestamiseks. \n",
    "\n",
    "PostgreSQL eeliseks:\n",
    "\n",
    "* stabiilne API,\n",
    "* ennustatav resursi kulu,\n",
    "* parem skaleeruvus praktiliste andmemahtude juures,\n",
    "* lihtsam integreeritavus olemasolevasse it-taristusse.\n",
    "\n",
    "### Tüüpilised sammud tekstikollektsioonide töötamisel \n",
    "* Tekstikollektsiooni loomine\n",
    "* Tekstikollektsiooni annoteerimine\n",
    "* Tekstikollektsioonidest otsimine\n"
   ]
  },
  {
   "cell_type": "markdown",
   "metadata": {},
   "source": [
    "## 0. Ettevalmistavad sammud \n",
    "\n",
    "Selleks et Jupyteriga oleks lihtsam töötada tuleks soovitusi muuta agresiivsemaks (*autocomplete*)."
   ]
  },
  {
   "cell_type": "code",
   "execution_count": 1,
   "metadata": {},
   "outputs": [],
   "source": [
    "%config IPCompleter.greedy=True"
   ]
  },
  {
   "cell_type": "markdown",
   "metadata": {},
   "source": [
    "See võimaldab meil *Tab*-iga küsida objekti meetodeid ning *Shift+Tab*-iga küsida funktsioonide dokumentatsiooni."
   ]
  },
  {
   "cell_type": "markdown",
   "metadata": {},
   "source": [
    "## 1. Tekstikollektsioonide loomine failidest\n",
    "\n",
    "Selleks et oleks selge, mis mooduleid konkreetsetes sammudes kasutatakse, impordime moodulid vajaduse põhiselt iga sammu ees."
   ]
  },
  {
   "cell_type": "markdown",
   "metadata": {},
   "source": [
    "### Sisendtektide uurimine\n",
    "\n",
    "Järgnevas on meie eesmärk uurida raadiosaadete automaat-transkriptsiooni abil saadud materjale. Vastavad failid asuvad kataloogis `data/kpt` ning on UTF-8 kodeeringus. Nende lugemiseks on vaja fail õiges kodeeringus avada.\n",
    "Üldiselt pole UTF-8 avamiseks vaja erilisi liigutusi teha, aga üldiselt kasutatakse selleks `codec` teeki.  "
   ]
  },
  {
   "cell_type": "code",
   "execution_count": 4,
   "metadata": {},
   "outputs": [
    {
     "name": "stdout",
     "output_type": "stream",
     "text": [
      "K01: Kuku raadios välja öeldud seisukohad ei pea ühtima Kuku raadio seisukohtadega. Te kuulate Kuku raadiot?\n",
      "-:\n",
      "K02: Breivik tahtis proovida, mismoodi õhu lenn Sid raisakotkas kohe appi pahenduse, kui õhusegasse Aalto tegi, kaval linn. Natuurist haaras, pärdik öeldes kuuleb. Palun lenda sirgelt. Pal\n"
     ]
    }
   ],
   "source": [
    "import codecs\n",
    "f1 = codecs.open(\"data/kpt/2019-09-07.txt\", \"r\", \"utf-8\")\n",
    "raw_text = f1.read()\n",
    "print(raw_text[:300])"
   ]
  },
  {
   "cell_type": "markdown",
   "metadata": {},
   "source": [
    "Teksti vaadates on selge, et iga repliik algab kõneleja nimega, millele järgneb repliik. \n",
    "Selline struktuur on väha sagedane ka ametlike dokumentide või tootekirjelduste korral. \n",
    "Ikka kasutatakse dokumendi eri osade eraldamiseks pealkirju või muid korduvaid struktuurielemente. \n",
    "Tavaliselt on kõige lihtsam selliseid struktuurielemente tuvastada regulaaravaldiste abil.  "
   ]
  },
  {
   "cell_type": "markdown",
   "metadata": {},
   "source": [
    "## Teksti esmane segmenteerimine\n",
    "\n",
    "Esimese asjana tuleks tekstist leida üles kõnetuvastaja poolt pandud rääkija tähis või nimi. Selleks kasutame kahte märgendajat:\n",
    "* ```ŖegexTagger``` abil märgime peale rääkija\n",
    "* ```TextSegmentsTagger``` abil märgime peale rääkija kõneldud laused "
   ]
  },
  {
   "cell_type": "markdown",
   "metadata": {},
   "source": [
    "### Kõnelejale vastav regulaaravaldis\n",
    "\n",
    "Kuna kõnetuvastuse väljund on selgete struktuuriga, siis on vastava regulaaravaldise leidmine üsna lihtne.\n",
    "Sama olukord on ka keerukamate poolstruktureeritud dokumentide segmenteerimisel. Tüüpiliselt on üsna lihtne leida korduvaid mustreid, mis defineerivad erinevate tekstide osasid (lõikude nummerdus, kuupäevaline kirje päis, jms).\n",
    "\n",
    "Igal juhul on vastava regulaaravaldise tuletamiseks ja testimiseks vaja võtta illustreerivad näited. Nendest saab hiljem luua ka testi, mille abil tulevikus tagada funktsionaalsuse säilimine mustrite täiendamisel."
   ]
  },
  {
   "cell_type": "code",
   "execution_count": 6,
   "metadata": {},
   "outputs": [],
   "source": [
    "import re"
   ]
  },
  {
   "cell_type": "code",
   "execution_count": 7,
   "metadata": {},
   "outputs": [],
   "source": [
    "test_text =  'K01: Kuku...\\n-:\\nArtur Talvik: Tere, siin on...'"
   ]
  },
  {
   "cell_type": "markdown",
   "metadata": {},
   "source": [
    "Kuna regulaaravaldistest arusaamine on keerukas, siis teeme seda sammhaaval. \n",
    "Selleks, et mitte takerduda paosümbolite (*escape symbols*) rägastikku, on mõistlik kasutada `r'sõnesid'`.\n",
    "Nii ei ole vaja regulaaravalidiste paosümboleid mitmekordselt pagendada."
   ]
  },
  {
   "cell_type": "code",
   "execution_count": 14,
   "metadata": {},
   "outputs": [
    {
     "name": "stdout",
     "output_type": "stream",
     "text": [
      "['K']\n",
      "[('K', ''), ('\\n-', '\\n'), ('\\nA', '\\n')]\n",
      "[('K01:', ''), ('\\n-:', '\\n'), ('\\nArtur Talvik:', '\\n')]\n"
     ]
    }
   ],
   "source": [
    "print(re.findall(r'^.',test_text))\n",
    "print(re.findall(r'((^|\\n).)',test_text))\n",
    "print(re.findall(r'((^|\\n).*:)',test_text))"
   ]
  },
  {
   "cell_type": "markdown",
   "metadata": {},
   "source": [
    "Et edaspidi oleks lihtsam, tuleks regulaaravaldise osadele anda nimed:\n",
    "* ```name``` - kõneleja nimi,\n",
    "* ```span``` - kõneleja fikseeriv tekstifragment."
   ]
  },
  {
   "cell_type": "code",
   "execution_count": 16,
   "metadata": {},
   "outputs": [
    {
     "name": "stdout",
     "output_type": "stream",
     "text": [
      "['K01', '-', 'Artur Talvik']\n",
      "['K01: ', '-:', 'Artur Talvik: ']\n",
      "['K01: ', '\\n-:', '\\nArtur Talvik: ']\n"
     ]
    }
   ],
   "source": [
    "pattern = r'((^|\\n)(?P<span>(?P<name>.*): ?))'\n",
    "print([match.group('name') for match in re.finditer(pattern, test_text)])\n",
    "print([match.group('span') for match in re.finditer(pattern, test_text)])\n",
    "print([match.group() for match in re.finditer(pattern, test_text)])"
   ]
  },
  {
   "cell_type": "markdown",
   "metadata": {},
   "source": [
    "### RegexTagger mustrisõnastik\n",
    "\n",
    "Märgendaja ```RegexTagger``` defineerimiseks on peale mustrite vaja veel spetsifitseerida mitu olulist asja:\n",
    "* ```_regex_pattern_``` - regulaaravaldis,\n",
    "* ```_group_``` - *spani* defineeriv regulaaravaldise grupp,\n",
    "* ```_priority_``` - mustri prioriteet konfliktide korral,\n",
    "* ```_validator_``` - validaator valepositiivsete vastete eemldamiseks.\n",
    "\n",
    "Neist esimesed kaks on alati vajalikud ning ülejäänud on kasulikud enamikel juhtudel. Meie näites on meil märgendamiseks vajalik vaid üks muster. "
   ]
  },
  {
   "cell_type": "code",
   "execution_count": 18,
   "metadata": {},
   "outputs": [],
   "source": [
    "header_voc_1 = \\\n",
    "[{\n",
    "    '_regex_pattern_': pattern,\n",
    "    '_group_': 'span',\n",
    "    '_priority_': 1,\n",
    "}]"
   ]
  },
  {
   "cell_type": "markdown",
   "metadata": {},
   "source": [
    "Lisaks on mõistlik defineerida ka *spanidele* vastavad annotatsiooni atribuudid. Meie näites siis kõneleja isik. Selles tuleb  anda ette funktsioon, mis võttab sisse kogu regulaaravalidsele vastava ```Match``` objekti ja tuletab sellest atribuudi väärtuse.  "
   ]
  },
  {
   "cell_type": "code",
   "execution_count": 19,
   "metadata": {},
   "outputs": [],
   "source": [
    "header_voc_2 = \\\n",
    "[{\n",
    "    '_regex_pattern_': pattern,\n",
    "    '_group_': 'span',\n",
    "    '_priority_': 1,\n",
    "    'person': lambda m: m.group('name') \n",
    "}]"
   ]
  },
  {
   "cell_type": "code",
   "execution_count": 9,
   "metadata": {},
   "outputs": [],
   "source": [
    "header_voc_3 = \\\n",
    "[{\n",
    "    '_regex_pattern_': pattern,\n",
    "    '_group_': 'span',\n",
    "    '_priority_': 1,\n",
    "    '_validator_': lambda m: m.group('span') != '-:', \n",
    "    'person': lambda m: m.group('name') \n",
    "}]"
   ]
  },
  {
   "cell_type": "markdown",
   "metadata": {},
   "source": [
    "### RegexTagger loomine\n",
    "\n",
    "Märgendaja `RegexTagger` loomisel on tarvis alati määrata peamised parameetrid:\n",
    "\n",
    "* `vocabulary` - regulaaravaldiste mustrite sõnastik,\n",
    "* `output_layer` - väljundkihi nimi,\n",
    "* `output_attributes` - väljundkihi tellitavate atribuutide nimed.\n",
    "\n",
    "Lisaks saab mängida erinevate täpishäälestust võimaldavate parameetritega:\n",
    "* `ambiguous` - kas leitud märgendused võib olla mitu annotatsiooni,\n",
    "* `conflict_resolving_strategy` - mida teha kui regulaaravalistele vastavad fragmendid on ülekattes \n",
    "* `overlapped, ignore_case` - lisaargumendid argumendid `re.finditer` funktsiooni häälestamiseks\n",
    "\n",
    "Üldiselt on täpishäälestuse parameetreid vaja vaid siis, kui mustrisõnastik käitub ootamatult ning on tarvis aru saada, mis läks valesti.  "
   ]
  },
  {
   "cell_type": "code",
   "execution_count": 20,
   "metadata": {},
   "outputs": [],
   "source": [
    "from estnltk import Text\n",
    "from estnltk.taggers import RegexTagger"
   ]
  },
  {
   "cell_type": "markdown",
   "metadata": {},
   "source": [
    "Märgendaja ei pea annoteerima valitud teksti "
   ]
  },
  {
   "cell_type": "code",
   "execution_count": 31,
   "metadata": {},
   "outputs": [
    {
     "data": {
      "text/html": [
       "<h4>Layer</h4>\n",
       "\n",
       "\n",
       "<table border=\"1\" class=\"dataframe\">\n",
       "  <thead>\n",
       "    <tr style=\"text-align: right;\">\n",
       "      <th>layer name</th>\n",
       "      <th>attributes</th>\n",
       "      <th>parent</th>\n",
       "      <th>enveloping</th>\n",
       "      <th>ambiguous</th>\n",
       "      <th>span count</th>\n",
       "    </tr>\n",
       "  </thead>\n",
       "  <tbody>\n",
       "    <tr>\n",
       "      <td>headers</td>\n",
       "      <td></td>\n",
       "      <td>None</td>\n",
       "      <td>None</td>\n",
       "      <td>False</td>\n",
       "      <td>5</td>\n",
       "    </tr>\n",
       "  </tbody>\n",
       "</table>\n",
       "<table border=\"1\" class=\"dataframe\">\n",
       "  <thead>\n",
       "    <tr style=\"text-align: right;\">\n",
       "      <th>text</th>\n",
       "    </tr>\n",
       "  </thead>\n",
       "  <tbody>\n",
       "    <tr>\n",
       "      <td>K01:</td>\n",
       "    </tr>\n",
       "    <tr>\n",
       "      <td>-:</td>\n",
       "    </tr>\n",
       "    <tr>\n",
       "      <td>K02:</td>\n",
       "    </tr>\n",
       "    <tr>\n",
       "      <td>-:</td>\n",
       "    </tr>\n",
       "    <tr>\n",
       "      <td>K06:</td>\n",
       "    </tr>\n",
       "  </tbody>\n",
       "</table>"
      ],
      "text/plain": [
       "Layer(name='headers', attributes=(), spans=SL[Span('K01: ', [{}]),\n",
       "Span('-:', [{}]),\n",
       "Span('K02: ', [{}]),\n",
       "Span('-:', [{}]),\n",
       "Span('K06: ', [{}])])"
      ]
     },
     "metadata": {},
     "output_type": "display_data"
    }
   ],
   "source": [
    "tagger = RegexTagger(vocabulary = header_voc_1, output_layer = 'headers') \n",
    "text = tagger.tag(Text(raw_text))\n",
    "display(text.headers[:5])"
   ]
  },
  {
   "cell_type": "markdown",
   "metadata": {},
   "source": [
    "Selleks, et et märgendaja annoteeriks teksti peab:\n",
    "\n",
    "* mustrisõnastikus olema reegel atribuudi arvutamiseks,\n",
    "* vastav atribuut peab olema tellitud väljundkihti."
   ]
  },
  {
   "cell_type": "code",
   "execution_count": 36,
   "metadata": {},
   "outputs": [
    {
     "data": {
      "text/html": [
       "<h4>Layer</h4>\n",
       "\n",
       "\n",
       "<table border=\"1\" class=\"dataframe\">\n",
       "  <thead>\n",
       "    <tr style=\"text-align: right;\">\n",
       "      <th>layer name</th>\n",
       "      <th>attributes</th>\n",
       "      <th>parent</th>\n",
       "      <th>enveloping</th>\n",
       "      <th>ambiguous</th>\n",
       "      <th>span count</th>\n",
       "    </tr>\n",
       "  </thead>\n",
       "  <tbody>\n",
       "    <tr>\n",
       "      <td>headers</td>\n",
       "      <td></td>\n",
       "      <td>None</td>\n",
       "      <td>None</td>\n",
       "      <td>False</td>\n",
       "      <td>3</td>\n",
       "    </tr>\n",
       "  </tbody>\n",
       "</table>\n",
       "<table border=\"1\" class=\"dataframe\">\n",
       "  <thead>\n",
       "    <tr style=\"text-align: right;\">\n",
       "      <th>text</th>\n",
       "    </tr>\n",
       "  </thead>\n",
       "  <tbody>\n",
       "    <tr>\n",
       "      <td>K01:</td>\n",
       "    </tr>\n",
       "    <tr>\n",
       "      <td>-:</td>\n",
       "    </tr>\n",
       "    <tr>\n",
       "      <td>K02:</td>\n",
       "    </tr>\n",
       "  </tbody>\n",
       "</table>"
      ],
      "text/plain": [
       "Layer(name='headers', attributes=(), spans=SL[Span('K01: ', [{}]),\n",
       "Span('-:', [{}]),\n",
       "Span('K02: ', [{}])])"
      ]
     },
     "metadata": {},
     "output_type": "display_data"
    },
    {
     "data": {
      "text/html": [
       "<h4>Layer</h4>\n",
       "\n",
       "\n",
       "<table border=\"1\" class=\"dataframe\">\n",
       "  <thead>\n",
       "    <tr style=\"text-align: right;\">\n",
       "      <th>layer name</th>\n",
       "      <th>attributes</th>\n",
       "      <th>parent</th>\n",
       "      <th>enveloping</th>\n",
       "      <th>ambiguous</th>\n",
       "      <th>span count</th>\n",
       "    </tr>\n",
       "  </thead>\n",
       "  <tbody>\n",
       "    <tr>\n",
       "      <td>headers</td>\n",
       "      <td>person</td>\n",
       "      <td>None</td>\n",
       "      <td>None</td>\n",
       "      <td>False</td>\n",
       "      <td>3</td>\n",
       "    </tr>\n",
       "  </tbody>\n",
       "</table>\n",
       "<table border=\"1\" class=\"dataframe\">\n",
       "  <thead>\n",
       "    <tr style=\"text-align: right;\">\n",
       "      <th>text</th>\n",
       "      <th>person</th>\n",
       "    </tr>\n",
       "  </thead>\n",
       "  <tbody>\n",
       "    <tr>\n",
       "      <td>K01:</td>\n",
       "      <td>K01</td>\n",
       "    </tr>\n",
       "    <tr>\n",
       "      <td>-:</td>\n",
       "      <td>-</td>\n",
       "    </tr>\n",
       "    <tr>\n",
       "      <td>K02:</td>\n",
       "      <td>K02</td>\n",
       "    </tr>\n",
       "  </tbody>\n",
       "</table>"
      ],
      "text/plain": [
       "Layer(name='headers', attributes=('person',), spans=SL[Span('K01: ', [{'person': 'K01'}]),\n",
       "Span('-:', [{'person': '-'}]),\n",
       "Span('K02: ', [{'person': 'K02'}])])"
      ]
     },
     "metadata": {},
     "output_type": "display_data"
    }
   ],
   "source": [
    "# Atribuudid pole tellitud\n",
    "tagger = RegexTagger(vocabulary = header_voc_2, output_layer = 'headers') \n",
    "text = tagger.tag(Text(raw_text))\n",
    "display(text.headers[:3])\n",
    "\n",
    "# Atribuut person on tellitud \n",
    "tagger = RegexTagger(\n",
    "    vocabulary = header_voc_2, \n",
    "    output_layer = 'headers',\n",
    "    output_attributes = ['person']\n",
    ") \n",
    "\n",
    "text = tagger.tag(Text(raw_text))\n",
    "display(text.headers[:3])"
   ]
  },
  {
   "cell_type": "markdown",
   "metadata": {},
   "source": [
    "### Teksti segmenteerimine erinevate inimeste kõneks\n",
    "\n",
    "Järgmiseks loomulikuks sammuks on repliikide eraldamine üldtekstist. Selle käigus on mõistlik kõneleja isik panna eraldi atribuudiks.\n",
    "Jällegi on tegemist standardse dokumendi struktureerimise ülesandega, mille käigus jagatakse põhitekst päiste (*header*) järgi osadeks. \n",
    "\n",
    "Selle jaoks on EstNLTK teegis olemas `TextSegmentsTagger` märgendaja, mille loomisel on tarvis määrata peamised parameetrid:\n",
    "\n",
    "* `input_layer` - päiselementide kiht\n",
    "* `output_layer` - väljundkiht\n",
    "* `output_attributes` - väljundkihti tellitavate atribuutide nimekiri"
   ]
  },
  {
   "cell_type": "code",
   "execution_count": 37,
   "metadata": {},
   "outputs": [],
   "source": [
    "from estnltk.taggers import TextSegmentsTagger"
   ]
  },
  {
   "cell_type": "code",
   "execution_count": 41,
   "metadata": {},
   "outputs": [
    {
     "data": {
      "text/html": [
       "<h4>Layer</h4>\n",
       "\n",
       "\n",
       "<table border=\"1\" class=\"dataframe\">\n",
       "  <thead>\n",
       "    <tr style=\"text-align: right;\">\n",
       "      <th>layer name</th>\n",
       "      <th>attributes</th>\n",
       "      <th>parent</th>\n",
       "      <th>enveloping</th>\n",
       "      <th>ambiguous</th>\n",
       "      <th>span count</th>\n",
       "    </tr>\n",
       "  </thead>\n",
       "  <tbody>\n",
       "    <tr>\n",
       "      <td>lines</td>\n",
       "      <td>person</td>\n",
       "      <td>None</td>\n",
       "      <td>None</td>\n",
       "      <td>False</td>\n",
       "      <td>5</td>\n",
       "    </tr>\n",
       "  </tbody>\n",
       "</table>\n",
       "<table border=\"1\" class=\"dataframe\">\n",
       "  <thead>\n",
       "    <tr style=\"text-align: right;\">\n",
       "      <th>text</th>\n",
       "      <th>person</th>\n",
       "    </tr>\n",
       "  </thead>\n",
       "  <tbody>\n",
       "    <tr>\n",
       "      <td>Kuku raadios välja öeldud seisukohad ei pea ühtima Kuku raadio seisukohtadega. T ..., type: &lt;class 'str'&gt;, length: 104</td>\n",
       "      <td>None</td>\n",
       "    </tr>\n",
       "    <tr>\n",
       "      <td>\\n</td>\n",
       "      <td>None</td>\n",
       "    </tr>\n",
       "    <tr>\n",
       "      <td>Breivik tahtis proovida, mismoodi õhu lenn Sid raisakotkas kohe appi pahenduse,  ..., type: &lt;class 'str'&gt;, length: 243</td>\n",
       "      <td>None</td>\n",
       "    </tr>\n",
       "    <tr>\n",
       "      <td>\\n</td>\n",
       "      <td>None</td>\n",
       "    </tr>\n",
       "    <tr>\n",
       "      <td>Ta oli liiga uudis ainult koduvabariigist.\\n</td>\n",
       "      <td>None</td>\n",
       "    </tr>\n",
       "  </tbody>\n",
       "</table>"
      ],
      "text/plain": [
       "Layer(name='lines', attributes=('person',), spans=SL[Span('Kuku raadios välja öeldud seisukohad ei pea ühtima Kuku raadio seisukohtadega. Te kuulate Kuku raadiot?\\n', [{'person': None}]),\n",
       "Span('\\n', [{'person': None}]),\n",
       "Span('Breivik tahtis proovida, mismoodi õhu lenn Sid raisakotkas kohe appi pahenduse, kui õhusegasse Aalto tegi, kaval linn. Natuurist haaras, pärdik öeldes kuuleb. Palun lenda sirgelt. Palun lenda kõrge. Võtta asja kerge, tappa maha, ära päädhabi.\\n', [{'person': None}]),\n",
       "Span('\\n', [{'person': None}]),\n",
       "Span('Ta oli liiga uudis ainult koduvabariigist.\\n', [{'person': None}])])"
      ]
     },
     "execution_count": 41,
     "metadata": {},
     "output_type": "execute_result"
    }
   ],
   "source": [
    "tagger = TextSegmentsTagger(\n",
    "    input_layer = 'headers', \n",
    "    output_layer = 'lines',\n",
    "    output_attributes = ['person'])\n",
    "\n",
    "tagger.tag(text)\n",
    "text.lines[:5]"
   ]
  },
  {
   "cell_type": "markdown",
   "metadata": {},
   "source": [
    "Saadud tulemus on vigane:\n",
    "\n",
    "* kuigi me oleme tellinud väljundkihti kõneleja nime ei jõua selle väärtus atribuutide hulka;\n",
    "* repliikide hulka on sattunud palju tühje tekste\n",
    "\n",
    "Nende probleemide lahendamiseks tuleb meil määrata märgendaja `TextSegmentsTagger` parameetrid:\n",
    "\n",
    "* `decorator` - funktsioon tellitud attribuutide väärtuste arvutamiseks,\n",
    "* `validator` - funktsioon päiste täiendavaks valideerimiseks.\n",
    "\n",
    "Viimaks saab parameetriga \n",
    "\n",
    "* `include_header` - määrata kas päiselement kuulub tekstiosa koosseisu või mitte. \n",
    "\n",
    "Tüüpiliselt on mõistlik päisest mõelda kui tekstiosale vastavast metainfost ja seega see ei peaks olema teksti osa. "
   ]
  },
  {
   "cell_type": "code",
   "execution_count": 42,
   "metadata": {},
   "outputs": [
    {
     "data": {
      "text/html": [
       "<h4>Layer</h4>\n",
       "\n",
       "\n",
       "<table border=\"1\" class=\"dataframe\">\n",
       "  <thead>\n",
       "    <tr style=\"text-align: right;\">\n",
       "      <th>layer name</th>\n",
       "      <th>attributes</th>\n",
       "      <th>parent</th>\n",
       "      <th>enveloping</th>\n",
       "      <th>ambiguous</th>\n",
       "      <th>span count</th>\n",
       "    </tr>\n",
       "  </thead>\n",
       "  <tbody>\n",
       "    <tr>\n",
       "      <td>lines</td>\n",
       "      <td>person</td>\n",
       "      <td>None</td>\n",
       "      <td>None</td>\n",
       "      <td>False</td>\n",
       "      <td>5</td>\n",
       "    </tr>\n",
       "  </tbody>\n",
       "</table>\n",
       "<table border=\"1\" class=\"dataframe\">\n",
       "  <thead>\n",
       "    <tr style=\"text-align: right;\">\n",
       "      <th>text</th>\n",
       "      <th>person</th>\n",
       "    </tr>\n",
       "  </thead>\n",
       "  <tbody>\n",
       "    <tr>\n",
       "      <td>Kuku raadios välja öeldud seisukohad ei pea ühtima Kuku raadio seisukohtadega. T ..., type: &lt;class 'str'&gt;, length: 107</td>\n",
       "      <td>K01</td>\n",
       "    </tr>\n",
       "    <tr>\n",
       "      <td>Breivik tahtis proovida, mismoodi õhu lenn Sid raisakotkas kohe appi pahenduse,  ..., type: &lt;class 'str'&gt;, length: 246</td>\n",
       "      <td>K02</td>\n",
       "    </tr>\n",
       "    <tr>\n",
       "      <td>Ta oli liiga uudis ainult koduvabariigist.\\n</td>\n",
       "      <td>K06</td>\n",
       "    </tr>\n",
       "    <tr>\n",
       "      <td>Tere, siin on Keskpäevatund ja Kuku raadio, Tallinna stuudios Urmas Jaagant, Ain ..., type: &lt;class 'str'&gt;, length: 952</td>\n",
       "      <td>Artur Talvik</td>\n",
       "    </tr>\n",
       "    <tr>\n",
       "      <td>Ma arvan, et asi on lihtne nagu tavapäraselt, et Gunnar Kobin ilmselt läks süste ..., type: &lt;class 'str'&gt;, length: 225</td>\n",
       "      <td>Ainar Ruussaar</td>\n",
       "    </tr>\n",
       "  </tbody>\n",
       "</table>"
      ],
      "text/plain": [
       "Layer(name='lines', attributes=('person',), spans=SL[Span('Kuku raadios välja öeldud seisukohad ei pea ühtima Kuku raadio seisukohtadega. Te kuulate Kuku raadiot?\\n-:\\n', [{'person': 'K01'}]),\n",
       "Span('Breivik tahtis proovida, mismoodi õhu lenn Sid raisakotkas kohe appi pahenduse, kui õhusegasse Aalto tegi, kaval linn. Natuurist haaras, pärdik öeldes kuuleb. Palun lenda sirgelt. Palun lenda kõrge. Võtta asja kerge, tappa maha, ära päädhabi.\\n-:\\n', [{'person': 'K02'}]),\n",
       "Span('Ta oli liiga uudis ainult koduvabariigist.\\n', [{'person': 'K06'}]),\n",
       "Span('Tere, siin on Keskpäevatund ja Kuku raadio, Tallinna stuudios Urmas Jaagant, Ainar Ruussaar ja Priit Hõbemägi. Mart Sander laulis lõbusa laulukese. Palun lenda sirgelt ja see laul on meie poolt tervituseks Gunnar kobinile. Kes kelle kohta hiljuti saime teada, et ta loobus Nordika juhi ametikohast, nimelt ta pidi Kobin alustama teisel septembril tordika juhina, aga ootamatult selgus, et ta on juba suvel oma ametikohast loobunud ja tõi ühe põhjusena välja selle, et ühiskonnas tekkinud suur diskussioon tema töötasu üle, mis oli siis viisteist tuhat bruto ühes kuus ei ole vastavuses tema tegeliku töö panusena. Et seda tema lauset oskan mina kahte moodi analüüsida, üks on see, et liiga, et talle makstakse liiga palju raha ja tema panuseks väikeseks, aga teisest küljest võiks mõelda ka niimoodi, et ta ütleb, et selle panuse eest, mis tema suudaks ettevõtte arengusse panna, on seda raha liiga vähe. Kuidas see asi tegelikult on, eks teab ta ise.\\n', [{'person': 'Artur Talvik'}]),\n",
       "Span('Ma arvan, et asi on lihtne nagu tavapäraselt, et Gunnar Kobin ilmselt läks süsteemi mille esiesmapilgul seal tundmaõppimisel said aru, et tema natuur, tema eesmärgid ja see süsteem, kuhu ta sattus ei klapi päris hästi kokku.\\n', [{'person': 'Ainar Ruussaar'}])])"
      ]
     },
     "metadata": {},
     "output_type": "display_data"
    },
    {
     "data": {
      "text/html": [
       "<b>Span</b>\n",
       "<table border=\"1\" class=\"dataframe\">\n",
       "  <thead>\n",
       "    <tr style=\"text-align: right;\">\n",
       "      <th>text</th>\n",
       "      <th>person</th>\n",
       "    </tr>\n",
       "  </thead>\n",
       "  <tbody>\n",
       "    <tr>\n",
       "      <td><span style=\"font-family: monospace; white-space: pre-wrap;\"><span style=\"text-decoration: underline;\">Kuku raadios välja öeldud seisukohad ei pea ühtima Kuku raadio seisukohtadega. Te kuulate Kuku raadiot?\\n-:\\n</span></span></td>\n",
       "      <td>K01</td>\n",
       "    </tr>\n",
       "  </tbody>\n",
       "</table>"
      ],
      "text/plain": [
       "Span('Kuku raadios välja öeldud seisukohad ei pea ühtima Kuku raadio seisukohtadega. Te kuulate Kuku raadiot?\\n-:\\n', [{'person': 'K01'}])"
      ]
     },
     "metadata": {},
     "output_type": "display_data"
    }
   ],
   "source": [
    "tagger = TextSegmentsTagger(\n",
    "    input_layer = 'headers', \n",
    "    output_layer = 'lines',\n",
    "    output_attributes = ['person'],\n",
    "    decorator = lambda header_span: {'person': header_span['person']},\n",
    "    validator = lambda header_span: header_span['person'] != '-' \n",
    ")\n",
    "if 'lines' in text.layers:\n",
    "    del text.lines\n",
    "tagger.tag(text)\n",
    "display(text.lines[:5])\n",
    "display(text.lines[0])"
   ]
  },
  {
   "cell_type": "markdown",
   "metadata": {},
   "source": [
    "Saadud tulemus on ikkagi vigane, kuna päiselementide ignoreerimine suureneab vaid tekstilõikude pikkust ning ei jäta vastatatele päiselementidele vastavaid tekstiosasid välja. Seega tuleb esmalt need tekstiosad siiski sisse jätta. "
   ]
  },
  {
   "cell_type": "code",
   "execution_count": 43,
   "metadata": {},
   "outputs": [
    {
     "data": {
      "text/html": [
       "<h4>Layer</h4>\n",
       "\n",
       "\n",
       "<table border=\"1\" class=\"dataframe\">\n",
       "  <thead>\n",
       "    <tr style=\"text-align: right;\">\n",
       "      <th>layer name</th>\n",
       "      <th>attributes</th>\n",
       "      <th>parent</th>\n",
       "      <th>enveloping</th>\n",
       "      <th>ambiguous</th>\n",
       "      <th>span count</th>\n",
       "    </tr>\n",
       "  </thead>\n",
       "  <tbody>\n",
       "    <tr>\n",
       "      <td>lines</td>\n",
       "      <td>person</td>\n",
       "      <td>None</td>\n",
       "      <td>None</td>\n",
       "      <td>False</td>\n",
       "      <td>5</td>\n",
       "    </tr>\n",
       "  </tbody>\n",
       "</table>\n",
       "<table border=\"1\" class=\"dataframe\">\n",
       "  <thead>\n",
       "    <tr style=\"text-align: right;\">\n",
       "      <th>text</th>\n",
       "      <th>person</th>\n",
       "    </tr>\n",
       "  </thead>\n",
       "  <tbody>\n",
       "    <tr>\n",
       "      <td>Kuku raadios välja öeldud seisukohad ei pea ühtima Kuku raadio seisukohtadega. T ..., type: &lt;class 'str'&gt;, length: 104</td>\n",
       "      <td>K01</td>\n",
       "    </tr>\n",
       "    <tr>\n",
       "      <td>\\n</td>\n",
       "      <td>-</td>\n",
       "    </tr>\n",
       "    <tr>\n",
       "      <td>Breivik tahtis proovida, mismoodi õhu lenn Sid raisakotkas kohe appi pahenduse,  ..., type: &lt;class 'str'&gt;, length: 243</td>\n",
       "      <td>K02</td>\n",
       "    </tr>\n",
       "    <tr>\n",
       "      <td>\\n</td>\n",
       "      <td>-</td>\n",
       "    </tr>\n",
       "    <tr>\n",
       "      <td>Ta oli liiga uudis ainult koduvabariigist.\\n</td>\n",
       "      <td>K06</td>\n",
       "    </tr>\n",
       "  </tbody>\n",
       "</table>"
      ],
      "text/plain": [
       "Layer(name='lines', attributes=('person',), spans=SL[Span('Kuku raadios välja öeldud seisukohad ei pea ühtima Kuku raadio seisukohtadega. Te kuulate Kuku raadiot?\\n', [{'person': 'K01'}]),\n",
       "Span('\\n', [{'person': '-'}]),\n",
       "Span('Breivik tahtis proovida, mismoodi õhu lenn Sid raisakotkas kohe appi pahenduse, kui õhusegasse Aalto tegi, kaval linn. Natuurist haaras, pärdik öeldes kuuleb. Palun lenda sirgelt. Palun lenda kõrge. Võtta asja kerge, tappa maha, ära päädhabi.\\n', [{'person': 'K02'}]),\n",
       "Span('\\n', [{'person': '-'}]),\n",
       "Span('Ta oli liiga uudis ainult koduvabariigist.\\n', [{'person': 'K06'}])])"
      ]
     },
     "metadata": {},
     "output_type": "display_data"
    },
    {
     "data": {
      "text/html": [
       "<b>Span</b>\n",
       "<table border=\"1\" class=\"dataframe\">\n",
       "  <thead>\n",
       "    <tr style=\"text-align: right;\">\n",
       "      <th>text</th>\n",
       "      <th>person</th>\n",
       "    </tr>\n",
       "  </thead>\n",
       "  <tbody>\n",
       "    <tr>\n",
       "      <td><span style=\"font-family: monospace; white-space: pre-wrap;\"><span style=\"text-decoration: underline;\">Kuku raadios välja öeldud seisukohad ei pea ühtima Kuku raadio seisukohtadega. Te kuulate Kuku raadiot?\\n</span></span></td>\n",
       "      <td>K01</td>\n",
       "    </tr>\n",
       "  </tbody>\n",
       "</table>"
      ],
      "text/plain": [
       "Span('Kuku raadios välja öeldud seisukohad ei pea ühtima Kuku raadio seisukohtadega. Te kuulate Kuku raadiot?\\n', [{'person': 'K01'}])"
      ]
     },
     "metadata": {},
     "output_type": "display_data"
    }
   ],
   "source": [
    "tagger = TextSegmentsTagger(\n",
    "    input_layer = 'headers', \n",
    "    output_layer = 'lines',\n",
    "    output_attributes = ['person'],\n",
    "    decorator = lambda header_span: {'person': header_span['person']}\n",
    ")\n",
    "if 'lines' in text.layers:\n",
    "    del text.lines\n",
    "tagger.tag(text)\n",
    "display(text.lines[:5])\n",
    "display(text.lines[0])"
   ]
  },
  {
   "cell_type": "markdown",
   "metadata": {},
   "source": [
    "### Tükelduse esmane valideerimine\n",
    "??"
   ]
  },
  {
   "cell_type": "code",
   "execution_count": 44,
   "metadata": {},
   "outputs": [],
   "source": [
    "from pandas import DataFrame"
   ]
  },
  {
   "cell_type": "code",
   "execution_count": 48,
   "metadata": {},
   "outputs": [
    {
     "data": {
      "text/plain": [
       "{('K01',): 1,\n",
       " ('-',): 3,\n",
       " ('K02',): 1,\n",
       " ('K06',): 3,\n",
       " ('Artur Talvik',): 21,\n",
       " ('Ainar Ruussaar',): 16,\n",
       " ('K07',): 13,\n",
       " ('Ignar Fjuk',): 2}"
      ]
     },
     "execution_count": 48,
     "metadata": {},
     "output_type": "execute_result"
    }
   ],
   "source": [
    "text.lines.groupby(['person']).count"
   ]
  },
  {
   "cell_type": "code",
   "execution_count": 55,
   "metadata": {},
   "outputs": [
    {
     "data": {
      "text/html": [
       "<div>\n",
       "<style scoped>\n",
       "    .dataframe tbody tr th:only-of-type {\n",
       "        vertical-align: middle;\n",
       "    }\n",
       "\n",
       "    .dataframe tbody tr th {\n",
       "        vertical-align: top;\n",
       "    }\n",
       "\n",
       "    .dataframe thead th {\n",
       "        text-align: right;\n",
       "    }\n",
       "</style>\n",
       "<table border=\"1\" class=\"dataframe\">\n",
       "  <thead>\n",
       "    <tr style=\"text-align: right;\">\n",
       "      <th></th>\n",
       "      <th>repliike</th>\n",
       "    </tr>\n",
       "  </thead>\n",
       "  <tbody>\n",
       "    <tr>\n",
       "      <td>(K01,)</td>\n",
       "      <td>1</td>\n",
       "    </tr>\n",
       "    <tr>\n",
       "      <td>(-,)</td>\n",
       "      <td>3</td>\n",
       "    </tr>\n",
       "    <tr>\n",
       "      <td>(K02,)</td>\n",
       "      <td>1</td>\n",
       "    </tr>\n",
       "    <tr>\n",
       "      <td>(K06,)</td>\n",
       "      <td>3</td>\n",
       "    </tr>\n",
       "    <tr>\n",
       "      <td>(Artur Talvik,)</td>\n",
       "      <td>21</td>\n",
       "    </tr>\n",
       "    <tr>\n",
       "      <td>(Ainar Ruussaar,)</td>\n",
       "      <td>16</td>\n",
       "    </tr>\n",
       "    <tr>\n",
       "      <td>(K07,)</td>\n",
       "      <td>13</td>\n",
       "    </tr>\n",
       "    <tr>\n",
       "      <td>(Ignar Fjuk,)</td>\n",
       "      <td>2</td>\n",
       "    </tr>\n",
       "  </tbody>\n",
       "</table>\n",
       "</div>"
      ],
      "text/plain": [
       "                   repliike\n",
       "(K01,)             1       \n",
       "(-,)               3       \n",
       "(K02,)             1       \n",
       "(K06,)             3       \n",
       "(Artur Talvik,)    21      \n",
       "(Ainar Ruussaar,)  16      \n",
       "(K07,)             13      \n",
       "(Ignar Fjuk,)      2       "
      ]
     },
     "execution_count": 55,
     "metadata": {},
     "output_type": "execute_result"
    }
   ],
   "source": [
    "DataFrame.from_dict(text.lines.groupby(['person']).count, orient='index', columns=['repliike'])"
   ]
  },
  {
   "cell_type": "code",
   "execution_count": 56,
   "metadata": {},
   "outputs": [],
   "source": [
    "#from estnltk import EnvelopingBaseSpan"
   ]
  },
  {
   "cell_type": "code",
   "execution_count": 90,
   "metadata": {},
   "outputs": [
    {
     "data": {
      "text/plain": [
       "{('K01',): [(5, 109)],\n",
       " ('-',): [(111, 112), (362, 363), (42112, 42112)],\n",
       " ('K02',): [(117, 360)],\n",
       " ('K06',): [(368, 411), (22876, 22930), (33280, 33323)],\n",
       " ('Artur Talvik',): [(425, 1377),\n",
       "  (1858, 1960),\n",
       "  (2464, 3392),\n",
       "  (3911, 4675),\n",
       "  (5109, 5441),\n",
       "  (5833, 7970),\n",
       "  (10867, 12410),\n",
       "  (12798, 12992),\n",
       "  (15067, 17077),\n",
       "  (17425, 17512),\n",
       "  (20014, 22844),\n",
       "  (22944, 23597),\n",
       "  (24164, 24315),\n",
       "  (28038, 29361),\n",
       "  (30160, 30213),\n",
       "  (30447, 31030),\n",
       "  (32163, 32346),\n",
       "  (33189, 33248),\n",
       "  (33337, 35311),\n",
       "  (37663, 37826),\n",
       "  (39986, 42110)],\n",
       " ('Ainar Ruussaar',): [(1393, 1618),\n",
       "  (3408, 3897),\n",
       "  (5457, 5819),\n",
       "  (7986, 9325),\n",
       "  (12426, 12784),\n",
       "  (13008, 13649),\n",
       "  (17093, 17411),\n",
       "  (17528, 18562),\n",
       "  (23613, 24150),\n",
       "  (27696, 28024),\n",
       "  (31046, 31649),\n",
       "  (32362, 32603),\n",
       "  (35327, 36059),\n",
       "  (36672, 37649),\n",
       "  (37842, 38081),\n",
       "  (39224, 39972)],\n",
       " ('K07',): [(1623, 1844),\n",
       "  (1965, 2450),\n",
       "  (4680, 5095),\n",
       "  (9330, 10853),\n",
       "  (13654, 15053),\n",
       "  (18567, 20000),\n",
       "  (24320, 27680),\n",
       "  (29366, 30146),\n",
       "  (30218, 30433),\n",
       "  (31654, 32149),\n",
       "  (32608, 33175),\n",
       "  (36064, 36656),\n",
       "  (38086, 39208)],\n",
       " ('Ignar Fjuk',): [(22856, 22871), (33260, 33275)]}"
      ]
     },
     "execution_count": 90,
     "metadata": {},
     "output_type": "execute_result"
    }
   ],
   "source": [
    "text.lines.groupby(['person']).aggregate(func = lambda spans: [(s.start, s.end) for s in spans])"
   ]
  },
  {
   "cell_type": "code",
   "execution_count": 81,
   "metadata": {},
   "outputs": [
    {
     "data": {
      "text/plain": [
       "[Span('\\n', [{'person': '-'}]),\n",
       " Span('\\n', [{'person': '-'}]),\n",
       " Span('', [{'person': '-'}])]"
      ]
     },
     "execution_count": 81,
     "metadata": {},
     "output_type": "execute_result"
    }
   ],
   "source": [
    "text.lines.groupby(['person']).groups[('-',)]"
   ]
  },
  {
   "cell_type": "code",
   "execution_count": null,
   "metadata": {},
   "outputs": [],
   "source": []
  },
  {
   "cell_type": "code",
   "execution_count": 95,
   "metadata": {},
   "outputs": [
    {
     "ename": "ImportError",
     "evalue": "cannot import name 'strip'",
     "output_type": "error",
     "traceback": [
      "\u001b[0;31m---------------------------------------------------------------------------\u001b[0m",
      "\u001b[0;31mImportError\u001b[0m                               Traceback (most recent call last)",
      "\u001b[0;32m<ipython-input-95-f46a379dff1a>\u001b[0m in \u001b[0;36m<module>\u001b[0;34m\u001b[0m\n\u001b[0;32m----> 1\u001b[0;31m \u001b[0;32mfrom\u001b[0m \u001b[0mstring\u001b[0m \u001b[0;32mimport\u001b[0m \u001b[0mstrip\u001b[0m\u001b[0;34m\u001b[0m\u001b[0;34m\u001b[0m\u001b[0m\n\u001b[0m",
      "\u001b[0;31mImportError\u001b[0m: cannot import name 'strip'"
     ]
    }
   ],
   "source": [
    "from string import strip"
   ]
  },
  {
   "cell_type": "code",
   "execution_count": 105,
   "metadata": {},
   "outputs": [
    {
     "data": {
      "text/html": [
       "<table border=\"1\" class=\"dataframe\">\n",
       "  <thead>\n",
       "    <tr style=\"text-align: right;\">\n",
       "      <th>text</th>\n",
       "    </tr>\n",
       "  </thead>\n",
       "  <tbody>\n",
       "    <tr>\n",
       "      <td><div align = \"left\">Kuku raadios välja öeldud seisukohad ei pea ühtima Kuku raadio seisukohtadega. Te kuulate Kuku raadiot?</div></td>\n",
       "    </tr>\n",
       "  </tbody>\n",
       "</table>"
      ],
      "text/plain": [
       "Text(text='Kuku raadios välja öeldud seisukohad ei pea ühtima Kuku raadio seisukohtadega. Te kuulate Kuku raadiot?')"
      ]
     },
     "metadata": {},
     "output_type": "display_data"
    }
   ],
   "source": [
    "for span in text.lines:\n",
    "    line = span.text.strip()\n",
    "    if line == '':\n",
    "        continue\n",
    "    display(Text(line))\n",
    "    break\n"
   ]
  },
  {
   "cell_type": "code",
   "execution_count": 106,
   "metadata": {},
   "outputs": [],
   "source": [
    "from estnltk.storage.postgres import PostgresStorage, create_schema, delete_schema\n",
    "from estnltk.storage.postgres import JsonbTextQuery, JsonbLayerQuery, WhereClause, SubstringQuery"
   ]
  },
  {
   "cell_type": "code",
   "execution_count": 111,
   "metadata": {},
   "outputs": [
    {
     "ename": "TypeError",
     "evalue": "create_schema() takes 1 positional argument but 2 were given",
     "output_type": "error",
     "traceback": [
      "\u001b[0;31m---------------------------------------------------------------------------\u001b[0m",
      "\u001b[0;31mTypeError\u001b[0m                                 Traceback (most recent call last)",
      "\u001b[0;32m<ipython-input-111-ffa9c02aa9e8>\u001b[0m in \u001b[0;36m<module>\u001b[0;34m\u001b[0m\n\u001b[0;32m----> 1\u001b[0;31m \u001b[0mcreate_schema\u001b[0m\u001b[0;34m(\u001b[0m\u001b[0mstorage\u001b[0m\u001b[0;34m,\u001b[0m\u001b[0;34m'media_analysis'\u001b[0m\u001b[0;34m)\u001b[0m\u001b[0;34m\u001b[0m\u001b[0;34m\u001b[0m\u001b[0m\n\u001b[0m",
      "\u001b[0;31mTypeError\u001b[0m: create_schema() takes 1 positional argument but 2 were given"
     ]
    }
   ],
   "source": [
    " "
   ]
  },
  {
   "cell_type": "code",
   "execution_count": 112,
   "metadata": {},
   "outputs": [
    {
     "name": "stdout",
     "output_type": "stream",
     "text": [
      "INFO:storage.py:42: connecting to host: '127.0.0.1', port: 5432, dbname: 'ekt', user: 'swen'\n",
      "INFO:storage.py:58: schema: 'media_analysis', temporary: False, role: 'swen'\n"
     ]
    }
   ],
   "source": [
    "storage = PostgresStorage(host='127.0.0.1',\n",
    "                          port=5432,\n",
    "                          dbname='ekt',\n",
    "                          user='swen',\n",
    "                          password='kala',\n",
    "                          schema='media_analysis',\n",
    "                          role=None,\n",
    "                          temporary=False)"
   ]
  },
  {
   "cell_type": "code",
   "execution_count": 114,
   "metadata": {},
   "outputs": [
    {
     "ename": "DuplicateSchema",
     "evalue": "schema \"media_analysis\" already exists\n",
     "output_type": "error",
     "traceback": [
      "\u001b[0;31m---------------------------------------------------------------------------\u001b[0m",
      "\u001b[0;31mDuplicateSchema\u001b[0m                           Traceback (most recent call last)",
      "\u001b[0;32m<ipython-input-114-8e890d5b9253>\u001b[0m in \u001b[0;36m<module>\u001b[0;34m\u001b[0m\n\u001b[0;32m----> 1\u001b[0;31m \u001b[0mcreate_schema\u001b[0m\u001b[0;34m(\u001b[0m\u001b[0mstorage\u001b[0m\u001b[0;34m)\u001b[0m\u001b[0;34m\u001b[0m\u001b[0;34m\u001b[0m\u001b[0m\n\u001b[0m",
      "\u001b[0;32m~/Documents/GIT/estnltk/estnltk/storage/postgres/pg_operations.py\u001b[0m in \u001b[0;36mcreate_schema\u001b[0;34m(storage)\u001b[0m\n\u001b[1;32m     21\u001b[0m     \u001b[0mstorage\u001b[0m\u001b[0;34m.\u001b[0m\u001b[0mconn\u001b[0m\u001b[0;34m.\u001b[0m\u001b[0mcommit\u001b[0m\u001b[0;34m(\u001b[0m\u001b[0;34m)\u001b[0m\u001b[0;34m\u001b[0m\u001b[0;34m\u001b[0m\u001b[0m\n\u001b[1;32m     22\u001b[0m     \u001b[0;32mwith\u001b[0m \u001b[0mstorage\u001b[0m\u001b[0;34m.\u001b[0m\u001b[0mconn\u001b[0m\u001b[0;34m.\u001b[0m\u001b[0mcursor\u001b[0m\u001b[0;34m(\u001b[0m\u001b[0;34m)\u001b[0m \u001b[0;32mas\u001b[0m \u001b[0mc\u001b[0m\u001b[0;34m:\u001b[0m\u001b[0;34m\u001b[0m\u001b[0;34m\u001b[0m\u001b[0m\n\u001b[0;32m---> 23\u001b[0;31m         \u001b[0mc\u001b[0m\u001b[0;34m.\u001b[0m\u001b[0mexecute\u001b[0m\u001b[0;34m(\u001b[0m\u001b[0mSQL\u001b[0m\u001b[0;34m(\u001b[0m\u001b[0;34m\"CREATE SCHEMA {};\"\u001b[0m\u001b[0;34m)\u001b[0m\u001b[0;34m.\u001b[0m\u001b[0mformat\u001b[0m\u001b[0;34m(\u001b[0m\u001b[0mIdentifier\u001b[0m\u001b[0;34m(\u001b[0m\u001b[0mstorage\u001b[0m\u001b[0;34m.\u001b[0m\u001b[0mschema\u001b[0m\u001b[0;34m)\u001b[0m\u001b[0;34m)\u001b[0m\u001b[0;34m)\u001b[0m\u001b[0;34m\u001b[0m\u001b[0;34m\u001b[0m\u001b[0m\n\u001b[0m\u001b[1;32m     24\u001b[0m     \u001b[0mstorage\u001b[0m\u001b[0;34m.\u001b[0m\u001b[0mconn\u001b[0m\u001b[0;34m.\u001b[0m\u001b[0mcommit\u001b[0m\u001b[0;34m(\u001b[0m\u001b[0;34m)\u001b[0m\u001b[0;34m\u001b[0m\u001b[0;34m\u001b[0m\u001b[0m\n\u001b[1;32m     25\u001b[0m \u001b[0;34m\u001b[0m\u001b[0m\n",
      "\u001b[0;31mDuplicateSchema\u001b[0m: schema \"media_analysis\" already exists\n"
     ]
    }
   ],
   "source": [
    "create_schema(storage)"
   ]
  },
  {
   "cell_type": "code",
   "execution_count": 210,
   "metadata": {},
   "outputs": [],
   "source": [
    "storage['kpt'].meta = {'date':'datetime', 'person':'str'}"
   ]
  },
  {
   "cell_type": "code",
   "execution_count": 211,
   "metadata": {},
   "outputs": [
    {
     "name": "stdout",
     "output_type": "stream",
     "text": [
      "INFO:collection.py:107: new empty collection 'kpt' created\n"
     ]
    },
    {
     "data": {
      "text/html": [
       "<b>PgCollection</b><br/><b>name:</b> kpt<br/><b>storage:</b> PostgresStorage(user=swen password=xxx dbname=ekt host=127.0.0.1 port=5432 schema=media_analysis temporary=False)<br/><b>count objects:</b> 0<br/><b>Metadata</b><br/><table border=\"1\" class=\"dataframe\">\n",
       "  <thead>\n",
       "    <tr style=\"text-align: right;\">\n",
       "      <th></th>\n",
       "      <th>data type</th>\n",
       "    </tr>\n",
       "  </thead>\n",
       "  <tbody>\n",
       "    <tr>\n",
       "      <th>date</th>\n",
       "      <td>timestamp without time zone</td>\n",
       "    </tr>\n",
       "    <tr>\n",
       "      <th>person</th>\n",
       "      <td>text</td>\n",
       "    </tr>\n",
       "  </tbody>\n",
       "</table><b>Layers</b><br/>unknown"
      ],
      "text/plain": [
       "<estnltk.storage.postgres.collection.PgCollection at 0x1a1e4290b8>"
      ]
     },
     "execution_count": 211,
     "metadata": {},
     "output_type": "execute_result"
    }
   ],
   "source": [
    "storage['kpt'].create('Keskpäevatunni saadete automaatne transcriptsioon')#, meta={'date':'datetime', 'person':'str'})"
   ]
  },
  {
   "cell_type": "code",
   "execution_count": 212,
   "metadata": {},
   "outputs": [],
   "source": [
    "storage['kpt'].column_names += list(storage['kpt'].meta.keys())"
   ]
  },
  {
   "cell_type": "code",
   "execution_count": 213,
   "metadata": {},
   "outputs": [
    {
     "data": {
      "text/plain": [
       "['id', 'data', 'date', 'person']"
      ]
     },
     "execution_count": 213,
     "metadata": {},
     "output_type": "execute_result"
    }
   ],
   "source": [
    "storage['kpt'].column_names "
   ]
  },
  {
   "cell_type": "code",
   "execution_count": 209,
   "metadata": {},
   "outputs": [],
   "source": [
    "storage['kpt'].delete()"
   ]
  },
  {
   "cell_type": "code",
   "execution_count": 123,
   "metadata": {},
   "outputs": [],
   "source": [
    "from datetime import datetime"
   ]
  },
  {
   "cell_type": "code",
   "execution_count": 124,
   "metadata": {},
   "outputs": [
    {
     "data": {
      "text/plain": [
       "datetime.datetime(2019, 9, 7, 0, 0)"
      ]
     },
     "execution_count": 124,
     "metadata": {},
     "output_type": "execute_result"
    }
   ],
   "source": [
    "datetime.strptime('2019-09-07', '%Y-%m-%d')"
   ]
  },
  {
   "cell_type": "code",
   "execution_count": 142,
   "metadata": {},
   "outputs": [],
   "source": [
    "header_voc_2 = \\\n",
    "[{\n",
    "    '_regex_pattern_': pattern,\n",
    "    '_group_': 'span',\n",
    "    '_priority_': 1,\n",
    "    'person': lambda m: m.group('name') \n",
    "}]\n",
    "\n",
    "header_tagger = RegexTagger(\n",
    "    vocabulary = header_voc_2, \n",
    "    output_layer = 'headers', \n",
    "    output_attributes = ['person'])"
   ]
  },
  {
   "cell_type": "code",
   "execution_count": 143,
   "metadata": {},
   "outputs": [],
   "source": [
    "segmenter = TextSegmentsTagger(\n",
    "    input_layer = 'headers', \n",
    "    output_layer = 'lines',\n",
    "    output_attributes = ['person'],\n",
    "    decorator = lambda span: {'person': span['person']},\n",
    ")"
   ]
  },
  {
   "cell_type": "code",
   "execution_count": null,
   "metadata": {},
   "outputs": [],
   "source": [
    "import os"
   ]
  },
  {
   "cell_type": "code",
   "execution_count": 214,
   "metadata": {},
   "outputs": [
    {
     "name": "stdout",
     "output_type": "stream",
     "text": [
      "INFO:collection.py:325: inserted 455 texts into the collection 'kpt'\n"
     ]
    }
   ],
   "source": [
    "collection = storage['kpt']\n",
    "directory = os.fsencode('data')\n",
    "\n",
    "with collection.insert() as collection_insert:\n",
    "\n",
    "    for file in os.listdir(directory):\n",
    "        filename = os.fsdecode(file)\n",
    "        if filename == 'readme.md':\n",
    "            continue\n",
    "        \n",
    "        date = datetime.strptime(re.search(r'(?P<date>.*)\\.txt', filename).group('date'),'%Y-%m-%d')\n",
    "        file = codecs.open(\"data/2019-09-07.txt\", \"r\", \"utf-8\")\n",
    "        text = segmenter(header_tagger(Text(file.read())))\n",
    "    \n",
    "        for span in text.lines:\n",
    "            line = span.text.strip()\n",
    "            if line == '':\n",
    "                continue\n",
    "                \n",
    "            line_text = Text(line)\n",
    "            #line_text.analyse('segmentation')\n",
    "            line_text.tag_layer(['compound_tokens', 'words', 'paragraphs'])\n",
    "            meta_data = {'date': date, 'person': span['person']}\n",
    "            collection_insert(text=line_text, meta_data=meta_data)"
   ]
  },
  {
   "cell_type": "code",
   "execution_count": 195,
   "metadata": {},
   "outputs": [],
   "source": [
    "from estnltk.taggers import WordTagger\n",
    "from estnltk.taggers import VabamorfTagger \n"
   ]
  },
  {
   "cell_type": "code",
   "execution_count": 215,
   "metadata": {},
   "outputs": [
    {
     "data": {
      "text/html": [
       "<table border=\"1\" class=\"dataframe\">\n",
       "  <thead>\n",
       "    <tr style=\"text-align: right;\">\n",
       "      <th>text</th>\n",
       "    </tr>\n",
       "  </thead>\n",
       "  <tbody>\n",
       "    <tr>\n",
       "      <td><div align = \"left\">Kuku raadios välja öeldud seisukohad ei pea ühtima Kuku raadio seisukohtadega. Te kuulate Kuku raadiot?</div></td>\n",
       "    </tr>\n",
       "  </tbody>\n",
       "</table>\n",
       "<table border=\"1\" class=\"dataframe\">\n",
       "  <thead>\n",
       "    <tr style=\"text-align: right;\">\n",
       "      <th>layer name</th>\n",
       "      <th>attributes</th>\n",
       "      <th>parent</th>\n",
       "      <th>enveloping</th>\n",
       "      <th>ambiguous</th>\n",
       "      <th>span count</th>\n",
       "    </tr>\n",
       "  </thead>\n",
       "  <tbody>\n",
       "    <tr>\n",
       "      <td>paragraphs</td>\n",
       "      <td></td>\n",
       "      <td>None</td>\n",
       "      <td>sentences</td>\n",
       "      <td>False</td>\n",
       "      <td>1</td>\n",
       "    </tr>\n",
       "    <tr>\n",
       "      <td>sentences</td>\n",
       "      <td></td>\n",
       "      <td>None</td>\n",
       "      <td>words</td>\n",
       "      <td>False</td>\n",
       "      <td>2</td>\n",
       "    </tr>\n",
       "    <tr>\n",
       "      <td>tokens</td>\n",
       "      <td></td>\n",
       "      <td>None</td>\n",
       "      <td>None</td>\n",
       "      <td>False</td>\n",
       "      <td>17</td>\n",
       "    </tr>\n",
       "    <tr>\n",
       "      <td>compound_tokens</td>\n",
       "      <td>type, normalized</td>\n",
       "      <td>None</td>\n",
       "      <td>tokens</td>\n",
       "      <td>False</td>\n",
       "      <td>0</td>\n",
       "    </tr>\n",
       "    <tr>\n",
       "      <td>words</td>\n",
       "      <td>normalized_form</td>\n",
       "      <td>None</td>\n",
       "      <td>None</td>\n",
       "      <td>True</td>\n",
       "      <td>17</td>\n",
       "    </tr>\n",
       "  </tbody>\n",
       "</table>"
      ],
      "text/plain": [
       "Text(text='Kuku raadios välja öeldud seisukohad ei pea ühtima Kuku raadio seisukohtadega. Te kuulate Kuku raadiot?')"
      ]
     },
     "execution_count": 215,
     "metadata": {},
     "output_type": "execute_result"
    }
   ],
   "source": [
    "collection[0]"
   ]
  },
  {
   "cell_type": "code",
   "execution_count": 220,
   "metadata": {},
   "outputs": [],
   "source": [
    "vabamorf = VabamorfTagger(disambiguate = True, output_layer = 'morph_analysis')\n",
    "\n"
   ]
  },
  {
   "cell_type": "code",
   "execution_count": 221,
   "metadata": {},
   "outputs": [],
   "source": [
    "tmp = vabamorf(collection[0])"
   ]
  },
  {
   "cell_type": "code",
   "execution_count": 222,
   "metadata": {},
   "outputs": [
    {
     "data": {
      "text/html": [
       "<h4>Layer</h4>\n",
       "\n",
       "\n",
       "<table border=\"1\" class=\"dataframe\">\n",
       "  <thead>\n",
       "    <tr style=\"text-align: right;\">\n",
       "      <th>layer name</th>\n",
       "      <th>attributes</th>\n",
       "      <th>parent</th>\n",
       "      <th>enveloping</th>\n",
       "      <th>ambiguous</th>\n",
       "      <th>span count</th>\n",
       "    </tr>\n",
       "  </thead>\n",
       "  <tbody>\n",
       "    <tr>\n",
       "      <td>morph_analysis</td>\n",
       "      <td>normalized_text, lemma, root, root_tokens, ending, clitic, form, partofspeech</td>\n",
       "      <td>words</td>\n",
       "      <td>None</td>\n",
       "      <td>True</td>\n",
       "      <td>17</td>\n",
       "    </tr>\n",
       "  </tbody>\n",
       "</table>\n",
       "<table border=\"1\" class=\"dataframe\">\n",
       "  <thead>\n",
       "    <tr style=\"text-align: right;\">\n",
       "      <th>text</th>\n",
       "      <th>normalized_text</th>\n",
       "      <th>lemma</th>\n",
       "      <th>root</th>\n",
       "      <th>root_tokens</th>\n",
       "      <th>ending</th>\n",
       "      <th>clitic</th>\n",
       "      <th>form</th>\n",
       "      <th>partofspeech</th>\n",
       "    </tr>\n",
       "  </thead>\n",
       "  <tbody>\n",
       "    <tr>\n",
       "      <td>Kuku</td>\n",
       "      <td>Kuku</td>\n",
       "      <td>Kuku</td>\n",
       "      <td>Kuku</td>\n",
       "      <td>['Kuku']</td>\n",
       "      <td>0</td>\n",
       "      <td></td>\n",
       "      <td>sg g</td>\n",
       "      <td>H</td>\n",
       "    </tr>\n",
       "    <tr>\n",
       "      <td>raadios</td>\n",
       "      <td>raadios</td>\n",
       "      <td>raadio</td>\n",
       "      <td>raadio</td>\n",
       "      <td>['raadio']</td>\n",
       "      <td>s</td>\n",
       "      <td></td>\n",
       "      <td>sg in</td>\n",
       "      <td>S</td>\n",
       "    </tr>\n",
       "    <tr>\n",
       "      <td>välja</td>\n",
       "      <td>välja</td>\n",
       "      <td>välja</td>\n",
       "      <td>välja</td>\n",
       "      <td>['välja']</td>\n",
       "      <td>0</td>\n",
       "      <td></td>\n",
       "      <td></td>\n",
       "      <td>D</td>\n",
       "    </tr>\n",
       "    <tr>\n",
       "      <td>öeldud</td>\n",
       "      <td>öeldud</td>\n",
       "      <td>öeldud</td>\n",
       "      <td>öeldud</td>\n",
       "      <td>['öeldud']</td>\n",
       "      <td>0</td>\n",
       "      <td></td>\n",
       "      <td></td>\n",
       "      <td>A</td>\n",
       "    </tr>\n",
       "    <tr>\n",
       "      <td></td>\n",
       "      <td>öeldud</td>\n",
       "      <td>öeldud</td>\n",
       "      <td>öeldud</td>\n",
       "      <td>['öeldud']</td>\n",
       "      <td>0</td>\n",
       "      <td></td>\n",
       "      <td>sg n</td>\n",
       "      <td>A</td>\n",
       "    </tr>\n",
       "    <tr>\n",
       "      <td></td>\n",
       "      <td>öeldud</td>\n",
       "      <td>öeldud</td>\n",
       "      <td>öeldud</td>\n",
       "      <td>['öeldud']</td>\n",
       "      <td>d</td>\n",
       "      <td></td>\n",
       "      <td>pl n</td>\n",
       "      <td>A</td>\n",
       "    </tr>\n",
       "    <tr>\n",
       "      <td></td>\n",
       "      <td>öeldud</td>\n",
       "      <td>ütlema</td>\n",
       "      <td>ütle</td>\n",
       "      <td>['ütle']</td>\n",
       "      <td>dud</td>\n",
       "      <td></td>\n",
       "      <td>tud</td>\n",
       "      <td>V</td>\n",
       "    </tr>\n",
       "    <tr>\n",
       "      <td>seisukohad</td>\n",
       "      <td>seisukohad</td>\n",
       "      <td>seisukoht</td>\n",
       "      <td>seisu_koht</td>\n",
       "      <td>['seisu', 'koht']</td>\n",
       "      <td>d</td>\n",
       "      <td></td>\n",
       "      <td>pl n</td>\n",
       "      <td>S</td>\n",
       "    </tr>\n",
       "    <tr>\n",
       "      <td>ei</td>\n",
       "      <td>ei</td>\n",
       "      <td>ei</td>\n",
       "      <td>ei</td>\n",
       "      <td>['ei']</td>\n",
       "      <td>0</td>\n",
       "      <td></td>\n",
       "      <td>neg</td>\n",
       "      <td>V</td>\n",
       "    </tr>\n",
       "    <tr>\n",
       "      <td>pea</td>\n",
       "      <td>pea</td>\n",
       "      <td>pidama</td>\n",
       "      <td>pida</td>\n",
       "      <td>['pida']</td>\n",
       "      <td>0</td>\n",
       "      <td></td>\n",
       "      <td>o</td>\n",
       "      <td>V</td>\n",
       "    </tr>\n",
       "    <tr>\n",
       "      <td>ühtima</td>\n",
       "      <td>ühtima</td>\n",
       "      <td>ühtima</td>\n",
       "      <td>ühti</td>\n",
       "      <td>['ühti']</td>\n",
       "      <td>ma</td>\n",
       "      <td></td>\n",
       "      <td>ma</td>\n",
       "      <td>V</td>\n",
       "    </tr>\n",
       "    <tr>\n",
       "      <td>Kuku</td>\n",
       "      <td>Kuku</td>\n",
       "      <td>kuku</td>\n",
       "      <td>kuku</td>\n",
       "      <td>['kuku']</td>\n",
       "      <td>0</td>\n",
       "      <td></td>\n",
       "      <td>sg g</td>\n",
       "      <td>A</td>\n",
       "    </tr>\n",
       "    <tr>\n",
       "      <td>raadio</td>\n",
       "      <td>raadio</td>\n",
       "      <td>raadio</td>\n",
       "      <td>raadio</td>\n",
       "      <td>['raadio']</td>\n",
       "      <td>0</td>\n",
       "      <td></td>\n",
       "      <td>sg g</td>\n",
       "      <td>S</td>\n",
       "    </tr>\n",
       "    <tr>\n",
       "      <td>seisukohtadega</td>\n",
       "      <td>seisukohtadega</td>\n",
       "      <td>seisukoht</td>\n",
       "      <td>seisu_koht</td>\n",
       "      <td>['seisu', 'koht']</td>\n",
       "      <td>dega</td>\n",
       "      <td></td>\n",
       "      <td>pl kom</td>\n",
       "      <td>S</td>\n",
       "    </tr>\n",
       "    <tr>\n",
       "      <td>.</td>\n",
       "      <td>.</td>\n",
       "      <td>.</td>\n",
       "      <td>.</td>\n",
       "      <td>['.']</td>\n",
       "      <td></td>\n",
       "      <td></td>\n",
       "      <td></td>\n",
       "      <td>Z</td>\n",
       "    </tr>\n",
       "    <tr>\n",
       "      <td>Te</td>\n",
       "      <td>Te</td>\n",
       "      <td>sina</td>\n",
       "      <td>sina</td>\n",
       "      <td>['sina']</td>\n",
       "      <td>0</td>\n",
       "      <td></td>\n",
       "      <td>pl n</td>\n",
       "      <td>P</td>\n",
       "    </tr>\n",
       "    <tr>\n",
       "      <td>kuulate</td>\n",
       "      <td>kuulate</td>\n",
       "      <td>kuulama</td>\n",
       "      <td>kuula</td>\n",
       "      <td>['kuula']</td>\n",
       "      <td>te</td>\n",
       "      <td></td>\n",
       "      <td>te</td>\n",
       "      <td>V</td>\n",
       "    </tr>\n",
       "    <tr>\n",
       "      <td>Kuku</td>\n",
       "      <td>Kuku</td>\n",
       "      <td>kuku</td>\n",
       "      <td>kuku</td>\n",
       "      <td>['kuku']</td>\n",
       "      <td>0</td>\n",
       "      <td></td>\n",
       "      <td>sg g</td>\n",
       "      <td>A</td>\n",
       "    </tr>\n",
       "    <tr>\n",
       "      <td>raadiot</td>\n",
       "      <td>raadiot</td>\n",
       "      <td>raadio</td>\n",
       "      <td>raadio</td>\n",
       "      <td>['raadio']</td>\n",
       "      <td>t</td>\n",
       "      <td></td>\n",
       "      <td>sg p</td>\n",
       "      <td>S</td>\n",
       "    </tr>\n",
       "    <tr>\n",
       "      <td>?</td>\n",
       "      <td>?</td>\n",
       "      <td>?</td>\n",
       "      <td>?</td>\n",
       "      <td>['?']</td>\n",
       "      <td></td>\n",
       "      <td></td>\n",
       "      <td></td>\n",
       "      <td>Z</td>\n",
       "    </tr>\n",
       "  </tbody>\n",
       "</table>"
      ],
      "text/plain": [
       "Layer(name='morph_analysis', attributes=('normalized_text', 'lemma', 'root', 'root_tokens', 'ending', 'clitic', 'form', 'partofspeech'), spans=SL[Span('Kuku', [{'normalized_text': 'Kuku', 'lemma': 'Kuku', 'root': 'Kuku', 'root_tokens': ['Kuku'], 'ending': '0', 'clitic': '', 'form': 'sg g', 'partofspeech': 'H'}]),\n",
       "Span('raadios', [{'normalized_text': 'raadios', 'lemma': 'raadio', 'root': 'raadio', 'root_tokens': ['raadio'], 'ending': 's', 'clitic': '', 'form': 'sg in', 'partofspeech': 'S'}]),\n",
       "Span('välja', [{'normalized_text': 'välja', 'lemma': 'välja', 'root': 'välja', 'root_tokens': ['välja'], 'ending': '0', 'clitic': '', 'form': '', 'partofspeech': 'D'}]),\n",
       "Span('öeldud', [{'normalized_text': 'öeldud', 'lemma': 'öeldud', 'root': 'öeldud', 'root_tokens': ['öeldud'], 'ending': '0', 'clitic': '', 'form': '', 'partofspeech': 'A'}, {'normalized_text': 'öeldud', 'lemma': 'öeldud', 'root': 'öeldud', 'root_tokens': ['öeldud'], 'ending': '0', 'clitic': '', 'form': 'sg n', 'partofspeech': 'A'}, {'normalized_text': 'öeldud', 'lemma': 'öeldud', 'root': 'öeldud', 'root_tokens': ['öeldud'], 'ending': 'd', 'clitic': '', 'form': 'pl n', 'partofspeech': 'A'}, {'normalized_text': 'öeldud', 'lemma': 'ütlema', 'root': 'ütle', 'root_tokens': ['ütle'], 'ending': 'dud', 'clitic': '', 'form': 'tud', 'partofspeech': 'V'}]),\n",
       "Span('seisukohad', [{'normalized_text': 'seisukohad', 'lemma': 'seisukoht', 'root': 'seisu_koht', 'root_tokens': ['seisu', 'koht'], 'ending': 'd', 'clitic': '', 'form': 'pl n', 'partofspeech': 'S'}]),\n",
       "Span('ei', [{'normalized_text': 'ei', 'lemma': 'ei', 'root': 'ei', 'root_tokens': ['ei'], 'ending': '0', 'clitic': '', 'form': 'neg', 'partofspeech': 'V'}]),\n",
       "Span('pea', [{'normalized_text': 'pea', 'lemma': 'pidama', 'root': 'pida', 'root_tokens': ['pida'], 'ending': '0', 'clitic': '', 'form': 'o', 'partofspeech': 'V'}]),\n",
       "Span('ühtima', [{'normalized_text': 'ühtima', 'lemma': 'ühtima', 'root': 'ühti', 'root_tokens': ['ühti'], 'ending': 'ma', 'clitic': '', 'form': 'ma', 'partofspeech': 'V'}]),\n",
       "Span('Kuku', [{'normalized_text': 'Kuku', 'lemma': 'kuku', 'root': 'kuku', 'root_tokens': ['kuku'], 'ending': '0', 'clitic': '', 'form': 'sg g', 'partofspeech': 'A'}]),\n",
       "Span('raadio', [{'normalized_text': 'raadio', 'lemma': 'raadio', 'root': 'raadio', 'root_tokens': ['raadio'], 'ending': '0', 'clitic': '', 'form': 'sg g', 'partofspeech': 'S'}]),\n",
       "Span('seisukohtadega', [{'normalized_text': 'seisukohtadega', 'lemma': 'seisukoht', 'root': 'seisu_koht', 'root_tokens': ['seisu', 'koht'], 'ending': 'dega', 'clitic': '', 'form': 'pl kom', 'partofspeech': 'S'}]),\n",
       "Span('.', [{'normalized_text': '.', 'lemma': '.', 'root': '.', 'root_tokens': ['.'], 'ending': '', 'clitic': '', 'form': '', 'partofspeech': 'Z'}]),\n",
       "Span('Te', [{'normalized_text': 'Te', 'lemma': 'sina', 'root': 'sina', 'root_tokens': ['sina'], 'ending': '0', 'clitic': '', 'form': 'pl n', 'partofspeech': 'P'}]),\n",
       "Span('kuulate', [{'normalized_text': 'kuulate', 'lemma': 'kuulama', 'root': 'kuula', 'root_tokens': ['kuula'], 'ending': 'te', 'clitic': '', 'form': 'te', 'partofspeech': 'V'}]),\n",
       "Span('Kuku', [{'normalized_text': 'Kuku', 'lemma': 'kuku', 'root': 'kuku', 'root_tokens': ['kuku'], 'ending': '0', 'clitic': '', 'form': 'sg g', 'partofspeech': 'A'}]),\n",
       "Span('raadiot', [{'normalized_text': 'raadiot', 'lemma': 'raadio', 'root': 'raadio', 'root_tokens': ['raadio'], 'ending': 't', 'clitic': '', 'form': 'sg p', 'partofspeech': 'S'}]),\n",
       "Span('?', [{'normalized_text': '?', 'lemma': '?', 'root': '?', 'root_tokens': ['?'], 'ending': '', 'clitic': '', 'form': '', 'partofspeech': 'Z'}])])"
      ]
     },
     "execution_count": 222,
     "metadata": {},
     "output_type": "execute_result"
    }
   ],
   "source": [
    "tmp.morph_analysis"
   ]
  },
  {
   "cell_type": "code",
   "execution_count": 224,
   "metadata": {},
   "outputs": [
    {
     "name": "stdout",
     "output_type": "stream",
     "text": [
      "INFO:collection.py:817: collection: 'kpt'\n",
      "INFO:collection.py:836: preparing to create a new layer: 'morph_analysis'\n",
      "INFO:collection.py:869: inserting data into the 'morph_analysis' layer table\n",
      "INFO:collection.py:904: layer created: 'morph_analysis'\n"
     ]
    }
   ],
   "source": [
    "collection.create_layer(tagger=vabamorf)"
   ]
  },
  {
   "cell_type": "code",
   "execution_count": 225,
   "metadata": {},
   "outputs": [],
   "source": [
    "from estnltk.storage.postgres import SubstringQuery, JsonbTextQuery, JsonbLayerQuery"
   ]
  },
  {
   "cell_type": "code",
   "execution_count": 226,
   "metadata": {},
   "outputs": [
    {
     "name": "stdout",
     "output_type": "stream",
     "text": [
      "Text(text='Aga praegu peab vist Nordikat iseloomustada nii nagu aastaid tagasi. Noorem laps oli veel väike ja ma käisin temaga koos kinos vaatamas multikaid siis üks multikas Madagaskar, selle üks stseen, kus Pidviinidest lendurid teatasid reisijatele, et meil on teile hea uudis ja halb uudis, hea uudis on see, et me maandume, halb uudis on see, et me kukume, nagu kyll.')\n",
      "Text(text='Keskpäevatund jätkab Urmas Jaagant, Ainar Ruussaar ja Priit Hõbemägi Tallinna stuudios. Brexiti on Ühendkuningriigi lahkumine Euroopa Liidust või keegi veel seda ei tea, aga need, kes seda teavad, need on võinud selle nädala jooksul jälgida maailma parimad TV-d raamat, mis on siis vaadeldav nii BBC koduleheküljelt kui Briti parlamendi koduleheküljelt, kui ka kõikidest suurematest maailma infoportaalidest, mis räägivad ja mis näitab otseülekandes seda, kuidas Briti parlament vaidleb selle üle, kas britid peaksid kukkuma kolmekümne esimesel oktoobril kolksti Euroopa Liidust välja ilma igasuguste lepingute või siis peaksid nad nuruma veel kord pikendust, seekord kuni kolmekümne esimese jaanuarini ükskord on juba pikendust saadud, aga brittidel ei lähe selle maailma vanima, ühe vanima parlamendi nii-öelda töö korraldamine eriti hästi sellepärast et, et peaministrid tahavad ühte ja parlament tahab teist ja nii nagu maailmas on selgeks saanud, et britid teavad tänase päevani ja väga hästi seda, mida nad ei taha. Aga mida nad tegelikult tahavad, seda nad ei oska veel öelda ja nii on ka nende uus peaminister Boris Prantsus on saanud mitu meeletud hoopi sel nädalal Briti parlamendis. Nimelt ta üritas välja kutsuda siis ennetähtaegseid parlamendi valimisi. Selles asjas sai ta lüüa, ta üritas siis kindlustada seda, et britid tõepoolest kolmekümne esimesel oktoobril välja astuvad Euroopa Liidust või õigemini kukuvad välja ilma mingisuguse lepetega, selles sai ta lüüa. Ja kuigi parlament ütleb talle, et nüüd pead sa minema Brüsselisse ja paluma pikendust, siis vastas Johnson selle peale lihtsalt, et parem kõngen kraavis, kui lähen kätt väristama, nii et võiks öelda, et see on ikka täiesti pretsedenditu tsirkus, mis maailmas toimub ja samal ajal on selge see, et see mõjutab ka kõiki neid. See mõjutab mitte ainult brite, aga see mõjutab ka Euroopa Liitu ja see mõjutab ka eestlasi. Ja see, miks see asi nii raskelt käib, sellel on ka kindlasti omalt poolt.')\n",
      "Text(text='Aga praegu peab vist Nordikat iseloomustada nii nagu aastaid tagasi. Noorem laps oli veel väike ja ma käisin temaga koos kinos vaatamas multikaid siis üks multikas Madagaskar, selle üks stseen, kus Pidviinidest lendurid teatasid reisijatele, et meil on teile hea uudis ja halb uudis, hea uudis on see, et me maandume, halb uudis on see, et me kukume, nagu kyll.')\n",
      "Text(text='Keskpäevatund jätkab Urmas Jaagant, Ainar Ruussaar ja Priit Hõbemägi Tallinna stuudios. Brexiti on Ühendkuningriigi lahkumine Euroopa Liidust või keegi veel seda ei tea, aga need, kes seda teavad, need on võinud selle nädala jooksul jälgida maailma parimad TV-d raamat, mis on siis vaadeldav nii BBC koduleheküljelt kui Briti parlamendi koduleheküljelt, kui ka kõikidest suurematest maailma infoportaalidest, mis räägivad ja mis näitab otseülekandes seda, kuidas Briti parlament vaidleb selle üle, kas britid peaksid kukkuma kolmekümne esimesel oktoobril kolksti Euroopa Liidust välja ilma igasuguste lepingute või siis peaksid nad nuruma veel kord pikendust, seekord kuni kolmekümne esimese jaanuarini ükskord on juba pikendust saadud, aga brittidel ei lähe selle maailma vanima, ühe vanima parlamendi nii-öelda töö korraldamine eriti hästi sellepärast et, et peaministrid tahavad ühte ja parlament tahab teist ja nii nagu maailmas on selgeks saanud, et britid teavad tänase päevani ja väga hästi seda, mida nad ei taha. Aga mida nad tegelikult tahavad, seda nad ei oska veel öelda ja nii on ka nende uus peaminister Boris Prantsus on saanud mitu meeletud hoopi sel nädalal Briti parlamendis. Nimelt ta üritas välja kutsuda siis ennetähtaegseid parlamendi valimisi. Selles asjas sai ta lüüa, ta üritas siis kindlustada seda, et britid tõepoolest kolmekümne esimesel oktoobril välja astuvad Euroopa Liidust või õigemini kukuvad välja ilma mingisuguse lepetega, selles sai ta lüüa. Ja kuigi parlament ütleb talle, et nüüd pead sa minema Brüsselisse ja paluma pikendust, siis vastas Johnson selle peale lihtsalt, et parem kõngen kraavis, kui lähen kätt väristama, nii et võiks öelda, et see on ikka täiesti pretsedenditu tsirkus, mis maailmas toimub ja samal ajal on selge see, et see mõjutab ka kõiki neid. See mõjutab mitte ainult brite, aga see mõjutab ka Euroopa Liitu ja see mõjutab ka eestlasi. Ja see, miks see asi nii raskelt käib, sellel on ka kindlasti omalt poolt.')\n",
      "Text(text='Aga praegu peab vist Nordikat iseloomustada nii nagu aastaid tagasi. Noorem laps oli veel väike ja ma käisin temaga koos kinos vaatamas multikaid siis üks multikas Madagaskar, selle üks stseen, kus Pidviinidest lendurid teatasid reisijatele, et meil on teile hea uudis ja halb uudis, hea uudis on see, et me maandume, halb uudis on see, et me kukume, nagu kyll.')\n",
      "Text(text='Keskpäevatund jätkab Urmas Jaagant, Ainar Ruussaar ja Priit Hõbemägi Tallinna stuudios. Brexiti on Ühendkuningriigi lahkumine Euroopa Liidust või keegi veel seda ei tea, aga need, kes seda teavad, need on võinud selle nädala jooksul jälgida maailma parimad TV-d raamat, mis on siis vaadeldav nii BBC koduleheküljelt kui Briti parlamendi koduleheküljelt, kui ka kõikidest suurematest maailma infoportaalidest, mis räägivad ja mis näitab otseülekandes seda, kuidas Briti parlament vaidleb selle üle, kas britid peaksid kukkuma kolmekümne esimesel oktoobril kolksti Euroopa Liidust välja ilma igasuguste lepingute või siis peaksid nad nuruma veel kord pikendust, seekord kuni kolmekümne esimese jaanuarini ükskord on juba pikendust saadud, aga brittidel ei lähe selle maailma vanima, ühe vanima parlamendi nii-öelda töö korraldamine eriti hästi sellepärast et, et peaministrid tahavad ühte ja parlament tahab teist ja nii nagu maailmas on selgeks saanud, et britid teavad tänase päevani ja väga hästi seda, mida nad ei taha. Aga mida nad tegelikult tahavad, seda nad ei oska veel öelda ja nii on ka nende uus peaminister Boris Prantsus on saanud mitu meeletud hoopi sel nädalal Briti parlamendis. Nimelt ta üritas välja kutsuda siis ennetähtaegseid parlamendi valimisi. Selles asjas sai ta lüüa, ta üritas siis kindlustada seda, et britid tõepoolest kolmekümne esimesel oktoobril välja astuvad Euroopa Liidust või õigemini kukuvad välja ilma mingisuguse lepetega, selles sai ta lüüa. Ja kuigi parlament ütleb talle, et nüüd pead sa minema Brüsselisse ja paluma pikendust, siis vastas Johnson selle peale lihtsalt, et parem kõngen kraavis, kui lähen kätt väristama, nii et võiks öelda, et see on ikka täiesti pretsedenditu tsirkus, mis maailmas toimub ja samal ajal on selge see, et see mõjutab ka kõiki neid. See mõjutab mitte ainult brite, aga see mõjutab ka Euroopa Liitu ja see mõjutab ka eestlasi. Ja see, miks see asi nii raskelt käib, sellel on ka kindlasti omalt poolt.')\n",
      "Text(text='Aga praegu peab vist Nordikat iseloomustada nii nagu aastaid tagasi. Noorem laps oli veel väike ja ma käisin temaga koos kinos vaatamas multikaid siis üks multikas Madagaskar, selle üks stseen, kus Pidviinidest lendurid teatasid reisijatele, et meil on teile hea uudis ja halb uudis, hea uudis on see, et me maandume, halb uudis on see, et me kukume, nagu kyll.')\n",
      "Text(text='Keskpäevatund jätkab Urmas Jaagant, Ainar Ruussaar ja Priit Hõbemägi Tallinna stuudios. Brexiti on Ühendkuningriigi lahkumine Euroopa Liidust või keegi veel seda ei tea, aga need, kes seda teavad, need on võinud selle nädala jooksul jälgida maailma parimad TV-d raamat, mis on siis vaadeldav nii BBC koduleheküljelt kui Briti parlamendi koduleheküljelt, kui ka kõikidest suurematest maailma infoportaalidest, mis räägivad ja mis näitab otseülekandes seda, kuidas Briti parlament vaidleb selle üle, kas britid peaksid kukkuma kolmekümne esimesel oktoobril kolksti Euroopa Liidust välja ilma igasuguste lepingute või siis peaksid nad nuruma veel kord pikendust, seekord kuni kolmekümne esimese jaanuarini ükskord on juba pikendust saadud, aga brittidel ei lähe selle maailma vanima, ühe vanima parlamendi nii-öelda töö korraldamine eriti hästi sellepärast et, et peaministrid tahavad ühte ja parlament tahab teist ja nii nagu maailmas on selgeks saanud, et britid teavad tänase päevani ja väga hästi seda, mida nad ei taha. Aga mida nad tegelikult tahavad, seda nad ei oska veel öelda ja nii on ka nende uus peaminister Boris Prantsus on saanud mitu meeletud hoopi sel nädalal Briti parlamendis. Nimelt ta üritas välja kutsuda siis ennetähtaegseid parlamendi valimisi. Selles asjas sai ta lüüa, ta üritas siis kindlustada seda, et britid tõepoolest kolmekümne esimesel oktoobril välja astuvad Euroopa Liidust või õigemini kukuvad välja ilma mingisuguse lepetega, selles sai ta lüüa. Ja kuigi parlament ütleb talle, et nüüd pead sa minema Brüsselisse ja paluma pikendust, siis vastas Johnson selle peale lihtsalt, et parem kõngen kraavis, kui lähen kätt väristama, nii et võiks öelda, et see on ikka täiesti pretsedenditu tsirkus, mis maailmas toimub ja samal ajal on selge see, et see mõjutab ka kõiki neid. See mõjutab mitte ainult brite, aga see mõjutab ka Euroopa Liitu ja see mõjutab ka eestlasi. Ja see, miks see asi nii raskelt käib, sellel on ka kindlasti omalt poolt.')\n",
      "Text(text='Aga praegu peab vist Nordikat iseloomustada nii nagu aastaid tagasi. Noorem laps oli veel väike ja ma käisin temaga koos kinos vaatamas multikaid siis üks multikas Madagaskar, selle üks stseen, kus Pidviinidest lendurid teatasid reisijatele, et meil on teile hea uudis ja halb uudis, hea uudis on see, et me maandume, halb uudis on see, et me kukume, nagu kyll.')\n",
      "Text(text='Keskpäevatund jätkab Urmas Jaagant, Ainar Ruussaar ja Priit Hõbemägi Tallinna stuudios. Brexiti on Ühendkuningriigi lahkumine Euroopa Liidust või keegi veel seda ei tea, aga need, kes seda teavad, need on võinud selle nädala jooksul jälgida maailma parimad TV-d raamat, mis on siis vaadeldav nii BBC koduleheküljelt kui Briti parlamendi koduleheküljelt, kui ka kõikidest suurematest maailma infoportaalidest, mis räägivad ja mis näitab otseülekandes seda, kuidas Briti parlament vaidleb selle üle, kas britid peaksid kukkuma kolmekümne esimesel oktoobril kolksti Euroopa Liidust välja ilma igasuguste lepingute või siis peaksid nad nuruma veel kord pikendust, seekord kuni kolmekümne esimese jaanuarini ükskord on juba pikendust saadud, aga brittidel ei lähe selle maailma vanima, ühe vanima parlamendi nii-öelda töö korraldamine eriti hästi sellepärast et, et peaministrid tahavad ühte ja parlament tahab teist ja nii nagu maailmas on selgeks saanud, et britid teavad tänase päevani ja väga hästi seda, mida nad ei taha. Aga mida nad tegelikult tahavad, seda nad ei oska veel öelda ja nii on ka nende uus peaminister Boris Prantsus on saanud mitu meeletud hoopi sel nädalal Briti parlamendis. Nimelt ta üritas välja kutsuda siis ennetähtaegseid parlamendi valimisi. Selles asjas sai ta lüüa, ta üritas siis kindlustada seda, et britid tõepoolest kolmekümne esimesel oktoobril välja astuvad Euroopa Liidust või õigemini kukuvad välja ilma mingisuguse lepetega, selles sai ta lüüa. Ja kuigi parlament ütleb talle, et nüüd pead sa minema Brüsselisse ja paluma pikendust, siis vastas Johnson selle peale lihtsalt, et parem kõngen kraavis, kui lähen kätt väristama, nii et võiks öelda, et see on ikka täiesti pretsedenditu tsirkus, mis maailmas toimub ja samal ajal on selge see, et see mõjutab ka kõiki neid. See mõjutab mitte ainult brite, aga see mõjutab ka Euroopa Liitu ja see mõjutab ka eestlasi. Ja see, miks see asi nii raskelt käib, sellel on ka kindlasti omalt poolt.')\n",
      "Text(text='Aga praegu peab vist Nordikat iseloomustada nii nagu aastaid tagasi. Noorem laps oli veel väike ja ma käisin temaga koos kinos vaatamas multikaid siis üks multikas Madagaskar, selle üks stseen, kus Pidviinidest lendurid teatasid reisijatele, et meil on teile hea uudis ja halb uudis, hea uudis on see, et me maandume, halb uudis on see, et me kukume, nagu kyll.')\n",
      "Text(text='Keskpäevatund jätkab Urmas Jaagant, Ainar Ruussaar ja Priit Hõbemägi Tallinna stuudios. Brexiti on Ühendkuningriigi lahkumine Euroopa Liidust või keegi veel seda ei tea, aga need, kes seda teavad, need on võinud selle nädala jooksul jälgida maailma parimad TV-d raamat, mis on siis vaadeldav nii BBC koduleheküljelt kui Briti parlamendi koduleheküljelt, kui ka kõikidest suurematest maailma infoportaalidest, mis räägivad ja mis näitab otseülekandes seda, kuidas Briti parlament vaidleb selle üle, kas britid peaksid kukkuma kolmekümne esimesel oktoobril kolksti Euroopa Liidust välja ilma igasuguste lepingute või siis peaksid nad nuruma veel kord pikendust, seekord kuni kolmekümne esimese jaanuarini ükskord on juba pikendust saadud, aga brittidel ei lähe selle maailma vanima, ühe vanima parlamendi nii-öelda töö korraldamine eriti hästi sellepärast et, et peaministrid tahavad ühte ja parlament tahab teist ja nii nagu maailmas on selgeks saanud, et britid teavad tänase päevani ja väga hästi seda, mida nad ei taha. Aga mida nad tegelikult tahavad, seda nad ei oska veel öelda ja nii on ka nende uus peaminister Boris Prantsus on saanud mitu meeletud hoopi sel nädalal Briti parlamendis. Nimelt ta üritas välja kutsuda siis ennetähtaegseid parlamendi valimisi. Selles asjas sai ta lüüa, ta üritas siis kindlustada seda, et britid tõepoolest kolmekümne esimesel oktoobril välja astuvad Euroopa Liidust või õigemini kukuvad välja ilma mingisuguse lepetega, selles sai ta lüüa. Ja kuigi parlament ütleb talle, et nüüd pead sa minema Brüsselisse ja paluma pikendust, siis vastas Johnson selle peale lihtsalt, et parem kõngen kraavis, kui lähen kätt väristama, nii et võiks öelda, et see on ikka täiesti pretsedenditu tsirkus, mis maailmas toimub ja samal ajal on selge see, et see mõjutab ka kõiki neid. See mõjutab mitte ainult brite, aga see mõjutab ka Euroopa Liitu ja see mõjutab ka eestlasi. Ja see, miks see asi nii raskelt käib, sellel on ka kindlasti omalt poolt.')\n",
      "Text(text='Aga praegu peab vist Nordikat iseloomustada nii nagu aastaid tagasi. Noorem laps oli veel väike ja ma käisin temaga koos kinos vaatamas multikaid siis üks multikas Madagaskar, selle üks stseen, kus Pidviinidest lendurid teatasid reisijatele, et meil on teile hea uudis ja halb uudis, hea uudis on see, et me maandume, halb uudis on see, et me kukume, nagu kyll.')\n",
      "Text(text='Keskpäevatund jätkab Urmas Jaagant, Ainar Ruussaar ja Priit Hõbemägi Tallinna stuudios. Brexiti on Ühendkuningriigi lahkumine Euroopa Liidust või keegi veel seda ei tea, aga need, kes seda teavad, need on võinud selle nädala jooksul jälgida maailma parimad TV-d raamat, mis on siis vaadeldav nii BBC koduleheküljelt kui Briti parlamendi koduleheküljelt, kui ka kõikidest suurematest maailma infoportaalidest, mis räägivad ja mis näitab otseülekandes seda, kuidas Briti parlament vaidleb selle üle, kas britid peaksid kukkuma kolmekümne esimesel oktoobril kolksti Euroopa Liidust välja ilma igasuguste lepingute või siis peaksid nad nuruma veel kord pikendust, seekord kuni kolmekümne esimese jaanuarini ükskord on juba pikendust saadud, aga brittidel ei lähe selle maailma vanima, ühe vanima parlamendi nii-öelda töö korraldamine eriti hästi sellepärast et, et peaministrid tahavad ühte ja parlament tahab teist ja nii nagu maailmas on selgeks saanud, et britid teavad tänase päevani ja väga hästi seda, mida nad ei taha. Aga mida nad tegelikult tahavad, seda nad ei oska veel öelda ja nii on ka nende uus peaminister Boris Prantsus on saanud mitu meeletud hoopi sel nädalal Briti parlamendis. Nimelt ta üritas välja kutsuda siis ennetähtaegseid parlamendi valimisi. Selles asjas sai ta lüüa, ta üritas siis kindlustada seda, et britid tõepoolest kolmekümne esimesel oktoobril välja astuvad Euroopa Liidust või õigemini kukuvad välja ilma mingisuguse lepetega, selles sai ta lüüa. Ja kuigi parlament ütleb talle, et nüüd pead sa minema Brüsselisse ja paluma pikendust, siis vastas Johnson selle peale lihtsalt, et parem kõngen kraavis, kui lähen kätt väristama, nii et võiks öelda, et see on ikka täiesti pretsedenditu tsirkus, mis maailmas toimub ja samal ajal on selge see, et see mõjutab ka kõiki neid. See mõjutab mitte ainult brite, aga see mõjutab ka Euroopa Liitu ja see mõjutab ka eestlasi. Ja see, miks see asi nii raskelt käib, sellel on ka kindlasti omalt poolt.')\n",
      "Text(text='Aga praegu peab vist Nordikat iseloomustada nii nagu aastaid tagasi. Noorem laps oli veel väike ja ma käisin temaga koos kinos vaatamas multikaid siis üks multikas Madagaskar, selle üks stseen, kus Pidviinidest lendurid teatasid reisijatele, et meil on teile hea uudis ja halb uudis, hea uudis on see, et me maandume, halb uudis on see, et me kukume, nagu kyll.')\n",
      "Text(text='Keskpäevatund jätkab Urmas Jaagant, Ainar Ruussaar ja Priit Hõbemägi Tallinna stuudios. Brexiti on Ühendkuningriigi lahkumine Euroopa Liidust või keegi veel seda ei tea, aga need, kes seda teavad, need on võinud selle nädala jooksul jälgida maailma parimad TV-d raamat, mis on siis vaadeldav nii BBC koduleheküljelt kui Briti parlamendi koduleheküljelt, kui ka kõikidest suurematest maailma infoportaalidest, mis räägivad ja mis näitab otseülekandes seda, kuidas Briti parlament vaidleb selle üle, kas britid peaksid kukkuma kolmekümne esimesel oktoobril kolksti Euroopa Liidust välja ilma igasuguste lepingute või siis peaksid nad nuruma veel kord pikendust, seekord kuni kolmekümne esimese jaanuarini ükskord on juba pikendust saadud, aga brittidel ei lähe selle maailma vanima, ühe vanima parlamendi nii-öelda töö korraldamine eriti hästi sellepärast et, et peaministrid tahavad ühte ja parlament tahab teist ja nii nagu maailmas on selgeks saanud, et britid teavad tänase päevani ja väga hästi seda, mida nad ei taha. Aga mida nad tegelikult tahavad, seda nad ei oska veel öelda ja nii on ka nende uus peaminister Boris Prantsus on saanud mitu meeletud hoopi sel nädalal Briti parlamendis. Nimelt ta üritas välja kutsuda siis ennetähtaegseid parlamendi valimisi. Selles asjas sai ta lüüa, ta üritas siis kindlustada seda, et britid tõepoolest kolmekümne esimesel oktoobril välja astuvad Euroopa Liidust või õigemini kukuvad välja ilma mingisuguse lepetega, selles sai ta lüüa. Ja kuigi parlament ütleb talle, et nüüd pead sa minema Brüsselisse ja paluma pikendust, siis vastas Johnson selle peale lihtsalt, et parem kõngen kraavis, kui lähen kätt väristama, nii et võiks öelda, et see on ikka täiesti pretsedenditu tsirkus, mis maailmas toimub ja samal ajal on selge see, et see mõjutab ka kõiki neid. See mõjutab mitte ainult brite, aga see mõjutab ka Euroopa Liitu ja see mõjutab ka eestlasi. Ja see, miks see asi nii raskelt käib, sellel on ka kindlasti omalt poolt.')\n"
     ]
    }
   ],
   "source": [
    "for key, text in collection.select(SubstringQuery('kuku')):\n",
    "    print(text)"
   ]
  },
  {
   "cell_type": "code",
   "execution_count": 229,
   "metadata": {},
   "outputs": [
    {
     "data": {
      "text/plain": [
       "[(13,\n",
       "  Text(text='Aga praegu peab vist Nordikat iseloomustada nii nagu aastaid tagasi. Noorem laps oli veel väike ja ma käisin temaga koos kinos vaatamas multikaid siis üks multikas Madagaskar, selle üks stseen, kus Pidviinidest lendurid teatasid reisijatele, et meil on teile hea uudis ja halb uudis, hea uudis on see, et me maandume, halb uudis on see, et me kukume, nagu kyll.'))]"
      ]
     },
     "execution_count": 229,
     "metadata": {},
     "output_type": "execute_result"
    }
   ],
   "source": [
    "collection.select(SubstringQuery('kuku')).head(1)"
   ]
  },
  {
   "cell_type": "code",
   "execution_count": 239,
   "metadata": {},
   "outputs": [
    {
     "data": {
      "text/plain": [
       "Composed([Composed([Identifier('media_analysis'), SQL('.'), Identifier('kpt')]), SQL('.\"data\"->\\'layers\\' @> \\'[{'), SQL('\"name\": '), Identifier('words'), SQL(', \"spans\": [{'), SQL('\"annotations\": ['), SQL('{\"text\": \"Kuku\"}'), SQL(']}'), SQL(']}'), SQL(\"]'\")])"
      ]
     },
     "execution_count": 239,
     "metadata": {},
     "output_type": "execute_result"
    }
   ],
   "source": [
    "JsonbTextQuery('words', text='Kuku').eval(storage, 'kpt')"
   ]
  },
  {
   "cell_type": "code",
   "execution_count": 234,
   "metadata": {},
   "outputs": [
    {
     "data": {
      "text/plain": [
       "[]"
      ]
     },
     "execution_count": 234,
     "metadata": {},
     "output_type": "execute_result"
    }
   ],
   "source": [
    "collection.select(JsonbTextQuery('words', text='Kuku')).head() "
   ]
  },
  {
   "cell_type": "code",
   "execution_count": 249,
   "metadata": {},
   "outputs": [
    {
     "data": {
      "text/plain": [
       "['words', 'morph_analysis']"
      ]
     },
     "execution_count": 249,
     "metadata": {},
     "output_type": "execute_result"
    }
   ],
   "source": [
    "collection.selected_layers =['morph_analysis']\n",
    "collection.selected_layers"
   ]
  },
  {
   "cell_type": "code",
   "execution_count": 257,
   "metadata": {},
   "outputs": [
    {
     "data": {
      "text/html": [
       "<table border=\"1\" class=\"dataframe\">\n",
       "  <thead>\n",
       "    <tr style=\"text-align: right;\">\n",
       "      <th>text</th>\n",
       "    </tr>\n",
       "  </thead>\n",
       "  <tbody>\n",
       "    <tr>\n",
       "      <td><div align = \"left\">Kuku raadios välja öeldud seisukohad ei pea ühtima Kuku raadio seisukohtadega. Te kuulate Kuku raadiot?</div></td>\n",
       "    </tr>\n",
       "  </tbody>\n",
       "</table>\n",
       "<table border=\"1\" class=\"dataframe\">\n",
       "  <thead>\n",
       "    <tr style=\"text-align: right;\">\n",
       "      <th>layer name</th>\n",
       "      <th>attributes</th>\n",
       "      <th>parent</th>\n",
       "      <th>enveloping</th>\n",
       "      <th>ambiguous</th>\n",
       "      <th>span count</th>\n",
       "    </tr>\n",
       "  </thead>\n",
       "  <tbody>\n",
       "    <tr>\n",
       "      <td>words</td>\n",
       "      <td>normalized_form</td>\n",
       "      <td>None</td>\n",
       "      <td>None</td>\n",
       "      <td>True</td>\n",
       "      <td>17</td>\n",
       "    </tr>\n",
       "    <tr>\n",
       "      <td>morph_analysis</td>\n",
       "      <td>normalized_text, lemma, root, root_tokens, ending, clitic, form, partofspeech</td>\n",
       "      <td>words</td>\n",
       "      <td>None</td>\n",
       "      <td>True</td>\n",
       "      <td>17</td>\n",
       "    </tr>\n",
       "  </tbody>\n",
       "</table>"
      ],
      "text/plain": [
       "Text(text='Kuku raadios välja öeldud seisukohad ei pea ühtima Kuku raadio seisukohtadega. Te kuulate Kuku raadiot?')"
      ]
     },
     "metadata": {},
     "output_type": "display_data"
    }
   ],
   "source": [
    "for key, text in collection.select(layers=['words', 'morph_analysis'],layer_query ={'morph_analysis': JsonbLayerQuery('morph_analysis', lemma='Kuku')}):\n",
    "    display(text)\n",
    "    text.words\n",
    "    break"
   ]
  },
  {
   "cell_type": "code",
   "execution_count": 232,
   "metadata": {},
   "outputs": [
    {
     "data": {
      "text/html": [
       "<h4>Layer</h4>\n",
       "\n",
       "\n",
       "<table border=\"1\" class=\"dataframe\">\n",
       "  <thead>\n",
       "    <tr style=\"text-align: right;\">\n",
       "      <th>layer name</th>\n",
       "      <th>attributes</th>\n",
       "      <th>parent</th>\n",
       "      <th>enveloping</th>\n",
       "      <th>ambiguous</th>\n",
       "      <th>span count</th>\n",
       "    </tr>\n",
       "  </thead>\n",
       "  <tbody>\n",
       "    <tr>\n",
       "      <td>words</td>\n",
       "      <td>normalized_form</td>\n",
       "      <td>None</td>\n",
       "      <td>None</td>\n",
       "      <td>True</td>\n",
       "      <td>17</td>\n",
       "    </tr>\n",
       "  </tbody>\n",
       "</table>\n",
       "<table border=\"1\" class=\"dataframe\">\n",
       "  <thead>\n",
       "    <tr style=\"text-align: right;\">\n",
       "      <th>text</th>\n",
       "      <th>normalized_form</th>\n",
       "    </tr>\n",
       "  </thead>\n",
       "  <tbody>\n",
       "    <tr>\n",
       "      <td>Kuku</td>\n",
       "      <td>None</td>\n",
       "    </tr>\n",
       "    <tr>\n",
       "      <td>raadios</td>\n",
       "      <td>None</td>\n",
       "    </tr>\n",
       "    <tr>\n",
       "      <td>välja</td>\n",
       "      <td>None</td>\n",
       "    </tr>\n",
       "    <tr>\n",
       "      <td>öeldud</td>\n",
       "      <td>None</td>\n",
       "    </tr>\n",
       "    <tr>\n",
       "      <td>seisukohad</td>\n",
       "      <td>None</td>\n",
       "    </tr>\n",
       "    <tr>\n",
       "      <td>ei</td>\n",
       "      <td>None</td>\n",
       "    </tr>\n",
       "    <tr>\n",
       "      <td>pea</td>\n",
       "      <td>None</td>\n",
       "    </tr>\n",
       "    <tr>\n",
       "      <td>ühtima</td>\n",
       "      <td>None</td>\n",
       "    </tr>\n",
       "    <tr>\n",
       "      <td>Kuku</td>\n",
       "      <td>None</td>\n",
       "    </tr>\n",
       "    <tr>\n",
       "      <td>raadio</td>\n",
       "      <td>None</td>\n",
       "    </tr>\n",
       "    <tr>\n",
       "      <td>seisukohtadega</td>\n",
       "      <td>None</td>\n",
       "    </tr>\n",
       "    <tr>\n",
       "      <td>.</td>\n",
       "      <td>None</td>\n",
       "    </tr>\n",
       "    <tr>\n",
       "      <td>Te</td>\n",
       "      <td>None</td>\n",
       "    </tr>\n",
       "    <tr>\n",
       "      <td>kuulate</td>\n",
       "      <td>None</td>\n",
       "    </tr>\n",
       "    <tr>\n",
       "      <td>Kuku</td>\n",
       "      <td>None</td>\n",
       "    </tr>\n",
       "    <tr>\n",
       "      <td>raadiot</td>\n",
       "      <td>None</td>\n",
       "    </tr>\n",
       "    <tr>\n",
       "      <td>?</td>\n",
       "      <td>None</td>\n",
       "    </tr>\n",
       "  </tbody>\n",
       "</table>"
      ],
      "text/plain": [
       "Layer(name='words', attributes=('normalized_form',), spans=SL[Span('Kuku', [{'normalized_form': None}]),\n",
       "Span('raadios', [{'normalized_form': None}]),\n",
       "Span('välja', [{'normalized_form': None}]),\n",
       "Span('öeldud', [{'normalized_form': None}]),\n",
       "Span('seisukohad', [{'normalized_form': None}]),\n",
       "Span('ei', [{'normalized_form': None}]),\n",
       "Span('pea', [{'normalized_form': None}]),\n",
       "Span('ühtima', [{'normalized_form': None}]),\n",
       "Span('Kuku', [{'normalized_form': None}]),\n",
       "Span('raadio', [{'normalized_form': None}]),\n",
       "Span('seisukohtadega', [{'normalized_form': None}]),\n",
       "Span('.', [{'normalized_form': None}]),\n",
       "Span('Te', [{'normalized_form': None}]),\n",
       "Span('kuulate', [{'normalized_form': None}]),\n",
       "Span('Kuku', [{'normalized_form': None}]),\n",
       "Span('raadiot', [{'normalized_form': None}]),\n",
       "Span('?', [{'normalized_form': None}])])"
      ]
     },
     "execution_count": 232,
     "metadata": {},
     "output_type": "execute_result"
    }
   ],
   "source": [
    "collection[0].words"
   ]
  },
  {
   "cell_type": "code",
   "execution_count": 231,
   "metadata": {},
   "outputs": [
    {
     "data": {
      "text/plain": [
       "[]"
      ]
     },
     "execution_count": 231,
     "metadata": {},
     "output_type": "execute_result"
    }
   ],
   "source": [
    "collection.select(JsonbTextQuery('morph_analysis', lemma='kuku')).head() "
   ]
  }
 ],
 "metadata": {
  "kernelspec": {
   "display_name": "Python 3",
   "language": "python",
   "name": "python3"
  },
  "language_info": {
   "codemirror_mode": {
    "name": "ipython",
    "version": 3
   },
   "file_extension": ".py",
   "mimetype": "text/x-python",
   "name": "python",
   "nbconvert_exporter": "python",
   "pygments_lexer": "ipython3",
   "version": "3.6.9"
  }
 },
 "nbformat": 4,
 "nbformat_minor": 2
}
