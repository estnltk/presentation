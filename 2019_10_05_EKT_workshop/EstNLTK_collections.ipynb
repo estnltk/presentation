{
 "cells": [
  {
   "cell_type": "markdown",
   "metadata": {},
   "source": [
    "# Tekstikolletsioonid ja nende kasutamine\n",
    "\n",
    "Tekstikollekstsioonide (*korpuste*)  töötlemiseks on olemas kaks põhimõttelist võimalust:\n",
    "\n",
    "* tekstid on salvestatud failidena (*pickle*),\n",
    "* tekstid on salvestatud andmebaasi objektidena.\n",
    "\n",
    "Andmebaasi kasutamise eeliseks on parem otsitavus ning võimalus kasutada olemasolevaid andmetöötlusalgoritme.\n",
    "\n",
    "* EstNLTK 1.4 teek kasutab [ElasticSearch](https://www.elastic.co/products/elasticsearch) otsingumootorit teksikollektsioonide salvestamiseks. \n",
    "* EstNLTK 1.6 teek kasutab [PostgreSQL](https://www.postgresql.org) andmebaasi teksikollektsioonide salvestamiseks. \n",
    "\n",
    "PostgreSQL eeliseks:\n",
    "\n",
    "* stabiilne API,\n",
    "* ennustatav resursi kulu,\n",
    "* parem skaleeruvus praktiliste andmemahtude juures,\n",
    "* lihtsam integreeritavus olemasolevasse it-taristusse.\n",
    "\n",
    "**Tüüpilised sammud tekstikollektsioonide töötamisel** \n",
    "* Tekstikollektsiooni loomine\n",
    "* Tekstikollektsiooni annoteerimine\n",
    "* Tekstikollektsioonidest otsimine\n"
   ]
  },
  {
   "cell_type": "markdown",
   "metadata": {},
   "source": [
    "## 0. Ettevalmistavad sammud \n",
    "\n",
    "Selleks et Jupyteriga oleks lihtsam töötada tuleks soovitusi muuta agresiivsemaks (*autocomplete*)."
   ]
  },
  {
   "cell_type": "code",
   "execution_count": 1,
   "metadata": {},
   "outputs": [],
   "source": [
    "%config IPCompleter.greedy=True"
   ]
  },
  {
   "cell_type": "markdown",
   "metadata": {},
   "source": [
    "See võimaldab meil *Tab*-iga küsida objekti meetodeid ning *Shift+Tab*-iga küsida funktsioonide dokumentatsiooni."
   ]
  },
  {
   "cell_type": "markdown",
   "metadata": {},
   "source": [
    "## 1. Tekstikollektsioonide loomine failidest\n",
    "\n",
    "Selleks et oleks selge, mis mooduleid konkreetsetes sammudes kasutatakse, impordime moodulid vajadusepõhiselt iga andmetöötlussammu ees."
   ]
  },
  {
   "cell_type": "markdown",
   "metadata": {},
   "source": [
    "### Sisendtektide uurimine\n",
    "\n",
    "Järgnevas on meie eesmärk uurida raadiosaadete automaat-transkriptsiooni abil saadud materjale. Vastavad failid asuvad kataloogis `data/kpt` ning on UTF-8 kodeeringus. Nende lugemiseks on vaja failid õiges kodeeringus avada."
   ]
  },
  {
   "cell_type": "code",
   "execution_count": 2,
   "metadata": {},
   "outputs": [
    {
     "name": "stdout",
     "output_type": "stream",
     "text": [
      "K01: Kuku raadios välja öeldud seisukohad ei pea ühtima Kuku raadio seisukohtadega. Te kuulate Kuku raadiot?\n",
      "-:\n",
      "K02: Breivik tahtis proovida, mismoodi õhu lenn Sid raisakotkas kohe appi pahenduse, kui õhusegasse Aalto tegi, kaval linn. Natuurist haaras, pärdik öeldes kuuleb. Palun lenda sirgelt. Pal\n"
     ]
    }
   ],
   "source": [
    "file = open(\"data/kpt/2019-09-07.txt\", mode=\"r\", encoding=\"utf-8\")\n",
    "raw_text = file.read()\n",
    "print(raw_text[:300])"
   ]
  },
  {
   "cell_type": "markdown",
   "metadata": {},
   "source": [
    "Teksti vaadates on selge, et tekst koosneb blokkidest, mis algavad kõneleja nimega ning millele millele järgneb repliik. \n",
    "Selline struktuur on väha sagedane ka ametlike dokumentide või tootekirjelduste korral, \n",
    "kus teksti eri osade eraldamiseks kasutatakse pealkirju või muid korduvaid struktuurielemente. \n",
    "Tavaliselt on kõige lihtsam selliseid struktuurielemente tuvastada regulaaravaldiste abil.  "
   ]
  },
  {
   "cell_type": "markdown",
   "metadata": {},
   "source": [
    "## Teksti segmenteerimine\n",
    "\n",
    "Esimese asjana tuleb tekstist üles leida kõnetuvastaja poolt pandud rääkija tähis või nimi. Selleks kasutame kahte märgendajat:\n",
    "* ```ŖegexTagger``` abil märgime peale rääkija,\n",
    "* ```TextSegmentsTagger``` abil märgime peale kõnelejale vastava repliigi. "
   ]
  },
  {
   "cell_type": "markdown",
   "metadata": {},
   "source": [
    "### Kõnelejale vastav regulaaravaldis\n",
    "\n",
    "Kuna kõnetuvastuse väljund on selgete struktuuriga, siis on vastava regulaaravaldise leidmine üsna lihtne.\n",
    "Tavaliselt on kerge leida ka muude tekstide erinevaid alamosasid eraldavate struktuurielemetidele \n",
    "(lõikude nummerdus, kuupäevaline kirje päis, jms) vastavaid mustreid. \n",
    "\n",
    "Igal juhul on vastava regulaaravaldise tuletamiseks ja testimiseks vaja võtta illustreerivad näited. Nendest saab hiljem luua ka ühiktesti, mille abil tulevikus tagada funktsionaalsuse säilimine edasisel mustrite täiendamisel."
   ]
  },
  {
   "cell_type": "code",
   "execution_count": 3,
   "metadata": {},
   "outputs": [],
   "source": [
    "import re"
   ]
  },
  {
   "cell_type": "code",
   "execution_count": 4,
   "metadata": {},
   "outputs": [],
   "source": [
    "test_text =  'K01: Kuku...\\n-:\\nArtur Talvik: Tere, siin on...'"
   ]
  },
  {
   "cell_type": "markdown",
   "metadata": {},
   "source": [
    "Kuna regulaaravaldistest arusaamine on keerukas, siis teeme seda sammhaaval. \n",
    "Selleks, et mitte takerduda paosümbolite (*escape symbols*) rägastikku, on mõistlik kasutada formaati `r'sõne'`.\n",
    "Nii ei ole vaja regulaaravalidiste paosümboleid mitmekordselt pagendada."
   ]
  },
  {
   "cell_type": "code",
   "execution_count": 5,
   "metadata": {},
   "outputs": [
    {
     "name": "stdout",
     "output_type": "stream",
     "text": [
      "['K']\n",
      "[('K', ''), ('\\n-', '\\n'), ('\\nA', '\\n')]\n",
      "[('K01:', ''), ('\\n-:', '\\n'), ('\\nArtur Talvik:', '\\n')]\n"
     ]
    }
   ],
   "source": [
    "print(re.findall(r'^.',test_text))\n",
    "print(re.findall(r'((^|\\n).)',test_text))\n",
    "print(re.findall(r'((^|\\n).*:)',test_text))"
   ]
  },
  {
   "cell_type": "markdown",
   "metadata": {},
   "source": [
    "Et edaspidi oleks lihtsam, tuleks regulaaravaldise osadele anda nimed:\n",
    "* ```name``` - kõneleja nimi,\n",
    "* ```span``` - kõneleja fikseeriv tekstifragment."
   ]
  },
  {
   "cell_type": "code",
   "execution_count": 6,
   "metadata": {},
   "outputs": [
    {
     "name": "stdout",
     "output_type": "stream",
     "text": [
      "['K01', '-', 'Artur Talvik']\n",
      "['K01: ', '-:', 'Artur Talvik: ']\n",
      "['K01: ', '\\n-:', '\\nArtur Talvik: ']\n"
     ]
    }
   ],
   "source": [
    "pattern = r'((^|\\n)(?P<span>(?P<name>.*): ?))'\n",
    "print([match.group('name') for match in re.finditer(pattern, test_text)])\n",
    "print([match.group('span') for match in re.finditer(pattern, test_text)])\n",
    "print([match.group() for match in re.finditer(pattern, test_text)])"
   ]
  },
  {
   "cell_type": "markdown",
   "metadata": {},
   "source": [
    "### RegexTagger mustrisõnastik\n",
    "\n",
    "Märgendaja ```RegexTagger``` defineerimiseks on peale mustrite vaja veel määrata:\n",
    "* ```_regex_pattern_``` - regulaaravaldise muster,\n",
    "* ```_group_``` - tekstifragmenti (*spani*) defineeriv regulaaravaldise grupp,\n",
    "* ```_priority_``` - mustri prioriteet konfliktide korral,\n",
    "* ```_validator_``` - validaator valepositiivsete vastete eemldamiseks.\n",
    "\n",
    "Esimesed kaks parameetrit on alati vajalikud. Meie näites on meil märgendamiseks vajalik vaid üks muster. "
   ]
  },
  {
   "cell_type": "code",
   "execution_count": 7,
   "metadata": {},
   "outputs": [],
   "source": [
    "header_voc_1 = \\\n",
    "[{\n",
    "    '_regex_pattern_': pattern,\n",
    "    '_group_': 'span',\n",
    "}]"
   ]
  },
  {
   "cell_type": "markdown",
   "metadata": {},
   "source": [
    "Lisaks on mõistlik defineerida ka tekstifragmentidele (*spanidele*) vastavad annotatsiooniatribuudid (kõneleja isik). \n",
    "Selleks tuleb anda ette funktsioon, mis võttab sisse kogu regulaaravalidsele vastava ```Match``` objekti ja tuletab sellest atribuudi väärtuse.  "
   ]
  },
  {
   "cell_type": "code",
   "execution_count": 8,
   "metadata": {},
   "outputs": [],
   "source": [
    "header_voc_2 = \\\n",
    "[{\n",
    "    '_regex_pattern_': pattern,\n",
    "    '_group_': 'span',\n",
    "    'person': lambda m: m.group('name') \n",
    "}]"
   ]
  },
  {
   "cell_type": "code",
   "execution_count": 9,
   "metadata": {},
   "outputs": [],
   "source": [
    "header_voc_3 = \\\n",
    "[{\n",
    "    '_regex_pattern_': pattern,\n",
    "    '_group_': 'span',\n",
    "    '_validator_': lambda m: m.group('span') != '-:', \n",
    "    'person': lambda m: m.group('name') \n",
    "}]"
   ]
  },
  {
   "cell_type": "markdown",
   "metadata": {},
   "source": [
    "### Märgendaja enda loomine\n",
    "\n",
    "Märgendaja `RegexTagger` loomisel on tarvis alati määrata kolm peamist parameetrit:\n",
    "\n",
    "* `vocabulary` - mustrisõnastik,\n",
    "* `output_layer` - väljundkihi nimi,\n",
    "* `output_attributes` - väljundkihti tellitavate atribuutide nimed.\n",
    "\n",
    "Lisaks saab mängida erinevate täpishäälestust võimaldavate parameetritega:\n",
    "* `ambiguous` - kas leitud märgendused võib olla mitu annotatsiooni,\n",
    "* `conflict_resolving_strategy` - mida teha kui regulaaravalistele vastavad fragmendid on ülekattes \n",
    "* `overlapped, ignore_case` - lisaargumendid argumendid `re.finditer` funktsiooni häälestamiseks\n",
    "\n",
    "Täpishäälestuse parameetreid on enamasti vaja vaid siis, kui mustrisõnastik käitub ootamatult ning on tarvis aru saada, mis läks valesti.  "
   ]
  },
  {
   "cell_type": "code",
   "execution_count": 10,
   "metadata": {},
   "outputs": [],
   "source": [
    "from estnltk import Text\n",
    "from estnltk.taggers import RegexTagger"
   ]
  },
  {
   "cell_type": "markdown",
   "metadata": {},
   "source": [
    "Tekstifragmente ei pea attribuutidega annoteerima. "
   ]
  },
  {
   "cell_type": "code",
   "execution_count": 11,
   "metadata": {},
   "outputs": [
    {
     "data": {
      "text/html": [
       "<h4>Layer</h4>\n",
       "\n",
       "\n",
       "<table border=\"1\" class=\"dataframe\">\n",
       "  <thead>\n",
       "    <tr style=\"text-align: right;\">\n",
       "      <th>layer name</th>\n",
       "      <th>attributes</th>\n",
       "      <th>parent</th>\n",
       "      <th>enveloping</th>\n",
       "      <th>ambiguous</th>\n",
       "      <th>span count</th>\n",
       "    </tr>\n",
       "  </thead>\n",
       "  <tbody>\n",
       "    <tr>\n",
       "      <td>headers</td>\n",
       "      <td></td>\n",
       "      <td>None</td>\n",
       "      <td>None</td>\n",
       "      <td>False</td>\n",
       "      <td>5</td>\n",
       "    </tr>\n",
       "  </tbody>\n",
       "</table>\n",
       "<table border=\"1\" class=\"dataframe\">\n",
       "  <thead>\n",
       "    <tr style=\"text-align: right;\">\n",
       "      <th>text</th>\n",
       "    </tr>\n",
       "  </thead>\n",
       "  <tbody>\n",
       "    <tr>\n",
       "      <td>K01:</td>\n",
       "    </tr>\n",
       "    <tr>\n",
       "      <td>-:</td>\n",
       "    </tr>\n",
       "    <tr>\n",
       "      <td>K02:</td>\n",
       "    </tr>\n",
       "    <tr>\n",
       "      <td>-:</td>\n",
       "    </tr>\n",
       "    <tr>\n",
       "      <td>K06:</td>\n",
       "    </tr>\n",
       "  </tbody>\n",
       "</table>"
      ],
      "text/plain": [
       "Layer(name='headers', attributes=(), spans=SL[Span('K01: ', [{}]),\n",
       "Span('-:', [{}]),\n",
       "Span('K02: ', [{}]),\n",
       "Span('-:', [{}]),\n",
       "Span('K06: ', [{}])])"
      ]
     },
     "metadata": {},
     "output_type": "display_data"
    }
   ],
   "source": [
    "tagger = RegexTagger(vocabulary = header_voc_1, output_layer = 'headers') \n",
    "text = tagger.tag(Text(raw_text))\n",
    "display(text.headers[:5])"
   ]
  },
  {
   "cell_type": "markdown",
   "metadata": {},
   "source": [
    "Märgendaja lisab tekstifragmentidele atribuudi ainult siis, kui:\n",
    "\n",
    "* vastav atribuut on tellitud väljundkihti,\n",
    "* mustrisõnastikus on reegel atribuudi arvutamiseks.\n"
   ]
  },
  {
   "cell_type": "code",
   "execution_count": 12,
   "metadata": {},
   "outputs": [
    {
     "data": {
      "text/html": [
       "<h4>Layer</h4>\n",
       "\n",
       "\n",
       "<table border=\"1\" class=\"dataframe\">\n",
       "  <thead>\n",
       "    <tr style=\"text-align: right;\">\n",
       "      <th>layer name</th>\n",
       "      <th>attributes</th>\n",
       "      <th>parent</th>\n",
       "      <th>enveloping</th>\n",
       "      <th>ambiguous</th>\n",
       "      <th>span count</th>\n",
       "    </tr>\n",
       "  </thead>\n",
       "  <tbody>\n",
       "    <tr>\n",
       "      <td>headers</td>\n",
       "      <td></td>\n",
       "      <td>None</td>\n",
       "      <td>None</td>\n",
       "      <td>False</td>\n",
       "      <td>3</td>\n",
       "    </tr>\n",
       "  </tbody>\n",
       "</table>\n",
       "<table border=\"1\" class=\"dataframe\">\n",
       "  <thead>\n",
       "    <tr style=\"text-align: right;\">\n",
       "      <th>text</th>\n",
       "    </tr>\n",
       "  </thead>\n",
       "  <tbody>\n",
       "    <tr>\n",
       "      <td>K01:</td>\n",
       "    </tr>\n",
       "    <tr>\n",
       "      <td>-:</td>\n",
       "    </tr>\n",
       "    <tr>\n",
       "      <td>K02:</td>\n",
       "    </tr>\n",
       "  </tbody>\n",
       "</table>"
      ],
      "text/plain": [
       "Layer(name='headers', attributes=(), spans=SL[Span('K01: ', [{}]),\n",
       "Span('-:', [{}]),\n",
       "Span('K02: ', [{}])])"
      ]
     },
     "metadata": {},
     "output_type": "display_data"
    },
    {
     "data": {
      "text/html": [
       "<h4>Layer</h4>\n",
       "\n",
       "\n",
       "<table border=\"1\" class=\"dataframe\">\n",
       "  <thead>\n",
       "    <tr style=\"text-align: right;\">\n",
       "      <th>layer name</th>\n",
       "      <th>attributes</th>\n",
       "      <th>parent</th>\n",
       "      <th>enveloping</th>\n",
       "      <th>ambiguous</th>\n",
       "      <th>span count</th>\n",
       "    </tr>\n",
       "  </thead>\n",
       "  <tbody>\n",
       "    <tr>\n",
       "      <td>headers</td>\n",
       "      <td>person</td>\n",
       "      <td>None</td>\n",
       "      <td>None</td>\n",
       "      <td>False</td>\n",
       "      <td>3</td>\n",
       "    </tr>\n",
       "  </tbody>\n",
       "</table>\n",
       "<table border=\"1\" class=\"dataframe\">\n",
       "  <thead>\n",
       "    <tr style=\"text-align: right;\">\n",
       "      <th>text</th>\n",
       "      <th>person</th>\n",
       "    </tr>\n",
       "  </thead>\n",
       "  <tbody>\n",
       "    <tr>\n",
       "      <td>K01:</td>\n",
       "      <td>K01</td>\n",
       "    </tr>\n",
       "    <tr>\n",
       "      <td>-:</td>\n",
       "      <td>-</td>\n",
       "    </tr>\n",
       "    <tr>\n",
       "      <td>K02:</td>\n",
       "      <td>K02</td>\n",
       "    </tr>\n",
       "  </tbody>\n",
       "</table>"
      ],
      "text/plain": [
       "Layer(name='headers', attributes=('person',), spans=SL[Span('K01: ', [{'person': 'K01'}]),\n",
       "Span('-:', [{'person': '-'}]),\n",
       "Span('K02: ', [{'person': 'K02'}])])"
      ]
     },
     "metadata": {},
     "output_type": "display_data"
    }
   ],
   "source": [
    "# Atribuut person pole tellitud\n",
    "tagger = RegexTagger(vocabulary = header_voc_2, output_layer = 'headers') \n",
    "text = tagger.tag(Text(raw_text))\n",
    "display(text.headers[:3])\n",
    "\n",
    "# Atribuut person on tellitud \n",
    "tagger = RegexTagger(\n",
    "    vocabulary = header_voc_2, \n",
    "    output_layer = 'headers',\n",
    "    output_attributes = ['person']\n",
    ") \n",
    "\n",
    "text = tagger.tag(Text(raw_text))\n",
    "display(text.headers[:3])"
   ]
  },
  {
   "cell_type": "markdown",
   "metadata": {},
   "source": [
    "### Teksti segmenteerimine erinevate inimeste kõneks\n",
    "\n",
    "Järgmiseks loomulikuks sammuks on repliikide eraldamine tekstist. Selle käigus on mõistlik kõneleja isik panna eraldi atribuudiks.\n",
    "Jällegi on tegemist standardse teksti struktureerimise ülesandega, mille käigus jagatakse põhitekst päiste (*header*) järgi osadeks. \n",
    "\n",
    "Selle jaoks on EstNLTK teegis olemas `TextSegmentsTagger` märgendaja, mille loomisel tuleb määrata parameetrid:\n",
    "\n",
    "* `input_layer` - päiselementide kiht,\n",
    "* `output_layer` - väljundkiht,\n",
    "* `output_attributes` - väljundkihti tellitavate atribuutide nimekiri."
   ]
  },
  {
   "cell_type": "code",
   "execution_count": 13,
   "metadata": {},
   "outputs": [],
   "source": [
    "from estnltk.taggers import TextSegmentsTagger"
   ]
  },
  {
   "cell_type": "code",
   "execution_count": 14,
   "metadata": {},
   "outputs": [
    {
     "data": {
      "text/html": [
       "<h4>Layer</h4>\n",
       "\n",
       "\n",
       "<table border=\"1\" class=\"dataframe\">\n",
       "  <thead>\n",
       "    <tr style=\"text-align: right;\">\n",
       "      <th>layer name</th>\n",
       "      <th>attributes</th>\n",
       "      <th>parent</th>\n",
       "      <th>enveloping</th>\n",
       "      <th>ambiguous</th>\n",
       "      <th>span count</th>\n",
       "    </tr>\n",
       "  </thead>\n",
       "  <tbody>\n",
       "    <tr>\n",
       "      <td>lines</td>\n",
       "      <td>person</td>\n",
       "      <td>None</td>\n",
       "      <td>None</td>\n",
       "      <td>False</td>\n",
       "      <td>5</td>\n",
       "    </tr>\n",
       "  </tbody>\n",
       "</table>\n",
       "<table border=\"1\" class=\"dataframe\">\n",
       "  <thead>\n",
       "    <tr style=\"text-align: right;\">\n",
       "      <th>text</th>\n",
       "      <th>person</th>\n",
       "    </tr>\n",
       "  </thead>\n",
       "  <tbody>\n",
       "    <tr>\n",
       "      <td>Kuku raadios välja öeldud seisukohad ei pea ühtima Kuku raadio seisukohtadega. T ..., type: &lt;class 'str'&gt;, length: 104</td>\n",
       "      <td>None</td>\n",
       "    </tr>\n",
       "    <tr>\n",
       "      <td>\\n</td>\n",
       "      <td>None</td>\n",
       "    </tr>\n",
       "    <tr>\n",
       "      <td>Breivik tahtis proovida, mismoodi õhu lenn Sid raisakotkas kohe appi pahenduse,  ..., type: &lt;class 'str'&gt;, length: 243</td>\n",
       "      <td>None</td>\n",
       "    </tr>\n",
       "    <tr>\n",
       "      <td>\\n</td>\n",
       "      <td>None</td>\n",
       "    </tr>\n",
       "    <tr>\n",
       "      <td>Ta oli liiga uudis ainult koduvabariigist.\\n</td>\n",
       "      <td>None</td>\n",
       "    </tr>\n",
       "  </tbody>\n",
       "</table>"
      ],
      "text/plain": [
       "Layer(name='lines', attributes=('person',), spans=SL[Span('Kuku raadios välja öeldud seisukohad ei pea ühtima Kuku raadio seisukohtadega. Te kuulate Kuku raadiot?\\n', [{'person': None}]),\n",
       "Span('\\n', [{'person': None}]),\n",
       "Span('Breivik tahtis proovida, mismoodi õhu lenn Sid raisakotkas kohe appi pahenduse, kui õhusegasse Aalto tegi, kaval linn. Natuurist haaras, pärdik öeldes kuuleb. Palun lenda sirgelt. Palun lenda kõrge. Võtta asja kerge, tappa maha, ära päädhabi.\\n', [{'person': None}]),\n",
       "Span('\\n', [{'person': None}]),\n",
       "Span('Ta oli liiga uudis ainult koduvabariigist.\\n', [{'person': None}])])"
      ]
     },
     "execution_count": 14,
     "metadata": {},
     "output_type": "execute_result"
    }
   ],
   "source": [
    "tagger = TextSegmentsTagger(\n",
    "    input_layer = 'headers', \n",
    "    output_layer = 'lines',\n",
    "    output_attributes = ['person'])\n",
    "\n",
    "tagger.tag(text)\n",
    "text.lines[:5]"
   ]
  },
  {
   "cell_type": "markdown",
   "metadata": {},
   "source": [
    "Saadud tulemus on vigane.\n",
    "\n",
    "* Repliikide hulka on sattunud ka tühje tekste.\n",
    "* Kuigi `person` on tellinud väljundkihti, siis ei jõua selle väärtus atribuutide hulka.\n",
    "\n",
    "Nende probleemide lahendamiseks tuleb `TextSegmentsTagger` loomisel määrata parameetrid:\n",
    "\n",
    "* `validator` - funktsioon päiste täiendavaks valideerimiseks,\n",
    "* `decorator` - funktsioon tellitud attribuutide väärtuste arvutamiseks.\n",
    "\n",
    "Viimaks saab parameetriga \n",
    "\n",
    "* `include_header` - määrata kas päiselement kuulub tekstifragmendi koosseisu või mitte. \n",
    "\n",
    "Tüüpiliselt on mõistlik päisest mõelda kui tekstifragmendile vastavast metainfost ja seega see ei peaks see olema teksti osa. "
   ]
  },
  {
   "cell_type": "code",
   "execution_count": 15,
   "metadata": {},
   "outputs": [
    {
     "data": {
      "text/html": [
       "<h4>Layer</h4>\n",
       "\n",
       "\n",
       "<table border=\"1\" class=\"dataframe\">\n",
       "  <thead>\n",
       "    <tr style=\"text-align: right;\">\n",
       "      <th>layer name</th>\n",
       "      <th>attributes</th>\n",
       "      <th>parent</th>\n",
       "      <th>enveloping</th>\n",
       "      <th>ambiguous</th>\n",
       "      <th>span count</th>\n",
       "    </tr>\n",
       "  </thead>\n",
       "  <tbody>\n",
       "    <tr>\n",
       "      <td>lines</td>\n",
       "      <td>person</td>\n",
       "      <td>None</td>\n",
       "      <td>None</td>\n",
       "      <td>False</td>\n",
       "      <td>5</td>\n",
       "    </tr>\n",
       "  </tbody>\n",
       "</table>\n",
       "<table border=\"1\" class=\"dataframe\">\n",
       "  <thead>\n",
       "    <tr style=\"text-align: right;\">\n",
       "      <th>text</th>\n",
       "      <th>person</th>\n",
       "    </tr>\n",
       "  </thead>\n",
       "  <tbody>\n",
       "    <tr>\n",
       "      <td>Kuku raadios välja öeldud seisukohad ei pea ühtima Kuku raadio seisukohtadega. T ..., type: &lt;class 'str'&gt;, length: 107</td>\n",
       "      <td>K01</td>\n",
       "    </tr>\n",
       "    <tr>\n",
       "      <td>Breivik tahtis proovida, mismoodi õhu lenn Sid raisakotkas kohe appi pahenduse,  ..., type: &lt;class 'str'&gt;, length: 246</td>\n",
       "      <td>K02</td>\n",
       "    </tr>\n",
       "    <tr>\n",
       "      <td>Ta oli liiga uudis ainult koduvabariigist.\\n</td>\n",
       "      <td>K06</td>\n",
       "    </tr>\n",
       "    <tr>\n",
       "      <td>Tere, siin on Keskpäevatund ja Kuku raadio, Tallinna stuudios Urmas Jaagant, Ain ..., type: &lt;class 'str'&gt;, length: 952</td>\n",
       "      <td>Artur Talvik</td>\n",
       "    </tr>\n",
       "    <tr>\n",
       "      <td>Ma arvan, et asi on lihtne nagu tavapäraselt, et Gunnar Kobin ilmselt läks süste ..., type: &lt;class 'str'&gt;, length: 225</td>\n",
       "      <td>Ainar Ruussaar</td>\n",
       "    </tr>\n",
       "  </tbody>\n",
       "</table>"
      ],
      "text/plain": [
       "Layer(name='lines', attributes=('person',), spans=SL[Span('Kuku raadios välja öeldud seisukohad ei pea ühtima Kuku raadio seisukohtadega. Te kuulate Kuku raadiot?\\n-:\\n', [{'person': 'K01'}]),\n",
       "Span('Breivik tahtis proovida, mismoodi õhu lenn Sid raisakotkas kohe appi pahenduse, kui õhusegasse Aalto tegi, kaval linn. Natuurist haaras, pärdik öeldes kuuleb. Palun lenda sirgelt. Palun lenda kõrge. Võtta asja kerge, tappa maha, ära päädhabi.\\n-:\\n', [{'person': 'K02'}]),\n",
       "Span('Ta oli liiga uudis ainult koduvabariigist.\\n', [{'person': 'K06'}]),\n",
       "Span('Tere, siin on Keskpäevatund ja Kuku raadio, Tallinna stuudios Urmas Jaagant, Ainar Ruussaar ja Priit Hõbemägi. Mart Sander laulis lõbusa laulukese. Palun lenda sirgelt ja see laul on meie poolt tervituseks Gunnar kobinile. Kes kelle kohta hiljuti saime teada, et ta loobus Nordika juhi ametikohast, nimelt ta pidi Kobin alustama teisel septembril tordika juhina, aga ootamatult selgus, et ta on juba suvel oma ametikohast loobunud ja tõi ühe põhjusena välja selle, et ühiskonnas tekkinud suur diskussioon tema töötasu üle, mis oli siis viisteist tuhat bruto ühes kuus ei ole vastavuses tema tegeliku töö panusena. Et seda tema lauset oskan mina kahte moodi analüüsida, üks on see, et liiga, et talle makstakse liiga palju raha ja tema panuseks väikeseks, aga teisest küljest võiks mõelda ka niimoodi, et ta ütleb, et selle panuse eest, mis tema suudaks ettevõtte arengusse panna, on seda raha liiga vähe. Kuidas see asi tegelikult on, eks teab ta ise.\\n', [{'person': 'Artur Talvik'}]),\n",
       "Span('Ma arvan, et asi on lihtne nagu tavapäraselt, et Gunnar Kobin ilmselt läks süsteemi mille esiesmapilgul seal tundmaõppimisel said aru, et tema natuur, tema eesmärgid ja see süsteem, kuhu ta sattus ei klapi päris hästi kokku.\\n', [{'person': 'Ainar Ruussaar'}])])"
      ]
     },
     "metadata": {},
     "output_type": "display_data"
    },
    {
     "data": {
      "text/html": [
       "<b>Span</b>\n",
       "<table border=\"1\" class=\"dataframe\">\n",
       "  <thead>\n",
       "    <tr style=\"text-align: right;\">\n",
       "      <th>text</th>\n",
       "      <th>person</th>\n",
       "    </tr>\n",
       "  </thead>\n",
       "  <tbody>\n",
       "    <tr>\n",
       "      <td><span style=\"font-family: monospace; white-space: pre-wrap;\"><span style=\"text-decoration: underline;\">Kuku raadios välja öeldud seisukohad ei pea ühtima Kuku raadio seisukohtadega. Te kuulate Kuku raadiot?\\n-:\\n</span></span></td>\n",
       "      <td>K01</td>\n",
       "    </tr>\n",
       "  </tbody>\n",
       "</table>"
      ],
      "text/plain": [
       "Span('Kuku raadios välja öeldud seisukohad ei pea ühtima Kuku raadio seisukohtadega. Te kuulate Kuku raadiot?\\n-:\\n', [{'person': 'K01'}])"
      ]
     },
     "metadata": {},
     "output_type": "display_data"
    }
   ],
   "source": [
    "tagger = TextSegmentsTagger(\n",
    "    input_layer = 'headers', \n",
    "    output_layer = 'lines',\n",
    "    output_attributes = ['person'],\n",
    "    decorator = lambda header_span: {'person': header_span['person']},\n",
    "    validator = lambda header_span: header_span['person'] != '-' \n",
    ")\n",
    "\n",
    "if 'lines' in text.layers:\n",
    "    del text.lines\n",
    "\n",
    "tagger.tag(text)\n",
    "display(text.lines[:5])\n",
    "display(text.lines[0])"
   ]
  },
  {
   "cell_type": "markdown",
   "metadata": {},
   "source": [
    "Saadud tulemus on ikkagi vigane:\n",
    "\n",
    "* Ignoreeritud päiselemendid lähevad alles jäänud teksti fragmentide koosseisu.\n",
    "\n",
    "Tühjade tekstifragmentide eemaldamiseks saab kasutada funktsiooni `apply_filter`, aga hetkel jätame selle probleemi lahendamata."
   ]
  },
  {
   "cell_type": "code",
   "execution_count": 16,
   "metadata": {},
   "outputs": [
    {
     "data": {
      "text/html": [
       "<h4>Layer</h4>\n",
       "\n",
       "\n",
       "<table border=\"1\" class=\"dataframe\">\n",
       "  <thead>\n",
       "    <tr style=\"text-align: right;\">\n",
       "      <th>layer name</th>\n",
       "      <th>attributes</th>\n",
       "      <th>parent</th>\n",
       "      <th>enveloping</th>\n",
       "      <th>ambiguous</th>\n",
       "      <th>span count</th>\n",
       "    </tr>\n",
       "  </thead>\n",
       "  <tbody>\n",
       "    <tr>\n",
       "      <td>lines</td>\n",
       "      <td>person</td>\n",
       "      <td>None</td>\n",
       "      <td>None</td>\n",
       "      <td>False</td>\n",
       "      <td>5</td>\n",
       "    </tr>\n",
       "  </tbody>\n",
       "</table>\n",
       "<table border=\"1\" class=\"dataframe\">\n",
       "  <thead>\n",
       "    <tr style=\"text-align: right;\">\n",
       "      <th>text</th>\n",
       "      <th>person</th>\n",
       "    </tr>\n",
       "  </thead>\n",
       "  <tbody>\n",
       "    <tr>\n",
       "      <td>Kuku raadios välja öeldud seisukohad ei pea ühtima Kuku raadio seisukohtadega. T ..., type: &lt;class 'str'&gt;, length: 104</td>\n",
       "      <td>K01</td>\n",
       "    </tr>\n",
       "    <tr>\n",
       "      <td>\\n</td>\n",
       "      <td>-</td>\n",
       "    </tr>\n",
       "    <tr>\n",
       "      <td>Breivik tahtis proovida, mismoodi õhu lenn Sid raisakotkas kohe appi pahenduse,  ..., type: &lt;class 'str'&gt;, length: 243</td>\n",
       "      <td>K02</td>\n",
       "    </tr>\n",
       "    <tr>\n",
       "      <td>\\n</td>\n",
       "      <td>-</td>\n",
       "    </tr>\n",
       "    <tr>\n",
       "      <td>Ta oli liiga uudis ainult koduvabariigist.\\n</td>\n",
       "      <td>K06</td>\n",
       "    </tr>\n",
       "  </tbody>\n",
       "</table>"
      ],
      "text/plain": [
       "Layer(name='lines', attributes=('person',), spans=SL[Span('Kuku raadios välja öeldud seisukohad ei pea ühtima Kuku raadio seisukohtadega. Te kuulate Kuku raadiot?\\n', [{'person': 'K01'}]),\n",
       "Span('\\n', [{'person': '-'}]),\n",
       "Span('Breivik tahtis proovida, mismoodi õhu lenn Sid raisakotkas kohe appi pahenduse, kui õhusegasse Aalto tegi, kaval linn. Natuurist haaras, pärdik öeldes kuuleb. Palun lenda sirgelt. Palun lenda kõrge. Võtta asja kerge, tappa maha, ära päädhabi.\\n', [{'person': 'K02'}]),\n",
       "Span('\\n', [{'person': '-'}]),\n",
       "Span('Ta oli liiga uudis ainult koduvabariigist.\\n', [{'person': 'K06'}])])"
      ]
     },
     "metadata": {},
     "output_type": "display_data"
    },
    {
     "data": {
      "text/html": [
       "<b>Span</b>\n",
       "<table border=\"1\" class=\"dataframe\">\n",
       "  <thead>\n",
       "    <tr style=\"text-align: right;\">\n",
       "      <th>text</th>\n",
       "      <th>person</th>\n",
       "    </tr>\n",
       "  </thead>\n",
       "  <tbody>\n",
       "    <tr>\n",
       "      <td><span style=\"font-family: monospace; white-space: pre-wrap;\"><span style=\"text-decoration: underline;\">Kuku raadios välja öeldud seisukohad ei pea ühtima Kuku raadio seisukohtadega. Te kuulate Kuku raadiot?\\n</span></span></td>\n",
       "      <td>K01</td>\n",
       "    </tr>\n",
       "  </tbody>\n",
       "</table>"
      ],
      "text/plain": [
       "Span('Kuku raadios välja öeldud seisukohad ei pea ühtima Kuku raadio seisukohtadega. Te kuulate Kuku raadiot?\\n', [{'person': 'K01'}])"
      ]
     },
     "metadata": {},
     "output_type": "display_data"
    }
   ],
   "source": [
    "tagger = TextSegmentsTagger(\n",
    "    input_layer = 'headers', \n",
    "    output_layer = 'lines',\n",
    "    output_attributes = ['person'],\n",
    "    decorator = lambda header_span: {'person': header_span['person']}\n",
    ")\n",
    "if 'lines' in text.layers:\n",
    "    del text.lines\n",
    "tagger.tag(text)\n",
    "display(text.lines[:5])\n",
    "display(text.lines[0])"
   ]
  },
  {
   "cell_type": "markdown",
   "metadata": {},
   "source": [
    "### Segmentatsiooni esmane valideerimine\n",
    "\n",
    "Esmase korrektsuse hindamiseks kasutame kihi grupeerimisfunktsiooni, mis käitub analoogselt mooduli `Pandas` meetodiga `groupby`."
   ]
  },
  {
   "cell_type": "code",
   "execution_count": 17,
   "metadata": {},
   "outputs": [
    {
     "data": {
      "text/plain": [
       "{('K01',): 1,\n",
       " ('-',): 3,\n",
       " ('K02',): 1,\n",
       " ('K06',): 3,\n",
       " ('Artur Talvik',): 21,\n",
       " ('Ainar Ruussaar',): 16,\n",
       " ('K07',): 13,\n",
       " ('Ignar Fjuk',): 2}"
      ]
     },
     "execution_count": 17,
     "metadata": {},
     "output_type": "execute_result"
    }
   ],
   "source": [
    "text.lines.groupby(['person']).count"
   ]
  },
  {
   "cell_type": "markdown",
   "metadata": {},
   "source": [
    "Järgnev näide võimaldab uurida millised repliigid vastavad kõnelejale `K06`. "
   ]
  },
  {
   "cell_type": "code",
   "execution_count": 18,
   "metadata": {},
   "outputs": [
    {
     "name": "stdout",
     "output_type": "stream",
     "text": [
      "Ta oli liiga uudis ainult koduvabariigist.\n",
      "\n",
      "Ta on tähtajaline neli päevauudiseid koduvabariigist.\n",
      "\n",
      "Ta oli neli päevauudiseid koduvabariigist.\n",
      "\n"
     ]
    }
   ],
   "source": [
    "for span in text.lines.groupby(['person']).groups[('K06',)]:\n",
    "    print(span.text)\n"
   ]
  },
  {
   "cell_type": "markdown",
   "metadata": {},
   "source": [
    "Viimase kõige keerukama näidena leiame repliikide kogupikkuse tähemärkides. "
   ]
  },
  {
   "cell_type": "code",
   "execution_count": 19,
   "metadata": {},
   "outputs": [
    {
     "data": {
      "text/plain": [
       "{('K01',): 104,\n",
       " ('-',): 2,\n",
       " ('K02',): 243,\n",
       " ('K06',): 140,\n",
       " ('Artur Talvik',): 19145,\n",
       " ('Ainar Ruussaar',): 9171,\n",
       " ('K07',): 12607,\n",
       " ('Ignar Fjuk',): 30}"
      ]
     },
     "metadata": {},
     "output_type": "display_data"
    }
   ],
   "source": [
    "display(text.lines.groupby(['person'])\n",
    "      .aggregate(func = lambda spans: sum(s.end - s.start for s in spans)))"
   ]
  },
  {
   "cell_type": "markdown",
   "metadata": {},
   "source": [
    "Kuna Keskpäevatunnis on reeglina kolm osalejat, siis võib arvata, et märgend `K07` vastab Ignar Fjukile."
   ]
  },
  {
   "cell_type": "markdown",
   "metadata": {},
   "source": [
    "## 2. Tekstikollektsiooni loomine\n",
    "\n",
    "Järgnevas näites lisame kõikidele repliikidele vastavad tekstiobjektid Postgre andmebaasis olevasse tekstikollektsiooni. "
   ]
  },
  {
   "cell_type": "markdown",
   "metadata": {},
   "source": [
    "### Ühenduse loomine Postgre SQL andmebaasiga \n",
    "\n",
    "EstNLTK teegis defineeritakse ühenduse parameetrid läbi `PostgreStorage` klassi.  "
   ]
  },
  {
   "cell_type": "code",
   "execution_count": 20,
   "metadata": {},
   "outputs": [],
   "source": [
    "from estnltk.storage.postgres import PostgresStorage"
   ]
  },
  {
   "cell_type": "code",
   "execution_count": 21,
   "metadata": {},
   "outputs": [
    {
     "name": "stdout",
     "output_type": "stream",
     "text": [
      "INFO:storage.py:42: connecting to host: '127.0.0.1', port: 5432, dbname: 'ekt', user: 'swen'\n",
      "INFO:storage.py:58: schema: 'media_analysis', temporary: False, role: 'swen'\n"
     ]
    }
   ],
   "source": [
    "storage = PostgresStorage(host='127.0.0.1',\n",
    "                          port=5432,\n",
    "                          dbname='ekt',\n",
    "                          user='swen',\n",
    "                          password='kala',\n",
    "                          schema='media_analysis',\n",
    "                          role=None,\n",
    "                          temporary=False)"
   ]
  },
  {
   "cell_type": "markdown",
   "metadata": {},
   "source": [
    "Kui andmebaasis parameetritele vastavat skeemat pole siis tuleb see luua. \n",
    "Analoogselt saab ka kogu skeema kustutada."
   ]
  },
  {
   "cell_type": "code",
   "execution_count": 22,
   "metadata": {},
   "outputs": [],
   "source": [
    "from estnltk.storage.postgres import create_schema, delete_schema"
   ]
  },
  {
   "cell_type": "code",
   "execution_count": 27,
   "metadata": {},
   "outputs": [],
   "source": [
    "# create_schema(storage)\n",
    "# delete_schema(storage)"
   ]
  },
  {
   "cell_type": "markdown",
   "metadata": {},
   "source": [
    "Lisaks saab vaadata ka skeemasse kuuluvadi kollektsioone ning ühenduse parameetreid."
   ]
  },
  {
   "cell_type": "code",
   "execution_count": 28,
   "metadata": {},
   "outputs": [
    {
     "data": {
      "text/html": [
       "<b>PostgresStorage</b><br/>\n",
       "user=swen password=xxx dbname=ekt host=127.0.0.1 port=5432 schema=media_analysis<br/>temporary=False<br/>\n",
       "collection count: 0\n",
       "<br/>This storage has no collections."
      ],
      "text/plain": [
       "<estnltk.storage.postgres.storage.PostgresStorage at 0x1a259456a0>"
      ]
     },
     "execution_count": 28,
     "metadata": {},
     "output_type": "execute_result"
    }
   ],
   "source": [
    "storage"
   ]
  },
  {
   "cell_type": "markdown",
   "metadata": {},
   "source": [
    "### Tekstikollektsiooni formaadi fikseerimine\n",
    "\n",
    "Tekstikollektsiooni saab tekstidele lisaks salvestada ka metaandmeid. \n",
    "Metaandmeid hoitakse eraldiseisvates veergudes ning edaspidi on nende järgi lihtne ja kiire tekste grupeerida.\n",
    "Meie näite korral on teksti kirjeldavateks olulisteks metaatribuutideks:\n",
    "\n",
    "* kõneleja isik, \n",
    "* saate toimumise aeg.\n",
    "\n",
    "Neist esimene on sõne ja teine kuupäeva formaadis. Need andmeformaadid on EstNLTK poolt toetatud. "
   ]
  },
  {
   "cell_type": "code",
   "execution_count": 29,
   "metadata": {},
   "outputs": [
    {
     "name": "stdout",
     "output_type": "stream",
     "text": [
      "INFO:collection.py:107: new empty collection 'kpt' created\n"
     ]
    },
    {
     "data": {
      "text/html": [
       "<b>PgCollection</b><br/><b>name:</b> kpt<br/><b>storage:</b> PostgresStorage(user=swen password=xxx dbname=ekt host=127.0.0.1 port=5432 schema=media_analysis temporary=False)<br/><b>count objects:</b> 0<br/><b>Metadata</b><br/><table border=\"1\" class=\"dataframe\">\n",
       "  <thead>\n",
       "    <tr style=\"text-align: right;\">\n",
       "      <th></th>\n",
       "      <th>data type</th>\n",
       "    </tr>\n",
       "  </thead>\n",
       "  <tbody>\n",
       "    <tr>\n",
       "      <th>date</th>\n",
       "      <td>timestamp without time zone</td>\n",
       "    </tr>\n",
       "    <tr>\n",
       "      <th>person</th>\n",
       "      <td>text</td>\n",
       "    </tr>\n",
       "  </tbody>\n",
       "</table><b>Layers</b><br/>unknown"
      ],
      "text/plain": [
       "<estnltk.storage.postgres.collection.PgCollection at 0x1a25bb3cf8>"
      ]
     },
     "execution_count": 29,
     "metadata": {},
     "output_type": "execute_result"
    }
   ],
   "source": [
    "# Metaatribuutide kirjeldus\n",
    "storage['kpt'].meta = {'date':'datetime', 'person':'str'}\n",
    "# Kollektsiooni formaadi fikseerimine\n",
    "storage['kpt'].create('Keskpäevatunni saadete automaatne transcriptsioon')"
   ]
  },
  {
   "cell_type": "markdown",
   "metadata": {},
   "source": [
    "Implementatsioonivea tõttu ei jäta tekstikollektsioon meelde tellitud metaatribuute ning need tuleb eraldi tellida. "
   ]
  },
  {
   "cell_type": "code",
   "execution_count": 30,
   "metadata": {},
   "outputs": [
    {
     "name": "stdout",
     "output_type": "stream",
     "text": [
      "['id', 'data']\n",
      "['id', 'data', 'date', 'person']\n"
     ]
    }
   ],
   "source": [
    "print(storage['kpt'].column_names)\n",
    "storage['kpt'].column_names += list(storage['kpt'].meta.keys())\n",
    "print(storage['kpt'].column_names)"
   ]
  },
  {
   "cell_type": "markdown",
   "metadata": {},
   "source": [
    "### Tekstide lisamine kollektsiooni\n",
    "\n",
    "Tekstide lisamiseks tuleb itereerida üle kõikide originaal failide:\n",
    "\n",
    "* luua esmane tekstobjekt,\n",
    "* märgendada igale tekstile repliigid, \n",
    "* luua iga repliigi jaoks eraldi tekstobjekt ning paigutada see kollektsiooni.\n",
    "\n",
    "Kuna eelnevalt on kogu vajalik töö ära tehtud, siis nüüd on vaja vaid kood kokku koguda."
   ]
  },
  {
   "cell_type": "code",
   "execution_count": 31,
   "metadata": {},
   "outputs": [],
   "source": [
    "import os\n",
    "from datetime import datetime"
   ]
  },
  {
   "cell_type": "code",
   "execution_count": 32,
   "metadata": {},
   "outputs": [],
   "source": [
    "header_voc_2 = \\\n",
    "[{\n",
    "    '_regex_pattern_': pattern,\n",
    "    '_group_': 'span',\n",
    "    'person': lambda m: m.group('name') \n",
    "}]\n",
    "\n",
    "header_tagger = RegexTagger(\n",
    "    vocabulary = header_voc_2, \n",
    "    output_layer = 'headers', \n",
    "    output_attributes = ['person'])"
   ]
  },
  {
   "cell_type": "code",
   "execution_count": 33,
   "metadata": {},
   "outputs": [],
   "source": [
    "segmenter = TextSegmentsTagger(\n",
    "    input_layer = 'headers', \n",
    "    output_layer = 'lines',\n",
    "    output_attributes = ['person'],\n",
    "    decorator = lambda span: {'person': span['person']},\n",
    ")"
   ]
  },
  {
   "cell_type": "code",
   "execution_count": 34,
   "metadata": {},
   "outputs": [
    {
     "name": "stdout",
     "output_type": "stream",
     "text": [
      "2019-09-07.txt\n",
      "2019-10-26.txt\n",
      "2019-10-19.txt\n",
      "2019-09-14.txt\n",
      "2019-09-28.txt\n",
      "2019-10-12.txt\n",
      "2019-10-05.txt\n",
      "2019-09-21.txt\n",
      "INFO:collection.py:325: inserted 463 texts into the collection 'kpt'\n"
     ]
    }
   ],
   "source": [
    "collection = storage['kpt']\n",
    "directory = os.fsencode('data/kpt')\n",
    "\n",
    "with collection.insert() as collection_insert:\n",
    "\n",
    "    for file in os.listdir(directory):\n",
    "        filename = os.fsdecode(file)\n",
    "        if filename == 'readme.md':\n",
    "            continue\n",
    "        \n",
    "        print(filename)\n",
    "        date = datetime.strptime(re.search(r'(?P<date>.*)\\.txt', filename).group('date'),'%Y-%m-%d')\n",
    "        file = open(\"data/kpt/{}\".format(filename), mode=\"r\", encoding=\"utf-8\")\n",
    "        text = segmenter(header_tagger(Text(file.read())))\n",
    "    \n",
    "        for span in text.lines:\n",
    "            \n",
    "            line = span.text.strip()\n",
    "            if line == '':\n",
    "                continue\n",
    "                \n",
    "            line_text = Text(line)\n",
    "            line_text.tag_layer(['compound_tokens', 'words', 'paragraphs'])\n",
    "            meta_data = {'date': date, 'person': span['person']}\n",
    "            collection_insert(text=line_text, meta_data=meta_data)"
   ]
  },
  {
   "cell_type": "markdown",
   "metadata": {},
   "source": [
    "## 3. Tekstikollektsiooni annoteerimine\n",
    "\n",
    "### Tekstikollektsiooni märgenduskihtide tüübid \n",
    "\n",
    "Märgenduskihid tekstikollektsioonis jagunevad kaheks:\n",
    "\n",
    "* originaalkihid (luuakse koos tekstiobjektiga),\n",
    "* eraldi seisvad kihid (neid saab pärast juurde teha).\n",
    "\n",
    "Kuna originaalkihtide muutmine eeldab tekstiobjekti muutmist, siis on mõistlik võtta originaalkihtideks vaid need, mida edasiste analüüsidega ei muudeta.\n",
    "Kõik ülejäänid kihid tuleks lisadada hiljem eraldi. \n",
    "\n",
    "Meie näites on originaalkihtideks vaid segmentatsioonikihid, mida on vaja morfoloogiliseks analüüsiks. Kõik ülejäänud kihid lisame tekstidele hiljem juurde.\n",
    "Esialgseid kihte on võimalk vaadata vaadates kollektsiooni kuuluvat teksti."
   ]
  },
  {
   "cell_type": "code",
   "execution_count": 35,
   "metadata": {},
   "outputs": [
    {
     "data": {
      "text/html": [
       "<table border=\"1\" class=\"dataframe\">\n",
       "  <thead>\n",
       "    <tr style=\"text-align: right;\">\n",
       "      <th>text</th>\n",
       "    </tr>\n",
       "  </thead>\n",
       "  <tbody>\n",
       "    <tr>\n",
       "      <td><div align = \"left\">Kuku raadios välja öeldud seisukohad ei pea ühtima Kuku raadio seisukohtadega. Te kuulate Kuku raadiot?</div></td>\n",
       "    </tr>\n",
       "  </tbody>\n",
       "</table>\n",
       "<table border=\"1\" class=\"dataframe\">\n",
       "  <thead>\n",
       "    <tr style=\"text-align: right;\">\n",
       "      <th>layer name</th>\n",
       "      <th>attributes</th>\n",
       "      <th>parent</th>\n",
       "      <th>enveloping</th>\n",
       "      <th>ambiguous</th>\n",
       "      <th>span count</th>\n",
       "    </tr>\n",
       "  </thead>\n",
       "  <tbody>\n",
       "    <tr>\n",
       "      <td>paragraphs</td>\n",
       "      <td></td>\n",
       "      <td>None</td>\n",
       "      <td>sentences</td>\n",
       "      <td>False</td>\n",
       "      <td>1</td>\n",
       "    </tr>\n",
       "    <tr>\n",
       "      <td>sentences</td>\n",
       "      <td></td>\n",
       "      <td>None</td>\n",
       "      <td>words</td>\n",
       "      <td>False</td>\n",
       "      <td>2</td>\n",
       "    </tr>\n",
       "    <tr>\n",
       "      <td>tokens</td>\n",
       "      <td></td>\n",
       "      <td>None</td>\n",
       "      <td>None</td>\n",
       "      <td>False</td>\n",
       "      <td>17</td>\n",
       "    </tr>\n",
       "    <tr>\n",
       "      <td>compound_tokens</td>\n",
       "      <td>type, normalized</td>\n",
       "      <td>None</td>\n",
       "      <td>tokens</td>\n",
       "      <td>False</td>\n",
       "      <td>0</td>\n",
       "    </tr>\n",
       "    <tr>\n",
       "      <td>words</td>\n",
       "      <td>normalized_form</td>\n",
       "      <td>None</td>\n",
       "      <td>None</td>\n",
       "      <td>True</td>\n",
       "      <td>17</td>\n",
       "    </tr>\n",
       "  </tbody>\n",
       "</table>"
      ],
      "text/plain": [
       "Text(text='Kuku raadios välja öeldud seisukohad ei pea ühtima Kuku raadio seisukohtadega. Te kuulate Kuku raadiot?')"
      ]
     },
     "execution_count": 35,
     "metadata": {},
     "output_type": "execute_result"
    }
   ],
   "source": [
    "collection[0]"
   ]
  },
  {
   "cell_type": "markdown",
   "metadata": {},
   "source": [
    "### Uue kihi lisamine tekstikollektsiooni\n",
    "\n",
    "Uue kihi lisamiseks on kõige lihtsam viis, märgendaja loomine ning selle rakendamine kogu kollektsioonile. \n",
    "\n",
    "Konkreetse näitena vaatame kuidas saab vabamorfi analüsaatotit kasutada `morph_analysis` kihi loomiseks."
   ]
  },
  {
   "cell_type": "code",
   "execution_count": 36,
   "metadata": {},
   "outputs": [],
   "source": [
    "from estnltk.taggers import VabamorfTagger "
   ]
  },
  {
   "cell_type": "code",
   "execution_count": 37,
   "metadata": {},
   "outputs": [
    {
     "name": "stdout",
     "output_type": "stream",
     "text": [
      "INFO:collection.py:817: collection: 'kpt'\n",
      "INFO:collection.py:836: preparing to create a new layer: 'morph_analysis'\n",
      "INFO:collection.py:869: inserting data into the 'morph_analysis' layer table\n",
      "INFO:collection.py:904: layer created: 'morph_analysis'\n"
     ]
    }
   ],
   "source": [
    "vabamorf = VabamorfTagger(disambiguate = True, output_layer = 'morph_analysis')\n",
    "collection.create_layer(tagger=vabamorf)"
   ]
  },
  {
   "cell_type": "markdown",
   "metadata": {},
   "source": [
    "Tulemust saab vaadata kollektsiooni vaadates. Samas ei ole ilma täiendavate sammudeta kihti võimalik näha."
   ]
  },
  {
   "cell_type": "code",
   "execution_count": 38,
   "metadata": {},
   "outputs": [
    {
     "data": {
      "text/html": [
       "<b>PgCollection</b><br/><b>name:</b> kpt<br/><b>storage:</b> PostgresStorage(user=swen password=xxx dbname=ekt host=127.0.0.1 port=5432 schema=media_analysis temporary=False)<br/><b>count objects:</b> 464<br/><b>Metadata</b><br/><table border=\"1\" class=\"dataframe\">\n",
       "  <thead>\n",
       "    <tr style=\"text-align: right;\">\n",
       "      <th></th>\n",
       "      <th>data type</th>\n",
       "    </tr>\n",
       "  </thead>\n",
       "  <tbody>\n",
       "    <tr>\n",
       "      <th>date</th>\n",
       "      <td>timestamp without time zone</td>\n",
       "    </tr>\n",
       "    <tr>\n",
       "      <th>person</th>\n",
       "      <td>text</td>\n",
       "    </tr>\n",
       "  </tbody>\n",
       "</table><b>Layers</b><table border=\"1\" class=\"dataframe\">\n",
       "  <thead>\n",
       "    <tr style=\"text-align: right;\">\n",
       "      <th></th>\n",
       "      <th>layer_type</th>\n",
       "      <th>attributes</th>\n",
       "      <th>ambiguous</th>\n",
       "      <th>parent</th>\n",
       "      <th>enveloping</th>\n",
       "      <th>meta</th>\n",
       "    </tr>\n",
       "  </thead>\n",
       "  <tbody>\n",
       "    <tr>\n",
       "      <th>tokens</th>\n",
       "      <td>attached</td>\n",
       "      <td>()</td>\n",
       "      <td>False</td>\n",
       "      <td>None</td>\n",
       "      <td>None</td>\n",
       "      <td>[]</td>\n",
       "    </tr>\n",
       "    <tr>\n",
       "      <th>compound_tokens</th>\n",
       "      <td>attached</td>\n",
       "      <td>(type, normalized)</td>\n",
       "      <td>False</td>\n",
       "      <td>None</td>\n",
       "      <td>tokens</td>\n",
       "      <td>[]</td>\n",
       "    </tr>\n",
       "    <tr>\n",
       "      <th>words</th>\n",
       "      <td>attached</td>\n",
       "      <td>(normalized_form,)</td>\n",
       "      <td>True</td>\n",
       "      <td>None</td>\n",
       "      <td>None</td>\n",
       "      <td>[]</td>\n",
       "    </tr>\n",
       "    <tr>\n",
       "      <th>sentences</th>\n",
       "      <td>attached</td>\n",
       "      <td>()</td>\n",
       "      <td>False</td>\n",
       "      <td>None</td>\n",
       "      <td>words</td>\n",
       "      <td>[]</td>\n",
       "    </tr>\n",
       "    <tr>\n",
       "      <th>paragraphs</th>\n",
       "      <td>attached</td>\n",
       "      <td>()</td>\n",
       "      <td>False</td>\n",
       "      <td>None</td>\n",
       "      <td>sentences</td>\n",
       "      <td>[]</td>\n",
       "    </tr>\n",
       "    <tr>\n",
       "      <th>morph_analysis</th>\n",
       "      <td>detached</td>\n",
       "      <td>(normalized_text, lemma, root, root_tokens, ending, clitic, form, partofspeech)</td>\n",
       "      <td>True</td>\n",
       "      <td>words</td>\n",
       "      <td>None</td>\n",
       "      <td>[]</td>\n",
       "    </tr>\n",
       "  </tbody>\n",
       "</table>"
      ],
      "text/plain": [
       "<estnltk.storage.postgres.collection.PgCollection at 0x1a25bb3cf8>"
      ]
     },
     "metadata": {},
     "output_type": "display_data"
    },
    {
     "data": {
      "text/html": [
       "<table border=\"1\" class=\"dataframe\">\n",
       "  <thead>\n",
       "    <tr style=\"text-align: right;\">\n",
       "      <th>text</th>\n",
       "    </tr>\n",
       "  </thead>\n",
       "  <tbody>\n",
       "    <tr>\n",
       "      <td><div align = \"left\">Kuku raadios välja öeldud seisukohad ei pea ühtima Kuku raadio seisukohtadega. Te kuulate Kuku raadiot?</div></td>\n",
       "    </tr>\n",
       "  </tbody>\n",
       "</table>\n",
       "<table border=\"1\" class=\"dataframe\">\n",
       "  <thead>\n",
       "    <tr style=\"text-align: right;\">\n",
       "      <th>layer name</th>\n",
       "      <th>attributes</th>\n",
       "      <th>parent</th>\n",
       "      <th>enveloping</th>\n",
       "      <th>ambiguous</th>\n",
       "      <th>span count</th>\n",
       "    </tr>\n",
       "  </thead>\n",
       "  <tbody>\n",
       "    <tr>\n",
       "      <td>paragraphs</td>\n",
       "      <td></td>\n",
       "      <td>None</td>\n",
       "      <td>sentences</td>\n",
       "      <td>False</td>\n",
       "      <td>1</td>\n",
       "    </tr>\n",
       "    <tr>\n",
       "      <td>sentences</td>\n",
       "      <td></td>\n",
       "      <td>None</td>\n",
       "      <td>words</td>\n",
       "      <td>False</td>\n",
       "      <td>2</td>\n",
       "    </tr>\n",
       "    <tr>\n",
       "      <td>tokens</td>\n",
       "      <td></td>\n",
       "      <td>None</td>\n",
       "      <td>None</td>\n",
       "      <td>False</td>\n",
       "      <td>17</td>\n",
       "    </tr>\n",
       "    <tr>\n",
       "      <td>compound_tokens</td>\n",
       "      <td>type, normalized</td>\n",
       "      <td>None</td>\n",
       "      <td>tokens</td>\n",
       "      <td>False</td>\n",
       "      <td>0</td>\n",
       "    </tr>\n",
       "    <tr>\n",
       "      <td>words</td>\n",
       "      <td>normalized_form</td>\n",
       "      <td>None</td>\n",
       "      <td>None</td>\n",
       "      <td>True</td>\n",
       "      <td>17</td>\n",
       "    </tr>\n",
       "  </tbody>\n",
       "</table>"
      ],
      "text/plain": [
       "Text(text='Kuku raadios välja öeldud seisukohad ei pea ühtima Kuku raadio seisukohtadega. Te kuulate Kuku raadiot?')"
      ]
     },
     "metadata": {},
     "output_type": "display_data"
    }
   ],
   "source": [
    "display(collection)\n",
    "display(collection[0])"
   ]
  },
  {
   "cell_type": "markdown",
   "metadata": {},
   "source": [
    "### Naiivne nimeolemi tuvastus\n",
    "\n",
    "Järgnevas näitame kuidas saab repliikide peale märkida mõned olulised nimeolemid, mille sagedust saaks näiteks hiljem ajas jälgida. \n",
    "See on tüüpiline ülesanne meediamonitooringus kus loetakse kokku toodete või organisatsioonide märkimisi.\n",
    "\n",
    "\n",
    "Meie eesmärgiks on siin vaid süsteemi tutvustav lihtne näide ning mitte parim võimalik täpsus. \n",
    "Paremat täpsust võiks saada läbi masinõppe meetoditel põhinevate märgendajate kasutamise.\n",
    "Kuid isegi sellisel juhul alustatakse näidete märgendamisega, mille lihtsustamiseks on mõistlik kasutada reeglipõhiseid märgendajaid (`PhraseTagger`, `GrammarParsingTagger`). \n"
   ]
  },
  {
   "cell_type": "code",
   "execution_count": 39,
   "metadata": {},
   "outputs": [
    {
     "data": {
      "text/html": [
       "<h4>Layer</h4>\n",
       "\n",
       "\n",
       "<table border=\"1\" class=\"dataframe\">\n",
       "  <thead>\n",
       "    <tr style=\"text-align: right;\">\n",
       "      <th>layer name</th>\n",
       "      <th>attributes</th>\n",
       "      <th>parent</th>\n",
       "      <th>enveloping</th>\n",
       "      <th>ambiguous</th>\n",
       "      <th>span count</th>\n",
       "    </tr>\n",
       "  </thead>\n",
       "  <tbody>\n",
       "    <tr>\n",
       "      <td>morph_analysis</td>\n",
       "      <td>normalized_text, lemma, root, root_tokens, ending, clitic, form, partofspeech</td>\n",
       "      <td>words</td>\n",
       "      <td>None</td>\n",
       "      <td>True</td>\n",
       "      <td>5</td>\n",
       "    </tr>\n",
       "  </tbody>\n",
       "</table>\n",
       "<table border=\"1\" class=\"dataframe\">\n",
       "  <thead>\n",
       "    <tr style=\"text-align: right;\">\n",
       "      <th>text</th>\n",
       "      <th>normalized_text</th>\n",
       "      <th>lemma</th>\n",
       "      <th>root</th>\n",
       "      <th>root_tokens</th>\n",
       "      <th>ending</th>\n",
       "      <th>clitic</th>\n",
       "      <th>form</th>\n",
       "      <th>partofspeech</th>\n",
       "    </tr>\n",
       "  </thead>\n",
       "  <tbody>\n",
       "    <tr>\n",
       "      <td>K01</td>\n",
       "      <td>K01</td>\n",
       "      <td>K01</td>\n",
       "      <td>K01</td>\n",
       "      <td>['K01']</td>\n",
       "      <td>0</td>\n",
       "      <td></td>\n",
       "      <td>?</td>\n",
       "      <td>Y</td>\n",
       "    </tr>\n",
       "    <tr>\n",
       "      <td>:</td>\n",
       "      <td>:</td>\n",
       "      <td>:</td>\n",
       "      <td>:</td>\n",
       "      <td>[':']</td>\n",
       "      <td></td>\n",
       "      <td></td>\n",
       "      <td></td>\n",
       "      <td>Z</td>\n",
       "    </tr>\n",
       "    <tr>\n",
       "      <td>Kuku</td>\n",
       "      <td>Kuku</td>\n",
       "      <td>Kuku</td>\n",
       "      <td>Kuku</td>\n",
       "      <td>['Kuku']</td>\n",
       "      <td>0</td>\n",
       "      <td></td>\n",
       "      <td>sg n</td>\n",
       "      <td>H</td>\n",
       "    </tr>\n",
       "    <tr>\n",
       "      <td>raadios</td>\n",
       "      <td>raadios</td>\n",
       "      <td>raadio</td>\n",
       "      <td>raadio</td>\n",
       "      <td>['raadio']</td>\n",
       "      <td>s</td>\n",
       "      <td></td>\n",
       "      <td>sg in</td>\n",
       "      <td>S</td>\n",
       "    </tr>\n",
       "    <tr>\n",
       "      <td>välja</td>\n",
       "      <td>välja</td>\n",
       "      <td>välja</td>\n",
       "      <td>välja</td>\n",
       "      <td>['välja']</td>\n",
       "      <td>0</td>\n",
       "      <td></td>\n",
       "      <td></td>\n",
       "      <td>D</td>\n",
       "    </tr>\n",
       "  </tbody>\n",
       "</table>"
      ],
      "text/plain": [
       "Layer(name='morph_analysis', attributes=('normalized_text', 'lemma', 'root', 'root_tokens', 'ending', 'clitic', 'form', 'partofspeech'), spans=SL[Span('K01', [{'normalized_text': 'K01', 'lemma': 'K01', 'root': 'K01', 'root_tokens': ['K01'], 'ending': '0', 'clitic': '', 'form': '?', 'partofspeech': 'Y'}]),\n",
       "Span(':', [{'normalized_text': ':', 'lemma': ':', 'root': ':', 'root_tokens': [':'], 'ending': '', 'clitic': '', 'form': '', 'partofspeech': 'Z'}]),\n",
       "Span('Kuku', [{'normalized_text': 'Kuku', 'lemma': 'Kuku', 'root': 'Kuku', 'root_tokens': ['Kuku'], 'ending': '0', 'clitic': '', 'form': 'sg n', 'partofspeech': 'H'}]),\n",
       "Span('raadios', [{'normalized_text': 'raadios', 'lemma': 'raadio', 'root': 'raadio', 'root_tokens': ['raadio'], 'ending': 's', 'clitic': '', 'form': 'sg in', 'partofspeech': 'S'}]),\n",
       "Span('välja', [{'normalized_text': 'välja', 'lemma': 'välja', 'root': 'välja', 'root_tokens': ['välja'], 'ending': '0', 'clitic': '', 'form': '', 'partofspeech': 'D'}])])"
      ]
     },
     "execution_count": 39,
     "metadata": {},
     "output_type": "execute_result"
    }
   ],
   "source": [
    "text = Text(raw_text).analyse('morphology')\n",
    "text.morph_analysis[:5]"
   ]
  },
  {
   "cell_type": "markdown",
   "metadata": {},
   "source": [
    "Vaatame sagedasi lemmasid tuvastamaks oluliste fraaside põhju."
   ]
  },
  {
   "cell_type": "code",
   "execution_count": 40,
   "metadata": {},
   "outputs": [
    {
     "data": {
      "text/plain": [
       "[(('noh',), 29),\n",
       " (('väga',), 28),\n",
       " (('teadma',), 26),\n",
       " (('võima',), 24),\n",
       " (('inimene',), 24),\n",
       " (('kas',), 24),\n",
       " (('tuhat',), 23),\n",
       " (('kuidas',), 23),\n",
       " (('mingisugune',), 22),\n",
       " (('Artur',), 21),\n",
       " (('Talvik',), 21),\n",
       " (('veel',), 21),\n",
       " (('Euroopa',), 21),\n",
       " (('no',), 21),\n",
       " (('kõik',), 21),\n",
       " (('välja',), 20),\n",
       " (('sina',), 20),\n",
       " (('juba',), 20),\n",
       " (('suur',), 20),\n",
       " (('mingi',), 20),\n",
       " (('Ainar',), 19),\n",
       " (('Ruussaar',), 19),\n",
       " (('seal',), 19),\n",
       " (('tegelikult',), 18),\n",
       " (('ju',), 18),\n",
       " (('palju',), 17),\n",
       " (('hakkama',), 17),\n",
       " (('Eesti',), 17),\n",
       " (('minema',), 16),\n",
       " (('ehk',), 16),\n",
       " (('euro',), 16),\n",
       " (('oma',), 15),\n",
       " (('kaks',), 15),\n",
       " (('miski',), 15),\n",
       " (('aeg',), 15),\n",
       " (('käima',), 15),\n",
       " (('Tallinn',), 14),\n",
       " (('maksma',), 14),\n",
       " (('mitte',), 14),\n",
       " (('siin',), 13)]"
      ]
     },
     "execution_count": 40,
     "metadata": {},
     "output_type": "execute_result"
    }
   ],
   "source": [
    "lemma_freq = text.morph_analysis.groupby(['lemma']).count\n",
    "sorted(lemma_freq.items(), key=lambda x: x[1], reverse=True)[30:70]"
   ]
  },
  {
   "cell_type": "code",
   "execution_count": 41,
   "metadata": {},
   "outputs": [],
   "source": [
    "from estnltk.taggers import PhraseTagger"
   ]
  },
  {
   "cell_type": "markdown",
   "metadata": {},
   "source": [
    "Märgendaja südameks on fraasijärjendite sõnastik, mis defineerib fraasid läbi järjendite. \n",
    "Lihtsuse mõttes defineerime nimeolemid:\n",
    "* Kuku Raadio\n",
    "* Keskerakond\n",
    "* Eesti \n",
    "* Ukraina\n",
    "* Venemaa"
   ]
  },
  {
   "cell_type": "code",
   "execution_count": 42,
   "metadata": {},
   "outputs": [],
   "source": [
    "entity_voc=[\n",
    "{\n",
    "    '_phrase_': ('kuku', 'raadio'),\n",
    "    'entity': 'Kuku Raadio'\n",
    "},\n",
    "{\n",
    "    '_phrase_': ('keskerakond',),\n",
    "    'entity': 'Keskerakond' \n",
    "},\n",
    "{\n",
    "    '_phrase_': ('Keskerakond',),\n",
    "    'entity': 'Keskerakond' \n",
    "},\n",
    "\n",
    "{\n",
    "    '_phrase_': ('Eesti',),\n",
    "    'entity': 'Eesti'\n",
    "},\n",
    "{\n",
    "    '_phrase_': ('Ukraina',),\n",
    "    'entity': 'Ukraina'\n",
    "},\n",
    "{\n",
    "    '_phrase_': ('ukraina',),\n",
    "    'entity': 'Ukraina'\n",
    "},   \n",
    "{\n",
    "    '_phrase_': ('Venemaa',),\n",
    "    'entity': 'Venemaa'\n",
    "},\n",
    "{\n",
    "    '_phrase_': ('venemaa',),\n",
    "    'entity': 'Venemaa'\n",
    "},\n",
    "{\n",
    "    '_phrase_': ('Vene',),\n",
    "    'entity': 'Venemaa'\n",
    "}   \n",
    "]"
   ]
  },
  {
   "cell_type": "markdown",
   "metadata": {},
   "source": [
    "Märgendaja `PhraseTagger` loomisel on tarvis määrata parameetrid: \n",
    "* `vocabulary` - fraasisõnastik,\n",
    "* `key` - fraasi defineeriv atribuut sõnastikus,\n",
    "* `input_layer` - kiht kust otsitakse fraase, \n",
    "* `input_attribute` - fraaside aluseks olev atribuut,\n",
    "* `output_layer` - väljundkihi nimi,\n",
    "* `output_attributes` - väljundkihti tellitavate atribuutide nimed,\n",
    "\n",
    "Tüüpilised lisaparameetrid:\n",
    "\n",
    "* `validator` - filter valepositiivsete eemaldamiseks \n",
    "* `decorator` - funktsioon keerukamate atribuutide defineerimiseks"
   ]
  },
  {
   "cell_type": "code",
   "execution_count": 43,
   "metadata": {},
   "outputs": [],
   "source": [
    "entity_tagger=PhraseTagger(\n",
    "    output_layer='entities',\n",
    "    output_attributes=['entity'],\n",
    "    input_layer='morph_analysis', \n",
    "    input_attribute='lemma',\n",
    "    vocabulary=entity_voc, \n",
    "    key='_phrase_')"
   ]
  },
  {
   "cell_type": "code",
   "execution_count": 44,
   "metadata": {},
   "outputs": [
    {
     "data": {
      "text/plain": [
       "{('Kuku Raadio',): 3, ('Eesti',): 17, ('Keskerakond',): 17}"
      ]
     },
     "execution_count": 44,
     "metadata": {},
     "output_type": "execute_result"
    }
   ],
   "source": [
    "if 'entities' in text.layers:\n",
    "    del text.entities\n",
    "entity_tagger(text)\n",
    "text.entities.groupby(['entity']).count"
   ]
  },
  {
   "cell_type": "markdown",
   "metadata": {},
   "source": [
    "Nagu varem saame me nüüd kasutada märgendajat uue kihi tegemiseks. \n",
    "Selle juures ei ole vaja muretseda kas sisendkiht on originaalkiht või hiljem lisatud."
   ]
  },
  {
   "cell_type": "code",
   "execution_count": 45,
   "metadata": {},
   "outputs": [
    {
     "name": "stdout",
     "output_type": "stream",
     "text": [
      "INFO:collection.py:817: collection: 'kpt'\n",
      "INFO:collection.py:836: preparing to create a new layer: 'entities'\n",
      "INFO:collection.py:869: inserting data into the 'entities' layer table\n",
      "INFO:collection.py:904: layer created: 'entities'\n"
     ]
    },
    {
     "data": {
      "text/html": [
       "<b>PgCollection</b><br/><b>name:</b> kpt<br/><b>storage:</b> PostgresStorage(user=swen password=xxx dbname=ekt host=127.0.0.1 port=5432 schema=media_analysis temporary=False)<br/><b>count objects:</b> 464<br/><b>Metadata</b><br/><table border=\"1\" class=\"dataframe\">\n",
       "  <thead>\n",
       "    <tr style=\"text-align: right;\">\n",
       "      <th></th>\n",
       "      <th>data type</th>\n",
       "    </tr>\n",
       "  </thead>\n",
       "  <tbody>\n",
       "    <tr>\n",
       "      <th>date</th>\n",
       "      <td>timestamp without time zone</td>\n",
       "    </tr>\n",
       "    <tr>\n",
       "      <th>person</th>\n",
       "      <td>text</td>\n",
       "    </tr>\n",
       "  </tbody>\n",
       "</table><b>Layers</b><table border=\"1\" class=\"dataframe\">\n",
       "  <thead>\n",
       "    <tr style=\"text-align: right;\">\n",
       "      <th></th>\n",
       "      <th>layer_type</th>\n",
       "      <th>attributes</th>\n",
       "      <th>ambiguous</th>\n",
       "      <th>parent</th>\n",
       "      <th>enveloping</th>\n",
       "      <th>meta</th>\n",
       "    </tr>\n",
       "  </thead>\n",
       "  <tbody>\n",
       "    <tr>\n",
       "      <th>tokens</th>\n",
       "      <td>attached</td>\n",
       "      <td>()</td>\n",
       "      <td>False</td>\n",
       "      <td>None</td>\n",
       "      <td>None</td>\n",
       "      <td>[]</td>\n",
       "    </tr>\n",
       "    <tr>\n",
       "      <th>compound_tokens</th>\n",
       "      <td>attached</td>\n",
       "      <td>(type, normalized)</td>\n",
       "      <td>False</td>\n",
       "      <td>None</td>\n",
       "      <td>tokens</td>\n",
       "      <td>[]</td>\n",
       "    </tr>\n",
       "    <tr>\n",
       "      <th>words</th>\n",
       "      <td>attached</td>\n",
       "      <td>(normalized_form,)</td>\n",
       "      <td>True</td>\n",
       "      <td>None</td>\n",
       "      <td>None</td>\n",
       "      <td>[]</td>\n",
       "    </tr>\n",
       "    <tr>\n",
       "      <th>sentences</th>\n",
       "      <td>attached</td>\n",
       "      <td>()</td>\n",
       "      <td>False</td>\n",
       "      <td>None</td>\n",
       "      <td>words</td>\n",
       "      <td>[]</td>\n",
       "    </tr>\n",
       "    <tr>\n",
       "      <th>paragraphs</th>\n",
       "      <td>attached</td>\n",
       "      <td>()</td>\n",
       "      <td>False</td>\n",
       "      <td>None</td>\n",
       "      <td>sentences</td>\n",
       "      <td>[]</td>\n",
       "    </tr>\n",
       "    <tr>\n",
       "      <th>morph_analysis</th>\n",
       "      <td>detached</td>\n",
       "      <td>(normalized_text, lemma, root, root_tokens, ending, clitic, form, partofspeech)</td>\n",
       "      <td>True</td>\n",
       "      <td>words</td>\n",
       "      <td>None</td>\n",
       "      <td>[]</td>\n",
       "    </tr>\n",
       "    <tr>\n",
       "      <th>entities</th>\n",
       "      <td>detached</td>\n",
       "      <td>(entity,)</td>\n",
       "      <td>False</td>\n",
       "      <td>None</td>\n",
       "      <td>morph_analysis</td>\n",
       "      <td>[]</td>\n",
       "    </tr>\n",
       "  </tbody>\n",
       "</table>"
      ],
      "text/plain": [
       "<estnltk.storage.postgres.collection.PgCollection at 0x1a25bb3cf8>"
      ]
     },
     "execution_count": 45,
     "metadata": {},
     "output_type": "execute_result"
    }
   ],
   "source": [
    "collection.create_layer(tagger=entity_tagger)\n",
    "collection"
   ]
  },
  {
   "cell_type": "markdown",
   "metadata": {},
   "source": [
    "### Tulemuste kiire vaatamine\n",
    "\n",
    "Selleks et tulemust näha, tuleb eraldi loodud kiht lülitada tekstobjekti rekonstrueerimisel kasutatavate kihtide loetellu. "
   ]
  },
  {
   "cell_type": "code",
   "execution_count": 46,
   "metadata": {},
   "outputs": [
    {
     "data": {
      "text/plain": [
       "['tokens', 'compound_tokens', 'words', 'sentences', 'paragraphs', 'entities']"
      ]
     },
     "execution_count": 46,
     "metadata": {},
     "output_type": "execute_result"
    }
   ],
   "source": [
    "collection.selected_layers.append('entities')\n",
    "collection.selected_layers"
   ]
  },
  {
   "cell_type": "code",
   "execution_count": 47,
   "metadata": {},
   "outputs": [
    {
     "data": {
      "text/plain": [
       "'Kuku raadios välja öeldud seisukohad ei pea ühtima Kuku raadio seisukohtadega. Te kuulate Kuku raadiot?'"
      ]
     },
     "metadata": {},
     "output_type": "display_data"
    },
    {
     "data": {
      "text/html": [
       "<h4>Layer</h4>\n",
       "\n",
       "\n",
       "<table border=\"1\" class=\"dataframe\">\n",
       "  <thead>\n",
       "    <tr style=\"text-align: right;\">\n",
       "      <th>layer name</th>\n",
       "      <th>attributes</th>\n",
       "      <th>parent</th>\n",
       "      <th>enveloping</th>\n",
       "      <th>ambiguous</th>\n",
       "      <th>span count</th>\n",
       "    </tr>\n",
       "  </thead>\n",
       "  <tbody>\n",
       "    <tr>\n",
       "      <td>entities</td>\n",
       "      <td>entity</td>\n",
       "      <td>None</td>\n",
       "      <td>morph_analysis</td>\n",
       "      <td>False</td>\n",
       "      <td>2</td>\n",
       "    </tr>\n",
       "  </tbody>\n",
       "</table>\n",
       "<table border=\"1\" class=\"dataframe\">\n",
       "  <thead>\n",
       "    <tr style=\"text-align: right;\">\n",
       "      <th>text</th>\n",
       "      <th>entity</th>\n",
       "    </tr>\n",
       "  </thead>\n",
       "  <tbody>\n",
       "    <tr>\n",
       "      <td>['Kuku', 'raadio']</td>\n",
       "      <td>Kuku Raadio</td>\n",
       "    </tr>\n",
       "    <tr>\n",
       "      <td>['Kuku', 'raadiot']</td>\n",
       "      <td>Kuku Raadio</td>\n",
       "    </tr>\n",
       "  </tbody>\n",
       "</table>"
      ],
      "text/plain": [
       "Layer(name='entities', attributes=('entity',), spans=SL[EnvelopingSpan(['Kuku', 'raadio'], [{'entity': 'Kuku Raadio'}]),\n",
       "EnvelopingSpan(['Kuku', 'raadiot'], [{'entity': 'Kuku Raadio'}])])"
      ]
     },
     "metadata": {},
     "output_type": "display_data"
    }
   ],
   "source": [
    "display(collection[0].text)\n",
    "display(collection[0].entities)"
   ]
  },
  {
   "cell_type": "markdown",
   "metadata": {},
   "source": [
    "## 4. Päringud tekstikollektsiooni\n",
    "\n",
    "Päringuid on vaja selleks, et valida välja teatud kriteeriumidele vastavad tekstid. \n",
    "Selleks on vaja luua päringuobjekt ning rakendada seda kogu kollektsioonile või alamkollektsioonile.\n",
    "Erinevaid päringuobjekte on mitmeid ning neid saab kombineerida. \n",
    "\n",
    "### Kihipäringud\n",
    "Vaatame esmalt kihipäringuid, et tuvastada, millised nimeolemid esinevad Kuku Raadioga samas repliigis.  "
   ]
  },
  {
   "cell_type": "code",
   "execution_count": 48,
   "metadata": {},
   "outputs": [],
   "source": [
    "from estnltk.storage.postgres import JsonbLayerQuery"
   ]
  },
  {
   "cell_type": "code",
   "execution_count": 49,
   "metadata": {},
   "outputs": [],
   "source": [
    "layer_query ={'entities': JsonbLayerQuery('entities', entity='Kuku Raadio')}"
   ]
  },
  {
   "cell_type": "code",
   "execution_count": 50,
   "metadata": {},
   "outputs": [
    {
     "name": "stdout",
     "output_type": "stream",
     "text": [
      "2019-09-07 00:00:00:{('Kuku Raadio',): 2}\n",
      "2019-09-07 00:00:00:{('Kuku Raadio',): 1}\n",
      "2019-10-26 00:00:00:{('Kuku Raadio',): 2}\n",
      "2019-10-26 00:00:00:{('Kuku Raadio',): 1, ('Eesti',): 1}\n",
      "2019-10-26 00:00:00:{('Kuku Raadio',): 1}\n",
      "2019-10-19 00:00:00:{('Kuku Raadio',): 2}\n",
      "2019-10-19 00:00:00:{('Kuku Raadio',): 1}\n",
      "2019-09-14 00:00:00:{('Kuku Raadio',): 2}\n",
      "2019-09-28 00:00:00:{('Kuku Raadio',): 2}\n",
      "2019-09-28 00:00:00:{('Kuku Raadio',): 1, ('Eesti',): 1}\n",
      "2019-10-12 00:00:00:{('Kuku Raadio',): 2}\n",
      "2019-10-12 00:00:00:{('Kuku Raadio',): 1}\n",
      "2019-10-05 00:00:00:{('Kuku Raadio',): 2}\n",
      "2019-10-05 00:00:00:{('Kuku Raadio',): 1, ('Eesti',): 2}\n",
      "2019-09-21 00:00:00:{('Kuku Raadio',): 2}\n",
      "2019-09-21 00:00:00:{('Kuku Raadio',): 1, ('Ukraina',): 4, ('Eesti',): 2}\n"
     ]
    }
   ],
   "source": [
    "for key, text, meta in collection.select(\n",
    "    layer_query=layer_query,\n",
    "    layers=['entities'],\n",
    "    return_index=True,\n",
    "    collection_meta=['person', 'date']):\n",
    "    print(\"{}:{}\".format(meta['date'], text.entities.groupby(['entity']).count))"
   ]
  },
  {
   "cell_type": "code",
   "execution_count": 51,
   "metadata": {},
   "outputs": [
    {
     "name": "stdout",
     "output_type": "stream",
     "text": [
      "2019-10-12 00:00:00:{('Venemaa',): 4, ('Ukraina',): 3}\n",
      "2019-10-12 00:00:00:{('Venemaa',): 1, ('Eesti',): 1}\n",
      "2019-10-12 00:00:00:{('Eesti',): 3, ('Venemaa',): 5, ('Keskerakond',): 3}\n",
      "2019-10-12 00:00:00:{('Venemaa',): 3, ('Keskerakond',): 4}\n",
      "2019-10-05 00:00:00:{('Eesti',): 2, ('Venemaa',): 1}\n",
      "2019-09-21 00:00:00:{('Ukraina',): 4, ('Venemaa',): 3}\n",
      "2019-09-21 00:00:00:{('Ukraina',): 6, ('Venemaa',): 3}\n"
     ]
    }
   ],
   "source": [
    "layer_query ={'entities': JsonbLayerQuery('entities', entity='Venemaa')}\n",
    "for key, text, meta in collection.select(\n",
    "    layer_query=layer_query,\n",
    "    layers=['entities'],\n",
    "    return_index=True,\n",
    "    collection_meta=['person', 'date']):\n",
    "    print(\"{}:{}\".format(meta['date'], text.entities.groupby(['entity']).count))"
   ]
  },
  {
   "cell_type": "markdown",
   "metadata": {},
   "source": [
    "### Päringud originaalsele tekstiobjektile\n",
    "\n",
    "Originaalkihtidele saab teha päringuid läbi tekstipäringute, aga siis peavad vastavad kihid sisaldama atribuute.\n",
    "\n",
    "Meie näites pole originaalkihtidel atribuute -- `text` pole päris atribuut. Seega ei saa me ühtegi huvitavat päringut teha."
   ]
  },
  {
   "cell_type": "code",
   "execution_count": 53,
   "metadata": {},
   "outputs": [],
   "source": [
    "from estnltk.storage.postgres import JsonbTextQuery"
   ]
  },
  {
   "cell_type": "code",
   "execution_count": 54,
   "metadata": {},
   "outputs": [
    {
     "data": {
      "text/html": [
       "<table border=\"1\" class=\"dataframe\">\n",
       "  <thead>\n",
       "    <tr style=\"text-align: right;\">\n",
       "      <th>text</th>\n",
       "    </tr>\n",
       "  </thead>\n",
       "  <tbody>\n",
       "    <tr>\n",
       "      <td><div align = \"left\">Kuku raadios välja öeldud seisukohad ei pea ühtima Kuku raadio seisukohtadega. Te kuulate Kuku raadiot?</div></td>\n",
       "    </tr>\n",
       "  </tbody>\n",
       "</table>\n",
       "<table border=\"1\" class=\"dataframe\">\n",
       "  <thead>\n",
       "    <tr style=\"text-align: right;\">\n",
       "      <th>layer name</th>\n",
       "      <th>attributes</th>\n",
       "      <th>parent</th>\n",
       "      <th>enveloping</th>\n",
       "      <th>ambiguous</th>\n",
       "      <th>span count</th>\n",
       "    </tr>\n",
       "  </thead>\n",
       "  <tbody>\n",
       "    <tr>\n",
       "      <td>paragraphs</td>\n",
       "      <td></td>\n",
       "      <td>None</td>\n",
       "      <td>sentences</td>\n",
       "      <td>False</td>\n",
       "      <td>1</td>\n",
       "    </tr>\n",
       "    <tr>\n",
       "      <td>sentences</td>\n",
       "      <td></td>\n",
       "      <td>None</td>\n",
       "      <td>words</td>\n",
       "      <td>False</td>\n",
       "      <td>2</td>\n",
       "    </tr>\n",
       "    <tr>\n",
       "      <td>tokens</td>\n",
       "      <td></td>\n",
       "      <td>None</td>\n",
       "      <td>None</td>\n",
       "      <td>False</td>\n",
       "      <td>17</td>\n",
       "    </tr>\n",
       "    <tr>\n",
       "      <td>compound_tokens</td>\n",
       "      <td>type, normalized</td>\n",
       "      <td>None</td>\n",
       "      <td>tokens</td>\n",
       "      <td>False</td>\n",
       "      <td>0</td>\n",
       "    </tr>\n",
       "    <tr>\n",
       "      <td>words</td>\n",
       "      <td>normalized_form</td>\n",
       "      <td>None</td>\n",
       "      <td>None</td>\n",
       "      <td>True</td>\n",
       "      <td>17</td>\n",
       "    </tr>\n",
       "    <tr>\n",
       "      <td>morph_analysis</td>\n",
       "      <td>normalized_text, lemma, root, root_tokens, ending, clitic, form, partofspeech</td>\n",
       "      <td>words</td>\n",
       "      <td>None</td>\n",
       "      <td>True</td>\n",
       "      <td>17</td>\n",
       "    </tr>\n",
       "    <tr>\n",
       "      <td>entities</td>\n",
       "      <td>entity</td>\n",
       "      <td>None</td>\n",
       "      <td>morph_analysis</td>\n",
       "      <td>False</td>\n",
       "      <td>2</td>\n",
       "    </tr>\n",
       "  </tbody>\n",
       "</table>"
      ],
      "text/plain": [
       "Text(text='Kuku raadios välja öeldud seisukohad ei pea ühtima Kuku raadio seisukohtadega. Te kuulate Kuku raadiot?')"
      ]
     },
     "execution_count": 54,
     "metadata": {},
     "output_type": "execute_result"
    }
   ],
   "source": [
    "collection[0]"
   ]
  },
  {
   "cell_type": "code",
   "execution_count": 55,
   "metadata": {},
   "outputs": [
    {
     "data": {
      "text/plain": [
       "[]"
      ]
     },
     "execution_count": 55,
     "metadata": {},
     "output_type": "execute_result"
    }
   ],
   "source": [
    "collection.select(query=JsonbTextQuery('tokens', text='raadio')).head()"
   ]
  },
  {
   "cell_type": "markdown",
   "metadata": {},
   "source": [
    "### Päringud alustekstile\n",
    "\n",
    "Leidub eraldi päringuobjekt alusteksti alamsõnede otsimiseks. Seda on kasulik kasutada otsingufaasis."
   ]
  },
  {
   "cell_type": "code",
   "execution_count": 56,
   "metadata": {},
   "outputs": [],
   "source": [
    "from estnltk.storage.postgres import SubstringQuery"
   ]
  },
  {
   "cell_type": "code",
   "execution_count": 57,
   "metadata": {},
   "outputs": [
    {
     "data": {
      "text/plain": [
       "[(13,\n",
       "  Text(text='Aga praegu peab vist Nordikat iseloomustada nii nagu aastaid tagasi. Noorem laps oli veel väike ja ma käisin temaga koos kinos vaatamas multikaid siis üks multikas Madagaskar, selle üks stseen, kus Pidviinidest lendurid teatasid reisijatele, et meil on teile hea uudis ja halb uudis, hea uudis on see, et me maandume, halb uudis on see, et me kukume, nagu kyll.')),\n",
       " (48,\n",
       "  Text(text='Keskpäevatund jätkab Urmas Jaagant, Ainar Ruussaar ja Priit Hõbemägi Tallinna stuudios. Brexiti on Ühendkuningriigi lahkumine Euroopa Liidust või keegi veel seda ei tea, aga need, kes seda teavad, need on võinud selle nädala jooksul jälgida maailma parimad TV-d raamat, mis on siis vaadeldav nii BBC koduleheküljelt kui Briti parlamendi koduleheküljelt, kui ka kõikidest suurematest maailma infoportaalidest, mis räägivad ja mis näitab otseülekandes seda, kuidas Briti parlament vaidleb selle üle, kas britid peaksid kukkuma kolmekümne esimesel oktoobril kolksti Euroopa Liidust välja ilma igasuguste lepingute või siis peaksid nad nuruma veel kord pikendust, seekord kuni kolmekümne esimese jaanuarini ükskord on juba pikendust saadud, aga brittidel ei lähe selle maailma vanima, ühe vanima parlamendi nii-öelda töö korraldamine eriti hästi sellepärast et, et peaministrid tahavad ühte ja parlament tahab teist ja nii nagu maailmas on selgeks saanud, et britid teavad tänase päevani ja väga hästi seda, mida nad ei taha. Aga mida nad tegelikult tahavad, seda nad ei oska veel öelda ja nii on ka nende uus peaminister Boris Prantsus on saanud mitu meeletud hoopi sel nädalal Briti parlamendis. Nimelt ta üritas välja kutsuda siis ennetähtaegseid parlamendi valimisi. Selles asjas sai ta lüüa, ta üritas siis kindlustada seda, et britid tõepoolest kolmekümne esimesel oktoobril välja astuvad Euroopa Liidust või õigemini kukuvad välja ilma mingisuguse lepetega, selles sai ta lüüa. Ja kuigi parlament ütleb talle, et nüüd pead sa minema Brüsselisse ja paluma pikendust, siis vastas Johnson selle peale lihtsalt, et parem kõngen kraavis, kui lähen kätt väristama, nii et võiks öelda, et see on ikka täiesti pretsedenditu tsirkus, mis maailmas toimub ja samal ajal on selge see, et see mõjutab ka kõiki neid. See mõjutab mitte ainult brite, aga see mõjutab ka Euroopa Liitu ja see mõjutab ka eestlasi. Ja see, miks see asi nii raskelt käib, sellel on ka kindlasti omalt poolt.'))]"
      ]
     },
     "execution_count": 57,
     "metadata": {},
     "output_type": "execute_result"
    }
   ],
   "source": [
    "collection.select(SubstringQuery('kuku')).head(2)\n"
   ]
  },
  {
   "cell_type": "markdown",
   "metadata": {},
   "source": [
    "## 5. Andmebaasiühenduse sulgemine"
   ]
  },
  {
   "cell_type": "markdown",
   "metadata": {},
   "source": [
    "Ühenduse sulgemine."
   ]
  },
  {
   "cell_type": "code",
   "execution_count": 58,
   "metadata": {},
   "outputs": [],
   "source": [
    "storage.close()"
   ]
  },
  {
   "cell_type": "markdown",
   "metadata": {},
   "source": [
    "Käsud Postgre objektide kustutamiseks."
   ]
  },
  {
   "cell_type": "code",
   "execution_count": null,
   "metadata": {},
   "outputs": [],
   "source": [
    "# storage.delete('kpt')\n",
    "# storage['kpt'].delete()"
   ]
  }
 ],
 "metadata": {
  "kernelspec": {
   "display_name": "Python 3",
   "language": "python",
   "name": "python3"
  },
  "language_info": {
   "codemirror_mode": {
    "name": "ipython",
    "version": 3
   },
   "file_extension": ".py",
   "mimetype": "text/x-python",
   "name": "python",
   "nbconvert_exporter": "python",
   "pygments_lexer": "ipython3",
   "version": "3.6.9"
  }
 },
 "nbformat": 4,
 "nbformat_minor": 2
}
