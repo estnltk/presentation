{
 "cells": [
  {
   "cell_type": "markdown",
   "metadata": {},
   "source": [
    "### Olulisemad käsud, milleta Notebookis läbi ei saa:\n",
    "**Shift+Enter**: jooksuta lahter ja liigu järgmise juurde"
   ]
  },
  {
   "cell_type": "code",
   "execution_count": null,
   "metadata": {},
   "outputs": [],
   "source": [
    "from estnltk import Text\n",
    "Text('Kas mu EstNLTK töötab?').tag_layer()"
   ]
  },
  {
   "cell_type": "markdown",
   "metadata": {},
   "source": [
    "### Shortcutid command mode'is (st kursorit pole lahtris!) \n",
    "\n",
    "**a**: uus lahter üles (_above_)\n",
    "\n",
    "**b**: uus lahter alla (_below_)\n",
    "\n",
    "**dd**: kustuta lahter (_delete_)"
   ]
  }
 ],
 "metadata": {
  "kernelspec": {
   "display_name": "Python 3",
   "language": "python",
   "name": "python3"
  },
  "language_info": {
   "codemirror_mode": {
    "name": "ipython",
    "version": 3
   },
   "file_extension": ".py",
   "mimetype": "text/x-python",
   "name": "python",
   "nbconvert_exporter": "python",
   "pygments_lexer": "ipython3",
   "version": "3.6.9"
  }
 },
 "nbformat": 4,
 "nbformat_minor": 2
}
