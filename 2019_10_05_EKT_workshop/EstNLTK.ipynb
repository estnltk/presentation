{
 "cells": [
  {
   "cell_type": "markdown",
   "metadata": {
    "slideshow": {
     "slide_type": "skip"
    }
   },
   "source": [
    "Use [RISE](https://github.com/damianavila/RISE) to display the slides.\n",
    "\n",
    "```bash\n",
    "pip install RISE\n",
    "```"
   ]
  },
  {
   "cell_type": "markdown",
   "metadata": {
    "nbpresent": {
     "id": "695efdc2-38ca-490a-8879-58378000eb35"
    },
    "slideshow": {
     "slide_type": "slide"
    }
   },
   "source": [
    "<H1 style=\"text-align: center;\">\n",
    "EstNLTK õpituba\n",
    "</H1>\n",
    "\n",
    "<H4 style=\"text-align: center;\">\n",
    "Dage Särg, Sven Laur\n",
    "</H4>\n",
    "\n",
    "<H4 style=\"text-align: center;\">\n",
    "Keeletehnoloogia konverents 5.11.2019\n",
    "</H4>\n",
    "\n",
    "<H4 style=\"text-align: center;\">\n",
    "Materjalid zip-failina: TODO <br> \n",
    "Materjalid githubis: https://tinyurl.com/estnltk-github\n",
    "</H4>"
   ]
  },
  {
   "cell_type": "markdown",
   "metadata": {
    "nbpresent": {
     "id": "435ad38f-9293-4f78-8802-137f022f5d1f"
    },
    "slideshow": {
     "slide_type": "skip"
    }
   },
   "source": [
    "## 0. Installimine\n",
    "EstNLTK-d on kõige parem installida läbi Anaconda, mille saab alla laadida siit https://www.anaconda.com/distribution/ (Python 3.7 versioon).\n",
    "\n",
    "Seejärel avage terminaliaken ning looge ja aktiveerige conda keskkond, mis kasutab Python 3.6:\n",
    "```bash\n",
    "conda create -n estnltk python=3.6 -y\n",
    "conda activate estnltk\n",
    "```\n",
    "Installige loodud keskkonda EstNLTK 1.6 ning jupyter:\n",
    "```bash\n",
    "conda install -c estnltk -c conda-forge estnltk\n",
    "conda install jupyter\n",
    "```\n",
    "Liikuge käsureal kausta, kuhu laadisite alla õpitoa materjalid ning käivitage notebook:\n",
    "```bash\n",
    "jupyter notebook EstNLTK\n",
    "```"
   ]
  },
  {
   "cell_type": "markdown",
   "metadata": {
    "nbpresent": {
     "id": "b768e519-3264-4f78-a044-6f7ba0888b99"
    },
    "slideshow": {
     "slide_type": "skip"
    }
   },
   "source": [
    "### Olulisemad käsud, milleta Notebookis läbi ei saa:\n",
    "**Shift+Enter**: jooksuta lahter ja liigu järgmise juurde\n",
    "\n",
    "### Shortcutid command mode'is (st kursorit pole lahtris!) \n",
    "\n",
    "**a**: uus lahter üles (_above_)\n",
    "\n",
    "**b**: uus lahter alla (_below_)\n",
    "\n",
    "**dd**: kustuta lahter (_delete_)"
   ]
  },
  {
   "cell_type": "markdown",
   "metadata": {
    "slideshow": {
     "slide_type": "slide"
    }
   },
   "source": [
    "## Plaan:\n",
    "1. Teksti segmenteerimine\n",
    "2. Morfoloogiline analüüs ja ühestamine\n",
    "3. Standardmärgendajad e taggerid\n",
    "4. Oma märgendajate kirjutamine\n",
    "5. Tekstikollektsioonide töötlemine"
   ]
  },
  {
   "cell_type": "markdown",
   "metadata": {
    "nbpresent": {
     "id": "006380a2-016f-463e-8da7-2f9edfddcfc3"
    },
    "slideshow": {
     "slide_type": "slide"
    }
   },
   "source": [
    "## 1. Teksti segmenteerimine"
   ]
  },
  {
   "cell_type": "code",
   "execution_count": null,
   "metadata": {
    "nbpresent": {
     "id": "01e0a993-066c-4965-80e1-f56313699e3c"
    },
    "slideshow": {
     "slide_type": "fragment"
    }
   },
   "outputs": [],
   "source": [
    "from estnltk import Text\n",
    "# Teksti töötlemiseks peame tegema stringi Text objektiks\n",
    "text = Text(\"Festivalil osales üle 30 000 muusikahuvilise.\")\n",
    "text"
   ]
  },
  {
   "cell_type": "code",
   "execution_count": null,
   "metadata": {
    "nbpresent": {
     "id": "97a08ab5-1bc1-4a2c-95ef-bbf929aefc8e"
    },
    "scrolled": true,
    "slideshow": {
     "slide_type": "slide"
    }
   },
   "outputs": [],
   "source": [
    "# tag_layer() meetod märgib peale standardsed analüüsikihid,\n",
    "# mida on vaja pea kõigi keeletöötlusülesannete juures\n",
    "text.tag_layer()"
   ]
  },
  {
   "cell_type": "code",
   "execution_count": null,
   "metadata": {
    "slideshow": {
     "slide_type": "slide"
    }
   },
   "outputs": [],
   "source": [
    "text.text"
   ]
  },
  {
   "cell_type": "code",
   "execution_count": null,
   "metadata": {
    "nbpresent": {
     "id": "6f10ed15-c7b0-4355-be85-13e948b4db9a"
    },
    "slideshow": {
     "slide_type": "fragment"
    }
   },
   "outputs": [],
   "source": [
    "# Tokens e sõned - mitte alati lingvistiliselt motiveeritud\n",
    "text.tokens"
   ]
  },
  {
   "cell_type": "code",
   "execution_count": null,
   "metadata": {
    "slideshow": {
     "slide_type": "slide"
    }
   },
   "outputs": [],
   "source": [
    "# Words e sõnad - mõned tokenid ühendatakse edasiseks töötluseks kokku\n",
    "text.words"
   ]
  },
  {
   "cell_type": "code",
   "execution_count": null,
   "metadata": {
    "slideshow": {
     "slide_type": "slide"
    }
   },
   "outputs": [],
   "source": [
    "# Laused - punkt ei toimi alati eraldajana\n",
    "text = Text('Tartu Rattaralli toimub 29. mail 2020. \\\n",
    "Tartu Rattaralli stardi- ja finišipaik \\\n",
    "on traditsiooniliselt Tartu kesklinnas, Turu tänaval.')\n",
    "text.tag_layer()\n",
    "text.sentences"
   ]
  },
  {
   "cell_type": "code",
   "execution_count": null,
   "metadata": {
    "slideshow": {
     "slide_type": "slide"
    }
   },
   "outputs": [],
   "source": [
    "# Tekst koosneb lausetest, mis koosnevad omakorda sõnadest\n",
    "for sentence in text.sentences:\n",
    "    print(' Lause: ', sentence.enclosing_text)\n",
    "    for word in sentence:\n",
    "        # Väljastame sõna ja sõnaliigi\n",
    "        print( word.text, word.morph_analysis.partofspeech[0] )\n",
    "    print()"
   ]
  },
  {
   "cell_type": "code",
   "execution_count": null,
   "metadata": {
    "slideshow": {
     "slide_type": "slide"
    }
   },
   "outputs": [],
   "source": [
    "# On võimalik märgendada ka osalauseid\n",
    "text = Text('Nendel, kes minu ja Oudekki kaotusele loodavad, \\\n",
    "on ettekujutus, et rahval polegi hääli.')\n",
    "\n",
    "text.tag_layer(['clauses'])\n",
    "text.clauses"
   ]
  },
  {
   "cell_type": "markdown",
   "metadata": {
    "slideshow": {
     "slide_type": "slide"
    }
   },
   "source": [
    "## 2. Morfoloogiline analüüs & ühestamine"
   ]
  },
  {
   "cell_type": "markdown",
   "metadata": {
    "slideshow": {
     "slide_type": "fragment"
    }
   },
   "source": [
    "<img src=\"oad.png\">"
   ]
  },
  {
   "cell_type": "code",
   "execution_count": null,
   "metadata": {
    "nbpresent": {
     "id": "91a1a9ed-8a77-4624-bec1-4b9aa0ebb8a6"
    },
    "slideshow": {
     "slide_type": "slide"
    }
   },
   "outputs": [],
   "source": [
    "# Morf analüüs eesti keele puhul baassamm \n",
    "t = Text('Mida ubadest teha? Oad võib salatisse panna.').tag_layer()\n",
    "t.morph_analysis"
   ]
  },
  {
   "cell_type": "code",
   "execution_count": null,
   "metadata": {
    "slideshow": {
     "slide_type": "slide"
    }
   },
   "outputs": [],
   "source": [
    "# Võime vaadata ka vaid parajasti huvitavaid atribuute, mitte kogu analüüsi\n",
    "t.morph_analysis['text', 'lemma', 'partofspeech']"
   ]
  },
  {
   "cell_type": "markdown",
   "metadata": {
    "slideshow": {
     "slide_type": "slide"
    }
   },
   "source": [
    "### Morfoloogiline ühestamine"
   ]
  },
  {
   "cell_type": "markdown",
   "metadata": {
    "slideshow": {
     "slide_type": "fragment"
    }
   },
   "source": [
    "<img src=\"k2rbes.png\">"
   ]
  },
  {
   "cell_type": "code",
   "execution_count": null,
   "metadata": {
    "scrolled": true,
    "slideshow": {
     "slide_type": "slide"
    }
   },
   "outputs": [],
   "source": [
    "# Ühestajal ei ole alati õigus - vahel tahaks kustutatud variante ka\n",
    "t = Text('Mees oli kärbes.').tag_layer()\n",
    "t.morph_analysis"
   ]
  },
  {
   "cell_type": "code",
   "execution_count": null,
   "metadata": {
    "slideshow": {
     "slide_type": "slide"
    }
   },
   "outputs": [],
   "source": [
    "# Morfanalüsaatori parameetrite muutmiseks peame kasutama resolverit\n",
    "from estnltk.resolve_layer_dag import make_resolver\n",
    "\n",
    "resolver = make_resolver(\n",
    "                 disambiguate=False, # keelame ühestamise\n",
    "                 guess=True,\n",
    "                 propername=True,\n",
    "                 phonetic=False,\n",
    "                 compound=True)"
   ]
  },
  {
   "cell_type": "code",
   "execution_count": null,
   "metadata": {
    "slideshow": {
     "slide_type": "slide"
    }
   },
   "outputs": [],
   "source": [
    "# Morf analüüs ilma ühestamiseta - võib anda oodatust rohkem mitmesusi\n",
    "text = Text(\"Mees oli kärbes.\")\n",
    "text.tag_layer(resolver=resolver)['morph_analysis']"
   ]
  },
  {
   "cell_type": "markdown",
   "metadata": {
    "slideshow": {
     "slide_type": "slide"
    }
   },
   "source": [
    "#### Näide: leiame kõik tekstis olevad nimisõnad"
   ]
  },
  {
   "cell_type": "code",
   "execution_count": null,
   "metadata": {
    "slideshow": {
     "slide_type": "fragment"
    }
   },
   "outputs": [],
   "source": [
    "my_text = Text('Nagu nimigi reedab, on nurgasaag kõige \\\n",
    "tõhusam tööriist erinevate puitdetailide lõikamiseks, \\\n",
    "kus eesmärgiks on saavutada täpne lõikenurk ning oluline on \\\n",
    "lõikenurga seadistamise võimalus. Näiteks pildiraamide \\\n",
    "meisterdamisel, kus on oluline, et detailide lõikenurgad \\\n",
    "oleksid kõik täpselt 45 kraadi. Sellisel juhul on nurgasaag \\\n",
    "täiuslikuks tööriistaks, sest tagab täpsuse ja lõike korratavuse. \\\n",
    "Üldiselt on valdav osa nurgasaage seadistatavad 45-kraadise \\\n",
    "lõikenurga alla vähemalt ühes suunas. Lisaks võimaldavad mõned \\\n",
    "saed veel ka saetera kaldenurga seadistamist, mis tuleb kasuks \\\n",
    "keerukamate detailide lõikamisel. Nurgasaag on väga tõhus ka \\\n",
    "kitsamate, kuni 30 cm laiuste puulaudade või muude puitdetailide \\\n",
    "ristlõigete tegemiseks ehk järkamiseks, mida tuleb palju ette näiteks \\\n",
    "puitkonstruktsioonide ehitamisel või ka näiteks terrassilaudade \\\n",
    "või puitparketi paigaldamisel.')\n",
    "my_text.tag_layer()"
   ]
  },
  {
   "cell_type": "code",
   "execution_count": null,
   "metadata": {
    "scrolled": true,
    "slideshow": {
     "slide_type": "slide"
    }
   },
   "outputs": [],
   "source": [
    "noun_lemmas = []\n",
    "for lemmas, postags in zip(my_text.lemma, my_text.partofspeech):\n",
    "    if 'S' in postags: # text.lemma ja partofspeech on listid, kuna analüüse võib olla mitu\n",
    "        noun_lemmas += lemmas\n",
    "noun_lemmas  \n",
    "\n",
    "from collections import Counter\n",
    "Counter(noun_lemmas).most_common()"
   ]
  },
  {
   "cell_type": "markdown",
   "metadata": {
    "slideshow": {
     "slide_type": "slide"
    }
   },
   "source": [
    "#### Näide: leiame kõik infinitiivset verbi sisaldavad laused:"
   ]
  },
  {
   "cell_type": "code",
   "execution_count": null,
   "metadata": {
    "slideshow": {
     "slide_type": "fragment"
    }
   },
   "outputs": [],
   "source": [
    "infinitive_sentences = []\n",
    "for sent in my_text.sentences: # vaatame teksti lause kaupa\n",
    "    for form in sent.form: # vaatame läbi kõik lause sõnade vormiinfod\n",
    "        if 'da' in form:\n",
    "            a = sent.enclosing_text # lause tekst stringina\n",
    "            infinitive_sentences.append(a)\n",
    "            break\n",
    "infinitive_sentences"
   ]
  },
  {
   "cell_type": "markdown",
   "metadata": {
    "slideshow": {
     "slide_type": "slide"
    }
   },
   "source": [
    "## 3. Märgendajad e taggerid\n",
    "#### võimaldavad vajadusel lisada kihte, mida läheb vaja mingis konkreetses analüüsitöövoos"
   ]
  },
  {
   "cell_type": "markdown",
   "metadata": {
    "slideshow": {
     "slide_type": "slide"
    }
   },
   "source": [
    "### Ajaväljendite tuvastamine"
   ]
  },
  {
   "cell_type": "code",
   "execution_count": null,
   "metadata": {
    "slideshow": {
     "slide_type": "fragment"
    }
   },
   "outputs": [],
   "source": [
    "text3 = Text('EKA sisearhitektuuri osakond ja RMK \\\n",
    "avavad neljapäeval kell 16.00 \\\n",
    "RMK Tallinna kontoris (Toompuiestee 24) näituse')"
   ]
  },
  {
   "cell_type": "code",
   "execution_count": null,
   "metadata": {},
   "outputs": [],
   "source": [
    "# Märgendame ajaväljendid\n",
    "from estnltk.taggers import TimexTagger\n",
    "\n",
    "tagger = TimexTagger()\n",
    "text3.tag_layer()\n",
    "tagger.tag( text3 )"
   ]
  },
  {
   "cell_type": "code",
   "execution_count": null,
   "metadata": {
    "slideshow": {
     "slide_type": "slide"
    }
   },
   "outputs": [],
   "source": [
    "text3.timexes"
   ]
  },
  {
   "cell_type": "code",
   "execution_count": null,
   "metadata": {
    "slideshow": {
     "slide_type": "slide"
    }
   },
   "outputs": [],
   "source": [
    "# Soovi korral võime määratleda teksti loomise aja\n",
    "text3 = Text('EKA sisearhitektuuri osakond ja RMK \\\n",
    "avavad neljapäeval kell 16.00 \\\n",
    "RMK Tallinna kontoris (Toompuiestee 24) näituse').tag_layer()\n",
    "text3.meta['document_creation_time'] = '2019-10-27'\n",
    "tagger.tag(text3)"
   ]
  },
  {
   "cell_type": "code",
   "execution_count": null,
   "metadata": {
    "slideshow": {
     "slide_type": "slide"
    }
   },
   "outputs": [],
   "source": [
    "text3.timexes"
   ]
  },
  {
   "cell_type": "markdown",
   "metadata": {
    "slideshow": {
     "slide_type": "slide"
    }
   },
   "source": [
    "### Aadresside tuvastamine"
   ]
  },
  {
   "cell_type": "code",
   "execution_count": null,
   "metadata": {
    "slideshow": {
     "slide_type": "fragment"
    }
   },
   "outputs": [],
   "source": [
    "# Toimub kahes etapis\n",
    "from estnltk.taggers import AddressPartTagger, AddressGrammarTagger\n",
    "address_token_tagger = AddressPartTagger(output_layer='address_tokens')\n",
    "address_tagger = AddressGrammarTagger(output_layer='addresses', \n",
    "                                      input_layer='address_tokens')"
   ]
  },
  {
   "cell_type": "code",
   "execution_count": null,
   "metadata": {
    "slideshow": {
     "slide_type": "slide"
    }
   },
   "outputs": [],
   "source": [
    "text = Text(\"Ootame teid 2. novembril külla \\\n",
    "aadressil Aia 6, Tartu.\").tag_layer(['words'])"
   ]
  },
  {
   "cell_type": "code",
   "execution_count": null,
   "metadata": {
    "slideshow": {
     "slide_type": "fragment"
    }
   },
   "outputs": [],
   "source": [
    "# Esiteks märgime peale võimalikud aadresside komponendid\n",
    "address_token_tagger.tag(text)[\"address_tokens\"]"
   ]
  },
  {
   "cell_type": "code",
   "execution_count": null,
   "metadata": {
    "slideshow": {
     "slide_type": "slide"
    }
   },
   "outputs": [],
   "source": [
    "# Teiseks leiame aadressid sealt, kus sobivad komponendid järjest esinevad\n",
    "address_tagger.tag(text)['addresses']"
   ]
  },
  {
   "cell_type": "markdown",
   "metadata": {
    "slideshow": {
     "slide_type": "slide"
    }
   },
   "source": [
    "## 4. Oma märgendajate kirjutamine"
   ]
  },
  {
   "cell_type": "markdown",
   "metadata": {
    "slideshow": {
     "slide_type": "slide"
    }
   },
   "source": [
    "### PhraseTagger\n",
    "#### võimaldab märgendada kihis järjest esinevaid elemente mingi atribuudi alusel\n",
    "\n",
    "Proovime kirjutada taggerit, mis märgendaks lihtsaid nimisõnafraase."
   ]
  },
  {
   "cell_type": "code",
   "execution_count": null,
   "metadata": {
    "slideshow": {
     "slide_type": "fragment"
    }
   },
   "outputs": [],
   "source": [
    "from estnltk.taggers import PhraseTagger\n",
    "\n",
    "# Kasutame fraaside esmaseks määratlemiseks sõnaliike\n",
    "phrase_list = [\n",
    "               { '_phrase_': ('A', 'S')},\n",
    "               { '_phrase_':  ('C', 'S')},\n",
    "               { '_phrase_':  ('U', 'S')}\n",
    "              ]"
   ]
  },
  {
   "cell_type": "code",
   "execution_count": null,
   "metadata": {
    "slideshow": {
     "slide_type": "slide"
    }
   },
   "outputs": [],
   "source": [
    "# Defineerime taggeri, mis phrase_list muutujas olevaid fraasitüüpe märgendaks\n",
    "phrase_tagger = PhraseTagger(output_layer='noun_phrases',\n",
    "                      input_layer='morph_analysis',\n",
    "                      input_attribute='partofspeech',\n",
    "                      vocabulary=phrase_list,\n",
    "                      key='_phrase_')"
   ]
  },
  {
   "cell_type": "code",
   "execution_count": null,
   "metadata": {
    "slideshow": {
     "slide_type": "slide"
    }
   },
   "outputs": [],
   "source": [
    "# Rakendame kirjutatud taggerit morfanalüüsitud tekstile\n",
    "t = Text('Viimasedki pardid lendasid soojemale maale, \\\n",
    "kui jää läks liiga paksuks jõest toidu hankimiseks.').tag_layer()\n",
    "phrase_tagger.tag(t)"
   ]
  },
  {
   "cell_type": "code",
   "execution_count": null,
   "metadata": {
    "slideshow": {
     "slide_type": "slide"
    }
   },
   "outputs": [],
   "source": [
    "# Leiame nimisõnafraasid\n",
    "# Puuduvad algvormid\n",
    "# Paremate tulemuste jaoks peaks arvesse võtma rohkem kui sõnaliike\n",
    "t.noun_phrases"
   ]
  },
  {
   "cell_type": "code",
   "execution_count": null,
   "metadata": {
    "slideshow": {
     "slide_type": "slide"
    }
   },
   "outputs": [],
   "source": [
    "# Dekoraator võimaldab lisada oma uuele kihile atribuute - lisame lemmad\n",
    "def decorator(span, annotation):\n",
    "    annotation['lemmas'] = ' '.join([l[0] for l in span.lemma])\n",
    "    return True"
   ]
  },
  {
   "cell_type": "code",
   "execution_count": null,
   "metadata": {
    "slideshow": {
     "slide_type": "slide"
    }
   },
   "outputs": [],
   "source": [
    "# Uus phrase_tagger, mis paneb uude kihti ka fraasid algvormis\n",
    "phrase_tagger2 = PhraseTagger(output_layer='noun_phrases2',\n",
    "                      input_layer='morph_analysis',\n",
    "                      input_attribute='partofspeech',\n",
    "                      vocabulary=phrase_list,\n",
    "                      key='_phrase_',\n",
    "                      output_attributes = ['lemmas'],\n",
    "                      decorator = decorator)"
   ]
  },
  {
   "cell_type": "code",
   "execution_count": null,
   "metadata": {
    "slideshow": {
     "slide_type": "slide"
    }
   },
   "outputs": [],
   "source": [
    "# Olemas ilusad algvormis fraasid\n",
    "# Vaja oleks ka sõna vormiinfot arvestada\n",
    "phrase_tagger2.tag(t)\n",
    "t.noun_phrases2"
   ]
  },
  {
   "cell_type": "code",
   "execution_count": null,
   "metadata": {
    "slideshow": {
     "slide_type": "slide"
    }
   },
   "outputs": [],
   "source": [
    "# Täiendame dekoraatorit - arvestame ka vormide ühilduvust\n",
    "def decorator2(span, annotation):\n",
    "    annotation['lemmas'] = ' '.join([l[0] for l in span.lemma])\n",
    "    \n",
    "    ninataga_sg = ['sg ter', 'sg ab', 'sg kom', 'sg es']\n",
    "    ninataga_pl = ['pl ter', 'pl ab', 'pl kom', 'pl es']\n",
    "    # Omadussõna ja nimisõna samas vormis -> OK\n",
    "    if span[0].form == span[1].form:\n",
    "        return True\n",
    "    # Omadussõna ainsuse omastavas ja nimisõna 4 viimases käändes ainsuses -> OK\n",
    "    elif span[0].form[0] == 'sg g' and span[1].form[0] in ninataga_sg:\n",
    "        return True\n",
    "    # Omadussõna mitm omastavas ja nimisõna 4 viimases käändes mitm -> OK\n",
    "    elif span[0].form[0] == 'pl g' and span[1].form[0] in ninataga_pl:\n",
    "        return True\n",
    "    # Kõik muud juhud -> ei sobi fraas\n",
    "    else: \n",
    "        return False"
   ]
  },
  {
   "cell_type": "code",
   "execution_count": null,
   "metadata": {
    "slideshow": {
     "slide_type": "slide"
    }
   },
   "outputs": [],
   "source": [
    "phrase_tagger3 = PhraseTagger(output_layer='noun_phrases3',\n",
    "                      input_layer='morph_analysis',\n",
    "                      input_attribute='partofspeech',\n",
    "                      vocabulary=phrase_list,\n",
    "                      key='_phrase_',\n",
    "                      output_attributes = ['lemmas'],\n",
    "                      decorator = decorator2)"
   ]
  },
  {
   "cell_type": "code",
   "execution_count": null,
   "metadata": {
    "slideshow": {
     "slide_type": "slide"
    }
   },
   "outputs": [],
   "source": [
    "# Märgendame kolmanda nimisõnafraaside kihi\n",
    "phrase_tagger3.tag(t)"
   ]
  },
  {
   "cell_type": "code",
   "execution_count": null,
   "metadata": {
    "slideshow": {
     "slide_type": "slide"
    }
   },
   "outputs": [],
   "source": [
    "# Tulemused vastavad ootustele\n",
    " t.noun_phrases3"
   ]
  },
  {
   "cell_type": "code",
   "execution_count": null,
   "metadata": {
    "slideshow": {
     "slide_type": "slide"
    }
   },
   "outputs": [],
   "source": [
    "# Fraase on lihtne stringidena kätte saada\n",
    "for i in t.noun_phrases3:\n",
    "    print(i.lemmas)"
   ]
  },
  {
   "cell_type": "markdown",
   "metadata": {
    "slideshow": {
     "slide_type": "slide"
    }
   },
   "source": [
    "#### Näide: leiame, millised nimisõnafraasid esinevad kõige sagedamini eesti vanasõnades"
   ]
  },
  {
   "cell_type": "code",
   "execution_count": null,
   "metadata": {
    "slideshow": {
     "slide_type": "fragment"
    }
   },
   "outputs": [],
   "source": [
    "with open(\"data/proverbs.txt\", \"r\", encoding = 'utf8') as fin:\n",
    "    # Failis on iga vanasõna eraldi real - saame listi vanasõnadest\n",
    "    proverbs = fin.readlines()"
   ]
  },
  {
   "cell_type": "code",
   "execution_count": null,
   "metadata": {
    "slideshow": {
     "slide_type": "slide"
    }
   },
   "outputs": [],
   "source": [
    "from collections import Counter\n",
    "from tqdm import tqdm\n",
    "\n",
    "# Loendur fraaside kokkulugemiseks\n",
    "noun_phrases_counts = Counter()\n",
    "\n",
    "for text in tqdm(proverbs): # vaatame vanasõnade listi järjest läbi\n",
    "    t = Text(text).tag_layer() # teeme vanasõna Text objektiks ja analüüsime\n",
    "    phrase_tagger3.tag(t) # märgime peale nimisõnafraasid oma parima taggeriga\n",
    "    if len(t.noun_phrases3) > 0: \n",
    "        for p in t.noun_phrases3: # suurendame loendurit vastava fraasi kohal\n",
    "            noun_phrases_counts[p.lemmas] += 1"
   ]
  },
  {
   "cell_type": "code",
   "execution_count": null,
   "metadata": {
    "slideshow": {
     "slide_type": "slide"
    }
   },
   "outputs": [],
   "source": [
    "# Saamegi kätte sagedasemad nimisõnafraasid\n",
    "noun_phrases_counts.most_common(5)"
   ]
  }
 ],
 "metadata": {
  "celltoolbar": "Slideshow",
  "kernelspec": {
   "display_name": "Python 3",
   "language": "python",
   "name": "python3"
  },
  "language_info": {
   "codemirror_mode": {
    "name": "ipython",
    "version": 3
   },
   "file_extension": ".py",
   "mimetype": "text/x-python",
   "name": "python",
   "nbconvert_exporter": "python",
   "pygments_lexer": "ipython3",
   "version": "3.6.9"
  }
 },
 "nbformat": 4,
 "nbformat_minor": 2
}
