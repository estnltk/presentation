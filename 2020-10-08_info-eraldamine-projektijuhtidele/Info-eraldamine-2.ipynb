{
 "cells": [
  {
   "cell_type": "markdown",
   "metadata": {
    "slideshow": {
     "slide_type": "skip"
    }
   },
   "source": [
    "Use [RISE](https://github.com/damianavila/RISE) to display the slides.\n",
    "\n",
    "```bash\n",
    "pip install RISE\n",
    "```"
   ]
  },
  {
   "cell_type": "markdown",
   "metadata": {
    "slideshow": {
     "slide_type": "slide"
    }
   },
   "source": [
    "<H1 style=\"text-align: center;\">\n",
    "Tekstitöötluse põhietapid\n",
    "</H1>\n",
    "\n",
    "<H4 style=\"text-align: center;\">\n",
    "Dage Särg\n",
    "</H4>\n",
    "\n",
    "<H4 style=\"text-align: center;\">\n",
    "Automaatne info eraldamine eestikeelsest tekstist. 08.10.2020\n",
    "</H4>\n",
    "\n",
    "<H4 style=\"text-align: center;\">\n",
    "Notebook: https://tinyurl.com/nlp-notebook\n",
    "</H4>"
   ]
  },
  {
   "cell_type": "markdown",
   "metadata": {
    "slideshow": {
     "slide_type": "slide"
    }
   },
   "source": [
    "### Colab 101:\n",
    "\n",
    "Google Colaboratory on veebipõhine keskkond, kus on mugav jooksutada Pythoni koodi ning jagada seda ka teistega.\n",
    "Enda arvutisse midagi installida pole tarvis, piisab, kui omad Google kontot ja logid veebibrauseri kaudu sisse.\n",
    "\n",
    "Colabi kasutamiseks:\n",
    "* Ava käesolev notebook oma arvutis (https://tinyurl.com/nlp-notebook) \n",
    "* Logi oma google'i kontoga sisse (kui pole veel loginud)\n",
    "* Salvesta käesolev märkmik enda Google Drive kettale, valides _File_ menüüst -> _Save a copy in Drive_.\n",
    "* Ja saadki asuda katsetama."
   ]
  },
  {
   "cell_type": "markdown",
   "metadata": {
    "slideshow": {
     "slide_type": "slide"
    }
   },
   "source": [
    "<img src=\"pildid/põhietapid.png\">"
   ]
  },
  {
   "cell_type": "markdown",
   "metadata": {
    "slideshow": {
     "slide_type": "slide"
    }
   },
   "source": [
    "<img src=\"pildid/seg2.png\">"
   ]
  },
  {
   "cell_type": "markdown",
   "metadata": {
    "slideshow": {
     "slide_type": "slide"
    }
   },
   "source": [
    "## 1. Teksti segmenteerimine"
   ]
  },
  {
   "cell_type": "code",
   "execution_count": 1,
   "metadata": {
    "slideshow": {
     "slide_type": "fragment"
    }
   },
   "outputs": [
    {
     "data": {
      "text/html": [
       "<table border=\"1\" class=\"dataframe\">\n",
       "  <thead>\n",
       "    <tr style=\"text-align: right;\">\n",
       "      <th>text</th>\n",
       "    </tr>\n",
       "  </thead>\n",
       "  <tbody>\n",
       "    <tr>\n",
       "      <td><div align = \"left\">Festivalil osales üle 30 000 muusikahuvilise.</div></td>\n",
       "    </tr>\n",
       "  </tbody>\n",
       "</table>"
      ],
      "text/plain": [
       "Text(text='Festivalil osales üle 30 000 muusikahuvilise.')"
      ]
     },
     "execution_count": 1,
     "metadata": {},
     "output_type": "execute_result"
    }
   ],
   "source": [
    "from estnltk import Text\n",
    "# Teksti töötlemiseks peame tegema stringi Text objektiks\n",
    "text = Text(\"Festivalil osales üle 30 000 muusikahuvilise.\")\n",
    "text"
   ]
  },
  {
   "cell_type": "code",
   "execution_count": 2,
   "metadata": {
    "slideshow": {
     "slide_type": "slide"
    }
   },
   "outputs": [
    {
     "data": {
      "text/html": [
       "<table border=\"1\" class=\"dataframe\">\n",
       "  <thead>\n",
       "    <tr style=\"text-align: right;\">\n",
       "      <th>text</th>\n",
       "    </tr>\n",
       "  </thead>\n",
       "  <tbody>\n",
       "    <tr>\n",
       "      <td><div align = \"left\">Festivalil osales üle 30 000 muusikahuvilise.</div></td>\n",
       "    </tr>\n",
       "  </tbody>\n",
       "</table>\n",
       "<table border=\"1\" class=\"dataframe\">\n",
       "  <thead>\n",
       "    <tr style=\"text-align: right;\">\n",
       "      <th>layer name</th>\n",
       "      <th>attributes</th>\n",
       "      <th>parent</th>\n",
       "      <th>enveloping</th>\n",
       "      <th>ambiguous</th>\n",
       "      <th>span count</th>\n",
       "    </tr>\n",
       "  </thead>\n",
       "  <tbody>\n",
       "    <tr>\n",
       "      <td>sentences</td>\n",
       "      <td></td>\n",
       "      <td>None</td>\n",
       "      <td>words</td>\n",
       "      <td>False</td>\n",
       "      <td>1</td>\n",
       "    </tr>\n",
       "    <tr>\n",
       "      <td>tokens</td>\n",
       "      <td></td>\n",
       "      <td>None</td>\n",
       "      <td>None</td>\n",
       "      <td>False</td>\n",
       "      <td>7</td>\n",
       "    </tr>\n",
       "    <tr>\n",
       "      <td>compound_tokens</td>\n",
       "      <td>type, normalized</td>\n",
       "      <td>None</td>\n",
       "      <td>tokens</td>\n",
       "      <td>False</td>\n",
       "      <td>1</td>\n",
       "    </tr>\n",
       "    <tr>\n",
       "      <td>words</td>\n",
       "      <td>normalized_form</td>\n",
       "      <td>None</td>\n",
       "      <td>None</td>\n",
       "      <td>True</td>\n",
       "      <td>6</td>\n",
       "    </tr>\n",
       "    <tr>\n",
       "      <td>morph_analysis</td>\n",
       "      <td>normalized_text, lemma, root, root_tokens, ending, clitic, form, partofspeech</td>\n",
       "      <td>words</td>\n",
       "      <td>None</td>\n",
       "      <td>True</td>\n",
       "      <td>6</td>\n",
       "    </tr>\n",
       "  </tbody>\n",
       "</table>"
      ],
      "text/plain": [
       "Text(text='Festivalil osales üle 30 000 muusikahuvilise.')"
      ]
     },
     "execution_count": 2,
     "metadata": {},
     "output_type": "execute_result"
    }
   ],
   "source": [
    "# tag_layer() meetod märgib peale standardsed analüüsikihid,\n",
    "# mida on vaja pea kõigi keeletöötlusülesannete juures\n",
    "text.tag_layer()"
   ]
  },
  {
   "cell_type": "code",
   "execution_count": 3,
   "metadata": {
    "slideshow": {
     "slide_type": "slide"
    }
   },
   "outputs": [
    {
     "data": {
      "text/plain": [
       "'Festivalil osales üle 30 000 muusikahuvilise.'"
      ]
     },
     "execution_count": 3,
     "metadata": {},
     "output_type": "execute_result"
    }
   ],
   "source": [
    "text.text"
   ]
  },
  {
   "cell_type": "code",
   "execution_count": 4,
   "metadata": {
    "slideshow": {
     "slide_type": "fragment"
    }
   },
   "outputs": [
    {
     "data": {
      "text/html": [
       "<h4>Layer</h4>\n",
       "\n",
       "\n",
       "<table border=\"1\" class=\"dataframe\">\n",
       "  <thead>\n",
       "    <tr style=\"text-align: right;\">\n",
       "      <th>layer name</th>\n",
       "      <th>attributes</th>\n",
       "      <th>parent</th>\n",
       "      <th>enveloping</th>\n",
       "      <th>ambiguous</th>\n",
       "      <th>span count</th>\n",
       "    </tr>\n",
       "  </thead>\n",
       "  <tbody>\n",
       "    <tr>\n",
       "      <td>tokens</td>\n",
       "      <td></td>\n",
       "      <td>None</td>\n",
       "      <td>None</td>\n",
       "      <td>False</td>\n",
       "      <td>7</td>\n",
       "    </tr>\n",
       "  </tbody>\n",
       "</table>\n",
       "<table border=\"1\" class=\"dataframe\">\n",
       "  <thead>\n",
       "    <tr style=\"text-align: right;\">\n",
       "      <th>text</th>\n",
       "    </tr>\n",
       "  </thead>\n",
       "  <tbody>\n",
       "    <tr>\n",
       "      <td>Festivalil</td>\n",
       "    </tr>\n",
       "    <tr>\n",
       "      <td>osales</td>\n",
       "    </tr>\n",
       "    <tr>\n",
       "      <td>üle</td>\n",
       "    </tr>\n",
       "    <tr>\n",
       "      <td>30</td>\n",
       "    </tr>\n",
       "    <tr>\n",
       "      <td>000</td>\n",
       "    </tr>\n",
       "    <tr>\n",
       "      <td>muusikahuvilise</td>\n",
       "    </tr>\n",
       "    <tr>\n",
       "      <td>.</td>\n",
       "    </tr>\n",
       "  </tbody>\n",
       "</table>"
      ],
      "text/plain": [
       "Layer(name='tokens', attributes=(), spans=SL[Span('Festivalil', [{}]),\n",
       "Span('osales', [{}]),\n",
       "Span('üle', [{}]),\n",
       "Span('30', [{}]),\n",
       "Span('000', [{}]),\n",
       "Span('muusikahuvilise', [{}]),\n",
       "Span('.', [{}])])"
      ]
     },
     "execution_count": 4,
     "metadata": {},
     "output_type": "execute_result"
    }
   ],
   "source": [
    "# Tokens e sõned - mitte alati lingvistiliselt motiveeritud\n",
    "text.tokens"
   ]
  },
  {
   "cell_type": "code",
   "execution_count": 5,
   "metadata": {
    "slideshow": {
     "slide_type": "slide"
    }
   },
   "outputs": [
    {
     "data": {
      "text/html": [
       "<h4>Layer</h4>\n",
       "\n",
       "\n",
       "<table border=\"1\" class=\"dataframe\">\n",
       "  <thead>\n",
       "    <tr style=\"text-align: right;\">\n",
       "      <th>layer name</th>\n",
       "      <th>attributes</th>\n",
       "      <th>parent</th>\n",
       "      <th>enveloping</th>\n",
       "      <th>ambiguous</th>\n",
       "      <th>span count</th>\n",
       "    </tr>\n",
       "  </thead>\n",
       "  <tbody>\n",
       "    <tr>\n",
       "      <td>words</td>\n",
       "      <td>normalized_form</td>\n",
       "      <td>None</td>\n",
       "      <td>None</td>\n",
       "      <td>True</td>\n",
       "      <td>6</td>\n",
       "    </tr>\n",
       "  </tbody>\n",
       "</table>\n",
       "<table border=\"1\" class=\"dataframe\">\n",
       "  <thead>\n",
       "    <tr style=\"text-align: right;\">\n",
       "      <th>text</th>\n",
       "      <th>normalized_form</th>\n",
       "    </tr>\n",
       "  </thead>\n",
       "  <tbody>\n",
       "    <tr>\n",
       "      <td>Festivalil</td>\n",
       "      <td>None</td>\n",
       "    </tr>\n",
       "    <tr>\n",
       "      <td>osales</td>\n",
       "      <td>None</td>\n",
       "    </tr>\n",
       "    <tr>\n",
       "      <td>üle</td>\n",
       "      <td>None</td>\n",
       "    </tr>\n",
       "    <tr>\n",
       "      <td>30 000</td>\n",
       "      <td>30000</td>\n",
       "    </tr>\n",
       "    <tr>\n",
       "      <td>muusikahuvilise</td>\n",
       "      <td>None</td>\n",
       "    </tr>\n",
       "    <tr>\n",
       "      <td>.</td>\n",
       "      <td>None</td>\n",
       "    </tr>\n",
       "  </tbody>\n",
       "</table>"
      ],
      "text/plain": [
       "Layer(name='words', attributes=('normalized_form',), spans=SL[Span('Festivalil', [{'normalized_form': None}]),\n",
       "Span('osales', [{'normalized_form': None}]),\n",
       "Span('üle', [{'normalized_form': None}]),\n",
       "Span('30 000', [{'normalized_form': '30000'}]),\n",
       "Span('muusikahuvilise', [{'normalized_form': None}]),\n",
       "Span('.', [{'normalized_form': None}])])"
      ]
     },
     "execution_count": 5,
     "metadata": {},
     "output_type": "execute_result"
    }
   ],
   "source": [
    "# Words e sõnad - mõned tokenid ühendatakse edasiseks töötluseks kokku\n",
    "text.words"
   ]
  },
  {
   "cell_type": "markdown",
   "metadata": {
    "slideshow": {
     "slide_type": "slide"
    }
   },
   "source": [
    "<img src=\"pildid/seg3.png\">"
   ]
  },
  {
   "cell_type": "code",
   "execution_count": 6,
   "metadata": {
    "slideshow": {
     "slide_type": "slide"
    }
   },
   "outputs": [
    {
     "data": {
      "text/html": [
       "<h4>Layer</h4>\n",
       "\n",
       "\n",
       "<table border=\"1\" class=\"dataframe\">\n",
       "  <thead>\n",
       "    <tr style=\"text-align: right;\">\n",
       "      <th>layer name</th>\n",
       "      <th>attributes</th>\n",
       "      <th>parent</th>\n",
       "      <th>enveloping</th>\n",
       "      <th>ambiguous</th>\n",
       "      <th>span count</th>\n",
       "    </tr>\n",
       "  </thead>\n",
       "  <tbody>\n",
       "    <tr>\n",
       "      <td>clauses</td>\n",
       "      <td>clause_type</td>\n",
       "      <td>None</td>\n",
       "      <td>words</td>\n",
       "      <td>False</td>\n",
       "      <td>3</td>\n",
       "    </tr>\n",
       "  </tbody>\n",
       "</table>\n",
       "<table border=\"1\" class=\"dataframe\">\n",
       "  <thead>\n",
       "    <tr style=\"text-align: right;\">\n",
       "      <th>text</th>\n",
       "      <th>clause_type</th>\n",
       "    </tr>\n",
       "  </thead>\n",
       "  <tbody>\n",
       "    <tr>\n",
       "      <td>['Nendel', 'on', 'ettekujutus', ',']</td>\n",
       "      <td>regular</td>\n",
       "    </tr>\n",
       "    <tr>\n",
       "      <td>[',', 'kes', 'minu', 'ja', 'Oudekki', 'kaotusele', 'loodavad', ',']</td>\n",
       "      <td>embedded</td>\n",
       "    </tr>\n",
       "    <tr>\n",
       "      <td>['et', 'rahval', 'polegi', 'hääli', '.']</td>\n",
       "      <td>regular</td>\n",
       "    </tr>\n",
       "  </tbody>\n",
       "</table>"
      ],
      "text/plain": [
       "Layer(name='clauses', attributes=('clause_type',), spans=SL[EnvelopingSpan(['Nendel', 'on', 'ettekujutus', ','], [{'clause_type': 'regular'}]),\n",
       "EnvelopingSpan([',', 'kes', 'minu', 'ja', 'Oudekki', 'kaotusele', 'loodavad', ','], [{'clause_type': 'embedded'}]),\n",
       "EnvelopingSpan(['et', 'rahval', 'polegi', 'hääli', '.'], [{'clause_type': 'regular'}])])"
      ]
     },
     "execution_count": 6,
     "metadata": {},
     "output_type": "execute_result"
    }
   ],
   "source": [
    "# On võimalik märgendada ka osalauseid\n",
    "text = Text('Nendel, kes minu ja Oudekki kaotusele loodavad, \\\n",
    "on ettekujutus, et rahval polegi hääli.')\n",
    "\n",
    "text.tag_layer(['clauses'])\n",
    "text.clauses"
   ]
  },
  {
   "cell_type": "markdown",
   "metadata": {
    "slideshow": {
     "slide_type": "slide"
    }
   },
   "source": [
    "<img src=\"pildid/seg4.png\">"
   ]
  },
  {
   "cell_type": "code",
   "execution_count": 7,
   "metadata": {
    "slideshow": {
     "slide_type": "slide"
    }
   },
   "outputs": [
    {
     "data": {
      "text/html": [
       "<h4>Layer</h4>\n",
       "\n",
       "\n",
       "<table border=\"1\" class=\"dataframe\">\n",
       "  <thead>\n",
       "    <tr style=\"text-align: right;\">\n",
       "      <th>layer name</th>\n",
       "      <th>attributes</th>\n",
       "      <th>parent</th>\n",
       "      <th>enveloping</th>\n",
       "      <th>ambiguous</th>\n",
       "      <th>span count</th>\n",
       "    </tr>\n",
       "  </thead>\n",
       "  <tbody>\n",
       "    <tr>\n",
       "      <td>sentences</td>\n",
       "      <td></td>\n",
       "      <td>None</td>\n",
       "      <td>words</td>\n",
       "      <td>False</td>\n",
       "      <td>2</td>\n",
       "    </tr>\n",
       "  </tbody>\n",
       "</table>\n",
       "<table border=\"1\" class=\"dataframe\">\n",
       "  <thead>\n",
       "    <tr style=\"text-align: right;\">\n",
       "      <th>text</th>\n",
       "    </tr>\n",
       "  </thead>\n",
       "  <tbody>\n",
       "    <tr>\n",
       "      <td>['Tartu', 'Rattaralli', 'toimub', '29.', 'mail', '2020.']</td>\n",
       "    </tr>\n",
       "    <tr>\n",
       "      <td>['Tartu', 'Rattaralli', 'stardi-', 'ja', 'finišipaik', 'on', 'traditsiooniliselt ..., type: &lt;class 'list'&gt;, length: 13</td>\n",
       "    </tr>\n",
       "  </tbody>\n",
       "</table>"
      ],
      "text/plain": [
       "Layer(name='sentences', attributes=(), spans=SL[EnvelopingSpan(['Tartu', 'Rattaralli', 'toimub', '29.', 'mail', '2020.'], [{}]),\n",
       "EnvelopingSpan(['Tartu', 'Rattaralli', 'stardi-', 'ja', 'finišipaik', 'on', 'traditsiooniliselt', 'Tartu', 'kesklinnas', ',', 'Turu', 'tänaval', '.'], [{}])])"
      ]
     },
     "execution_count": 7,
     "metadata": {},
     "output_type": "execute_result"
    }
   ],
   "source": [
    "# Laused - punkt ei toimi alati eraldajana\n",
    "text = Text('Tartu Rattaralli toimub 29. mail 2020. \\\n",
    "Tartu Rattaralli stardi- ja finišipaik \\\n",
    "on traditsiooniliselt Tartu kesklinnas, Turu tänaval.')\n",
    "text.tag_layer()\n",
    "text.sentences"
   ]
  },
  {
   "cell_type": "code",
   "execution_count": 8,
   "metadata": {
    "slideshow": {
     "slide_type": "slide"
    }
   },
   "outputs": [
    {
     "name": "stdout",
     "output_type": "stream",
     "text": [
      " Lause:  Tartu Rattaralli toimub 29. mail 2020.\n",
      "Tartu H\n",
      "Rattaralli S\n",
      "toimub V\n",
      "29. O\n",
      "mail S\n",
      "2020. O\n",
      "\n",
      " Lause:  Tartu Rattaralli stardi- ja finišipaik on traditsiooniliselt Tartu kesklinnas, Turu tänaval.\n",
      "Tartu H\n",
      "Rattaralli S\n",
      "stardi- S\n",
      "ja J\n",
      "finišipaik S\n",
      "on V\n",
      "traditsiooniliselt D\n",
      "Tartu H\n",
      "kesklinnas S\n",
      ", Z\n",
      "Turu H\n",
      "tänaval S\n",
      ". Z\n",
      "\n"
     ]
    }
   ],
   "source": [
    "# Tekst koosneb lausetest, mis koosnevad omakorda sõnadest\n",
    "for sentence in text.sentences:\n",
    "    print(' Lause: ', sentence.enclosing_text)\n",
    "    for word in sentence:\n",
    "        # Väljastame sõna ja sõnaliigi\n",
    "        print( word.text, word.morph_analysis.partofspeech[0] )\n",
    "    print()"
   ]
  },
  {
   "cell_type": "markdown",
   "metadata": {
    "slideshow": {
     "slide_type": "slide"
    }
   },
   "source": [
    "## 2. Lemmatiseerimine"
   ]
  },
  {
   "cell_type": "markdown",
   "metadata": {
    "slideshow": {
     "slide_type": "fragment"
    }
   },
   "source": [
    "<img src=\"pildid/oad.png\">"
   ]
  },
  {
   "cell_type": "code",
   "execution_count": 9,
   "metadata": {
    "slideshow": {
     "slide_type": "slide"
    }
   },
   "outputs": [
    {
     "data": {
      "text/html": [
       "<h4>AmbiguousAttributeList</h4>\n",
       "<table border=\"1\" class=\"dataframe\">\n",
       "  <thead>\n",
       "    <tr style=\"text-align: right;\">\n",
       "      <th></th>\n",
       "      <th>lemma</th>\n",
       "    </tr>\n",
       "  </thead>\n",
       "  <tbody>\n",
       "    <tr>\n",
       "      <td>0</td>\n",
       "      <td>mis</td>\n",
       "    </tr>\n",
       "    <tr>\n",
       "      <td></td>\n",
       "      <td>mis</td>\n",
       "    </tr>\n",
       "    <tr>\n",
       "      <td>1</td>\n",
       "      <td>uba</td>\n",
       "    </tr>\n",
       "    <tr>\n",
       "      <td>2</td>\n",
       "      <td>tegema</td>\n",
       "    </tr>\n",
       "    <tr>\n",
       "      <td>3</td>\n",
       "      <td>?</td>\n",
       "    </tr>\n",
       "    <tr>\n",
       "      <td>4</td>\n",
       "      <td>uba</td>\n",
       "    </tr>\n",
       "    <tr>\n",
       "      <td>5</td>\n",
       "      <td>võima</td>\n",
       "    </tr>\n",
       "    <tr>\n",
       "      <td>6</td>\n",
       "      <td>salat</td>\n",
       "    </tr>\n",
       "    <tr>\n",
       "      <td>7</td>\n",
       "      <td>panema</td>\n",
       "    </tr>\n",
       "    <tr>\n",
       "      <td>8</td>\n",
       "      <td>.</td>\n",
       "    </tr>\n",
       "  </tbody>\n",
       "</table>"
      ],
      "text/plain": [
       "AmbiguousAttributeList([['mis', 'mis'], ['uba'], ['tegema'], ['?'], ['uba'], ['võima'], ['salat'], ['panema'], ['.']], ('lemma',))"
      ]
     },
     "execution_count": 9,
     "metadata": {},
     "output_type": "execute_result"
    }
   ],
   "source": [
    "# Morf analüüs eesti keele puhul baassamm \n",
    "t = Text('Mida ubadest teha? Oad võib salatisse panna.').tag_layer()\n",
    "t.lemma"
   ]
  },
  {
   "cell_type": "markdown",
   "metadata": {
    "slideshow": {
     "slide_type": "slide"
    }
   },
   "source": [
    "<img src=\"pildid/k2rbes.png\">"
   ]
  },
  {
   "cell_type": "markdown",
   "metadata": {
    "slideshow": {
     "slide_type": "slide"
    }
   },
   "source": [
    "<img src=\"pildid/morf1.png\">"
   ]
  },
  {
   "cell_type": "markdown",
   "metadata": {
    "slideshow": {
     "slide_type": "slide"
    }
   },
   "source": [
    "<img src=\"pildid/morf2.png\">"
   ]
  },
  {
   "cell_type": "code",
   "execution_count": 10,
   "metadata": {
    "slideshow": {
     "slide_type": "slide"
    }
   },
   "outputs": [
    {
     "data": {
      "text/html": [
       "<h4>Layer</h4>\n",
       "\n",
       "\n",
       "<table border=\"1\" class=\"dataframe\">\n",
       "  <thead>\n",
       "    <tr style=\"text-align: right;\">\n",
       "      <th>layer name</th>\n",
       "      <th>attributes</th>\n",
       "      <th>parent</th>\n",
       "      <th>enveloping</th>\n",
       "      <th>ambiguous</th>\n",
       "      <th>span count</th>\n",
       "    </tr>\n",
       "  </thead>\n",
       "  <tbody>\n",
       "    <tr>\n",
       "      <td>morph_analysis</td>\n",
       "      <td>normalized_text, lemma, root, root_tokens, ending, clitic, form, partofspeech</td>\n",
       "      <td>words</td>\n",
       "      <td>None</td>\n",
       "      <td>True</td>\n",
       "      <td>9</td>\n",
       "    </tr>\n",
       "  </tbody>\n",
       "</table>\n",
       "<table border=\"1\" class=\"dataframe\">\n",
       "  <thead>\n",
       "    <tr style=\"text-align: right;\">\n",
       "      <th>text</th>\n",
       "      <th>normalized_text</th>\n",
       "      <th>lemma</th>\n",
       "      <th>root</th>\n",
       "      <th>root_tokens</th>\n",
       "      <th>ending</th>\n",
       "      <th>clitic</th>\n",
       "      <th>form</th>\n",
       "      <th>partofspeech</th>\n",
       "    </tr>\n",
       "  </thead>\n",
       "  <tbody>\n",
       "    <tr>\n",
       "      <td>Mida</td>\n",
       "      <td>Mida</td>\n",
       "      <td>mis</td>\n",
       "      <td>mis</td>\n",
       "      <td>['mis']</td>\n",
       "      <td>da</td>\n",
       "      <td></td>\n",
       "      <td>pl p</td>\n",
       "      <td>P</td>\n",
       "    </tr>\n",
       "    <tr>\n",
       "      <td></td>\n",
       "      <td>Mida</td>\n",
       "      <td>mis</td>\n",
       "      <td>mis</td>\n",
       "      <td>['mis']</td>\n",
       "      <td>da</td>\n",
       "      <td></td>\n",
       "      <td>sg p</td>\n",
       "      <td>P</td>\n",
       "    </tr>\n",
       "    <tr>\n",
       "      <td>ubadest</td>\n",
       "      <td>ubadest</td>\n",
       "      <td>uba</td>\n",
       "      <td>uba</td>\n",
       "      <td>['uba']</td>\n",
       "      <td>dest</td>\n",
       "      <td></td>\n",
       "      <td>pl el</td>\n",
       "      <td>S</td>\n",
       "    </tr>\n",
       "    <tr>\n",
       "      <td>teha</td>\n",
       "      <td>teha</td>\n",
       "      <td>tegema</td>\n",
       "      <td>tege</td>\n",
       "      <td>['tege']</td>\n",
       "      <td>a</td>\n",
       "      <td></td>\n",
       "      <td>da</td>\n",
       "      <td>V</td>\n",
       "    </tr>\n",
       "    <tr>\n",
       "      <td>?</td>\n",
       "      <td>?</td>\n",
       "      <td>?</td>\n",
       "      <td>?</td>\n",
       "      <td>['?']</td>\n",
       "      <td></td>\n",
       "      <td></td>\n",
       "      <td></td>\n",
       "      <td>Z</td>\n",
       "    </tr>\n",
       "    <tr>\n",
       "      <td>Oad</td>\n",
       "      <td>Oad</td>\n",
       "      <td>uba</td>\n",
       "      <td>uba</td>\n",
       "      <td>['uba']</td>\n",
       "      <td>d</td>\n",
       "      <td></td>\n",
       "      <td>pl n</td>\n",
       "      <td>S</td>\n",
       "    </tr>\n",
       "    <tr>\n",
       "      <td>võib</td>\n",
       "      <td>võib</td>\n",
       "      <td>võima</td>\n",
       "      <td>või</td>\n",
       "      <td>['või']</td>\n",
       "      <td>b</td>\n",
       "      <td></td>\n",
       "      <td>b</td>\n",
       "      <td>V</td>\n",
       "    </tr>\n",
       "    <tr>\n",
       "      <td>salatisse</td>\n",
       "      <td>salatisse</td>\n",
       "      <td>salat</td>\n",
       "      <td>salat</td>\n",
       "      <td>['salat']</td>\n",
       "      <td>sse</td>\n",
       "      <td></td>\n",
       "      <td>sg ill</td>\n",
       "      <td>S</td>\n",
       "    </tr>\n",
       "    <tr>\n",
       "      <td>panna</td>\n",
       "      <td>panna</td>\n",
       "      <td>panema</td>\n",
       "      <td>pane</td>\n",
       "      <td>['pane']</td>\n",
       "      <td>a</td>\n",
       "      <td></td>\n",
       "      <td>da</td>\n",
       "      <td>V</td>\n",
       "    </tr>\n",
       "    <tr>\n",
       "      <td>.</td>\n",
       "      <td>.</td>\n",
       "      <td>.</td>\n",
       "      <td>.</td>\n",
       "      <td>['.']</td>\n",
       "      <td></td>\n",
       "      <td></td>\n",
       "      <td></td>\n",
       "      <td>Z</td>\n",
       "    </tr>\n",
       "  </tbody>\n",
       "</table>"
      ],
      "text/plain": [
       "Layer(name='morph_analysis', attributes=('normalized_text', 'lemma', 'root', 'root_tokens', 'ending', 'clitic', 'form', 'partofspeech'), spans=SL[Span('Mida', [{'normalized_text': 'Mida', 'lemma': 'mis', 'root': 'mis', 'root_tokens': ['mis'], 'ending': 'da', 'clitic': '', 'form': 'pl p', 'partofspeech': 'P'}, {'normalized_text': 'Mida', 'lemma': 'mis', 'root': 'mis', 'root_tokens': ['mis'], 'ending': 'da', 'clitic': '', 'form': 'sg p', 'partofspeech': 'P'}]),\n",
       "Span('ubadest', [{'normalized_text': 'ubadest', 'lemma': 'uba', 'root': 'uba', 'root_tokens': ['uba'], 'ending': 'dest', 'clitic': '', 'form': 'pl el', 'partofspeech': 'S'}]),\n",
       "Span('teha', [{'normalized_text': 'teha', 'lemma': 'tegema', 'root': 'tege', 'root_tokens': ['tege'], 'ending': 'a', 'clitic': '', 'form': 'da', 'partofspeech': 'V'}]),\n",
       "Span('?', [{'normalized_text': '?', 'lemma': '?', 'root': '?', 'root_tokens': ['?'], 'ending': '', 'clitic': '', 'form': '', 'partofspeech': 'Z'}]),\n",
       "Span('Oad', [{'normalized_text': 'Oad', 'lemma': 'uba', 'root': 'uba', 'root_tokens': ['uba'], 'ending': 'd', 'clitic': '', 'form': 'pl n', 'partofspeech': 'S'}]),\n",
       "Span('võib', [{'normalized_text': 'võib', 'lemma': 'võima', 'root': 'või', 'root_tokens': ['või'], 'ending': 'b', 'clitic': '', 'form': 'b', 'partofspeech': 'V'}]),\n",
       "Span('salatisse', [{'normalized_text': 'salatisse', 'lemma': 'salat', 'root': 'salat', 'root_tokens': ['salat'], 'ending': 'sse', 'clitic': '', 'form': 'sg ill', 'partofspeech': 'S'}]),\n",
       "Span('panna', [{'normalized_text': 'panna', 'lemma': 'panema', 'root': 'pane', 'root_tokens': ['pane'], 'ending': 'a', 'clitic': '', 'form': 'da', 'partofspeech': 'V'}]),\n",
       "Span('.', [{'normalized_text': '.', 'lemma': '.', 'root': '.', 'root_tokens': ['.'], 'ending': '', 'clitic': '', 'form': '', 'partofspeech': 'Z'}])])"
      ]
     },
     "execution_count": 10,
     "metadata": {},
     "output_type": "execute_result"
    }
   ],
   "source": [
    "# Morf analüüs eesti keele puhul baassamm \n",
    "t = Text('Mida ubadest teha? Oad võib salatisse panna.').tag_layer()\n",
    "t.morph_analysis"
   ]
  },
  {
   "cell_type": "code",
   "execution_count": 11,
   "metadata": {
    "slideshow": {
     "slide_type": "slide"
    }
   },
   "outputs": [
    {
     "data": {
      "text/html": [
       "<h4>AmbiguousAttributeTupleList</h4>\n",
       "<table border=\"1\" class=\"dataframe\">\n",
       "  <thead>\n",
       "    <tr style=\"text-align: right;\">\n",
       "      <th></th>\n",
       "      <th>text</th>\n",
       "      <th>lemma</th>\n",
       "      <th>partofspeech</th>\n",
       "    </tr>\n",
       "  </thead>\n",
       "  <tbody>\n",
       "    <tr>\n",
       "      <td>0</td>\n",
       "      <td>Mida</td>\n",
       "      <td>mis</td>\n",
       "      <td>P</td>\n",
       "    </tr>\n",
       "    <tr>\n",
       "      <td></td>\n",
       "      <td>Mida</td>\n",
       "      <td>mis</td>\n",
       "      <td>P</td>\n",
       "    </tr>\n",
       "    <tr>\n",
       "      <td>1</td>\n",
       "      <td>ubadest</td>\n",
       "      <td>uba</td>\n",
       "      <td>S</td>\n",
       "    </tr>\n",
       "    <tr>\n",
       "      <td>2</td>\n",
       "      <td>teha</td>\n",
       "      <td>tegema</td>\n",
       "      <td>V</td>\n",
       "    </tr>\n",
       "    <tr>\n",
       "      <td>3</td>\n",
       "      <td>?</td>\n",
       "      <td>?</td>\n",
       "      <td>Z</td>\n",
       "    </tr>\n",
       "    <tr>\n",
       "      <td>4</td>\n",
       "      <td>Oad</td>\n",
       "      <td>uba</td>\n",
       "      <td>S</td>\n",
       "    </tr>\n",
       "    <tr>\n",
       "      <td>5</td>\n",
       "      <td>võib</td>\n",
       "      <td>võima</td>\n",
       "      <td>V</td>\n",
       "    </tr>\n",
       "    <tr>\n",
       "      <td>6</td>\n",
       "      <td>salatisse</td>\n",
       "      <td>salat</td>\n",
       "      <td>S</td>\n",
       "    </tr>\n",
       "    <tr>\n",
       "      <td>7</td>\n",
       "      <td>panna</td>\n",
       "      <td>panema</td>\n",
       "      <td>V</td>\n",
       "    </tr>\n",
       "    <tr>\n",
       "      <td>8</td>\n",
       "      <td>.</td>\n",
       "      <td>.</td>\n",
       "      <td>Z</td>\n",
       "    </tr>\n",
       "  </tbody>\n",
       "</table>"
      ],
      "text/plain": [
       "AmbiguousAttributeTupleList([[['Mida', 'mis', 'P'], ['Mida', 'mis', 'P']], [['ubadest', 'uba', 'S']], [['teha', 'tegema', 'V']], [['?', '?', 'Z']], [['Oad', 'uba', 'S']], [['võib', 'võima', 'V']], [['salatisse', 'salat', 'S']], [['panna', 'panema', 'V']], [['.', '.', 'Z']]], ('text', 'lemma', 'partofspeech'))"
      ]
     },
     "execution_count": 11,
     "metadata": {},
     "output_type": "execute_result"
    }
   ],
   "source": [
    "# Võime vaadata ka vaid parajasti huvitavaid atribuute, mitte kogu analüüsi\n",
    "t.morph_analysis['text', 'lemma', 'partofspeech']"
   ]
  },
  {
   "cell_type": "markdown",
   "metadata": {
    "slideshow": {
     "slide_type": "slide"
    }
   },
   "source": [
    "#### Näide: leiame kõik tekstis olevad nimisõnad"
   ]
  },
  {
   "cell_type": "code",
   "execution_count": 12,
   "metadata": {
    "slideshow": {
     "slide_type": "fragment"
    }
   },
   "outputs": [
    {
     "data": {
      "text/html": [
       "<table border=\"1\" class=\"dataframe\">\n",
       "  <thead>\n",
       "    <tr style=\"text-align: right;\">\n",
       "      <th>text</th>\n",
       "    </tr>\n",
       "  </thead>\n",
       "  <tbody>\n",
       "    <tr>\n",
       "      <td><div align = \"left\">Nagu nimigi reedab, on nurgasaag kõige tõhusam tööriist erinevate puitdetailide lõikamiseks, kus eesmärgiks on saavutada täpne lõikenurk ning oluline on lõikenurga seadistamise võimalus. Näiteks pildiraamide meisterdamisel, kus on oluline, et detailide lõikenurgad oleksid kõik täpselt 45 kraadi. Sellisel juhul on nurgasaag täiuslikuks tööriistaks, sest tagab täpsuse ja lõike korratavuse. Üldiselt on valdav osa nurgasaage seadistatavad 45-kraadise lõikenurga alla vähemalt ühes suunas. Lisaks võimaldavad mõned saed veel ka saetera kaldenurga seadistamist, mis tuleb kasuks keerukamate detailide lõikamisel. Nurgasaag on väga tõhus ka kitsamate, kuni 30 cm laiuste puulaudade või muude puitdetailide ristlõigete tegemiseks ehk järkamiseks, mida tuleb palju ette näiteks puitkonstruktsioonide ehitamisel või ka näiteks terrassilaudade või puitparketi paigaldamisel.</div></td>\n",
       "    </tr>\n",
       "  </tbody>\n",
       "</table>\n",
       "<table border=\"1\" class=\"dataframe\">\n",
       "  <thead>\n",
       "    <tr style=\"text-align: right;\">\n",
       "      <th>layer name</th>\n",
       "      <th>attributes</th>\n",
       "      <th>parent</th>\n",
       "      <th>enveloping</th>\n",
       "      <th>ambiguous</th>\n",
       "      <th>span count</th>\n",
       "    </tr>\n",
       "  </thead>\n",
       "  <tbody>\n",
       "    <tr>\n",
       "      <td>sentences</td>\n",
       "      <td></td>\n",
       "      <td>None</td>\n",
       "      <td>words</td>\n",
       "      <td>False</td>\n",
       "      <td>6</td>\n",
       "    </tr>\n",
       "    <tr>\n",
       "      <td>tokens</td>\n",
       "      <td></td>\n",
       "      <td>None</td>\n",
       "      <td>None</td>\n",
       "      <td>False</td>\n",
       "      <td>124</td>\n",
       "    </tr>\n",
       "    <tr>\n",
       "      <td>compound_tokens</td>\n",
       "      <td>type, normalized</td>\n",
       "      <td>None</td>\n",
       "      <td>tokens</td>\n",
       "      <td>False</td>\n",
       "      <td>1</td>\n",
       "    </tr>\n",
       "    <tr>\n",
       "      <td>words</td>\n",
       "      <td>normalized_form</td>\n",
       "      <td>None</td>\n",
       "      <td>None</td>\n",
       "      <td>True</td>\n",
       "      <td>122</td>\n",
       "    </tr>\n",
       "    <tr>\n",
       "      <td>morph_analysis</td>\n",
       "      <td>normalized_text, lemma, root, root_tokens, ending, clitic, form, partofspeech</td>\n",
       "      <td>words</td>\n",
       "      <td>None</td>\n",
       "      <td>True</td>\n",
       "      <td>122</td>\n",
       "    </tr>\n",
       "  </tbody>\n",
       "</table>"
      ],
      "text/plain": [
       "Text(text='Nagu nimigi reedab, on nurgasaag kõige tõhusam tööriist erinevate puitdetailide lõikamiseks, kus eesmärgiks on saavutada täpne lõikenurk ning oluline on lõikenurga seadistamise võimalus. Näiteks pildiraamide meisterdamisel, kus on oluline, et detailide lõikenurgad oleksid kõik täpselt 45 kraadi. Sellisel juhul on nurgasaag täiuslikuks tööriistaks, sest tagab täpsuse ja lõike korratavuse. Üldiselt on valdav osa nurgasaage seadistatavad 45-kraadise lõikenurga alla vähemalt ühes suunas. Lisaks võimaldavad mõned saed veel ka saetera kaldenurga seadistamist, mis tuleb kasuks keerukamate detailide lõikamisel. Nurgasaag on väga tõhus ka kitsamate, kuni 30 cm laiuste puulaudade või muude puitdetailide ristlõigete tegemiseks ehk järkamiseks, mida tuleb palju ette näiteks puitkonstruktsioonide ehitamisel või ka näiteks terrassilaudade või puitparketi paigaldamisel.')"
      ]
     },
     "execution_count": 12,
     "metadata": {},
     "output_type": "execute_result"
    }
   ],
   "source": [
    "my_text = Text('Nagu nimigi reedab, on nurgasaag kõige \\\n",
    "tõhusam tööriist erinevate puitdetailide lõikamiseks, \\\n",
    "kus eesmärgiks on saavutada täpne lõikenurk ning oluline on \\\n",
    "lõikenurga seadistamise võimalus. Näiteks pildiraamide \\\n",
    "meisterdamisel, kus on oluline, et detailide lõikenurgad \\\n",
    "oleksid kõik täpselt 45 kraadi. Sellisel juhul on nurgasaag \\\n",
    "täiuslikuks tööriistaks, sest tagab täpsuse ja lõike korratavuse. \\\n",
    "Üldiselt on valdav osa nurgasaage seadistatavad 45-kraadise \\\n",
    "lõikenurga alla vähemalt ühes suunas. Lisaks võimaldavad mõned \\\n",
    "saed veel ka saetera kaldenurga seadistamist, mis tuleb kasuks \\\n",
    "keerukamate detailide lõikamisel. Nurgasaag on väga tõhus ka \\\n",
    "kitsamate, kuni 30 cm laiuste puulaudade või muude puitdetailide \\\n",
    "ristlõigete tegemiseks ehk järkamiseks, mida tuleb palju ette näiteks \\\n",
    "puitkonstruktsioonide ehitamisel või ka näiteks terrassilaudade \\\n",
    "või puitparketi paigaldamisel.')\n",
    "my_text.tag_layer()"
   ]
  },
  {
   "cell_type": "code",
   "execution_count": 13,
   "metadata": {
    "slideshow": {
     "slide_type": "slide"
    }
   },
   "outputs": [
    {
     "data": {
      "text/plain": [
       "[('nurgasaag', 4),\n",
       " ('lõikenurk', 4),\n",
       " ('näide', 3),\n",
       " ('tööriist', 2),\n",
       " ('puitdetail', 2),\n",
       " ('lõikamine', 2),\n",
       " ('seadistamine', 2),\n",
       " ('detail', 2),\n",
       " ('nimi', 1),\n",
       " ('eesmärk', 1),\n",
       " ('võimalus', 1),\n",
       " ('pildiraam', 1),\n",
       " ('meisterdamine', 1),\n",
       " ('kraad', 1),\n",
       " ('juht', 1),\n",
       " ('täpsus', 1),\n",
       " ('lõige', 1),\n",
       " ('korratavus', 1),\n",
       " ('osa', 1),\n",
       " ('suund', 1),\n",
       " ('lisa', 1),\n",
       " ('saag', 1),\n",
       " ('saetera', 1),\n",
       " ('kaldenurk', 1),\n",
       " ('kasu', 1),\n",
       " ('laius', 1),\n",
       " ('puulaud', 1),\n",
       " ('ristlõige', 1),\n",
       " ('tegemine', 1),\n",
       " ('järkamine', 1),\n",
       " ('puitkonstruktsioon', 1),\n",
       " ('ehitamine', 1),\n",
       " ('terrassilaud', 1),\n",
       " ('puitparkett', 1),\n",
       " ('paigaldamine', 1)]"
      ]
     },
     "execution_count": 13,
     "metadata": {},
     "output_type": "execute_result"
    }
   ],
   "source": [
    "noun_lemmas = []\n",
    "for lemmas, postags in zip(my_text.lemma, my_text.partofspeech):\n",
    "    if 'S' in postags: # text.lemma ja partofspeech on listid, kuna analüüse võib olla mitu\n",
    "        noun_lemmas += lemmas\n",
    "noun_lemmas  \n",
    "\n",
    "from collections import Counter\n",
    "Counter(noun_lemmas).most_common()"
   ]
  },
  {
   "cell_type": "markdown",
   "metadata": {
    "slideshow": {
     "slide_type": "slide"
    }
   },
   "source": [
    "#### Näide: leiame kõik infinitiivset verbi sisaldavad laused:"
   ]
  },
  {
   "cell_type": "code",
   "execution_count": 14,
   "metadata": {
    "slideshow": {
     "slide_type": "fragment"
    }
   },
   "outputs": [
    {
     "data": {
      "text/plain": [
       "['Nagu nimigi reedab, on nurgasaag kõige tõhusam tööriist erinevate puitdetailide lõikamiseks, kus eesmärgiks on saavutada täpne lõikenurk ning oluline on lõikenurga seadistamise võimalus.']"
      ]
     },
     "execution_count": 14,
     "metadata": {},
     "output_type": "execute_result"
    }
   ],
   "source": [
    "infinitive_sentences = []\n",
    "for sent in my_text.sentences: # vaatame teksti lause kaupa\n",
    "    for form in sent.form: # vaatame läbi kõik lause sõnade vormiinfod\n",
    "        if 'da' in form:\n",
    "            a = sent.enclosing_text # lause tekst stringina\n",
    "            infinitive_sentences.append(a)\n",
    "            break\n",
    "infinitive_sentences"
   ]
  },
  {
   "cell_type": "markdown",
   "metadata": {
    "slideshow": {
     "slide_type": "slide"
    }
   },
   "source": [
    "### 4. Süntaktiline analüüs"
   ]
  },
  {
   "cell_type": "markdown",
   "metadata": {
    "slideshow": {
     "slide_type": "slide"
    }
   },
   "source": [
    "<img src=\"pildid/synt1.png\">"
   ]
  },
  {
   "cell_type": "markdown",
   "metadata": {
    "slideshow": {
     "slide_type": "slide"
    }
   },
   "source": [
    "<img src=\"pildid/synt2.png\">"
   ]
  },
  {
   "cell_type": "markdown",
   "metadata": {
    "slideshow": {
     "slide_type": "slide"
    }
   },
   "source": [
    "<img src=\"pildid/synt3.png\">"
   ]
  },
  {
   "cell_type": "markdown",
   "metadata": {
    "slideshow": {
     "slide_type": "slide"
    }
   },
   "source": [
    "<img src=\"pildid/synt4.png\">"
   ]
  },
  {
   "cell_type": "markdown",
   "metadata": {
    "slideshow": {
     "slide_type": "slide"
    }
   },
   "source": [
    "<img src=\"pildid/synt5.png\">"
   ]
  },
  {
   "cell_type": "markdown",
   "metadata": {
    "slideshow": {
     "slide_type": "slide"
    }
   },
   "source": [
    "<img src=\"pildid/synt6.png\">"
   ]
  },
  {
   "cell_type": "markdown",
   "metadata": {
    "slideshow": {
     "slide_type": "slide"
    }
   },
   "source": [
    "## Märgendajad e taggerid\n",
    "#### võimaldavad vajadusel lisada kihte, mida läheb vaja mingis konkreetses analüüsitöövoos"
   ]
  },
  {
   "cell_type": "code",
   "execution_count": 15,
   "metadata": {
    "slideshow": {
     "slide_type": "slide"
    }
   },
   "outputs": [
    {
     "data": {
      "text/html": [
       "<h4>Tagger</h4>\n",
       "Tags dependency syntactic analysis with MaltParser.\n",
       "<table border=\"1\" class=\"dataframe\">\n",
       "  <thead>\n",
       "    <tr style=\"text-align: right;\">\n",
       "      <th>name</th>\n",
       "      <th>output layer</th>\n",
       "      <th>output attributes</th>\n",
       "      <th>input layers</th>\n",
       "    </tr>\n",
       "  </thead>\n",
       "  <tbody>\n",
       "    <tr>\n",
       "      <td>MaltParserTagger</td>\n",
       "      <td>maltparser_syntax</td>\n",
       "      <td>('id', 'lemma', 'upostag', 'xpostag', 'feats', 'head', 'deprel', 'deps', 'misc', 'parent_span', 'children')</td>\n",
       "      <td>('words', 'sentences', 'conll_morph')</td>\n",
       "    </tr>\n",
       "  </tbody>\n",
       "</table>\n",
       "<h4>Configuration</h4>\n",
       "<table border=\"1\" class=\"dataframe\">\n",
       "  <tbody>\n",
       "    <tr>\n",
       "      <th>add_parent_and_children</th>\n",
       "      <td>True</td>\n",
       "    </tr>\n",
       "    <tr>\n",
       "      <th>syntax_dependency_retagger</th>\n",
       "      <td>SyntaxDependencyRetagger(('maltparser_syntax',)-&gt;maltparser_syntax)</td>\n",
       "    </tr>\n",
       "  </tbody>\n",
       "</table>"
      ],
      "text/plain": [
       "MaltParserTagger(input_layers=('words', 'sentences', 'conll_morph'), output_layer=maltparser_syntax, output_attributes=('id', 'lemma', 'upostag', 'xpostag', 'feats', 'head', 'deprel', 'deps', 'misc', ..., type: <class 'tuple'>, length: 11, add_parent_and_children=True, syntax_dependency_retagger=SyntaxDependencyRetagger(('maltparser_syntax',)->maltparser_syntax))"
      ]
     },
     "execution_count": 15,
     "metadata": {},
     "output_type": "execute_result"
    }
   ],
   "source": [
    "# süntaksi tagger\n",
    "from estnltk.taggers import MaltParserTagger\n",
    "maltparser_tagger = MaltParserTagger()\n",
    "maltparser_tagger"
   ]
  },
  {
   "cell_type": "code",
   "execution_count": 16,
   "metadata": {
    "slideshow": {
     "slide_type": "slide"
    }
   },
   "outputs": [
    {
     "data": {
      "text/html": [
       "<h4>Tagger</h4>\n",
       "From morph_extended towards conll_syntax\n",
       "<table border=\"1\" class=\"dataframe\">\n",
       "  <thead>\n",
       "    <tr style=\"text-align: right;\">\n",
       "      <th>name</th>\n",
       "      <th>output layer</th>\n",
       "      <th>output attributes</th>\n",
       "      <th>input layers</th>\n",
       "    </tr>\n",
       "  </thead>\n",
       "  <tbody>\n",
       "    <tr>\n",
       "      <td>ConllMorphTagger</td>\n",
       "      <td>conll_morph</td>\n",
       "      <td>('id', 'form', 'lemma', 'upostag', 'xpostag', 'feats', 'head', 'deprel', 'deps', 'misc')</td>\n",
       "      <td>('sentences', 'morph_extended')</td>\n",
       "    </tr>\n",
       "  </tbody>\n",
       "</table>\n",
       "No configuration parameters."
      ],
      "text/plain": [
       "ConllMorphTagger()"
      ]
     },
     "execution_count": 16,
     "metadata": {},
     "output_type": "execute_result"
    }
   ],
   "source": [
    "from estnltk.taggers import ConllMorphTagger\n",
    "conllmorph_tagger = ConllMorphTagger()\n",
    "conllmorph_tagger"
   ]
  },
  {
   "cell_type": "code",
   "execution_count": 17,
   "metadata": {
    "slideshow": {
     "slide_type": "slide"
    }
   },
   "outputs": [
    {
     "data": {
      "text/html": [
       "<table border=\"1\" class=\"dataframe\">\n",
       "  <thead>\n",
       "    <tr style=\"text-align: right;\">\n",
       "      <th>text</th>\n",
       "    </tr>\n",
       "  </thead>\n",
       "  <tbody>\n",
       "    <tr>\n",
       "      <td><div align = \"left\">Poe ees õlut joonud mehed häirisid kohalikke, aga ükskõikne politsei ei teinud midagi.</div></td>\n",
       "    </tr>\n",
       "  </tbody>\n",
       "</table>\n",
       "<table border=\"1\" class=\"dataframe\">\n",
       "  <thead>\n",
       "    <tr style=\"text-align: right;\">\n",
       "      <th>layer name</th>\n",
       "      <th>attributes</th>\n",
       "      <th>parent</th>\n",
       "      <th>enveloping</th>\n",
       "      <th>ambiguous</th>\n",
       "      <th>span count</th>\n",
       "    </tr>\n",
       "  </thead>\n",
       "  <tbody>\n",
       "    <tr>\n",
       "      <td>sentences</td>\n",
       "      <td></td>\n",
       "      <td>None</td>\n",
       "      <td>words</td>\n",
       "      <td>False</td>\n",
       "      <td>1</td>\n",
       "    </tr>\n",
       "    <tr>\n",
       "      <td>tokens</td>\n",
       "      <td></td>\n",
       "      <td>None</td>\n",
       "      <td>None</td>\n",
       "      <td>False</td>\n",
       "      <td>15</td>\n",
       "    </tr>\n",
       "    <tr>\n",
       "      <td>compound_tokens</td>\n",
       "      <td>type, normalized</td>\n",
       "      <td>None</td>\n",
       "      <td>tokens</td>\n",
       "      <td>False</td>\n",
       "      <td>0</td>\n",
       "    </tr>\n",
       "    <tr>\n",
       "      <td>words</td>\n",
       "      <td>normalized_form</td>\n",
       "      <td>None</td>\n",
       "      <td>None</td>\n",
       "      <td>True</td>\n",
       "      <td>15</td>\n",
       "    </tr>\n",
       "    <tr>\n",
       "      <td>morph_analysis</td>\n",
       "      <td>normalized_text, lemma, root, root_tokens, ending, clitic, form, partofspeech</td>\n",
       "      <td>words</td>\n",
       "      <td>None</td>\n",
       "      <td>True</td>\n",
       "      <td>15</td>\n",
       "    </tr>\n",
       "    <tr>\n",
       "      <td>morph_extended</td>\n",
       "      <td>normalized_text, lemma, root, root_tokens, ending, clitic, form, partofspeech, punctuation_type, pronoun_type, letter_case, fin, verb_extension_suffix, subcat</td>\n",
       "      <td>morph_analysis</td>\n",
       "      <td>None</td>\n",
       "      <td>True</td>\n",
       "      <td>15</td>\n",
       "    </tr>\n",
       "    <tr>\n",
       "      <td>conll_morph</td>\n",
       "      <td>id, form, lemma, upostag, xpostag, feats, head, deprel, deps, misc</td>\n",
       "      <td>morph_extended</td>\n",
       "      <td>None</td>\n",
       "      <td>True</td>\n",
       "      <td>15</td>\n",
       "    </tr>\n",
       "  </tbody>\n",
       "</table>"
      ],
      "text/plain": [
       "Text(text='Poe ees õlut joonud mehed häirisid kohalikke, aga ükskõikne politsei ei teinud midagi.')"
      ]
     },
     "execution_count": 17,
     "metadata": {},
     "output_type": "execute_result"
    }
   ],
   "source": [
    "# Lisame default_layers kihid\n",
    "text = Text('Poe ees õlut joonud mehed häirisid kohalikke, aga ükskõikne politsei ei teinud midagi.').tag_layer(['sentences', 'words', 'morph_extended'])\n",
    "\n",
    "# Lisame conll_morph kihi\n",
    "conllmorph_tagger.tag(text)"
   ]
  },
  {
   "cell_type": "code",
   "execution_count": 18,
   "metadata": {
    "slideshow": {
     "slide_type": "slide"
    }
   },
   "outputs": [
    {
     "data": {
      "text/html": [
       "<h4>Layer</h4>\n",
       "\n",
       "\n",
       "<table border=\"1\" class=\"dataframe\">\n",
       "  <thead>\n",
       "    <tr style=\"text-align: right;\">\n",
       "      <th>layer name</th>\n",
       "      <th>attributes</th>\n",
       "      <th>parent</th>\n",
       "      <th>enveloping</th>\n",
       "      <th>ambiguous</th>\n",
       "      <th>span count</th>\n",
       "    </tr>\n",
       "  </thead>\n",
       "  <tbody>\n",
       "    <tr>\n",
       "      <td>maltparser_syntax</td>\n",
       "      <td>id, lemma, upostag, xpostag, feats, head, deprel, deps, misc, parent_span, children</td>\n",
       "      <td>None</td>\n",
       "      <td>None</td>\n",
       "      <td>False</td>\n",
       "      <td>15</td>\n",
       "    </tr>\n",
       "  </tbody>\n",
       "</table>\n",
       "<table border=\"1\" class=\"dataframe\">\n",
       "  <thead>\n",
       "    <tr style=\"text-align: right;\">\n",
       "      <th>text</th>\n",
       "      <th>id</th>\n",
       "      <th>lemma</th>\n",
       "      <th>upostag</th>\n",
       "      <th>xpostag</th>\n",
       "      <th>feats</th>\n",
       "      <th>head</th>\n",
       "      <th>deprel</th>\n",
       "      <th>deps</th>\n",
       "      <th>misc</th>\n",
       "      <th>parent_span</th>\n",
       "      <th>children</th>\n",
       "    </tr>\n",
       "  </thead>\n",
       "  <tbody>\n",
       "    <tr>\n",
       "      <td>Poe</td>\n",
       "      <td>1</td>\n",
       "      <td>pood</td>\n",
       "      <td>S</td>\n",
       "      <td>S</td>\n",
       "      <td>OrderedDict([('sg', ''), ('gen', '')])</td>\n",
       "      <td>2</td>\n",
       "      <td>@P&gt;</td>\n",
       "      <td>None</td>\n",
       "      <td>None</td>\n",
       "      <td>Span('ees', [{'id': 2, 'lemma': 'ees', 'upostag': 'K', 'xpostag': 'Kt', 'feats': ..., type: &lt;class 'estnltk.layer.span.Span'&gt;</td>\n",
       "      <td>()</td>\n",
       "    </tr>\n",
       "    <tr>\n",
       "      <td>ees</td>\n",
       "      <td>2</td>\n",
       "      <td>ees</td>\n",
       "      <td>K</td>\n",
       "      <td>Kt</td>\n",
       "      <td>None</td>\n",
       "      <td>4</td>\n",
       "      <td>@ADVL</td>\n",
       "      <td>None</td>\n",
       "      <td>None</td>\n",
       "      <td>Span('joonud', [{'id': 4, 'lemma': 'joo=nud', 'upostag': 'A', 'xpostag': 'A', 'f ..., type: &lt;class 'estnltk.layer.span.Span'&gt;</td>\n",
       "      <td>(\"Span('Poe', [{'id': 1, 'lemma': 'pood', 'upostag': 'S', 'xpostag': 'S', 'feats ..., type: &lt;class 'tuple'&gt;, length: 1</td>\n",
       "    </tr>\n",
       "    <tr>\n",
       "      <td>õlut</td>\n",
       "      <td>3</td>\n",
       "      <td>õlu</td>\n",
       "      <td>S</td>\n",
       "      <td>S</td>\n",
       "      <td>OrderedDict([('sg', ''), ('part', '')])</td>\n",
       "      <td>4</td>\n",
       "      <td>@OBJ</td>\n",
       "      <td>None</td>\n",
       "      <td>None</td>\n",
       "      <td>Span('joonud', [{'id': 4, 'lemma': 'joo=nud', 'upostag': 'A', 'xpostag': 'A', 'f ..., type: &lt;class 'estnltk.layer.span.Span'&gt;</td>\n",
       "      <td>()</td>\n",
       "    </tr>\n",
       "    <tr>\n",
       "      <td>joonud</td>\n",
       "      <td>4</td>\n",
       "      <td>joo=nud</td>\n",
       "      <td>A</td>\n",
       "      <td>A</td>\n",
       "      <td>OrderedDict([('partic', '')])</td>\n",
       "      <td>5</td>\n",
       "      <td>@AN&gt;</td>\n",
       "      <td>None</td>\n",
       "      <td>None</td>\n",
       "      <td>Span('mehed', [{'id': 5, 'lemma': 'mees', 'upostag': 'S', 'xpostag': 'S', 'feats ..., type: &lt;class 'estnltk.layer.span.Span'&gt;</td>\n",
       "      <td>(\"Span('ees', [{'id': 2, 'lemma': 'ees', 'upostag': 'K', 'xpostag': 'Kt', 'feats ..., type: &lt;class 'tuple'&gt;, length: 2</td>\n",
       "    </tr>\n",
       "    <tr>\n",
       "      <td>mehed</td>\n",
       "      <td>5</td>\n",
       "      <td>mees</td>\n",
       "      <td>S</td>\n",
       "      <td>S</td>\n",
       "      <td>OrderedDict([('pl', ''), ('nom', '')])</td>\n",
       "      <td>6</td>\n",
       "      <td>@SUBJ</td>\n",
       "      <td>None</td>\n",
       "      <td>None</td>\n",
       "      <td>Span('häirisid', [{'id': 6, 'lemma': 'häiri', 'upostag': 'V', 'xpostag': 'V', 'f ..., type: &lt;class 'estnltk.layer.span.Span'&gt;</td>\n",
       "      <td>(\"Span('joonud', [{'id': 4, 'lemma': 'joo=nud', 'upostag': 'A', 'xpostag': 'A',  ..., type: &lt;class 'tuple'&gt;, length: 1</td>\n",
       "    </tr>\n",
       "    <tr>\n",
       "      <td>häirisid</td>\n",
       "      <td>6</td>\n",
       "      <td>häiri</td>\n",
       "      <td>V</td>\n",
       "      <td>V</td>\n",
       "      <td>OrderedDict([('indic', ''), ('impf', ''), ('ps3', ''), ('pl', '')])</td>\n",
       "      <td>0</td>\n",
       "      <td>ROOT</td>\n",
       "      <td>None</td>\n",
       "      <td>None</td>\n",
       "      <td>None</td>\n",
       "      <td>(\"Span('mehed', [{'id': 5, 'lemma': 'mees', 'upostag': 'S', 'xpostag': 'S', 'fea ..., type: &lt;class 'tuple'&gt;, length: 1</td>\n",
       "    </tr>\n",
       "    <tr>\n",
       "      <td>kohalikke</td>\n",
       "      <td>7</td>\n",
       "      <td>kohalik</td>\n",
       "      <td>A</td>\n",
       "      <td>A</td>\n",
       "      <td>OrderedDict([('pl', ''), ('part', '')])</td>\n",
       "      <td>0</td>\n",
       "      <td>ROOT</td>\n",
       "      <td>None</td>\n",
       "      <td>None</td>\n",
       "      <td>None</td>\n",
       "      <td>(\"Span(',', [{'id': 8, 'lemma': ',', 'upostag': 'Z', 'xpostag': 'Z', 'feats': Or ..., type: &lt;class 'tuple'&gt;, length: 2</td>\n",
       "    </tr>\n",
       "    <tr>\n",
       "      <td>,</td>\n",
       "      <td>8</td>\n",
       "      <td>,</td>\n",
       "      <td>Z</td>\n",
       "      <td>Z</td>\n",
       "      <td>OrderedDict([('Com', '')])</td>\n",
       "      <td>7</td>\n",
       "      <td>@Punc</td>\n",
       "      <td>None</td>\n",
       "      <td>None</td>\n",
       "      <td>Span('kohalikke', [{'id': 7, 'lemma': 'kohalik', 'upostag': 'A', 'xpostag': 'A', ..., type: &lt;class 'estnltk.layer.span.Span'&gt;</td>\n",
       "      <td>()</td>\n",
       "    </tr>\n",
       "    <tr>\n",
       "      <td>aga</td>\n",
       "      <td>9</td>\n",
       "      <td>aga</td>\n",
       "      <td>J</td>\n",
       "      <td>Jc</td>\n",
       "      <td>None</td>\n",
       "      <td>13</td>\n",
       "      <td>@J</td>\n",
       "      <td>None</td>\n",
       "      <td>None</td>\n",
       "      <td>Span('teinud', [{'id': 13, 'lemma': 'tege', 'upostag': 'V', 'xpostag': 'V', 'fea ..., type: &lt;class 'estnltk.layer.span.Span'&gt;</td>\n",
       "      <td>()</td>\n",
       "    </tr>\n",
       "    <tr>\n",
       "      <td>ükskõikne</td>\n",
       "      <td>10</td>\n",
       "      <td>üks_kõikne</td>\n",
       "      <td>A</td>\n",
       "      <td>A</td>\n",
       "      <td>OrderedDict([('sg', ''), ('nom', '')])</td>\n",
       "      <td>11</td>\n",
       "      <td>@AN&gt;</td>\n",
       "      <td>None</td>\n",
       "      <td>None</td>\n",
       "      <td>Span('politsei', [{'id': 11, 'lemma': 'politsei', 'upostag': 'S', 'xpostag': 'S' ..., type: &lt;class 'estnltk.layer.span.Span'&gt;</td>\n",
       "      <td>()</td>\n",
       "    </tr>\n",
       "    <tr>\n",
       "      <td>politsei</td>\n",
       "      <td>11</td>\n",
       "      <td>politsei</td>\n",
       "      <td>S</td>\n",
       "      <td>S</td>\n",
       "      <td>OrderedDict([('sg', ''), ('nom', '')])</td>\n",
       "      <td>13</td>\n",
       "      <td>@SUBJ</td>\n",
       "      <td>None</td>\n",
       "      <td>None</td>\n",
       "      <td>Span('teinud', [{'id': 13, 'lemma': 'tege', 'upostag': 'V', 'xpostag': 'V', 'fea ..., type: &lt;class 'estnltk.layer.span.Span'&gt;</td>\n",
       "      <td>(\"Span('ükskõikne', [{'id': 10, 'lemma': 'üks_kõikne', 'upostag': 'A', 'xpostag' ..., type: &lt;class 'tuple'&gt;, length: 1</td>\n",
       "    </tr>\n",
       "    <tr>\n",
       "      <td>ei</td>\n",
       "      <td>12</td>\n",
       "      <td>ei</td>\n",
       "      <td>V</td>\n",
       "      <td>Vaux</td>\n",
       "      <td>OrderedDict([('neg', '')])</td>\n",
       "      <td>13</td>\n",
       "      <td>@NEG</td>\n",
       "      <td>None</td>\n",
       "      <td>None</td>\n",
       "      <td>Span('teinud', [{'id': 13, 'lemma': 'tege', 'upostag': 'V', 'xpostag': 'V', 'fea ..., type: &lt;class 'estnltk.layer.span.Span'&gt;</td>\n",
       "      <td>()</td>\n",
       "    </tr>\n",
       "    <tr>\n",
       "      <td>teinud</td>\n",
       "      <td>13</td>\n",
       "      <td>tege</td>\n",
       "      <td>V</td>\n",
       "      <td>V</td>\n",
       "      <td>OrderedDict([('indic', ''), ('impf', ''), ('neg', '')])</td>\n",
       "      <td>7</td>\n",
       "      <td>@FMV</td>\n",
       "      <td>None</td>\n",
       "      <td>None</td>\n",
       "      <td>Span('kohalikke', [{'id': 7, 'lemma': 'kohalik', 'upostag': 'A', 'xpostag': 'A', ..., type: &lt;class 'estnltk.layer.span.Span'&gt;</td>\n",
       "      <td>(\"Span('aga', [{'id': 9, 'lemma': 'aga', 'upostag': 'J', 'xpostag': 'Jc', 'feats ..., type: &lt;class 'tuple'&gt;, length: 4</td>\n",
       "    </tr>\n",
       "    <tr>\n",
       "      <td>midagi</td>\n",
       "      <td>14</td>\n",
       "      <td>miski</td>\n",
       "      <td>P</td>\n",
       "      <td>P</td>\n",
       "      <td>OrderedDict([('intrel', ''), ('sg', ''), ('part', '')])</td>\n",
       "      <td>13</td>\n",
       "      <td>@OBJ</td>\n",
       "      <td>None</td>\n",
       "      <td>None</td>\n",
       "      <td>Span('teinud', [{'id': 13, 'lemma': 'tege', 'upostag': 'V', 'xpostag': 'V', 'fea ..., type: &lt;class 'estnltk.layer.span.Span'&gt;</td>\n",
       "      <td>(\"Span('.', [{'id': 15, 'lemma': '.', 'upostag': 'Z', 'xpostag': 'Z', 'feats': O ..., type: &lt;class 'tuple'&gt;, length: 1</td>\n",
       "    </tr>\n",
       "    <tr>\n",
       "      <td>.</td>\n",
       "      <td>15</td>\n",
       "      <td>.</td>\n",
       "      <td>Z</td>\n",
       "      <td>Z</td>\n",
       "      <td>OrderedDict([('Fst', '')])</td>\n",
       "      <td>14</td>\n",
       "      <td>@Punc</td>\n",
       "      <td>None</td>\n",
       "      <td>None</td>\n",
       "      <td>Span('midagi', [{'id': 14, 'lemma': 'miski', 'upostag': 'P', 'xpostag': 'P', 'fe ..., type: &lt;class 'estnltk.layer.span.Span'&gt;</td>\n",
       "      <td>()</td>\n",
       "    </tr>\n",
       "  </tbody>\n",
       "</table>"
      ],
      "text/plain": [
       "Layer(name='maltparser_syntax', attributes=('id', 'lemma', 'upostag', 'xpostag', 'feats', 'head', 'deprel', 'deps', 'misc', 'parent_span', 'children'), spans=SL[Span('Poe', [{'id': 1, 'lemma': 'pood', 'upostag': 'S', 'xpostag': 'S', 'feats': OrderedDict([('sg', ''), ('gen', '')]), 'head': 2, 'deprel': '@P>', 'deps': None, 'misc': None, 'parent_span': Span('ees', [{'id': 2, 'lemma': 'ees', 'upostag': 'K', 'xpostag': 'Kt', 'feats': None, 'head': 4, 'deprel': '@ADVL', 'deps': None, 'misc': None, 'parent_span': Span('joonud', [{'id': 4, 'lemma': 'joo=nud', 'upostag': 'A', 'xpostag': 'A', 'feats': OrderedDict([('partic', '')]), 'head': 5, 'deprel': '@AN>', 'deps': None, 'misc': None, 'parent_span': Span('mehed', [{'id': 5, 'lemma': 'mees', 'upostag': 'S', 'xpostag': 'S', 'feats': OrderedDict([('pl', ''), ('nom', '')]), 'head': 6, 'deprel': '@SUBJ', 'deps': None, 'misc': None, 'parent_span': Span('häirisid', [{'id': 6, 'lemma': 'häiri', 'upostag': 'V', 'xpostag': 'V', 'feats': OrderedDict([('indic', ''), ('impf', ''), ('ps3', ''), ('pl', '')]), 'head': 0, 'deprel': 'ROOT', 'deps': None, 'misc': None, 'parent_span': None, 'children': (...,)}]), 'children': (...,)}]), 'children': (..., Span('õlut', [{'id': 3, 'lemma': 'õlu', 'upostag': 'S', 'xpostag': 'S', 'feats': OrderedDict([('sg', ''), ('part', '')]), 'head': 4, 'deprel': '@OBJ', 'deps': None, 'misc': None, 'parent_span': ..., 'children': ()}]))}]), 'children': (...,)}]), 'children': ()}]),\n",
       "Span('ees', [{'id': 2, 'lemma': 'ees', 'upostag': 'K', 'xpostag': 'Kt', 'feats': None, 'head': 4, 'deprel': '@ADVL', 'deps': None, 'misc': None, 'parent_span': Span('joonud', [{'id': 4, 'lemma': 'joo=nud', 'upostag': 'A', 'xpostag': 'A', 'feats': OrderedDict([('partic', '')]), 'head': 5, 'deprel': '@AN>', 'deps': None, 'misc': None, 'parent_span': Span('mehed', [{'id': 5, 'lemma': 'mees', 'upostag': 'S', 'xpostag': 'S', 'feats': OrderedDict([('pl', ''), ('nom', '')]), 'head': 6, 'deprel': '@SUBJ', 'deps': None, 'misc': None, 'parent_span': Span('häirisid', [{'id': 6, 'lemma': 'häiri', 'upostag': 'V', 'xpostag': 'V', 'feats': OrderedDict([('indic', ''), ('impf', ''), ('ps3', ''), ('pl', '')]), 'head': 0, 'deprel': 'ROOT', 'deps': None, 'misc': None, 'parent_span': None, 'children': (...,)}]), 'children': (...,)}]), 'children': (..., Span('õlut', [{'id': 3, 'lemma': 'õlu', 'upostag': 'S', 'xpostag': 'S', 'feats': OrderedDict([('sg', ''), ('part', '')]), 'head': 4, 'deprel': '@OBJ', 'deps': None, 'misc': None, 'parent_span': ..., 'children': ()}]))}]), 'children': (Span('Poe', [{'id': 1, 'lemma': 'pood', 'upostag': 'S', 'xpostag': 'S', 'feats': OrderedDict([('sg', ''), ('gen', '')]), 'head': 2, 'deprel': '@P>', 'deps': None, 'misc': None, 'parent_span': ..., 'children': ()}]),)}]),\n",
       "Span('õlut', [{'id': 3, 'lemma': 'õlu', 'upostag': 'S', 'xpostag': 'S', 'feats': OrderedDict([('sg', ''), ('part', '')]), 'head': 4, 'deprel': '@OBJ', 'deps': None, 'misc': None, 'parent_span': Span('joonud', [{'id': 4, 'lemma': 'joo=nud', 'upostag': 'A', 'xpostag': 'A', 'feats': OrderedDict([('partic', '')]), 'head': 5, 'deprel': '@AN>', 'deps': None, 'misc': None, 'parent_span': Span('mehed', [{'id': 5, 'lemma': 'mees', 'upostag': 'S', 'xpostag': 'S', 'feats': OrderedDict([('pl', ''), ('nom', '')]), 'head': 6, 'deprel': '@SUBJ', 'deps': None, 'misc': None, 'parent_span': Span('häirisid', [{'id': 6, 'lemma': 'häiri', 'upostag': 'V', 'xpostag': 'V', 'feats': OrderedDict([('indic', ''), ('impf', ''), ('ps3', ''), ('pl', '')]), 'head': 0, 'deprel': 'ROOT', 'deps': None, 'misc': None, 'parent_span': None, 'children': (...,)}]), 'children': (...,)}]), 'children': (Span('ees', [{'id': 2, 'lemma': 'ees', 'upostag': 'K', 'xpostag': 'Kt', 'feats': None, 'head': 4, 'deprel': '@ADVL', 'deps': None, 'misc': None, 'parent_span': ..., 'children': (Span('Poe', [{'id': 1, 'lemma': 'pood', 'upostag': 'S', 'xpostag': 'S', 'feats': OrderedDict([('sg', ''), ('gen', '')]), 'head': 2, 'deprel': '@P>', 'deps': None, 'misc': None, 'parent_span': ..., 'children': ()}]),)}]), ...)}]), 'children': ()}]),\n",
       "Span('joonud', [{'id': 4, 'lemma': 'joo=nud', 'upostag': 'A', 'xpostag': 'A', 'feats': OrderedDict([('partic', '')]), 'head': 5, 'deprel': '@AN>', 'deps': None, 'misc': None, 'parent_span': Span('mehed', [{'id': 5, 'lemma': 'mees', 'upostag': 'S', 'xpostag': 'S', 'feats': OrderedDict([('pl', ''), ('nom', '')]), 'head': 6, 'deprel': '@SUBJ', 'deps': None, 'misc': None, 'parent_span': Span('häirisid', [{'id': 6, 'lemma': 'häiri', 'upostag': 'V', 'xpostag': 'V', 'feats': OrderedDict([('indic', ''), ('impf', ''), ('ps3', ''), ('pl', '')]), 'head': 0, 'deprel': 'ROOT', 'deps': None, 'misc': None, 'parent_span': None, 'children': (...,)}]), 'children': (...,)}]), 'children': (Span('ees', [{'id': 2, 'lemma': 'ees', 'upostag': 'K', 'xpostag': 'Kt', 'feats': None, 'head': 4, 'deprel': '@ADVL', 'deps': None, 'misc': None, 'parent_span': ..., 'children': (Span('Poe', [{'id': 1, 'lemma': 'pood', 'upostag': 'S', 'xpostag': 'S', 'feats': OrderedDict([('sg', ''), ('gen', '')]), 'head': 2, 'deprel': '@P>', 'deps': None, 'misc': None, 'parent_span': ..., 'children': ()}]),)}]), Span('õlut', [{'id': 3, 'lemma': 'õlu', 'upostag': 'S', 'xpostag': 'S', 'feats': OrderedDict([('sg', ''), ('part', '')]), 'head': 4, 'deprel': '@OBJ', 'deps': None, 'misc': None, 'parent_span': ..., 'children': ()}]))}]),\n",
       "Span('mehed', [{'id': 5, 'lemma': 'mees', 'upostag': 'S', 'xpostag': 'S', 'feats': OrderedDict([('pl', ''), ('nom', '')]), 'head': 6, 'deprel': '@SUBJ', 'deps': None, 'misc': None, 'parent_span': Span('häirisid', [{'id': 6, 'lemma': 'häiri', 'upostag': 'V', 'xpostag': 'V', 'feats': OrderedDict([('indic', ''), ('impf', ''), ('ps3', ''), ('pl', '')]), 'head': 0, 'deprel': 'ROOT', 'deps': None, 'misc': None, 'parent_span': None, 'children': (...,)}]), 'children': (Span('joonud', [{'id': 4, 'lemma': 'joo=nud', 'upostag': 'A', 'xpostag': 'A', 'feats': OrderedDict([('partic', '')]), 'head': 5, 'deprel': '@AN>', 'deps': None, 'misc': None, 'parent_span': ..., 'children': (Span('ees', [{'id': 2, 'lemma': 'ees', 'upostag': 'K', 'xpostag': 'Kt', 'feats': None, 'head': 4, 'deprel': '@ADVL', 'deps': None, 'misc': None, 'parent_span': ..., 'children': (Span('Poe', [{'id': 1, 'lemma': 'pood', 'upostag': 'S', 'xpostag': 'S', 'feats': OrderedDict([('sg', ''), ('gen', '')]), 'head': 2, 'deprel': '@P>', 'deps': None, 'misc': None, 'parent_span': ..., 'children': ()}]),)}]), Span('õlut', [{'id': 3, 'lemma': 'õlu', 'upostag': 'S', 'xpostag': 'S', 'feats': OrderedDict([('sg', ''), ('part', '')]), 'head': 4, 'deprel': '@OBJ', 'deps': None, 'misc': None, 'parent_span': ..., 'children': ()}]))}]),)}]),\n",
       "Span('häirisid', [{'id': 6, 'lemma': 'häiri', 'upostag': 'V', 'xpostag': 'V', 'feats': OrderedDict([('indic', ''), ('impf', ''), ('ps3', ''), ('pl', '')]), 'head': 0, 'deprel': 'ROOT', 'deps': None, 'misc': None, 'parent_span': None, 'children': (Span('mehed', [{'id': 5, 'lemma': 'mees', 'upostag': 'S', 'xpostag': 'S', 'feats': OrderedDict([('pl', ''), ('nom', '')]), 'head': 6, 'deprel': '@SUBJ', 'deps': None, 'misc': None, 'parent_span': ..., 'children': (Span('joonud', [{'id': 4, 'lemma': 'joo=nud', 'upostag': 'A', 'xpostag': 'A', 'feats': OrderedDict([('partic', '')]), 'head': 5, 'deprel': '@AN>', 'deps': None, 'misc': None, 'parent_span': ..., 'children': (Span('ees', [{'id': 2, 'lemma': 'ees', 'upostag': 'K', 'xpostag': 'Kt', 'feats': None, 'head': 4, 'deprel': '@ADVL', 'deps': None, 'misc': None, 'parent_span': ..., 'children': (Span('Poe', [{'id': 1, 'lemma': 'pood', 'upostag': 'S', 'xpostag': 'S', 'feats': OrderedDict([('sg', ''), ('gen', '')]), 'head': 2, 'deprel': '@P>', 'deps': None, 'misc': None, 'parent_span': ..., 'children': ()}]),)}]), Span('õlut', [{'id': 3, 'lemma': 'õlu', 'upostag': 'S', 'xpostag': 'S', 'feats': OrderedDict([('sg', ''), ('part', '')]), 'head': 4, 'deprel': '@OBJ', 'deps': None, 'misc': None, 'parent_span': ..., 'children': ()}]))}]),)}]),)}]),\n",
       "Span('kohalikke', [{'id': 7, 'lemma': 'kohalik', 'upostag': 'A', 'xpostag': 'A', 'feats': OrderedDict([('pl', ''), ('part', '')]), 'head': 0, 'deprel': 'ROOT', 'deps': None, 'misc': None, 'parent_span': None, 'children': (Span(',', [{'id': 8, 'lemma': ',', 'upostag': 'Z', 'xpostag': 'Z', 'feats': OrderedDict([('Com', '')]), 'head': 7, 'deprel': '@Punc', 'deps': None, 'misc': None, 'parent_span': ..., 'children': ()}]), Span('teinud', [{'id': 13, 'lemma': 'tege', 'upostag': 'V', 'xpostag': 'V', 'feats': OrderedDict([('indic', ''), ('impf', ''), ('neg', '')]), 'head': 7, 'deprel': '@FMV', 'deps': None, 'misc': None, 'parent_span': ..., 'children': (Span('aga', [{'id': 9, 'lemma': 'aga', 'upostag': 'J', 'xpostag': 'Jc', 'feats': None, 'head': 13, 'deprel': '@J', 'deps': None, 'misc': None, 'parent_span': ..., 'children': ()}]), Span('politsei', [{'id': 11, 'lemma': 'politsei', 'upostag': 'S', 'xpostag': 'S', 'feats': OrderedDict([('sg', ''), ('nom', '')]), 'head': 13, 'deprel': '@SUBJ', 'deps': None, 'misc': None, 'parent_span': ..., 'children': (Span('ükskõikne', [{'id': 10, 'lemma': 'üks_kõikne', 'upostag': 'A', 'xpostag': 'A', 'feats': OrderedDict([('sg', ''), ('nom', '')]), 'head': 11, 'deprel': '@AN>', 'deps': None, 'misc': None, 'parent_span': ..., 'children': ()}]),)}]), Span('ei', [{'id': 12, 'lemma': 'ei', 'upostag': 'V', 'xpostag': 'Vaux', 'feats': OrderedDict([('neg', '')]), 'head': 13, 'deprel': '@NEG', 'deps': None, 'misc': None, 'parent_span': ..., 'children': ()}]), Span('midagi', [{'id': 14, 'lemma': 'miski', 'upostag': 'P', 'xpostag': 'P', 'feats': OrderedDict([('intrel', ''), ('sg', ''), ('part', '')]), 'head': 13, 'deprel': '@OBJ', 'deps': None, 'misc': None, 'parent_span': ..., 'children': (Span('.', [{'id': 15, 'lemma': '.', 'upostag': 'Z', 'xpostag': 'Z', 'feats': OrderedDict([('Fst', '')]), 'head': 14, 'deprel': '@Punc', 'deps': None, 'misc': None, 'parent_span': ..., 'children': ()}]),)}]))}]))}]),\n",
       "Span(',', [{'id': 8, 'lemma': ',', 'upostag': 'Z', 'xpostag': 'Z', 'feats': OrderedDict([('Com', '')]), 'head': 7, 'deprel': '@Punc', 'deps': None, 'misc': None, 'parent_span': Span('kohalikke', [{'id': 7, 'lemma': 'kohalik', 'upostag': 'A', 'xpostag': 'A', 'feats': OrderedDict([('pl', ''), ('part', '')]), 'head': 0, 'deprel': 'ROOT', 'deps': None, 'misc': None, 'parent_span': None, 'children': (..., Span('teinud', [{'id': 13, 'lemma': 'tege', 'upostag': 'V', 'xpostag': 'V', 'feats': OrderedDict([('indic', ''), ('impf', ''), ('neg', '')]), 'head': 7, 'deprel': '@FMV', 'deps': None, 'misc': None, 'parent_span': ..., 'children': (Span('aga', [{'id': 9, 'lemma': 'aga', 'upostag': 'J', 'xpostag': 'Jc', 'feats': None, 'head': 13, 'deprel': '@J', 'deps': None, 'misc': None, 'parent_span': ..., 'children': ()}]), Span('politsei', [{'id': 11, 'lemma': 'politsei', 'upostag': 'S', 'xpostag': 'S', 'feats': OrderedDict([('sg', ''), ('nom', '')]), 'head': 13, 'deprel': '@SUBJ', 'deps': None, 'misc': None, 'parent_span': ..., 'children': (Span('ükskõikne', [{'id': 10, 'lemma': 'üks_kõikne', 'upostag': 'A', 'xpostag': 'A', 'feats': OrderedDict([('sg', ''), ('nom', '')]), 'head': 11, 'deprel': '@AN>', 'deps': None, 'misc': None, 'parent_span': ..., 'children': ()}]),)}]), Span('ei', [{'id': 12, 'lemma': 'ei', 'upostag': 'V', 'xpostag': 'Vaux', 'feats': OrderedDict([('neg', '')]), 'head': 13, 'deprel': '@NEG', 'deps': None, 'misc': None, 'parent_span': ..., 'children': ()}]), Span('midagi', [{'id': 14, 'lemma': 'miski', 'upostag': 'P', 'xpostag': 'P', 'feats': OrderedDict([('intrel', ''), ('sg', ''), ('part', '')]), 'head': 13, 'deprel': '@OBJ', 'deps': None, 'misc': None, 'parent_span': ..., 'children': (Span('.', [{'id': 15, 'lemma': '.', 'upostag': 'Z', 'xpostag': 'Z', 'feats': OrderedDict([('Fst', '')]), 'head': 14, 'deprel': '@Punc', 'deps': None, 'misc': None, 'parent_span': ..., 'children': ()}]),)}]))}]))}]), 'children': ()}]),\n",
       "Span('aga', [{'id': 9, 'lemma': 'aga', 'upostag': 'J', 'xpostag': 'Jc', 'feats': None, 'head': 13, 'deprel': '@J', 'deps': None, 'misc': None, 'parent_span': Span('teinud', [{'id': 13, 'lemma': 'tege', 'upostag': 'V', 'xpostag': 'V', 'feats': OrderedDict([('indic', ''), ('impf', ''), ('neg', '')]), 'head': 7, 'deprel': '@FMV', 'deps': None, 'misc': None, 'parent_span': Span('kohalikke', [{'id': 7, 'lemma': 'kohalik', 'upostag': 'A', 'xpostag': 'A', 'feats': OrderedDict([('pl', ''), ('part', '')]), 'head': 0, 'deprel': 'ROOT', 'deps': None, 'misc': None, 'parent_span': None, 'children': (Span(',', [{'id': 8, 'lemma': ',', 'upostag': 'Z', 'xpostag': 'Z', 'feats': OrderedDict([('Com', '')]), 'head': 7, 'deprel': '@Punc', 'deps': None, 'misc': None, 'parent_span': ..., 'children': ()}]), ...)}]), 'children': (..., Span('politsei', [{'id': 11, 'lemma': 'politsei', 'upostag': 'S', 'xpostag': 'S', 'feats': OrderedDict([('sg', ''), ('nom', '')]), 'head': 13, 'deprel': '@SUBJ', 'deps': None, 'misc': None, 'parent_span': ..., 'children': (Span('ükskõikne', [{'id': 10, 'lemma': 'üks_kõikne', 'upostag': 'A', 'xpostag': 'A', 'feats': OrderedDict([('sg', ''), ('nom', '')]), 'head': 11, 'deprel': '@AN>', 'deps': None, 'misc': None, 'parent_span': ..., 'children': ()}]),)}]), Span('ei', [{'id': 12, 'lemma': 'ei', 'upostag': 'V', 'xpostag': 'Vaux', 'feats': OrderedDict([('neg', '')]), 'head': 13, 'deprel': '@NEG', 'deps': None, 'misc': None, 'parent_span': ..., 'children': ()}]), Span('midagi', [{'id': 14, 'lemma': 'miski', 'upostag': 'P', 'xpostag': 'P', 'feats': OrderedDict([('intrel', ''), ('sg', ''), ('part', '')]), 'head': 13, 'deprel': '@OBJ', 'deps': None, 'misc': None, 'parent_span': ..., 'children': (Span('.', [{'id': 15, 'lemma': '.', 'upostag': 'Z', 'xpostag': 'Z', 'feats': OrderedDict([('Fst', '')]), 'head': 14, 'deprel': '@Punc', 'deps': None, 'misc': None, 'parent_span': ..., 'children': ()}]),)}]))}]), 'children': ()}]),\n",
       "Span('ükskõikne', [{'id': 10, 'lemma': 'üks_kõikne', 'upostag': 'A', 'xpostag': 'A', 'feats': OrderedDict([('sg', ''), ('nom', '')]), 'head': 11, 'deprel': '@AN>', 'deps': None, 'misc': None, 'parent_span': Span('politsei', [{'id': 11, 'lemma': 'politsei', 'upostag': 'S', 'xpostag': 'S', 'feats': OrderedDict([('sg', ''), ('nom', '')]), 'head': 13, 'deprel': '@SUBJ', 'deps': None, 'misc': None, 'parent_span': Span('teinud', [{'id': 13, 'lemma': 'tege', 'upostag': 'V', 'xpostag': 'V', 'feats': OrderedDict([('indic', ''), ('impf', ''), ('neg', '')]), 'head': 7, 'deprel': '@FMV', 'deps': None, 'misc': None, 'parent_span': Span('kohalikke', [{'id': 7, 'lemma': 'kohalik', 'upostag': 'A', 'xpostag': 'A', 'feats': OrderedDict([('pl', ''), ('part', '')]), 'head': 0, 'deprel': 'ROOT', 'deps': None, 'misc': None, 'parent_span': None, 'children': (Span(',', [{'id': 8, 'lemma': ',', 'upostag': 'Z', 'xpostag': 'Z', 'feats': OrderedDict([('Com', '')]), 'head': 7, 'deprel': '@Punc', 'deps': None, 'misc': None, 'parent_span': ..., 'children': ()}]), ...)}]), 'children': (Span('aga', [{'id': 9, 'lemma': 'aga', 'upostag': 'J', 'xpostag': 'Jc', 'feats': None, 'head': 13, 'deprel': '@J', 'deps': None, 'misc': None, 'parent_span': ..., 'children': ()}]), ..., Span('ei', [{'id': 12, 'lemma': 'ei', 'upostag': 'V', 'xpostag': 'Vaux', 'feats': OrderedDict([('neg', '')]), 'head': 13, 'deprel': '@NEG', 'deps': None, 'misc': None, 'parent_span': ..., 'children': ()}]), Span('midagi', [{'id': 14, 'lemma': 'miski', 'upostag': 'P', 'xpostag': 'P', 'feats': OrderedDict([('intrel', ''), ('sg', ''), ('part', '')]), 'head': 13, 'deprel': '@OBJ', 'deps': None, 'misc': None, 'parent_span': ..., 'children': (Span('.', [{'id': 15, 'lemma': '.', 'upostag': 'Z', 'xpostag': 'Z', 'feats': OrderedDict([('Fst', '')]), 'head': 14, 'deprel': '@Punc', 'deps': None, 'misc': None, 'parent_span': ..., 'children': ()}]),)}]))}]), 'children': (...,)}]), 'children': ()}]),\n",
       "Span('politsei', [{'id': 11, 'lemma': 'politsei', 'upostag': 'S', 'xpostag': 'S', 'feats': OrderedDict([('sg', ''), ('nom', '')]), 'head': 13, 'deprel': '@SUBJ', 'deps': None, 'misc': None, 'parent_span': Span('teinud', [{'id': 13, 'lemma': 'tege', 'upostag': 'V', 'xpostag': 'V', 'feats': OrderedDict([('indic', ''), ('impf', ''), ('neg', '')]), 'head': 7, 'deprel': '@FMV', 'deps': None, 'misc': None, 'parent_span': Span('kohalikke', [{'id': 7, 'lemma': 'kohalik', 'upostag': 'A', 'xpostag': 'A', 'feats': OrderedDict([('pl', ''), ('part', '')]), 'head': 0, 'deprel': 'ROOT', 'deps': None, 'misc': None, 'parent_span': None, 'children': (Span(',', [{'id': 8, 'lemma': ',', 'upostag': 'Z', 'xpostag': 'Z', 'feats': OrderedDict([('Com', '')]), 'head': 7, 'deprel': '@Punc', 'deps': None, 'misc': None, 'parent_span': ..., 'children': ()}]), ...)}]), 'children': (Span('aga', [{'id': 9, 'lemma': 'aga', 'upostag': 'J', 'xpostag': 'Jc', 'feats': None, 'head': 13, 'deprel': '@J', 'deps': None, 'misc': None, 'parent_span': ..., 'children': ()}]), ..., Span('ei', [{'id': 12, 'lemma': 'ei', 'upostag': 'V', 'xpostag': 'Vaux', 'feats': OrderedDict([('neg', '')]), 'head': 13, 'deprel': '@NEG', 'deps': None, 'misc': None, 'parent_span': ..., 'children': ()}]), Span('midagi', [{'id': 14, 'lemma': 'miski', 'upostag': 'P', 'xpostag': 'P', 'feats': OrderedDict([('intrel', ''), ('sg', ''), ('part', '')]), 'head': 13, 'deprel': '@OBJ', 'deps': None, 'misc': None, 'parent_span': ..., 'children': (Span('.', [{'id': 15, 'lemma': '.', 'upostag': 'Z', 'xpostag': 'Z', 'feats': OrderedDict([('Fst', '')]), 'head': 14, 'deprel': '@Punc', 'deps': None, 'misc': None, 'parent_span': ..., 'children': ()}]),)}]))}]), 'children': (Span('ükskõikne', [{'id': 10, 'lemma': 'üks_kõikne', 'upostag': 'A', 'xpostag': 'A', 'feats': OrderedDict([('sg', ''), ('nom', '')]), 'head': 11, 'deprel': '@AN>', 'deps': None, 'misc': None, 'parent_span': ..., 'children': ()}]),)}]),\n",
       "Span('ei', [{'id': 12, 'lemma': 'ei', 'upostag': 'V', 'xpostag': 'Vaux', 'feats': OrderedDict([('neg', '')]), 'head': 13, 'deprel': '@NEG', 'deps': None, 'misc': None, 'parent_span': Span('teinud', [{'id': 13, 'lemma': 'tege', 'upostag': 'V', 'xpostag': 'V', 'feats': OrderedDict([('indic', ''), ('impf', ''), ('neg', '')]), 'head': 7, 'deprel': '@FMV', 'deps': None, 'misc': None, 'parent_span': Span('kohalikke', [{'id': 7, 'lemma': 'kohalik', 'upostag': 'A', 'xpostag': 'A', 'feats': OrderedDict([('pl', ''), ('part', '')]), 'head': 0, 'deprel': 'ROOT', 'deps': None, 'misc': None, 'parent_span': None, 'children': (Span(',', [{'id': 8, 'lemma': ',', 'upostag': 'Z', 'xpostag': 'Z', 'feats': OrderedDict([('Com', '')]), 'head': 7, 'deprel': '@Punc', 'deps': None, 'misc': None, 'parent_span': ..., 'children': ()}]), ...)}]), 'children': (Span('aga', [{'id': 9, 'lemma': 'aga', 'upostag': 'J', 'xpostag': 'Jc', 'feats': None, 'head': 13, 'deprel': '@J', 'deps': None, 'misc': None, 'parent_span': ..., 'children': ()}]), Span('politsei', [{'id': 11, 'lemma': 'politsei', 'upostag': 'S', 'xpostag': 'S', 'feats': OrderedDict([('sg', ''), ('nom', '')]), 'head': 13, 'deprel': '@SUBJ', 'deps': None, 'misc': None, 'parent_span': ..., 'children': (Span('ükskõikne', [{'id': 10, 'lemma': 'üks_kõikne', 'upostag': 'A', 'xpostag': 'A', 'feats': OrderedDict([('sg', ''), ('nom', '')]), 'head': 11, 'deprel': '@AN>', 'deps': None, 'misc': None, 'parent_span': ..., 'children': ()}]),)}]), ..., Span('midagi', [{'id': 14, 'lemma': 'miski', 'upostag': 'P', 'xpostag': 'P', 'feats': OrderedDict([('intrel', ''), ('sg', ''), ('part', '')]), 'head': 13, 'deprel': '@OBJ', 'deps': None, 'misc': None, 'parent_span': ..., 'children': (Span('.', [{'id': 15, 'lemma': '.', 'upostag': 'Z', 'xpostag': 'Z', 'feats': OrderedDict([('Fst', '')]), 'head': 14, 'deprel': '@Punc', 'deps': None, 'misc': None, 'parent_span': ..., 'children': ()}]),)}]))}]), 'children': ()}]),\n",
       "Span('teinud', [{'id': 13, 'lemma': 'tege', 'upostag': 'V', 'xpostag': 'V', 'feats': OrderedDict([('indic', ''), ('impf', ''), ('neg', '')]), 'head': 7, 'deprel': '@FMV', 'deps': None, 'misc': None, 'parent_span': Span('kohalikke', [{'id': 7, 'lemma': 'kohalik', 'upostag': 'A', 'xpostag': 'A', 'feats': OrderedDict([('pl', ''), ('part', '')]), 'head': 0, 'deprel': 'ROOT', 'deps': None, 'misc': None, 'parent_span': None, 'children': (Span(',', [{'id': 8, 'lemma': ',', 'upostag': 'Z', 'xpostag': 'Z', 'feats': OrderedDict([('Com', '')]), 'head': 7, 'deprel': '@Punc', 'deps': None, 'misc': None, 'parent_span': ..., 'children': ()}]), ...)}]), 'children': (Span('aga', [{'id': 9, 'lemma': 'aga', 'upostag': 'J', 'xpostag': 'Jc', 'feats': None, 'head': 13, 'deprel': '@J', 'deps': None, 'misc': None, 'parent_span': ..., 'children': ()}]), Span('politsei', [{'id': 11, 'lemma': 'politsei', 'upostag': 'S', 'xpostag': 'S', 'feats': OrderedDict([('sg', ''), ('nom', '')]), 'head': 13, 'deprel': '@SUBJ', 'deps': None, 'misc': None, 'parent_span': ..., 'children': (Span('ükskõikne', [{'id': 10, 'lemma': 'üks_kõikne', 'upostag': 'A', 'xpostag': 'A', 'feats': OrderedDict([('sg', ''), ('nom', '')]), 'head': 11, 'deprel': '@AN>', 'deps': None, 'misc': None, 'parent_span': ..., 'children': ()}]),)}]), Span('ei', [{'id': 12, 'lemma': 'ei', 'upostag': 'V', 'xpostag': 'Vaux', 'feats': OrderedDict([('neg', '')]), 'head': 13, 'deprel': '@NEG', 'deps': None, 'misc': None, 'parent_span': ..., 'children': ()}]), Span('midagi', [{'id': 14, 'lemma': 'miski', 'upostag': 'P', 'xpostag': 'P', 'feats': OrderedDict([('intrel', ''), ('sg', ''), ('part', '')]), 'head': 13, 'deprel': '@OBJ', 'deps': None, 'misc': None, 'parent_span': ..., 'children': (Span('.', [{'id': 15, 'lemma': '.', 'upostag': 'Z', 'xpostag': 'Z', 'feats': OrderedDict([('Fst', '')]), 'head': 14, 'deprel': '@Punc', 'deps': None, 'misc': None, 'parent_span': ..., 'children': ()}]),)}]))}]),\n",
       "Span('midagi', [{'id': 14, 'lemma': 'miski', 'upostag': 'P', 'xpostag': 'P', 'feats': OrderedDict([('intrel', ''), ('sg', ''), ('part', '')]), 'head': 13, 'deprel': '@OBJ', 'deps': None, 'misc': None, 'parent_span': Span('teinud', [{'id': 13, 'lemma': 'tege', 'upostag': 'V', 'xpostag': 'V', 'feats': OrderedDict([('indic', ''), ('impf', ''), ('neg', '')]), 'head': 7, 'deprel': '@FMV', 'deps': None, 'misc': None, 'parent_span': Span('kohalikke', [{'id': 7, 'lemma': 'kohalik', 'upostag': 'A', 'xpostag': 'A', 'feats': OrderedDict([('pl', ''), ('part', '')]), 'head': 0, 'deprel': 'ROOT', 'deps': None, 'misc': None, 'parent_span': None, 'children': (Span(',', [{'id': 8, 'lemma': ',', 'upostag': 'Z', 'xpostag': 'Z', 'feats': OrderedDict([('Com', '')]), 'head': 7, 'deprel': '@Punc', 'deps': None, 'misc': None, 'parent_span': ..., 'children': ()}]), ...)}]), 'children': (Span('aga', [{'id': 9, 'lemma': 'aga', 'upostag': 'J', 'xpostag': 'Jc', 'feats': None, 'head': 13, 'deprel': '@J', 'deps': None, 'misc': None, 'parent_span': ..., 'children': ()}]), Span('politsei', [{'id': 11, 'lemma': 'politsei', 'upostag': 'S', 'xpostag': 'S', 'feats': OrderedDict([('sg', ''), ('nom', '')]), 'head': 13, 'deprel': '@SUBJ', 'deps': None, 'misc': None, 'parent_span': ..., 'children': (Span('ükskõikne', [{'id': 10, 'lemma': 'üks_kõikne', 'upostag': 'A', 'xpostag': 'A', 'feats': OrderedDict([('sg', ''), ('nom', '')]), 'head': 11, 'deprel': '@AN>', 'deps': None, 'misc': None, 'parent_span': ..., 'children': ()}]),)}]), Span('ei', [{'id': 12, 'lemma': 'ei', 'upostag': 'V', 'xpostag': 'Vaux', 'feats': OrderedDict([('neg', '')]), 'head': 13, 'deprel': '@NEG', 'deps': None, 'misc': None, 'parent_span': ..., 'children': ()}]), ...)}]), 'children': (Span('.', [{'id': 15, 'lemma': '.', 'upostag': 'Z', 'xpostag': 'Z', 'feats': OrderedDict([('Fst', '')]), 'head': 14, 'deprel': '@Punc', 'deps': None, 'misc': None, 'parent_span': ..., 'children': ()}]),)}]),\n",
       "Span('.', [{'id': 15, 'lemma': '.', 'upostag': 'Z', 'xpostag': 'Z', 'feats': OrderedDict([('Fst', '')]), 'head': 14, 'deprel': '@Punc', 'deps': None, 'misc': None, 'parent_span': Span('midagi', [{'id': 14, 'lemma': 'miski', 'upostag': 'P', 'xpostag': 'P', 'feats': OrderedDict([('intrel', ''), ('sg', ''), ('part', '')]), 'head': 13, 'deprel': '@OBJ', 'deps': None, 'misc': None, 'parent_span': Span('teinud', [{'id': 13, 'lemma': 'tege', 'upostag': 'V', 'xpostag': 'V', 'feats': OrderedDict([('indic', ''), ('impf', ''), ('neg', '')]), 'head': 7, 'deprel': '@FMV', 'deps': None, 'misc': None, 'parent_span': Span('kohalikke', [{'id': 7, 'lemma': 'kohalik', 'upostag': 'A', 'xpostag': 'A', 'feats': OrderedDict([('pl', ''), ('part', '')]), 'head': 0, 'deprel': 'ROOT', 'deps': None, 'misc': None, 'parent_span': None, 'children': (Span(',', [{'id': 8, 'lemma': ',', 'upostag': 'Z', 'xpostag': 'Z', 'feats': OrderedDict([('Com', '')]), 'head': 7, 'deprel': '@Punc', 'deps': None, 'misc': None, 'parent_span': ..., 'children': ()}]), ...)}]), 'children': (Span('aga', [{'id': 9, 'lemma': 'aga', 'upostag': 'J', 'xpostag': 'Jc', 'feats': None, 'head': 13, 'deprel': '@J', 'deps': None, 'misc': None, 'parent_span': ..., 'children': ()}]), Span('politsei', [{'id': 11, 'lemma': 'politsei', 'upostag': 'S', 'xpostag': 'S', 'feats': OrderedDict([('sg', ''), ('nom', '')]), 'head': 13, 'deprel': '@SUBJ', 'deps': None, 'misc': None, 'parent_span': ..., 'children': (Span('ükskõikne', [{'id': 10, 'lemma': 'üks_kõikne', 'upostag': 'A', 'xpostag': 'A', 'feats': OrderedDict([('sg', ''), ('nom', '')]), 'head': 11, 'deprel': '@AN>', 'deps': None, 'misc': None, 'parent_span': ..., 'children': ()}]),)}]), Span('ei', [{'id': 12, 'lemma': 'ei', 'upostag': 'V', 'xpostag': 'Vaux', 'feats': OrderedDict([('neg', '')]), 'head': 13, 'deprel': '@NEG', 'deps': None, 'misc': None, 'parent_span': ..., 'children': ()}]), ...)}]), 'children': (...,)}]), 'children': ()}])])"
      ]
     },
     "execution_count": 18,
     "metadata": {},
     "output_type": "execute_result"
    }
   ],
   "source": [
    "# Lõpuks MaltParseri kiht\n",
    "maltparser_tagger.tag(text)\n",
    "text.maltparser_syntax"
   ]
  },
  {
   "cell_type": "markdown",
   "metadata": {
    "slideshow": {
     "slide_type": "slide"
    }
   },
   "source": [
    "## 5. Semantiline analüüs"
   ]
  },
  {
   "cell_type": "markdown",
   "metadata": {
    "slideshow": {
     "slide_type": "slide"
    }
   },
   "source": [
    "### Ajaväljendite tuvastamine"
   ]
  },
  {
   "cell_type": "code",
   "execution_count": 19,
   "metadata": {
    "slideshow": {
     "slide_type": "fragment"
    }
   },
   "outputs": [],
   "source": [
    "text3 = Text('EKA sisearhitektuuri osakond ja RMK \\\n",
    "avavad neljapäeval kell 16.00 \\\n",
    "RMK Tallinna kontoris (Toompuiestee 24) näituse')"
   ]
  },
  {
   "cell_type": "code",
   "execution_count": 20,
   "metadata": {
    "slideshow": {
     "slide_type": "slide"
    }
   },
   "outputs": [
    {
     "data": {
      "text/html": [
       "<table border=\"1\" class=\"dataframe\">\n",
       "  <thead>\n",
       "    <tr style=\"text-align: right;\">\n",
       "      <th>text</th>\n",
       "    </tr>\n",
       "  </thead>\n",
       "  <tbody>\n",
       "    <tr>\n",
       "      <td><div align = \"left\">EKA sisearhitektuuri osakond ja RMK avavad neljapäeval kell 16.00 RMK Tallinna kontoris (Toompuiestee 24) näituse</div></td>\n",
       "    </tr>\n",
       "  </tbody>\n",
       "</table>\n",
       "<h4>Metadata</h4>\n",
       "<table border=\"1\" class=\"dataframe\">\n",
       "  <tbody>\n",
       "    <tr>\n",
       "      <td>document_creation_time</td>\n",
       "      <td>2020-10-08T16:12</td>\n",
       "    </tr>\n",
       "  </tbody>\n",
       "</table>\n",
       "<table border=\"1\" class=\"dataframe\">\n",
       "  <thead>\n",
       "    <tr style=\"text-align: right;\">\n",
       "      <th>layer name</th>\n",
       "      <th>attributes</th>\n",
       "      <th>parent</th>\n",
       "      <th>enveloping</th>\n",
       "      <th>ambiguous</th>\n",
       "      <th>span count</th>\n",
       "    </tr>\n",
       "  </thead>\n",
       "  <tbody>\n",
       "    <tr>\n",
       "      <td>sentences</td>\n",
       "      <td></td>\n",
       "      <td>None</td>\n",
       "      <td>words</td>\n",
       "      <td>False</td>\n",
       "      <td>1</td>\n",
       "    </tr>\n",
       "    <tr>\n",
       "      <td>tokens</td>\n",
       "      <td></td>\n",
       "      <td>None</td>\n",
       "      <td>None</td>\n",
       "      <td>False</td>\n",
       "      <td>19</td>\n",
       "    </tr>\n",
       "    <tr>\n",
       "      <td>compound_tokens</td>\n",
       "      <td>type, normalized</td>\n",
       "      <td>None</td>\n",
       "      <td>tokens</td>\n",
       "      <td>False</td>\n",
       "      <td>1</td>\n",
       "    </tr>\n",
       "    <tr>\n",
       "      <td>words</td>\n",
       "      <td>normalized_form</td>\n",
       "      <td>None</td>\n",
       "      <td>None</td>\n",
       "      <td>True</td>\n",
       "      <td>17</td>\n",
       "    </tr>\n",
       "    <tr>\n",
       "      <td>morph_analysis</td>\n",
       "      <td>normalized_text, lemma, root, root_tokens, ending, clitic, form, partofspeech</td>\n",
       "      <td>words</td>\n",
       "      <td>None</td>\n",
       "      <td>True</td>\n",
       "      <td>17</td>\n",
       "    </tr>\n",
       "    <tr>\n",
       "      <td>timexes</td>\n",
       "      <td>tid, type, value, temporal_function, anchor_time_id, mod, quant, freq, begin_point, end_point, part_of_interval</td>\n",
       "      <td>None</td>\n",
       "      <td>words</td>\n",
       "      <td>False</td>\n",
       "      <td>1</td>\n",
       "    </tr>\n",
       "  </tbody>\n",
       "</table>"
      ],
      "text/plain": [
       "Text(text='EKA sisearhitektuuri osakond ja RMK avavad neljapäeval kell 16.00 RMK Tallinna kontoris (Toompuiestee 24) näituse')"
      ]
     },
     "execution_count": 20,
     "metadata": {},
     "output_type": "execute_result"
    }
   ],
   "source": [
    "# Märgendame ajaväljendid\n",
    "from estnltk.taggers import TimexTagger\n",
    "\n",
    "tagger = TimexTagger()\n",
    "text3.tag_layer()\n",
    "tagger.tag( text3 )"
   ]
  },
  {
   "cell_type": "code",
   "execution_count": 21,
   "metadata": {
    "slideshow": {
     "slide_type": "slide"
    }
   },
   "outputs": [
    {
     "data": {
      "text/html": [
       "<h4>Layer</h4>\n",
       "\n",
       "\n",
       "<table border=\"1\" class=\"dataframe\">\n",
       "  <thead>\n",
       "    <tr style=\"text-align: right;\">\n",
       "      <th>layer name</th>\n",
       "      <th>attributes</th>\n",
       "      <th>parent</th>\n",
       "      <th>enveloping</th>\n",
       "      <th>ambiguous</th>\n",
       "      <th>span count</th>\n",
       "    </tr>\n",
       "  </thead>\n",
       "  <tbody>\n",
       "    <tr>\n",
       "      <td>timexes</td>\n",
       "      <td>tid, type, value, temporal_function, anchor_time_id, mod, quant, freq, begin_point, end_point, part_of_interval</td>\n",
       "      <td>None</td>\n",
       "      <td>words</td>\n",
       "      <td>False</td>\n",
       "      <td>1</td>\n",
       "    </tr>\n",
       "  </tbody>\n",
       "</table>\n",
       "<table border=\"1\" class=\"dataframe\">\n",
       "  <thead>\n",
       "    <tr style=\"text-align: right;\">\n",
       "      <th>text</th>\n",
       "      <th>tid</th>\n",
       "      <th>type</th>\n",
       "      <th>value</th>\n",
       "      <th>temporal_function</th>\n",
       "      <th>anchor_time_id</th>\n",
       "      <th>mod</th>\n",
       "      <th>quant</th>\n",
       "      <th>freq</th>\n",
       "      <th>begin_point</th>\n",
       "      <th>end_point</th>\n",
       "      <th>part_of_interval</th>\n",
       "    </tr>\n",
       "  </thead>\n",
       "  <tbody>\n",
       "    <tr>\n",
       "      <td>['neljapäeval', 'kell', '16.00']</td>\n",
       "      <td>t1</td>\n",
       "      <td>TIME</td>\n",
       "      <td>2020-10-08T16:00</td>\n",
       "      <td>True</td>\n",
       "      <td>None</td>\n",
       "      <td>None</td>\n",
       "      <td>None</td>\n",
       "      <td>None</td>\n",
       "      <td>None</td>\n",
       "      <td>None</td>\n",
       "      <td>None</td>\n",
       "    </tr>\n",
       "  </tbody>\n",
       "</table>"
      ],
      "text/plain": [
       "Layer(name='timexes', attributes=('tid', 'type', 'value', 'temporal_function', 'anchor_time_id', 'mod', 'quant', 'freq', 'begin_point', 'end_point', 'part_of_interval'), spans=SL[EnvelopingSpan(['neljapäeval', 'kell', '16.00'], [{'tid': 't1', 'type': 'TIME', 'value': '2020-10-08T16:00', 'temporal_function': True, 'anchor_time_id': None, 'mod': None, 'quant': None, 'freq': None, 'begin_point': None, 'end_point': None, 'part_of_interval': None}])])"
      ]
     },
     "execution_count": 21,
     "metadata": {},
     "output_type": "execute_result"
    }
   ],
   "source": [
    "text3.timexes"
   ]
  },
  {
   "cell_type": "code",
   "execution_count": 22,
   "metadata": {
    "slideshow": {
     "slide_type": "slide"
    }
   },
   "outputs": [
    {
     "data": {
      "text/html": [
       "<table border=\"1\" class=\"dataframe\">\n",
       "  <thead>\n",
       "    <tr style=\"text-align: right;\">\n",
       "      <th>text</th>\n",
       "    </tr>\n",
       "  </thead>\n",
       "  <tbody>\n",
       "    <tr>\n",
       "      <td><div align = \"left\">EKA sisearhitektuuri osakond ja RMK avavad neljapäeval kell 16.00 RMK Tallinna kontoris (Toompuiestee 24) näituse</div></td>\n",
       "    </tr>\n",
       "  </tbody>\n",
       "</table>\n",
       "<h4>Metadata</h4>\n",
       "<table border=\"1\" class=\"dataframe\">\n",
       "  <tbody>\n",
       "    <tr>\n",
       "      <td>document_creation_time</td>\n",
       "      <td>2019-10-27</td>\n",
       "    </tr>\n",
       "  </tbody>\n",
       "</table>\n",
       "<table border=\"1\" class=\"dataframe\">\n",
       "  <thead>\n",
       "    <tr style=\"text-align: right;\">\n",
       "      <th>layer name</th>\n",
       "      <th>attributes</th>\n",
       "      <th>parent</th>\n",
       "      <th>enveloping</th>\n",
       "      <th>ambiguous</th>\n",
       "      <th>span count</th>\n",
       "    </tr>\n",
       "  </thead>\n",
       "  <tbody>\n",
       "    <tr>\n",
       "      <td>sentences</td>\n",
       "      <td></td>\n",
       "      <td>None</td>\n",
       "      <td>words</td>\n",
       "      <td>False</td>\n",
       "      <td>1</td>\n",
       "    </tr>\n",
       "    <tr>\n",
       "      <td>tokens</td>\n",
       "      <td></td>\n",
       "      <td>None</td>\n",
       "      <td>None</td>\n",
       "      <td>False</td>\n",
       "      <td>19</td>\n",
       "    </tr>\n",
       "    <tr>\n",
       "      <td>compound_tokens</td>\n",
       "      <td>type, normalized</td>\n",
       "      <td>None</td>\n",
       "      <td>tokens</td>\n",
       "      <td>False</td>\n",
       "      <td>1</td>\n",
       "    </tr>\n",
       "    <tr>\n",
       "      <td>words</td>\n",
       "      <td>normalized_form</td>\n",
       "      <td>None</td>\n",
       "      <td>None</td>\n",
       "      <td>True</td>\n",
       "      <td>17</td>\n",
       "    </tr>\n",
       "    <tr>\n",
       "      <td>morph_analysis</td>\n",
       "      <td>normalized_text, lemma, root, root_tokens, ending, clitic, form, partofspeech</td>\n",
       "      <td>words</td>\n",
       "      <td>None</td>\n",
       "      <td>True</td>\n",
       "      <td>17</td>\n",
       "    </tr>\n",
       "    <tr>\n",
       "      <td>timexes</td>\n",
       "      <td>tid, type, value, temporal_function, anchor_time_id, mod, quant, freq, begin_point, end_point, part_of_interval</td>\n",
       "      <td>None</td>\n",
       "      <td>words</td>\n",
       "      <td>False</td>\n",
       "      <td>1</td>\n",
       "    </tr>\n",
       "  </tbody>\n",
       "</table>"
      ],
      "text/plain": [
       "Text(text='EKA sisearhitektuuri osakond ja RMK avavad neljapäeval kell 16.00 RMK Tallinna kontoris (Toompuiestee 24) näituse')"
      ]
     },
     "execution_count": 22,
     "metadata": {},
     "output_type": "execute_result"
    }
   ],
   "source": [
    "# Soovi korral võime määratleda teksti loomise aja\n",
    "text3 = Text('EKA sisearhitektuuri osakond ja RMK \\\n",
    "avavad neljapäeval kell 16.00 \\\n",
    "RMK Tallinna kontoris (Toompuiestee 24) näituse').tag_layer()\n",
    "text3.meta['document_creation_time'] = '2019-10-27'\n",
    "tagger.tag(text3)"
   ]
  },
  {
   "cell_type": "code",
   "execution_count": 23,
   "metadata": {
    "slideshow": {
     "slide_type": "slide"
    }
   },
   "outputs": [
    {
     "data": {
      "text/html": [
       "<h4>Layer</h4>\n",
       "\n",
       "\n",
       "<table border=\"1\" class=\"dataframe\">\n",
       "  <thead>\n",
       "    <tr style=\"text-align: right;\">\n",
       "      <th>layer name</th>\n",
       "      <th>attributes</th>\n",
       "      <th>parent</th>\n",
       "      <th>enveloping</th>\n",
       "      <th>ambiguous</th>\n",
       "      <th>span count</th>\n",
       "    </tr>\n",
       "  </thead>\n",
       "  <tbody>\n",
       "    <tr>\n",
       "      <td>timexes</td>\n",
       "      <td>tid, type, value, temporal_function, anchor_time_id, mod, quant, freq, begin_point, end_point, part_of_interval</td>\n",
       "      <td>None</td>\n",
       "      <td>words</td>\n",
       "      <td>False</td>\n",
       "      <td>1</td>\n",
       "    </tr>\n",
       "  </tbody>\n",
       "</table>\n",
       "<table border=\"1\" class=\"dataframe\">\n",
       "  <thead>\n",
       "    <tr style=\"text-align: right;\">\n",
       "      <th>text</th>\n",
       "      <th>tid</th>\n",
       "      <th>type</th>\n",
       "      <th>value</th>\n",
       "      <th>temporal_function</th>\n",
       "      <th>anchor_time_id</th>\n",
       "      <th>mod</th>\n",
       "      <th>quant</th>\n",
       "      <th>freq</th>\n",
       "      <th>begin_point</th>\n",
       "      <th>end_point</th>\n",
       "      <th>part_of_interval</th>\n",
       "    </tr>\n",
       "  </thead>\n",
       "  <tbody>\n",
       "    <tr>\n",
       "      <td>['neljapäeval', 'kell', '16.00']</td>\n",
       "      <td>t1</td>\n",
       "      <td>TIME</td>\n",
       "      <td>2019-10-31T16:00</td>\n",
       "      <td>True</td>\n",
       "      <td>None</td>\n",
       "      <td>None</td>\n",
       "      <td>None</td>\n",
       "      <td>None</td>\n",
       "      <td>None</td>\n",
       "      <td>None</td>\n",
       "      <td>None</td>\n",
       "    </tr>\n",
       "  </tbody>\n",
       "</table>"
      ],
      "text/plain": [
       "Layer(name='timexes', attributes=('tid', 'type', 'value', 'temporal_function', 'anchor_time_id', 'mod', 'quant', 'freq', 'begin_point', 'end_point', 'part_of_interval'), spans=SL[EnvelopingSpan(['neljapäeval', 'kell', '16.00'], [{'tid': 't1', 'type': 'TIME', 'value': '2019-10-31T16:00', 'temporal_function': True, 'anchor_time_id': None, 'mod': None, 'quant': None, 'freq': None, 'begin_point': None, 'end_point': None, 'part_of_interval': None}])])"
      ]
     },
     "execution_count": 23,
     "metadata": {},
     "output_type": "execute_result"
    }
   ],
   "source": [
    "text3.timexes"
   ]
  },
  {
   "cell_type": "markdown",
   "metadata": {
    "slideshow": {
     "slide_type": "slide"
    }
   },
   "source": [
    "### Aadresside tuvastamine"
   ]
  },
  {
   "cell_type": "code",
   "execution_count": 24,
   "metadata": {
    "slideshow": {
     "slide_type": "fragment"
    }
   },
   "outputs": [],
   "source": [
    "# Toimub kahes etapis\n",
    "from estnltk.taggers import AddressPartTagger, AddressGrammarTagger\n",
    "address_token_tagger = AddressPartTagger(output_layer='address_tokens')\n",
    "address_tagger = AddressGrammarTagger(output_layer='addresses', \n",
    "                                      input_layer='address_tokens')"
   ]
  },
  {
   "cell_type": "code",
   "execution_count": 25,
   "metadata": {
    "slideshow": {
     "slide_type": "slide"
    }
   },
   "outputs": [],
   "source": [
    "text = Text(\"Ootame teid 2. novembril külla \\\n",
    "aadressil Aia 6, Tartu.\").tag_layer(['words'])"
   ]
  },
  {
   "cell_type": "code",
   "execution_count": 26,
   "metadata": {
    "slideshow": {
     "slide_type": "fragment"
    }
   },
   "outputs": [
    {
     "data": {
      "text/html": [
       "<h4>Layer</h4>\n",
       "\n",
       "\n",
       "<table border=\"1\" class=\"dataframe\">\n",
       "  <thead>\n",
       "    <tr style=\"text-align: right;\">\n",
       "      <th>layer name</th>\n",
       "      <th>attributes</th>\n",
       "      <th>parent</th>\n",
       "      <th>enveloping</th>\n",
       "      <th>ambiguous</th>\n",
       "      <th>span count</th>\n",
       "    </tr>\n",
       "  </thead>\n",
       "  <tbody>\n",
       "    <tr>\n",
       "      <td>address_tokens</td>\n",
       "      <td>grammar_symbol, type</td>\n",
       "      <td>None</td>\n",
       "      <td>None</td>\n",
       "      <td>True</td>\n",
       "      <td>6</td>\n",
       "    </tr>\n",
       "  </tbody>\n",
       "</table>\n",
       "<table border=\"1\" class=\"dataframe\">\n",
       "  <thead>\n",
       "    <tr style=\"text-align: right;\">\n",
       "      <th>text</th>\n",
       "      <th>grammar_symbol</th>\n",
       "      <th>type</th>\n",
       "    </tr>\n",
       "  </thead>\n",
       "  <tbody>\n",
       "    <tr>\n",
       "      <td>Ootame teid</td>\n",
       "      <td>RANDOM_TEXT</td>\n",
       "      <td>None</td>\n",
       "    </tr>\n",
       "    <tr>\n",
       "      <td>2</td>\n",
       "      <td>MAJA</td>\n",
       "      <td>None</td>\n",
       "    </tr>\n",
       "    <tr>\n",
       "      <td>novembril külla aadressil</td>\n",
       "      <td>RANDOM_TEXT</td>\n",
       "      <td>None</td>\n",
       "    </tr>\n",
       "    <tr>\n",
       "      <td>Aia</td>\n",
       "      <td>TÄNAV</td>\n",
       "      <td>tänav</td>\n",
       "    </tr>\n",
       "    <tr>\n",
       "      <td>6</td>\n",
       "      <td>MAJA</td>\n",
       "      <td>None</td>\n",
       "    </tr>\n",
       "    <tr>\n",
       "      <td>Tartu</td>\n",
       "      <td>ASULA</td>\n",
       "      <td>asula</td>\n",
       "    </tr>\n",
       "    <tr>\n",
       "      <td></td>\n",
       "      <td>TÄNAV</td>\n",
       "      <td>tänav</td>\n",
       "    </tr>\n",
       "  </tbody>\n",
       "</table>"
      ],
      "text/plain": [
       "Layer(name='address_tokens', attributes=('grammar_symbol', 'type'), spans=SL[Span('Ootame teid', [{'grammar_symbol': 'RANDOM_TEXT', 'type': None}]),\n",
       "Span('2', [{'grammar_symbol': 'MAJA', 'type': None}]),\n",
       "Span('novembril külla aadressil', [{'grammar_symbol': 'RANDOM_TEXT', 'type': None}]),\n",
       "Span('Aia', [{'grammar_symbol': 'TÄNAV', 'type': 'tänav'}]),\n",
       "Span('6', [{'grammar_symbol': 'MAJA', 'type': None}]),\n",
       "Span('Tartu', [{'grammar_symbol': 'ASULA', 'type': 'asula'}, {'grammar_symbol': 'TÄNAV', 'type': 'tänav'}])])"
      ]
     },
     "execution_count": 26,
     "metadata": {},
     "output_type": "execute_result"
    }
   ],
   "source": [
    "# Esiteks märgime peale võimalikud aadresside komponendid\n",
    "address_token_tagger.tag(text)[\"address_tokens\"]"
   ]
  },
  {
   "cell_type": "code",
   "execution_count": 27,
   "metadata": {
    "slideshow": {
     "slide_type": "slide"
    }
   },
   "outputs": [
    {
     "data": {
      "text/html": [
       "<h4>Layer</h4>\n",
       "\n",
       "\n",
       "<table border=\"1\" class=\"dataframe\">\n",
       "  <thead>\n",
       "    <tr style=\"text-align: right;\">\n",
       "      <th>layer name</th>\n",
       "      <th>attributes</th>\n",
       "      <th>parent</th>\n",
       "      <th>enveloping</th>\n",
       "      <th>ambiguous</th>\n",
       "      <th>span count</th>\n",
       "    </tr>\n",
       "  </thead>\n",
       "  <tbody>\n",
       "    <tr>\n",
       "      <td>addresses</td>\n",
       "      <td>grammar_symbol, TÄNAV, MAJA, ASULA, MAAKOND, INDEKS</td>\n",
       "      <td>None</td>\n",
       "      <td>address_tokens</td>\n",
       "      <td>True</td>\n",
       "      <td>1</td>\n",
       "    </tr>\n",
       "  </tbody>\n",
       "</table>\n",
       "<table border=\"1\" class=\"dataframe\">\n",
       "  <thead>\n",
       "    <tr style=\"text-align: right;\">\n",
       "      <th>text</th>\n",
       "      <th>grammar_symbol</th>\n",
       "      <th>TÄNAV</th>\n",
       "      <th>MAJA</th>\n",
       "      <th>ASULA</th>\n",
       "      <th>MAAKOND</th>\n",
       "      <th>INDEKS</th>\n",
       "    </tr>\n",
       "  </thead>\n",
       "  <tbody>\n",
       "    <tr>\n",
       "      <td>['Aia', '6', 'Tartu']</td>\n",
       "      <td>ADDRESS</td>\n",
       "      <td>Aia</td>\n",
       "      <td>6</td>\n",
       "      <td>Tartu</td>\n",
       "      <td></td>\n",
       "      <td></td>\n",
       "    </tr>\n",
       "  </tbody>\n",
       "</table>"
      ],
      "text/plain": [
       "Layer(name='addresses', attributes=('grammar_symbol', 'TÄNAV', 'MAJA', 'ASULA', 'MAAKOND', 'INDEKS'), spans=SL[EnvelopingSpan(['Aia', '6', 'Tartu'], [{'grammar_symbol': 'ADDRESS', 'TÄNAV': 'Aia', 'MAJA': '6', 'ASULA': 'Tartu', 'MAAKOND': '', 'INDEKS': ''}])])"
      ]
     },
     "execution_count": 27,
     "metadata": {},
     "output_type": "execute_result"
    }
   ],
   "source": [
    "# Teiseks leiame aadressid sealt, kus sobivad komponendid järjest esinevad\n",
    "address_tagger.tag(text)['addresses']"
   ]
  },
  {
   "cell_type": "markdown",
   "metadata": {
    "slideshow": {
     "slide_type": "slide"
    }
   },
   "source": [
    "<img src=\"pildid/verb.png\">"
   ]
  },
  {
   "cell_type": "code",
   "execution_count": 28,
   "metadata": {
    "slideshow": {
     "slide_type": "slide"
    }
   },
   "outputs": [],
   "source": [
    "from estnltk.taggers import VerbChainDetector\n",
    "vc_detector = VerbChainDetector()"
   ]
  },
  {
   "cell_type": "code",
   "execution_count": 29,
   "metadata": {
    "slideshow": {
     "slide_type": "slide"
    }
   },
   "outputs": [
    {
     "data": {
      "text/html": [
       "<table border=\"1\" class=\"dataframe\">\n",
       "  <thead>\n",
       "    <tr style=\"text-align: right;\">\n",
       "      <th>text</th>\n",
       "    </tr>\n",
       "  </thead>\n",
       "  <tbody>\n",
       "    <tr>\n",
       "      <td><div align = \"left\">Kas Juku alustas kodutööga? Minuteada ei alustanud.</div></td>\n",
       "    </tr>\n",
       "  </tbody>\n",
       "</table>\n",
       "<table border=\"1\" class=\"dataframe\">\n",
       "  <thead>\n",
       "    <tr style=\"text-align: right;\">\n",
       "      <th>layer name</th>\n",
       "      <th>attributes</th>\n",
       "      <th>parent</th>\n",
       "      <th>enveloping</th>\n",
       "      <th>ambiguous</th>\n",
       "      <th>span count</th>\n",
       "    </tr>\n",
       "  </thead>\n",
       "  <tbody>\n",
       "    <tr>\n",
       "      <td>sentences</td>\n",
       "      <td></td>\n",
       "      <td>None</td>\n",
       "      <td>words</td>\n",
       "      <td>False</td>\n",
       "      <td>2</td>\n",
       "    </tr>\n",
       "    <tr>\n",
       "      <td>tokens</td>\n",
       "      <td></td>\n",
       "      <td>None</td>\n",
       "      <td>None</td>\n",
       "      <td>False</td>\n",
       "      <td>9</td>\n",
       "    </tr>\n",
       "    <tr>\n",
       "      <td>compound_tokens</td>\n",
       "      <td>type, normalized</td>\n",
       "      <td>None</td>\n",
       "      <td>tokens</td>\n",
       "      <td>False</td>\n",
       "      <td>0</td>\n",
       "    </tr>\n",
       "    <tr>\n",
       "      <td>words</td>\n",
       "      <td>normalized_form</td>\n",
       "      <td>None</td>\n",
       "      <td>None</td>\n",
       "      <td>True</td>\n",
       "      <td>9</td>\n",
       "    </tr>\n",
       "    <tr>\n",
       "      <td>morph_analysis</td>\n",
       "      <td>normalized_text, lemma, root, root_tokens, ending, clitic, form, partofspeech</td>\n",
       "      <td>words</td>\n",
       "      <td>None</td>\n",
       "      <td>True</td>\n",
       "      <td>9</td>\n",
       "    </tr>\n",
       "    <tr>\n",
       "      <td>clauses</td>\n",
       "      <td>clause_type</td>\n",
       "      <td>None</td>\n",
       "      <td>words</td>\n",
       "      <td>False</td>\n",
       "      <td>2</td>\n",
       "    </tr>\n",
       "  </tbody>\n",
       "</table>"
      ],
      "text/plain": [
       "Text(text='Kas Juku alustas kodutööga? Minuteada ei alustanud.')"
      ]
     },
     "execution_count": 29,
     "metadata": {},
     "output_type": "execute_result"
    }
   ],
   "source": [
    "from estnltk import Text\n",
    "# Loome teksti\n",
    "text = Text('Kas Juku alustas kodutööga? Minuteada ei alustanud.')\n",
    "# Lisame verbiahelate tuvastamiseks vajalikud sisendkihid\n",
    "text.tag_layer(['words', 'sentences', 'morph_analysis', 'clauses'])"
   ]
  },
  {
   "cell_type": "code",
   "execution_count": 30,
   "metadata": {
    "slideshow": {
     "slide_type": "slide"
    }
   },
   "outputs": [
    {
     "data": {
      "text/html": [
       "<h4>Layer</h4>\n",
       "\n",
       "\n",
       "<table border=\"1\" class=\"dataframe\">\n",
       "  <thead>\n",
       "    <tr style=\"text-align: right;\">\n",
       "      <th>layer name</th>\n",
       "      <th>attributes</th>\n",
       "      <th>parent</th>\n",
       "      <th>enveloping</th>\n",
       "      <th>ambiguous</th>\n",
       "      <th>span count</th>\n",
       "    </tr>\n",
       "  </thead>\n",
       "  <tbody>\n",
       "    <tr>\n",
       "      <td>verb_chains</td>\n",
       "      <td>pattern, roots, word_ids, mood, polarity, tense, voice, remaining_verbs</td>\n",
       "      <td>None</td>\n",
       "      <td>words</td>\n",
       "      <td>False</td>\n",
       "      <td>2</td>\n",
       "    </tr>\n",
       "  </tbody>\n",
       "</table>\n",
       "<table border=\"1\" class=\"dataframe\">\n",
       "  <thead>\n",
       "    <tr style=\"text-align: right;\">\n",
       "      <th>text</th>\n",
       "      <th>pattern</th>\n",
       "      <th>roots</th>\n",
       "      <th>word_ids</th>\n",
       "      <th>mood</th>\n",
       "      <th>polarity</th>\n",
       "      <th>tense</th>\n",
       "      <th>voice</th>\n",
       "      <th>remaining_verbs</th>\n",
       "    </tr>\n",
       "  </thead>\n",
       "  <tbody>\n",
       "    <tr>\n",
       "      <td>['alustas']</td>\n",
       "      <td>['verb']</td>\n",
       "      <td>['alusta']</td>\n",
       "      <td>[2]</td>\n",
       "      <td>indic</td>\n",
       "      <td>POS</td>\n",
       "      <td>imperfect</td>\n",
       "      <td>personal</td>\n",
       "      <td>False</td>\n",
       "    </tr>\n",
       "    <tr>\n",
       "      <td>['ei', 'alustanud']</td>\n",
       "      <td>['ei', 'verb']</td>\n",
       "      <td>['ei', 'alusta']</td>\n",
       "      <td>[6, 7]</td>\n",
       "      <td>indic</td>\n",
       "      <td>NEG</td>\n",
       "      <td>imperfect</td>\n",
       "      <td>personal</td>\n",
       "      <td>False</td>\n",
       "    </tr>\n",
       "  </tbody>\n",
       "</table>"
      ],
      "text/plain": [
       "Layer(name='verb_chains', attributes=('pattern', 'roots', 'word_ids', 'mood', 'polarity', 'tense', 'voice', 'remaining_verbs'), spans=SL[EnvelopingSpan(['alustas'], [{'pattern': ['verb'], 'roots': ['alusta'], 'word_ids': [2], 'mood': 'indic', 'polarity': 'POS', 'tense': 'imperfect', 'voice': 'personal', 'remaining_verbs': False}]),\n",
       "EnvelopingSpan(['ei', 'alustanud'], [{'pattern': ['ei', 'verb'], 'roots': ['ei', 'alusta'], 'word_ids': [6, 7], 'mood': 'indic', 'polarity': 'NEG', 'tense': 'imperfect', 'voice': 'personal', 'remaining_verbs': False}])])"
      ]
     },
     "execution_count": 30,
     "metadata": {},
     "output_type": "execute_result"
    }
   ],
   "source": [
    "# Tuvastame verbiahelad\n",
    "vc_detector.tag( text )\n",
    "\n",
    "# Väljastame verbiahelad (vastavad tekstid)\n",
    "text.verb_chains"
   ]
  },
  {
   "cell_type": "markdown",
   "metadata": {
    "slideshow": {
     "slide_type": "slide"
    }
   },
   "source": [
    "## 4. Oma märgendajate kirjutamine"
   ]
  },
  {
   "cell_type": "markdown",
   "metadata": {
    "slideshow": {
     "slide_type": "slide"
    }
   },
   "source": [
    "### PhraseTagger\n",
    "#### võimaldab märgendada kihis järjest esinevaid elemente mingi atribuudi alusel\n",
    "\n",
    "Proovime kirjutada taggerit, mis märgendaks lihtsaid nimisõnafraase."
   ]
  },
  {
   "cell_type": "code",
   "execution_count": 31,
   "metadata": {
    "slideshow": {
     "slide_type": "fragment"
    }
   },
   "outputs": [],
   "source": [
    "from estnltk.taggers import PhraseTagger\n",
    "\n",
    "# Kasutame fraaside esmaseks määratlemiseks sõnaliike\n",
    "phrase_list = [\n",
    "               { '_phrase_': ('A', 'S')},\n",
    "               { '_phrase_':  ('C', 'S')},\n",
    "               { '_phrase_':  ('U', 'S')}\n",
    "              ]"
   ]
  },
  {
   "cell_type": "code",
   "execution_count": 32,
   "metadata": {
    "slideshow": {
     "slide_type": "slide"
    }
   },
   "outputs": [],
   "source": [
    "# Defineerime taggeri, mis phrase_list muutujas olevaid fraasitüüpe märgendaks\n",
    "phrase_tagger = PhraseTagger(output_layer='noun_phrases',\n",
    "                      input_layer='morph_analysis',\n",
    "                      input_attribute='partofspeech',\n",
    "                      vocabulary=phrase_list,\n",
    "                      key='_phrase_')"
   ]
  },
  {
   "cell_type": "code",
   "execution_count": 33,
   "metadata": {
    "slideshow": {
     "slide_type": "slide"
    }
   },
   "outputs": [
    {
     "data": {
      "text/html": [
       "<table border=\"1\" class=\"dataframe\">\n",
       "  <thead>\n",
       "    <tr style=\"text-align: right;\">\n",
       "      <th>text</th>\n",
       "    </tr>\n",
       "  </thead>\n",
       "  <tbody>\n",
       "    <tr>\n",
       "      <td><div align = \"left\">Viimasedki pardid lendasid soojemale maale, kui jää läks liiga paksuks jõest toidu hankimiseks.</div></td>\n",
       "    </tr>\n",
       "  </tbody>\n",
       "</table>\n",
       "<table border=\"1\" class=\"dataframe\">\n",
       "  <thead>\n",
       "    <tr style=\"text-align: right;\">\n",
       "      <th>layer name</th>\n",
       "      <th>attributes</th>\n",
       "      <th>parent</th>\n",
       "      <th>enveloping</th>\n",
       "      <th>ambiguous</th>\n",
       "      <th>span count</th>\n",
       "    </tr>\n",
       "  </thead>\n",
       "  <tbody>\n",
       "    <tr>\n",
       "      <td>sentences</td>\n",
       "      <td></td>\n",
       "      <td>None</td>\n",
       "      <td>words</td>\n",
       "      <td>False</td>\n",
       "      <td>1</td>\n",
       "    </tr>\n",
       "    <tr>\n",
       "      <td>tokens</td>\n",
       "      <td></td>\n",
       "      <td>None</td>\n",
       "      <td>None</td>\n",
       "      <td>False</td>\n",
       "      <td>15</td>\n",
       "    </tr>\n",
       "    <tr>\n",
       "      <td>compound_tokens</td>\n",
       "      <td>type, normalized</td>\n",
       "      <td>None</td>\n",
       "      <td>tokens</td>\n",
       "      <td>False</td>\n",
       "      <td>0</td>\n",
       "    </tr>\n",
       "    <tr>\n",
       "      <td>words</td>\n",
       "      <td>normalized_form</td>\n",
       "      <td>None</td>\n",
       "      <td>None</td>\n",
       "      <td>True</td>\n",
       "      <td>15</td>\n",
       "    </tr>\n",
       "    <tr>\n",
       "      <td>morph_analysis</td>\n",
       "      <td>normalized_text, lemma, root, root_tokens, ending, clitic, form, partofspeech</td>\n",
       "      <td>words</td>\n",
       "      <td>None</td>\n",
       "      <td>True</td>\n",
       "      <td>15</td>\n",
       "    </tr>\n",
       "    <tr>\n",
       "      <td>noun_phrases</td>\n",
       "      <td></td>\n",
       "      <td>None</td>\n",
       "      <td>morph_analysis</td>\n",
       "      <td>False</td>\n",
       "      <td>3</td>\n",
       "    </tr>\n",
       "  </tbody>\n",
       "</table>"
      ],
      "text/plain": [
       "Text(text='Viimasedki pardid lendasid soojemale maale, kui jää läks liiga paksuks jõest toidu hankimiseks.')"
      ]
     },
     "execution_count": 33,
     "metadata": {},
     "output_type": "execute_result"
    }
   ],
   "source": [
    "# Rakendame kirjutatud taggerit morfanalüüsitud tekstile\n",
    "t = Text('Viimasedki pardid lendasid soojemale maale, \\\n",
    "kui jää läks liiga paksuks jõest toidu hankimiseks.').tag_layer()\n",
    "phrase_tagger.tag(t)"
   ]
  },
  {
   "cell_type": "code",
   "execution_count": 34,
   "metadata": {
    "slideshow": {
     "slide_type": "slide"
    }
   },
   "outputs": [
    {
     "data": {
      "text/html": [
       "<h4>Layer</h4>\n",
       "\n",
       "\n",
       "<table border=\"1\" class=\"dataframe\">\n",
       "  <thead>\n",
       "    <tr style=\"text-align: right;\">\n",
       "      <th>layer name</th>\n",
       "      <th>attributes</th>\n",
       "      <th>parent</th>\n",
       "      <th>enveloping</th>\n",
       "      <th>ambiguous</th>\n",
       "      <th>span count</th>\n",
       "    </tr>\n",
       "  </thead>\n",
       "  <tbody>\n",
       "    <tr>\n",
       "      <td>noun_phrases</td>\n",
       "      <td></td>\n",
       "      <td>None</td>\n",
       "      <td>morph_analysis</td>\n",
       "      <td>False</td>\n",
       "      <td>3</td>\n",
       "    </tr>\n",
       "  </tbody>\n",
       "</table>\n",
       "<table border=\"1\" class=\"dataframe\">\n",
       "  <thead>\n",
       "    <tr style=\"text-align: right;\">\n",
       "      <th>text</th>\n",
       "    </tr>\n",
       "  </thead>\n",
       "  <tbody>\n",
       "    <tr>\n",
       "      <td>['Viimasedki', 'pardid']</td>\n",
       "    </tr>\n",
       "    <tr>\n",
       "      <td>['soojemale', 'maale']</td>\n",
       "    </tr>\n",
       "    <tr>\n",
       "      <td>['paksuks', 'jõest']</td>\n",
       "    </tr>\n",
       "  </tbody>\n",
       "</table>"
      ],
      "text/plain": [
       "Layer(name='noun_phrases', attributes=(), spans=SL[EnvelopingSpan(['Viimasedki', 'pardid'], [{}]),\n",
       "EnvelopingSpan(['soojemale', 'maale'], [{}]),\n",
       "EnvelopingSpan(['paksuks', 'jõest'], [{}])])"
      ]
     },
     "execution_count": 34,
     "metadata": {},
     "output_type": "execute_result"
    }
   ],
   "source": [
    "# Leiame nimisõnafraasid\n",
    "# Puuduvad algvormid\n",
    "# Paremate tulemuste jaoks peaks arvesse võtma rohkem kui sõnaliike\n",
    "t.noun_phrases"
   ]
  },
  {
   "cell_type": "code",
   "execution_count": 35,
   "metadata": {
    "slideshow": {
     "slide_type": "slide"
    }
   },
   "outputs": [],
   "source": [
    "# Dekoraator võimaldab lisada oma uuele kihile atribuute - lisame lemmad\n",
    "def decorator(span, annotation):\n",
    "    annotation['lemmas'] = ' '.join([l[0] for l in span.lemma])\n",
    "    return True"
   ]
  },
  {
   "cell_type": "code",
   "execution_count": 36,
   "metadata": {
    "slideshow": {
     "slide_type": "slide"
    }
   },
   "outputs": [],
   "source": [
    "# Uus phrase_tagger, mis paneb uude kihti ka fraasid algvormis\n",
    "phrase_tagger2 = PhraseTagger(output_layer='noun_phrases2',\n",
    "                      input_layer='morph_analysis',\n",
    "                      input_attribute='partofspeech',\n",
    "                      vocabulary=phrase_list,\n",
    "                      key='_phrase_',\n",
    "                      output_attributes = ['lemmas'],\n",
    "                      decorator = decorator)"
   ]
  },
  {
   "cell_type": "code",
   "execution_count": 37,
   "metadata": {
    "slideshow": {
     "slide_type": "slide"
    }
   },
   "outputs": [
    {
     "data": {
      "text/html": [
       "<h4>Layer</h4>\n",
       "\n",
       "\n",
       "<table border=\"1\" class=\"dataframe\">\n",
       "  <thead>\n",
       "    <tr style=\"text-align: right;\">\n",
       "      <th>layer name</th>\n",
       "      <th>attributes</th>\n",
       "      <th>parent</th>\n",
       "      <th>enveloping</th>\n",
       "      <th>ambiguous</th>\n",
       "      <th>span count</th>\n",
       "    </tr>\n",
       "  </thead>\n",
       "  <tbody>\n",
       "    <tr>\n",
       "      <td>noun_phrases2</td>\n",
       "      <td>lemmas</td>\n",
       "      <td>None</td>\n",
       "      <td>morph_analysis</td>\n",
       "      <td>False</td>\n",
       "      <td>3</td>\n",
       "    </tr>\n",
       "  </tbody>\n",
       "</table>\n",
       "<table border=\"1\" class=\"dataframe\">\n",
       "  <thead>\n",
       "    <tr style=\"text-align: right;\">\n",
       "      <th>text</th>\n",
       "      <th>lemmas</th>\n",
       "    </tr>\n",
       "  </thead>\n",
       "  <tbody>\n",
       "    <tr>\n",
       "      <td>['Viimasedki', 'pardid']</td>\n",
       "      <td>viimane part</td>\n",
       "    </tr>\n",
       "    <tr>\n",
       "      <td>['soojemale', 'maale']</td>\n",
       "      <td>soojem maa</td>\n",
       "    </tr>\n",
       "    <tr>\n",
       "      <td>['paksuks', 'jõest']</td>\n",
       "      <td>paks jõgi</td>\n",
       "    </tr>\n",
       "  </tbody>\n",
       "</table>"
      ],
      "text/plain": [
       "Layer(name='noun_phrases2', attributes=('lemmas',), spans=SL[EnvelopingSpan(['Viimasedki', 'pardid'], [{'lemmas': 'viimane part'}]),\n",
       "EnvelopingSpan(['soojemale', 'maale'], [{'lemmas': 'soojem maa'}]),\n",
       "EnvelopingSpan(['paksuks', 'jõest'], [{'lemmas': 'paks jõgi'}])])"
      ]
     },
     "execution_count": 37,
     "metadata": {},
     "output_type": "execute_result"
    }
   ],
   "source": [
    "# Olemas ilusad algvormis fraasid\n",
    "# Vaja oleks ka sõna vormiinfot arvestada\n",
    "phrase_tagger2.tag(t)\n",
    "t.noun_phrases2"
   ]
  },
  {
   "cell_type": "code",
   "execution_count": 38,
   "metadata": {
    "slideshow": {
     "slide_type": "slide"
    }
   },
   "outputs": [],
   "source": [
    "# Täiendame dekoraatorit - arvestame ka vormide ühilduvust\n",
    "def decorator2(span, annotation):\n",
    "    annotation['lemmas'] = ' '.join([l[0] for l in span.lemma])\n",
    "    \n",
    "    ninataga_sg = ['sg ter', 'sg ab', 'sg kom', 'sg es']\n",
    "    ninataga_pl = ['pl ter', 'pl ab', 'pl kom', 'pl es']\n",
    "    # Omadussõna ja nimisõna samas vormis -> OK\n",
    "    if span[0].form == span[1].form:\n",
    "        return True\n",
    "    # Omadussõna ainsuse omastavas ja nimisõna 4 viimases käändes ainsuses -> OK\n",
    "    elif span[0].form[0] == 'sg g' and span[1].form[0] in ninataga_sg:\n",
    "        return True\n",
    "    # Omadussõna mitm omastavas ja nimisõna 4 viimases käändes mitm -> OK\n",
    "    elif span[0].form[0] == 'pl g' and span[1].form[0] in ninataga_pl:\n",
    "        return True\n",
    "    # Kõik muud juhud -> ei sobi fraas\n",
    "    else: \n",
    "        return False"
   ]
  },
  {
   "cell_type": "code",
   "execution_count": 39,
   "metadata": {
    "slideshow": {
     "slide_type": "slide"
    }
   },
   "outputs": [],
   "source": [
    "phrase_tagger3 = PhraseTagger(output_layer='noun_phrases3',\n",
    "                      input_layer='morph_analysis',\n",
    "                      input_attribute='partofspeech',\n",
    "                      vocabulary=phrase_list,\n",
    "                      key='_phrase_',\n",
    "                      output_attributes = ['lemmas'],\n",
    "                      decorator = decorator2)"
   ]
  },
  {
   "cell_type": "code",
   "execution_count": 40,
   "metadata": {
    "slideshow": {
     "slide_type": "slide"
    }
   },
   "outputs": [
    {
     "data": {
      "text/html": [
       "<table border=\"1\" class=\"dataframe\">\n",
       "  <thead>\n",
       "    <tr style=\"text-align: right;\">\n",
       "      <th>text</th>\n",
       "    </tr>\n",
       "  </thead>\n",
       "  <tbody>\n",
       "    <tr>\n",
       "      <td><div align = \"left\">Viimasedki pardid lendasid soojemale maale, kui jää läks liiga paksuks jõest toidu hankimiseks.</div></td>\n",
       "    </tr>\n",
       "  </tbody>\n",
       "</table>\n",
       "<table border=\"1\" class=\"dataframe\">\n",
       "  <thead>\n",
       "    <tr style=\"text-align: right;\">\n",
       "      <th>layer name</th>\n",
       "      <th>attributes</th>\n",
       "      <th>parent</th>\n",
       "      <th>enveloping</th>\n",
       "      <th>ambiguous</th>\n",
       "      <th>span count</th>\n",
       "    </tr>\n",
       "  </thead>\n",
       "  <tbody>\n",
       "    <tr>\n",
       "      <td>sentences</td>\n",
       "      <td></td>\n",
       "      <td>None</td>\n",
       "      <td>words</td>\n",
       "      <td>False</td>\n",
       "      <td>1</td>\n",
       "    </tr>\n",
       "    <tr>\n",
       "      <td>tokens</td>\n",
       "      <td></td>\n",
       "      <td>None</td>\n",
       "      <td>None</td>\n",
       "      <td>False</td>\n",
       "      <td>15</td>\n",
       "    </tr>\n",
       "    <tr>\n",
       "      <td>compound_tokens</td>\n",
       "      <td>type, normalized</td>\n",
       "      <td>None</td>\n",
       "      <td>tokens</td>\n",
       "      <td>False</td>\n",
       "      <td>0</td>\n",
       "    </tr>\n",
       "    <tr>\n",
       "      <td>words</td>\n",
       "      <td>normalized_form</td>\n",
       "      <td>None</td>\n",
       "      <td>None</td>\n",
       "      <td>True</td>\n",
       "      <td>15</td>\n",
       "    </tr>\n",
       "    <tr>\n",
       "      <td>morph_analysis</td>\n",
       "      <td>normalized_text, lemma, root, root_tokens, ending, clitic, form, partofspeech</td>\n",
       "      <td>words</td>\n",
       "      <td>None</td>\n",
       "      <td>True</td>\n",
       "      <td>15</td>\n",
       "    </tr>\n",
       "    <tr>\n",
       "      <td>noun_phrases</td>\n",
       "      <td></td>\n",
       "      <td>None</td>\n",
       "      <td>morph_analysis</td>\n",
       "      <td>False</td>\n",
       "      <td>3</td>\n",
       "    </tr>\n",
       "    <tr>\n",
       "      <td>noun_phrases2</td>\n",
       "      <td>lemmas</td>\n",
       "      <td>None</td>\n",
       "      <td>morph_analysis</td>\n",
       "      <td>False</td>\n",
       "      <td>3</td>\n",
       "    </tr>\n",
       "    <tr>\n",
       "      <td>noun_phrases3</td>\n",
       "      <td>lemmas</td>\n",
       "      <td>None</td>\n",
       "      <td>morph_analysis</td>\n",
       "      <td>False</td>\n",
       "      <td>2</td>\n",
       "    </tr>\n",
       "  </tbody>\n",
       "</table>"
      ],
      "text/plain": [
       "Text(text='Viimasedki pardid lendasid soojemale maale, kui jää läks liiga paksuks jõest toidu hankimiseks.')"
      ]
     },
     "execution_count": 40,
     "metadata": {},
     "output_type": "execute_result"
    }
   ],
   "source": [
    "# Märgendame kolmanda nimisõnafraaside kihi\n",
    "phrase_tagger3.tag(t)"
   ]
  },
  {
   "cell_type": "code",
   "execution_count": 41,
   "metadata": {
    "slideshow": {
     "slide_type": "slide"
    }
   },
   "outputs": [
    {
     "data": {
      "text/html": [
       "<h4>Layer</h4>\n",
       "\n",
       "\n",
       "<table border=\"1\" class=\"dataframe\">\n",
       "  <thead>\n",
       "    <tr style=\"text-align: right;\">\n",
       "      <th>layer name</th>\n",
       "      <th>attributes</th>\n",
       "      <th>parent</th>\n",
       "      <th>enveloping</th>\n",
       "      <th>ambiguous</th>\n",
       "      <th>span count</th>\n",
       "    </tr>\n",
       "  </thead>\n",
       "  <tbody>\n",
       "    <tr>\n",
       "      <td>noun_phrases3</td>\n",
       "      <td>lemmas</td>\n",
       "      <td>None</td>\n",
       "      <td>morph_analysis</td>\n",
       "      <td>False</td>\n",
       "      <td>2</td>\n",
       "    </tr>\n",
       "  </tbody>\n",
       "</table>\n",
       "<table border=\"1\" class=\"dataframe\">\n",
       "  <thead>\n",
       "    <tr style=\"text-align: right;\">\n",
       "      <th>text</th>\n",
       "      <th>lemmas</th>\n",
       "    </tr>\n",
       "  </thead>\n",
       "  <tbody>\n",
       "    <tr>\n",
       "      <td>['Viimasedki', 'pardid']</td>\n",
       "      <td>viimane part</td>\n",
       "    </tr>\n",
       "    <tr>\n",
       "      <td>['soojemale', 'maale']</td>\n",
       "      <td>soojem maa</td>\n",
       "    </tr>\n",
       "  </tbody>\n",
       "</table>"
      ],
      "text/plain": [
       "Layer(name='noun_phrases3', attributes=('lemmas',), spans=SL[EnvelopingSpan(['Viimasedki', 'pardid'], [{'lemmas': 'viimane part'}]),\n",
       "EnvelopingSpan(['soojemale', 'maale'], [{'lemmas': 'soojem maa'}])])"
      ]
     },
     "execution_count": 41,
     "metadata": {},
     "output_type": "execute_result"
    }
   ],
   "source": [
    "# Tulemused vastavad ootustele\n",
    " t.noun_phrases3"
   ]
  },
  {
   "cell_type": "code",
   "execution_count": 42,
   "metadata": {
    "slideshow": {
     "slide_type": "slide"
    }
   },
   "outputs": [
    {
     "name": "stdout",
     "output_type": "stream",
     "text": [
      "viimane part\n",
      "soojem maa\n"
     ]
    }
   ],
   "source": [
    "# Fraase on lihtne stringidena kätte saada\n",
    "for i in t.noun_phrases3:\n",
    "    print(i.lemmas)"
   ]
  },
  {
   "cell_type": "code",
   "execution_count": 43,
   "metadata": {
    "slideshow": {
     "slide_type": "slide"
    }
   },
   "outputs": [],
   "source": [
    "# Näide: leiame, millised nimisõnafraasid esinevad kõige sagedamini eesti vanasõnades"
   ]
  },
  {
   "cell_type": "code",
   "execution_count": 44,
   "metadata": {
    "slideshow": {
     "slide_type": "slide"
    }
   },
   "outputs": [],
   "source": [
    "with open(\"data/proverbs.txt\", \"r\", encoding = 'utf8') as fin:\n",
    "    # Failis on iga vanasõna eraldi real - saame listi vanasõnadest\n",
    "    proverbs = fin.readlines()"
   ]
  },
  {
   "cell_type": "code",
   "execution_count": 45,
   "metadata": {
    "slideshow": {
     "slide_type": "slide"
    }
   },
   "outputs": [
    {
     "name": "stderr",
     "output_type": "stream",
     "text": [
      "100%|██████████| 1000/1000 [00:07<00:00, 131.93it/s]\n"
     ]
    }
   ],
   "source": [
    "from collections import Counter\n",
    "from tqdm import tqdm\n",
    "\n",
    "# Loendur fraaside kokkulugemiseks\n",
    "noun_phrases_counts = Counter()\n",
    "\n",
    "for text in tqdm(proverbs): # vaatame vanasõnade listi järjest läbi\n",
    "    t = Text(text).tag_layer() # teeme vanasõna Text objektiks ja analüüsime\n",
    "    phrase_tagger3.tag(t) # märgime peale nimisõnafraasid oma parima taggeriga\n",
    "    if len(t.noun_phrases3) > 0: \n",
    "        for p in t.noun_phrases3: # suurendame loendurit vastava fraasi kohal\n",
    "            noun_phrases_counts[p.lemmas] += 1"
   ]
  },
  {
   "cell_type": "code",
   "execution_count": 46,
   "metadata": {
    "slideshow": {
     "slide_type": "slide"
    }
   },
   "outputs": [
    {
     "data": {
      "text/plain": [
       "[('tühi kõht', 11),\n",
       " ('vana koer', 11),\n",
       " ('vaene mees', 7),\n",
       " ('vana mees', 5),\n",
       " ('vaene inimene', 5),\n",
       " ('vana naine', 5),\n",
       " ('suur koer', 4),\n",
       " ('vana hobune', 4),\n",
       " ('tühi jutt', 4),\n",
       " ('noor koer', 3)]"
      ]
     },
     "execution_count": 46,
     "metadata": {},
     "output_type": "execute_result"
    }
   ],
   "source": [
    "# Saamegi kätte sagedasemad nimisõnafraasid\n",
    "noun_phrases_counts.most_common(10)"
   ]
  },
  {
   "cell_type": "markdown",
   "metadata": {
    "slideshow": {
     "slide_type": "slide"
    }
   },
   "source": [
    "### Nimeüksuste tuvastamine (NER - Named Entity Recognition)\n",
    "\n",
    "EstNLTK sisaldab automaatset nimeüksuste tuvastajat. \n",
    "\n",
    "Programm võimaldab tuvastada 3 liiki nimeüksuseid:\n",
    "\n",
    "* isikunimesid ( lühend: PER );\n",
    "\n",
    "* asukohanimesid ( lühend: LOC );\n",
    "\n",
    "* organisatsiooninimesid ( lühend: ORG )"
   ]
  },
  {
   "cell_type": "code",
   "execution_count": 47,
   "metadata": {
    "slideshow": {
     "slide_type": "slide"
    }
   },
   "outputs": [
    {
     "data": {
      "text/plain": [
       "('morph_analysis',)"
      ]
     },
     "execution_count": 47,
     "metadata": {},
     "output_type": "execute_result"
    }
   ],
   "source": [
    "from estnltk.taggers import NerTagger\n",
    "ner_tagger = NerTagger()\n",
    "\n",
    "# Milliseid kihte ner_tagger vajab?\n",
    "ner_tagger.input_layers"
   ]
  },
  {
   "cell_type": "code",
   "execution_count": 48,
   "metadata": {
    "slideshow": {
     "slide_type": "slide"
    }
   },
   "outputs": [
    {
     "data": {
      "text/html": [
       "<table border=\"1\" class=\"dataframe\">\n",
       "  <thead>\n",
       "    <tr style=\"text-align: right;\">\n",
       "      <th>text</th>\n",
       "    </tr>\n",
       "  </thead>\n",
       "  <tbody>\n",
       "    <tr>\n",
       "      <td><div align = \"left\"> Eesti President on Kersti Kaljulaid. Eesti Energia on \\ </br>Eesti riigile kuuluv rahvusvaheline energiaettevõte. </div></td>\n",
       "    </tr>\n",
       "  </tbody>\n",
       "</table>\n",
       "<table border=\"1\" class=\"dataframe\">\n",
       "  <thead>\n",
       "    <tr style=\"text-align: right;\">\n",
       "      <th>layer name</th>\n",
       "      <th>attributes</th>\n",
       "      <th>parent</th>\n",
       "      <th>enveloping</th>\n",
       "      <th>ambiguous</th>\n",
       "      <th>span count</th>\n",
       "    </tr>\n",
       "  </thead>\n",
       "  <tbody>\n",
       "    <tr>\n",
       "      <td>sentences</td>\n",
       "      <td></td>\n",
       "      <td>None</td>\n",
       "      <td>words</td>\n",
       "      <td>False</td>\n",
       "      <td>2</td>\n",
       "    </tr>\n",
       "    <tr>\n",
       "      <td>tokens</td>\n",
       "      <td></td>\n",
       "      <td>None</td>\n",
       "      <td>None</td>\n",
       "      <td>False</td>\n",
       "      <td>16</td>\n",
       "    </tr>\n",
       "    <tr>\n",
       "      <td>compound_tokens</td>\n",
       "      <td>type, normalized</td>\n",
       "      <td>None</td>\n",
       "      <td>tokens</td>\n",
       "      <td>False</td>\n",
       "      <td>0</td>\n",
       "    </tr>\n",
       "    <tr>\n",
       "      <td>words</td>\n",
       "      <td>normalized_form</td>\n",
       "      <td>None</td>\n",
       "      <td>None</td>\n",
       "      <td>True</td>\n",
       "      <td>16</td>\n",
       "    </tr>\n",
       "    <tr>\n",
       "      <td>morph_analysis</td>\n",
       "      <td>normalized_text, lemma, root, root_tokens, ending, clitic, form, partofspeech</td>\n",
       "      <td>words</td>\n",
       "      <td>None</td>\n",
       "      <td>True</td>\n",
       "      <td>16</td>\n",
       "    </tr>\n",
       "    <tr>\n",
       "      <td>ner</td>\n",
       "      <td>nertag</td>\n",
       "      <td>None</td>\n",
       "      <td>words</td>\n",
       "      <td>False</td>\n",
       "      <td>4</td>\n",
       "    </tr>\n",
       "  </tbody>\n",
       "</table>"
      ],
      "text/plain": [
       "Text(text=' Eesti President on Kersti Kaljulaid. Eesti Energia on \\\\ \\nEesti riigile kuuluv rahvusvaheline energiaettevõte. ')"
      ]
     },
     "execution_count": 48,
     "metadata": {},
     "output_type": "execute_result"
    }
   ],
   "source": [
    "from estnltk import Text\n",
    "# tekitame näidisteksti\n",
    "t = Text(''' Eesti President on Kersti Kaljulaid. Eesti Energia on \\ \n",
    "Eesti riigile kuuluv rahvusvaheline energiaettevõte. ''')\n",
    "\n",
    "# lisame tekstile vajamineva 'morph_analysis' kihi\n",
    "t.tag_layer('morph_analysis')\n",
    "\n",
    "# lisame nimeüksuste märgenduse\n",
    "ner_tagger.tag(t)"
   ]
  },
  {
   "cell_type": "code",
   "execution_count": 49,
   "metadata": {
    "slideshow": {
     "slide_type": "slide"
    }
   },
   "outputs": [
    {
     "data": {
      "text/html": [
       "<h4>Layer</h4>\n",
       "\n",
       "\n",
       "<table border=\"1\" class=\"dataframe\">\n",
       "  <thead>\n",
       "    <tr style=\"text-align: right;\">\n",
       "      <th>layer name</th>\n",
       "      <th>attributes</th>\n",
       "      <th>parent</th>\n",
       "      <th>enveloping</th>\n",
       "      <th>ambiguous</th>\n",
       "      <th>span count</th>\n",
       "    </tr>\n",
       "  </thead>\n",
       "  <tbody>\n",
       "    <tr>\n",
       "      <td>ner</td>\n",
       "      <td>nertag</td>\n",
       "      <td>None</td>\n",
       "      <td>words</td>\n",
       "      <td>False</td>\n",
       "      <td>4</td>\n",
       "    </tr>\n",
       "  </tbody>\n",
       "</table>\n",
       "<table border=\"1\" class=\"dataframe\">\n",
       "  <thead>\n",
       "    <tr style=\"text-align: right;\">\n",
       "      <th>text</th>\n",
       "      <th>nertag</th>\n",
       "    </tr>\n",
       "  </thead>\n",
       "  <tbody>\n",
       "    <tr>\n",
       "      <td>['Eesti']</td>\n",
       "      <td>LOC</td>\n",
       "    </tr>\n",
       "    <tr>\n",
       "      <td>['Kersti', 'Kaljulaid']</td>\n",
       "      <td>PER</td>\n",
       "    </tr>\n",
       "    <tr>\n",
       "      <td>['Eesti', 'Energia']</td>\n",
       "      <td>ORG</td>\n",
       "    </tr>\n",
       "    <tr>\n",
       "      <td>['Eesti', 'riigile']</td>\n",
       "      <td>LOC</td>\n",
       "    </tr>\n",
       "  </tbody>\n",
       "</table>"
      ],
      "text/plain": [
       "Layer(name='ner', attributes=('nertag',), spans=SL[EnvelopingSpan(['Eesti'], [{'nertag': 'LOC'}]),\n",
       "EnvelopingSpan(['Kersti', 'Kaljulaid'], [{'nertag': 'PER'}]),\n",
       "EnvelopingSpan(['Eesti', 'Energia'], [{'nertag': 'ORG'}]),\n",
       "EnvelopingSpan(['Eesti', 'riigile'], [{'nertag': 'LOC'}])])"
      ]
     },
     "execution_count": 49,
     "metadata": {},
     "output_type": "execute_result"
    }
   ],
   "source": [
    "# väljastab tuvastatud nimeüksused\n",
    "t.ner"
   ]
  },
  {
   "cell_type": "markdown",
   "metadata": {
    "slideshow": {
     "slide_type": "slide"
    }
   },
   "source": [
    "### Oma nimeüksuste lisamine\n",
    "\n",
    "1) Leiame võimalikult suure hulga näiteid vastavast nimeüksusest\n",
    " \n",
    "2) Märgendame ümber olemasoleva korpuse - anname seal esinevatele vastavatele nimeüksustele soovitud märgendid\n",
    "\n",
    "3) Treenime nimeüksuste tuvastaja ümbermärgendatud korpuse peal\n",
    "\n",
    "4) Märgendame oma nimeüksusi"
   ]
  },
  {
   "cell_type": "markdown",
   "metadata": {
    "slideshow": {
     "slide_type": "slide"
    }
   },
   "source": [
    "### Oma nimeüksuste lisamine - kuidas luua leksikone?\n",
    "1) Spetsiifilised allikad - nt eesnimede loetelu, ametite loetelu\n",
    "\n",
    "2) Wordnet\n",
    "\n",
    "3) Suurel korpusel treenitud sõnavektorid - nt word2vec\n"
   ]
  },
  {
   "cell_type": "markdown",
   "metadata": {
    "slideshow": {
     "slide_type": "slide"
    }
   },
   "source": [
    "<img src=\"pildid/baas1.png\">"
   ]
  },
  {
   "cell_type": "markdown",
   "metadata": {
    "slideshow": {
     "slide_type": "slide"
    }
   },
   "source": [
    "<img src=\"pildid/baas2.png\">"
   ]
  },
  {
   "cell_type": "markdown",
   "metadata": {
    "slideshow": {
     "slide_type": "slide"
    }
   },
   "source": [
    "<img src=\"pildid/baas3.png\">"
   ]
  },
  {
   "cell_type": "markdown",
   "metadata": {
    "slideshow": {
     "slide_type": "slide"
    }
   },
   "source": [
    "<img src=\"pildid/baas7.png\">"
   ]
  },
  {
   "cell_type": "markdown",
   "metadata": {
    "slideshow": {
     "slide_type": "slide"
    }
   },
   "source": [
    "<img src=\"pildid/baas4.png\">"
   ]
  },
  {
   "cell_type": "code",
   "execution_count": 50,
   "metadata": {
    "slideshow": {
     "slide_type": "slide"
    }
   },
   "outputs": [
    {
     "data": {
      "text/plain": [
       "[\"Synset('toit.n.01')\", \"Synset('toit.n.02')\", \"Synset('toit.n.03')\"]"
      ]
     },
     "execution_count": 50,
     "metadata": {},
     "output_type": "execute_result"
    }
   ],
   "source": [
    "# Wordneti kasutamiseks tuleb importida vastav moodul ja luua Wordneti objekt:\n",
    "from estnltk.wordnet import Wordnet\n",
    "\n",
    "wn = Wordnet()\n",
    "toit = wn['toit']\n",
    "toit"
   ]
  },
  {
   "cell_type": "code",
   "execution_count": 51,
   "metadata": {
    "slideshow": {
     "slide_type": "fragment"
    }
   },
   "outputs": [
    {
     "data": {
      "text/plain": [
       "'ettevalmistatud (keedetud, küpsetatud, grillitud, lõigutud vm) toiduained lauale panemiseks ja söömiseks; valmisained, mida süüakse kõhu täitmiseks'"
      ]
     },
     "execution_count": 51,
     "metadata": {},
     "output_type": "execute_result"
    }
   ],
   "source": [
    "toit[0].definition"
   ]
  },
  {
   "cell_type": "code",
   "execution_count": 52,
   "metadata": {
    "slideshow": {
     "slide_type": "fragment"
    }
   },
   "outputs": [
    {
     "data": {
      "text/plain": [
       "'aine, mida süüakse või omandatakse muul moel kehasse, et hoida alal elu, saada energiat jne'"
      ]
     },
     "execution_count": 52,
     "metadata": {},
     "output_type": "execute_result"
    }
   ],
   "source": [
    "toit[2].definition"
   ]
  },
  {
   "cell_type": "code",
   "execution_count": 53,
   "metadata": {
    "slideshow": {
     "slide_type": "slide"
    }
   },
   "outputs": [],
   "source": [
    "toidud = toit[2].closure('hyponym')"
   ]
  },
  {
   "cell_type": "code",
   "execution_count": 54,
   "metadata": {
    "slideshow": {
     "slide_type": "fragment"
    }
   },
   "outputs": [
    {
     "data": {
      "text/plain": [
       "[\"Synset('sööt.n.01')\",\n",
       " \"Synset('söödavili.n.01')\",\n",
       " \"Synset('loomne sööt.n.01')\",\n",
       " \"Synset('kalajahu.n.01')\",\n",
       " \"Synset('loomajahu.n.01')\",\n",
       " \"Synset('verejahu.n.01')\",\n",
       " \"Synset('rohukuivis.n.01')\",\n",
       " \"Synset('mahlakas sööt.n.01')\",\n",
       " \"Synset('silo.n.01')\",\n",
       " \"Synset('märgsilo.n.01')\",\n",
       " \"Synset('kuivsilo.n.01')\",\n",
       " \"Synset('mesikasilo.n.01')\",\n",
       " \"Synset('kuivsööt.n.01')\",\n",
       " \"Synset('rohujahu.n.01')\",\n",
       " \"Synset('elussööt.n.01')\",\n",
       " \"Synset('haljassööt.n.01')\",\n",
       " \"Synset('rohusööt.n.01')\",\n",
       " \"Synset('kalasööt.n.01')\",\n",
       " \"Synset('õngesööt.n.01')\",\n",
       " \"Synset('koresööt.n.01')\"]"
      ]
     },
     "execution_count": 54,
     "metadata": {},
     "output_type": "execute_result"
    }
   ],
   "source": [
    "toidud[:20]"
   ]
  },
  {
   "cell_type": "code",
   "execution_count": 55,
   "metadata": {
    "slideshow": {
     "slide_type": "slide"
    }
   },
   "outputs": [
    {
     "data": {
      "text/plain": [
       "1616"
      ]
     },
     "execution_count": 55,
     "metadata": {},
     "output_type": "execute_result"
    }
   ],
   "source": [
    "len(toidud)"
   ]
  },
  {
   "cell_type": "code",
   "execution_count": 56,
   "metadata": {
    "slideshow": {
     "slide_type": "fragment"
    }
   },
   "outputs": [
    {
     "data": {
      "text/plain": [
       "['kohupiimakotlett', 'sõrnik']"
      ]
     },
     "execution_count": 56,
     "metadata": {},
     "output_type": "execute_result"
    }
   ],
   "source": [
    "toidud[1000].lemmas"
   ]
  },
  {
   "cell_type": "markdown",
   "metadata": {
    "slideshow": {
     "slide_type": "slide"
    }
   },
   "source": [
    "<img src=\"pildid/välised.png\">"
   ]
  },
  {
   "cell_type": "markdown",
   "metadata": {
    "slideshow": {
     "slide_type": "slide"
    }
   },
   "source": [
    "<img src=\"pildid/ressursid1.png\">"
   ]
  },
  {
   "cell_type": "markdown",
   "metadata": {
    "slideshow": {
     "slide_type": "slide"
    }
   },
   "source": [
    "<img src=\"pildid/vahe.png\">"
   ]
  }
 ],
 "metadata": {
  "celltoolbar": "Slideshow",
  "kernelspec": {
   "display_name": "Python [conda env:estnltk] *",
   "language": "python",
   "name": "conda-env-estnltk-py"
  },
  "language_info": {
   "codemirror_mode": {
    "name": "ipython",
    "version": 3
   },
   "file_extension": ".py",
   "mimetype": "text/x-python",
   "name": "python",
   "nbconvert_exporter": "python",
   "pygments_lexer": "ipython3",
   "version": "3.6.12"
  }
 },
 "nbformat": 4,
 "nbformat_minor": 4
}
