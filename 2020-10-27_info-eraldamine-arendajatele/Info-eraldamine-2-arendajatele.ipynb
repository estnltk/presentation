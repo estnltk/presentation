{
 "cells": [
  {
   "cell_type": "markdown",
   "metadata": {
    "slideshow": {
     "slide_type": "skip"
    }
   },
   "source": [
    "Use [RISE](https://github.com/damianavila/RISE) to display the slides.\n",
    "\n",
    "```bash\n",
    "pip install RISE\n",
    "```"
   ]
  },
  {
   "cell_type": "markdown",
   "metadata": {
    "slideshow": {
     "slide_type": "slide"
    }
   },
   "source": [
    "<H1 style=\"text-align: center;\">\n",
    "Tekstitöötluse põhietapid\n",
    "</H1>\n",
    "\n",
    "<H4 style=\"text-align: center;\">\n",
    "Dage Särg\n",
    "</H4>\n",
    "\n",
    "<H4 style=\"text-align: center;\">\n",
    "Automaatne info eraldamine eestikeelsest tekstist. 27.10.2020\n",
    "</H4>\n",
    "\n",
    "<H4 style=\"text-align: center;\">\n",
    "Notebook colabis: https://tinyurl.com/info-eraldus-2\n",
    "</H4>"
   ]
  },
  {
   "cell_type": "markdown",
   "metadata": {
    "slideshow": {
     "slide_type": "slide"
    }
   },
   "source": [
    "<img src=\"pildid/põhietapid.png\">"
   ]
  },
  {
   "cell_type": "markdown",
   "metadata": {
    "slideshow": {
     "slide_type": "slide"
    }
   },
   "source": [
    "<img src=\"pildid/seg2.png\">"
   ]
  },
  {
   "cell_type": "markdown",
   "metadata": {
    "slideshow": {
     "slide_type": "slide"
    }
   },
   "source": [
    "## 1. Teksti segmenteerimine"
   ]
  },
  {
   "cell_type": "code",
   "execution_count": null,
   "metadata": {
    "slideshow": {
     "slide_type": "fragment"
    }
   },
   "outputs": [],
   "source": [
    "from estnltk import Text\n",
    "# Teksti töötlemiseks peame tegema stringi Text objektiks\n",
    "text = Text(\"Festivalil osales üle 30 000 muusikahuvilise.\")\n",
    "text"
   ]
  },
  {
   "cell_type": "code",
   "execution_count": null,
   "metadata": {
    "slideshow": {
     "slide_type": "slide"
    }
   },
   "outputs": [],
   "source": [
    "# tag_layer() meetod märgib peale standardsed analüüsikihid,\n",
    "# mida on vaja pea kõigi keeletöötlusülesannete juures\n",
    "text.tag_layer()"
   ]
  },
  {
   "cell_type": "code",
   "execution_count": null,
   "metadata": {
    "slideshow": {
     "slide_type": "slide"
    }
   },
   "outputs": [],
   "source": [
    "text.text"
   ]
  },
  {
   "cell_type": "code",
   "execution_count": null,
   "metadata": {
    "slideshow": {
     "slide_type": "fragment"
    }
   },
   "outputs": [],
   "source": [
    "# Tokens e sõned - mitte alati lingvistiliselt motiveeritud\n",
    "text.tokens"
   ]
  },
  {
   "cell_type": "code",
   "execution_count": null,
   "metadata": {
    "slideshow": {
     "slide_type": "slide"
    }
   },
   "outputs": [],
   "source": [
    "# Words e sõnad - mõned tokenid ühendatakse edasiseks töötluseks kokku\n",
    "text.words"
   ]
  },
  {
   "cell_type": "markdown",
   "metadata": {
    "slideshow": {
     "slide_type": "slide"
    }
   },
   "source": [
    "<img src=\"pildid/seg3.png\">"
   ]
  },
  {
   "cell_type": "code",
   "execution_count": null,
   "metadata": {
    "slideshow": {
     "slide_type": "slide"
    }
   },
   "outputs": [],
   "source": [
    "# On võimalik märgendada ka osalauseid\n",
    "text = Text('Nendel, kes minu ja Oudekki kaotusele loodavad, \\\n",
    "on ettekujutus, et rahval polegi hääli.')\n",
    "\n",
    "text.tag_layer(['clauses'])\n",
    "text.clauses"
   ]
  },
  {
   "cell_type": "markdown",
   "metadata": {
    "slideshow": {
     "slide_type": "slide"
    }
   },
   "source": [
    "<img src=\"pildid/seg4.png\">"
   ]
  },
  {
   "cell_type": "code",
   "execution_count": null,
   "metadata": {
    "slideshow": {
     "slide_type": "slide"
    }
   },
   "outputs": [],
   "source": [
    "# Laused - punkt ei toimi alati eraldajana\n",
    "text = Text('Tartu Rattaralli toimub 29. mail 2020. \\\n",
    "Tartu Rattaralli stardi- ja finišipaik \\\n",
    "on traditsiooniliselt Tartu kesklinnas, Turu tänaval.')\n",
    "text.tag_layer()\n",
    "text.sentences"
   ]
  },
  {
   "cell_type": "code",
   "execution_count": null,
   "metadata": {
    "slideshow": {
     "slide_type": "slide"
    }
   },
   "outputs": [],
   "source": [
    "# Tekst koosneb lausetest, mis koosnevad omakorda sõnadest\n",
    "for sentence in text.sentences:\n",
    "    print(' Lause: ', sentence.enclosing_text)\n",
    "    for word in sentence:\n",
    "        # Väljastame sõna ja sõnaliigi\n",
    "        print( word.text, word.morph_analysis.partofspeech[0] )\n",
    "    print()"
   ]
  },
  {
   "cell_type": "markdown",
   "metadata": {
    "slideshow": {
     "slide_type": "slide"
    }
   },
   "source": [
    "## 2. Lemmatiseerimine, morfoloogiline analüüs & ühestamine"
   ]
  },
  {
   "cell_type": "markdown",
   "metadata": {
    "slideshow": {
     "slide_type": "fragment"
    }
   },
   "source": [
    "<img src=\"pildid/oad.png\">"
   ]
  },
  {
   "cell_type": "code",
   "execution_count": null,
   "metadata": {
    "slideshow": {
     "slide_type": "slide"
    }
   },
   "outputs": [],
   "source": [
    "# Morf analüüs eesti keele puhul baassamm \n",
    "t = Text('Mida ubadest teha? Oad võib salatisse panna.').tag_layer()\n",
    "t.lemma"
   ]
  },
  {
   "cell_type": "markdown",
   "metadata": {
    "slideshow": {
     "slide_type": "slide"
    }
   },
   "source": [
    "<img src=\"pildid/k2rbes.png\">"
   ]
  },
  {
   "cell_type": "markdown",
   "metadata": {
    "slideshow": {
     "slide_type": "slide"
    }
   },
   "source": [
    "<img src=\"pildid/morf1.png\">"
   ]
  },
  {
   "cell_type": "markdown",
   "metadata": {
    "slideshow": {
     "slide_type": "slide"
    }
   },
   "source": [
    "<img src=\"pildid/morf2.png\">"
   ]
  },
  {
   "cell_type": "code",
   "execution_count": null,
   "metadata": {
    "slideshow": {
     "slide_type": "slide"
    }
   },
   "outputs": [],
   "source": [
    "# Morf analüüs eesti keele puhul baassamm \n",
    "t = Text('Mida ubadest teha? Oad võib salatisse panna.').tag_layer()\n",
    "t.morph_analysis"
   ]
  },
  {
   "cell_type": "code",
   "execution_count": null,
   "metadata": {
    "slideshow": {
     "slide_type": "slide"
    }
   },
   "outputs": [],
   "source": [
    "# Võime vaadata ka vaid parajasti huvitavaid atribuute, mitte kogu analüüsi\n",
    "t.morph_analysis['text', 'lemma', 'partofspeech']"
   ]
  },
  {
   "cell_type": "markdown",
   "metadata": {
    "slideshow": {
     "slide_type": "slide"
    }
   },
   "source": [
    "#### Näide: leiame kõik tekstis olevad nimisõnad"
   ]
  },
  {
   "cell_type": "code",
   "execution_count": null,
   "metadata": {
    "slideshow": {
     "slide_type": "fragment"
    }
   },
   "outputs": [],
   "source": [
    "my_text = Text('Nagu nimigi reedab, on nurgasaag kõige \\\n",
    "tõhusam tööriist erinevate puitdetailide lõikamiseks, \\\n",
    "kus eesmärgiks on saavutada täpne lõikenurk ning oluline on \\\n",
    "lõikenurga seadistamise võimalus. Näiteks pildiraamide \\\n",
    "meisterdamisel, kus on oluline, et detailide lõikenurgad \\\n",
    "oleksid kõik täpselt 45 kraadi. Sellisel juhul on nurgasaag \\\n",
    "täiuslikuks tööriistaks, sest tagab täpsuse ja lõike korratavuse. \\\n",
    "Üldiselt on valdav osa nurgasaage seadistatavad 45-kraadise \\\n",
    "lõikenurga alla vähemalt ühes suunas. Lisaks võimaldavad mõned \\\n",
    "saed veel ka saetera kaldenurga seadistamist, mis tuleb kasuks \\\n",
    "keerukamate detailide lõikamisel. Nurgasaag on väga tõhus ka \\\n",
    "kitsamate, kuni 30 cm laiuste puulaudade või muude puitdetailide \\\n",
    "ristlõigete tegemiseks ehk järkamiseks, mida tuleb palju ette näiteks \\\n",
    "puitkonstruktsioonide ehitamisel või ka näiteks terrassilaudade \\\n",
    "või puitparketi paigaldamisel.')\n",
    "my_text.tag_layer()"
   ]
  },
  {
   "cell_type": "code",
   "execution_count": null,
   "metadata": {
    "slideshow": {
     "slide_type": "slide"
    }
   },
   "outputs": [],
   "source": [
    "noun_lemmas = []\n",
    "for lemmas, postags in zip(my_text.lemma, my_text.partofspeech):\n",
    "    if 'S' in postags: # text.lemma ja partofspeech on listid, kuna analüüse võib olla mitu\n",
    "        noun_lemmas += lemmas\n",
    "noun_lemmas  \n",
    "\n",
    "from collections import Counter\n",
    "Counter(noun_lemmas).most_common()"
   ]
  },
  {
   "cell_type": "markdown",
   "metadata": {
    "slideshow": {
     "slide_type": "slide"
    }
   },
   "source": [
    "### Ülesanne 1. Leidke eelnevast tekstist kõik da-vormis verbi sisaldavad laused"
   ]
  },
  {
   "cell_type": "markdown",
   "metadata": {
    "slideshow": {
     "slide_type": "slide"
    }
   },
   "source": [
    "#### Ülesande 1 lahendus: leiame kõik infinitiivset verbi sisaldavad laused"
   ]
  },
  {
   "cell_type": "code",
   "execution_count": null,
   "metadata": {
    "slideshow": {
     "slide_type": "fragment"
    }
   },
   "outputs": [],
   "source": [
    "infinitive_sentences = []\n",
    "for sent in my_text.sentences: # vaatame teksti lause kaupa\n",
    "    for form in sent.form: # vaatame läbi kõik lause sõnade vormiinfod\n",
    "        if 'da' in form:\n",
    "            a = sent.enclosing_text # lause tekst stringina\n",
    "            infinitive_sentences.append(a)\n",
    "            break\n",
    "infinitive_sentences"
   ]
  },
  {
   "cell_type": "markdown",
   "metadata": {
    "slideshow": {
     "slide_type": "slide"
    }
   },
   "source": [
    "### 2a. Morfoloogilise analüüsi parameetrite muutmine\n",
    "\n",
    "### Morfoloogiline analüsaator vaikimisi:\n",
    "#### 1. Leiab reegli+sõnastikupõhiselt kõik võimalikud analüüsivariandid kõigile sõnadele\n",
    "#### 2. Oletab analüüsivariandid sõnadele, mida sõnastiku abil analüüsida ei saanud\n",
    "#### 3. Teostab ühestamise - eemaldab konteksti sobimatud variandid"
   ]
  },
  {
   "cell_type": "code",
   "execution_count": null,
   "metadata": {
    "slideshow": {
     "slide_type": "slide"
    }
   },
   "outputs": [],
   "source": [
    "# Näide koos oletamisega - analüüsitakse ära kõik \"sõnad\"\n",
    "t = Text(\"Naiste teksapüksid Guess Jeans W 29/32 F0607421_Hali\").tag_layer()\n",
    "t.morph_analysis"
   ]
  },
  {
   "cell_type": "code",
   "execution_count": null,
   "metadata": {
    "slideshow": {
     "slide_type": "slide"
    }
   },
   "outputs": [],
   "source": [
    "# Morfanalüsaatori parameetrite muutmiseks peame kasutama resolverit\n",
    "from estnltk.resolve_layer_dag import make_resolver\n",
    "\n",
    "resolver = make_resolver(\n",
    "                 disambiguate=False, # ilma oletamiseta ei saa teostada ka ühestamist\n",
    "                 guess=False, # keelame oletamise\n",
    "                 propername=False, # ilma oletamiseta ei saa teostada ka pärisnimeanalüüsi\n",
    "                 phonetic=False,\n",
    "                 compound=True)"
   ]
  },
  {
   "cell_type": "code",
   "execution_count": null,
   "metadata": {
    "slideshow": {
     "slide_type": "slide"
    }
   },
   "outputs": [],
   "source": [
    "# Näide ilma oletamiseta - analüüsitakse vaid päris sõnad, numbrid, lühendid\n",
    "t = Text(\"Naiste teksapüksid Guess Jeans W 29/32 F0607421_Hali\").tag_layer(resolver = resolver)\n",
    "t.morph_analysis"
   ]
  },
  {
   "cell_type": "code",
   "execution_count": null,
   "metadata": {
    "slideshow": {
     "slide_type": "slide"
    }
   },
   "outputs": [],
   "source": [
    "# Ühestajal ei ole alati õigus - vahel tahaks kustutatud variante ka\n",
    "t = Text('Mees oli kärbes.').tag_layer()\n",
    "t.morph_analysis"
   ]
  },
  {
   "cell_type": "code",
   "execution_count": null,
   "metadata": {
    "slideshow": {
     "slide_type": "slide"
    }
   },
   "outputs": [],
   "source": [
    "# Morf analüüs ilma ühestamiseta - saame kätte ka õige variandi \n",
    "text = Text(\"Mees oli kärbes.\")\n",
    "text.tag_layer(resolver=resolver)['morph_analysis']"
   ]
  },
  {
   "cell_type": "markdown",
   "metadata": {
    "slideshow": {
     "slide_type": "slide"
    }
   },
   "source": [
    "### 2b. Korpuspõhine morfoloogiline analüüs & ühestamine\n",
    "\n",
    "#### Morfoloogiline analüsaator vaikimisi arvestab ühestamisel kontekstina üht lauset\n",
    "#### Tegelikkus:\n",
    " * tihti kehtib põhimõte \"üks tekst, üks tähendus\"\n",
    " * laiemat konteksti arvestades esinevad sõnad eri vormides ning selle põhjal saab kätte algvormi"
   ]
  },
  {
   "cell_type": "code",
   "execution_count": null,
   "metadata": {
    "slideshow": {
     "slide_type": "slide"
    }
   },
   "outputs": [],
   "source": [
    "# Näide - lausepõhine ühestamine\n",
    "corpus_texts = ['Esimesele kohale tuleb Jänes, kuigi tema \\ \n",
    "                punktide summa pole kõrgeim.',\n",
    "                'Lõpparvestuses läks Konnale esimene koht. Teise koha sai \\\n",
    "                seekord Jänes. Uus võistlus toimub 2. mail.', \\\n",
    "                'Konn paistis silma suurima punktide summaga. \\ \n",
    "                Uue võistluse toimumisajaks on 2. mai.']"
   ]
  },
  {
   "cell_type": "code",
   "execution_count": null,
   "metadata": {
    "slideshow": {
     "slide_type": "slide"
    }
   },
   "outputs": [],
   "source": [
    "corpus = [Text(t).tag_layer(['morph_analysis']) for t in corpus_texts]\n",
    "corpus"
   ]
  },
  {
   "cell_type": "code",
   "execution_count": null,
   "metadata": {
    "slideshow": {
     "slide_type": "slide"
    }
   },
   "outputs": [],
   "source": [
    "for text in corpus:\n",
    "    print(text.text)\n",
    "    # Trükime välja mitmeseks jäänud sõnade analüüsid \n",
    "    # (ainult lemma, sõnaliigi ja vorminimetuse)\n",
    "    for word in text.morph_analysis:\n",
    "        if len(word.annotations) > 1:\n",
    "            for a in word.annotations:\n",
    "                print(word.text, '=>',(a.lemma, a.partofspeech, a.form))\n",
    "    print()"
   ]
  },
  {
   "cell_type": "code",
   "execution_count": null,
   "metadata": {
    "slideshow": {
     "slide_type": "slide"
    }
   },
   "outputs": [],
   "source": [
    "# Korpuspõhine ühestamine\n",
    "from estnltk.taggers import VabamorfCorpusTagger\n",
    "\n",
    "# Loome tagger'i ning määrame selle lisatava kihi:\n",
    "vm_corpus_tagger = VabamorfCorpusTagger(output_layer='morph_with_cb_disamb')\n",
    "\n",
    "vm_corpus_tagger.tag(corpus)"
   ]
  },
  {
   "cell_type": "code",
   "execution_count": null,
   "metadata": {
    "slideshow": {
     "slide_type": "slide"
    }
   },
   "outputs": [],
   "source": [
    "for text in corpus:\n",
    "    print(text.text)\n",
    "    # Trükime välja mitmeseks jäänud sõnade analüüsid \n",
    "    # (ainult lemma, sõnaliigi ja vorminimetuse)\n",
    "    for word in text.morph_with_cb_disamb:\n",
    "        if len(word.annotations) > 1:\n",
    "            for a in word.annotations:\n",
    "                print(word.text, '=>',(a.lemma, a.partofspeech, a.form))\n",
    "    print()"
   ]
  },
  {
   "cell_type": "markdown",
   "metadata": {
    "slideshow": {
     "slide_type": "slide"
    }
   },
   "source": [
    "### 2c. Morfoloogiline analüüs kasutajasõnastiku abil\n",
    "\n",
    "#### Kui teame, et meie tekstis esinevad püsivalt mingid kirjakeelest erinevad sõnad/vormid, saame nende analüüsi kehtestada kasutajasõnastiku abil."
   ]
  },
  {
   "cell_type": "code",
   "execution_count": null,
   "metadata": {
    "slideshow": {
     "slide_type": "slide"
    }
   },
   "outputs": [],
   "source": [
    "# Tavapärasel morf analüüsil saab sõna \"pand\" nimisõna analüüsi ning \"talu\" tegusõna\n",
    "t = Text(\"ma küll ei pand talu põlema\").tag_layer()\n",
    "t.morph_analysis"
   ]
  },
  {
   "cell_type": "markdown",
   "metadata": {
    "slideshow": {
     "slide_type": "slide"
    }
   },
   "source": [
    "<img src=\"pildid/pand.png\">"
   ]
  },
  {
   "cell_type": "code",
   "execution_count": null,
   "metadata": {
    "slideshow": {
     "slide_type": "slide"
    }
   },
   "outputs": [],
   "source": [
    "t = Text(\"ma küll ei pand talu põlema\").tag_layer(resolver=resolver)\n",
    "t.morph_analysis"
   ]
  },
  {
   "cell_type": "code",
   "execution_count": null,
   "metadata": {
    "slideshow": {
     "slide_type": "slide"
    }
   },
   "outputs": [],
   "source": [
    "from estnltk.taggers import UserDictTagger\n",
    "userdict = UserDictTagger(ignore_case=True)  # vaikimisi suurtähetundlik\n",
    "# Lisame oma tundmatu sõna kasutajasõnastikku\n",
    "userdict.add_word('pand', {'root': 'pane', 'partofspeech': 'V', 'form': 'nud', 'ending': 'nud'})\n",
    "userdict.retag(t)\n",
    "t.morph_analysis"
   ]
  },
  {
   "cell_type": "code",
   "execution_count": null,
   "metadata": {
    "slideshow": {
     "slide_type": "slide"
    }
   },
   "outputs": [],
   "source": [
    "# Teostame nüüd ühestamise korrektsetel analüüsidel\n",
    "from estnltk.taggers import VabamorfDisambiguator\n",
    "\n",
    "vm_disambiguator = VabamorfDisambiguator()\n",
    "vm_disambiguator.retag(t)\n",
    "t.morph_analysis"
   ]
  },
  {
   "cell_type": "markdown",
   "metadata": {
    "slideshow": {
     "slide_type": "slide"
    }
   },
   "source": [
    "### 4. Süntaktiline analüüs"
   ]
  },
  {
   "cell_type": "markdown",
   "metadata": {
    "slideshow": {
     "slide_type": "slide"
    }
   },
   "source": [
    "<img src=\"pildid/synt1.png\">"
   ]
  },
  {
   "cell_type": "markdown",
   "metadata": {
    "slideshow": {
     "slide_type": "slide"
    }
   },
   "source": [
    "<img src=\"pildid/synt2.png\">"
   ]
  },
  {
   "cell_type": "markdown",
   "metadata": {
    "slideshow": {
     "slide_type": "slide"
    }
   },
   "source": [
    "<img src=\"pildid/synt3.png\">"
   ]
  },
  {
   "cell_type": "markdown",
   "metadata": {
    "slideshow": {
     "slide_type": "slide"
    }
   },
   "source": [
    "<img src=\"pildid/synt4.png\">"
   ]
  },
  {
   "cell_type": "markdown",
   "metadata": {
    "slideshow": {
     "slide_type": "slide"
    }
   },
   "source": [
    "<img src=\"pildid/synt5.png\">"
   ]
  },
  {
   "cell_type": "markdown",
   "metadata": {
    "slideshow": {
     "slide_type": "slide"
    }
   },
   "source": [
    "<img src=\"pildid/synt6.png\">"
   ]
  },
  {
   "cell_type": "markdown",
   "metadata": {
    "slideshow": {
     "slide_type": "slide"
    }
   },
   "source": [
    "## Märgendajad e taggerid\n",
    "#### võimaldavad vajadusel lisada kihte, mida läheb vaja mingis konkreetses analüüsitöövoos"
   ]
  },
  {
   "cell_type": "code",
   "execution_count": null,
   "metadata": {
    "slideshow": {
     "slide_type": "slide"
    }
   },
   "outputs": [],
   "source": [
    "# süntaksi tagger\n",
    "from estnltk.taggers import MaltParserTagger\n",
    "maltparser_tagger = MaltParserTagger()\n",
    "maltparser_tagger"
   ]
  },
  {
   "cell_type": "code",
   "execution_count": null,
   "metadata": {
    "slideshow": {
     "slide_type": "slide"
    }
   },
   "outputs": [],
   "source": [
    "from estnltk.taggers import ConllMorphTagger\n",
    "conllmorph_tagger = ConllMorphTagger()\n",
    "conllmorph_tagger"
   ]
  },
  {
   "cell_type": "code",
   "execution_count": null,
   "metadata": {
    "slideshow": {
     "slide_type": "slide"
    }
   },
   "outputs": [],
   "source": [
    "# Lisame default_layers kihid\n",
    "text = Text('Poe ees õlut joonud mehed häirisid kohalikke, aga ükskõikne \\ \n",
    "politsei ei teinud midagi.').tag_layer(['sentences', 'words', 'morph_extended'])\n",
    "\n",
    "# Lisame conll_morph kihi\n",
    "# Ei tööta colab'is ega teie arvutis, kui te pole installinud VislCG3\n",
    "# Võimalik installida siit https://visl.sdu.dk/cg3/chunked/installation.html,\n",
    "# aga plaanis on sellest sõltuvusest vabaneda. Hetkel on süntaksi töövoog\n",
    "# EstNLTK-s veel väga savijalgadel.\n",
    "conllmorph_tagger.tag(text)"
   ]
  },
  {
   "cell_type": "code",
   "execution_count": null,
   "metadata": {
    "slideshow": {
     "slide_type": "slide"
    }
   },
   "outputs": [],
   "source": [
    "# Lõpuks MaltParseri kiht\n",
    "# See ilma VislCG3-ta samuti ei tööta\n",
    "maltparser_tagger.tag(text)\n",
    "text.maltparser_syntax"
   ]
  },
  {
   "cell_type": "markdown",
   "metadata": {
    "slideshow": {
     "slide_type": "slide"
    }
   },
   "source": [
    "## 5. Semantiline analüüs"
   ]
  },
  {
   "cell_type": "markdown",
   "metadata": {
    "slideshow": {
     "slide_type": "slide"
    }
   },
   "source": [
    "### Ajaväljendite tuvastamine"
   ]
  },
  {
   "cell_type": "code",
   "execution_count": null,
   "metadata": {
    "slideshow": {
     "slide_type": "fragment"
    }
   },
   "outputs": [],
   "source": [
    "text3 = Text('EKA sisearhitektuuri osakond ja RMK \\\n",
    "avavad neljapäeval kell 16.00 \\\n",
    "RMK Tallinna kontoris (Toompuiestee 24) näituse')"
   ]
  },
  {
   "cell_type": "code",
   "execution_count": null,
   "metadata": {
    "slideshow": {
     "slide_type": "slide"
    }
   },
   "outputs": [],
   "source": [
    "# Märgendame ajaväljendid\n",
    "from estnltk.taggers import TimexTagger\n",
    "\n",
    "tagger = TimexTagger()\n",
    "text3.tag_layer()\n",
    "tagger.tag( text3 )"
   ]
  },
  {
   "cell_type": "code",
   "execution_count": null,
   "metadata": {
    "slideshow": {
     "slide_type": "slide"
    }
   },
   "outputs": [],
   "source": [
    "text3.timexes"
   ]
  },
  {
   "cell_type": "code",
   "execution_count": null,
   "metadata": {
    "slideshow": {
     "slide_type": "slide"
    }
   },
   "outputs": [],
   "source": [
    "# Soovi korral võime määratleda teksti loomise aja\n",
    "text3 = Text('EKA sisearhitektuuri osakond ja RMK \\\n",
    "avavad neljapäeval kell 16.00 \\\n",
    "RMK Tallinna kontoris (Toompuiestee 24) näituse').tag_layer()\n",
    "text3.meta['document_creation_time'] = '2019-10-27'\n",
    "tagger.tag(text3)"
   ]
  },
  {
   "cell_type": "code",
   "execution_count": null,
   "metadata": {
    "slideshow": {
     "slide_type": "slide"
    }
   },
   "outputs": [],
   "source": [
    "text3.timexes"
   ]
  },
  {
   "cell_type": "markdown",
   "metadata": {
    "slideshow": {
     "slide_type": "slide"
    }
   },
   "source": [
    "### Aadresside tuvastamine"
   ]
  },
  {
   "cell_type": "code",
   "execution_count": null,
   "metadata": {
    "slideshow": {
     "slide_type": "fragment"
    }
   },
   "outputs": [],
   "source": [
    "# Toimub kahes etapis\n",
    "from estnltk.taggers import AddressPartTagger, AddressGrammarTagger\n",
    "address_token_tagger = AddressPartTagger(output_layer='address_tokens')\n",
    "address_tagger = AddressGrammarTagger(output_layer='addresses', \n",
    "                                      input_layer='address_tokens')"
   ]
  },
  {
   "cell_type": "code",
   "execution_count": null,
   "metadata": {
    "slideshow": {
     "slide_type": "slide"
    }
   },
   "outputs": [],
   "source": [
    "text = Text(\"Ootame teid 2. novembril külla \\\n",
    "aadressil Aia 6, Tartu.\").tag_layer(['words'])"
   ]
  },
  {
   "cell_type": "code",
   "execution_count": null,
   "metadata": {
    "slideshow": {
     "slide_type": "fragment"
    }
   },
   "outputs": [],
   "source": [
    "# Esiteks märgime peale võimalikud aadresside komponendid\n",
    "address_token_tagger.tag(text)[\"address_tokens\"]"
   ]
  },
  {
   "cell_type": "code",
   "execution_count": null,
   "metadata": {
    "slideshow": {
     "slide_type": "slide"
    }
   },
   "outputs": [],
   "source": [
    "# Teiseks leiame aadressid sealt, kus sobivad komponendid järjest esinevad\n",
    "address_tagger.tag(text)['addresses']"
   ]
  },
  {
   "cell_type": "markdown",
   "metadata": {
    "slideshow": {
     "slide_type": "slide"
    }
   },
   "source": [
    "<img src=\"pildid/verb.png\">"
   ]
  },
  {
   "cell_type": "code",
   "execution_count": null,
   "metadata": {
    "slideshow": {
     "slide_type": "slide"
    }
   },
   "outputs": [],
   "source": [
    "from estnltk.taggers import VerbChainDetector\n",
    "vc_detector = VerbChainDetector()"
   ]
  },
  {
   "cell_type": "code",
   "execution_count": null,
   "metadata": {
    "slideshow": {
     "slide_type": "slide"
    }
   },
   "outputs": [],
   "source": [
    "from estnltk import Text\n",
    "# Loome teksti\n",
    "text = Text('Kas Juku alustas kodutööga? Minuteada ei alustanud.')\n",
    "# Lisame verbiahelate tuvastamiseks vajalikud sisendkihid\n",
    "text.tag_layer(['words', 'sentences', 'morph_analysis', 'clauses'])"
   ]
  },
  {
   "cell_type": "code",
   "execution_count": null,
   "metadata": {
    "slideshow": {
     "slide_type": "slide"
    }
   },
   "outputs": [],
   "source": [
    "# Tuvastame verbiahelad\n",
    "vc_detector.tag( text )\n",
    "\n",
    "# Väljastame verbiahelad (vastavad tekstid)\n",
    "text.verb_chains"
   ]
  },
  {
   "cell_type": "markdown",
   "metadata": {
    "slideshow": {
     "slide_type": "slide"
    }
   },
   "source": [
    "## 4. Oma märgendajate kirjutamine"
   ]
  },
  {
   "cell_type": "markdown",
   "metadata": {
    "slideshow": {
     "slide_type": "slide"
    }
   },
   "source": [
    "### PhraseTagger\n",
    "#### võimaldab märgendada kihis järjest esinevaid elemente mingi atribuudi alusel\n",
    "\n",
    "Proovime kirjutada taggerit, mis märgendaks lihtsaid nimisõnafraase."
   ]
  },
  {
   "cell_type": "code",
   "execution_count": null,
   "metadata": {
    "slideshow": {
     "slide_type": "fragment"
    }
   },
   "outputs": [],
   "source": [
    "from estnltk.taggers import PhraseTagger\n",
    "\n",
    "# Kasutame fraaside esmaseks määratlemiseks sõnaliike\n",
    "phrase_list = [\n",
    "               { '_phrase_': ('A', 'S')},\n",
    "               { '_phrase_':  ('C', 'S')},\n",
    "               { '_phrase_':  ('U', 'S')}\n",
    "              ]"
   ]
  },
  {
   "cell_type": "code",
   "execution_count": null,
   "metadata": {
    "slideshow": {
     "slide_type": "slide"
    }
   },
   "outputs": [],
   "source": [
    "# Defineerime taggeri, mis phrase_list muutujas olevaid fraasitüüpe märgendaks\n",
    "phrase_tagger = PhraseTagger(output_layer='noun_phrases',\n",
    "                      input_layer='morph_analysis',\n",
    "                      input_attribute='partofspeech',\n",
    "                      vocabulary=phrase_list,\n",
    "                      key='_phrase_')"
   ]
  },
  {
   "cell_type": "code",
   "execution_count": null,
   "metadata": {
    "slideshow": {
     "slide_type": "slide"
    }
   },
   "outputs": [],
   "source": [
    "# Rakendame kirjutatud taggerit morfanalüüsitud tekstile\n",
    "t = Text('Viimasedki pardid lendasid soojemale maale, \\\n",
    "kui jää läks liiga paksuks jõest toidu hankimiseks.').tag_layer()\n",
    "phrase_tagger.tag(t)"
   ]
  },
  {
   "cell_type": "code",
   "execution_count": null,
   "metadata": {
    "slideshow": {
     "slide_type": "slide"
    }
   },
   "outputs": [],
   "source": [
    "# Leiame nimisõnafraasid\n",
    "# Puuduvad algvormid\n",
    "# Paremate tulemuste jaoks peaks arvesse võtma rohkem kui sõnaliike\n",
    "t.noun_phrases"
   ]
  },
  {
   "cell_type": "code",
   "execution_count": null,
   "metadata": {
    "slideshow": {
     "slide_type": "slide"
    }
   },
   "outputs": [],
   "source": [
    "# Dekoraator võimaldab lisada oma uuele kihile atribuute - lisame lemmad\n",
    "def decorator(span, annotation):\n",
    "    annotation['lemmas'] = ' '.join([l[0] for l in span.lemma])\n",
    "    return True"
   ]
  },
  {
   "cell_type": "code",
   "execution_count": null,
   "metadata": {
    "slideshow": {
     "slide_type": "slide"
    }
   },
   "outputs": [],
   "source": [
    "# Uus phrase_tagger, mis paneb uude kihti ka fraasid algvormis\n",
    "phrase_tagger2 = PhraseTagger(output_layer='noun_phrases2',\n",
    "                      input_layer='morph_analysis',\n",
    "                      input_attribute='partofspeech',\n",
    "                      vocabulary=phrase_list,\n",
    "                      key='_phrase_',\n",
    "                      output_attributes = ['lemmas'],\n",
    "                      decorator = decorator)"
   ]
  },
  {
   "cell_type": "code",
   "execution_count": null,
   "metadata": {
    "slideshow": {
     "slide_type": "slide"
    }
   },
   "outputs": [],
   "source": [
    "# Olemas ilusad algvormis fraasid\n",
    "# Vaja oleks ka sõna vormiinfot arvestada\n",
    "phrase_tagger2.tag(t)\n",
    "t.noun_phrases2"
   ]
  },
  {
   "cell_type": "code",
   "execution_count": null,
   "metadata": {
    "slideshow": {
     "slide_type": "slide"
    }
   },
   "outputs": [],
   "source": [
    "# Täiendame dekoraatorit - arvestame ka vormide ühilduvust\n",
    "def decorator2(span, annotation):\n",
    "    annotation['lemmas'] = ' '.join([l[0] for l in span.lemma])\n",
    "    \n",
    "    ninataga_sg = ['sg ter', 'sg ab', 'sg kom', 'sg es']\n",
    "    ninataga_pl = ['pl ter', 'pl ab', 'pl kom', 'pl es']\n",
    "    # Omadussõna ja nimisõna samas vormis -> OK\n",
    "    if span[0].form == span[1].form:\n",
    "        return True\n",
    "    # Omadussõna ainsuse omastavas ja nimisõna 4 viimases käändes ainsuses -> OK\n",
    "    elif span[0].form[0] == 'sg g' and span[1].form[0] in ninataga_sg:\n",
    "        return True\n",
    "    # Omadussõna mitm omastavas ja nimisõna 4 viimases käändes mitm -> OK\n",
    "    elif span[0].form[0] == 'pl g' and span[1].form[0] in ninataga_pl:\n",
    "        return True\n",
    "    # Kõik muud juhud -> ei sobi fraas\n",
    "    else: \n",
    "        return False"
   ]
  },
  {
   "cell_type": "code",
   "execution_count": null,
   "metadata": {
    "slideshow": {
     "slide_type": "slide"
    }
   },
   "outputs": [],
   "source": [
    "phrase_tagger3 = PhraseTagger(output_layer='noun_phrases3',\n",
    "                      input_layer='morph_analysis',\n",
    "                      input_attribute='partofspeech',\n",
    "                      vocabulary=phrase_list,\n",
    "                      key='_phrase_',\n",
    "                      output_attributes = ['lemmas'],\n",
    "                      decorator = decorator2)"
   ]
  },
  {
   "cell_type": "code",
   "execution_count": null,
   "metadata": {
    "slideshow": {
     "slide_type": "slide"
    }
   },
   "outputs": [],
   "source": [
    "# Märgendame kolmanda nimisõnafraaside kihi\n",
    "phrase_tagger3.tag(t)"
   ]
  },
  {
   "cell_type": "code",
   "execution_count": null,
   "metadata": {
    "slideshow": {
     "slide_type": "slide"
    }
   },
   "outputs": [],
   "source": [
    "# Tulemused vastavad ootustele\n",
    " t.noun_phrases3"
   ]
  },
  {
   "cell_type": "code",
   "execution_count": null,
   "metadata": {
    "slideshow": {
     "slide_type": "slide"
    }
   },
   "outputs": [],
   "source": [
    "# Fraase on lihtne stringidena kätte saada\n",
    "for i in t.noun_phrases3:\n",
    "    print(i.lemmas)"
   ]
  },
  {
   "cell_type": "markdown",
   "metadata": {
    "slideshow": {
     "slide_type": "slide"
    }
   },
   "source": [
    "### Ülesanne 2. Leidke failist data/proverbs.txt, millised nimisõnafraasid esinevad kõige sagedamini eesti vanasõnades"
   ]
  },
  {
   "cell_type": "markdown",
   "metadata": {
    "slideshow": {
     "slide_type": "slide"
    }
   },
   "source": [
    "#### Ülesande 2 lahendus: kõige sagedasemad nimisõnafraasid eesti vanasõnades"
   ]
  },
  {
   "cell_type": "code",
   "execution_count": null,
   "metadata": {
    "slideshow": {
     "slide_type": "fragment"
    }
   },
   "outputs": [],
   "source": [
    "with open(\"data/proverbs.txt\", \"r\", encoding = 'utf8') as fin:\n",
    "    # Failis on iga vanasõna eraldi real - saame listi vanasõnadest\n",
    "    proverbs = fin.readlines()"
   ]
  },
  {
   "cell_type": "code",
   "execution_count": null,
   "metadata": {
    "slideshow": {
     "slide_type": "slide"
    }
   },
   "outputs": [],
   "source": [
    "from collections import Counter\n",
    "from tqdm import tqdm\n",
    "\n",
    "# Loendur fraaside kokkulugemiseks\n",
    "noun_phrases_counts = Counter()\n",
    "\n",
    "for text in tqdm(proverbs): # vaatame vanasõnade listi järjest läbi\n",
    "    t = Text(text).tag_layer() # teeme vanasõna Text objektiks ja analüüsime\n",
    "    phrase_tagger3.tag(t) # märgime peale nimisõnafraasid oma parima taggeriga\n",
    "    if len(t.noun_phrases3) > 0: \n",
    "        for p in t.noun_phrases3: # suurendame loendurit vastava fraasi kohal\n",
    "            noun_phrases_counts[p.lemmas] += 1"
   ]
  },
  {
   "cell_type": "code",
   "execution_count": null,
   "metadata": {
    "slideshow": {
     "slide_type": "slide"
    }
   },
   "outputs": [],
   "source": [
    "# Saamegi kätte sagedasemad nimisõnafraasid\n",
    "noun_phrases_counts.most_common(10)"
   ]
  },
  {
   "cell_type": "markdown",
   "metadata": {
    "slideshow": {
     "slide_type": "slide"
    }
   },
   "source": [
    "### Nimeüksuste tuvastamine (NER - Named Entity Recognition)\n",
    "\n",
    "EstNLTK sisaldab automaatset nimeüksuste tuvastajat. \n",
    "\n",
    "Programm võimaldab tuvastada 3 liiki nimeüksuseid:\n",
    "\n",
    "* isikunimesid ( lühend: PER );\n",
    "\n",
    "* asukohanimesid ( lühend: LOC );\n",
    "\n",
    "* organisatsiooninimesid ( lühend: ORG )"
   ]
  },
  {
   "cell_type": "code",
   "execution_count": null,
   "metadata": {
    "slideshow": {
     "slide_type": "slide"
    }
   },
   "outputs": [],
   "source": [
    "from estnltk.taggers import NerTagger\n",
    "ner_tagger = NerTagger()\n",
    "\n",
    "# Milliseid kihte ner_tagger vajab?\n",
    "ner_tagger.input_layers"
   ]
  },
  {
   "cell_type": "code",
   "execution_count": null,
   "metadata": {
    "slideshow": {
     "slide_type": "slide"
    }
   },
   "outputs": [],
   "source": [
    "from estnltk import Text\n",
    "# tekitame näidisteksti\n",
    "t = Text(''' Eesti President on Kersti Kaljulaid. Eesti Energia on \\ \n",
    "Eesti riigile kuuluv rahvusvaheline energiaettevõte. ''')\n",
    "\n",
    "# lisame tekstile vajamineva 'morph_analysis' kihi\n",
    "t.tag_layer('morph_analysis')\n",
    "\n",
    "# lisame nimeüksuste märgenduse\n",
    "ner_tagger.tag(t)"
   ]
  },
  {
   "cell_type": "code",
   "execution_count": null,
   "metadata": {
    "slideshow": {
     "slide_type": "slide"
    }
   },
   "outputs": [],
   "source": [
    "# väljastab tuvastatud nimeüksused\n",
    "t.ner"
   ]
  },
  {
   "cell_type": "markdown",
   "metadata": {
    "slideshow": {
     "slide_type": "slide"
    }
   },
   "source": [
    "### Oma nimeüksuste lisamine\n",
    "\n",
    "1) Leiame võimalikult suure hulga näiteid vastavast nimeüksusest\n",
    " \n",
    "2) Märgendame ümber olemasoleva korpuse - anname seal esinevatele vastavatele nimeüksustele soovitud märgendid\n",
    "\n",
    "3) Treenime nimeüksuste tuvastaja ümbermärgendatud korpuse peal\n",
    "\n",
    "4) Märgendame oma nimeüksusi"
   ]
  },
  {
   "cell_type": "markdown",
   "metadata": {
    "slideshow": {
     "slide_type": "slide"
    }
   },
   "source": [
    "### Oma nimeüksuste lisamine - kuidas luua leksikone?\n",
    "1) Spetsiifilised allikad - nt eesnimede loetelu, ametite loetelu\n",
    "\n",
    "2) Wordnet\n",
    "\n",
    "3) Suurel korpusel treenitud sõnavektorid - nt word2vec\n"
   ]
  },
  {
   "cell_type": "markdown",
   "metadata": {
    "slideshow": {
     "slide_type": "slide"
    }
   },
   "source": [
    "<img src=\"pildid/baas1.png\">"
   ]
  },
  {
   "cell_type": "markdown",
   "metadata": {
    "slideshow": {
     "slide_type": "slide"
    }
   },
   "source": [
    "<img src=\"pildid/baas2.png\">"
   ]
  },
  {
   "cell_type": "markdown",
   "metadata": {
    "slideshow": {
     "slide_type": "slide"
    }
   },
   "source": [
    "<img src=\"pildid/baas3.png\">"
   ]
  },
  {
   "cell_type": "markdown",
   "metadata": {
    "slideshow": {
     "slide_type": "slide"
    }
   },
   "source": [
    "<img src=\"pildid/baas7.png\">"
   ]
  },
  {
   "cell_type": "markdown",
   "metadata": {
    "slideshow": {
     "slide_type": "slide"
    }
   },
   "source": [
    "<img src=\"pildid/baas4.png\">"
   ]
  },
  {
   "cell_type": "code",
   "execution_count": null,
   "metadata": {
    "slideshow": {
     "slide_type": "slide"
    }
   },
   "outputs": [],
   "source": [
    "# Wordneti kasutamiseks tuleb importida vastav moodul ja luua Wordneti objekt:\n",
    "from estnltk.wordnet import Wordnet\n",
    "\n",
    "wn = Wordnet()\n",
    "toit = wn['toit']\n",
    "toit"
   ]
  },
  {
   "cell_type": "code",
   "execution_count": null,
   "metadata": {
    "slideshow": {
     "slide_type": "fragment"
    }
   },
   "outputs": [],
   "source": [
    "toit[0].definition"
   ]
  },
  {
   "cell_type": "code",
   "execution_count": null,
   "metadata": {
    "slideshow": {
     "slide_type": "fragment"
    }
   },
   "outputs": [],
   "source": [
    "toit[2].definition"
   ]
  },
  {
   "cell_type": "code",
   "execution_count": null,
   "metadata": {
    "slideshow": {
     "slide_type": "slide"
    }
   },
   "outputs": [],
   "source": [
    "toidud = toit[2].closure('hyponym')"
   ]
  },
  {
   "cell_type": "code",
   "execution_count": null,
   "metadata": {
    "slideshow": {
     "slide_type": "fragment"
    }
   },
   "outputs": [],
   "source": [
    "toidud[:20]"
   ]
  },
  {
   "cell_type": "code",
   "execution_count": null,
   "metadata": {
    "slideshow": {
     "slide_type": "slide"
    }
   },
   "outputs": [],
   "source": [
    "len(toidud)"
   ]
  },
  {
   "cell_type": "code",
   "execution_count": null,
   "metadata": {
    "slideshow": {
     "slide_type": "fragment"
    }
   },
   "outputs": [],
   "source": [
    "toidud[1000].lemmas"
   ]
  },
  {
   "cell_type": "markdown",
   "metadata": {
    "slideshow": {
     "slide_type": "slide"
    }
   },
   "source": [
    "<img src=\"pildid/välised.png\">"
   ]
  },
  {
   "cell_type": "markdown",
   "metadata": {
    "slideshow": {
     "slide_type": "slide"
    }
   },
   "source": [
    "<img src=\"pildid/ressursid1.png\">"
   ]
  },
  {
   "cell_type": "markdown",
   "metadata": {
    "slideshow": {
     "slide_type": "slide"
    }
   },
   "source": [
    "### Ülesanne 3. Kes on teksti peategelane?\n",
    "\n",
    "Koolituse materjalide hulgas on toodud üks artikkel portaalist Telegram - fail nimega 'data/telegram.txt'. Leidke, millist olendit on kõige enam selles tekstis mainitud. "
   ]
  },
  {
   "cell_type": "markdown",
   "metadata": {
    "slideshow": {
     "slide_type": "slide"
    }
   },
   "source": [
    "#### Ülesande 3 täpsustus:\n",
    "* leidke tekstist kõik nimisõnade lemmad\n",
    "* leidke wordnetist kõik olendeid tähistavad sõnad. Kasutage sünohulka wn.synset(\"olend.n.01\") - leidke selle closure() ehk kõik alamsünohulgad ning omakorda nende hulkade lemmad\n",
    "* kontrollige, millised tekstis esinenud nimisõnadest kuuluvad olendite hulka\n",
    "* leidke nendest sagedasim"
   ]
  },
  {
   "cell_type": "markdown",
   "metadata": {
    "slideshow": {
     "slide_type": "slide"
    }
   },
   "source": [
    "#### Ülesande 3 lahendus: leiame teksti peategelase"
   ]
  },
  {
   "cell_type": "code",
   "execution_count": null,
   "metadata": {
    "slideshow": {
     "slide_type": "fragment"
    }
   },
   "outputs": [],
   "source": [
    "from collections import Counter\n",
    "import pandas as pd\n",
    "\n",
    "# Kirjutame olendid faili, kuna nende leidmine võtab pisut aega (~5 min)\n",
    "with open('data/olendid.txt', 'w', encoding='utf-8') as f:\n",
    "    olend_synsets = wn['olend'][0].closure('hyponym')\n",
    "    for olend_synset in tqdm(olend_synsets):\n",
    "        for lemma in olend_synset.lemmas:\n",
    "            f.write(lemma + '\\n')"
   ]
  },
  {
   "cell_type": "code",
   "execution_count": null,
   "metadata": {
    "slideshow": {
     "slide_type": "slide"
    }
   },
   "outputs": [],
   "source": [
    "with open('data/telegram.txt', 'r', encoding='utf-8') as f:\n",
    "    text = Text(f.read())\n",
    "\n",
    "text.tag_layer()\n",
    "\n",
    "text_substantives = list()\n",
    "\n",
    "for analysis in text.morph_analysis:\n",
    "    pos_lemmas = zip(analysis.partofspeech, analysis.lemma)\n",
    "    for pos, lemma in pos_lemmas:\n",
    "        if pos == 'S':\n",
    "            text_substantives.append(lemma)\n",
    "\n",
    "text_substantives = Counter(text_substantives)"
   ]
  },
  {
   "cell_type": "code",
   "execution_count": null,
   "metadata": {
    "slideshow": {
     "slide_type": "slide"
    }
   },
   "outputs": [],
   "source": [
    "olend_lemmas = list()\n",
    "\n",
    "with open('data/olendid.txt', 'r', encoding='utf-8') as fin:\n",
    "    for line in fin.readlines():\n",
    "        olend_lemmas.append(line.strip())\n",
    "\n",
    "telegram_olendid = dict()\n",
    "\n",
    "for word, wordcount in text_substantives.items():\n",
    "    if word in olend_lemmas:\n",
    "        telegram_olendid[word] = wordcount\n",
    "        \n",
    "telegram_olendid = Counter(telegram_olendid)\n",
    "telegram_olendid.most_common(1)"
   ]
  },
  {
   "cell_type": "markdown",
   "metadata": {
    "slideshow": {
     "slide_type": "slide"
    }
   },
   "source": [
    "<img src=\"pildid/masin1.png\">"
   ]
  }
 ],
 "metadata": {
  "celltoolbar": "Slideshow",
  "kernelspec": {
   "display_name": "Python [conda env:estnltk] *",
   "language": "python",
   "name": "conda-env-estnltk-py"
  },
  "language_info": {
   "codemirror_mode": {
    "name": "ipython",
    "version": 3
   },
   "file_extension": ".py",
   "mimetype": "text/x-python",
   "name": "python",
   "nbconvert_exporter": "python",
   "pygments_lexer": "ipython3",
   "version": "3.6.12"
  }
 },
 "nbformat": 4,
 "nbformat_minor": 4
}
