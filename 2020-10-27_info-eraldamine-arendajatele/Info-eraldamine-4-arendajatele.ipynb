{
 "cells": [
  {
   "cell_type": "markdown",
   "metadata": {
    "slideshow": {
     "slide_type": "skip"
    }
   },
   "source": [
    "Use [RISE](https://github.com/damianavila/RISE) to display the slides.\n",
    "\n",
    "```bash\n",
    "pip install RISE\n",
    "```"
   ]
  },
  {
   "cell_type": "markdown",
   "metadata": {
    "slideshow": {
     "slide_type": "slide"
    }
   },
   "source": [
    "## Dokumentide vektoresitus\n",
    "\n",
    "#### Notebook colabis: https://tinyurl.com/info-eraldus-4"
   ]
  },
  {
   "cell_type": "code",
   "execution_count": null,
   "metadata": {
    "slideshow": {
     "slide_type": "slide"
    }
   },
   "outputs": [],
   "source": [
    "import csv\n",
    "\n",
    "# Loeme sisse näidisandmestiku\n",
    "texts = []\n",
    "with open(\"data/text_paragraphs.csv\", \"r\") as fin:\n",
    "    reader = csv.reader(fin)\n",
    "    for row in reader:\n",
    "        texts.append(row[0])\n",
    "texts[0]        "
   ]
  },
  {
   "cell_type": "code",
   "execution_count": null,
   "metadata": {
    "slideshow": {
     "slide_type": "slide"
    }
   },
   "outputs": [],
   "source": [
    "# Kasutame vektoresituse leidmiseks teeki sklearn.\n",
    "# Vajadusel installige oma kasutatavasse conda keskkonda käsuga \n",
    "# conda install scikit-learn\n",
    "from sklearn.feature_extraction.text import CountVectorizer, TfidfVectorizer\n",
    "\n",
    "vectorizer = CountVectorizer()"
   ]
  },
  {
   "cell_type": "code",
   "execution_count": null,
   "metadata": {
    "slideshow": {
     "slide_type": "slide"
    }
   },
   "outputs": [],
   "source": [
    "t = ['Kured söövad konni.', 'Konni söövad ka luiged ja söövad ka pardid.']\n",
    "matrix = vectorizer.fit_transform(t)"
   ]
  },
  {
   "cell_type": "code",
   "execution_count": null,
   "metadata": {
    "slideshow": {
     "slide_type": "fragment"
    }
   },
   "outputs": [],
   "source": [
    "matrix.shape"
   ]
  },
  {
   "cell_type": "code",
   "execution_count": null,
   "metadata": {
    "slideshow": {
     "slide_type": "fragment"
    }
   },
   "outputs": [],
   "source": [
    "matrix.todense()"
   ]
  },
  {
   "cell_type": "code",
   "execution_count": null,
   "metadata": {
    "slideshow": {
     "slide_type": "fragment"
    }
   },
   "outputs": [],
   "source": [
    "vocab = vectorizer.get_feature_names()\n",
    "vocab"
   ]
  },
  {
   "cell_type": "code",
   "execution_count": null,
   "metadata": {
    "slideshow": {
     "slide_type": "slide"
    }
   },
   "outputs": [],
   "source": [
    "# Meetod teksti sõnestamiseks ja lemmatiseerimiseks estnltk abil\n",
    "from estnltk import Text\n",
    "def lemmatize_with_estnltk(input_string):\n",
    "    lemmas = []\n",
    "    text = Text(input_string).tag_layer()\n",
    "    for word in text.morph_analysis:\n",
    "        lemmas.append(word.lemma[0])\n",
    "    return lemmas\n",
    "\n",
    "vectorizer = TfidfVectorizer(tokenizer = lemmatize_with_estnltk)"
   ]
  },
  {
   "cell_type": "code",
   "execution_count": null,
   "metadata": {
    "slideshow": {
     "slide_type": "slide"
    }
   },
   "outputs": [],
   "source": [
    "# Andmete viimine vektorkujule\n",
    "matrix = vectorizer.fit_transform(texts)\n",
    "matrix.shape"
   ]
  },
  {
   "cell_type": "code",
   "execution_count": null,
   "metadata": {
    "slideshow": {
     "slide_type": "slide"
    }
   },
   "outputs": [],
   "source": [
    "from sklearn.metrics.pairwise import cosine_distances\n",
    "\n",
    "# Leiame kõigi tekstide kaugused üksteisest\n",
    "cos_dist = cosine_distances(matrix)\n",
    "cos_dist"
   ]
  },
  {
   "cell_type": "code",
   "execution_count": null,
   "metadata": {
    "slideshow": {
     "slide_type": "slide"
    }
   },
   "outputs": [],
   "source": [
    "# Uurime tekste, mis on omavahel mõnevõrra sarnased\n",
    "for idx, k in enumerate(cos_dist):\n",
    "    for idx2, j in enumerate(k):\n",
    "        if idx2 > idx:\n",
    "            if j > 0.4 and j < 0.6:\n",
    "                print(j, '\\n\\n', texts[idx], '\\n\\n', texts[idx2], '\\n', '-'*40, '\\n')"
   ]
  },
  {
   "cell_type": "markdown",
   "metadata": {
    "slideshow": {
     "slide_type": "slide"
    }
   },
   "source": [
    "## Tekstide klassifitseerimine"
   ]
  },
  {
   "cell_type": "code",
   "execution_count": null,
   "metadata": {
    "slideshow": {
     "slide_type": "slide"
    }
   },
   "outputs": [],
   "source": [
    "# Loome oma tekstidest \"märgendatud\" andmestiku\n",
    "labels = []\n",
    "for text in texts:\n",
    "    if 'koroona' in text.lower() or 'corona' in text.lower() \\\n",
    "    or 'covid' in text.lower() or 'haig' in text.lower():\n",
    "        labels.append(1)\n",
    "    else:\n",
    "        labels.append(0)"
   ]
  },
  {
   "cell_type": "code",
   "execution_count": null,
   "metadata": {
    "slideshow": {
     "slide_type": "slide"
    }
   },
   "outputs": [],
   "source": [
    "# Loome uue vektoriseerija, mis vaataks ka 2-3-sõnalisi järjendeid\n",
    "vectorizer = TfidfVectorizer(ngram_range = (1,3), tokenizer = lemmatize_with_estnltk)\n",
    "corpus = vectorizer.fit_transform(texts)\n",
    "vocab = vectorizer.get_feature_names()"
   ]
  },
  {
   "cell_type": "code",
   "execution_count": null,
   "metadata": {
    "slideshow": {
     "slide_type": "slide"
    }
   },
   "outputs": [],
   "source": [
    "from sklearn import svm\n",
    "from sklearn.model_selection import train_test_split\n",
    "\n",
    "# Jagame loodud andmestiku treening- ja testandmeteks\n",
    "x_train, x_test, y_train, y_test, desc_train, desc_test = train_test_split(corpus, labels, texts, random_state = 1)\n",
    "lin_clf = svm.LinearSVC()\n",
    "# Treenime mudeli\n",
    "lin_clf.fit(x_train, y_train)"
   ]
  },
  {
   "cell_type": "code",
   "execution_count": null,
   "metadata": {
    "slideshow": {
     "slide_type": "slide"
    }
   },
   "outputs": [],
   "source": [
    "from sklearn.metrics import f1_score\n",
    "# Laseme mudelil ennustada testandmete klassid\n",
    "pred = lin_clf.predict(x_test)\n",
    "# Võrdleme klasse tegelikkusega - kui palju läks täppi?\n",
    "f1 = f1_score(y_test, pred)\n",
    "f1"
   ]
  },
  {
   "cell_type": "code",
   "execution_count": null,
   "metadata": {
    "slideshow": {
     "slide_type": "slide"
    }
   },
   "outputs": [],
   "source": [
    "# Uurime vigu - millised tekstid läksid valesse klassi?\n",
    "idx = 0\n",
    "for real, predicted in zip(y_test, pred):\n",
    "    if real != predicted:\n",
    "        if real == 1:\n",
    "            print(desc_test[idx])\n",
    "            print('--------------------')\n",
    "    idx += 1    "
   ]
  },
  {
   "cell_type": "code",
   "execution_count": null,
   "metadata": {
    "slideshow": {
     "slide_type": "slide"
    }
   },
   "outputs": [],
   "source": [
    "# Mille põhjal mudel otsustas?\n",
    "import numpy as np\n",
    "top20 = np.argsort(lin_clf.coef_[0])[-20:]\n",
    "print(\"%s\" % (\" ; \".join(vocab[j] for j in top20)))"
   ]
  },
  {
   "cell_type": "markdown",
   "metadata": {
    "slideshow": {
     "slide_type": "slide"
    }
   },
   "source": [
    "## Teemade modelleerimine"
   ]
  },
  {
   "cell_type": "code",
   "execution_count": null,
   "metadata": {
    "slideshow": {
     "slide_type": "slide"
    }
   },
   "outputs": [],
   "source": [
    "# Loome uue vektoriseerija - LDA toimib sõnasageduste pealt\n",
    "vectorizer = CountVectorizer(tokenizer = lemmatize_with_estnltk)\n",
    "matrix = vectorizer.fit_transform(texts)"
   ]
  },
  {
   "cell_type": "code",
   "execution_count": null,
   "metadata": {
    "slideshow": {
     "slide_type": "fragment"
    }
   },
   "outputs": [],
   "source": [
    "# Kasutame teeki gensim - vajadusel installige käsuga\n",
    "# conda install gensim\n",
    "from gensim.models.ldamulticore import LdaModel\n",
    "from gensim.matutils import Sparse2Corpus\n",
    "corpus = Sparse2Corpus(matrix, documents_columns = False)"
   ]
  },
  {
   "cell_type": "code",
   "execution_count": null,
   "metadata": {
    "slideshow": {
     "slide_type": "slide"
    }
   },
   "outputs": [],
   "source": [
    "vocab = np.array(vectorizer.get_feature_names())\n",
    "\n",
    "# Loome sobival kujul sõnastiku\n",
    "id2word = {}\n",
    "for idx, i in enumerate(vocab):\n",
    "    id2word[idx] = i"
   ]
  },
  {
   "cell_type": "code",
   "execution_count": null,
   "metadata": {
    "slideshow": {
     "slide_type": "slide"
    }
   },
   "outputs": [],
   "source": [
    "lda = LdaModel(corpus, num_topics=10, id2word=id2word)"
   ]
  },
  {
   "cell_type": "code",
   "execution_count": null,
   "metadata": {
    "slideshow": {
     "slide_type": "slide"
    }
   },
   "outputs": [],
   "source": [
    "# Vaatame leitud teemasid\n",
    "lda.show_topics(10, 20)"
   ]
  },
  {
   "cell_type": "code",
   "execution_count": null,
   "metadata": {
    "slideshow": {
     "slide_type": "slide"
    }
   },
   "outputs": [],
   "source": [
    "# Leiame, millisesse teemasse mingi dokument suurima tõenäosusega kuulub\n",
    "assignments = lda.inference(corpus)\n",
    "# argmax() leiab suurima väärtusega elemendi indeksi \n",
    "# ning axis = 1 täpsustab, et vaatame rea kaupa\n",
    "most_likely_labels = assignments[0].argmax(axis=1)"
   ]
  },
  {
   "cell_type": "code",
   "execution_count": null,
   "metadata": {
    "slideshow": {
     "slide_type": "slide"
    }
   },
   "outputs": [],
   "source": [
    "most_likely_labels"
   ]
  },
  {
   "cell_type": "code",
   "execution_count": null,
   "metadata": {
    "slideshow": {
     "slide_type": "slide"
    }
   },
   "outputs": [],
   "source": [
    "for k, l in zip(texts, most_likely_labels):\n",
    "    if l == 4:\n",
    "        print(k)\n",
    "        print('----------------')"
   ]
  },
  {
   "cell_type": "markdown",
   "metadata": {
    "slideshow": {
     "slide_type": "slide"
    }
   },
   "source": [
    "<img src=\"pildid/dist_sem1.png\">"
   ]
  },
  {
   "cell_type": "markdown",
   "metadata": {
    "slideshow": {
     "slide_type": "slide"
    }
   },
   "source": [
    "<img src=\"pildid/dist_sem2.png\">"
   ]
  },
  {
   "cell_type": "markdown",
   "metadata": {
    "slideshow": {
     "slide_type": "slide"
    }
   },
   "source": [
    "### Distributiivne semantika - proovime järgi"
   ]
  },
  {
   "cell_type": "code",
   "execution_count": null,
   "metadata": {
    "slideshow": {
     "slide_type": "slide"
    }
   },
   "outputs": [],
   "source": [
    "# Impordime vajalikud moodulid\n",
    "import csv\n",
    "from gensim.models import Word2Vec, KeyedVectors\n",
    "from estnltk import Text\n",
    "from collections import Counter"
   ]
  },
  {
   "cell_type": "code",
   "execution_count": null,
   "metadata": {
    "slideshow": {
     "slide_type": "fragment"
    }
   },
   "outputs": [],
   "source": [
    "# model from here http://193.40.33.66/pretrained/cbow_100_5_10_20.zip\n",
    "# documentation here https://github.com/eleriaedmaa/embeddings\n",
    "\n",
    "# mudelifaili tee vaja asendada sellega, kuhu mudeli alla laadisite oma arvutis\n",
    "model = KeyedVectors.load_word2vec_format(\"../../../AREA1/cbow_100_5_10_20/ettenten.txt.word_vectors\", binary=False)"
   ]
  },
  {
   "cell_type": "code",
   "execution_count": null,
   "metadata": {
    "slideshow": {
     "slide_type": "slide"
    }
   },
   "outputs": [],
   "source": [
    "most_similar = model.most_similar(positive=['kurk', 'porgand'], topn=100)"
   ]
  },
  {
   "cell_type": "code",
   "execution_count": null,
   "metadata": {
    "scrolled": true,
    "slideshow": {
     "slide_type": "fragment"
    }
   },
   "outputs": [],
   "source": [
    "most_similar[:20]"
   ]
  },
  {
   "cell_type": "code",
   "execution_count": null,
   "metadata": {
    "slideshow": {
     "slide_type": "slide"
    }
   },
   "outputs": [],
   "source": [
    "most_similar = model.most_similar(positive=['müüja', 'dirigent', 'ehitaja'], topn=100)"
   ]
  },
  {
   "cell_type": "code",
   "execution_count": null,
   "metadata": {
    "scrolled": true,
    "slideshow": {
     "slide_type": "fragment"
    }
   },
   "outputs": [],
   "source": [
    "most_similar[:20]"
   ]
  },
  {
   "cell_type": "markdown",
   "metadata": {
    "slideshow": {
     "slide_type": "slide"
    }
   },
   "source": [
    "<img src=\"pildid/baas2.png\">"
   ]
  },
  {
   "cell_type": "markdown",
   "metadata": {
    "slideshow": {
     "slide_type": "slide"
    }
   },
   "source": [
    "### Oma nimeüksuste lisamine\n",
    "\n",
    "1) Leiame võimalikult suure hulga näiteid vastavast nimeüksusest\n",
    " \n",
    "2) Märgendame ümber olemasoleva korpuse - anname seal esinevatele vastavatele nimeüksustele soovitud märgendid\n",
    "\n",
    "3) Treenime nimeüksuste tuvastaja ümbermärgendatud korpuse peal\n",
    "\n",
    "4) Märgendame oma nimeüksusi"
   ]
  },
  {
   "cell_type": "code",
   "execution_count": null,
   "metadata": {
    "slideshow": {
     "slide_type": "slide"
    }
   },
   "outputs": [],
   "source": [
    "from estnltk.taggers.estner.ner_trainer import NerTrainer\n",
    "from estnltk.taggers.estner.refac.ner import ModelStorageUtil\n",
    "from estnltk.core import DEFAULT_PY3_NER_MODEL_DIR\n",
    "from estnltk.taggers import NerTagger\n",
    "\n",
    "ner_tagger = NerTagger()\n",
    "model_dir=DEFAULT_PY3_NER_MODEL_DIR\n",
    "modelUtil = ModelStorageUtil(model_dir)\n",
    "nersettings = modelUtil.load_settings()\n",
    "trainer = NerTrainer(nersettings)"
   ]
  },
  {
   "cell_type": "code",
   "execution_count": null,
   "metadata": {
    "slideshow": {
     "slide_type": "slide"
    }
   },
   "outputs": [],
   "source": [
    "# See on meie treeningkorpus - peab olema morfoloogiliselt märgendatud\n",
    "text = Text('Eesti president käis Euroopas.').tag_layer()"
   ]
  },
  {
   "cell_type": "code",
   "execution_count": null,
   "metadata": {
    "slideshow": {
     "slide_type": "slide"
    }
   },
   "outputs": [],
   "source": [
    "text.words"
   ]
  },
  {
   "cell_type": "code",
   "execution_count": null,
   "metadata": {
    "slideshow": {
     "slide_type": "fragment"
    }
   },
   "outputs": [],
   "source": [
    "# Igale sõnale peab vastama märgend; iga lause kohta üks list\n",
    "labels = [['B-LOC','B-VOC','O','B-LOC', 'O']]"
   ]
  },
  {
   "cell_type": "code",
   "execution_count": null,
   "metadata": {
    "slideshow": {
     "slide_type": "slide"
    }
   },
   "outputs": [],
   "source": [
    "# Treenime, kasutades treeningkorpust ja märgendeid;\n",
    "# salvestame tulemuse kausta 'test'\n",
    "trainer.train(text, labels, 'test')"
   ]
  },
  {
   "cell_type": "code",
   "execution_count": null,
   "metadata": {
    "slideshow": {
     "slide_type": "slide"
    }
   },
   "outputs": [],
   "source": [
    "# See on meie testkorpus - ei kattu treeningkorpusega\n",
    "text2 = Text('Läti president elab Riias.').tag_layer()"
   ]
  },
  {
   "cell_type": "code",
   "execution_count": null,
   "metadata": {
    "slideshow": {
     "slide_type": "fragment"
    }
   },
   "outputs": [],
   "source": [
    "# Standardne NER-tagger leiab asukohad\n",
    "ner_tagger.tag(text2)"
   ]
  },
  {
   "cell_type": "code",
   "execution_count": null,
   "metadata": {
    "slideshow": {
     "slide_type": "slide"
    }
   },
   "outputs": [],
   "source": [
    "text2.ner"
   ]
  },
  {
   "cell_type": "code",
   "execution_count": null,
   "metadata": {
    "slideshow": {
     "slide_type": "slide"
    }
   },
   "outputs": [],
   "source": [
    "# Loome uue NER-taggeri oma loodud 'test' mudeli põhjal\n",
    "# Anname väljundkihile nimeks ner2, \n",
    "# sest ner kiht on juba meie tekstil olemas\n",
    "ner_tagger2 = NerTagger(model_dir = 'test', output_layer = 'ner2')"
   ]
  },
  {
   "cell_type": "code",
   "execution_count": null,
   "metadata": {
    "slideshow": {
     "slide_type": "slide"
    }
   },
   "outputs": [],
   "source": [
    "ner_tagger2.tag(text2)"
   ]
  },
  {
   "cell_type": "code",
   "execution_count": null,
   "metadata": {
    "slideshow": {
     "slide_type": "slide"
    }
   },
   "outputs": [],
   "source": [
    "text2.ner"
   ]
  },
  {
   "cell_type": "code",
   "execution_count": null,
   "metadata": {
    "slideshow": {
     "slide_type": "fragment"
    }
   },
   "outputs": [],
   "source": [
    "text2.ner2"
   ]
  },
  {
   "cell_type": "code",
   "execution_count": null,
   "metadata": {
    "slideshow": {
     "slide_type": "slide"
    }
   },
   "outputs": [],
   "source": [
    "text3 = Text('Läti peaminister elab ka Riias.').tag_layer()\n",
    "ner_tagger2.tag(text3)\n",
    "text3.ner2"
   ]
  },
  {
   "cell_type": "markdown",
   "metadata": {
    "slideshow": {
     "slide_type": "slide"
    }
   },
   "source": [
    "<img src=\"pildid/kokkuvõte1.png\">"
   ]
  },
  {
   "cell_type": "markdown",
   "metadata": {
    "slideshow": {
     "slide_type": "slide"
    }
   },
   "source": [
    "<img src=\"pildid/kokuvõte2.png\">"
   ]
  },
  {
   "cell_type": "markdown",
   "metadata": {
    "slideshow": {
     "slide_type": "slide"
    }
   },
   "source": [
    "<img src=\"pildid/kokkuvõte.png\">"
   ]
  },
  {
   "cell_type": "markdown",
   "metadata": {
    "slideshow": {
     "slide_type": "slide"
    }
   },
   "source": [
    "<img src=\"pildid/lõpp.png\">"
   ]
  }
 ],
 "metadata": {
  "celltoolbar": "Slideshow",
  "kernelspec": {
   "display_name": "Python [conda env:estnltk] *",
   "language": "python",
   "name": "conda-env-estnltk-py"
  },
  "language_info": {
   "codemirror_mode": {
    "name": "ipython",
    "version": 3
   },
   "file_extension": ".py",
   "mimetype": "text/x-python",
   "name": "python",
   "nbconvert_exporter": "python",
   "pygments_lexer": "ipython3",
   "version": "3.6.12"
  }
 },
 "nbformat": 4,
 "nbformat_minor": 4
}
