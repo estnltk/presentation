{
 "cells": [
  {
   "cell_type": "markdown",
   "id": "a549628b",
   "metadata": {},
   "source": [
    "## Repliikide lausestamine test5"
   ]
  },
  {
   "cell_type": "code",
   "execution_count": 1,
   "id": "836074f8",
   "metadata": {},
   "outputs": [],
   "source": [
    "from estnltk import Text\n",
    "import sqlite3\n",
    "import pickle\n",
    "from estnltk_core.layer_operations import split_by_sentences"
   ]
  },
  {
   "cell_type": "markdown",
   "id": "e9711dc1",
   "metadata": {},
   "source": [
    "Tühi järjend repliikide hoiustamiseks:"
   ]
  },
  {
   "cell_type": "code",
   "execution_count": 18,
   "id": "f2b13213",
   "metadata": {},
   "outputs": [],
   "source": [
    "corpus = []"
   ]
  },
  {
   "cell_type": "markdown",
   "id": "8683c9aa",
   "metadata": {},
   "source": [
    "Andmebaasi tabelist loetakse sisse repliikidele vastavad Text-objektid:"
   ]
  },
  {
   "cell_type": "code",
   "execution_count": 19,
   "id": "4e6f19bb",
   "metadata": {},
   "outputs": [],
   "source": [
    "con = sqlite3.connect(\"data.db\")"
   ]
  },
  {
   "cell_type": "code",
   "execution_count": 20,
   "id": "29491fbf",
   "metadata": {},
   "outputs": [],
   "source": [
    "cur = con.cursor()"
   ]
  },
  {
   "cell_type": "code",
   "execution_count": 21,
   "id": "31084b38",
   "metadata": {
    "scrolled": true
   },
   "outputs": [],
   "source": [
    "for row in cur.execute(\"SELECT line FROM data\"):\n",
    "    row = pickle.loads(row[0])\n",
    "    corpus.append(row)"
   ]
  },
  {
   "cell_type": "code",
   "execution_count": 22,
   "id": "505aaddc",
   "metadata": {},
   "outputs": [],
   "source": [
    "con.close()"
   ]
  },
  {
   "cell_type": "code",
   "execution_count": 23,
   "id": "ab555d61",
   "metadata": {},
   "outputs": [
    {
     "data": {
      "text/plain": [
       "391"
      ]
     },
     "execution_count": 23,
     "metadata": {},
     "output_type": "execute_result"
    }
   ],
   "source": [
    "len(corpus)"
   ]
  },
  {
   "cell_type": "code",
   "execution_count": 24,
   "id": "6d8710a5",
   "metadata": {},
   "outputs": [
    {
     "data": {
      "text/html": [
       "<table border=\"1\" class=\"dataframe\">\n",
       "  <thead>\n",
       "    <tr style=\"text-align: right;\">\n",
       "      <th>text</th>\n",
       "    </tr>\n",
       "  </thead>\n",
       "  <tbody>\n",
       "    <tr>\n",
       "      <td><div align = \"left\">Aga ma ei tea kas kaitsejõud hakkasid seletama et ei et see mingi raskeveok koos nende soomukite kes saadab sellised me lihtsalt kontrollime tammel üldse olemas on nüüd ajame korraga siis välja ka sõjaosalejatega rohkematele kommenteerib aga minu punkte siin ette et.</br>Mõtteks nii nagu Andrus Ansipil on selline lauset alustuse stamm fraas nagu et ma ei saa olla nõus nendega kes mõtles peaminister ma ei saa olla nõus nendega kes väidavad et nad suudavad inflatsiooni järgmise aasta esimesel poolel kuidagi kontrollijaid.</br>Sest vaadakem üks asi on käia aga olgu käes ja vaadata kas see.</br>Viisteist koma kuuskümmend neliikkagi kuidas kuidas need on eks ole soomlasel Eestis midagi osta ka teine asi on näha üks ühele võrrelda Vassel kes eurokeeles euro alus neid hindu näiteks üks mu tuttav intellektuaal Soomest ütleb et sealsed inimesed kevad Eestis nahkköitesse panema sama.</br>No kui sul on mingi armsa ja kirjatöid ja seal või või.</br>Kui raamat perekonna mälestused ja nahkköites ei paneks selle jutu järgmisele kontrolli Natanzis.</br>Helsingis maksab neli Gent kaheksa ei uuri üks suur paks üks kõige ja meil maksab siis umbes nagu seitse juure kaheksakümmend näiteks talikummid üle suvehoidmine või näiteks üks tund.</br>Ta meelelahutus tegelema ütleb et kontserdi korraldab esinenud ärihelivõimenduse ja kõige selle mehe kaasa aga ma ülevedamise eurodes end lihtsalt kordades vahe noh advokaadi tunni seal kaks pool kolm korda kui kui samu asju tuleb arutada näiteks sadamas kuidas.</br>Sadamakaupa kus tolliterminaalist see hindade vahel lihtsalt peab tekitama olukorra kus need kes suudavad soomlasele midagi müüa teenivad teised siis ei suuda nende kõrgete hindadega eriti Tallinna hindadega väljakult väljatuleb inimesed kaasas selliselt tekib ma ei saa olla nõus nendega kes.</div></td>\n",
       "    </tr>\n",
       "  </tbody>\n",
       "</table>\n",
       "<h4>Metadata</h4>\n",
       "<table border=\"1\" class=\"dataframe\">\n",
       "  <tbody>\n",
       "    <tr>\n",
       "      <td>date</td>\n",
       "      <td>2010-10-30</td>\n",
       "    </tr>\n",
       "    <tr>\n",
       "      <td>line_number</td>\n",
       "      <td>6</td>\n",
       "    </tr>\n",
       "    <tr>\n",
       "      <td>person</td>\n",
       "      <td>Tundmatu1</td>\n",
       "    </tr>\n",
       "  </tbody>\n",
       "</table>\n",
       "<table border=\"1\" class=\"dataframe\">\n",
       "  <thead>\n",
       "    <tr style=\"text-align: right;\">\n",
       "      <th>layer name</th>\n",
       "      <th>attributes</th>\n",
       "      <th>parent</th>\n",
       "      <th>enveloping</th>\n",
       "      <th>ambiguous</th>\n",
       "      <th>span count</th>\n",
       "    </tr>\n",
       "  </thead>\n",
       "  <tbody>\n",
       "    <tr>\n",
       "      <td>sentences</td>\n",
       "      <td></td>\n",
       "      <td>None</td>\n",
       "      <td>words</td>\n",
       "      <td>False</td>\n",
       "      <td>9</td>\n",
       "    </tr>\n",
       "    <tr>\n",
       "      <td>tokens</td>\n",
       "      <td></td>\n",
       "      <td>None</td>\n",
       "      <td>None</td>\n",
       "      <td>False</td>\n",
       "      <td>282</td>\n",
       "    </tr>\n",
       "    <tr>\n",
       "      <td>compound_tokens</td>\n",
       "      <td>type, normalized</td>\n",
       "      <td>None</td>\n",
       "      <td>tokens</td>\n",
       "      <td>False</td>\n",
       "      <td>0</td>\n",
       "    </tr>\n",
       "    <tr>\n",
       "      <td>words</td>\n",
       "      <td>normalized_form</td>\n",
       "      <td>None</td>\n",
       "      <td>None</td>\n",
       "      <td>True</td>\n",
       "      <td>282</td>\n",
       "    </tr>\n",
       "    <tr>\n",
       "      <td>morph_analysis</td>\n",
       "      <td>normalized_text, lemma, root, root_tokens, ending, clitic, form, partofspeech</td>\n",
       "      <td>words</td>\n",
       "      <td>None</td>\n",
       "      <td>True</td>\n",
       "      <td>282</td>\n",
       "    </tr>\n",
       "    <tr>\n",
       "      <td>ner</td>\n",
       "      <td>nertag</td>\n",
       "      <td>None</td>\n",
       "      <td>words</td>\n",
       "      <td>False</td>\n",
       "      <td>8</td>\n",
       "    </tr>\n",
       "  </tbody>\n",
       "</table>"
      ],
      "text/plain": [
       "Text(text='Aga ma ei tea kas kaitsejõud hakkasid seletama et ei et see mingi raskeveok koos nende soomukite kes saadab sellised me lihtsalt kontrollime tammel üldse olemas on nüüd ajame korraga siis välja ka sõjaosalejatega rohkematele kommenteerib aga minu punkte siin ette et.\\nMõtteks nii nagu Andrus Ansipil on selline lauset alustuse stamm fraas nagu et ma ei saa olla nõus nendega kes mõtles peaminister ma ei saa olla nõus nendega kes väidavad et nad suudavad inflatsiooni järgmise aasta esimesel poolel kuidagi kontrollijaid.\\nSest vaadakem üks asi on käia aga olgu käes ja vaadata kas see.\\nViisteist koma kuuskümmend neliikkagi kuidas kuidas need on eks ole soomlasel Eestis midagi osta ka teine asi on näha üks ühele võrrelda Vassel kes eurokeeles euro alus neid hindu näiteks üks mu tuttav intellektuaal Soomest ütleb et sealsed inimesed kevad Eestis nahkköitesse panema sama.\\nNo kui sul on mingi armsa ja kirjatöid ja seal või või.\\nKui raamat perekonna mälestused ja nahkköites ei paneks selle jutu järgmisele kontrolli Natanzis.\\nHelsingis maksab neli Gent kaheksa ei uuri üks suur paks üks kõige ja meil maksab siis umbes nagu seitse juure kaheksakümmend näiteks talikummid üle suvehoidmine või näiteks üks tund.\\nTa meelelahutus tegelema ütleb et kontserdi korraldab esinenud ärihelivõimenduse ja kõige selle mehe kaasa aga ma ülevedamise eurodes end lihtsalt kordades vahe noh advokaadi tunni seal kaks pool kolm korda kui kui samu asju tuleb arutada näiteks sadamas kuidas.\\nSadamakaupa kus tolliterminaalist see hindade vahel lihtsalt peab tekitama olukorra kus need kes suudavad soomlasele midagi müüa teenivad teised siis ei suuda nende kõrgete hindadega eriti Tallinna hindadega väljakult väljatuleb inimesed kaasas selliselt tekib ma ei saa olla nõus nendega kes.')"
      ]
     },
     "metadata": {},
     "output_type": "display_data"
    }
   ],
   "source": [
    "test_text = corpus[5]\n",
    "display(test_text)"
   ]
  },
  {
   "cell_type": "code",
   "execution_count": 25,
   "id": "93c72ddb",
   "metadata": {
    "scrolled": false
   },
   "outputs": [
    {
     "data": {
      "text/html": [
       "<h4>Layer</h4>\n",
       "\n",
       "\n",
       "<table border=\"1\" class=\"dataframe\">\n",
       "  <thead>\n",
       "    <tr style=\"text-align: right;\">\n",
       "      <th>layer name</th>\n",
       "      <th>attributes</th>\n",
       "      <th>parent</th>\n",
       "      <th>enveloping</th>\n",
       "      <th>ambiguous</th>\n",
       "      <th>span count</th>\n",
       "    </tr>\n",
       "  </thead>\n",
       "  <tbody>\n",
       "    <tr>\n",
       "      <td>ner</td>\n",
       "      <td>nertag</td>\n",
       "      <td>None</td>\n",
       "      <td>words</td>\n",
       "      <td>False</td>\n",
       "      <td>8</td>\n",
       "    </tr>\n",
       "  </tbody>\n",
       "</table>\n",
       "<table border=\"1\" class=\"dataframe\">\n",
       "  <thead>\n",
       "    <tr style=\"text-align: right;\">\n",
       "      <th>text</th>\n",
       "      <th>nertag</th>\n",
       "    </tr>\n",
       "  </thead>\n",
       "  <tbody>\n",
       "    <tr>\n",
       "      <td>['Andrus', 'Ansipil']</td>\n",
       "      <td>PER</td>\n",
       "    </tr>\n",
       "    <tr>\n",
       "      <td>['Eestis']</td>\n",
       "      <td>LOC</td>\n",
       "    </tr>\n",
       "    <tr>\n",
       "      <td>['Vassel']</td>\n",
       "      <td>LOC</td>\n",
       "    </tr>\n",
       "    <tr>\n",
       "      <td>['Soomest']</td>\n",
       "      <td>LOC</td>\n",
       "    </tr>\n",
       "    <tr>\n",
       "      <td>['Eestis']</td>\n",
       "      <td>LOC</td>\n",
       "    </tr>\n",
       "    <tr>\n",
       "      <td>['Natanzis']</td>\n",
       "      <td>LOC</td>\n",
       "    </tr>\n",
       "    <tr>\n",
       "      <td>['Helsingis']</td>\n",
       "      <td>LOC</td>\n",
       "    </tr>\n",
       "    <tr>\n",
       "      <td>['Tallinna']</td>\n",
       "      <td>LOC</td>\n",
       "    </tr>\n",
       "  </tbody>\n",
       "</table>"
      ],
      "text/plain": [
       "Layer(name='ner', attributes=('nertag',), spans=SL[EnvelopingSpan(['Andrus', 'Ansipil'], [{'nertag': 'PER'}]),\n",
       "EnvelopingSpan(['Eestis'], [{'nertag': 'LOC'}]),\n",
       "EnvelopingSpan(['Vassel'], [{'nertag': 'LOC'}]),\n",
       "EnvelopingSpan(['Soomest'], [{'nertag': 'LOC'}]),\n",
       "EnvelopingSpan(['Eestis'], [{'nertag': 'LOC'}]),\n",
       "EnvelopingSpan(['Natanzis'], [{'nertag': 'LOC'}]),\n",
       "EnvelopingSpan(['Helsingis'], [{'nertag': 'LOC'}]),\n",
       "EnvelopingSpan(['Tallinna'], [{'nertag': 'LOC'}])])"
      ]
     },
     "execution_count": 25,
     "metadata": {},
     "output_type": "execute_result"
    }
   ],
   "source": [
    "test_text.ner"
   ]
  },
  {
   "cell_type": "markdown",
   "id": "d56b1968",
   "metadata": {},
   "source": [
    "Kuna repliigid on suhteliselt kirjakeelsed, lausestan esialgu split_by_sentences abil:"
   ]
  },
  {
   "cell_type": "code",
   "execution_count": 26,
   "id": "fe9faa4d",
   "metadata": {},
   "outputs": [],
   "source": [
    "line_sentences = split_by_sentences(text=test_text, \n",
    "                           layers_to_keep=list(test_text.layers),\n",
    "                           trim_overlapping=True\n",
    "                           )"
   ]
  },
  {
   "cell_type": "code",
   "execution_count": 27,
   "id": "e74b2701",
   "metadata": {},
   "outputs": [
    {
     "data": {
      "text/html": [
       "<table border=\"1\" class=\"dataframe\">\n",
       "  <thead>\n",
       "    <tr style=\"text-align: right;\">\n",
       "      <th>text</th>\n",
       "    </tr>\n",
       "  </thead>\n",
       "  <tbody>\n",
       "    <tr>\n",
       "      <td><div align = \"left\">Mõtteks nii nagu Andrus Ansipil on selline lauset alustuse stamm fraas nagu et ma ei saa olla nõus nendega kes mõtles peaminister ma ei saa olla nõus nendega kes väidavad et nad suudavad inflatsiooni järgmise aasta esimesel poolel kuidagi kontrollijaid.</div></td>\n",
       "    </tr>\n",
       "  </tbody>\n",
       "</table>\n",
       "<table border=\"1\" class=\"dataframe\">\n",
       "  <thead>\n",
       "    <tr style=\"text-align: right;\">\n",
       "      <th>layer name</th>\n",
       "      <th>attributes</th>\n",
       "      <th>parent</th>\n",
       "      <th>enveloping</th>\n",
       "      <th>ambiguous</th>\n",
       "      <th>span count</th>\n",
       "    </tr>\n",
       "  </thead>\n",
       "  <tbody>\n",
       "    <tr>\n",
       "      <td>sentences</td>\n",
       "      <td></td>\n",
       "      <td>None</td>\n",
       "      <td>words</td>\n",
       "      <td>False</td>\n",
       "      <td>1</td>\n",
       "    </tr>\n",
       "    <tr>\n",
       "      <td>tokens</td>\n",
       "      <td></td>\n",
       "      <td>None</td>\n",
       "      <td>None</td>\n",
       "      <td>False</td>\n",
       "      <td>41</td>\n",
       "    </tr>\n",
       "    <tr>\n",
       "      <td>compound_tokens</td>\n",
       "      <td>type, normalized</td>\n",
       "      <td>None</td>\n",
       "      <td>tokens</td>\n",
       "      <td>False</td>\n",
       "      <td>0</td>\n",
       "    </tr>\n",
       "    <tr>\n",
       "      <td>words</td>\n",
       "      <td>normalized_form</td>\n",
       "      <td>None</td>\n",
       "      <td>None</td>\n",
       "      <td>True</td>\n",
       "      <td>41</td>\n",
       "    </tr>\n",
       "    <tr>\n",
       "      <td>morph_analysis</td>\n",
       "      <td>normalized_text, lemma, root, root_tokens, ending, clitic, form, partofspeech</td>\n",
       "      <td>words</td>\n",
       "      <td>None</td>\n",
       "      <td>True</td>\n",
       "      <td>41</td>\n",
       "    </tr>\n",
       "    <tr>\n",
       "      <td>ner</td>\n",
       "      <td>nertag</td>\n",
       "      <td>None</td>\n",
       "      <td>words</td>\n",
       "      <td>False</td>\n",
       "      <td>1</td>\n",
       "    </tr>\n",
       "  </tbody>\n",
       "</table>"
      ],
      "text/plain": [
       "Text(text='Mõtteks nii nagu Andrus Ansipil on selline lauset alustuse stamm fraas nagu et ma ei saa olla nõus nendega kes mõtles peaminister ma ei saa olla nõus nendega kes väidavad et nad suudavad inflatsiooni järgmise aasta esimesel poolel kuidagi kontrollijaid.')"
      ]
     },
     "metadata": {},
     "output_type": "display_data"
    },
    {
     "data": {
      "text/html": [
       "<h4>Layer</h4>\n",
       "\n",
       "\n",
       "<table border=\"1\" class=\"dataframe\">\n",
       "  <thead>\n",
       "    <tr style=\"text-align: right;\">\n",
       "      <th>layer name</th>\n",
       "      <th>attributes</th>\n",
       "      <th>parent</th>\n",
       "      <th>enveloping</th>\n",
       "      <th>ambiguous</th>\n",
       "      <th>span count</th>\n",
       "    </tr>\n",
       "  </thead>\n",
       "  <tbody>\n",
       "    <tr>\n",
       "      <td>ner</td>\n",
       "      <td>nertag</td>\n",
       "      <td>None</td>\n",
       "      <td>words</td>\n",
       "      <td>False</td>\n",
       "      <td>1</td>\n",
       "    </tr>\n",
       "  </tbody>\n",
       "</table>\n",
       "<table border=\"1\" class=\"dataframe\">\n",
       "  <thead>\n",
       "    <tr style=\"text-align: right;\">\n",
       "      <th>text</th>\n",
       "      <th>nertag</th>\n",
       "    </tr>\n",
       "  </thead>\n",
       "  <tbody>\n",
       "    <tr>\n",
       "      <td>['Andrus', 'Ansipil']</td>\n",
       "      <td>PER</td>\n",
       "    </tr>\n",
       "  </tbody>\n",
       "</table>"
      ],
      "text/plain": [
       "Layer(name='ner', attributes=('nertag',), spans=SL[EnvelopingSpan(['Andrus', 'Ansipil'], [{'nertag': 'PER'}])])"
      ]
     },
     "metadata": {},
     "output_type": "display_data"
    }
   ],
   "source": [
    "for sentence in line_sentences:\n",
    "    if 'PER' in sentence.ner.nertag:\n",
    "        display(sentence)\n",
    "        display(sentence.ner)"
   ]
  },
  {
   "cell_type": "code",
   "execution_count": 28,
   "id": "6e26ffc1",
   "metadata": {},
   "outputs": [
    {
     "data": {
      "text/plain": [
       "{'line_number': 6, 'person': 'Tundmatu1', 'date': datetime.date(2010, 10, 30)}"
      ]
     },
     "metadata": {},
     "output_type": "display_data"
    }
   ],
   "source": [
    "for sentence in line_sentences:\n",
    "    sentence.meta['line_number'] = test_text.meta['line_number']\n",
    "    sentence.meta['person'] = test_text.meta['person']\n",
    "    sentence.meta['date'] = test_text.meta['date']\n",
    "display(sentence.meta)"
   ]
  },
  {
   "cell_type": "markdown",
   "id": "118eeef8",
   "metadata": {},
   "source": [
    "Andmebaasi tabelisse lisatakse uus veerg repliikides olevate lausete jaoks, mis lisatakse ridadesse järjenditena. Sealjuures lisatakse igale lausele vastava repliigi metaandmed."
   ]
  },
  {
   "cell_type": "code",
   "execution_count": 8,
   "id": "59f9c97a",
   "metadata": {},
   "outputs": [
    {
     "data": {
      "text/plain": [
       "<sqlite3.Cursor at 0x2144d35e9c0>"
      ]
     },
     "execution_count": 8,
     "metadata": {},
     "output_type": "execute_result"
    }
   ],
   "source": [
    "con = sqlite3.connect(\"data.db\")\n",
    "cur = con.cursor()\n",
    "cur.execute('''ALTER TABLE data ADD COLUMN sentences BLOB''')"
   ]
  },
  {
   "cell_type": "code",
   "execution_count": 9,
   "id": "e820e4cb",
   "metadata": {},
   "outputs": [],
   "source": [
    "for text in corpus:\n",
    "    line_sentences = split_by_sentences(text=text, \n",
    "                           layers_to_keep=list(text.layers),\n",
    "                           trim_overlapping=True\n",
    "                           )\n",
    "    for sentence in line_sentences:\n",
    "        sentence.meta['line_number'] = text.meta['line_number']\n",
    "        sentence.meta['person'] = text.meta['person']\n",
    "        sentence.meta['date'] = text.meta['date']\n",
    "    sen_bytes = pickle.dumps(line_sentences)\n",
    "    cur.execute(\"\"\"UPDATE data SET sentences = ? WHERE number = ? AND person = ? AND date = ?\"\"\", (bytearray(sen_bytes), line_sentences[0].meta['line_number'], line_sentences[0].meta['person'], line_sentences[0].meta['date']))\n",
    "    con.commit()"
   ]
  },
  {
   "cell_type": "code",
   "execution_count": 10,
   "id": "386544e6",
   "metadata": {},
   "outputs": [],
   "source": [
    "con.close()"
   ]
  }
 ],
 "metadata": {
  "kernelspec": {
   "display_name": "Python 3 (ipykernel)",
   "language": "python",
   "name": "python3"
  },
  "language_info": {
   "codemirror_mode": {
    "name": "ipython",
    "version": 3
   },
   "file_extension": ".py",
   "mimetype": "text/x-python",
   "name": "python",
   "nbconvert_exporter": "python",
   "pygments_lexer": "ipython3",
   "version": "3.10.11"
  }
 },
 "nbformat": 4,
 "nbformat_minor": 5
}
