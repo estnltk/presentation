{
 "cells": [
  {
   "cell_type": "markdown",
   "id": "30171c35",
   "metadata": {},
   "source": [
    "## Repliikide eraldamine ja andmebaasi loomine test50"
   ]
  },
  {
   "cell_type": "code",
   "execution_count": 1,
   "id": "b6c0136e",
   "metadata": {},
   "outputs": [],
   "source": [
    "from estnltk import Text\n",
    "import re\n",
    "import regex\n",
    "from estnltk.taggers.system.rule_taggers import RegexTagger, Ruleset\n",
    "from estnltk.taggers.system.rule_taggers import StaticExtractionRule\n",
    "from estnltk.taggers import HeaderBasedSegmenter\n",
    "from estnltk.taggers import NerTagger\n",
    "import sqlite3\n",
    "import os\n",
    "import datetime\n",
    "from estnltk.converters import text_to_json"
   ]
  },
  {
   "cell_type": "markdown",
   "id": "5f9e4d23",
   "metadata": {},
   "source": [
    "Esiteks võetakse üks näidisfail:"
   ]
  },
  {
   "cell_type": "code",
   "execution_count": 3,
   "id": "22387540",
   "metadata": {},
   "outputs": [
    {
     "name": "stdout",
     "output_type": "stream",
     "text": [
      "K1: ühe kindla kuju.\n",
      "K2: Asi ja kongressi sõna härra aga aga Siim nii ei tee.\n",
      "Ja asi vask ESA Taal Lonni talus öös.\n",
      "See ei ole see ei saa olla nii et bussi ees.\n",
      "K3: Ja ta oli majandus.\n",
      "K4: Tervist sinu Kuku raadio Keskpäevatund Tallinna stuudios Ainar Ruussaar ja Priit olemegi Tartus Hannes Astok ja\n"
     ]
    }
   ],
   "source": [
    "# Näitefailis puudub kõneosal punktuatsioon\n",
    "test_file = open(\"syntax_analysis_data/2013-03-09.txt\", mode=\"r\", encoding=\"utf-8\")\n",
    "test_text = test_file.read()\n",
    "print(test_text[:300])"
   ]
  },
  {
   "cell_type": "code",
   "execution_count": 4,
   "id": "9c0dfc8f",
   "metadata": {},
   "outputs": [
    {
     "name": "stdout",
     "output_type": "stream",
     "text": [
      "['K']\n",
      "[('K', ''), ('\\nK', '\\n'), ('\\nJ', '\\n'), ('\\nS', '\\n'), ('\\nK', '\\n'), ('\\nK', '\\n'), ('\\nP', '\\n'), ('\\nS', '\\n'), ('\\nK', '\\n'), ('\\nü', '\\n'), ('\\nE', '\\n'), ('\\nK', '\\n'), ('\\nA', '\\n'), ('\\nK', '\\n'), ('\\nA', '\\n'), ('\\nK', '\\n'), ('\\nK', '\\n'), ('\\nT', '\\n'), ('\\nE', '\\n'), ('\\nK', '\\n'), ('\\nK', '\\n'), ('\\nT', '\\n'), ('\\nS', '\\n'), ('\\nL', '\\n'), ('\\nK', '\\n'), ('\\nK', '\\n'), ('\\nK', '\\n'), ('\\nK', '\\n'), ('\\nE', '\\n'), ('\\nE', '\\n'), ('\\nK', '\\n'), ('\\nJ', '\\n'), ('\\nK', '\\n'), ('\\nK', '\\n'), ('\\nK', '\\n'), ('\\nE', '\\n'), ('\\nK', '\\n'), ('\\nK', '\\n'), ('\\nJ', '\\n'), ('\\nP', '\\n'), ('\\nN', '\\n'), ('\\nK', '\\n'), ('\\nK', '\\n'), ('\\nK', '\\n'), ('\\nE', '\\n'), ('\\nK', '\\n'), ('\\nP', '\\n'), ('\\nK', '\\n'), ('\\nP', '\\n'), ('\\nO', '\\n'), ('\\nM', '\\n'), ('\\nK', '\\n'), ('\\nE', '\\n'), ('\\nK', '\\n'), ('\\nK', '\\n'), ('\\nK', '\\n'), ('\\nK', '\\n'), ('\\nK', '\\n'), ('\\nN', '\\n'), ('\\nK', '\\n'), ('\\nS', '\\n'), ('\\nA', '\\n'), ('\\nS', '\\n'), ('\\nE', '\\n'), ('\\nK', '\\n'), ('\\nM', '\\n'), ('\\nK', '\\n'), ('\\nK', '\\n'), ('\\nJ', '\\n'), ('\\nE', '\\n'), ('\\nK', '\\n'), ('\\nK', '\\n'), ('\\nN', '\\n'), ('\\nK', '\\n'), ('\\nK', '\\n'), ('\\nK', '\\n'), ('\\nK', '\\n'), ('\\nE', '\\n'), ('\\nH', '\\n'), ('\\nO', '\\n'), ('\\nH', '\\n'), ('\\nT', '\\n'), ('\\nS', '\\n'), ('\\nK', '\\n'), ('\\nZ', '\\n'), ('\\nJ', '\\n'), ('\\nP', '\\n'), ('\\nE', '\\n'), ('\\nS', '\\n'), ('\\nN', '\\n'), ('\\nK', '\\n'), ('\\nü', '\\n'), ('\\nK', '\\n'), ('\\nT', '\\n'), ('\\nK', '\\n'), ('\\nT', '\\n'), ('\\nJ', '\\n'), ('\\nK', '\\n'), ('\\nJ', '\\n'), ('\\nK', '\\n'), ('\\nK', '\\n'), ('\\nK', '\\n'), ('\\nK', '\\n'), ('\\nK', '\\n'), ('\\nT', '\\n'), ('\\nE', '\\n'), ('\\nK', '\\n'), ('\\nK', '\\n'), ('\\nK', '\\n'), ('\\nK', '\\n'), ('\\nK', '\\n'), ('\\nE', '\\n'), ('\\nE', '\\n'), ('\\nK', '\\n'), ('\\nK', '\\n'), ('\\nJ', '\\n'), ('\\nM', '\\n'), ('\\nN', '\\n'), ('\\nK', '\\n'), ('\\nK', '\\n'), ('\\nS', '\\n'), ('\\nü', '\\n'), ('\\nP', '\\n'), ('\\nK', '\\n'), ('\\nK', '\\n'), ('\\nK', '\\n'), ('\\nK', '\\n'), ('\\nK', '\\n'), ('\\nK', '\\n'), ('\\nE', '\\n'), ('\\nJ', '\\n'), ('\\nK', '\\n'), ('\\nK', '\\n'), ('\\nS', '\\n'), ('\\nM', '\\n'), ('\\nE', '\\n'), ('\\nA', '\\n'), ('\\nE', '\\n'), ('\\nK', '\\n'), ('\\nK', '\\n'), ('\\nK', '\\n'), ('\\nK', '\\n'), ('\\nK', '\\n'), ('\\nK', '\\n'), ('\\nK', '\\n'), ('\\nS', '\\n'), ('\\nP', '\\n'), ('\\nü', '\\n'), ('\\nT', '\\n'), ('\\nK', '\\n'), ('\\nA', '\\n'), ('\\nV', '\\n'), ('\\nV', '\\n'), ('\\nN', '\\n'), ('\\nE', '\\n'), ('\\nK', '\\n'), ('\\nK', '\\n'), ('\\nK', '\\n'), ('\\nK', '\\n'), ('\\nK', '\\n'), ('\\nP', '\\n'), ('\\nK', '\\n'), ('\\nK', '\\n'), ('\\nE', '\\n'), ('\\nE', '\\n'), ('\\nK', '\\n'), ('\\nI', '\\n'), ('\\nJ', '\\n'), ('\\nS', '\\n'), ('\\nK', '\\n'), ('\\nK', '\\n'), ('\\nS', '\\n'), ('\\nK', '\\n'), ('\\nK', '\\n'), ('\\nK', '\\n'), ('\\nJ', '\\n'), ('\\nJ', '\\n'), ('\\nS', '\\n'), ('\\nV', '\\n'), ('\\nT', '\\n'), ('\\nK', '\\n'), ('\\nK', '\\n'), ('\\nK', '\\n'), ('\\nK', '\\n'), ('\\nK', '\\n'), ('\\nT', '\\n'), ('\\nK', '\\n'), ('\\nK', '\\n'), ('\\nP', '\\n'), ('\\nK', '\\n'), ('\\nK', '\\n'), ('\\nT', '\\n'), ('\\nS', '\\n'), ('\\nK', '\\n'), ('\\nõ', '\\n'), ('\\nK', '\\n'), ('\\nK', '\\n'), ('\\nK', '\\n'), ('\\nK', '\\n'), ('\\nK', '\\n'), ('\\nü', '\\n'), ('\\nJ', '\\n'), ('\\nK', '\\n'), ('\\nK', '\\n'), ('\\nK', '\\n'), ('\\nK', '\\n'), ('\\nK', '\\n'), ('\\nK', '\\n'), ('\\nK', '\\n'), ('\\nJ', '\\n'), ('\\nE', '\\n'), ('\\nS', '\\n'), ('\\nE', '\\n'), ('\\nP', '\\n'), ('\\nJ', '\\n'), ('\\nM', '\\n'), ('\\nK', '\\n'), ('\\nE', '\\n'), ('\\nP', '\\n'), ('\\nT', '\\n'), ('\\nK', '\\n'), ('\\nS', '\\n'), ('\\nE', '\\n'), ('\\nK', '\\n'), ('\\nK', '\\n'), ('\\nK', '\\n'), ('\\nK', '\\n'), ('\\nK', '\\n'), ('\\nN', '\\n'), ('\\nK', '\\n'), ('\\nM', '\\n'), ('\\nT', '\\n'), ('\\nK', '\\n'), ('\\nK', '\\n'), ('\\nT', '\\n'), ('\\nL', '\\n'), ('\\nV', '\\n'), ('\\nK', '\\n'), ('\\nE', '\\n'), ('\\nK', '\\n'), ('\\nJ', '\\n'), ('\\nM', '\\n'), ('\\nK', '\\n'), ('\\nT', '\\n'), ('\\nK', '\\n'), ('\\nK', '\\n'), ('\\nT', '\\n'), ('\\nK', '\\n'), ('\\nE', '\\n'), ('\\nS', '\\n'), ('\\nN', '\\n'), ('\\nK', '\\n'), ('\\nK', '\\n'), ('\\nT', '\\n'), ('\\nK', '\\n'), ('\\nK', '\\n'), ('\\nP', '\\n'), ('\\nK', '\\n'), ('\\nK', '\\n'), ('\\nK', '\\n'), ('\\nK', '\\n'), ('\\nK', '\\n'), ('\\nK', '\\n'), ('\\nK', '\\n'), ('\\nK', '\\n'), ('\\nK', '\\n'), ('\\nE', '\\n'), ('\\nE', '\\n')]\n",
      "[('K1:', ''), ('\\nK2:', '\\n'), ('\\nK3:', '\\n'), ('\\nK4:', '\\n'), ('\\nK5:', '\\n'), ('\\nK6:', '\\n'), ('\\nK4:', '\\n'), ('\\nK7:', '\\n'), ('\\nK4:', '\\n'), ('\\nK6:', '\\n'), ('\\nK5:', '\\n'), ('\\nK4:', '\\n'), ('\\nK6:', '\\n'), ('\\nK4:', '\\n'), ('\\nK5:', '\\n'), ('\\nK7:', '\\n'), ('\\nK6:', '\\n'), ('\\nK7:', '\\n'), ('\\nK5:', '\\n'), ('\\nK4:', '\\n'), ('\\nK5:', '\\n'), ('\\nK4:', '\\n'), ('\\nK7:', '\\n'), ('\\nK4:', '\\n'), ('\\nK5:', '\\n'), ('\\nK4:', '\\n'), ('\\nK6:', '\\n'), ('\\nK4:', '\\n'), ('\\nK7:', '\\n'), ('\\nK4:', '\\n'), ('\\nK7:', '\\n'), ('\\nK4:', '\\n'), ('\\nK5:', '\\n'), ('\\nK7:', '\\n'), ('\\nK4:', '\\n'), ('\\nK6:', '\\n'), ('\\nK5:', '\\n'), ('\\nK6:', '\\n'), ('\\nK7:', '\\n'), ('\\nK4:', '\\n'), ('\\nK6:', '\\n'), ('\\nK7:', '\\n'), ('\\nK4:', '\\n'), ('\\nK6:', '\\n'), ('\\nK4:', '\\n'), ('\\nK7:', '\\n'), ('\\nK5:', '\\n'), ('\\nK6:', '\\n'), ('\\nK5:', '\\n'), ('\\nK6:', '\\n'), ('\\nK7:', '\\n'), ('\\nK5:', '\\n'), ('\\nK4:', '\\n'), ('\\nK5:', '\\n'), ('\\nK4:', '\\n'), ('\\nK7:', '\\n'), ('\\nK6:', '\\n'), ('\\nK5:', '\\n'), ('\\nK7:', '\\n'), ('\\nK5:', '\\n'), ('\\nK6:', '\\n'), ('\\nK5:', '\\n'), ('\\nK4:', '\\n'), ('\\nK5:', '\\n'), ('\\nK6:', '\\n'), ('\\nK5:', '\\n'), ('\\nK4:', '\\n'), ('\\nK6:', '\\n'), ('\\nK4:', '\\n'), ('\\nK8:', '\\n'), ('\\nK4:', '\\n'), ('\\nK5:', '\\n'), ('\\nK4:', '\\n'), ('\\nK6:', '\\n'), ('\\nK4:', '\\n'), ('\\nK5:', '\\n'), ('\\nK7:', '\\n'), ('\\nK5:', '\\n'), ('\\nK6:', '\\n'), ('\\nK7:', '\\n'), ('\\nK4:', '\\n'), ('\\nK5:', '\\n'), ('\\nK6:', '\\n'), ('\\nK7:', '\\n'), ('\\nK4:', '\\n'), ('\\nK5:', '\\n'), ('\\nK6:', '\\n'), ('\\nK4:', '\\n'), ('\\nK6:', '\\n'), ('\\nK4:', '\\n'), ('\\nK7:', '\\n'), ('\\nK4:', '\\n'), ('\\nK5:', '\\n'), ('\\nK6:', '\\n'), ('\\nK7:', '\\n'), ('\\nK6:', '\\n'), ('\\nK4:', '\\n'), ('\\nK5:', '\\n'), ('\\nK6:', '\\n'), ('\\nK4:', '\\n'), ('\\nK7:', '\\n'), ('\\nK5:', '\\n'), ('\\nK7:', '\\n'), ('\\nK4:', '\\n'), ('\\nK7:', '\\n'), ('\\nK4:', '\\n'), ('\\nK5:', '\\n'), ('\\nK6:', '\\n'), ('\\nK7:', '\\n'), ('\\nK5:', '\\n'), ('\\nK7:', '\\n'), ('\\nK4:', '\\n'), ('\\nK6:', '\\n'), ('\\nK4:', '\\n'), ('\\nK6:', '\\n'), ('\\nK4:', '\\n')]\n"
     ]
    }
   ],
   "source": [
    "print(re.findall(r'^.',test_text))\n",
    "print(re.findall(r'((^|\\n).)',test_text))\n",
    "print(re.findall(r'((^|\\n).*:)',test_text))"
   ]
  },
  {
   "cell_type": "markdown",
   "id": "618c153c",
   "metadata": {},
   "source": [
    "Kõnelejale vastav regulaaravaldis:"
   ]
  },
  {
   "cell_type": "code",
   "execution_count": 6,
   "id": "ebafc6cc",
   "metadata": {},
   "outputs": [],
   "source": [
    "pattern = r'((^|\\n)(?P<span>(?P<name>.*): ?))'"
   ]
  },
  {
   "cell_type": "code",
   "execution_count": 7,
   "id": "c2616269",
   "metadata": {},
   "outputs": [
    {
     "name": "stdout",
     "output_type": "stream",
     "text": [
      "['K1', 'K2', 'K3', 'K4', 'K5', 'K6', 'K4', 'K7', 'K4', 'K6', 'K5', 'K4', 'K6', 'K4', 'K5', 'K7', 'K6', 'K7', 'K5', 'K4', 'K5', 'K4', 'K7', 'K4', 'K5', 'K4', 'K6', 'K4', 'K7', 'K4', 'K7', 'K4', 'K5', 'K7', 'K4', 'K6', 'K5', 'K6', 'K7', 'K4', 'K6', 'K7', 'K4', 'K6', 'K4', 'K7', 'K5', 'K6', 'K5', 'K6', 'K7', 'K5', 'K4', 'K5', 'K4', 'K7', 'K6', 'K5', 'K7', 'K5', 'K6', 'K5', 'K4', 'K5', 'K6', 'K5', 'K4', 'K6', 'K4', 'K8', 'K4', 'K5', 'K4', 'K6', 'K4', 'K5', 'K7', 'K5', 'K6', 'K7', 'K4', 'K5', 'K6', 'K7', 'K4', 'K5', 'K6', 'K4', 'K6', 'K4', 'K7', 'K4', 'K5', 'K6', 'K7', 'K6', 'K4', 'K5', 'K6', 'K4', 'K7', 'K5', 'K7', 'K4', 'K7', 'K4', 'K5', 'K6', 'K7', 'K5', 'K7', 'K4', 'K6', 'K4', 'K6', 'K4']\n",
      "['K1: ', 'K2: ', 'K3: ', 'K4: ', 'K5: ', 'K6: ', 'K4: ', 'K7: ', 'K4: ', 'K6: ', 'K5: ', 'K4: ', 'K6: ', 'K4: ', 'K5: ', 'K7: ', 'K6: ', 'K7: ', 'K5: ', 'K4: ', 'K5: ', 'K4: ', 'K7: ', 'K4: ', 'K5: ', 'K4: ', 'K6: ', 'K4: ', 'K7: ', 'K4: ', 'K7: ', 'K4: ', 'K5: ', 'K7: ', 'K4: ', 'K6: ', 'K5: ', 'K6: ', 'K7: ', 'K4: ', 'K6: ', 'K7: ', 'K4: ', 'K6: ', 'K4: ', 'K7: ', 'K5: ', 'K6: ', 'K5: ', 'K6: ', 'K7: ', 'K5: ', 'K4: ', 'K5: ', 'K4: ', 'K7: ', 'K6: ', 'K5: ', 'K7: ', 'K5: ', 'K6: ', 'K5: ', 'K4: ', 'K5: ', 'K6: ', 'K5: ', 'K4: ', 'K6: ', 'K4: ', 'K8: ', 'K4: ', 'K5: ', 'K4: ', 'K6: ', 'K4: ', 'K5: ', 'K7: ', 'K5: ', 'K6: ', 'K7: ', 'K4: ', 'K5: ', 'K6: ', 'K7: ', 'K4: ', 'K5: ', 'K6: ', 'K4: ', 'K6: ', 'K4: ', 'K7: ', 'K4: ', 'K5: ', 'K6: ', 'K7: ', 'K6: ', 'K4: ', 'K5: ', 'K6: ', 'K4: ', 'K7: ', 'K5: ', 'K7: ', 'K4: ', 'K7: ', 'K4: ', 'K5: ', 'K6: ', 'K7: ', 'K5: ', 'K7: ', 'K4: ', 'K6: ', 'K4: ', 'K6: ', 'K4: ']\n",
      "['K1: ', '\\nK2: ', '\\nK3: ', '\\nK4: ', '\\nK5: ', '\\nK6: ', '\\nK4: ', '\\nK7: ', '\\nK4: ', '\\nK6: ', '\\nK5: ', '\\nK4: ', '\\nK6: ', '\\nK4: ', '\\nK5: ', '\\nK7: ', '\\nK6: ', '\\nK7: ', '\\nK5: ', '\\nK4: ', '\\nK5: ', '\\nK4: ', '\\nK7: ', '\\nK4: ', '\\nK5: ', '\\nK4: ', '\\nK6: ', '\\nK4: ', '\\nK7: ', '\\nK4: ', '\\nK7: ', '\\nK4: ', '\\nK5: ', '\\nK7: ', '\\nK4: ', '\\nK6: ', '\\nK5: ', '\\nK6: ', '\\nK7: ', '\\nK4: ', '\\nK6: ', '\\nK7: ', '\\nK4: ', '\\nK6: ', '\\nK4: ', '\\nK7: ', '\\nK5: ', '\\nK6: ', '\\nK5: ', '\\nK6: ', '\\nK7: ', '\\nK5: ', '\\nK4: ', '\\nK5: ', '\\nK4: ', '\\nK7: ', '\\nK6: ', '\\nK5: ', '\\nK7: ', '\\nK5: ', '\\nK6: ', '\\nK5: ', '\\nK4: ', '\\nK5: ', '\\nK6: ', '\\nK5: ', '\\nK4: ', '\\nK6: ', '\\nK4: ', '\\nK8: ', '\\nK4: ', '\\nK5: ', '\\nK4: ', '\\nK6: ', '\\nK4: ', '\\nK5: ', '\\nK7: ', '\\nK5: ', '\\nK6: ', '\\nK7: ', '\\nK4: ', '\\nK5: ', '\\nK6: ', '\\nK7: ', '\\nK4: ', '\\nK5: ', '\\nK6: ', '\\nK4: ', '\\nK6: ', '\\nK4: ', '\\nK7: ', '\\nK4: ', '\\nK5: ', '\\nK6: ', '\\nK7: ', '\\nK6: ', '\\nK4: ', '\\nK5: ', '\\nK6: ', '\\nK4: ', '\\nK7: ', '\\nK5: ', '\\nK7: ', '\\nK4: ', '\\nK7: ', '\\nK4: ', '\\nK5: ', '\\nK6: ', '\\nK7: ', '\\nK5: ', '\\nK7: ', '\\nK4: ', '\\nK6: ', '\\nK4: ', '\\nK6: ', '\\nK4: ']\n"
     ]
    }
   ],
   "source": [
    "print([match.group('name') for match in re.finditer(pattern, test_text)])\n",
    "print([match.group('span') for match in re.finditer(pattern, test_text)])\n",
    "print([match.group() for match in re.finditer(pattern, test_text)])"
   ]
  },
  {
   "cell_type": "markdown",
   "id": "22d38db9",
   "metadata": {},
   "source": [
    "Dekoraator kõneleja nime atribuudi lisamiseks:"
   ]
  },
  {
   "cell_type": "code",
   "execution_count": 8,
   "id": "bfc897db",
   "metadata": {},
   "outputs": [],
   "source": [
    "def decorator(layer,span,annotation):\n",
    "    annotation['person'] = annotation['match'].group(4)\n",
    "    return annotation"
   ]
  },
  {
   "cell_type": "markdown",
   "id": "40f39105",
   "metadata": {},
   "source": [
    "Lisatakse reegel kõneleja fikseeriva tekstifragmendi väljavõtmiseks:"
   ]
  },
  {
   "cell_type": "code",
   "execution_count": 9,
   "id": "49336cd6",
   "metadata": {},
   "outputs": [],
   "source": [
    "rule = [StaticExtractionRule(pattern=regex.Regex('((^|\\n)(?P<span>(?P<name>.*): ?))'), group=3)]\n",
    "ruleset = Ruleset()\n",
    "ruleset.add_rules(rule)"
   ]
  },
  {
   "cell_type": "markdown",
   "id": "e8d2c38f",
   "metadata": {},
   "source": [
    "Märgendaja RegexTagger loomine:"
   ]
  },
  {
   "cell_type": "code",
   "execution_count": 10,
   "id": "0b2c8cbd",
   "metadata": {},
   "outputs": [],
   "source": [
    "tagger = RegexTagger(\n",
    "    ruleset = ruleset,\n",
    "    output_layer = 'headers',\n",
    "    output_attributes = ['person'],\n",
    "    decorator=decorator,\n",
    "    match_attribute='match'\n",
    ")"
   ]
  },
  {
   "cell_type": "markdown",
   "id": "5dc68a53",
   "metadata": {},
   "source": [
    "Katsetus näidisteksti peal:"
   ]
  },
  {
   "cell_type": "code",
   "execution_count": 11,
   "id": "15dba834",
   "metadata": {},
   "outputs": [
    {
     "data": {
      "text/html": [
       "<h4>Layer</h4>\n",
       "\n",
       "\n",
       "<table border=\"1\" class=\"dataframe\">\n",
       "  <thead>\n",
       "    <tr style=\"text-align: right;\">\n",
       "      <th>layer name</th>\n",
       "      <th>attributes</th>\n",
       "      <th>parent</th>\n",
       "      <th>enveloping</th>\n",
       "      <th>ambiguous</th>\n",
       "      <th>span count</th>\n",
       "    </tr>\n",
       "  </thead>\n",
       "  <tbody>\n",
       "    <tr>\n",
       "      <td>headers</td>\n",
       "      <td>person</td>\n",
       "      <td>None</td>\n",
       "      <td>None</td>\n",
       "      <td>True</td>\n",
       "      <td>5</td>\n",
       "    </tr>\n",
       "  </tbody>\n",
       "</table>\n",
       "<table border=\"1\" class=\"dataframe\">\n",
       "  <thead>\n",
       "    <tr style=\"text-align: right;\">\n",
       "      <th>text</th>\n",
       "      <th>person</th>\n",
       "    </tr>\n",
       "  </thead>\n",
       "  <tbody>\n",
       "    <tr>\n",
       "      <td>K1:</td>\n",
       "      <td>K1</td>\n",
       "    </tr>\n",
       "    <tr>\n",
       "      <td>K2:</td>\n",
       "      <td>K2</td>\n",
       "    </tr>\n",
       "    <tr>\n",
       "      <td>K3:</td>\n",
       "      <td>K3</td>\n",
       "    </tr>\n",
       "    <tr>\n",
       "      <td>K4:</td>\n",
       "      <td>K4</td>\n",
       "    </tr>\n",
       "    <tr>\n",
       "      <td>K5:</td>\n",
       "      <td>K5</td>\n",
       "    </tr>\n",
       "  </tbody>\n",
       "</table>"
      ],
      "text/plain": [
       "Layer(name='headers', attributes=('person',), spans=SL[Span('K1: ', [{'person': 'K1'}]),\n",
       "Span('K2: ', [{'person': 'K2'}]),\n",
       "Span('K3: ', [{'person': 'K3'}]),\n",
       "Span('K4: ', [{'person': 'K4'}]),\n",
       "Span('K5: ', [{'person': 'K5'}])])"
      ]
     },
     "metadata": {},
     "output_type": "display_data"
    }
   ],
   "source": [
    "tagged_test_text = tagger.tag(Text(test_text))\n",
    "display(tagged_test_text.headers[:5])"
   ]
  },
  {
   "cell_type": "markdown",
   "id": "4dc72b0e",
   "metadata": {},
   "source": [
    "Märgendaja HeaderBasedSegmenter loomine:"
   ]
  },
  {
   "cell_type": "code",
   "execution_count": 12,
   "id": "951ca6da",
   "metadata": {},
   "outputs": [],
   "source": [
    "tagger2 = HeaderBasedSegmenter(\n",
    "    input_layer = 'headers', \n",
    "    output_layer = 'lines',\n",
    "    output_attributes = ['person'],\n",
    "    decorator = lambda header_span: {'person': header_span['person'][0]},\n",
    "    include_header = False\n",
    ")"
   ]
  },
  {
   "cell_type": "code",
   "execution_count": 13,
   "id": "9ca78182",
   "metadata": {},
   "outputs": [
    {
     "data": {
      "text/html": [
       "<h4>Layer</h4>\n",
       "\n",
       "\n",
       "<table border=\"1\" class=\"dataframe\">\n",
       "  <thead>\n",
       "    <tr style=\"text-align: right;\">\n",
       "      <th>layer name</th>\n",
       "      <th>attributes</th>\n",
       "      <th>parent</th>\n",
       "      <th>enveloping</th>\n",
       "      <th>ambiguous</th>\n",
       "      <th>span count</th>\n",
       "    </tr>\n",
       "  </thead>\n",
       "  <tbody>\n",
       "    <tr>\n",
       "      <td>lines</td>\n",
       "      <td>person</td>\n",
       "      <td>None</td>\n",
       "      <td>None</td>\n",
       "      <td>False</td>\n",
       "      <td>5</td>\n",
       "    </tr>\n",
       "  </tbody>\n",
       "</table>\n",
       "<table border=\"1\" class=\"dataframe\">\n",
       "  <thead>\n",
       "    <tr style=\"text-align: right;\">\n",
       "      <th>text</th>\n",
       "      <th>person</th>\n",
       "    </tr>\n",
       "  </thead>\n",
       "  <tbody>\n",
       "    <tr>\n",
       "      <td>ühe kindla kuju.\\n</td>\n",
       "      <td>K1</td>\n",
       "    </tr>\n",
       "    <tr>\n",
       "      <td>Asi ja kongressi sõna härra aga aga Siim nii ei tee.\\nJa asi vask ESA Taal Lonni  ..., type: &lt;class 'str'&gt;, length: 136</td>\n",
       "      <td>K2</td>\n",
       "    </tr>\n",
       "    <tr>\n",
       "      <td>Ja ta oli majandus.\\n</td>\n",
       "      <td>K3</td>\n",
       "    </tr>\n",
       "    <tr>\n",
       "      <td>Tervist sinu Kuku raadio Keskpäevatund Tallinna stuudios Ainar Ruussaar ja Priit ..., type: &lt;class 'str'&gt;, length: 1248</td>\n",
       "      <td>K4</td>\n",
       "    </tr>\n",
       "    <tr>\n",
       "      <td>No nüüd rohkem Tõnis Palts Valdo ka all ja ja veel mitmed ettevõtlusega seotud i ..., type: &lt;class 'str'&gt;, length: 341</td>\n",
       "      <td>K5</td>\n",
       "    </tr>\n",
       "  </tbody>\n",
       "</table>"
      ],
      "text/plain": [
       "Layer(name='lines', attributes=('person',), spans=SL[Span('ühe kindla kuju.\\n', [{'person': 'K1'}]),\n",
       "Span('Asi ja kongressi sõna härra aga aga Siim nii ei tee.\\nJa asi vask ESA Taal Lonni talus öös.\\nSee ei ole see ei saa olla nii et bussi ees.\\n', [{'person': 'K2'}]),\n",
       "Span('Ja ta oli majandus.\\n', [{'person': 'K3'}]),\n",
       "Span('Tervist sinu Kuku raadio Keskpäevatund Tallinna stuudios Ainar Ruussaar ja Priit olemegi Tartus Hannes Astok ja miks.\\nPärast laulis Singer Vinger et raske tabaksid siiski silmile kindlasti on olemas üks inimene kes neid näeb see on meie esiuus juht Taavi Laur ekspankur ja tema.\\nSuured rasked rahapakid noh tema palgaks mäe on olnud pangas nägema tema aasta I siis nõukogu heakskiidu või nõukogu ettepanekul siis oma uueks palganumbriks kuus tuhat viis eurot kuus mis siis vanas rahas on umbes sada tuhat.\\nKrooni kuus noh aasta välisvanasti ja.\\nüks koma kaks miljonit aastas üks koma kaks miljonit ütleme niimoodi et sa pead maksud maha umbes kaheksakümmend tuhat ja sisse kuus kätte ja noh ütleme nii et kui mõistlikult majandada siis iga kuu peaks umbes nii-öelda kogu tippmajandus umbes viiskümmend tuhat viiskümmend tuhat krooni vanas aastaks lihtsalt.\\nEt arve peale üle jääma ehk etteastega kuskil niimoodi pool miljonit.\\nKasvatada nii-öelda hoiukassas jääb on kas endale endale sellist on rasvakihti on kindlasti väga mugav.\\nAga see teema on äratanud suurt vastukaja sellel teemal on asunud võitlusse omavahel isegi sellised olulised isikud riigis nagu peaminister Andrus Ansipi ja siis Reformierakonna oluline tegelane mõjutaja me ei saada.\\n', [{'person': 'K4'}]),\n",
       "Span('No nüüd rohkem Tõnis Palts Valdo ka all ja ja veel mitmed ettevõtlusega seotud inimesed on mul sel teemal kus on avatud ja kõik nad on kõik aga millegipärast rünnanud peamiste Ansipit öelnud et.\\nAnsipi väite et jah võib-olla peaks riigiettevõtete juhtide ja sihtasutuse juhtide palkasid kuidagi kuidagi piirama või kastist oma lauspopulism.\\n', [{'person': 'K5'}])])"
      ]
     },
     "execution_count": 13,
     "metadata": {},
     "output_type": "execute_result"
    }
   ],
   "source": [
    "tagger2.tag(tagged_test_text)\n",
    "tagged_test_text.lines[:5]"
   ]
  },
  {
   "cell_type": "markdown",
   "id": "bf5c69f1",
   "metadata": {},
   "source": [
    "Nimeüksuste märgendaja NerTagger:"
   ]
  },
  {
   "cell_type": "code",
   "execution_count": 14,
   "id": "a52433cd",
   "metadata": {},
   "outputs": [],
   "source": [
    "nertagger = NerTagger()"
   ]
  },
  {
   "cell_type": "markdown",
   "id": "d8f8aa88",
   "metadata": {},
   "source": [
    "Luuakse andmebaas ja seal uus tabel, kuhu lisatakse kõik repliikidele vastavad Text-objektid, samuti info kuupäeva, kõneleja nime ja repliigi numbri kohta."
   ]
  },
  {
   "cell_type": "code",
   "execution_count": 18,
   "id": "9cba92fe",
   "metadata": {},
   "outputs": [
    {
     "data": {
      "text/plain": [
       "<sqlite3.Cursor at 0x1f51e3f91c0>"
      ]
     },
     "execution_count": 18,
     "metadata": {},
     "output_type": "execute_result"
    }
   ],
   "source": [
    "con = sqlite3.connect(\"media_data_2.db\")\n",
    "cur = con.cursor()\n",
    "cur.execute('pragma encoding=UTF8')\n",
    "cur.execute(\"CREATE TABLE lines(ID INTEGER PRIMARY KEY, line TEXT, number INTEGER, person TEXT, date DATE)\")"
   ]
  },
  {
   "cell_type": "code",
   "execution_count": 19,
   "id": "c9767a1a",
   "metadata": {},
   "outputs": [],
   "source": [
    "path = 'syntax_analysis_data/'\n",
    "for file in os.listdir(path):\n",
    "    with open(os.path.join(path, file), mode=\"r\", encoding=\"utf-8\") as f:\n",
    "        raw_text = f.read()\n",
    "        filename = file.replace('.txt', '')\n",
    "        date = datetime.datetime.strptime(filename, \"%Y-%m-%d\").date()\n",
    "        \n",
    "        text = tagger.tag(Text(raw_text))\n",
    "        text = tagger2.tag(text)\n",
    "        \n",
    "        for i in range(len(text.lines)):\n",
    "            span = text.lines[i]\n",
    "            line = span.text.strip()\n",
    "            if line == '':\n",
    "                continue\n",
    "            number = i+1\n",
    "            line = Text(line)\n",
    "            line.meta['line_number'] = number\n",
    "            line.meta['person'] = span.person\n",
    "            line.meta['date'] = filename\n",
    "            line.tag_layer(['sentences', 'morph_analysis'])\n",
    "            nertagger.tag(line)\n",
    "            line_json = text_to_json(line)\n",
    "            cur.execute(\"\"\"INSERT INTO lines\n",
    "                                  (line, number, person, date) \n",
    "                                  VALUES (?, ?, ?, ?);\"\"\", (line_json, number, span.person, date))\n",
    "            con.commit()"
   ]
  },
  {
   "cell_type": "code",
   "execution_count": 20,
   "id": "9f43c718",
   "metadata": {},
   "outputs": [],
   "source": [
    "con.close()"
   ]
  }
 ],
 "metadata": {
  "kernelspec": {
   "display_name": "Python 3 (ipykernel)",
   "language": "python",
   "name": "python3"
  },
  "language_info": {
   "codemirror_mode": {
    "name": "ipython",
    "version": 3
   },
   "file_extension": ".py",
   "mimetype": "text/x-python",
   "name": "python",
   "nbconvert_exporter": "python",
   "pygments_lexer": "ipython3",
   "version": "3.10.11"
  }
 },
 "nbformat": 4,
 "nbformat_minor": 5
}
