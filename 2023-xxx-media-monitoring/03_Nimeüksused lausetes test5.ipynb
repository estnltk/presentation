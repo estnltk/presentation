{
 "cells": [
  {
   "cell_type": "markdown",
   "id": "af0873bb",
   "metadata": {},
   "source": [
    "## Nimeüksused lausetes test5"
   ]
  },
  {
   "cell_type": "code",
   "execution_count": 117,
   "id": "4dd1f534",
   "metadata": {},
   "outputs": [],
   "source": [
    "from estnltk import Text\n",
    "import sqlite3\n",
    "from estnltk.converters import json_to_text\n",
    "from estnltk.converters import text_to_json\n",
    "from collections import Counter\n",
    "import itertools\n",
    "from copy import deepcopy"
   ]
  },
  {
   "cell_type": "markdown",
   "id": "375c6372",
   "metadata": {},
   "source": [
    "Tühi järjend lausete jaoks:"
   ]
  },
  {
   "cell_type": "code",
   "execution_count": 45,
   "id": "69ae09ad",
   "metadata": {},
   "outputs": [],
   "source": [
    "corpus = []"
   ]
  },
  {
   "cell_type": "markdown",
   "id": "0a794f52",
   "metadata": {},
   "source": [
    "Tühi järjend lausete ID-de jaoks:"
   ]
  },
  {
   "cell_type": "code",
   "execution_count": 46,
   "id": "f290eef6",
   "metadata": {},
   "outputs": [],
   "source": [
    "sentence_ids = []"
   ]
  },
  {
   "cell_type": "markdown",
   "id": "9753178f",
   "metadata": {},
   "source": [
    "Andmebaasist loetakse sisse laused:"
   ]
  },
  {
   "cell_type": "code",
   "execution_count": 47,
   "id": "20f80a33",
   "metadata": {},
   "outputs": [],
   "source": [
    "con = sqlite3.connect(\"media_data.db\")\n",
    "cur = con.cursor()"
   ]
  },
  {
   "cell_type": "code",
   "execution_count": 49,
   "id": "427644f4",
   "metadata": {},
   "outputs": [],
   "source": [
    "for row in cur.execute(\"SELECT ID, sentence FROM sentences WHERE named_entity = 1\"):\n",
    "    sentence_id = row[0]\n",
    "    sentence = json_to_text(json_text=row[1])\n",
    "    corpus.append(sentence)\n",
    "    sentence_ids.append(sentence_id)"
   ]
  },
  {
   "cell_type": "code",
   "execution_count": 50,
   "id": "ebb8b3b9",
   "metadata": {},
   "outputs": [],
   "source": [
    "con.close()"
   ]
  },
  {
   "cell_type": "markdown",
   "id": "0c8024a4",
   "metadata": {},
   "source": [
    "Vaatame üht lauset ja selle nimeüksusi:"
   ]
  },
  {
   "cell_type": "code",
   "execution_count": 51,
   "id": "6f5470be",
   "metadata": {},
   "outputs": [
    {
     "name": "stdout",
     "output_type": "stream",
     "text": [
      "LOC ['Eestis'] Eestis\n",
      "PER ['Eerik'] Eerik\n"
     ]
    }
   ],
   "source": [
    "for ner in corpus[5].ner:\n",
    "    print(ner.nertag, ner.text, ner.enclosing_text)"
   ]
  },
  {
   "cell_type": "markdown",
   "id": "d0039896",
   "metadata": {},
   "source": [
    "NerTagger võib olla teinud vigu, näiteks märkinud isikunime asukohaks, asukoha organisatsiooniks jne. Siin katsetan lihtsakoelist lahendust, mis ei korrigeeri kindlasti kõiki selliseid vigu, kuid võib nende vigade hulka vähendada. Nimelt loetakse kokku eri nimeüksuste esinemised kõigis liikides. Kui nimeüksus esineb rohkem kui ühes liigis, loetakse õigeks liigiks see, milles tema esinemissagedus kõige suurem on. Kui esinemissagedused on eri liikides võrdsed, ei tehta aga midagi.\n",
    "\n",
    "Esiteks loon tühjad järjendid nii isikunimede, organisatsiooninimede kui asukohanimede jaoks:"
   ]
  },
  {
   "cell_type": "code",
   "execution_count": 72,
   "id": "28793149",
   "metadata": {},
   "outputs": [],
   "source": [
    "entities_PER = []\n",
    "entities_ORG = []\n",
    "entities_LOC = []"
   ]
  },
  {
   "cell_type": "markdown",
   "id": "09521a26",
   "metadata": {},
   "source": [
    "Seejärel käin läbi kõik korpuses olevad laused ja lisan nimeüksused järjenditesse vastavalt nende liigile:"
   ]
  },
  {
   "cell_type": "code",
   "execution_count": 73,
   "id": "87403a6c",
   "metadata": {},
   "outputs": [],
   "source": [
    "for sentence in corpus:\n",
    "    for ner in sentence.ner:\n",
    "        lemmatized_ner = [word.lemma[0] for word in ner]\n",
    "        if ner.nertag == 'PER':\n",
    "            entities_PER.append(' '.join(lemmatized_ner))\n",
    "        elif ner.nertag == 'ORG':\n",
    "            entities_ORG.append(' '.join(lemmatized_ner))\n",
    "        else:\n",
    "            entities_LOC.append(' '.join(lemmatized_ner))"
   ]
  },
  {
   "cell_type": "code",
   "execution_count": 99,
   "id": "a7c187af",
   "metadata": {},
   "outputs": [
    {
     "data": {
      "text/plain": [
       "320"
      ]
     },
     "execution_count": 99,
     "metadata": {},
     "output_type": "execute_result"
    }
   ],
   "source": [
    "len(entities_PER)"
   ]
  },
  {
   "cell_type": "code",
   "execution_count": 100,
   "id": "46a9836d",
   "metadata": {},
   "outputs": [
    {
     "data": {
      "text/plain": [
       "152"
      ]
     },
     "execution_count": 100,
     "metadata": {},
     "output_type": "execute_result"
    }
   ],
   "source": [
    "len(entities_ORG)"
   ]
  },
  {
   "cell_type": "code",
   "execution_count": 101,
   "id": "b4b85fcf",
   "metadata": {},
   "outputs": [
    {
     "data": {
      "text/plain": [
       "353"
      ]
     },
     "execution_count": 101,
     "metadata": {},
     "output_type": "execute_result"
    }
   ],
   "source": [
    "len(entities_LOC)"
   ]
  },
  {
   "cell_type": "markdown",
   "id": "9980a3d7",
   "metadata": {},
   "source": [
    "Seejärel tuleb tekitada kõigi nimeolemiliikide sagedusloendid:"
   ]
  },
  {
   "cell_type": "code",
   "execution_count": 102,
   "id": "8bf5680a",
   "metadata": {},
   "outputs": [],
   "source": [
    "entities_PER_lower = [name.lower() for name in entities_PER]\n",
    "entities_ORG_lower = [name.lower() for name in entities_ORG]\n",
    "entities_LOC_lower = [name.lower() for name in entities_LOC]"
   ]
  },
  {
   "cell_type": "code",
   "execution_count": 160,
   "id": "e10dd005",
   "metadata": {},
   "outputs": [],
   "source": [
    "frequencies_PER = Counter(entities_PER_lower)\n",
    "frequencies_ORG = Counter(entities_ORG_lower)\n",
    "frequencies_LOC = Counter(entities_LOC_lower)"
   ]
  },
  {
   "cell_type": "code",
   "execution_count": 161,
   "id": "47539af2",
   "metadata": {},
   "outputs": [
    {
     "name": "stdout",
     "output_type": "stream",
     "text": [
      "PER\tORG\tLOC\n",
      "('edgar savisaar', 17) ('keskerakond', 20) ('eesti', 98)\n",
      "('jüri', 10) ('rein', 8) ('tallinn', 45)\n",
      "('andrus ansip', 8) ('irl', 7) ('euroopa', 18)\n",
      "('ansip', 8) ('euroopa liit', 5) ('hiina', 15)\n",
      "('kaarel', 8) ('reformierakond', 5) ('tartu', 10)\n",
      "('rein', 7) ('euroopa liidu', 5) ('soome', 8)\n",
      "('andrus', 7) ('kapo', 4) ('rootsi', 4)\n",
      "('marek strandberg', 6) ('riigikogu', 4) ('läti', 4)\n",
      "('allar jõks', 5) ('eesti energia', 3) ('euroopa liit', 4)\n",
      "('strandberg', 5) ('bns', 3) ('eesti vabariik', 3)\n",
      "('hans', 4) ('tallinn tehnikaülikool', 3) ('narva', 3)\n",
      "('sven', 4) ('isamaa', 3) ('eesti riik', 3)\n",
      "('andres', 4) ('briti parlament', 3) ('loksa', 3)\n",
      "('toomas hendrik', 4) ('h', 2) ('tallinn linn', 3)\n",
      "('oviir', 4) ('delfi', 2) ('pariis', 3)\n",
      "('mihkel oviir', 4) ('tallinn ülikool', 2) ('kreeka', 3)\n",
      "('ainar ruussaar', 4) ('el', 2) ('pärnu', 3)\n",
      "('gunnar', 3) ('kreeta', 2) ('helsingi', 2)\n",
      "('indrek', 3) ('nato', 2) ('keila', 2)\n",
      "('tiit', 3) ('tartu rein', 2) ('brüssel', 2)\n",
      "('aivar', 3) ('postimees', 2) ('mongoolia', 2)\n",
      "('timberg', 3) ('euroopa komisjon', 2) ('aasia', 2)\n",
      "('urmas jaagant', 3) ('taska', 1) ('odessa', 2)\n",
      "('priit hõbemägi', 3) ('vadim belov', 1) ('london', 2)\n",
      "('kobin', 3) ('pbk', 1) ('saksamaa', 2)\n",
      "('hillar teder', 3) ('ccbe', 1) ('itaalia', 2)\n",
      "('meelis', 2) ('irl roheline', 1) ('venemaa', 2)\n",
      "('vadim', 2) ('sots', 1) ('reinsalu', 2)\n",
      "('margus', 2) ('etv', 1) ('taskend', 2)\n",
      "('eiki', 2) ('demokraat obama', 1) ('bagdad', 2)\n",
      "('meri', 2) ('err', 1) ('ameerika', 2)\n",
      "('evelin', 2) ('forever', 1) ('tallinntartu', 2)\n",
      "('toomas henrik', 2) ('annepii', 1) ('idaviru', 2)\n",
      "('toomas', 2) ('värimäe', 1) ('timbergi', 2)\n",
      "('oleg ljadov', 2) ('res publica', 1) ('padar', 2)\n",
      "('thomas', 2) ('res publica res publica', 1) ('brexit', 2)\n",
      "('tootsi', 2) ('li', 1) ('briti saar', 2)\n",
      "('kallas', 2) ('kuusalu vallavalitsus', 1) ('inglismaa', 2)\n",
      "('margus tsahkna', 2) ('tallinn reet', 1) ('viina', 1)\n",
      "('hannes', 2) ('it', 1) ('vassel', 1)\n",
      "('kaie', 2) ('toots tee', 1) ('natanz', 1)\n",
      "('margus allikmaa', 2) ('esdp', 1) ('taska', 1)\n",
      "('jaanus', 2) ('dr', 1) ('keskeesti', 1)\n",
      "('edgar', 2) ('pk', 1) ('kuressaare', 1)\n",
      "('argo', 2) ('pilvre', 1) ('viin', 1)\n",
      "('marko', 2) ('amnesty', 1) ('india', 1)\n",
      "('mart', 2) ('as', 1) ('tallo', 1)\n",
      "('ülle', 2) ('polaris', 1) ('tallinn linn idavirumaa', 1)\n",
      "('jüri tamm', 2) ('euroopa parlament', 1) ('warhol', 1)\n",
      "('tero taskila', 2) ('b', 1) ('kristiine linnaosa', 1)\n",
      "('air baltic', 2) ('online', 1) ('peking', 1)\n",
      "('riia', 2) ('t', 1) ('kiviõli', 1)\n",
      "('mailis reps', 2) ('neena viiding', 1) ('aru', 1)\n",
      "('eerik', 1) ('ab', 1) ('jordaania', 1)\n",
      "('olev esula', 1) ('vanity wimax', 1) ('maroko', 1)\n",
      "('juskin', 1) ('saare priidu', 1) ('kalifornia', 1)\n",
      "('siim kallas', 1) ('levadia', 1) ('usa', 1)\n",
      "('deniss borodits', 1) ('sagadibaas', 1) ('tallinnatartu', 1)\n",
      "('jukuminek', 1) ('ek', 1) ('toots', 1)\n",
      "('borodits', 1) ('menning parlamendipartei', 1) ('tonga', 1)\n",
      "('kerviel', 1) ('euroopa nõukogu', 1) ('angelu', 1)\n",
      "('lasna', 1) ('eta', 1) ('vanarand', 1)\n",
      "('heimar lenk', 1) ('big star', 1) ('väike', 1)\n",
      "('häkkinen', 1) ('tdi', 1) ('poliitiline', 1)\n",
      "('molly', 1) ('harri tali', 1) ('augul', 1)\n",
      "('raimo', 1) ('kaitseliit', 1) ('nigeeria', 1)\n",
      "('baran', 1) ('loeb', 1) ('erasmu', 1)\n",
      "('batory', 1) ('teu tv', 1) ('sangaste', 1)\n",
      "('hannes hanso', 1) ('kiviter', 1) ('kanada', 1)\n",
      "('clyde', 1) ('kreitzberg', 1) ('katariina', 1)\n",
      "('aleksei', 1) ('karelitekst', 1) ('teder', 1)\n",
      "('juhan', 1) ('keskpäevatund', 1) ('pikaro', 1)\n",
      "('ivan', 1) ('nordika', 1) ('vahemeri', 1)\n",
      "('fostermiller', 1) ('estonian air', 1) ('taskendis', 1)\n",
      "('alma', 1) ('nordikat', 1) ('ruanda', 1)\n",
      "('indrek teder', 1) ('tartu ülikool akadeemiline raamatukogu', 1) ('discdiskussioon', 1)\n",
      "('taavi', 1) ('ragnar nurkne instituut', 1) ('leedu', 1)\n",
      "('meelis atonen', 1) ('tallinn tehnikaülitallinn tehnikaülikool', 1) ('reiljan', 1)\n",
      "('loorents', 1) ('tartu ülikool', 1) ('kenmart', 1)\n",
      "('estrada', 1) ('tv', 1) ('kaiu', 1)\n",
      "('stasi', 1) ('bbc', 1) ('parts', 1)\n",
      "('ruth', 1) ('briti valitsus', 1) ('taani', 1)\n",
      "('stalina', 1) ('maailm kaubandusorganisatsioon', 1) ('kureslaulda', 1)\n",
      "('liina tõnisson', 1) None ('silve', 1)\n",
      "('anto liivat', 1) None ('iirimaa', 1)\n",
      "('simson', 1) None ('portugal', 1)\n",
      "('tsahkna', 1) None ('hispaania', 1)\n",
      "('liina', 1) None ('saare', 1)\n",
      "('arte sven', 1) None ('lõunaeuroopa', 1)\n",
      "('untergang', 1) None ('juventu', 1)\n",
      "('endrekson', 1) None ('eiffel', 1)\n",
      "('semper', 1) None ('ikla', 1)\n",
      "('reet', 1) None ('kümme', 1)\n",
      "('jolanda', 1) None ('gruusia', 1)\n",
      "('karl', 1) None ('läänegruusia', 1)\n",
      "('kelly', 1) None ('idavirumaa', 1)\n",
      "('gatesile', 1) None ('baltiisk', 1)\n",
      "('sans', 1) None ('poola', 1)\n",
      "('cooney', 1) None ('baier', 1)\n",
      "('faktumi', 1) None ('oulu', 1)\n",
      "('ariko', 1) None ('levadia', 1)\n",
      "('laine avio', 1) None ('anve', 1)\n",
      "('sirje', 1) None ('twitter', 1)\n",
      "('diana', 1) None ('piir', 1)\n",
      "('reinsalu vaher', 1) None ('hõbemägi', 1)\n",
      "('ainar', 1) None ('ojuland', 1)\n",
      "('piia', 1) None ('mekeles', 1)\n",
      "('ilja', 1) None ('tallinn riia', 1)\n",
      "('pixar', 1) None ('madagaskar', 1)\n",
      "('erika', 1) None ('pidviin', 1)\n",
      "('books david', 1) None ('ekre', 1)\n",
      "('jõks', 1) None ('tiimaa', 1)\n",
      "('kaia', 1) None ('tehnikaülikool', 1)\n",
      "('juliette', 1) None ('prinston', 1)\n",
      "('einstein', 1) None ('harvard', 1)\n",
      "('roman', 1) None ('oxford', 1)\n",
      "('edgar savisaar rein', 1) None ('düsseldorf', 1)\n",
      "('urmas', 1) None ('ühendkuningriik', 1)\n",
      "('oskar wahid', 1) None ('briti', 1)\n",
      "('ideon rein', 1) None None\n",
      "('urmas reinsalu', 1) None None\n",
      "('mare andrus', 1) None None\n",
      "('sandberg', 1) None None\n",
      "('triin', 1) None None\n",
      "('volkonski', 1) None None\n",
      "('kärt', 1) None None\n",
      "('dima', 1) None None\n",
      "('neeme järvit', 1) None None\n",
      "('keit pentus', 1) None None\n",
      "('ultima thule', 1) None None\n",
      "('ensto salumi', 1) None None\n",
      "('kuno', 1) None None\n",
      "('moonika', 1) None None\n",
      "('andreas reinberg', 1) None None\n",
      "('reinberg', 1) None None\n",
      "('harry', 1) None None\n",
      "('wimberg', 1) None None\n",
      "('scott gomez', 1) None None\n",
      "('timbergile', 1) None None\n",
      "('ivo paulus', 1) None None\n",
      "('hans andrus ansip', 1) None None\n",
      "('pädaste', 1) None None\n",
      "('tegemis', 1) None None\n",
      "('ain', 1) None None\n",
      "('indrek neivelt', 1) None None\n",
      "('uno mereste', 1) None None\n",
      "('andrejev', 1) None None\n",
      "('maie', 1) None None\n",
      "('paalberg belobrovtsev', 1) None None\n",
      "('rain rosimannus', 1) None None\n",
      "('jüri pihl', 1) None None\n",
      "('karel', 1) None None\n",
      "('andreas', 1) None None\n",
      "('andres siitan', 1) None None\n",
      "('viljasavisaar toomas', 1) None None\n",
      "('le pen', 1) None None\n",
      "('rosalint', 1) None None\n",
      "('oleg', 1) None None\n",
      "('martti', 1) None None\n",
      "('sid', 1) None None\n",
      "('aalto', 1) None None\n",
      "('mart sander', 1) None None\n",
      "('gunnar kobin', 1) None None\n",
      "('ja taskila', 1) None None\n",
      "('taskila', 1) None None\n",
      "('juhan parts', 1) None None\n",
      "('erki urva', 1) None None\n",
      "('toomas peterson', 1) None None\n",
      "('sven sester facebook', 1) None None\n",
      "('paavo betaile', 1) None None\n",
      "('teder', 1) None None\n",
      "('ekre', 1) None None\n",
      "('savisaar', 1) None None\n",
      "('jüri ratas', 1) None None\n",
      "('jaak aaviksoo', 1) None None\n",
      "('ragnar nurkse', 1) None None\n",
      "('peeter', 1) None None\n",
      "('facebooki', 1) None None\n",
      "('anna põld', 1) None None\n",
      "('helir-valdor seeder', 1) None None\n",
      "('boris prantsus', 1) None None\n",
      "('johnson', 1) None None\n",
      "('brexiti', 1) None None\n"
     ]
    }
   ],
   "source": [
    "print('PER' + '\\t' + 'ORG' + '\\t' + 'LOC')\n",
    "for (per, org, loc) in itertools.zip_longest(frequencies_PER.most_common(), frequencies_ORG.most_common(), frequencies_LOC.most_common()):\n",
    "    print(per, org, loc)"
   ]
  },
  {
   "cell_type": "markdown",
   "id": "8a983332",
   "metadata": {},
   "source": [
    "Loon uued järjendid isiku-, organisatsiooni- ja asukohanimede jaoks:"
   ]
  },
  {
   "cell_type": "code",
   "execution_count": 162,
   "id": "6cc32805",
   "metadata": {},
   "outputs": [],
   "source": [
    "entities_PER_new = []\n",
    "entities_ORG_new = []\n",
    "entities_LOC_new = []"
   ]
  },
  {
   "cell_type": "code",
   "execution_count": 163,
   "id": "c1fd4a84",
   "metadata": {},
   "outputs": [],
   "source": [
    "frequencies_PER_copy = deepcopy(frequencies_PER)\n",
    "frequencies_ORG_copy = deepcopy(frequencies_ORG)\n",
    "frequencies_LOC_copy = deepcopy(frequencies_LOC)"
   ]
  },
  {
   "cell_type": "code",
   "execution_count": 164,
   "id": "5bc6bd5b",
   "metadata": {},
   "outputs": [],
   "source": [
    "equal_occurrences = []"
   ]
  },
  {
   "cell_type": "code",
   "execution_count": 165,
   "id": "5232af48",
   "metadata": {},
   "outputs": [
    {
     "name": "stdout",
     "output_type": "stream",
     "text": [
      "rein ORG: 8 PER: 7\n",
      "euroopa liit LOC: 4 ORG: 5\n"
     ]
    }
   ],
   "source": [
    "#Kas isikunimede hulgas olevad nimed leiduvad ka organisatsiooni- või asukohanimede hulgas:\n",
    "for name in frequencies_PER_copy.keys():\n",
    "    if frequencies_ORG_copy[name] > 0:\n",
    "        if frequencies_ORG_copy[name] > frequencies_PER_copy[name]:\n",
    "            print(name, 'ORG:', frequencies_ORG_copy[name], 'PER:', frequencies_PER_copy[name])\n",
    "            del frequencies_PER[name]\n",
    "        elif frequencies_ORG_copy[name] < frequencies_PER_copy[name]:\n",
    "            print(name, 'ORG:', frequencies_ORG_copy[name], 'PER:', frequencies_PER_copy[name])\n",
    "            del frequencies_ORG[name]\n",
    "        else:\n",
    "            equal_occurrences.append(name)\n",
    "                \n",
    "    if frequencies_LOC_copy[name] > 0:\n",
    "        if frequencies_LOC_copy[name] > frequencies_PER_copy[name]:\n",
    "            print(name, 'LOC:', frequencies_LOC_copy[name], 'PER:', frequencies_PER_copy[name])\n",
    "            del frequencies_PER[name]\n",
    "        elif frequencies_LOC_copy[name] < frequencies_PER_copy[name]:\n",
    "            print(name, 'LOC:', frequencies_LOC_copy[name], 'PER:', frequencies_PER_copy[name])\n",
    "            del frequencies_LOC[name]\n",
    "        else:\n",
    "            equal_occurrences.append(name)\n",
    "            \n",
    "#Kas organisatsiooninimede hulgas leidub nimesid, mis esinevad ka asukohanimede hulgas (isikunimesid pole vaja uuesti läbi käia):\n",
    "for name in frequencies_ORG_copy.keys():\n",
    "    if frequencies_LOC_copy[name] > 0:\n",
    "        if frequencies_LOC_copy[name] > frequencies_ORG_copy[name]:\n",
    "            print(name, 'LOC:', frequencies_LOC_copy[name], 'ORG:', frequencies_ORG_copy[name])\n",
    "            del frequencies_ORG[name]\n",
    "        elif frequencies_LOC_copy[name] < frequencies_ORG_copy[name]:\n",
    "            print(name, 'LOC:', frequencies_LOC_copy[name], 'ORG:', frequencies_ORG_copy[name])\n",
    "            del frequencies_LOC[name]\n",
    "        else:\n",
    "            equal_occurrences.append(name)\n",
    "            \n",
    "#Asukohanimesid pole vaja eraldi läbi käia, seal leiduvad duplikaadid kas isiku- või organisatsiooninimedest on juba tuvastatud.  "
   ]
  },
  {
   "cell_type": "code",
   "execution_count": 166,
   "id": "5a6805fd",
   "metadata": {},
   "outputs": [
    {
     "name": "stdout",
     "output_type": "stream",
     "text": [
      "PER\tORG\tLOC\n",
      "('edgar savisaar', 17) ('keskerakond', 20) ('eesti', 98)\n",
      "('jüri', 10) ('rein', 8) ('tallinn', 45)\n",
      "('andrus ansip', 8) ('irl', 7) ('euroopa', 18)\n",
      "('ansip', 8) ('euroopa liit', 5) ('hiina', 15)\n",
      "('kaarel', 8) ('reformierakond', 5) ('tartu', 10)\n",
      "('andrus', 7) ('euroopa liidu', 5) ('soome', 8)\n",
      "('marek strandberg', 6) ('kapo', 4) ('rootsi', 4)\n",
      "('allar jõks', 5) ('riigikogu', 4) ('läti', 4)\n",
      "('strandberg', 5) ('eesti energia', 3) ('eesti vabariik', 3)\n",
      "('hans', 4) ('bns', 3) ('narva', 3)\n",
      "('sven', 4) ('tallinn tehnikaülikool', 3) ('eesti riik', 3)\n",
      "('andres', 4) ('isamaa', 3) ('loksa', 3)\n",
      "('toomas hendrik', 4) ('briti parlament', 3) ('tallinn linn', 3)\n",
      "('oviir', 4) ('h', 2) ('pariis', 3)\n",
      "('mihkel oviir', 4) ('delfi', 2) ('kreeka', 3)\n",
      "('ainar ruussaar', 4) ('tallinn ülikool', 2) ('pärnu', 3)\n",
      "('gunnar', 3) ('el', 2) ('helsingi', 2)\n",
      "('indrek', 3) ('kreeta', 2) ('keila', 2)\n",
      "('tiit', 3) ('nato', 2) ('brüssel', 2)\n",
      "('aivar', 3) ('tartu rein', 2) ('mongoolia', 2)\n",
      "('timberg', 3) ('postimees', 2) ('aasia', 2)\n",
      "('urmas jaagant', 3) ('euroopa komisjon', 2) ('odessa', 2)\n",
      "('priit hõbemägi', 3) ('taska', 1) ('london', 2)\n",
      "('kobin', 3) ('vadim belov', 1) ('saksamaa', 2)\n",
      "('hillar teder', 3) ('pbk', 1) ('itaalia', 2)\n",
      "('meelis', 2) ('ccbe', 1) ('venemaa', 2)\n",
      "('vadim', 2) ('irl roheline', 1) ('reinsalu', 2)\n",
      "('margus', 2) ('sots', 1) ('taskend', 2)\n",
      "('eiki', 2) ('etv', 1) ('bagdad', 2)\n",
      "('meri', 2) ('demokraat obama', 1) ('ameerika', 2)\n",
      "('evelin', 2) ('err', 1) ('tallinntartu', 2)\n",
      "('toomas henrik', 2) ('forever', 1) ('idaviru', 2)\n",
      "('toomas', 2) ('annepii', 1) ('timbergi', 2)\n",
      "('oleg ljadov', 2) ('värimäe', 1) ('padar', 2)\n",
      "('thomas', 2) ('res publica', 1) ('brexit', 2)\n",
      "('tootsi', 2) ('res publica res publica', 1) ('briti saar', 2)\n",
      "('kallas', 2) ('li', 1) ('inglismaa', 2)\n",
      "('margus tsahkna', 2) ('kuusalu vallavalitsus', 1) ('viina', 1)\n",
      "('hannes', 2) ('tallinn reet', 1) ('vassel', 1)\n",
      "('kaie', 2) ('it', 1) ('natanz', 1)\n",
      "('margus allikmaa', 2) ('toots tee', 1) ('taska', 1)\n",
      "('jaanus', 2) ('esdp', 1) ('keskeesti', 1)\n",
      "('edgar', 2) ('dr', 1) ('kuressaare', 1)\n",
      "('argo', 2) ('pk', 1) ('viin', 1)\n",
      "('marko', 2) ('pilvre', 1) ('india', 1)\n",
      "('mart', 2) ('amnesty', 1) ('tallo', 1)\n",
      "('ülle', 2) ('as', 1) ('tallinn linn idavirumaa', 1)\n",
      "('jüri tamm', 2) ('polaris', 1) ('warhol', 1)\n",
      "('tero taskila', 2) ('euroopa parlament', 1) ('kristiine linnaosa', 1)\n",
      "('air baltic', 2) ('b', 1) ('peking', 1)\n",
      "('riia', 2) ('online', 1) ('kiviõli', 1)\n",
      "('mailis reps', 2) ('t', 1) ('aru', 1)\n",
      "('eerik', 1) ('neena viiding', 1) ('jordaania', 1)\n",
      "('olev esula', 1) ('ab', 1) ('maroko', 1)\n",
      "('juskin', 1) ('vanity wimax', 1) ('kalifornia', 1)\n",
      "('siim kallas', 1) ('saare priidu', 1) ('usa', 1)\n",
      "('deniss borodits', 1) ('levadia', 1) ('tallinnatartu', 1)\n",
      "('jukuminek', 1) ('sagadibaas', 1) ('toots', 1)\n",
      "('borodits', 1) ('ek', 1) ('tonga', 1)\n",
      "('kerviel', 1) ('menning parlamendipartei', 1) ('angelu', 1)\n",
      "('lasna', 1) ('euroopa nõukogu', 1) ('vanarand', 1)\n",
      "('heimar lenk', 1) ('eta', 1) ('väike', 1)\n",
      "('häkkinen', 1) ('big star', 1) ('poliitiline', 1)\n",
      "('molly', 1) ('tdi', 1) ('augul', 1)\n",
      "('raimo', 1) ('harri tali', 1) ('nigeeria', 1)\n",
      "('baran', 1) ('kaitseliit', 1) ('erasmu', 1)\n",
      "('batory', 1) ('loeb', 1) ('sangaste', 1)\n",
      "('hannes hanso', 1) ('teu tv', 1) ('kanada', 1)\n",
      "('clyde', 1) ('kiviter', 1) ('katariina', 1)\n",
      "('aleksei', 1) ('kreitzberg', 1) ('teder', 1)\n",
      "('juhan', 1) ('karelitekst', 1) ('pikaro', 1)\n",
      "('ivan', 1) ('keskpäevatund', 1) ('vahemeri', 1)\n",
      "('fostermiller', 1) ('nordika', 1) ('taskendis', 1)\n",
      "('alma', 1) ('estonian air', 1) ('ruanda', 1)\n",
      "('indrek teder', 1) ('nordikat', 1) ('discdiskussioon', 1)\n",
      "('taavi', 1) ('tartu ülikool akadeemiline raamatukogu', 1) ('leedu', 1)\n",
      "('meelis atonen', 1) ('ragnar nurkne instituut', 1) ('reiljan', 1)\n",
      "('loorents', 1) ('tallinn tehnikaülitallinn tehnikaülikool', 1) ('kenmart', 1)\n",
      "('estrada', 1) ('tartu ülikool', 1) ('kaiu', 1)\n",
      "('stasi', 1) ('tv', 1) ('parts', 1)\n",
      "('ruth', 1) ('bbc', 1) ('taani', 1)\n",
      "('stalina', 1) ('briti valitsus', 1) ('kureslaulda', 1)\n",
      "('liina tõnisson', 1) ('maailm kaubandusorganisatsioon', 1) ('silve', 1)\n",
      "('anto liivat', 1) None ('iirimaa', 1)\n",
      "('simson', 1) None ('portugal', 1)\n",
      "('tsahkna', 1) None ('hispaania', 1)\n",
      "('liina', 1) None ('saare', 1)\n",
      "('arte sven', 1) None ('lõunaeuroopa', 1)\n",
      "('untergang', 1) None ('juventu', 1)\n",
      "('endrekson', 1) None ('eiffel', 1)\n",
      "('semper', 1) None ('ikla', 1)\n",
      "('reet', 1) None ('kümme', 1)\n",
      "('jolanda', 1) None ('gruusia', 1)\n",
      "('karl', 1) None ('läänegruusia', 1)\n",
      "('kelly', 1) None ('idavirumaa', 1)\n",
      "('gatesile', 1) None ('baltiisk', 1)\n",
      "('sans', 1) None ('poola', 1)\n",
      "('cooney', 1) None ('baier', 1)\n",
      "('faktumi', 1) None ('oulu', 1)\n",
      "('ariko', 1) None ('levadia', 1)\n",
      "('laine avio', 1) None ('anve', 1)\n",
      "('sirje', 1) None ('twitter', 1)\n",
      "('diana', 1) None ('piir', 1)\n",
      "('reinsalu vaher', 1) None ('hõbemägi', 1)\n",
      "('ainar', 1) None ('ojuland', 1)\n",
      "('piia', 1) None ('mekeles', 1)\n",
      "('ilja', 1) None ('tallinn riia', 1)\n",
      "('pixar', 1) None ('madagaskar', 1)\n",
      "('erika', 1) None ('pidviin', 1)\n",
      "('books david', 1) None ('ekre', 1)\n",
      "('jõks', 1) None ('tiimaa', 1)\n",
      "('kaia', 1) None ('tehnikaülikool', 1)\n",
      "('juliette', 1) None ('prinston', 1)\n",
      "('einstein', 1) None ('harvard', 1)\n",
      "('roman', 1) None ('oxford', 1)\n",
      "('edgar savisaar rein', 1) None ('düsseldorf', 1)\n",
      "('urmas', 1) None ('ühendkuningriik', 1)\n",
      "('oskar wahid', 1) None ('briti', 1)\n",
      "('ideon rein', 1) None None\n",
      "('urmas reinsalu', 1) None None\n",
      "('mare andrus', 1) None None\n",
      "('sandberg', 1) None None\n",
      "('triin', 1) None None\n",
      "('volkonski', 1) None None\n",
      "('kärt', 1) None None\n",
      "('dima', 1) None None\n",
      "('neeme järvit', 1) None None\n",
      "('keit pentus', 1) None None\n",
      "('ultima thule', 1) None None\n",
      "('ensto salumi', 1) None None\n",
      "('kuno', 1) None None\n",
      "('moonika', 1) None None\n",
      "('andreas reinberg', 1) None None\n",
      "('reinberg', 1) None None\n",
      "('harry', 1) None None\n",
      "('wimberg', 1) None None\n",
      "('scott gomez', 1) None None\n",
      "('timbergile', 1) None None\n",
      "('ivo paulus', 1) None None\n",
      "('hans andrus ansip', 1) None None\n",
      "('pädaste', 1) None None\n",
      "('tegemis', 1) None None\n",
      "('ain', 1) None None\n",
      "('indrek neivelt', 1) None None\n",
      "('uno mereste', 1) None None\n",
      "('andrejev', 1) None None\n",
      "('maie', 1) None None\n",
      "('paalberg belobrovtsev', 1) None None\n",
      "('rain rosimannus', 1) None None\n",
      "('jüri pihl', 1) None None\n",
      "('karel', 1) None None\n",
      "('andreas', 1) None None\n",
      "('andres siitan', 1) None None\n",
      "('viljasavisaar toomas', 1) None None\n",
      "('le pen', 1) None None\n",
      "('rosalint', 1) None None\n",
      "('oleg', 1) None None\n",
      "('martti', 1) None None\n",
      "('sid', 1) None None\n",
      "('aalto', 1) None None\n",
      "('mart sander', 1) None None\n",
      "('gunnar kobin', 1) None None\n",
      "('ja taskila', 1) None None\n",
      "('taskila', 1) None None\n",
      "('juhan parts', 1) None None\n",
      "('erki urva', 1) None None\n",
      "('toomas peterson', 1) None None\n",
      "('sven sester facebook', 1) None None\n",
      "('paavo betaile', 1) None None\n",
      "('teder', 1) None None\n",
      "('ekre', 1) None None\n",
      "('savisaar', 1) None None\n",
      "('jüri ratas', 1) None None\n",
      "('jaak aaviksoo', 1) None None\n",
      "('ragnar nurkse', 1) None None\n",
      "('peeter', 1) None None\n",
      "('facebooki', 1) None None\n",
      "('anna põld', 1) None None\n",
      "('helir-valdor seeder', 1) None None\n",
      "('boris prantsus', 1) None None\n",
      "('johnson', 1) None None\n",
      "('brexiti', 1) None None\n"
     ]
    }
   ],
   "source": [
    "print('PER' + '\\t' + 'ORG' + '\\t' + 'LOC')\n",
    "for (per, org, loc) in itertools.zip_longest(frequencies_PER.most_common(), frequencies_ORG.most_common(), frequencies_LOC.most_common()):\n",
    "    print(per, org, loc)"
   ]
  },
  {
   "cell_type": "code",
   "execution_count": 167,
   "id": "23443b85",
   "metadata": {},
   "outputs": [
    {
     "name": "stdout",
     "output_type": "stream",
     "text": [
      "['teder', 'ekre', 'taska', 'levadia']\n"
     ]
    }
   ],
   "source": [
    "print(equal_occurrences)"
   ]
  },
  {
   "cell_type": "code",
   "execution_count": 168,
   "id": "9ebb62a1",
   "metadata": {},
   "outputs": [],
   "source": [
    "for name in frequencies_PER.keys():\n",
    "    entities_PER_new.append(name)\n",
    "    \n",
    "for name in frequencies_ORG.keys():\n",
    "    entities_ORG_new.append(name)\n",
    "    \n",
    "for name in frequencies_LOC.keys():\n",
    "    entities_LOC_new.append(name)"
   ]
  },
  {
   "cell_type": "markdown",
   "id": "4945cfc9",
   "metadata": {},
   "source": [
    "Järgnevalt on vaja luua andmebaasi uus tabel nimeüksuste hoiustamiseks."
   ]
  },
  {
   "cell_type": "code",
   "execution_count": 179,
   "id": "81794c5e",
   "metadata": {},
   "outputs": [],
   "source": [
    "con = sqlite3.connect(\"media_data.db\")\n",
    "cur = con.cursor()"
   ]
  },
  {
   "cell_type": "code",
   "execution_count": 181,
   "id": "12e8917a",
   "metadata": {},
   "outputs": [
    {
     "data": {
      "text/plain": [
       "<sqlite3.Cursor at 0x1be20356fc0>"
      ]
     },
     "execution_count": 181,
     "metadata": {},
     "output_type": "execute_result"
    }
   ],
   "source": [
    "cur.execute(\"CREATE TABLE named_entities(ID INTEGER PRIMARY KEY, sentence_ID INTEGER, PER TEXT, ORG TEXT)\")"
   ]
  },
  {
   "cell_type": "code",
   "execution_count": 182,
   "id": "a7bb0785",
   "metadata": {},
   "outputs": [],
   "source": [
    "for i in range(len(corpus)):\n",
    "    for ner in corpus[i].ner:\n",
    "        lemmatized_ner = [word.lemma[0] for word in ner]\n",
    "        lemmatized_ner_text = ' '.join(lemmatized_ner).lower()\n",
    "        if ner.nertag == 'PER' and lemmatized_ner_text in entities_PER_new:\n",
    "            cur.execute(\"\"\"INSERT INTO named_entities\n",
    "                                    (sentence_ID, PER)\n",
    "                                    VALUES (?, ?);\"\"\", (sentence_ids[i], lemmatized_ner_text))\n",
    "        elif ner.nertag != 'PER' and lemmatized_ner_text in entities_PER_new and lemmatized_ner_text not in equal_occurrences:\n",
    "            cur.execute(\"\"\"INSERT INTO named_entities\n",
    "                                    (sentence_ID, PER)\n",
    "                                    VALUES (?, ?);\"\"\", (sentence_ids[i], lemmatized_ner_text))\n",
    "        elif ner.nertag == 'ORG' and lemmatized_ner_text in entities_ORG_new:\n",
    "            cur.execute(\"\"\"INSERT INTO named_entities\n",
    "                                    (sentence_ID, ORG)\n",
    "                                    VALUES (?, ?);\"\"\", (sentence_ids[i], lemmatized_ner_text))\n",
    "        elif ner.nertag != 'ORG' and lemmatized_ner_text in entities_ORG_new and lemmatized_ner_text not in equal_occurrences:\n",
    "            cur.execute(\"\"\"INSERT INTO named_entities\n",
    "                                    (sentence_ID, ORG)\n",
    "                                    VALUES (?, ?);\"\"\", (sentence_ids[i], lemmatized_ner_text))\n",
    "        con.commit()"
   ]
  },
  {
   "cell_type": "code",
   "execution_count": 183,
   "id": "ae337eea",
   "metadata": {},
   "outputs": [],
   "source": [
    "con.close()"
   ]
  },
  {
   "cell_type": "markdown",
   "id": "8d61c532",
   "metadata": {},
   "source": [
    "Praeguse seisuga ei püüta parandada vigaseks hinnatud ner-olemeid, vaid luua ainult parandatud kujul nimekiri ner-olemitest"
   ]
  }
 ],
 "metadata": {
  "kernelspec": {
   "display_name": "Python 3 (ipykernel)",
   "language": "python",
   "name": "python3"
  },
  "language_info": {
   "codemirror_mode": {
    "name": "ipython",
    "version": 3
   },
   "file_extension": ".py",
   "mimetype": "text/x-python",
   "name": "python",
   "nbconvert_exporter": "python",
   "pygments_lexer": "ipython3",
   "version": "3.10.11"
  }
 },
 "nbformat": 4,
 "nbformat_minor": 5
}
