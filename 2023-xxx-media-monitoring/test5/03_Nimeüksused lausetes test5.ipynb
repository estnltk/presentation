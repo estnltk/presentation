{
 "cells": [
  {
   "cell_type": "markdown",
   "id": "af0873bb",
   "metadata": {},
   "source": [
    "## Nimeüksused lausetes test5"
   ]
  },
  {
   "cell_type": "code",
   "execution_count": 22,
   "id": "4dd1f534",
   "metadata": {},
   "outputs": [],
   "source": [
    "from estnltk import Text\n",
    "import sqlite3\n",
    "from estnltk.converters import json_to_text\n",
    "from estnltk.converters import text_to_json\n",
    "from collections import Counter\n",
    "import itertools\n",
    "import csv\n",
    "from copy import deepcopy"
   ]
  },
  {
   "cell_type": "markdown",
   "id": "375c6372",
   "metadata": {},
   "source": [
    "Tühi järjend lausete jaoks:"
   ]
  },
  {
   "cell_type": "code",
   "execution_count": 2,
   "id": "69ae09ad",
   "metadata": {},
   "outputs": [],
   "source": [
    "corpus = []"
   ]
  },
  {
   "cell_type": "markdown",
   "id": "0a794f52",
   "metadata": {},
   "source": [
    "Tühi järjend lausete ID-de jaoks:"
   ]
  },
  {
   "cell_type": "code",
   "execution_count": 3,
   "id": "f290eef6",
   "metadata": {},
   "outputs": [],
   "source": [
    "sentence_ids = []"
   ]
  },
  {
   "cell_type": "markdown",
   "id": "9753178f",
   "metadata": {},
   "source": [
    "Andmebaasist loetakse sisse laused:"
   ]
  },
  {
   "cell_type": "code",
   "execution_count": 4,
   "id": "20f80a33",
   "metadata": {},
   "outputs": [],
   "source": [
    "con = sqlite3.connect(\"media_data.db\")\n",
    "cur = con.cursor()"
   ]
  },
  {
   "cell_type": "code",
   "execution_count": 5,
   "id": "427644f4",
   "metadata": {},
   "outputs": [],
   "source": [
    "for row in cur.execute(\"SELECT ID, sentence FROM sentences WHERE named_entity = 1\"):\n",
    "    sentence_id = row[0]\n",
    "    sentence = json_to_text(json_text=row[1])\n",
    "    corpus.append(sentence)\n",
    "    sentence_ids.append(sentence_id)"
   ]
  },
  {
   "cell_type": "code",
   "execution_count": 6,
   "id": "ebb8b3b9",
   "metadata": {},
   "outputs": [],
   "source": [
    "con.close()"
   ]
  },
  {
   "cell_type": "markdown",
   "id": "0c8024a4",
   "metadata": {},
   "source": [
    "Vaatame üht lauset ja selle nimeüksusi:"
   ]
  },
  {
   "cell_type": "code",
   "execution_count": 7,
   "id": "6f5470be",
   "metadata": {},
   "outputs": [
    {
     "name": "stdout",
     "output_type": "stream",
     "text": [
      "LOC ['Eestis'] Eestis\n",
      "PER ['Eerik'] Eerik\n"
     ]
    }
   ],
   "source": [
    "for ner in corpus[5].ner:\n",
    "    print(ner.nertag, ner.text, ner.enclosing_text)"
   ]
  },
  {
   "cell_type": "markdown",
   "id": "d0039896",
   "metadata": {},
   "source": [
    "NerTagger võib olla teinud vigu, näiteks märkinud isikunime asukohaks, asukoha organisatsiooniks jne. Siin katsetan lihtsakoelist lahendust, mis ei korrigeeri kindlasti kõiki selliseid vigu, kuid võib nende vigade hulka vähendada. Nimelt loetakse kokku eri nimeüksuste esinemised kõigis liikides. Kui nimeüksus esineb rohkem kui ühes liigis, loetakse õigeks liigiks see, milles tema esinemissagedus kõige suurem on. Kui esinemissagedused on eri liikides võrdsed, ei tehta aga praeguses etapis midagi.\n",
    "\n",
    "Esiteks loon tühjad järjendid nii isikunimede, organisatsiooninimede kui asukohanimede jaoks:"
   ]
  },
  {
   "cell_type": "code",
   "execution_count": 8,
   "id": "28793149",
   "metadata": {},
   "outputs": [],
   "source": [
    "entities_PER = []\n",
    "entities_ORG = []\n",
    "entities_LOC = []"
   ]
  },
  {
   "cell_type": "markdown",
   "id": "09521a26",
   "metadata": {},
   "source": [
    "Seejärel käin läbi kõik korpuses olevad laused ja lisan nimeüksused järjenditesse vastavalt nende liigile:"
   ]
  },
  {
   "cell_type": "code",
   "execution_count": 9,
   "id": "87403a6c",
   "metadata": {},
   "outputs": [],
   "source": [
    "for sentence in corpus:\n",
    "    for ner in sentence.ner:\n",
    "        lemmatized_ner = [word.lemma[0] for word in ner]\n",
    "        if ner.nertag == 'PER':\n",
    "            entities_PER.append(' '.join(lemmatized_ner))\n",
    "        elif ner.nertag == 'ORG':\n",
    "            entities_ORG.append(' '.join(lemmatized_ner))\n",
    "        else:\n",
    "            entities_LOC.append(' '.join(lemmatized_ner))"
   ]
  },
  {
   "cell_type": "code",
   "execution_count": 10,
   "id": "a7c187af",
   "metadata": {},
   "outputs": [
    {
     "data": {
      "text/plain": [
       "320"
      ]
     },
     "execution_count": 10,
     "metadata": {},
     "output_type": "execute_result"
    }
   ],
   "source": [
    "len(entities_PER)"
   ]
  },
  {
   "cell_type": "code",
   "execution_count": 11,
   "id": "46a9836d",
   "metadata": {},
   "outputs": [
    {
     "data": {
      "text/plain": [
       "152"
      ]
     },
     "execution_count": 11,
     "metadata": {},
     "output_type": "execute_result"
    }
   ],
   "source": [
    "len(entities_ORG)"
   ]
  },
  {
   "cell_type": "code",
   "execution_count": 12,
   "id": "b4b85fcf",
   "metadata": {},
   "outputs": [
    {
     "data": {
      "text/plain": [
       "353"
      ]
     },
     "execution_count": 12,
     "metadata": {},
     "output_type": "execute_result"
    }
   ],
   "source": [
    "len(entities_LOC)"
   ]
  },
  {
   "cell_type": "markdown",
   "id": "9980a3d7",
   "metadata": {},
   "source": [
    "Seejärel tuleb tekitada kõigi nimeolemiliikide sagedusloendid:"
   ]
  },
  {
   "cell_type": "code",
   "execution_count": 13,
   "id": "8bf5680a",
   "metadata": {},
   "outputs": [],
   "source": [
    "entities_PER_lower = [name.lower() for name in entities_PER]\n",
    "entities_ORG_lower = [name.lower() for name in entities_ORG]\n",
    "entities_LOC_lower = [name.lower() for name in entities_LOC]"
   ]
  },
  {
   "cell_type": "code",
   "execution_count": 14,
   "id": "e10dd005",
   "metadata": {},
   "outputs": [],
   "source": [
    "frequencies_PER = Counter(entities_PER_lower)\n",
    "frequencies_ORG = Counter(entities_ORG_lower)\n",
    "frequencies_LOC = Counter(entities_LOC_lower)"
   ]
  },
  {
   "cell_type": "code",
   "execution_count": 15,
   "id": "47539af2",
   "metadata": {},
   "outputs": [
    {
     "name": "stdout",
     "output_type": "stream",
     "text": [
      "PER\tORG\tLOC\n",
      "('edgar savisaar', 17) ('keskerakond', 20) ('eesti', 98)\n",
      "('jüri', 10) ('rein', 8) ('tallinn', 45)\n",
      "('andrus ansip', 8) ('irl', 7) ('euroopa', 18)\n",
      "('ansip', 8) ('euroopa liit', 5) ('hiina', 15)\n",
      "('kaarel', 8) ('reformierakond', 5) ('tartu', 10)\n",
      "('rein', 7) ('euroopa liidu', 5) ('soome', 8)\n",
      "('andrus', 7) ('kapo', 4) ('rootsi', 4)\n",
      "('marek strandberg', 6) ('riigikogu', 4) ('läti', 4)\n",
      "('allar jõks', 5) ('eesti energia', 3) ('euroopa liit', 4)\n",
      "('strandberg', 5) ('bns', 3) ('eesti vabariik', 3)\n"
     ]
    }
   ],
   "source": [
    "#Kümme sagedasemat isiku-, organisatsiooni- ja asukohanime\n",
    "print('PER' + '\\t' + 'ORG' + '\\t' + 'LOC')\n",
    "for (per, org, loc) in itertools.zip_longest(frequencies_PER.most_common(10), frequencies_ORG.most_common(10), frequencies_LOC.most_common(10)):\n",
    "    print(per, org, loc)"
   ]
  },
  {
   "cell_type": "markdown",
   "id": "8a983332",
   "metadata": {},
   "source": [
    "Loon uued tühjad järjendid isiku-, organisatsiooni- ja asukohanimede jaoks, mida võib kasutada nimede mugavaks andmebaasi lisamiseks."
   ]
  },
  {
   "cell_type": "code",
   "execution_count": 16,
   "id": "6cc32805",
   "metadata": {},
   "outputs": [],
   "source": [
    "entities_PER_new = []\n",
    "entities_ORG_new = []\n",
    "entities_LOC_new = []"
   ]
  },
  {
   "cell_type": "code",
   "execution_count": 17,
   "id": "c1fd4a84",
   "metadata": {},
   "outputs": [],
   "source": [
    "frequencies_PER_copy = deepcopy(frequencies_PER)\n",
    "frequencies_ORG_copy = deepcopy(frequencies_ORG)\n",
    "frequencies_LOC_copy = deepcopy(frequencies_LOC)"
   ]
  },
  {
   "cell_type": "code",
   "execution_count": 18,
   "id": "5bc6bd5b",
   "metadata": {},
   "outputs": [],
   "source": [
    "equal_occurrences = []"
   ]
  },
  {
   "cell_type": "code",
   "execution_count": 19,
   "id": "5232af48",
   "metadata": {},
   "outputs": [
    {
     "name": "stdout",
     "output_type": "stream",
     "text": [
      "rein ORG: 8 PER: 7\n",
      "euroopa liit LOC: 4 ORG: 5\n"
     ]
    }
   ],
   "source": [
    "#Kas isikunimede hulgas olevad nimed leiduvad ka organisatsiooni- või asukohanimede hulgas:\n",
    "for name in frequencies_PER_copy.keys():\n",
    "    if frequencies_ORG_copy[name] > 0:\n",
    "        if frequencies_ORG_copy[name] > frequencies_PER_copy[name]:\n",
    "            print(name, 'ORG:', frequencies_ORG_copy[name], 'PER:', frequencies_PER_copy[name])\n",
    "            del frequencies_PER[name]\n",
    "        elif frequencies_ORG_copy[name] < frequencies_PER_copy[name]:\n",
    "            print(name, 'ORG:', frequencies_ORG_copy[name], 'PER:', frequencies_PER_copy[name])\n",
    "            del frequencies_ORG[name]\n",
    "        else:\n",
    "            equal_occurrences.append(name)\n",
    "                \n",
    "    if frequencies_LOC_copy[name] > 0:\n",
    "        if frequencies_LOC_copy[name] > frequencies_PER_copy[name]:\n",
    "            print(name, 'LOC:', frequencies_LOC_copy[name], 'PER:', frequencies_PER_copy[name])\n",
    "            del frequencies_PER[name]\n",
    "        elif frequencies_LOC_copy[name] < frequencies_PER_copy[name]:\n",
    "            print(name, 'LOC:', frequencies_LOC_copy[name], 'PER:', frequencies_PER_copy[name])\n",
    "            del frequencies_LOC[name]\n",
    "        else:\n",
    "            equal_occurrences.append(name)\n",
    "            \n",
    "#Kas organisatsiooninimede hulgas leidub nimesid, mis esinevad ka asukohanimede hulgas (isikunimesid pole vaja uuesti läbi käia):\n",
    "for name in frequencies_ORG_copy.keys():\n",
    "    if frequencies_LOC_copy[name] > 0:\n",
    "        if frequencies_LOC_copy[name] > frequencies_ORG_copy[name]:\n",
    "            print(name, 'LOC:', frequencies_LOC_copy[name], 'ORG:', frequencies_ORG_copy[name])\n",
    "            del frequencies_ORG[name]\n",
    "        elif frequencies_LOC_copy[name] < frequencies_ORG_copy[name]:\n",
    "            print(name, 'LOC:', frequencies_LOC_copy[name], 'ORG:', frequencies_ORG_copy[name])\n",
    "            del frequencies_LOC[name]\n",
    "        else:\n",
    "            equal_occurrences.append(name)\n",
    "            \n",
    "#Asukohanimesid pole vaja eraldi läbi käia, seal leiduvad duplikaadid kas isiku- või organisatsiooninimedest on juba tuvastatud.  "
   ]
  },
  {
   "cell_type": "code",
   "execution_count": 20,
   "id": "23443b85",
   "metadata": {},
   "outputs": [
    {
     "name": "stdout",
     "output_type": "stream",
     "text": [
      "['teder', 'ekre', 'taska', 'levadia']\n"
     ]
    }
   ],
   "source": [
    "print(equal_occurrences)"
   ]
  },
  {
   "cell_type": "code",
   "execution_count": 21,
   "id": "9ebb62a1",
   "metadata": {},
   "outputs": [],
   "source": [
    "for name in frequencies_PER.keys():\n",
    "    entities_PER_new.append(name)\n",
    "    \n",
    "for name in frequencies_ORG.keys():\n",
    "    entities_ORG_new.append(name)\n",
    "    \n",
    "for name in frequencies_LOC.keys():\n",
    "    entities_LOC_new.append(name)"
   ]
  },
  {
   "cell_type": "markdown",
   "id": "571868b9",
   "metadata": {},
   "source": [
    "Saadud parandustega sagedusloendid kirjutatakse talletatakse csv-failis, et võimaldada vajadusel käsitsi korrektuuride tegemist."
   ]
  },
  {
   "cell_type": "code",
   "execution_count": 28,
   "id": "7541bde5",
   "metadata": {},
   "outputs": [],
   "source": [
    "with open('ner_frequencies.csv', 'w', newline='', encoding='UTF-8') as csv_file:\n",
    "    writer = csv.DictWriter(csv_file, fieldnames=['name', 'freq', 'value'])\n",
    "    writer.writeheader()\n",
    "    header2 = {'name': 'string', 'freq': 'integer', 'value': 'string'}\n",
    "    writer.writerow(header2)\n",
    "    for name in frequencies_PER.keys():\n",
    "        writer.writerow({'name': name, 'freq': frequencies_PER[name], 'value': 'PER'})\n",
    "    for name in frequencies_ORG.keys():\n",
    "        writer.writerow({'name': name, 'freq': frequencies_ORG[name], 'value': 'ORG'})\n",
    "    for name in frequencies_LOC.keys():\n",
    "        writer.writerow({'name': name, 'freq': frequencies_LOC[name], 'value': 'LOC'})"
   ]
  },
  {
   "cell_type": "code",
   "execution_count": 29,
   "id": "e3f21ff3",
   "metadata": {},
   "outputs": [],
   "source": [
    "with open('ner_frequencies.csv', encoding='UTF-8') as csv_file:\n",
    "    rows = []\n",
    "    reader = csv.DictReader(csv_file)\n",
    "    for row in reader:\n",
    "        rows.append(row)"
   ]
  },
  {
   "cell_type": "code",
   "execution_count": 30,
   "id": "b2af07e4",
   "metadata": {},
   "outputs": [
    {
     "name": "stdout",
     "output_type": "stream",
     "text": [
      "[{'name': 'string', 'freq': 'integer', 'value': 'string'}, {'name': 'hans', 'freq': '4', 'value': 'PER'}, {'name': 'eerik', 'freq': '1', 'value': 'PER'}, {'name': 'andrus ansip', 'freq': '8', 'value': 'PER'}, {'name': 'meelis', 'freq': '2', 'value': 'PER'}, {'name': 'olev esula', 'freq': '1', 'value': 'PER'}, {'name': 'vadim', 'freq': '2', 'value': 'PER'}, {'name': 'juskin', 'freq': '1', 'value': 'PER'}, {'name': 'margus', 'freq': '2', 'value': 'PER'}, {'name': 'sven', 'freq': '4', 'value': 'PER'}, {'name': 'siim kallas', 'freq': '1', 'value': 'PER'}, {'name': 'deniss borodits', 'freq': '1', 'value': 'PER'}, {'name': 'jukuminek', 'freq': '1', 'value': 'PER'}, {'name': 'borodits', 'freq': '1', 'value': 'PER'}, {'name': 'jüri', 'freq': '10', 'value': 'PER'}, {'name': 'eiki', 'freq': '2', 'value': 'PER'}, {'name': 'kerviel', 'freq': '1', 'value': 'PER'}, {'name': 'andres', 'freq': '4', 'value': 'PER'}, {'name': 'toomas hendrik', 'freq': '4', 'value': 'PER'}, {'name': 'meri', 'freq': '2', 'value': 'PER'}, {'name': 'lasna', 'freq': '1', 'value': 'PER'}, {'name': 'heimar lenk', 'freq': '1', 'value': 'PER'}, {'name': 'häkkinen', 'freq': '1', 'value': 'PER'}, {'name': 'molly', 'freq': '1', 'value': 'PER'}, {'name': 'raimo', 'freq': '1', 'value': 'PER'}, {'name': 'evelin', 'freq': '2', 'value': 'PER'}, {'name': 'baran', 'freq': '1', 'value': 'PER'}, {'name': 'batory', 'freq': '1', 'value': 'PER'}, {'name': 'toomas henrik', 'freq': '2', 'value': 'PER'}, {'name': 'hannes hanso', 'freq': '1', 'value': 'PER'}, {'name': 'clyde', 'freq': '1', 'value': 'PER'}, {'name': 'toomas', 'freq': '2', 'value': 'PER'}, {'name': 'oleg ljadov', 'freq': '2', 'value': 'PER'}, {'name': 'aleksei', 'freq': '1', 'value': 'PER'}, {'name': 'juhan', 'freq': '1', 'value': 'PER'}, {'name': 'ivan', 'freq': '1', 'value': 'PER'}, {'name': 'gunnar', 'freq': '3', 'value': 'PER'}, {'name': 'fostermiller', 'freq': '1', 'value': 'PER'}, {'name': 'alma', 'freq': '1', 'value': 'PER'}, {'name': 'oviir', 'freq': '4', 'value': 'PER'}, {'name': 'allar jõks', 'freq': '5', 'value': 'PER'}, {'name': 'mihkel oviir', 'freq': '4', 'value': 'PER'}, {'name': 'indrek teder', 'freq': '1', 'value': 'PER'}, {'name': 'thomas', 'freq': '2', 'value': 'PER'}, {'name': 'taavi', 'freq': '1', 'value': 'PER'}, {'name': 'meelis atonen', 'freq': '1', 'value': 'PER'}, {'name': 'loorents', 'freq': '1', 'value': 'PER'}, {'name': 'estrada', 'freq': '1', 'value': 'PER'}, {'name': 'stasi', 'freq': '1', 'value': 'PER'}, {'name': 'tootsi', 'freq': '2', 'value': 'PER'}, {'name': 'ansip', 'freq': '8', 'value': 'PER'}, {'name': 'kallas', 'freq': '2', 'value': 'PER'}, {'name': 'edgar savisaar', 'freq': '17', 'value': 'PER'}, {'name': 'margus tsahkna', 'freq': '2', 'value': 'PER'}, {'name': 'ruth', 'freq': '1', 'value': 'PER'}, {'name': 'stalina', 'freq': '1', 'value': 'PER'}, {'name': 'liina tõnisson', 'freq': '1', 'value': 'PER'}, {'name': 'anto liivat', 'freq': '1', 'value': 'PER'}, {'name': 'simson', 'freq': '1', 'value': 'PER'}, {'name': 'hannes', 'freq': '2', 'value': 'PER'}, {'name': 'tsahkna', 'freq': '1', 'value': 'PER'}, {'name': 'liina', 'freq': '1', 'value': 'PER'}, {'name': 'arte sven', 'freq': '1', 'value': 'PER'}, {'name': 'strandberg', 'freq': '5', 'value': 'PER'}, {'name': 'untergang', 'freq': '1', 'value': 'PER'}, {'name': 'marek strandberg', 'freq': '6', 'value': 'PER'}, {'name': 'endrekson', 'freq': '1', 'value': 'PER'}, {'name': 'semper', 'freq': '1', 'value': 'PER'}, {'name': 'kaie', 'freq': '2', 'value': 'PER'}, {'name': 'reet', 'freq': '1', 'value': 'PER'}, {'name': 'kaarel', 'freq': '8', 'value': 'PER'}, {'name': 'jolanda', 'freq': '1', 'value': 'PER'}, {'name': 'indrek', 'freq': '3', 'value': 'PER'}, {'name': 'karl', 'freq': '1', 'value': 'PER'}, {'name': 'kelly', 'freq': '1', 'value': 'PER'}, {'name': 'gatesile', 'freq': '1', 'value': 'PER'}, {'name': 'sans', 'freq': '1', 'value': 'PER'}, {'name': 'margus allikmaa', 'freq': '2', 'value': 'PER'}, {'name': 'cooney', 'freq': '1', 'value': 'PER'}, {'name': 'faktumi', 'freq': '1', 'value': 'PER'}, {'name': 'ariko', 'freq': '1', 'value': 'PER'}, {'name': 'laine avio', 'freq': '1', 'value': 'PER'}, {'name': 'sirje', 'freq': '1', 'value': 'PER'}, {'name': 'diana', 'freq': '1', 'value': 'PER'}, {'name': 'reinsalu vaher', 'freq': '1', 'value': 'PER'}, {'name': 'ainar', 'freq': '1', 'value': 'PER'}, {'name': 'jaanus', 'freq': '2', 'value': 'PER'}, {'name': 'piia', 'freq': '1', 'value': 'PER'}, {'name': 'ilja', 'freq': '1', 'value': 'PER'}, {'name': 'pixar', 'freq': '1', 'value': 'PER'}, {'name': 'erika', 'freq': '1', 'value': 'PER'}, {'name': 'tiit', 'freq': '3', 'value': 'PER'}, {'name': 'books david', 'freq': '1', 'value': 'PER'}, {'name': 'jõks', 'freq': '1', 'value': 'PER'}, {'name': 'andrus', 'freq': '7', 'value': 'PER'}, {'name': 'kaia', 'freq': '1', 'value': 'PER'}, {'name': 'juliette', 'freq': '1', 'value': 'PER'}, {'name': 'einstein', 'freq': '1', 'value': 'PER'}, {'name': 'roman', 'freq': '1', 'value': 'PER'}, {'name': 'edgar savisaar rein', 'freq': '1', 'value': 'PER'}, {'name': 'urmas', 'freq': '1', 'value': 'PER'}, {'name': 'oskar wahid', 'freq': '1', 'value': 'PER'}, {'name': 'edgar', 'freq': '2', 'value': 'PER'}, {'name': 'aivar', 'freq': '3', 'value': 'PER'}, {'name': 'argo', 'freq': '2', 'value': 'PER'}, {'name': 'ideon rein', 'freq': '1', 'value': 'PER'}, {'name': 'urmas reinsalu', 'freq': '1', 'value': 'PER'}, {'name': 'mare andrus', 'freq': '1', 'value': 'PER'}, {'name': 'sandberg', 'freq': '1', 'value': 'PER'}, {'name': 'triin', 'freq': '1', 'value': 'PER'}, {'name': 'volkonski', 'freq': '1', 'value': 'PER'}, {'name': 'kärt', 'freq': '1', 'value': 'PER'}, {'name': 'dima', 'freq': '1', 'value': 'PER'}, {'name': 'neeme järvit', 'freq': '1', 'value': 'PER'}, {'name': 'keit pentus', 'freq': '1', 'value': 'PER'}, {'name': 'ainar ruussaar', 'freq': '4', 'value': 'PER'}, {'name': 'ultima thule', 'freq': '1', 'value': 'PER'}, {'name': 'ensto salumi', 'freq': '1', 'value': 'PER'}, {'name': 'kuno', 'freq': '1', 'value': 'PER'}, {'name': 'moonika', 'freq': '1', 'value': 'PER'}, {'name': 'andreas reinberg', 'freq': '1', 'value': 'PER'}, {'name': 'reinberg', 'freq': '1', 'value': 'PER'}, {'name': 'harry', 'freq': '1', 'value': 'PER'}, {'name': 'timberg', 'freq': '3', 'value': 'PER'}, {'name': 'wimberg', 'freq': '1', 'value': 'PER'}, {'name': 'scott gomez', 'freq': '1', 'value': 'PER'}, {'name': 'timbergile', 'freq': '1', 'value': 'PER'}, {'name': 'marko', 'freq': '2', 'value': 'PER'}, {'name': 'ivo paulus', 'freq': '1', 'value': 'PER'}, {'name': 'hans andrus ansip', 'freq': '1', 'value': 'PER'}, {'name': 'pädaste', 'freq': '1', 'value': 'PER'}, {'name': 'mart', 'freq': '2', 'value': 'PER'}, {'name': 'ülle', 'freq': '2', 'value': 'PER'}, {'name': 'tegemis', 'freq': '1', 'value': 'PER'}, {'name': 'ain', 'freq': '1', 'value': 'PER'}, {'name': 'indrek neivelt', 'freq': '1', 'value': 'PER'}, {'name': 'uno mereste', 'freq': '1', 'value': 'PER'}, {'name': 'andrejev', 'freq': '1', 'value': 'PER'}, {'name': 'maie', 'freq': '1', 'value': 'PER'}, {'name': 'paalberg belobrovtsev', 'freq': '1', 'value': 'PER'}, {'name': 'rain rosimannus', 'freq': '1', 'value': 'PER'}, {'name': 'jüri pihl', 'freq': '1', 'value': 'PER'}, {'name': 'jüri tamm', 'freq': '2', 'value': 'PER'}, {'name': 'karel', 'freq': '1', 'value': 'PER'}, {'name': 'andreas', 'freq': '1', 'value': 'PER'}, {'name': 'andres siitan', 'freq': '1', 'value': 'PER'}, {'name': 'viljasavisaar toomas', 'freq': '1', 'value': 'PER'}, {'name': 'le pen', 'freq': '1', 'value': 'PER'}, {'name': 'rosalint', 'freq': '1', 'value': 'PER'}, {'name': 'oleg', 'freq': '1', 'value': 'PER'}, {'name': 'martti', 'freq': '1', 'value': 'PER'}, {'name': 'sid', 'freq': '1', 'value': 'PER'}, {'name': 'aalto', 'freq': '1', 'value': 'PER'}, {'name': 'urmas jaagant', 'freq': '3', 'value': 'PER'}, {'name': 'priit hõbemägi', 'freq': '3', 'value': 'PER'}, {'name': 'mart sander', 'freq': '1', 'value': 'PER'}, {'name': 'kobin', 'freq': '3', 'value': 'PER'}, {'name': 'gunnar kobin', 'freq': '1', 'value': 'PER'}, {'name': 'tero taskila', 'freq': '2', 'value': 'PER'}, {'name': 'ja taskila', 'freq': '1', 'value': 'PER'}, {'name': 'taskila', 'freq': '1', 'value': 'PER'}, {'name': 'air baltic', 'freq': '2', 'value': 'PER'}, {'name': 'riia', 'freq': '2', 'value': 'PER'}, {'name': 'juhan parts', 'freq': '1', 'value': 'PER'}, {'name': 'erki urva', 'freq': '1', 'value': 'PER'}, {'name': 'toomas peterson', 'freq': '1', 'value': 'PER'}, {'name': 'sven sester facebook', 'freq': '1', 'value': 'PER'}, {'name': 'hillar teder', 'freq': '3', 'value': 'PER'}, {'name': 'paavo betaile', 'freq': '1', 'value': 'PER'}, {'name': 'teder', 'freq': '1', 'value': 'PER'}, {'name': 'ekre', 'freq': '1', 'value': 'PER'}, {'name': 'savisaar', 'freq': '1', 'value': 'PER'}, {'name': 'jüri ratas', 'freq': '1', 'value': 'PER'}, {'name': 'mailis reps', 'freq': '2', 'value': 'PER'}, {'name': 'jaak aaviksoo', 'freq': '1', 'value': 'PER'}, {'name': 'ragnar nurkse', 'freq': '1', 'value': 'PER'}, {'name': 'peeter', 'freq': '1', 'value': 'PER'}, {'name': 'facebooki', 'freq': '1', 'value': 'PER'}, {'name': 'anna põld', 'freq': '1', 'value': 'PER'}, {'name': 'helir-valdor seeder', 'freq': '1', 'value': 'PER'}, {'name': 'boris prantsus', 'freq': '1', 'value': 'PER'}, {'name': 'johnson', 'freq': '1', 'value': 'PER'}, {'name': 'brexiti', 'freq': '1', 'value': 'PER'}, {'name': 'rein', 'freq': '8', 'value': 'ORG'}, {'name': 'h', 'freq': '2', 'value': 'ORG'}, {'name': 'taska', 'freq': '1', 'value': 'ORG'}, {'name': 'vadim belov', 'freq': '1', 'value': 'ORG'}, {'name': 'pbk', 'freq': '1', 'value': 'ORG'}, {'name': 'delfi', 'freq': '2', 'value': 'ORG'}, {'name': 'tallinn ülikool', 'freq': '2', 'value': 'ORG'}, {'name': 'el', 'freq': '2', 'value': 'ORG'}, {'name': 'ccbe', 'freq': '1', 'value': 'ORG'}, {'name': 'kapo', 'freq': '4', 'value': 'ORG'}, {'name': 'irl roheline', 'freq': '1', 'value': 'ORG'}, {'name': 'sots', 'freq': '1', 'value': 'ORG'}, {'name': 'keskerakond', 'freq': '20', 'value': 'ORG'}, {'name': 'etv', 'freq': '1', 'value': 'ORG'}, {'name': 'demokraat obama', 'freq': '1', 'value': 'ORG'}, {'name': 'err', 'freq': '1', 'value': 'ORG'}, {'name': 'irl', 'freq': '7', 'value': 'ORG'}, {'name': 'forever', 'freq': '1', 'value': 'ORG'}, {'name': 'annepii', 'freq': '1', 'value': 'ORG'}, {'name': 'euroopa liit', 'freq': '5', 'value': 'ORG'}, {'name': 'värimäe', 'freq': '1', 'value': 'ORG'}, {'name': 'res publica', 'freq': '1', 'value': 'ORG'}, {'name': 'res publica res publica', 'freq': '1', 'value': 'ORG'}, {'name': 'eesti energia', 'freq': '3', 'value': 'ORG'}, {'name': 'li', 'freq': '1', 'value': 'ORG'}, {'name': 'kuusalu vallavalitsus', 'freq': '1', 'value': 'ORG'}, {'name': 'tallinn reet', 'freq': '1', 'value': 'ORG'}, {'name': 'it', 'freq': '1', 'value': 'ORG'}, {'name': 'toots tee', 'freq': '1', 'value': 'ORG'}, {'name': 'esdp', 'freq': '1', 'value': 'ORG'}, {'name': 'dr', 'freq': '1', 'value': 'ORG'}, {'name': 'pk', 'freq': '1', 'value': 'ORG'}, {'name': 'pilvre', 'freq': '1', 'value': 'ORG'}, {'name': 'amnesty', 'freq': '1', 'value': 'ORG'}, {'name': 'as', 'freq': '1', 'value': 'ORG'}, {'name': 'polaris', 'freq': '1', 'value': 'ORG'}, {'name': 'euroopa parlament', 'freq': '1', 'value': 'ORG'}, {'name': 'b', 'freq': '1', 'value': 'ORG'}, {'name': 'reformierakond', 'freq': '5', 'value': 'ORG'}, {'name': 'online', 'freq': '1', 'value': 'ORG'}, {'name': 'riigikogu', 'freq': '4', 'value': 'ORG'}, {'name': 'bns', 'freq': '3', 'value': 'ORG'}, {'name': 't', 'freq': '1', 'value': 'ORG'}, {'name': 'neena viiding', 'freq': '1', 'value': 'ORG'}, {'name': 'ab', 'freq': '1', 'value': 'ORG'}, {'name': 'vanity wimax', 'freq': '1', 'value': 'ORG'}, {'name': 'saare priidu', 'freq': '1', 'value': 'ORG'}, {'name': 'kreeta', 'freq': '2', 'value': 'ORG'}, {'name': 'levadia', 'freq': '1', 'value': 'ORG'}, {'name': 'sagadibaas', 'freq': '1', 'value': 'ORG'}, {'name': 'nato', 'freq': '2', 'value': 'ORG'}, {'name': 'ek', 'freq': '1', 'value': 'ORG'}, {'name': 'tartu rein', 'freq': '2', 'value': 'ORG'}, {'name': 'menning parlamendipartei', 'freq': '1', 'value': 'ORG'}, {'name': 'euroopa nõukogu', 'freq': '1', 'value': 'ORG'}, {'name': 'eta', 'freq': '1', 'value': 'ORG'}, {'name': 'big star', 'freq': '1', 'value': 'ORG'}, {'name': 'tdi', 'freq': '1', 'value': 'ORG'}, {'name': 'harri tali', 'freq': '1', 'value': 'ORG'}, {'name': 'kaitseliit', 'freq': '1', 'value': 'ORG'}, {'name': 'loeb', 'freq': '1', 'value': 'ORG'}, {'name': 'teu tv', 'freq': '1', 'value': 'ORG'}, {'name': 'kiviter', 'freq': '1', 'value': 'ORG'}, {'name': 'kreitzberg', 'freq': '1', 'value': 'ORG'}, {'name': 'karelitekst', 'freq': '1', 'value': 'ORG'}, {'name': 'keskpäevatund', 'freq': '1', 'value': 'ORG'}, {'name': 'nordika', 'freq': '1', 'value': 'ORG'}, {'name': 'estonian air', 'freq': '1', 'value': 'ORG'}, {'name': 'nordikat', 'freq': '1', 'value': 'ORG'}, {'name': 'tartu ülikool akadeemiline raamatukogu', 'freq': '1', 'value': 'ORG'}, {'name': 'tallinn tehnikaülikool', 'freq': '3', 'value': 'ORG'}, {'name': 'ragnar nurkne instituut', 'freq': '1', 'value': 'ORG'}, {'name': 'tallinn tehnikaülitallinn tehnikaülikool', 'freq': '1', 'value': 'ORG'}, {'name': 'postimees', 'freq': '2', 'value': 'ORG'}, {'name': 'tartu ülikool', 'freq': '1', 'value': 'ORG'}, {'name': 'isamaa', 'freq': '3', 'value': 'ORG'}, {'name': 'euroopa liidu', 'freq': '5', 'value': 'ORG'}, {'name': 'tv', 'freq': '1', 'value': 'ORG'}, {'name': 'bbc', 'freq': '1', 'value': 'ORG'}, {'name': 'briti parlament', 'freq': '3', 'value': 'ORG'}, {'name': 'euroopa komisjon', 'freq': '2', 'value': 'ORG'}, {'name': 'briti valitsus', 'freq': '1', 'value': 'ORG'}, {'name': 'maailm kaubandusorganisatsioon', 'freq': '1', 'value': 'ORG'}, {'name': 'tartu', 'freq': '10', 'value': 'LOC'}, {'name': 'tallinn', 'freq': '45', 'value': 'LOC'}, {'name': 'eesti', 'freq': '98', 'value': 'LOC'}, {'name': 'euroopa', 'freq': '18', 'value': 'LOC'}, {'name': 'viina', 'freq': '1', 'value': 'LOC'}, {'name': 'vassel', 'freq': '1', 'value': 'LOC'}, {'name': 'soome', 'freq': '8', 'value': 'LOC'}, {'name': 'natanz', 'freq': '1', 'value': 'LOC'}, {'name': 'helsingi', 'freq': '2', 'value': 'LOC'}, {'name': 'taska', 'freq': '1', 'value': 'LOC'}, {'name': 'keskeesti', 'freq': '1', 'value': 'LOC'}, {'name': 'kuressaare', 'freq': '1', 'value': 'LOC'}, {'name': 'viin', 'freq': '1', 'value': 'LOC'}, {'name': 'india', 'freq': '1', 'value': 'LOC'}, {'name': 'eesti vabariik', 'freq': '3', 'value': 'LOC'}, {'name': 'keila', 'freq': '2', 'value': 'LOC'}, {'name': 'rootsi', 'freq': '4', 'value': 'LOC'}, {'name': 'tallo', 'freq': '1', 'value': 'LOC'}, {'name': 'tallinn linn idavirumaa', 'freq': '1', 'value': 'LOC'}, {'name': 'warhol', 'freq': '1', 'value': 'LOC'}, {'name': 'kristiine linnaosa', 'freq': '1', 'value': 'LOC'}, {'name': 'narva', 'freq': '3', 'value': 'LOC'}, {'name': 'brüssel', 'freq': '2', 'value': 'LOC'}, {'name': 'hiina', 'freq': '15', 'value': 'LOC'}, {'name': 'eesti riik', 'freq': '3', 'value': 'LOC'}, {'name': 'peking', 'freq': '1', 'value': 'LOC'}, {'name': 'mongoolia', 'freq': '2', 'value': 'LOC'}, {'name': 'aasia', 'freq': '2', 'value': 'LOC'}, {'name': 'kiviõli', 'freq': '1', 'value': 'LOC'}, {'name': 'aru', 'freq': '1', 'value': 'LOC'}, {'name': 'jordaania', 'freq': '1', 'value': 'LOC'}, {'name': 'maroko', 'freq': '1', 'value': 'LOC'}, {'name': 'odessa', 'freq': '2', 'value': 'LOC'}, {'name': 'london', 'freq': '2', 'value': 'LOC'}, {'name': 'kalifornia', 'freq': '1', 'value': 'LOC'}, {'name': 'usa', 'freq': '1', 'value': 'LOC'}, {'name': 'loksa', 'freq': '3', 'value': 'LOC'}, {'name': 'tallinn linn', 'freq': '3', 'value': 'LOC'}, {'name': 'tallinnatartu', 'freq': '1', 'value': 'LOC'}, {'name': 'toots', 'freq': '1', 'value': 'LOC'}, {'name': 'saksamaa', 'freq': '2', 'value': 'LOC'}, {'name': 'tonga', 'freq': '1', 'value': 'LOC'}, {'name': 'angelu', 'freq': '1', 'value': 'LOC'}, {'name': 'vanarand', 'freq': '1', 'value': 'LOC'}, {'name': 'väike', 'freq': '1', 'value': 'LOC'}, {'name': 'poliitiline', 'freq': '1', 'value': 'LOC'}, {'name': 'itaalia', 'freq': '2', 'value': 'LOC'}, {'name': 'pariis', 'freq': '3', 'value': 'LOC'}, {'name': 'augul', 'freq': '1', 'value': 'LOC'}, {'name': 'nigeeria', 'freq': '1', 'value': 'LOC'}, {'name': 'venemaa', 'freq': '2', 'value': 'LOC'}, {'name': 'kreeka', 'freq': '3', 'value': 'LOC'}, {'name': 'erasmu', 'freq': '1', 'value': 'LOC'}, {'name': 'reinsalu', 'freq': '2', 'value': 'LOC'}, {'name': 'sangaste', 'freq': '1', 'value': 'LOC'}, {'name': 'kanada', 'freq': '1', 'value': 'LOC'}, {'name': 'katariina', 'freq': '1', 'value': 'LOC'}, {'name': 'teder', 'freq': '1', 'value': 'LOC'}, {'name': 'pikaro', 'freq': '1', 'value': 'LOC'}, {'name': 'läti', 'freq': '4', 'value': 'LOC'}, {'name': 'pärnu', 'freq': '3', 'value': 'LOC'}, {'name': 'vahemeri', 'freq': '1', 'value': 'LOC'}, {'name': 'taskendis', 'freq': '1', 'value': 'LOC'}, {'name': 'taskend', 'freq': '2', 'value': 'LOC'}, {'name': 'ruanda', 'freq': '1', 'value': 'LOC'}, {'name': 'discdiskussioon', 'freq': '1', 'value': 'LOC'}, {'name': 'leedu', 'freq': '1', 'value': 'LOC'}, {'name': 'reiljan', 'freq': '1', 'value': 'LOC'}, {'name': 'bagdad', 'freq': '2', 'value': 'LOC'}, {'name': 'kenmart', 'freq': '1', 'value': 'LOC'}, {'name': 'kaiu', 'freq': '1', 'value': 'LOC'}, {'name': 'parts', 'freq': '1', 'value': 'LOC'}, {'name': 'taani', 'freq': '1', 'value': 'LOC'}, {'name': 'kureslaulda', 'freq': '1', 'value': 'LOC'}, {'name': 'silve', 'freq': '1', 'value': 'LOC'}, {'name': 'iirimaa', 'freq': '1', 'value': 'LOC'}, {'name': 'portugal', 'freq': '1', 'value': 'LOC'}, {'name': 'hispaania', 'freq': '1', 'value': 'LOC'}, {'name': 'saare', 'freq': '1', 'value': 'LOC'}, {'name': 'lõunaeuroopa', 'freq': '1', 'value': 'LOC'}, {'name': 'juventu', 'freq': '1', 'value': 'LOC'}, {'name': 'ameerika', 'freq': '2', 'value': 'LOC'}, {'name': 'eiffel', 'freq': '1', 'value': 'LOC'}, {'name': 'ikla', 'freq': '1', 'value': 'LOC'}, {'name': 'kümme', 'freq': '1', 'value': 'LOC'}, {'name': 'tallinntartu', 'freq': '2', 'value': 'LOC'}, {'name': 'gruusia', 'freq': '1', 'value': 'LOC'}, {'name': 'läänegruusia', 'freq': '1', 'value': 'LOC'}, {'name': 'idavirumaa', 'freq': '1', 'value': 'LOC'}, {'name': 'baltiisk', 'freq': '1', 'value': 'LOC'}, {'name': 'idaviru', 'freq': '2', 'value': 'LOC'}, {'name': 'timbergi', 'freq': '2', 'value': 'LOC'}, {'name': 'poola', 'freq': '1', 'value': 'LOC'}, {'name': 'baier', 'freq': '1', 'value': 'LOC'}, {'name': 'oulu', 'freq': '1', 'value': 'LOC'}, {'name': 'levadia', 'freq': '1', 'value': 'LOC'}, {'name': 'anve', 'freq': '1', 'value': 'LOC'}, {'name': 'twitter', 'freq': '1', 'value': 'LOC'}, {'name': 'piir', 'freq': '1', 'value': 'LOC'}, {'name': 'hõbemägi', 'freq': '1', 'value': 'LOC'}, {'name': 'ojuland', 'freq': '1', 'value': 'LOC'}, {'name': 'padar', 'freq': '2', 'value': 'LOC'}, {'name': 'mekeles', 'freq': '1', 'value': 'LOC'}, {'name': 'tallinn riia', 'freq': '1', 'value': 'LOC'}, {'name': 'madagaskar', 'freq': '1', 'value': 'LOC'}, {'name': 'pidviin', 'freq': '1', 'value': 'LOC'}, {'name': 'ekre', 'freq': '1', 'value': 'LOC'}, {'name': 'tiimaa', 'freq': '1', 'value': 'LOC'}, {'name': 'tehnikaülikool', 'freq': '1', 'value': 'LOC'}, {'name': 'prinston', 'freq': '1', 'value': 'LOC'}, {'name': 'harvard', 'freq': '1', 'value': 'LOC'}, {'name': 'oxford', 'freq': '1', 'value': 'LOC'}, {'name': 'düsseldorf', 'freq': '1', 'value': 'LOC'}, {'name': 'ühendkuningriik', 'freq': '1', 'value': 'LOC'}, {'name': 'brexit', 'freq': '2', 'value': 'LOC'}, {'name': 'briti saar', 'freq': '2', 'value': 'LOC'}, {'name': 'briti', 'freq': '1', 'value': 'LOC'}, {'name': 'inglismaa', 'freq': '2', 'value': 'LOC'}]\n"
     ]
    }
   ],
   "source": [
    "print(rows)"
   ]
  },
  {
   "cell_type": "markdown",
   "id": "4945cfc9",
   "metadata": {},
   "source": [
    "Järgnevalt luuakse andmebaasi uus tabel huvipakkuvate nimeüksuste hoiustamiseks (isiku- ja organisatsiooninimed)."
   ]
  },
  {
   "cell_type": "code",
   "execution_count": 179,
   "id": "81794c5e",
   "metadata": {},
   "outputs": [],
   "source": [
    "con = sqlite3.connect(\"media_data.db\")\n",
    "cur = con.cursor()"
   ]
  },
  {
   "cell_type": "code",
   "execution_count": 181,
   "id": "12e8917a",
   "metadata": {},
   "outputs": [
    {
     "data": {
      "text/plain": [
       "<sqlite3.Cursor at 0x1be20356fc0>"
      ]
     },
     "execution_count": 181,
     "metadata": {},
     "output_type": "execute_result"
    }
   ],
   "source": [
    "cur.execute(\"CREATE TABLE named_entities(ID INTEGER PRIMARY KEY, sentence_ID INTEGER, PER TEXT, ORG TEXT)\")"
   ]
  },
  {
   "cell_type": "code",
   "execution_count": 182,
   "id": "a7bb0785",
   "metadata": {},
   "outputs": [],
   "source": [
    "for i in range(len(corpus)):\n",
    "    for ner in corpus[i].ner:\n",
    "        lemmatized_ner = [word.lemma[0] for word in ner]\n",
    "        lemmatized_ner_text = ' '.join(lemmatized_ner).lower()\n",
    "        if ner.nertag == 'PER' and lemmatized_ner_text in entities_PER_new:\n",
    "            cur.execute(\"\"\"INSERT INTO named_entities\n",
    "                                    (sentence_ID, PER)\n",
    "                                    VALUES (?, ?);\"\"\", (sentence_ids[i], lemmatized_ner_text))\n",
    "        elif ner.nertag != 'PER' and lemmatized_ner_text in entities_PER_new and lemmatized_ner_text not in equal_occurrences:\n",
    "            cur.execute(\"\"\"INSERT INTO named_entities\n",
    "                                    (sentence_ID, PER)\n",
    "                                    VALUES (?, ?);\"\"\", (sentence_ids[i], lemmatized_ner_text))\n",
    "        elif ner.nertag == 'ORG' and lemmatized_ner_text in entities_ORG_new:\n",
    "            cur.execute(\"\"\"INSERT INTO named_entities\n",
    "                                    (sentence_ID, ORG)\n",
    "                                    VALUES (?, ?);\"\"\", (sentence_ids[i], lemmatized_ner_text))\n",
    "        elif ner.nertag != 'ORG' and lemmatized_ner_text in entities_ORG_new and lemmatized_ner_text not in equal_occurrences:\n",
    "            cur.execute(\"\"\"INSERT INTO named_entities\n",
    "                                    (sentence_ID, ORG)\n",
    "                                    VALUES (?, ?);\"\"\", (sentence_ids[i], lemmatized_ner_text))\n",
    "        con.commit()"
   ]
  },
  {
   "cell_type": "code",
   "execution_count": 183,
   "id": "ae337eea",
   "metadata": {},
   "outputs": [],
   "source": [
    "con.close()"
   ]
  },
  {
   "cell_type": "markdown",
   "id": "fc0c2f81",
   "metadata": {},
   "source": [
    "Praeguse seisuga ei püüta parandada vigaseks hinnatud ner-olemeid, vaid luua ainult parandatud kujul nimekiri ner-olemitest"
   ]
  }
 ],
 "metadata": {
  "kernelspec": {
   "display_name": "Python 3 (ipykernel)",
   "language": "python",
   "name": "python3"
  },
  "language_info": {
   "codemirror_mode": {
    "name": "ipython",
    "version": 3
   },
   "file_extension": ".py",
   "mimetype": "text/x-python",
   "name": "python",
   "nbconvert_exporter": "python",
   "pygments_lexer": "ipython3",
   "version": "3.10.11"
  }
 },
 "nbformat": 4,
 "nbformat_minor": 5
}
