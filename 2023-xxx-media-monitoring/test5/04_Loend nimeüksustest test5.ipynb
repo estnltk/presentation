{
 "cells": [
  {
   "cell_type": "markdown",
   "id": "5a4cd153",
   "metadata": {},
   "source": [
    "## Loend nimeüksustest test5"
   ]
  },
  {
   "cell_type": "code",
   "execution_count": 1,
   "id": "8a9bec4d",
   "metadata": {},
   "outputs": [],
   "source": [
    "from estnltk import Text\n",
    "import sqlite3\n",
    "import csv\n",
    "from collections import Counter\n",
    "import itertools"
   ]
  },
  {
   "cell_type": "markdown",
   "id": "e233b485",
   "metadata": {},
   "source": [
    "Alustuseks loetakse andmebaasist sisse kõik isiku- ja organisatsiooninimed"
   ]
  },
  {
   "cell_type": "code",
   "execution_count": 2,
   "id": "25887288",
   "metadata": {},
   "outputs": [],
   "source": [
    "entities_PER = []\n",
    "entities_ORG = []"
   ]
  },
  {
   "cell_type": "code",
   "execution_count": 3,
   "id": "364ce2cc",
   "metadata": {},
   "outputs": [],
   "source": [
    "con = sqlite3.connect(\"media_data.db\")\n",
    "cur = con.cursor()"
   ]
  },
  {
   "cell_type": "code",
   "execution_count": 4,
   "id": "8b322505",
   "metadata": {},
   "outputs": [],
   "source": [
    "for row in cur.execute(\"SELECT PER FROM named_entities where PER IS NOT NULL\"):\n",
    "    entities_PER.append(row[0])"
   ]
  },
  {
   "cell_type": "code",
   "execution_count": 5,
   "id": "89bd7f65",
   "metadata": {},
   "outputs": [],
   "source": [
    "for row in cur.execute(\"SELECT ORG FROM named_entities where ORG IS NOT NULL\"):\n",
    "    entities_ORG.append(row[0])"
   ]
  },
  {
   "cell_type": "code",
   "execution_count": 6,
   "id": "16ff0701",
   "metadata": {},
   "outputs": [],
   "source": [
    "con.close()"
   ]
  },
  {
   "cell_type": "markdown",
   "id": "4bb2b053",
   "metadata": {},
   "source": [
    "Vaatame saadud järjendeid:"
   ]
  },
  {
   "cell_type": "code",
   "execution_count": 7,
   "id": "c08aff6e",
   "metadata": {},
   "outputs": [
    {
     "name": "stdout",
     "output_type": "stream",
     "text": [
      "['hans', 'eerik', 'andrus ansip', 'meelis', 'olev esula', 'hans', 'vadim', 'juskin', 'margus', 'vadim', 'sven', 'sven', 'siim kallas', 'deniss borodits', 'jukuminek', 'borodits', 'jüri', 'eiki', 'jüri', 'hans', 'kerviel', 'andres', 'toomas hendrik', 'meri', 'andres', 'lasna', 'jüri', 'heimar lenk', 'häkkinen', 'molly', 'raimo', 'evelin', 'evelin', 'baran', 'batory', 'toomas henrik', 'hannes hanso', 'clyde', 'toomas', 'oleg ljadov', 'oleg ljadov', 'aleksei', 'juhan', 'ivan', 'gunnar', 'fostermiller', 'alma', 'oviir', 'allar jõks', 'mihkel oviir', 'toomas hendrik', 'toomas hendrik', 'indrek teder', 'toomas hendrik', 'thomas', 'toomas henrik', 'taavi', 'meelis atonen', 'loorents', 'estrada', 'andrus ansip', 'stasi', 'tootsi', 'ansip', 'kallas', 'andrus ansip', 'andrus ansip', 'andrus ansip', 'edgar savisaar', 'andrus ansip', 'edgar savisaar', 'andrus ansip', 'meelis', 'margus tsahkna', 'ruth', 'edgar savisaar', 'stalina', 'jüri', 'edgar savisaar', 'edgar savisaar', 'liina tõnisson', 'edgar savisaar', 'anto liivat', 'jüri', 'simson', 'sven', 'hannes', 'margus tsahkna', 'tsahkna', 'eiki', 'jüri', 'liina', 'arte sven', 'margus', 'strandberg', 'untergang', 'marek strandberg', 'mihkel oviir', 'strandberg', 'strandberg', 'endrekson', 'semper', 'kaie', 'oviir', 'oviir', 'reet', 'oviir', 'mihkel oviir', 'kaarel', 'kaarel', 'jolanda', 'kaarel', 'kaarel', 'andres', 'indrek', 'indrek', 'karl', 'indrek', 'kelly', 'gatesile', 'kaarel', 'kaarel', 'strandberg', 'sans', 'margus allikmaa', 'margus allikmaa', 'cooney', 'kallas', 'faktumi', 'ariko', 'laine avio', 'sirje', 'diana', 'reinsalu vaher', 'ainar', 'jaanus', 'ansip', 'piia', 'ilja', 'pixar', 'erika', 'allar jõks', 'thomas', 'tiit', 'mihkel oviir', 'books david', 'allar jõks', 'allar jõks', 'jõks', 'edgar savisaar', 'andrus', 'andrus ansip', 'edgar savisaar', 'andrus', 'edgar savisaar', 'ansip', 'kaia', 'andrus', 'andrus', 'andrus', 'andrus', 'juliette', 'einstein', 'ansip', 'ansip', 'roman', 'edgar savisaar rein', 'edgar savisaar', 'urmas', 'edgar savisaar', 'edgar savisaar', 'oskar wahid', 'andrus', 'edgar', 'aivar', 'jaanus', 'aivar', 'aivar', 'argo', 'ideon rein', 'argo', 'urmas reinsalu', 'marek strandberg', 'mare andrus', 'sandberg', 'triin', 'kaie', 'hannes', 'volkonski', 'kärt', 'dima', 'neeme järvit', 'keit pentus', 'ainar ruussaar', 'ultima thule', 'ensto salumi', 'kuno', 'moonika', 'andreas reinberg', 'reinberg', 'harry', 'timberg', 'timberg', 'timberg', 'wimberg', 'scott gomez', 'timbergile', 'marko', 'marko', 'ivo paulus', 'hans andrus ansip', 'ansip', 'ansip', 'edgar savisaar', 'ansip', 'edgar savisaar', 'edgar savisaar', 'tiit', 'tiit', 'marek strandberg', 'pädaste', 'mart', 'allar jõks', 'mart', 'ülle', 'tegemis', 'ain', 'jüri', 'jüri', 'indrek neivelt', 'ülle', 'uno mereste', 'marek strandberg', 'marek strandberg', 'andrejev', 'marek strandberg', 'hans', 'maie', 'meri', 'paalberg belobrovtsev', 'jüri', 'rain rosimannus', 'jüri pihl', 'sven', 'jüri tamm', 'jüri tamm', 'karel', 'jüri', 'andreas', 'andres siitan', 'viljasavisaar toomas', 'kaarel', 'le pen', 'strandberg', 'rosalint', 'kaarel', 'oleg', 'martti', 'andres', 'sid', 'aalto', 'urmas jaagant', 'ainar ruussaar', 'priit hõbemägi', 'mart sander', 'gunnar', 'kobin', 'gunnar kobin', 'tero taskila', 'tero taskila', 'ja taskila', 'taskila', 'kobin', 'air baltic', 'air baltic', 'riia', 'riia', 'juhan parts', 'erki urva', 'toomas peterson', 'gunnar', 'sven sester facebook', 'kobin', 'hillar teder', 'edgar savisaar', 'hillar teder', 'paavo betaile', 'teder', 'hillar teder', 'ekre', 'savisaar', 'jüri ratas', 'edgar savisaar', 'mailis reps', 'jaak aaviksoo', 'ragnar nurkse', 'mailis reps', 'peeter', 'toomas', 'facebooki', 'urmas jaagant', 'ainar ruussaar', 'priit hõbemägi', 'edgar', 'anna põld', 'tootsi', 'helir-valdor seeder', 'urmas jaagant', 'ainar ruussaar', 'priit hõbemägi', 'boris prantsus', 'johnson', 'brexiti']\n"
     ]
    }
   ],
   "source": [
    "print(entities_PER)"
   ]
  },
  {
   "cell_type": "code",
   "execution_count": 8,
   "id": "10f3ce99",
   "metadata": {},
   "outputs": [
    {
     "name": "stdout",
     "output_type": "stream",
     "text": [
      "['rein', 'h', 'taska', 'rein', 'h', 'vadim belov', 'pbk', 'delfi', 'tallinn ülikool', 'el', 'delfi', 'ccbe', 'kapo', 'irl roheline', 'sots', 'keskerakond', 'etv', 'demokraat obama', 'err', 'irl', 'forever', 'annepii', 'euroopa liit', 'värimäe', 'res publica', 'res publica res publica', 'eesti energia', 'eesti energia', 'eesti energia', 'rein', 'li', 'kuusalu vallavalitsus', 'tallinn reet', 'it', 'rein', 'toots tee', 'keskerakond', 'esdp', 'irl', 'dr', 'el', 'rein', 'pk', 'pilvre', 'keskerakond', 'irl', 'keskerakond', 'rein', 'amnesty', 'as', 'polaris', 'euroopa parlament', 'b', 'reformierakond', 'online', 'riigikogu', 'bns', 'bns', 't', 'neena viiding', 'rein', 'rein', 'ab', 'vanity wimax', 'saare priidu', 'rein', 'kreeta', 'kapo', 'kreeta', 'levadia', 'riigikogu', 'sagadibaas', 'nato', 'ek', 'rein', 'tartu rein', 'menning parlamendipartei', 'riigikogu', 'rein', 'euroopa nõukogu', 'reformierakond', 'reformierakond', 'eta', 'big star', 'rein', 'rein', 'reformierakond', 'tdi', 'irl', 'kapo', 'tartu rein', 'bns', 'harri tali', 'irl', 'kaitseliit', 'loeb', 'nato', 'teu tv', 'kiviter', 'rein', 'rein', 'kreitzberg', 'karelitekst', 'reformierakond', 'irl', 'irl', 'keskpäevatund', 'nordika', 'estonian air', 'nordikat', 'keskerakond', 'keskerakond', 'keskerakond', 'keskerakond', 'keskerakond', 'keskerakond', 'keskerakond', 'keskerakond', 'tartu ülikool akadeemiline raamatukogu', 'riigikogu', 'kapo', 'keskerakond', 'tallinn tehnikaülikool', 'ragnar nurkne instituut', 'tallinn tehnikaülitallinn tehnikaülikool', 'postimees', 'tallinn tehnikaülikool', 'tallinn tehnikaülikool', 'tartu ülikool', 'tallinn ülikool', 'keskerakond', 'postimees', 'keskerakond', 'keskerakond', 'keskerakond', 'keskerakond', 'keskerakond', 'isamaa', 'isamaa', 'isamaa', 'keskerakond', 'euroopa liidu', 'tv', 'bbc', 'briti parlament', 'briti parlament', 'euroopa liidu', 'briti parlament', 'euroopa liidu', 'euroopa liit', 'euroopa liit', 'euroopa liit', 'euroopa komisjon', 'euroopa liidu', 'euroopa liidu', 'euroopa liit', 'euroopa liit', 'euroopa liit', 'euroopa liit', 'euroopa liit', 'euroopa komisjon', 'briti valitsus', 'maailm kaubandusorganisatsioon']\n"
     ]
    }
   ],
   "source": [
    "print(entities_ORG)"
   ]
  },
  {
   "cell_type": "markdown",
   "id": "56e1598e",
   "metadata": {},
   "source": [
    "Esiteks eemaldan nimede hulgast need nimed, mis viitavad saatejuhtidele (sageli mainitakse saate sissejuhatuses ja lõpus):"
   ]
  },
  {
   "cell_type": "code",
   "execution_count": 9,
   "id": "567a92a3",
   "metadata": {},
   "outputs": [],
   "source": [
    "speakers = []"
   ]
  },
  {
   "cell_type": "code",
   "execution_count": 10,
   "id": "cda5814f",
   "metadata": {},
   "outputs": [],
   "source": [
    "con = sqlite3.connect(\"media_data.db\")\n",
    "cur = con.cursor()"
   ]
  },
  {
   "cell_type": "code",
   "execution_count": 11,
   "id": "70fd5d65",
   "metadata": {},
   "outputs": [],
   "source": [
    "for row in cur.execute(\"SELECT DISTINCT person FROM lines\"):\n",
    "    speakers.append(row[0])"
   ]
  },
  {
   "cell_type": "code",
   "execution_count": 12,
   "id": "66dce920",
   "metadata": {},
   "outputs": [],
   "source": [
    "con.close()"
   ]
  },
  {
   "cell_type": "code",
   "execution_count": 13,
   "id": "fb799ded",
   "metadata": {},
   "outputs": [
    {
     "name": "stdout",
     "output_type": "stream",
     "text": [
      "['Tundmatu3', 'Tundmatu1', 'Tundmatu2', 'Tundmatu4', 'Tundmatu5', 'K01', 'K02', 'K06', 'Artur Talvik', 'Ainar Ruussaar', 'K07', 'Ignar Fjuk']\n"
     ]
    }
   ],
   "source": [
    "print(speakers)"
   ]
  },
  {
   "cell_type": "code",
   "execution_count": 14,
   "id": "1321b16e",
   "metadata": {},
   "outputs": [],
   "source": [
    "speakers_lower = [speaker.lower() for speaker in speakers]"
   ]
  },
  {
   "cell_type": "code",
   "execution_count": 15,
   "id": "f822ef0f",
   "metadata": {},
   "outputs": [],
   "source": [
    "entities_PER_cleaned = [name for name in entities_PER if name not in speakers_lower]"
   ]
  },
  {
   "cell_type": "code",
   "execution_count": 16,
   "id": "0ea957cd",
   "metadata": {},
   "outputs": [
    {
     "name": "stdout",
     "output_type": "stream",
     "text": [
      "['hans', 'eerik', 'andrus ansip', 'meelis', 'olev esula', 'hans', 'vadim', 'juskin', 'margus', 'vadim', 'sven', 'sven', 'siim kallas', 'deniss borodits', 'jukuminek', 'borodits', 'jüri', 'eiki', 'jüri', 'hans', 'kerviel', 'andres', 'toomas hendrik', 'meri', 'andres', 'lasna', 'jüri', 'heimar lenk', 'häkkinen', 'molly', 'raimo', 'evelin', 'evelin', 'baran', 'batory', 'toomas henrik', 'hannes hanso', 'clyde', 'toomas', 'oleg ljadov', 'oleg ljadov', 'aleksei', 'juhan', 'ivan', 'gunnar', 'fostermiller', 'alma', 'oviir', 'allar jõks', 'mihkel oviir', 'toomas hendrik', 'toomas hendrik', 'indrek teder', 'toomas hendrik', 'thomas', 'toomas henrik', 'taavi', 'meelis atonen', 'loorents', 'estrada', 'andrus ansip', 'stasi', 'tootsi', 'ansip', 'kallas', 'andrus ansip', 'andrus ansip', 'andrus ansip', 'edgar savisaar', 'andrus ansip', 'edgar savisaar', 'andrus ansip', 'meelis', 'margus tsahkna', 'ruth', 'edgar savisaar', 'stalina', 'jüri', 'edgar savisaar', 'edgar savisaar', 'liina tõnisson', 'edgar savisaar', 'anto liivat', 'jüri', 'simson', 'sven', 'hannes', 'margus tsahkna', 'tsahkna', 'eiki', 'jüri', 'liina', 'arte sven', 'margus', 'strandberg', 'untergang', 'marek strandberg', 'mihkel oviir', 'strandberg', 'strandberg', 'endrekson', 'semper', 'kaie', 'oviir', 'oviir', 'reet', 'oviir', 'mihkel oviir', 'kaarel', 'kaarel', 'jolanda', 'kaarel', 'kaarel', 'andres', 'indrek', 'indrek', 'karl', 'indrek', 'kelly', 'gatesile', 'kaarel', 'kaarel', 'strandberg', 'sans', 'margus allikmaa', 'margus allikmaa', 'cooney', 'kallas', 'faktumi', 'ariko', 'laine avio', 'sirje', 'diana', 'reinsalu vaher', 'ainar', 'jaanus', 'ansip', 'piia', 'ilja', 'pixar', 'erika', 'allar jõks', 'thomas', 'tiit', 'mihkel oviir', 'books david', 'allar jõks', 'allar jõks', 'jõks', 'edgar savisaar', 'andrus', 'andrus ansip', 'edgar savisaar', 'andrus', 'edgar savisaar', 'ansip', 'kaia', 'andrus', 'andrus', 'andrus', 'andrus', 'juliette', 'einstein', 'ansip', 'ansip', 'roman', 'edgar savisaar rein', 'edgar savisaar', 'urmas', 'edgar savisaar', 'edgar savisaar', 'oskar wahid', 'andrus', 'edgar', 'aivar', 'jaanus', 'aivar', 'aivar', 'argo', 'ideon rein', 'argo', 'urmas reinsalu', 'marek strandberg', 'mare andrus', 'sandberg', 'triin', 'kaie', 'hannes', 'volkonski', 'kärt', 'dima', 'neeme järvit', 'keit pentus', 'ultima thule', 'ensto salumi', 'kuno', 'moonika', 'andreas reinberg', 'reinberg', 'harry', 'timberg', 'timberg', 'timberg', 'wimberg', 'scott gomez', 'timbergile', 'marko', 'marko', 'ivo paulus', 'hans andrus ansip', 'ansip', 'ansip', 'edgar savisaar', 'ansip', 'edgar savisaar', 'edgar savisaar', 'tiit', 'tiit', 'marek strandberg', 'pädaste', 'mart', 'allar jõks', 'mart', 'ülle', 'tegemis', 'ain', 'jüri', 'jüri', 'indrek neivelt', 'ülle', 'uno mereste', 'marek strandberg', 'marek strandberg', 'andrejev', 'marek strandberg', 'hans', 'maie', 'meri', 'paalberg belobrovtsev', 'jüri', 'rain rosimannus', 'jüri pihl', 'sven', 'jüri tamm', 'jüri tamm', 'karel', 'jüri', 'andreas', 'andres siitan', 'viljasavisaar toomas', 'kaarel', 'le pen', 'strandberg', 'rosalint', 'kaarel', 'oleg', 'martti', 'andres', 'sid', 'aalto', 'urmas jaagant', 'priit hõbemägi', 'mart sander', 'gunnar', 'kobin', 'gunnar kobin', 'tero taskila', 'tero taskila', 'ja taskila', 'taskila', 'kobin', 'air baltic', 'air baltic', 'riia', 'riia', 'juhan parts', 'erki urva', 'toomas peterson', 'gunnar', 'sven sester facebook', 'kobin', 'hillar teder', 'edgar savisaar', 'hillar teder', 'paavo betaile', 'teder', 'hillar teder', 'ekre', 'savisaar', 'jüri ratas', 'edgar savisaar', 'mailis reps', 'jaak aaviksoo', 'ragnar nurkse', 'mailis reps', 'peeter', 'toomas', 'facebooki', 'urmas jaagant', 'priit hõbemägi', 'edgar', 'anna põld', 'tootsi', 'helir-valdor seeder', 'urmas jaagant', 'priit hõbemägi', 'boris prantsus', 'johnson', 'brexiti']\n"
     ]
    }
   ],
   "source": [
    "print(entities_PER_cleaned)"
   ]
  },
  {
   "cell_type": "markdown",
   "id": "b1580470",
   "metadata": {},
   "source": [
    "Esialgsed isiku- ja organisatsiooninimede sagedusloendid:"
   ]
  },
  {
   "cell_type": "code",
   "execution_count": 17,
   "id": "96124d0c",
   "metadata": {},
   "outputs": [],
   "source": [
    "frequencies_PER = Counter(entities_PER_cleaned)\n",
    "frequencies_ORG = Counter(entities_ORG)"
   ]
  },
  {
   "cell_type": "code",
   "execution_count": 18,
   "id": "1aa7e397",
   "metadata": {},
   "outputs": [
    {
     "name": "stdout",
     "output_type": "stream",
     "text": [
      "PER\tORG\n",
      "('edgar savisaar', 17) ('keskerakond', 20)\n",
      "('jüri', 10) ('rein', 15)\n",
      "('andrus ansip', 8) ('euroopa liit', 9)\n",
      "('ansip', 8) ('irl', 7)\n",
      "('kaarel', 8) ('reformierakond', 5)\n",
      "('andrus', 7) ('euroopa liidu', 5)\n",
      "('marek strandberg', 6) ('kapo', 4)\n",
      "('allar jõks', 5) ('riigikogu', 4)\n",
      "('strandberg', 5) ('eesti energia', 3)\n",
      "('hans', 4) ('bns', 3)\n",
      "('sven', 4) ('tallinn tehnikaülikool', 3)\n",
      "('andres', 4) ('isamaa', 3)\n",
      "('toomas hendrik', 4) ('briti parlament', 3)\n",
      "('oviir', 4) ('h', 2)\n",
      "('mihkel oviir', 4) ('delfi', 2)\n",
      "('gunnar', 3) ('tallinn ülikool', 2)\n",
      "('indrek', 3) ('el', 2)\n",
      "('tiit', 3) ('kreeta', 2)\n",
      "('aivar', 3) ('nato', 2)\n",
      "('timberg', 3) ('tartu rein', 2)\n",
      "('urmas jaagant', 3) ('postimees', 2)\n",
      "('priit hõbemägi', 3) ('euroopa komisjon', 2)\n",
      "('kobin', 3) ('taska', 1)\n",
      "('hillar teder', 3) ('vadim belov', 1)\n",
      "('meelis', 2) ('pbk', 1)\n",
      "('vadim', 2) ('ccbe', 1)\n",
      "('margus', 2) ('irl roheline', 1)\n",
      "('eiki', 2) ('sots', 1)\n",
      "('meri', 2) ('etv', 1)\n",
      "('evelin', 2) ('demokraat obama', 1)\n",
      "('toomas henrik', 2) ('err', 1)\n",
      "('toomas', 2) ('forever', 1)\n",
      "('oleg ljadov', 2) ('annepii', 1)\n",
      "('thomas', 2) ('värimäe', 1)\n",
      "('tootsi', 2) ('res publica', 1)\n",
      "('kallas', 2) ('res publica res publica', 1)\n",
      "('margus tsahkna', 2) ('li', 1)\n",
      "('hannes', 2) ('kuusalu vallavalitsus', 1)\n",
      "('kaie', 2) ('tallinn reet', 1)\n",
      "('margus allikmaa', 2) ('it', 1)\n",
      "('jaanus', 2) ('toots tee', 1)\n",
      "('edgar', 2) ('esdp', 1)\n",
      "('argo', 2) ('dr', 1)\n",
      "('marko', 2) ('pk', 1)\n",
      "('mart', 2) ('pilvre', 1)\n",
      "('ülle', 2) ('amnesty', 1)\n",
      "('jüri tamm', 2) ('as', 1)\n",
      "('tero taskila', 2) ('polaris', 1)\n",
      "('air baltic', 2) ('euroopa parlament', 1)\n",
      "('riia', 2) ('b', 1)\n",
      "('mailis reps', 2) ('online', 1)\n",
      "('eerik', 1) ('t', 1)\n",
      "('olev esula', 1) ('neena viiding', 1)\n",
      "('juskin', 1) ('ab', 1)\n",
      "('siim kallas', 1) ('vanity wimax', 1)\n",
      "('deniss borodits', 1) ('saare priidu', 1)\n",
      "('jukuminek', 1) ('levadia', 1)\n",
      "('borodits', 1) ('sagadibaas', 1)\n",
      "('kerviel', 1) ('ek', 1)\n",
      "('lasna', 1) ('menning parlamendipartei', 1)\n",
      "('heimar lenk', 1) ('euroopa nõukogu', 1)\n",
      "('häkkinen', 1) ('eta', 1)\n",
      "('molly', 1) ('big star', 1)\n",
      "('raimo', 1) ('tdi', 1)\n",
      "('baran', 1) ('harri tali', 1)\n",
      "('batory', 1) ('kaitseliit', 1)\n",
      "('hannes hanso', 1) ('loeb', 1)\n",
      "('clyde', 1) ('teu tv', 1)\n",
      "('aleksei', 1) ('kiviter', 1)\n",
      "('juhan', 1) ('kreitzberg', 1)\n",
      "('ivan', 1) ('karelitekst', 1)\n",
      "('fostermiller', 1) ('keskpäevatund', 1)\n",
      "('alma', 1) ('nordika', 1)\n",
      "('indrek teder', 1) ('estonian air', 1)\n",
      "('taavi', 1) ('nordikat', 1)\n",
      "('meelis atonen', 1) ('tartu ülikool akadeemiline raamatukogu', 1)\n",
      "('loorents', 1) ('ragnar nurkne instituut', 1)\n",
      "('estrada', 1) ('tallinn tehnikaülitallinn tehnikaülikool', 1)\n",
      "('stasi', 1) ('tartu ülikool', 1)\n",
      "('ruth', 1) ('tv', 1)\n",
      "('stalina', 1) ('bbc', 1)\n",
      "('liina tõnisson', 1) ('briti valitsus', 1)\n",
      "('anto liivat', 1) ('maailm kaubandusorganisatsioon', 1)\n",
      "('simson', 1) None\n",
      "('tsahkna', 1) None\n",
      "('liina', 1) None\n",
      "('arte sven', 1) None\n",
      "('untergang', 1) None\n",
      "('endrekson', 1) None\n",
      "('semper', 1) None\n",
      "('reet', 1) None\n",
      "('jolanda', 1) None\n",
      "('karl', 1) None\n",
      "('kelly', 1) None\n",
      "('gatesile', 1) None\n",
      "('sans', 1) None\n",
      "('cooney', 1) None\n",
      "('faktumi', 1) None\n",
      "('ariko', 1) None\n",
      "('laine avio', 1) None\n",
      "('sirje', 1) None\n",
      "('diana', 1) None\n",
      "('reinsalu vaher', 1) None\n",
      "('ainar', 1) None\n",
      "('piia', 1) None\n",
      "('ilja', 1) None\n",
      "('pixar', 1) None\n",
      "('erika', 1) None\n",
      "('books david', 1) None\n",
      "('jõks', 1) None\n",
      "('kaia', 1) None\n",
      "('juliette', 1) None\n",
      "('einstein', 1) None\n",
      "('roman', 1) None\n",
      "('edgar savisaar rein', 1) None\n",
      "('urmas', 1) None\n",
      "('oskar wahid', 1) None\n",
      "('ideon rein', 1) None\n",
      "('urmas reinsalu', 1) None\n",
      "('mare andrus', 1) None\n",
      "('sandberg', 1) None\n",
      "('triin', 1) None\n",
      "('volkonski', 1) None\n",
      "('kärt', 1) None\n",
      "('dima', 1) None\n",
      "('neeme järvit', 1) None\n",
      "('keit pentus', 1) None\n",
      "('ultima thule', 1) None\n",
      "('ensto salumi', 1) None\n",
      "('kuno', 1) None\n",
      "('moonika', 1) None\n",
      "('andreas reinberg', 1) None\n",
      "('reinberg', 1) None\n",
      "('harry', 1) None\n",
      "('wimberg', 1) None\n",
      "('scott gomez', 1) None\n",
      "('timbergile', 1) None\n",
      "('ivo paulus', 1) None\n",
      "('hans andrus ansip', 1) None\n",
      "('pädaste', 1) None\n",
      "('tegemis', 1) None\n",
      "('ain', 1) None\n",
      "('indrek neivelt', 1) None\n",
      "('uno mereste', 1) None\n",
      "('andrejev', 1) None\n",
      "('maie', 1) None\n",
      "('paalberg belobrovtsev', 1) None\n",
      "('rain rosimannus', 1) None\n",
      "('jüri pihl', 1) None\n",
      "('karel', 1) None\n",
      "('andreas', 1) None\n",
      "('andres siitan', 1) None\n",
      "('viljasavisaar toomas', 1) None\n",
      "('le pen', 1) None\n",
      "('rosalint', 1) None\n",
      "('oleg', 1) None\n",
      "('martti', 1) None\n",
      "('sid', 1) None\n",
      "('aalto', 1) None\n",
      "('mart sander', 1) None\n",
      "('gunnar kobin', 1) None\n",
      "('ja taskila', 1) None\n",
      "('taskila', 1) None\n",
      "('juhan parts', 1) None\n",
      "('erki urva', 1) None\n",
      "('toomas peterson', 1) None\n",
      "('sven sester facebook', 1) None\n",
      "('paavo betaile', 1) None\n",
      "('teder', 1) None\n",
      "('ekre', 1) None\n",
      "('savisaar', 1) None\n",
      "('jüri ratas', 1) None\n",
      "('jaak aaviksoo', 1) None\n",
      "('ragnar nurkse', 1) None\n",
      "('peeter', 1) None\n",
      "('facebooki', 1) None\n",
      "('anna põld', 1) None\n",
      "('helir-valdor seeder', 1) None\n",
      "('boris prantsus', 1) None\n",
      "('johnson', 1) None\n",
      "('brexiti', 1) None\n"
     ]
    }
   ],
   "source": [
    "print('PER' + '\\t' + 'ORG')\n",
    "for (per, org) in itertools.zip_longest(frequencies_PER.most_common(), frequencies_ORG.most_common()):\n",
    "    print(per, org)"
   ]
  },
  {
   "cell_type": "markdown",
   "id": "68585849",
   "metadata": {},
   "source": [
    "Esialgsest sagedusloendist on näha, et paljudele täispikkadele isikunimedele esineb ka vasteid kas ainult eesnime või ainult perekonnanime näol (nt Edgar Savisaar ja Savisaar). Samas ei pruugi selliseid vasteid esineda kõigile täispikkadele isikunimedele käesolevas loendis. Et hilisemat nimeolemite otsingut parandada, tükeldan kõik täispikad nimed ees- ja perekonnanimedeks. Järgneva lähenemise puuduseks on see, et ei püüta eristada ees- ja perenimest koosnevaid üksuseid kahest (või enamast) tühikuga eraldatud eesnimest koosnevatest üksustest (nt Toomas Hendrik). Mitmest eesnimest koosnevaid üksuseid oleks võimalik eristada osalise edukusega, kui tekstis leidub ka koos perekonnanimega täispikk variant, mille vastu eesnimesid võrrelda. Organisatsiooninimede peal seda lähenemist ei kasutata, sest pole alust arvata, et isikunimede kasutustavad organisatsiooninimedele laieneks. Pigem on sagedasem organisatsiooninimede puhul täispika nime asendamine lühendi/akronüümiga (nt Kaitsepolitseiamet -> KAPO). Siin praegu ei püüta lühendite/akronüümide võrdsustamist täispikkade nimedega lahendada."
   ]
  },
  {
   "cell_type": "code",
   "execution_count": 19,
   "id": "4c086d2b",
   "metadata": {},
   "outputs": [],
   "source": [
    "entities_splitted = [name.rsplit(' ', 1) for name in entities_PER_cleaned if len(name.split(' ')) > 1]"
   ]
  },
  {
   "cell_type": "code",
   "execution_count": 20,
   "id": "259f51ca",
   "metadata": {},
   "outputs": [
    {
     "name": "stdout",
     "output_type": "stream",
     "text": [
      "[['andrus', 'ansip'], ['olev', 'esula'], ['siim', 'kallas'], ['deniss', 'borodits'], ['toomas', 'hendrik'], ['heimar', 'lenk'], ['toomas', 'henrik'], ['hannes', 'hanso'], ['oleg', 'ljadov'], ['oleg', 'ljadov'], ['allar', 'jõks'], ['mihkel', 'oviir'], ['toomas', 'hendrik'], ['toomas', 'hendrik'], ['indrek', 'teder'], ['toomas', 'hendrik'], ['toomas', 'henrik'], ['meelis', 'atonen'], ['andrus', 'ansip'], ['andrus', 'ansip'], ['andrus', 'ansip'], ['andrus', 'ansip'], ['edgar', 'savisaar'], ['andrus', 'ansip'], ['edgar', 'savisaar'], ['andrus', 'ansip'], ['margus', 'tsahkna'], ['edgar', 'savisaar'], ['edgar', 'savisaar'], ['edgar', 'savisaar'], ['liina', 'tõnisson'], ['edgar', 'savisaar'], ['anto', 'liivat'], ['margus', 'tsahkna'], ['arte', 'sven'], ['marek', 'strandberg'], ['mihkel', 'oviir'], ['mihkel', 'oviir'], ['margus', 'allikmaa'], ['margus', 'allikmaa'], ['laine', 'avio'], ['reinsalu', 'vaher'], ['allar', 'jõks'], ['mihkel', 'oviir'], ['books', 'david'], ['allar', 'jõks'], ['allar', 'jõks'], ['edgar', 'savisaar'], ['andrus', 'ansip'], ['edgar', 'savisaar'], ['edgar', 'savisaar'], ['edgar savisaar', 'rein'], ['edgar', 'savisaar'], ['edgar', 'savisaar'], ['edgar', 'savisaar'], ['oskar', 'wahid'], ['ideon', 'rein'], ['urmas', 'reinsalu'], ['marek', 'strandberg'], ['mare', 'andrus'], ['neeme', 'järvit'], ['keit', 'pentus'], ['ultima', 'thule'], ['ensto', 'salumi'], ['andreas', 'reinberg'], ['scott', 'gomez'], ['ivo', 'paulus'], ['hans andrus', 'ansip'], ['edgar', 'savisaar'], ['edgar', 'savisaar'], ['edgar', 'savisaar'], ['marek', 'strandberg'], ['allar', 'jõks'], ['indrek', 'neivelt'], ['uno', 'mereste'], ['marek', 'strandberg'], ['marek', 'strandberg'], ['marek', 'strandberg'], ['paalberg', 'belobrovtsev'], ['rain', 'rosimannus'], ['jüri', 'pihl'], ['jüri', 'tamm'], ['jüri', 'tamm'], ['andres', 'siitan'], ['viljasavisaar', 'toomas'], ['le', 'pen'], ['urmas', 'jaagant'], ['priit', 'hõbemägi'], ['mart', 'sander'], ['gunnar', 'kobin'], ['tero', 'taskila'], ['tero', 'taskila'], ['ja', 'taskila'], ['air', 'baltic'], ['air', 'baltic'], ['juhan', 'parts'], ['erki', 'urva'], ['toomas', 'peterson'], ['sven sester', 'facebook'], ['hillar', 'teder'], ['edgar', 'savisaar'], ['hillar', 'teder'], ['paavo', 'betaile'], ['hillar', 'teder'], ['jüri', 'ratas'], ['edgar', 'savisaar'], ['mailis', 'reps'], ['jaak', 'aaviksoo'], ['ragnar', 'nurkse'], ['mailis', 'reps'], ['urmas', 'jaagant'], ['priit', 'hõbemägi'], ['anna', 'põld'], ['helir-valdor', 'seeder'], ['urmas', 'jaagant'], ['priit', 'hõbemägi'], ['boris', 'prantsus']]\n"
     ]
    }
   ],
   "source": [
    "print(entities_splitted)"
   ]
  },
  {
   "cell_type": "code",
   "execution_count": 21,
   "id": "afd00aaa",
   "metadata": {},
   "outputs": [],
   "source": [
    "entities_unnested = [name for names in entities_splitted for name in names]"
   ]
  },
  {
   "cell_type": "code",
   "execution_count": 22,
   "id": "a1dca938",
   "metadata": {},
   "outputs": [
    {
     "name": "stdout",
     "output_type": "stream",
     "text": [
      "['andrus', 'ansip', 'olev', 'esula', 'siim', 'kallas', 'deniss', 'borodits', 'toomas', 'hendrik', 'heimar', 'lenk', 'toomas', 'henrik', 'hannes', 'hanso', 'oleg', 'ljadov', 'oleg', 'ljadov', 'allar', 'jõks', 'mihkel', 'oviir', 'toomas', 'hendrik', 'toomas', 'hendrik', 'indrek', 'teder', 'toomas', 'hendrik', 'toomas', 'henrik', 'meelis', 'atonen', 'andrus', 'ansip', 'andrus', 'ansip', 'andrus', 'ansip', 'andrus', 'ansip', 'edgar', 'savisaar', 'andrus', 'ansip', 'edgar', 'savisaar', 'andrus', 'ansip', 'margus', 'tsahkna', 'edgar', 'savisaar', 'edgar', 'savisaar', 'edgar', 'savisaar', 'liina', 'tõnisson', 'edgar', 'savisaar', 'anto', 'liivat', 'margus', 'tsahkna', 'arte', 'sven', 'marek', 'strandberg', 'mihkel', 'oviir', 'mihkel', 'oviir', 'margus', 'allikmaa', 'margus', 'allikmaa', 'laine', 'avio', 'reinsalu', 'vaher', 'allar', 'jõks', 'mihkel', 'oviir', 'books', 'david', 'allar', 'jõks', 'allar', 'jõks', 'edgar', 'savisaar', 'andrus', 'ansip', 'edgar', 'savisaar', 'edgar', 'savisaar', 'edgar savisaar', 'rein', 'edgar', 'savisaar', 'edgar', 'savisaar', 'edgar', 'savisaar', 'oskar', 'wahid', 'ideon', 'rein', 'urmas', 'reinsalu', 'marek', 'strandberg', 'mare', 'andrus', 'neeme', 'järvit', 'keit', 'pentus', 'ultima', 'thule', 'ensto', 'salumi', 'andreas', 'reinberg', 'scott', 'gomez', 'ivo', 'paulus', 'hans andrus', 'ansip', 'edgar', 'savisaar', 'edgar', 'savisaar', 'edgar', 'savisaar', 'marek', 'strandberg', 'allar', 'jõks', 'indrek', 'neivelt', 'uno', 'mereste', 'marek', 'strandberg', 'marek', 'strandberg', 'marek', 'strandberg', 'paalberg', 'belobrovtsev', 'rain', 'rosimannus', 'jüri', 'pihl', 'jüri', 'tamm', 'jüri', 'tamm', 'andres', 'siitan', 'viljasavisaar', 'toomas', 'le', 'pen', 'urmas', 'jaagant', 'priit', 'hõbemägi', 'mart', 'sander', 'gunnar', 'kobin', 'tero', 'taskila', 'tero', 'taskila', 'ja', 'taskila', 'air', 'baltic', 'air', 'baltic', 'juhan', 'parts', 'erki', 'urva', 'toomas', 'peterson', 'sven sester', 'facebook', 'hillar', 'teder', 'edgar', 'savisaar', 'hillar', 'teder', 'paavo', 'betaile', 'hillar', 'teder', 'jüri', 'ratas', 'edgar', 'savisaar', 'mailis', 'reps', 'jaak', 'aaviksoo', 'ragnar', 'nurkse', 'mailis', 'reps', 'urmas', 'jaagant', 'priit', 'hõbemägi', 'anna', 'põld', 'helir-valdor', 'seeder', 'urmas', 'jaagant', 'priit', 'hõbemägi', 'boris', 'prantsus']\n"
     ]
    }
   ],
   "source": [
    "print(entities_unnested)"
   ]
  },
  {
   "cell_type": "markdown",
   "id": "24b3118f",
   "metadata": {},
   "source": [
    "Saadud järjend kleebitakse varasema isikunimede järjendi lõppu:"
   ]
  },
  {
   "cell_type": "code",
   "execution_count": 23,
   "id": "beb4c6da",
   "metadata": {},
   "outputs": [],
   "source": [
    "entities_PER_new = entities_PER_cleaned + entities_unnested"
   ]
  },
  {
   "cell_type": "code",
   "execution_count": 24,
   "id": "1a5f3107",
   "metadata": {
    "scrolled": true
   },
   "outputs": [
    {
     "name": "stdout",
     "output_type": "stream",
     "text": [
      "['hans', 'eerik', 'andrus ansip', 'meelis', 'olev esula', 'hans', 'vadim', 'juskin', 'margus', 'vadim', 'sven', 'sven', 'siim kallas', 'deniss borodits', 'jukuminek', 'borodits', 'jüri', 'eiki', 'jüri', 'hans', 'kerviel', 'andres', 'toomas hendrik', 'meri', 'andres', 'lasna', 'jüri', 'heimar lenk', 'häkkinen', 'molly', 'raimo', 'evelin', 'evelin', 'baran', 'batory', 'toomas henrik', 'hannes hanso', 'clyde', 'toomas', 'oleg ljadov', 'oleg ljadov', 'aleksei', 'juhan', 'ivan', 'gunnar', 'fostermiller', 'alma', 'oviir', 'allar jõks', 'mihkel oviir', 'toomas hendrik', 'toomas hendrik', 'indrek teder', 'toomas hendrik', 'thomas', 'toomas henrik', 'taavi', 'meelis atonen', 'loorents', 'estrada', 'andrus ansip', 'stasi', 'tootsi', 'ansip', 'kallas', 'andrus ansip', 'andrus ansip', 'andrus ansip', 'edgar savisaar', 'andrus ansip', 'edgar savisaar', 'andrus ansip', 'meelis', 'margus tsahkna', 'ruth', 'edgar savisaar', 'stalina', 'jüri', 'edgar savisaar', 'edgar savisaar', 'liina tõnisson', 'edgar savisaar', 'anto liivat', 'jüri', 'simson', 'sven', 'hannes', 'margus tsahkna', 'tsahkna', 'eiki', 'jüri', 'liina', 'arte sven', 'margus', 'strandberg', 'untergang', 'marek strandberg', 'mihkel oviir', 'strandberg', 'strandberg', 'endrekson', 'semper', 'kaie', 'oviir', 'oviir', 'reet', 'oviir', 'mihkel oviir', 'kaarel', 'kaarel', 'jolanda', 'kaarel', 'kaarel', 'andres', 'indrek', 'indrek', 'karl', 'indrek', 'kelly', 'gatesile', 'kaarel', 'kaarel', 'strandberg', 'sans', 'margus allikmaa', 'margus allikmaa', 'cooney', 'kallas', 'faktumi', 'ariko', 'laine avio', 'sirje', 'diana', 'reinsalu vaher', 'ainar', 'jaanus', 'ansip', 'piia', 'ilja', 'pixar', 'erika', 'allar jõks', 'thomas', 'tiit', 'mihkel oviir', 'books david', 'allar jõks', 'allar jõks', 'jõks', 'edgar savisaar', 'andrus', 'andrus ansip', 'edgar savisaar', 'andrus', 'edgar savisaar', 'ansip', 'kaia', 'andrus', 'andrus', 'andrus', 'andrus', 'juliette', 'einstein', 'ansip', 'ansip', 'roman', 'edgar savisaar rein', 'edgar savisaar', 'urmas', 'edgar savisaar', 'edgar savisaar', 'oskar wahid', 'andrus', 'edgar', 'aivar', 'jaanus', 'aivar', 'aivar', 'argo', 'ideon rein', 'argo', 'urmas reinsalu', 'marek strandberg', 'mare andrus', 'sandberg', 'triin', 'kaie', 'hannes', 'volkonski', 'kärt', 'dima', 'neeme järvit', 'keit pentus', 'ultima thule', 'ensto salumi', 'kuno', 'moonika', 'andreas reinberg', 'reinberg', 'harry', 'timberg', 'timberg', 'timberg', 'wimberg', 'scott gomez', 'timbergile', 'marko', 'marko', 'ivo paulus', 'hans andrus ansip', 'ansip', 'ansip', 'edgar savisaar', 'ansip', 'edgar savisaar', 'edgar savisaar', 'tiit', 'tiit', 'marek strandberg', 'pädaste', 'mart', 'allar jõks', 'mart', 'ülle', 'tegemis', 'ain', 'jüri', 'jüri', 'indrek neivelt', 'ülle', 'uno mereste', 'marek strandberg', 'marek strandberg', 'andrejev', 'marek strandberg', 'hans', 'maie', 'meri', 'paalberg belobrovtsev', 'jüri', 'rain rosimannus', 'jüri pihl', 'sven', 'jüri tamm', 'jüri tamm', 'karel', 'jüri', 'andreas', 'andres siitan', 'viljasavisaar toomas', 'kaarel', 'le pen', 'strandberg', 'rosalint', 'kaarel', 'oleg', 'martti', 'andres', 'sid', 'aalto', 'urmas jaagant', 'priit hõbemägi', 'mart sander', 'gunnar', 'kobin', 'gunnar kobin', 'tero taskila', 'tero taskila', 'ja taskila', 'taskila', 'kobin', 'air baltic', 'air baltic', 'riia', 'riia', 'juhan parts', 'erki urva', 'toomas peterson', 'gunnar', 'sven sester facebook', 'kobin', 'hillar teder', 'edgar savisaar', 'hillar teder', 'paavo betaile', 'teder', 'hillar teder', 'ekre', 'savisaar', 'jüri ratas', 'edgar savisaar', 'mailis reps', 'jaak aaviksoo', 'ragnar nurkse', 'mailis reps', 'peeter', 'toomas', 'facebooki', 'urmas jaagant', 'priit hõbemägi', 'edgar', 'anna põld', 'tootsi', 'helir-valdor seeder', 'urmas jaagant', 'priit hõbemägi', 'boris prantsus', 'johnson', 'brexiti', 'andrus', 'ansip', 'olev', 'esula', 'siim', 'kallas', 'deniss', 'borodits', 'toomas', 'hendrik', 'heimar', 'lenk', 'toomas', 'henrik', 'hannes', 'hanso', 'oleg', 'ljadov', 'oleg', 'ljadov', 'allar', 'jõks', 'mihkel', 'oviir', 'toomas', 'hendrik', 'toomas', 'hendrik', 'indrek', 'teder', 'toomas', 'hendrik', 'toomas', 'henrik', 'meelis', 'atonen', 'andrus', 'ansip', 'andrus', 'ansip', 'andrus', 'ansip', 'andrus', 'ansip', 'edgar', 'savisaar', 'andrus', 'ansip', 'edgar', 'savisaar', 'andrus', 'ansip', 'margus', 'tsahkna', 'edgar', 'savisaar', 'edgar', 'savisaar', 'edgar', 'savisaar', 'liina', 'tõnisson', 'edgar', 'savisaar', 'anto', 'liivat', 'margus', 'tsahkna', 'arte', 'sven', 'marek', 'strandberg', 'mihkel', 'oviir', 'mihkel', 'oviir', 'margus', 'allikmaa', 'margus', 'allikmaa', 'laine', 'avio', 'reinsalu', 'vaher', 'allar', 'jõks', 'mihkel', 'oviir', 'books', 'david', 'allar', 'jõks', 'allar', 'jõks', 'edgar', 'savisaar', 'andrus', 'ansip', 'edgar', 'savisaar', 'edgar', 'savisaar', 'edgar savisaar', 'rein', 'edgar', 'savisaar', 'edgar', 'savisaar', 'edgar', 'savisaar', 'oskar', 'wahid', 'ideon', 'rein', 'urmas', 'reinsalu', 'marek', 'strandberg', 'mare', 'andrus', 'neeme', 'järvit', 'keit', 'pentus', 'ultima', 'thule', 'ensto', 'salumi', 'andreas', 'reinberg', 'scott', 'gomez', 'ivo', 'paulus', 'hans andrus', 'ansip', 'edgar', 'savisaar', 'edgar', 'savisaar', 'edgar', 'savisaar', 'marek', 'strandberg', 'allar', 'jõks', 'indrek', 'neivelt', 'uno', 'mereste', 'marek', 'strandberg', 'marek', 'strandberg', 'marek', 'strandberg', 'paalberg', 'belobrovtsev', 'rain', 'rosimannus', 'jüri', 'pihl', 'jüri', 'tamm', 'jüri', 'tamm', 'andres', 'siitan', 'viljasavisaar', 'toomas', 'le', 'pen', 'urmas', 'jaagant', 'priit', 'hõbemägi', 'mart', 'sander', 'gunnar', 'kobin', 'tero', 'taskila', 'tero', 'taskila', 'ja', 'taskila', 'air', 'baltic', 'air', 'baltic', 'juhan', 'parts', 'erki', 'urva', 'toomas', 'peterson', 'sven sester', 'facebook', 'hillar', 'teder', 'edgar', 'savisaar', 'hillar', 'teder', 'paavo', 'betaile', 'hillar', 'teder', 'jüri', 'ratas', 'edgar', 'savisaar', 'mailis', 'reps', 'jaak', 'aaviksoo', 'ragnar', 'nurkse', 'mailis', 'reps', 'urmas', 'jaagant', 'priit', 'hõbemägi', 'anna', 'põld', 'helir-valdor', 'seeder', 'urmas', 'jaagant', 'priit', 'hõbemägi', 'boris', 'prantsus']\n"
     ]
    }
   ],
   "source": [
    "print(entities_PER_new)"
   ]
  },
  {
   "cell_type": "code",
   "execution_count": 25,
   "id": "3fdf8806",
   "metadata": {},
   "outputs": [],
   "source": [
    "unique_PER = set(entities_PER_new)\n",
    "unique_ORG = set(entities_ORG)"
   ]
  },
  {
   "cell_type": "code",
   "execution_count": 27,
   "id": "e9a48afb",
   "metadata": {},
   "outputs": [
    {
     "name": "stdout",
     "output_type": "stream",
     "text": [
      "{'juskin', 'kallas', 'boris prantsus', 'tamm', 'kaie', 'priit', 'thomas', 'ja', 'jolanda', 'sven sester', 'mihkel oviir', 'piia', 'boris', 'siim kallas', 'lenk', 'anto', 'edgar savisaar', 'indrek', 'liina', 'kelly', 'hendrik', 'liivat', 'ülle', 'toomas', 'simson', 'andreas', 'indrek teder', 'arte sven', 'borodits', 'savisaar', 'faktumi', 'facebooki', 'anna põld', 'eerik', 'neeme', 'betaile', 'scott gomez', 'reinberg', 'paavo betaile', 'helir-valdor seeder', 'ultima', 'ruth', 'juhan', 'rain rosimannus', 'books', 'edgar savisaar rein', 'vadim', 'jüri ratas', 'parts', 'järvit', 'taskila', 'hans andrus', 'ekre', 'endrekson', 'books david', 'hillar teder', 'timbergile', 'gomez', 'siitan', 'jaak', 'keit', 'seeder', 'reinsalu', 'gatesile', 'sirje', 'hannes hanso', 'toomas peterson', 'aaviksoo', 'ainar', 'urmas reinsalu', 'henrik', 'ivo', 'taavi', 'andrus ansip', 'kaarel', 'ensto salumi', 'johnson', 'ariko', 'ultima thule', 'margus', 'estrada', 'toomas hendrik', 'ensto', 'paulus', 'gunnar kobin', 'ragnar', 'nurkse', 'triin', 'roman', 'helir-valdor', 'maie', 'jüri tamm', 'kobin', 'allar jõks', 'prantsus', 'peterson', 'indrek neivelt', 'mart', 'neeme järvit', 'marek', 'neivelt', 'kärt', 'eiki', 'raimo', 'juliette', 'argo', 'aalto', 'mailis reps', 'deniss borodits', 'facebook', 'oleg ljadov', 'ain', 'deniss', 'viljasavisaar', 'ratas', 'mailis', 'clyde', 'häkkinen', 'jõks', 'timberg', 'thule', 'pihl', 'arte', 'liina tõnisson', 'sid', 'oskar wahid', 'salumi', 'hanso', 'sven', 'tõnisson', 'alma', 'batory', 'reet', 'aleksei', 'margus tsahkna', 'pädaste', 'dima', 'wahid', 'ragnar nurkse', 'siim', 'atonen', 'vaher', 'tero taskila', 'urmas jaagant', 'brexiti', 'baran', 'stasi', 'sans', 'moonika', 'pen', 'jüri pihl', 'rosimannus', 'andres', 'jaak aaviksoo', 'harry', 'karl', 'juhan parts', 'mart sander', 'evelin', 'gunnar', 'riia', 'kerviel', 'aivar', 'wimberg', 'strandberg', 'fostermiller', 'volkonski', 'kuno', 'allikmaa', 'avio', 'air', 'lasna', 'einstein', 'mare andrus', 'le pen', 'laine avio', 'paalberg', 'paavo', 'marko', 'anna', 'le', 'hans andrus ansip', 'jaanus', 'urva', 'põld', 'kaia', 'rain', 'andrejev', 'scott', 'oviir', 'olev esula', 'margus allikmaa', 'ivan', 'andreas reinberg', 'viljasavisaar toomas', 'ideon rein', 'esula', 'urmas', 'erika', 'peeter', 'keit pentus', 'tero', 'tsahkna', 'cooney', 'hillar', 'tootsi', 'semper', 'teder', 'david', 'jukuminek', 'pixar', 'reps', 'laine', 'pentus', 'sander', 'tiit', 'erki', 'uno mereste', 'stalina', 'ljadov', 'ja taskila', 'rein', 'mereste', 'anto liivat', 'meelis', 'molly', 'hans', 'jüri', 'loorents', 'uno', 'ilja', 'sandberg', 'edgar', 'untergang', 'oleg', 'meri', 'reinsalu vaher', 'martti', 'priit hõbemägi', 'heimar', 'belobrovtsev', 'mare', 'hõbemägi', 'marek strandberg', 'karel', 'heimar lenk', 'oskar', 'meelis atonen', 'hannes', 'ideon', 'andres siitan', 'paalberg belobrovtsev', 'sven sester facebook', 'baltic', 'ivo paulus', 'toomas henrik', 'diana', 'tegemis', 'ansip', 'rosalint', 'jaagant', 'andrus', 'mihkel', 'air baltic', 'allar', 'erki urva', 'olev'}\n"
     ]
    }
   ],
   "source": [
    "print(unique_PER)"
   ]
  },
  {
   "cell_type": "markdown",
   "id": "1c83c8ad",
   "metadata": {},
   "source": [
    "Kuna praegusel kujul on jäänud alles ka siiski vigaseid nimesid, mis võivad hiljem probleeme tekitada (nt \"ja\"), pean eemaldama haruldased juhud enne uut nimeüksuste märgendamist. Kuna hetkel on analüüsitavaid tekste vaid 5, valin alampiiriks päris väikese esinemissageduse. Hiljem teen graafikud, mis abistaks esinemise alampiiri paika panemisel."
   ]
  },
  {
   "cell_type": "code",
   "execution_count": 28,
   "id": "745504ab",
   "metadata": {},
   "outputs": [],
   "source": [
    "names_to_remove = []\n",
    "\n",
    "for name in frequencies_PER.keys():\n",
    "    if frequencies_PER[name] < 3:\n",
    "        names_to_remove.append(name)\n",
    "for name in frequencies_ORG.keys():\n",
    "    if frequencies_ORG[name] < 3:\n",
    "        names_to_remove.append(name)"
   ]
  },
  {
   "cell_type": "code",
   "execution_count": 29,
   "id": "74d3fbc5",
   "metadata": {},
   "outputs": [
    {
     "name": "stdout",
     "output_type": "stream",
     "text": [
      "['eerik', 'meelis', 'olev esula', 'vadim', 'juskin', 'margus', 'siim kallas', 'deniss borodits', 'jukuminek', 'borodits', 'eiki', 'kerviel', 'meri', 'lasna', 'heimar lenk', 'häkkinen', 'molly', 'raimo', 'evelin', 'baran', 'batory', 'toomas henrik', 'hannes hanso', 'clyde', 'toomas', 'oleg ljadov', 'aleksei', 'juhan', 'ivan', 'fostermiller', 'alma', 'indrek teder', 'thomas', 'taavi', 'meelis atonen', 'loorents', 'estrada', 'stasi', 'tootsi', 'kallas', 'margus tsahkna', 'ruth', 'stalina', 'liina tõnisson', 'anto liivat', 'simson', 'hannes', 'tsahkna', 'liina', 'arte sven', 'untergang', 'endrekson', 'semper', 'kaie', 'reet', 'jolanda', 'karl', 'kelly', 'gatesile', 'sans', 'margus allikmaa', 'cooney', 'faktumi', 'ariko', 'laine avio', 'sirje', 'diana', 'reinsalu vaher', 'ainar', 'jaanus', 'piia', 'ilja', 'pixar', 'erika', 'books david', 'jõks', 'kaia', 'juliette', 'einstein', 'roman', 'edgar savisaar rein', 'urmas', 'oskar wahid', 'edgar', 'argo', 'ideon rein', 'urmas reinsalu', 'mare andrus', 'sandberg', 'triin', 'volkonski', 'kärt', 'dima', 'neeme järvit', 'keit pentus', 'ultima thule', 'ensto salumi', 'kuno', 'moonika', 'andreas reinberg', 'reinberg', 'harry', 'wimberg', 'scott gomez', 'timbergile', 'marko', 'ivo paulus', 'hans andrus ansip', 'pädaste', 'mart', 'ülle', 'tegemis', 'ain', 'indrek neivelt', 'uno mereste', 'andrejev', 'maie', 'paalberg belobrovtsev', 'rain rosimannus', 'jüri pihl', 'jüri tamm', 'karel', 'andreas', 'andres siitan', 'viljasavisaar toomas', 'le pen', 'rosalint', 'oleg', 'martti', 'sid', 'aalto', 'mart sander', 'gunnar kobin', 'tero taskila', 'ja taskila', 'taskila', 'air baltic', 'riia', 'juhan parts', 'erki urva', 'toomas peterson', 'sven sester facebook', 'paavo betaile', 'teder', 'ekre', 'savisaar', 'jüri ratas', 'mailis reps', 'jaak aaviksoo', 'ragnar nurkse', 'peeter', 'facebooki', 'anna põld', 'helir-valdor seeder', 'boris prantsus', 'johnson', 'brexiti', 'h', 'taska', 'vadim belov', 'pbk', 'delfi', 'tallinn ülikool', 'el', 'ccbe', 'irl roheline', 'sots', 'etv', 'demokraat obama', 'err', 'forever', 'annepii', 'värimäe', 'res publica', 'res publica res publica', 'li', 'kuusalu vallavalitsus', 'tallinn reet', 'it', 'toots tee', 'esdp', 'dr', 'pk', 'pilvre', 'amnesty', 'as', 'polaris', 'euroopa parlament', 'b', 'online', 't', 'neena viiding', 'ab', 'vanity wimax', 'saare priidu', 'kreeta', 'levadia', 'sagadibaas', 'nato', 'ek', 'tartu rein', 'menning parlamendipartei', 'euroopa nõukogu', 'eta', 'big star', 'tdi', 'harri tali', 'kaitseliit', 'loeb', 'teu tv', 'kiviter', 'kreitzberg', 'karelitekst', 'keskpäevatund', 'nordika', 'estonian air', 'nordikat', 'tartu ülikool akadeemiline raamatukogu', 'ragnar nurkne instituut', 'tallinn tehnikaülitallinn tehnikaülikool', 'postimees', 'tartu ülikool', 'tv', 'bbc', 'euroopa komisjon', 'briti valitsus', 'maailm kaubandusorganisatsioon']\n"
     ]
    }
   ],
   "source": [
    "print(names_to_remove)"
   ]
  },
  {
   "cell_type": "code",
   "execution_count": 30,
   "id": "4a5e406c",
   "metadata": {},
   "outputs": [],
   "source": [
    "entities_PER_cleaned = [name for name in entities_PER if name not in names_to_remove]\n",
    "entities_ORG_cleaned = [name for name in entities_ORG if name not in names_to_remove]"
   ]
  },
  {
   "cell_type": "code",
   "execution_count": 32,
   "id": "8ad9aeed",
   "metadata": {},
   "outputs": [],
   "source": [
    "unique_PER_new = set(entities_PER_cleaned)\n",
    "unique_ORG_new = set(entities_ORG_cleaned)"
   ]
  },
  {
   "cell_type": "markdown",
   "id": "c3074fe6",
   "metadata": {},
   "source": [
    "Saadud loendid talletatakse csv-failis:"
   ]
  },
  {
   "cell_type": "code",
   "execution_count": 33,
   "id": "af9bcb05",
   "metadata": {},
   "outputs": [],
   "source": [
    "with open('entity_phrases.csv', 'w', newline='', encoding='UTF-8') as csv_file:\n",
    "    writer = csv.DictWriter(csv_file, fieldnames=['phrase', 'value'])\n",
    "    writer.writeheader()\n",
    "    header2 = {'phrase': 'callable', 'value': 'string'}\n",
    "    writer.writerow(header2)\n",
    "    split_names_PER = [name.split() for name in unique_PER_new]\n",
    "    split_names_ORG = [name.split() for name in unique_ORG_new]\n",
    "    for name in split_names_PER:\n",
    "        if len(name) > 1:\n",
    "            writer.writerow({'phrase': ','.join([\"'\" + part + \"'\" for part in name]), 'value': 'PER'})\n",
    "        else:\n",
    "            writer.writerow({'phrase': \"'\" + name[0] + \"'\" + \",\", 'value': 'PER'})\n",
    "    for name in split_names_ORG:\n",
    "        if len(name) > 1:\n",
    "            writer.writerow({'phrase': ','.join([\"'\" + part + \"'\" for part in name]), 'value': 'ORG'})\n",
    "        else:\n",
    "            writer.writerow({'phrase': \"'\" + name[0] + \"'\" + \",\", 'value': 'ORG'})"
   ]
  },
  {
   "cell_type": "code",
   "execution_count": 34,
   "id": "5ec70758",
   "metadata": {},
   "outputs": [],
   "source": [
    "with open('entity_phrases.csv', encoding='UTF-8') as csv_file:\n",
    "    rows = []\n",
    "    reader = csv.DictReader(csv_file)\n",
    "    for row in reader:\n",
    "        rows.append(row)"
   ]
  },
  {
   "cell_type": "code",
   "execution_count": 35,
   "id": "16bb6aef",
   "metadata": {},
   "outputs": [
    {
     "name": "stdout",
     "output_type": "stream",
     "text": [
      "[{'phrase': 'callable', 'value': 'string'}, {'phrase': \"'urmas','jaagant'\", 'value': 'PER'}, {'phrase': \"'andrus','ansip'\", 'value': 'PER'}, {'phrase': \"'kaarel',\", 'value': 'PER'}, {'phrase': \"'mihkel','oviir'\", 'value': 'PER'}, {'phrase': \"'andres',\", 'value': 'PER'}, {'phrase': \"'toomas','hendrik'\", 'value': 'PER'}, {'phrase': \"'tiit',\", 'value': 'PER'}, {'phrase': \"'edgar','savisaar'\", 'value': 'PER'}, {'phrase': \"'indrek',\", 'value': 'PER'}, {'phrase': \"'kobin',\", 'value': 'PER'}, {'phrase': \"'gunnar',\", 'value': 'PER'}, {'phrase': \"'allar','jõks'\", 'value': 'PER'}, {'phrase': \"'hans',\", 'value': 'PER'}, {'phrase': \"'jüri',\", 'value': 'PER'}, {'phrase': \"'aivar',\", 'value': 'PER'}, {'phrase': \"'strandberg',\", 'value': 'PER'}, {'phrase': \"'ainar','ruussaar'\", 'value': 'PER'}, {'phrase': \"'priit','hõbemägi'\", 'value': 'PER'}, {'phrase': \"'marek','strandberg'\", 'value': 'PER'}, {'phrase': \"'timberg',\", 'value': 'PER'}, {'phrase': \"'oviir',\", 'value': 'PER'}, {'phrase': \"'ansip',\", 'value': 'PER'}, {'phrase': \"'sven',\", 'value': 'PER'}, {'phrase': \"'hillar','teder'\", 'value': 'PER'}, {'phrase': \"'andrus',\", 'value': 'PER'}, {'phrase': \"'kapo',\", 'value': 'ORG'}, {'phrase': \"'irl',\", 'value': 'ORG'}, {'phrase': \"'tallinn','tehnikaülikool'\", 'value': 'ORG'}, {'phrase': \"'rein',\", 'value': 'ORG'}, {'phrase': \"'briti','parlament'\", 'value': 'ORG'}, {'phrase': \"'isamaa',\", 'value': 'ORG'}, {'phrase': \"'eesti','energia'\", 'value': 'ORG'}, {'phrase': \"'euroopa','liidu'\", 'value': 'ORG'}, {'phrase': \"'reformierakond',\", 'value': 'ORG'}, {'phrase': \"'riigikogu',\", 'value': 'ORG'}, {'phrase': \"'keskerakond',\", 'value': 'ORG'}, {'phrase': \"'bns',\", 'value': 'ORG'}, {'phrase': \"'euroopa','liit'\", 'value': 'ORG'}]\n"
     ]
    }
   ],
   "source": [
    "print(rows)"
   ]
  }
 ],
 "metadata": {
  "kernelspec": {
   "display_name": "Python 3 (ipykernel)",
   "language": "python",
   "name": "python3"
  },
  "language_info": {
   "codemirror_mode": {
    "name": "ipython",
    "version": 3
   },
   "file_extension": ".py",
   "mimetype": "text/x-python",
   "name": "python",
   "nbconvert_exporter": "python",
   "pygments_lexer": "ipython3",
   "version": "3.10.11"
  }
 },
 "nbformat": 4,
 "nbformat_minor": 5
}
