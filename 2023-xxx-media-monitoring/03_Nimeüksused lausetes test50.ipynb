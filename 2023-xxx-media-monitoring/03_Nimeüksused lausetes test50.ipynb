{
 "cells": [
  {
   "cell_type": "markdown",
   "id": "af0873bb",
   "metadata": {},
   "source": [
    "## Nimeüksused lausetes test50"
   ]
  },
  {
   "cell_type": "code",
   "execution_count": 1,
   "id": "4dd1f534",
   "metadata": {},
   "outputs": [],
   "source": [
    "from estnltk import Text\n",
    "import sqlite3\n",
    "from estnltk.converters import json_to_text\n",
    "from estnltk.converters import text_to_json\n",
    "from collections import Counter\n",
    "import itertools\n",
    "import csv\n",
    "from copy import deepcopy"
   ]
  },
  {
   "cell_type": "markdown",
   "id": "375c6372",
   "metadata": {},
   "source": [
    "Tühi järjend lausete jaoks:"
   ]
  },
  {
   "cell_type": "code",
   "execution_count": 2,
   "id": "69ae09ad",
   "metadata": {},
   "outputs": [],
   "source": [
    "corpus = []"
   ]
  },
  {
   "cell_type": "markdown",
   "id": "0a794f52",
   "metadata": {},
   "source": [
    "Tühi järjend lausete ID-de jaoks:"
   ]
  },
  {
   "cell_type": "code",
   "execution_count": 3,
   "id": "f290eef6",
   "metadata": {},
   "outputs": [],
   "source": [
    "sentence_ids = []"
   ]
  },
  {
   "cell_type": "markdown",
   "id": "9753178f",
   "metadata": {},
   "source": [
    "Andmebaasist loetakse sisse laused:"
   ]
  },
  {
   "cell_type": "code",
   "execution_count": 4,
   "id": "20f80a33",
   "metadata": {},
   "outputs": [],
   "source": [
    "con = sqlite3.connect(\"media_data_2.db\")\n",
    "cur = con.cursor()"
   ]
  },
  {
   "cell_type": "code",
   "execution_count": 5,
   "id": "427644f4",
   "metadata": {},
   "outputs": [],
   "source": [
    "for row in cur.execute(\"SELECT ID, sentence FROM sentences WHERE named_entity = 1\"):\n",
    "    sentence_id = row[0]\n",
    "    sentence = json_to_text(json_text=row[1])\n",
    "    corpus.append(sentence)\n",
    "    sentence_ids.append(sentence_id)"
   ]
  },
  {
   "cell_type": "code",
   "execution_count": 6,
   "id": "ebb8b3b9",
   "metadata": {},
   "outputs": [],
   "source": [
    "con.close()"
   ]
  },
  {
   "cell_type": "code",
   "execution_count": 7,
   "id": "ac68c3d7",
   "metadata": {},
   "outputs": [
    {
     "data": {
      "text/plain": [
       "4492"
      ]
     },
     "execution_count": 7,
     "metadata": {},
     "output_type": "execute_result"
    }
   ],
   "source": [
    "len(corpus)"
   ]
  },
  {
   "cell_type": "markdown",
   "id": "0c8024a4",
   "metadata": {},
   "source": [
    "Vaatame üht lauset ja selle nimeüksusi:"
   ]
  },
  {
   "cell_type": "code",
   "execution_count": 11,
   "id": "6f5470be",
   "metadata": {},
   "outputs": [
    {
     "name": "stdout",
     "output_type": "stream",
     "text": [
      "PER ['Kuperjanovi'] Kuperjanovi\n",
      "ORG ['Kuperjanovi', 'pataljoni'] Kuperjanovi pataljoni\n",
      "LOC ['Mattias'] Mattias\n",
      "PER ['Konstantin'] Konstantin\n"
     ]
    }
   ],
   "source": [
    "for ner in corpus[1000].ner:\n",
    "    print(ner.nertag, ner.text, ner.enclosing_text)"
   ]
  },
  {
   "cell_type": "markdown",
   "id": "d0039896",
   "metadata": {},
   "source": [
    "NerTagger võib olla teinud vigu, näiteks märkinud isikunime asukohaks, asukoha organisatsiooniks jne. Siin katsetan lihtsakoelist lahendust, mis ei korrigeeri kindlasti kõiki selliseid vigu, kuid võib nende vigade hulka vähendada. Nimelt loetakse kokku eri nimeüksuste esinemised kõigis liikides. Kui nimeüksus esineb rohkem kui ühes liigis, loetakse õigeks liigiks see, milles tema esinemissagedus kõige suurem on. Kui esinemissagedused on eri liikides võrdsed, ei tehta aga praeguses etapis midagi.\n",
    "\n",
    "Esiteks loon tühjad järjendid nii isikunimede, organisatsiooninimede kui asukohanimede jaoks:"
   ]
  },
  {
   "cell_type": "code",
   "execution_count": 12,
   "id": "28793149",
   "metadata": {},
   "outputs": [],
   "source": [
    "entities_PER = []\n",
    "entities_ORG = []\n",
    "entities_LOC = []"
   ]
  },
  {
   "cell_type": "markdown",
   "id": "09521a26",
   "metadata": {},
   "source": [
    "Seejärel käin läbi kõik korpuses olevad laused ja lisan nimeüksused järjenditesse vastavalt nende liigile:"
   ]
  },
  {
   "cell_type": "code",
   "execution_count": 13,
   "id": "87403a6c",
   "metadata": {},
   "outputs": [],
   "source": [
    "for sentence in corpus:\n",
    "    for ner in sentence.ner:\n",
    "        lemmatized_ner = [word.lemma[0] for word in ner]\n",
    "        if ner.nertag == 'PER':\n",
    "            entities_PER.append(' '.join(lemmatized_ner))\n",
    "        elif ner.nertag == 'ORG':\n",
    "            entities_ORG.append(' '.join(lemmatized_ner))\n",
    "        else:\n",
    "            entities_LOC.append(' '.join(lemmatized_ner))"
   ]
  },
  {
   "cell_type": "code",
   "execution_count": 14,
   "id": "a7c187af",
   "metadata": {},
   "outputs": [
    {
     "data": {
      "text/plain": [
       "2902"
      ]
     },
     "execution_count": 14,
     "metadata": {},
     "output_type": "execute_result"
    }
   ],
   "source": [
    "len(entities_PER)"
   ]
  },
  {
   "cell_type": "code",
   "execution_count": 15,
   "id": "46a9836d",
   "metadata": {},
   "outputs": [
    {
     "data": {
      "text/plain": [
       "1863"
      ]
     },
     "execution_count": 15,
     "metadata": {},
     "output_type": "execute_result"
    }
   ],
   "source": [
    "len(entities_ORG)"
   ]
  },
  {
   "cell_type": "code",
   "execution_count": 16,
   "id": "b4b85fcf",
   "metadata": {},
   "outputs": [
    {
     "data": {
      "text/plain": [
       "3642"
      ]
     },
     "execution_count": 16,
     "metadata": {},
     "output_type": "execute_result"
    }
   ],
   "source": [
    "len(entities_LOC)"
   ]
  },
  {
   "cell_type": "markdown",
   "id": "9980a3d7",
   "metadata": {},
   "source": [
    "Seejärel tuleb tekitada kõigi nimeolemiliikide sagedusloendid:"
   ]
  },
  {
   "cell_type": "code",
   "execution_count": 17,
   "id": "8bf5680a",
   "metadata": {},
   "outputs": [],
   "source": [
    "entities_PER_lower = [name.lower() for name in entities_PER]\n",
    "entities_ORG_lower = [name.lower() for name in entities_ORG]\n",
    "entities_LOC_lower = [name.lower() for name in entities_LOC]"
   ]
  },
  {
   "cell_type": "code",
   "execution_count": 18,
   "id": "e10dd005",
   "metadata": {},
   "outputs": [],
   "source": [
    "frequencies_PER = Counter(entities_PER_lower)\n",
    "frequencies_ORG = Counter(entities_ORG_lower)\n",
    "frequencies_LOC = Counter(entities_LOC_lower)"
   ]
  },
  {
   "cell_type": "code",
   "execution_count": 19,
   "id": "47539af2",
   "metadata": {},
   "outputs": [
    {
     "name": "stdout",
     "output_type": "stream",
     "text": [
      "PER\tORG\tLOC\n",
      "('edgar savisaar', 99) ('keskerakond', 215) ('eesti', 1062)\n",
      "('priit hõbemägi', 66) ('reformierakond', 197) ('tallinn', 262)\n",
      "('jüri ratas', 61) ('riigikogu', 156) ('euroopa', 156)\n",
      "('ainar ruussaar', 38) ('irl', 102) ('tartu', 104)\n",
      "('siim kallas', 37) ('nato', 35) ('venemaa', 101)\n",
      "('savisaar', 33) ('euroopa liit', 33) ('soome', 80)\n",
      "('indrek', 32) ('postimees', 29) ('euroopa liit', 78)\n",
      "('mart luik', 30) ('keskpäevatund', 24) ('eesti vabariik', 73)\n",
      "('andrus ansip', 27) ('eesti pank', 22) ('läti', 66)\n",
      "('ansip', 27) ('eas', 22) ('hiina', 57)\n"
     ]
    }
   ],
   "source": [
    "#Kümme sagedasemat isiku-, organisatsiooni- ja asukohanime\n",
    "print('PER' + '\\t' + 'ORG' + '\\t' + 'LOC')\n",
    "for (per, org, loc) in itertools.zip_longest(frequencies_PER.most_common(10), frequencies_ORG.most_common(10), frequencies_LOC.most_common(10)):\n",
    "    print(per, org, loc)"
   ]
  },
  {
   "cell_type": "markdown",
   "id": "8a983332",
   "metadata": {},
   "source": [
    "Loon uued tühjad järjendid isiku-, organisatsiooni- ja asukohanimede jaoks, mida võib kasutada nimede mugavaks andmebaasi lisamiseks."
   ]
  },
  {
   "cell_type": "code",
   "execution_count": 20,
   "id": "6cc32805",
   "metadata": {},
   "outputs": [],
   "source": [
    "entities_PER_new = []\n",
    "entities_ORG_new = []\n",
    "entities_LOC_new = []"
   ]
  },
  {
   "cell_type": "code",
   "execution_count": 21,
   "id": "c1fd4a84",
   "metadata": {},
   "outputs": [],
   "source": [
    "frequencies_PER_copy = deepcopy(frequencies_PER)\n",
    "frequencies_ORG_copy = deepcopy(frequencies_ORG)\n",
    "frequencies_LOC_copy = deepcopy(frequencies_LOC)"
   ]
  },
  {
   "cell_type": "code",
   "execution_count": 22,
   "id": "5bc6bd5b",
   "metadata": {},
   "outputs": [],
   "source": [
    "equal_occurrences = []"
   ]
  },
  {
   "cell_type": "code",
   "execution_count": 23,
   "id": "5232af48",
   "metadata": {},
   "outputs": [
    {
     "name": "stdout",
     "output_type": "stream",
     "text": [
      "taavi LOC: 1 PER: 8\n",
      "tootsi LOC: 2 PER: 3\n",
      "rein ORG: 16 PER: 15\n",
      "rein LOC: 1 PER: 15\n",
      "priidu ORG: 1 PER: 5\n",
      "maarja LOC: 1 PER: 2\n",
      "liis LOC: 1 PER: 2\n",
      "reinsalu LOC: 11 PER: 15\n",
      "merkel ORG: 1 PER: 3\n",
      "merkel LOC: 1 PER: 3\n",
      "aaviksoo ORG: 1 PER: 6\n",
      "petseri LOC: 2 PER: 1\n",
      "ken-mart LOC: 2 PER: 1\n",
      "reiljan LOC: 1 PER: 6\n",
      "annika LOC: 1 PER: 2\n",
      "liivi LOC: 2 PER: 1\n",
      "facebook ORG: 2 PER: 6\n",
      "facebook LOC: 15 PER: 6\n",
      "idea ORG: 1 PER: 2\n",
      "ojuland ORG: 2 PER: 4\n",
      "ojuland LOC: 5 PER: 4\n",
      "samost ORG: 1 PER: 2\n",
      "ülle madis ORG: 3 PER: 9\n",
      "teder LOC: 4 PER: 2\n",
      "tsipras LOC: 1 PER: 3\n",
      "yana toom ORG: 2 PER: 5\n",
      "valdo randpere ORG: 1 PER: 2\n",
      "taavi aas ORG: 1 PER: 8\n",
      "padar LOC: 2 PER: 1\n",
      "google ORG: 3 PER: 1\n",
      "google LOC: 3 PER: 1\n",
      "nilsson ORG: 1 PER: 3\n",
      "ratas LOC: 1 PER: 4\n",
      "palo LOC: 1 PER: 2\n",
      "viimsi LOC: 2 PER: 1\n",
      "madis kimmel ORG: 3 PER: 15\n",
      "vabadus ORG: 4 PER: 2\n",
      "forbes ORG: 1 PER: 2\n",
      "eston kohver ORG: 1 PER: 4\n",
      "laaneots LOC: 1 PER: 2\n",
      "kunnas LOC: 1 PER: 2\n",
      "brexit LOC: 3 PER: 1\n",
      "ekre ORG: 1 PER: 9\n",
      "ekre LOC: 7 PER: 9\n",
      "mart helme ORG: 1 PER: 8\n",
      "danske ORG: 4 PER: 10\n",
      "danske LOC: 1 PER: 10\n",
      "brauder ORG: 1 PER: 3\n",
      "bilbrauder ORG: 1 PER: 2\n",
      "madisson ORG: 2 PER: 1\n",
      "riia LOC: 21 PER: 2\n",
      "rein LOC: 1 ORG: 16\n",
      "el LOC: 2 ORG: 13\n",
      "irl LOC: 1 ORG: 102\n",
      "euroopa liit LOC: 78 ORG: 33\n",
      "b LOC: 3 ORG: 2\n",
      "riigikogu LOC: 1 ORG: 156\n",
      "levadia LOC: 4 ORG: 1\n",
      "india LOC: 1 ORG: 2\n",
      "eesti LOC: 1062 ORG: 1\n",
      "fsb LOC: 1 ORG: 5\n",
      "ojuland LOC: 5 ORG: 2\n",
      "a LOC: 1 ORG: 3\n",
      "viru LOC: 3 ORG: 1\n",
      "facebook LOC: 15 ORG: 2\n",
      "tallink LOC: 2 ORG: 1\n",
      "viljandi LOC: 3 ORG: 1\n",
      "twitter LOC: 5 ORG: 3\n",
      "tallinn LOC: 262 ORG: 3\n",
      "pärnu LOC: 21 ORG: 1\n",
      "brexit LOC: 3 ORG: 1\n",
      "danske LOC: 1 ORG: 4\n",
      "ekre LOC: 7 ORG: 1\n"
     ]
    }
   ],
   "source": [
    "#Kas isikunimede hulgas olevad nimed leiduvad ka organisatsiooni- või asukohanimede hulgas:\n",
    "for name in frequencies_PER_copy.keys():\n",
    "    if frequencies_ORG_copy[name] > 0:\n",
    "        if frequencies_ORG_copy[name] > frequencies_PER_copy[name]:\n",
    "            print(name, 'ORG:', frequencies_ORG_copy[name], 'PER:', frequencies_PER_copy[name])\n",
    "            del frequencies_PER[name]\n",
    "        elif frequencies_ORG_copy[name] < frequencies_PER_copy[name]:\n",
    "            print(name, 'ORG:', frequencies_ORG_copy[name], 'PER:', frequencies_PER_copy[name])\n",
    "            del frequencies_ORG[name]\n",
    "        else:\n",
    "            equal_occurrences.append(name)\n",
    "                \n",
    "    if frequencies_LOC_copy[name] > 0:\n",
    "        if frequencies_LOC_copy[name] > frequencies_PER_copy[name]:\n",
    "            print(name, 'LOC:', frequencies_LOC_copy[name], 'PER:', frequencies_PER_copy[name])\n",
    "            del frequencies_PER[name]\n",
    "        elif frequencies_LOC_copy[name] < frequencies_PER_copy[name]:\n",
    "            print(name, 'LOC:', frequencies_LOC_copy[name], 'PER:', frequencies_PER_copy[name])\n",
    "            del frequencies_LOC[name]\n",
    "        else:\n",
    "            equal_occurrences.append(name)\n",
    "            \n",
    "#Kas organisatsiooninimede hulgas leidub nimesid, mis esinevad ka asukohanimede hulgas (isikunimesid pole vaja uuesti läbi käia):\n",
    "for name in frequencies_ORG_copy.keys():\n",
    "    if frequencies_LOC_copy[name] > 0:\n",
    "        if frequencies_LOC_copy[name] > frequencies_ORG_copy[name]:\n",
    "            print(name, 'LOC:', frequencies_LOC_copy[name], 'ORG:', frequencies_ORG_copy[name])\n",
    "            del frequencies_ORG[name]\n",
    "        elif frequencies_LOC_copy[name] < frequencies_ORG_copy[name]:\n",
    "            print(name, 'LOC:', frequencies_LOC_copy[name], 'ORG:', frequencies_ORG_copy[name])\n",
    "            del frequencies_LOC[name]\n",
    "        else:\n",
    "            equal_occurrences.append(name)\n",
    "            \n",
    "#Asukohanimesid pole vaja eraldi läbi käia, seal leiduvad duplikaadid kas isiku- või organisatsiooninimedest on juba tuvastatud.  "
   ]
  },
  {
   "cell_type": "code",
   "execution_count": 24,
   "id": "23443b85",
   "metadata": {},
   "outputs": [
    {
     "name": "stdout",
     "output_type": "stream",
     "text": [
      "{'baltic', 'allikmaa', 'midfield', 'infortar', 'stasi', 'guardian', 'parts', 'pihl', 'külliki kübarsepp', 'times', 'selver', 'tehnikaülikool', 'helme', 'elva', 'aidla', 'brexit', 'hekre', 'vabariik', 'lepik', 'merkel', 'estrada', 'eiffel', 'riia riia', 'toots', 'ossinovsk', 'enef', 'fifa', 'taska', 'leedo', 'magnitsk', 'google', 'väino linde', 'ak', 'süvari', 'alex', 'liina', 'kaubandus-tööstuskoda', 'päevaleht'}\n"
     ]
    }
   ],
   "source": [
    "equal_occurrences = set(equal_occurrences)\n",
    "print(equal_occurrences)"
   ]
  },
  {
   "cell_type": "code",
   "execution_count": 25,
   "id": "9ebb62a1",
   "metadata": {},
   "outputs": [],
   "source": [
    "for name in frequencies_PER.keys():\n",
    "    entities_PER_new.append(name)\n",
    "    \n",
    "for name in frequencies_ORG.keys():\n",
    "    entities_ORG_new.append(name)\n",
    "    \n",
    "for name in frequencies_LOC.keys():\n",
    "    entities_LOC_new.append(name)"
   ]
  },
  {
   "cell_type": "markdown",
   "id": "571868b9",
   "metadata": {},
   "source": [
    "Saadud parandustega sagedusloendid kirjutatakse talletatakse csv-failis, et võimaldada vajadusel käsitsi korrektuuride tegemist."
   ]
  },
  {
   "cell_type": "code",
   "execution_count": 27,
   "id": "7541bde5",
   "metadata": {},
   "outputs": [],
   "source": [
    "with open('ner_frequencies.csv', 'w', newline='', encoding='UTF-8') as csv_file:\n",
    "    writer = csv.DictWriter(csv_file, fieldnames=['name', 'freq', 'value'])\n",
    "    writer.writeheader()\n",
    "    header2 = {'name': 'string', 'freq': 'integer', 'value': 'string'}\n",
    "    writer.writerow(header2)\n",
    "    for name in frequencies_PER.keys():\n",
    "        writer.writerow({'name': name, 'freq': frequencies_PER[name], 'value': 'PER'})\n",
    "    for name in frequencies_ORG.keys():\n",
    "        writer.writerow({'name': name, 'freq': frequencies_ORG[name], 'value': 'ORG'})\n",
    "    for name in frequencies_LOC.keys():\n",
    "        writer.writerow({'name': name, 'freq': frequencies_LOC[name], 'value': 'LOC'})"
   ]
  },
  {
   "cell_type": "code",
   "execution_count": 28,
   "id": "e3f21ff3",
   "metadata": {},
   "outputs": [],
   "source": [
    "with open('ner_frequencies.csv', encoding='UTF-8') as csv_file:\n",
    "    rows = []\n",
    "    reader = csv.DictReader(csv_file)\n",
    "    for row in reader:\n",
    "        rows.append(row)"
   ]
  },
  {
   "cell_type": "code",
   "execution_count": 29,
   "id": "b2af07e4",
   "metadata": {},
   "outputs": [
    {
     "name": "stdout",
     "output_type": "stream",
     "text": [
      "[{'name': 'string', 'freq': 'integer', 'value': 'string'}, {'name': 'hans', 'freq': '5', 'value': 'PER'}, {'name': 'eerik', 'freq': '2', 'value': 'PER'}, {'name': 'andrus ansip', 'freq': '27', 'value': 'PER'}, {'name': 'meelis', 'freq': '8', 'value': 'PER'}, {'name': 'olev esula', 'freq': '1', 'value': 'PER'}, {'name': 'vadim', 'freq': '2', 'value': 'PER'}, {'name': 'juskin', 'freq': '1', 'value': 'PER'}, {'name': 'margus', 'freq': '2', 'value': 'PER'}, {'name': 'sven', 'freq': '9', 'value': 'PER'}]\n"
     ]
    }
   ],
   "source": [
    "#Esimesed 10 rida\n",
    "print(rows[:10])"
   ]
  },
  {
   "cell_type": "markdown",
   "id": "4945cfc9",
   "metadata": {},
   "source": [
    "Järgnevalt luuakse andmebaasi uus tabel huvipakkuvate nimeüksuste hoiustamiseks (isiku- ja organisatsiooninimed)."
   ]
  },
  {
   "cell_type": "code",
   "execution_count": 33,
   "id": "81794c5e",
   "metadata": {},
   "outputs": [],
   "source": [
    "con = sqlite3.connect(\"media_data_2.db\")\n",
    "cur = con.cursor()"
   ]
  },
  {
   "cell_type": "code",
   "execution_count": 34,
   "id": "12e8917a",
   "metadata": {},
   "outputs": [
    {
     "data": {
      "text/plain": [
       "<sqlite3.Cursor at 0x1ef5acdafc0>"
      ]
     },
     "execution_count": 34,
     "metadata": {},
     "output_type": "execute_result"
    }
   ],
   "source": [
    "cur.execute(\"CREATE TABLE named_entities(ID INTEGER PRIMARY KEY, sentence_ID INTEGER, PER TEXT, ORG TEXT)\")"
   ]
  },
  {
   "cell_type": "code",
   "execution_count": 35,
   "id": "a7bb0785",
   "metadata": {},
   "outputs": [],
   "source": [
    "for i in range(len(corpus)):\n",
    "    for ner in corpus[i].ner:\n",
    "        lemmatized_ner = [word.lemma[0] for word in ner]\n",
    "        lemmatized_ner_text = ' '.join(lemmatized_ner).lower()\n",
    "        if ner.nertag == 'PER' and lemmatized_ner_text in entities_PER_new:\n",
    "            cur.execute(\"\"\"INSERT INTO named_entities\n",
    "                                    (sentence_ID, PER)\n",
    "                                    VALUES (?, ?);\"\"\", (sentence_ids[i], lemmatized_ner_text))\n",
    "        elif ner.nertag != 'PER' and lemmatized_ner_text in entities_PER_new and lemmatized_ner_text not in equal_occurrences:\n",
    "            cur.execute(\"\"\"INSERT INTO named_entities\n",
    "                                    (sentence_ID, PER)\n",
    "                                    VALUES (?, ?);\"\"\", (sentence_ids[i], lemmatized_ner_text))\n",
    "        elif ner.nertag == 'ORG' and lemmatized_ner_text in entities_ORG_new:\n",
    "            cur.execute(\"\"\"INSERT INTO named_entities\n",
    "                                    (sentence_ID, ORG)\n",
    "                                    VALUES (?, ?);\"\"\", (sentence_ids[i], lemmatized_ner_text))\n",
    "        elif ner.nertag != 'ORG' and lemmatized_ner_text in entities_ORG_new and lemmatized_ner_text not in equal_occurrences:\n",
    "            cur.execute(\"\"\"INSERT INTO named_entities\n",
    "                                    (sentence_ID, ORG)\n",
    "                                    VALUES (?, ?);\"\"\", (sentence_ids[i], lemmatized_ner_text))\n",
    "        con.commit()"
   ]
  },
  {
   "cell_type": "code",
   "execution_count": 36,
   "id": "ae337eea",
   "metadata": {},
   "outputs": [],
   "source": [
    "con.close()"
   ]
  },
  {
   "cell_type": "markdown",
   "id": "fc0c2f81",
   "metadata": {},
   "source": [
    "Praeguse seisuga ei püüta parandada vigaseks hinnatud ner-olemeid, vaid luua ainult parandatud kujul nimekiri ner-olemitest"
   ]
  }
 ],
 "metadata": {
  "kernelspec": {
   "display_name": "Python 3 (ipykernel)",
   "language": "python",
   "name": "python3"
  },
  "language_info": {
   "codemirror_mode": {
    "name": "ipython",
    "version": 3
   },
   "file_extension": ".py",
   "mimetype": "text/x-python",
   "name": "python",
   "nbconvert_exporter": "python",
   "pygments_lexer": "ipython3",
   "version": "3.10.11"
  }
 },
 "nbformat": 4,
 "nbformat_minor": 5
}
