{
 "cells": [
  {
   "cell_type": "markdown",
   "id": "5a4cd153",
   "metadata": {},
   "source": [
    "## Loend nimeüksustest test50"
   ]
  },
  {
   "cell_type": "code",
   "execution_count": 119,
   "id": "8a9bec4d",
   "metadata": {},
   "outputs": [],
   "source": [
    "from estnltk import Text\n",
    "import sqlite3\n",
    "import csv\n",
    "from collections import Counter\n",
    "import itertools"
   ]
  },
  {
   "cell_type": "markdown",
   "id": "e233b485",
   "metadata": {},
   "source": [
    "Alustuseks loetakse andmebaasist sisse kõik isiku- ja organisatsiooninimed"
   ]
  },
  {
   "cell_type": "code",
   "execution_count": 174,
   "id": "25887288",
   "metadata": {},
   "outputs": [],
   "source": [
    "entities_PER = []\n",
    "entities_ORG = []"
   ]
  },
  {
   "cell_type": "code",
   "execution_count": 175,
   "id": "364ce2cc",
   "metadata": {},
   "outputs": [],
   "source": [
    "con = sqlite3.connect(\"media_data_2.db\")\n",
    "cur = con.cursor()"
   ]
  },
  {
   "cell_type": "code",
   "execution_count": 176,
   "id": "8b322505",
   "metadata": {},
   "outputs": [],
   "source": [
    "for row in cur.execute(\"SELECT PER FROM named_entities where PER IS NOT NULL\"):\n",
    "    entities_PER.append(row[0])"
   ]
  },
  {
   "cell_type": "code",
   "execution_count": 177,
   "id": "89bd7f65",
   "metadata": {},
   "outputs": [],
   "source": [
    "for row in cur.execute(\"SELECT ORG FROM named_entities where ORG IS NOT NULL\"):\n",
    "    entities_ORG.append(row[0])"
   ]
  },
  {
   "cell_type": "code",
   "execution_count": 178,
   "id": "16ff0701",
   "metadata": {},
   "outputs": [],
   "source": [
    "con.close()"
   ]
  },
  {
   "cell_type": "markdown",
   "id": "4bb2b053",
   "metadata": {},
   "source": [
    "Vaatame saadud järjendeid:"
   ]
  },
  {
   "cell_type": "code",
   "execution_count": 179,
   "id": "c08aff6e",
   "metadata": {},
   "outputs": [
    {
     "name": "stdout",
     "output_type": "stream",
     "text": [
      "['hans', 'eerik', 'andrus ansip', 'meelis', 'olev esula', 'hans', 'vadim', 'juskin', 'margus', 'vadim', 'sven', 'sven', 'siim kallas', 'deniss borodits', 'jukuminek', 'borodits', 'jüri', 'eiki', 'jüri', 'hans']\n"
     ]
    }
   ],
   "source": [
    "print(entities_PER[:20])"
   ]
  },
  {
   "cell_type": "code",
   "execution_count": 180,
   "id": "10f3ce99",
   "metadata": {},
   "outputs": [
    {
     "name": "stdout",
     "output_type": "stream",
     "text": [
      "['rein', 'h', 'taska', 'india', 'rein', 'h', 'vadim belov', 'pbk', 'delfi', 'tallinn ülikool', 'el', 'delfi', 'ccbe', 'kapo', 'irl roheline', 'sots', 'keskerakond', 'etv', 'demokraat obama', 'err']\n"
     ]
    }
   ],
   "source": [
    "print(entities_ORG[:20])"
   ]
  },
  {
   "cell_type": "markdown",
   "id": "56e1598e",
   "metadata": {},
   "source": [
    "Esiteks eemaldan nimede hulgast need nimed, mis viitavad saatejuhtidele (sageli mainitakse saate sissejuhatuses ja lõpus):"
   ]
  },
  {
   "cell_type": "code",
   "execution_count": 181,
   "id": "567a92a3",
   "metadata": {},
   "outputs": [],
   "source": [
    "speakers = []"
   ]
  },
  {
   "cell_type": "code",
   "execution_count": 182,
   "id": "cda5814f",
   "metadata": {},
   "outputs": [],
   "source": [
    "con = sqlite3.connect(\"media_data_2.db\")\n",
    "cur = con.cursor()"
   ]
  },
  {
   "cell_type": "code",
   "execution_count": 183,
   "id": "70fd5d65",
   "metadata": {},
   "outputs": [],
   "source": [
    "for row in cur.execute(\"SELECT DISTINCT person FROM lines\"):\n",
    "    speakers.append(row[0])"
   ]
  },
  {
   "cell_type": "code",
   "execution_count": 184,
   "id": "66dce920",
   "metadata": {},
   "outputs": [],
   "source": [
    "con.close()"
   ]
  },
  {
   "cell_type": "code",
   "execution_count": 185,
   "id": "fb799ded",
   "metadata": {},
   "outputs": [
    {
     "name": "stdout",
     "output_type": "stream",
     "text": [
      "['Tundmatu3', 'Tundmatu1', 'Tundmatu2', 'Tundmatu4', 'Tundmatu5', 'Tundmatu6', 'K1', 'K2', 'K3', 'K4', 'K5', 'K6', 'K7', 'Erakordset looduskaunites kohtades erakordselt efekt siis keskkonnas näiteks näiteks Monte', 'K8', 'Heldur Meerits', 'Ignar Fjuk', 'Marek Strandberg', 'Janek Luts', 'Priit Hõbemägi', 'K9', 'Hõbemägi Priit', 'Astok Hannes', 'Ruussaar Ainar', 'Ainar Ruussaar', 'K06', 'K02', 'K03', 'K07', 'K01', 'K04', 'K05', 'Artur Talvik']\n"
     ]
    }
   ],
   "source": [
    "print(speakers)"
   ]
  },
  {
   "cell_type": "code",
   "execution_count": 186,
   "id": "1321b16e",
   "metadata": {},
   "outputs": [],
   "source": [
    "speakers_lower = [speaker.lower() for speaker in speakers]"
   ]
  },
  {
   "cell_type": "code",
   "execution_count": 187,
   "id": "f822ef0f",
   "metadata": {},
   "outputs": [],
   "source": [
    "entities_PER_cleaned = [name for name in entities_PER if name not in speakers_to_remove]"
   ]
  },
  {
   "cell_type": "markdown",
   "id": "b1580470",
   "metadata": {},
   "source": [
    "Esialgsed isiku- ja organisatsiooninimede sagedusloendid:"
   ]
  },
  {
   "cell_type": "code",
   "execution_count": 188,
   "id": "96124d0c",
   "metadata": {},
   "outputs": [],
   "source": [
    "frequencies_PER = Counter(entities_PER_cleaned)\n",
    "frequencies_ORG = Counter(entities_ORG)"
   ]
  },
  {
   "cell_type": "code",
   "execution_count": 190,
   "id": "1aa7e397",
   "metadata": {},
   "outputs": [
    {
     "name": "stdout",
     "output_type": "stream",
     "text": [
      "PER\tORG\n",
      "('edgar savisaar', 99) ('keskerakond', 215)\n",
      "('jüri ratas', 61) ('reformierakond', 197)\n",
      "('siim kallas', 37) ('riigikogu', 157)\n",
      "('savisaar', 33) ('irl', 103)\n",
      "('indrek', 32) ('nato', 35)\n",
      "('mart luik', 30) ('rein', 32)\n",
      "('andrus ansip', 27) ('postimees', 29)\n",
      "('ansip', 27) ('keskpäevatund', 24)\n",
      "('reinsalu', 26) ('eesti pank', 22)\n",
      "('rail baltic', 26) ('eas', 22)\n"
     ]
    }
   ],
   "source": [
    "print('PER' + '\\t' + 'ORG')\n",
    "for (per, org) in itertools.zip_longest(frequencies_PER.most_common(10), frequencies_ORG.most_common(10)):\n",
    "    print(per, org)"
   ]
  },
  {
   "cell_type": "markdown",
   "id": "68585849",
   "metadata": {},
   "source": [
    "Esialgsest sagedusloendist on näha, et paljudele täispikkadele isikunimedele esineb ka vasteid kas ainult eesnime või ainult perekonnanime näol (nt Edgar Savisaar ja Savisaar). Samas ei pruugi selliseid vasteid esineda kõigile täispikkadele isikunimedele käesolevas loendis. Et hilisemat nimeolemite otsingut parandada, tükeldan kõik täispikad nimed ees- ja perekonnanimedeks. Järgneva lähenemise puuduseks on see, et ei püüta eristada ees- ja perenimest koosnevaid üksuseid kahest (või enamast) tühikuga eraldatud eesnimest koosnevatest üksustest (nt Toomas Hendrik). Mitmest eesnimest koosnevaid üksuseid oleks võimalik eristada osalise edukusega, kui tekstis leidub ka koos perekonnanimega täispikk variant, mille vastu eesnimesid võrrelda. Organisatsiooninimede peal seda lähenemist ei kasutata, sest pole alust arvata, et isikunimede kasutustavad organisatsiooninimedele laieneks. Pigem on sagedasem organisatsiooninimede puhul täispika nime asendamine lühendi/akronüümiga (nt Kaitsepolitseiamet -> KAPO). Siin praegu ei püüta lühendite/akronüümide võrdsustamist täispikkade nimedega lahendada."
   ]
  },
  {
   "cell_type": "code",
   "execution_count": 191,
   "id": "4c086d2b",
   "metadata": {},
   "outputs": [],
   "source": [
    "entities_splitted = [name.rsplit(' ', 1) for name in entities_PER_cleaned if len(name.split(' ')) > 1]"
   ]
  },
  {
   "cell_type": "code",
   "execution_count": 192,
   "id": "afd00aaa",
   "metadata": {},
   "outputs": [],
   "source": [
    "entities_unnested = [name for entity in entities_splitted for name in entity]"
   ]
  },
  {
   "cell_type": "markdown",
   "id": "24b3118f",
   "metadata": {},
   "source": [
    "Saadud järjend kleebitakse varasema isikunimede järjendi lõppu:"
   ]
  },
  {
   "cell_type": "code",
   "execution_count": 193,
   "id": "beb4c6da",
   "metadata": {},
   "outputs": [],
   "source": [
    "entities_PER_cleaned = entities_PER_cleaned + entities_unnested"
   ]
  },
  {
   "cell_type": "code",
   "execution_count": 194,
   "id": "4fa01ae4",
   "metadata": {},
   "outputs": [],
   "source": [
    "#Uus sagedusloend isikunimeüksustele\n",
    "frequencies_PER = Counter(entities_PER_cleaned)"
   ]
  },
  {
   "cell_type": "markdown",
   "id": "1c83c8ad",
   "metadata": {},
   "source": [
    "Kuna praegusel kujul on jäänud alles ka siiski vigaseid nimesid, mis võivad hiljem probleeme tekitada (nt \"ja\"), peab eemaldama haruldased juhud enne uut nimeüksuste märgendamist. Hetkel on analüüsitavaid tekste 50, alampiiriks valitakse hetkel üsna suvaliselt päris väike esinemissagedus. Alampiiri võib aga määrata ka statistika abil."
   ]
  },
  {
   "cell_type": "code",
   "execution_count": 195,
   "id": "745504ab",
   "metadata": {},
   "outputs": [],
   "source": [
    "names_to_remove = []\n",
    "\n",
    "for name in frequencies_PER.keys():\n",
    "    if frequencies_PER[name] < 10:\n",
    "        names_to_remove.append(name)\n",
    "for name in frequencies_ORG.keys():\n",
    "    if frequencies_ORG[name] < 10:\n",
    "        names_to_remove.append(name)"
   ]
  },
  {
   "cell_type": "code",
   "execution_count": 196,
   "id": "74d3fbc5",
   "metadata": {},
   "outputs": [
    {
     "name": "stdout",
     "output_type": "stream",
     "text": [
      "['hans', 'eerik', 'olev esula', 'vadim', 'juskin', 'deniss borodits', 'jukuminek', 'borodits', 'kerviel', 'lasna', 'heimar lenk', 'häkkinen', 'molly', 'raimo', 'evelin', 'baran', 'batory', 'toomas henrik', 'hannes hanso', 'clyde']\n"
     ]
    }
   ],
   "source": [
    "print(names_to_remove[:20])"
   ]
  },
  {
   "cell_type": "code",
   "execution_count": 197,
   "id": "4a5e406c",
   "metadata": {},
   "outputs": [],
   "source": [
    "entities_PER_cleaned = [name for name in entities_PER_cleaned if name not in names_to_remove]\n",
    "entities_ORG_cleaned = [name for name in entities_ORG if name not in names_to_remove]"
   ]
  },
  {
   "cell_type": "code",
   "execution_count": 198,
   "id": "8ad9aeed",
   "metadata": {},
   "outputs": [],
   "source": [
    "unique_PER = set(entities_PER_cleaned)\n",
    "unique_ORG = set(entities_ORG_cleaned)"
   ]
  },
  {
   "cell_type": "markdown",
   "id": "c3074fe6",
   "metadata": {},
   "source": [
    "Saadud loendid talletatakse csv-failis:"
   ]
  },
  {
   "cell_type": "code",
   "execution_count": 199,
   "id": "af9bcb05",
   "metadata": {},
   "outputs": [],
   "source": [
    "with open('entity_phrases.csv', 'w', newline='', encoding='UTF-8') as csv_file:\n",
    "    writer = csv.DictWriter(csv_file, fieldnames=['phrase', 'value'])\n",
    "    writer.writeheader()\n",
    "    header2 = {'phrase': 'callable', 'value': 'string'}\n",
    "    writer.writerow(header2)\n",
    "    split_names_PER = [name.split() for name in unique_PER]\n",
    "    split_names_ORG = [name.split() for name in unique_ORG]\n",
    "    for name in split_names_PER:\n",
    "        if len(name) > 1:\n",
    "            writer.writerow({'phrase': ','.join([\"'\" + part + \"'\" for part in name]), 'value': 'PER'})\n",
    "        else:\n",
    "            writer.writerow({'phrase': \"'\" + name[0] + \"'\" + \",\", 'value': 'PER'})\n",
    "    for name in split_names_ORG:\n",
    "        if len(name) > 1:\n",
    "            writer.writerow({'phrase': ','.join([\"'\" + part + \"'\" for part in name]), 'value': 'ORG'})\n",
    "        else:\n",
    "            writer.writerow({'phrase': \"'\" + name[0] + \"'\" + \",\", 'value': 'ORG'})"
   ]
  },
  {
   "cell_type": "code",
   "execution_count": 171,
   "id": "5ec70758",
   "metadata": {},
   "outputs": [],
   "source": [
    "with open('entity_phrases.csv', encoding='UTF-8') as csv_file:\n",
    "    rows = []\n",
    "    reader = csv.DictReader(csv_file)\n",
    "    for row in reader:\n",
    "        rows.append(row)"
   ]
  },
  {
   "cell_type": "code",
   "execution_count": 172,
   "id": "16bb6aef",
   "metadata": {},
   "outputs": [
    {
     "name": "stdout",
     "output_type": "stream",
     "text": [
      "[{'phrase': 'callable', 'value': 'string'}, {'phrase': \"'agu',\", 'value': 'PER'}, {'phrase': \"'jaanson',\", 'value': 'PER'}, {'phrase': \"'oudekki',\", 'value': 'PER'}, {'phrase': \"'vjatšeslav',\", 'value': 'PER'}, {'phrase': \"'andrus',\", 'value': 'PER'}, {'phrase': \"'ardo',\", 'value': 'PER'}, {'phrase': \"'soonvald',\", 'value': 'PER'}, {'phrase': \"'riisalu',\", 'value': 'PER'}, {'phrase': \"'arto',\", 'value': 'PER'}]\n"
     ]
    }
   ],
   "source": [
    "print(rows[:10])"
   ]
  },
  {
   "cell_type": "markdown",
   "id": "c430d387",
   "metadata": {},
   "source": [
    "Hetkel ei ole isikunimeüksuste juurde märgitud, kas tegemist on poliitikuga või mitte, kuid seda on võimalik teha käsitsi."
   ]
  }
 ],
 "metadata": {
  "kernelspec": {
   "display_name": "Python 3 (ipykernel)",
   "language": "python",
   "name": "python3"
  },
  "language_info": {
   "codemirror_mode": {
    "name": "ipython",
    "version": 3
   },
   "file_extension": ".py",
   "mimetype": "text/x-python",
   "name": "python",
   "nbconvert_exporter": "python",
   "pygments_lexer": "ipython3",
   "version": "3.10.11"
  }
 },
 "nbformat": 4,
 "nbformat_minor": 5
}
