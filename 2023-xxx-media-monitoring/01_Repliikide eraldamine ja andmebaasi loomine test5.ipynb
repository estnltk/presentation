{
 "cells": [
  {
   "cell_type": "markdown",
   "id": "30171c35",
   "metadata": {},
   "source": [
    "## Repliikide eraldamine ja andmebaasi loomine test5"
   ]
  },
  {
   "cell_type": "code",
   "execution_count": 1,
   "id": "b6c0136e",
   "metadata": {},
   "outputs": [],
   "source": [
    "from estnltk import Text\n",
    "import re\n",
    "import regex\n",
    "from estnltk.taggers.system.rule_taggers import RegexTagger, Ruleset\n",
    "from estnltk.taggers.system.rule_taggers import StaticExtractionRule\n",
    "from estnltk.taggers import HeaderBasedSegmenter\n",
    "from estnltk.taggers import NerTagger\n",
    "import sqlite3\n",
    "import os\n",
    "import datetime\n",
    "from estnltk.converters import text_to_json"
   ]
  },
  {
   "cell_type": "markdown",
   "id": "5f9e4d23",
   "metadata": {},
   "source": [
    "Esiteks võetakse üks näidisfail:"
   ]
  },
  {
   "cell_type": "code",
   "execution_count": 2,
   "id": "22387540",
   "metadata": {},
   "outputs": [
    {
     "name": "stdout",
     "output_type": "stream",
     "text": [
      "K01: Kuku raadios välja öeldud seisukohad ei pea ühtima Kuku raadio seisukohtadega. Te kuulate Kuku raadiot?\n",
      "-:\n",
      "K02: Breivik tahtis proovida, mismoodi õhu lenn Sid raisakotkas kohe appi pahenduse, kui õhusegasse Aalto tegi, kaval linn. Natuurist haaras, pärdik öeldes kuuleb. Palun lenda sirgelt. Pal\n"
     ]
    }
   ],
   "source": [
    "test_file = open(\"test5/2019-09-07.txt\", mode=\"r\", encoding=\"utf-8\")\n",
    "test_text = test_file.read()\n",
    "print(test_text[:300])"
   ]
  },
  {
   "cell_type": "code",
   "execution_count": 3,
   "id": "9c0dfc8f",
   "metadata": {},
   "outputs": [
    {
     "name": "stdout",
     "output_type": "stream",
     "text": [
      "['K']\n",
      "[('K', ''), ('\\n-', '\\n'), ('\\nK', '\\n'), ('\\n-', '\\n'), ('\\nK', '\\n'), ('\\nA', '\\n'), ('\\nA', '\\n'), ('\\nK', '\\n'), ('\\nA', '\\n'), ('\\nK', '\\n'), ('\\nA', '\\n'), ('\\nA', '\\n'), ('\\nA', '\\n'), ('\\nK', '\\n'), ('\\nA', '\\n'), ('\\nA', '\\n'), ('\\nA', '\\n'), ('\\nK', '\\n'), ('\\nA', '\\n'), ('\\nK', '\\n'), ('\\nA', '\\n'), ('\\nA', '\\n'), ('\\nA', '\\n'), ('\\nA', '\\n'), ('\\nK', '\\n'), ('\\nA', '\\n'), ('\\nA', '\\n'), ('\\nA', '\\n'), ('\\nA', '\\n'), ('\\nK', '\\n'), ('\\nA', '\\n'), ('\\nI', '\\n'), ('\\nK', '\\n'), ('\\nA', '\\n'), ('\\nA', '\\n'), ('\\nA', '\\n'), ('\\nK', '\\n'), ('\\nA', '\\n'), ('\\nA', '\\n'), ('\\nT', '\\n'), ('\\nK', '\\n'), ('\\nA', '\\n'), ('\\nK', '\\n'), ('\\nA', '\\n'), ('\\nA', '\\n'), ('\\nN', '\\n'), ('\\nK', '\\n'), ('\\nA', '\\n'), ('\\nA', '\\n'), ('\\nK', '\\n'), ('\\nA', '\\n'), ('\\nI', '\\n'), ('\\nK', '\\n'), ('\\nA', '\\n'), ('\\nA', '\\n'), ('\\nK', '\\n'), ('\\nA', '\\n'), ('\\nA', '\\n'), ('\\nA', '\\n'), ('\\nK', '\\n'), ('\\nA', '\\n'), ('\\nA', '\\n'), ('\\n-', '\\n')]\n",
      "[('K01:', ''), ('\\n-:', '\\n'), ('\\nK02:', '\\n'), ('\\n-:', '\\n'), ('\\nK06:', '\\n'), ('\\nArtur Talvik:', '\\n'), ('\\nAinar Ruussaar:', '\\n'), ('\\nK07:', '\\n'), ('\\nArtur Talvik:', '\\n'), ('\\nK07:', '\\n'), ('\\nArtur Talvik:', '\\n'), ('\\nAinar Ruussaar:', '\\n'), ('\\nArtur Talvik:', '\\n'), ('\\nK07:', '\\n'), ('\\nArtur Talvik:', '\\n'), ('\\nAinar Ruussaar:', '\\n'), ('\\nArtur Talvik:', '\\n'), ('\\nAinar Ruussaar:', '\\n'), ('\\nK07:', '\\n'), ('\\nArtur Talvik:', '\\n'), ('\\nAinar Ruussaar:', '\\n'), ('\\nArtur Talvik:', '\\n'), ('\\nAinar Ruussaar:', '\\n'), ('\\nK07:', '\\n'), ('\\nArtur Talvik:', '\\n'), ('\\nAinar Ruussaar:', '\\n'), ('\\nArtur Talvik:', '\\n'), ('\\nAinar Ruussaar:', '\\n'), ('\\nK07:', '\\n'), ('\\nArtur Talvik:', '\\n'), ('\\nIgnar Fjuk:', '\\n'), ('\\nK06:', '\\n'), ('\\nArtur Talvik:', '\\n'), ('\\nAinar Ruussaar:', '\\n'), ('\\nArtur Talvik:', '\\n'), ('\\nK07:', '\\n'), ('\\nAinar Ruussaar:', '\\n'), ('\\nArtur Talvik:', '\\n'), ('\\nK07:', '\\n'), ('\\nArtur Talvik:', '\\n'), ('\\nK07:', '\\n'), ('\\nArtur Talvik:', '\\n'), ('\\nAinar Ruussaar:', '\\n'), ('\\nK07:', '\\n'), ('\\nArtur Talvik:', '\\n'), ('\\nAinar Ruussaar:', '\\n'), ('\\nK07:', '\\n'), ('\\nArtur Talvik:', '\\n'), ('\\nIgnar Fjuk:', '\\n'), ('\\nK06:', '\\n'), ('\\nArtur Talvik:', '\\n'), ('\\nAinar Ruussaar:', '\\n'), ('\\nK07:', '\\n'), ('\\nAinar Ruussaar:', '\\n'), ('\\nArtur Talvik:', '\\n'), ('\\nAinar Ruussaar:', '\\n'), ('\\nK07:', '\\n'), ('\\nAinar Ruussaar:', '\\n'), ('\\nArtur Talvik:', '\\n'), ('\\n-:', '\\n')]\n"
     ]
    }
   ],
   "source": [
    "print(re.findall(r'^.',test_text))\n",
    "print(re.findall(r'((^|\\n).)',test_text))\n",
    "print(re.findall(r'((^|\\n).*:)',test_text))"
   ]
  },
  {
   "cell_type": "markdown",
   "id": "618c153c",
   "metadata": {},
   "source": [
    "Kõnelejale vastav regulaaravaldis:"
   ]
  },
  {
   "cell_type": "code",
   "execution_count": 4,
   "id": "ebafc6cc",
   "metadata": {},
   "outputs": [],
   "source": [
    "pattern = r'((^|\\n)(?P<span>(?P<name>.*): ?))'"
   ]
  },
  {
   "cell_type": "code",
   "execution_count": 5,
   "id": "c2616269",
   "metadata": {},
   "outputs": [
    {
     "name": "stdout",
     "output_type": "stream",
     "text": [
      "['K01', '-', 'K02', '-', 'K06', 'Artur Talvik', 'Ainar Ruussaar', 'K07', 'Artur Talvik', 'K07', 'Artur Talvik', 'Ainar Ruussaar', 'Artur Talvik', 'K07', 'Artur Talvik', 'Ainar Ruussaar', 'Artur Talvik', 'Ainar Ruussaar', 'K07', 'Artur Talvik', 'Ainar Ruussaar', 'Artur Talvik', 'Ainar Ruussaar', 'K07', 'Artur Talvik', 'Ainar Ruussaar', 'Artur Talvik', 'Ainar Ruussaar', 'K07', 'Artur Talvik', 'Ignar Fjuk', 'K06', 'Artur Talvik', 'Ainar Ruussaar', 'Artur Talvik', 'K07', 'Ainar Ruussaar', 'Artur Talvik', 'K07', 'Artur Talvik', 'K07', 'Artur Talvik', 'Ainar Ruussaar', 'K07', 'Artur Talvik', 'Ainar Ruussaar', 'K07', 'Artur Talvik', 'Ignar Fjuk', 'K06', 'Artur Talvik', 'Ainar Ruussaar', 'K07', 'Ainar Ruussaar', 'Artur Talvik', 'Ainar Ruussaar', 'K07', 'Ainar Ruussaar', 'Artur Talvik', '-']\n",
      "['K01: ', '-:', 'K02: ', '-:', 'K06: ', 'Artur Talvik: ', 'Ainar Ruussaar: ', 'K07: ', 'Artur Talvik: ', 'K07: ', 'Artur Talvik: ', 'Ainar Ruussaar: ', 'Artur Talvik: ', 'K07: ', 'Artur Talvik: ', 'Ainar Ruussaar: ', 'Artur Talvik: ', 'Ainar Ruussaar: ', 'K07: ', 'Artur Talvik: ', 'Ainar Ruussaar: ', 'Artur Talvik: ', 'Ainar Ruussaar: ', 'K07: ', 'Artur Talvik: ', 'Ainar Ruussaar: ', 'Artur Talvik: ', 'Ainar Ruussaar: ', 'K07: ', 'Artur Talvik: ', 'Ignar Fjuk: ', 'K06: ', 'Artur Talvik: ', 'Ainar Ruussaar: ', 'Artur Talvik: ', 'K07: ', 'Ainar Ruussaar: ', 'Artur Talvik: ', 'K07: ', 'Artur Talvik: ', 'K07: ', 'Artur Talvik: ', 'Ainar Ruussaar: ', 'K07: ', 'Artur Talvik: ', 'Ainar Ruussaar: ', 'K07: ', 'Artur Talvik: ', 'Ignar Fjuk: ', 'K06: ', 'Artur Talvik: ', 'Ainar Ruussaar: ', 'K07: ', 'Ainar Ruussaar: ', 'Artur Talvik: ', 'Ainar Ruussaar: ', 'K07: ', 'Ainar Ruussaar: ', 'Artur Talvik: ', '-:']\n",
      "['K01: ', '\\n-:', '\\nK02: ', '\\n-:', '\\nK06: ', '\\nArtur Talvik: ', '\\nAinar Ruussaar: ', '\\nK07: ', '\\nArtur Talvik: ', '\\nK07: ', '\\nArtur Talvik: ', '\\nAinar Ruussaar: ', '\\nArtur Talvik: ', '\\nK07: ', '\\nArtur Talvik: ', '\\nAinar Ruussaar: ', '\\nArtur Talvik: ', '\\nAinar Ruussaar: ', '\\nK07: ', '\\nArtur Talvik: ', '\\nAinar Ruussaar: ', '\\nArtur Talvik: ', '\\nAinar Ruussaar: ', '\\nK07: ', '\\nArtur Talvik: ', '\\nAinar Ruussaar: ', '\\nArtur Talvik: ', '\\nAinar Ruussaar: ', '\\nK07: ', '\\nArtur Talvik: ', '\\nIgnar Fjuk: ', '\\nK06: ', '\\nArtur Talvik: ', '\\nAinar Ruussaar: ', '\\nArtur Talvik: ', '\\nK07: ', '\\nAinar Ruussaar: ', '\\nArtur Talvik: ', '\\nK07: ', '\\nArtur Talvik: ', '\\nK07: ', '\\nArtur Talvik: ', '\\nAinar Ruussaar: ', '\\nK07: ', '\\nArtur Talvik: ', '\\nAinar Ruussaar: ', '\\nK07: ', '\\nArtur Talvik: ', '\\nIgnar Fjuk: ', '\\nK06: ', '\\nArtur Talvik: ', '\\nAinar Ruussaar: ', '\\nK07: ', '\\nAinar Ruussaar: ', '\\nArtur Talvik: ', '\\nAinar Ruussaar: ', '\\nK07: ', '\\nAinar Ruussaar: ', '\\nArtur Talvik: ', '\\n-:']\n"
     ]
    }
   ],
   "source": [
    "print([match.group('name') for match in re.finditer(pattern, test_text)])\n",
    "print([match.group('span') for match in re.finditer(pattern, test_text)])\n",
    "print([match.group() for match in re.finditer(pattern, test_text)])"
   ]
  },
  {
   "cell_type": "markdown",
   "id": "22d38db9",
   "metadata": {},
   "source": [
    "Funktsioon kõneleja nime atribuudi lisamiseks:"
   ]
  },
  {
   "cell_type": "code",
   "execution_count": 6,
   "id": "bfc897db",
   "metadata": {},
   "outputs": [],
   "source": [
    "def decorator(layer,span,annotation):\n",
    "    annotation['person'] = annotation['match'].group(4)\n",
    "    return annotation"
   ]
  },
  {
   "cell_type": "markdown",
   "id": "40f39105",
   "metadata": {},
   "source": [
    "Lisatakse reegel kõneleja fikseeriva tekstifragmendi väljavõtmiseks:"
   ]
  },
  {
   "cell_type": "code",
   "execution_count": 7,
   "id": "49336cd6",
   "metadata": {},
   "outputs": [],
   "source": [
    "rule = [StaticExtractionRule(pattern=regex.Regex('((^|\\n)(?P<span>(?P<name>.*): ?))'), group=3)]\n",
    "ruleset = Ruleset()\n",
    "ruleset.add_rules(rule)"
   ]
  },
  {
   "cell_type": "markdown",
   "id": "e8d2c38f",
   "metadata": {},
   "source": [
    "Märgendaja RegexTagger loomine:"
   ]
  },
  {
   "cell_type": "code",
   "execution_count": 8,
   "id": "0b2c8cbd",
   "metadata": {},
   "outputs": [],
   "source": [
    "tagger = RegexTagger(\n",
    "    ruleset = ruleset,\n",
    "    output_layer = 'headers',\n",
    "    output_attributes = ['person'],\n",
    "    decorator=decorator,\n",
    "    match_attribute='match'\n",
    ") "
   ]
  },
  {
   "cell_type": "markdown",
   "id": "5dc68a53",
   "metadata": {},
   "source": [
    "Katsetus näidisteksti peal:"
   ]
  },
  {
   "cell_type": "code",
   "execution_count": 9,
   "id": "15dba834",
   "metadata": {},
   "outputs": [
    {
     "data": {
      "text/html": [
       "<h4>Layer</h4>\n",
       "\n",
       "\n",
       "<table border=\"1\" class=\"dataframe\">\n",
       "  <thead>\n",
       "    <tr style=\"text-align: right;\">\n",
       "      <th>layer name</th>\n",
       "      <th>attributes</th>\n",
       "      <th>parent</th>\n",
       "      <th>enveloping</th>\n",
       "      <th>ambiguous</th>\n",
       "      <th>span count</th>\n",
       "    </tr>\n",
       "  </thead>\n",
       "  <tbody>\n",
       "    <tr>\n",
       "      <td>headers</td>\n",
       "      <td>person</td>\n",
       "      <td>None</td>\n",
       "      <td>None</td>\n",
       "      <td>True</td>\n",
       "      <td>5</td>\n",
       "    </tr>\n",
       "  </tbody>\n",
       "</table>\n",
       "<table border=\"1\" class=\"dataframe\">\n",
       "  <thead>\n",
       "    <tr style=\"text-align: right;\">\n",
       "      <th>text</th>\n",
       "      <th>person</th>\n",
       "    </tr>\n",
       "  </thead>\n",
       "  <tbody>\n",
       "    <tr>\n",
       "      <td>K01:</td>\n",
       "      <td>K01</td>\n",
       "    </tr>\n",
       "    <tr>\n",
       "      <td>-:</td>\n",
       "      <td>-</td>\n",
       "    </tr>\n",
       "    <tr>\n",
       "      <td>K02:</td>\n",
       "      <td>K02</td>\n",
       "    </tr>\n",
       "    <tr>\n",
       "      <td>-:</td>\n",
       "      <td>-</td>\n",
       "    </tr>\n",
       "    <tr>\n",
       "      <td>K06:</td>\n",
       "      <td>K06</td>\n",
       "    </tr>\n",
       "  </tbody>\n",
       "</table>"
      ],
      "text/plain": [
       "Layer(name='headers', attributes=('person',), spans=SL[Span('K01: ', [{'person': 'K01'}]),\n",
       "Span('-:', [{'person': '-'}]),\n",
       "Span('K02: ', [{'person': 'K02'}]),\n",
       "Span('-:', [{'person': '-'}]),\n",
       "Span('K06: ', [{'person': 'K06'}])])"
      ]
     },
     "metadata": {},
     "output_type": "display_data"
    }
   ],
   "source": [
    "tagged_test_text = tagger.tag(Text(test_text))\n",
    "display(tagged_test_text.headers[:5])"
   ]
  },
  {
   "cell_type": "markdown",
   "id": "4dc72b0e",
   "metadata": {},
   "source": [
    "Märgendaja HeaderBasedSegmenter loomine:"
   ]
  },
  {
   "cell_type": "code",
   "execution_count": 10,
   "id": "951ca6da",
   "metadata": {},
   "outputs": [],
   "source": [
    "tagger2 = HeaderBasedSegmenter(\n",
    "    input_layer = 'headers', \n",
    "    output_layer = 'lines',\n",
    "    output_attributes = ['person'],\n",
    "    decorator = lambda header_span: {'person': header_span['person'][0]},\n",
    "    include_header = False\n",
    ")"
   ]
  },
  {
   "cell_type": "code",
   "execution_count": 11,
   "id": "9ca78182",
   "metadata": {},
   "outputs": [
    {
     "data": {
      "text/html": [
       "<h4>Layer</h4>\n",
       "\n",
       "\n",
       "<table border=\"1\" class=\"dataframe\">\n",
       "  <thead>\n",
       "    <tr style=\"text-align: right;\">\n",
       "      <th>layer name</th>\n",
       "      <th>attributes</th>\n",
       "      <th>parent</th>\n",
       "      <th>enveloping</th>\n",
       "      <th>ambiguous</th>\n",
       "      <th>span count</th>\n",
       "    </tr>\n",
       "  </thead>\n",
       "  <tbody>\n",
       "    <tr>\n",
       "      <td>lines</td>\n",
       "      <td>person</td>\n",
       "      <td>None</td>\n",
       "      <td>None</td>\n",
       "      <td>False</td>\n",
       "      <td>5</td>\n",
       "    </tr>\n",
       "  </tbody>\n",
       "</table>\n",
       "<table border=\"1\" class=\"dataframe\">\n",
       "  <thead>\n",
       "    <tr style=\"text-align: right;\">\n",
       "      <th>text</th>\n",
       "      <th>person</th>\n",
       "    </tr>\n",
       "  </thead>\n",
       "  <tbody>\n",
       "    <tr>\n",
       "      <td>Kuku raadios välja öeldud seisukohad ei pea ühtima Kuku raadio seisukohtadega. T ..., type: &lt;class 'str'&gt;, length: 104</td>\n",
       "      <td>K01</td>\n",
       "    </tr>\n",
       "    <tr>\n",
       "      <td>\\n</td>\n",
       "      <td>-</td>\n",
       "    </tr>\n",
       "    <tr>\n",
       "      <td>Breivik tahtis proovida, mismoodi õhu lenn Sid raisakotkas kohe appi pahenduse,  ..., type: &lt;class 'str'&gt;, length: 243</td>\n",
       "      <td>K02</td>\n",
       "    </tr>\n",
       "    <tr>\n",
       "      <td>\\n</td>\n",
       "      <td>-</td>\n",
       "    </tr>\n",
       "    <tr>\n",
       "      <td>Ta oli liiga uudis ainult koduvabariigist.\\n</td>\n",
       "      <td>K06</td>\n",
       "    </tr>\n",
       "  </tbody>\n",
       "</table>"
      ],
      "text/plain": [
       "Layer(name='lines', attributes=('person',), spans=SL[Span('Kuku raadios välja öeldud seisukohad ei pea ühtima Kuku raadio seisukohtadega. Te kuulate Kuku raadiot?\\n', [{'person': 'K01'}]),\n",
       "Span('\\n', [{'person': '-'}]),\n",
       "Span('Breivik tahtis proovida, mismoodi õhu lenn Sid raisakotkas kohe appi pahenduse, kui õhusegasse Aalto tegi, kaval linn. Natuurist haaras, pärdik öeldes kuuleb. Palun lenda sirgelt. Palun lenda kõrge. Võtta asja kerge, tappa maha, ära päädhabi.\\n', [{'person': 'K02'}]),\n",
       "Span('\\n', [{'person': '-'}]),\n",
       "Span('Ta oli liiga uudis ainult koduvabariigist.\\n', [{'person': 'K06'}])])"
      ]
     },
     "execution_count": 11,
     "metadata": {},
     "output_type": "execute_result"
    }
   ],
   "source": [
    "tagger2.tag(tagged_test_text)\n",
    "tagged_test_text.lines[:5]"
   ]
  },
  {
   "cell_type": "markdown",
   "id": "bf5c69f1",
   "metadata": {},
   "source": [
    "Nimeüksuste märgendaja NerTagger:"
   ]
  },
  {
   "cell_type": "code",
   "execution_count": 12,
   "id": "a52433cd",
   "metadata": {},
   "outputs": [],
   "source": [
    "nertagger = NerTagger()"
   ]
  },
  {
   "cell_type": "markdown",
   "id": "d8f8aa88",
   "metadata": {},
   "source": [
    "Luuakse andmebaas ja seal uus tabel, kuhu lisatakse kõik repliikidele vastavad Text-objektid, samuti info kuupäeva, kõneleja nime ja repliigi numbri kohta."
   ]
  },
  {
   "cell_type": "code",
   "execution_count": 18,
   "id": "9cba92fe",
   "metadata": {},
   "outputs": [],
   "source": [
    "con = sqlite3.connect(\"media_data.db\")\n",
    "cur = con.cursor()\n",
    "cur.execute('pragma encoding=UTF8')\n",
    "cur.execute(\"CREATE TABLE lines(ID INTEGER PRIMARY KEY, line TEXT, number INTEGER, person TEXT, date DATE)\")"
   ]
  },
  {
   "cell_type": "code",
   "execution_count": 19,
   "id": "c9767a1a",
   "metadata": {},
   "outputs": [],
   "source": [
    "path = 'test5/'\n",
    "for file in os.listdir(path):\n",
    "    with open(os.path.join(path, file), mode=\"r\", encoding=\"utf-8\") as f:\n",
    "        raw_text = f.read()\n",
    "        filename = file.replace('.txt', '')\n",
    "        date = datetime.datetime.strptime(filename, \"%Y-%m-%d\").date()\n",
    "        \n",
    "        text = tagger.tag(Text(raw_text))\n",
    "        text = tagger2.tag(text)\n",
    "        \n",
    "        for i in range(len(text.lines)):\n",
    "            span = text.lines[i]\n",
    "            line = span.text.strip()\n",
    "            if line == '':\n",
    "                continue\n",
    "            number = i+1\n",
    "            line = Text(line)\n",
    "            line.meta['line_number'] = number\n",
    "            line.meta['person'] = span.person\n",
    "            line.meta['date'] = filename\n",
    "            line.tag_layer(['sentences', 'morph_analysis'])\n",
    "            nertagger.tag(line)\n",
    "            line_json = text_to_json(line)\n",
    "            cur.execute(\"\"\"INSERT INTO lines\n",
    "                                  (line, number, person, date) \n",
    "                                  VALUES (?, ?, ?, ?);\"\"\", (line_json, number, span.person, date))\n",
    "            con.commit()"
   ]
  },
  {
   "cell_type": "code",
   "execution_count": 20,
   "id": "9f43c718",
   "metadata": {},
   "outputs": [],
   "source": [
    "con.close()"
   ]
  }
 ],
 "metadata": {
  "kernelspec": {
   "display_name": "Python 3 (ipykernel)",
   "language": "python",
   "name": "python3"
  },
  "language_info": {
   "codemirror_mode": {
    "name": "ipython",
    "version": 3
   },
   "file_extension": ".py",
   "mimetype": "text/x-python",
   "name": "python",
   "nbconvert_exporter": "python",
   "pygments_lexer": "ipython3",
   "version": "3.10.11"
  }
 },
 "nbformat": 4,
 "nbformat_minor": 5
}
