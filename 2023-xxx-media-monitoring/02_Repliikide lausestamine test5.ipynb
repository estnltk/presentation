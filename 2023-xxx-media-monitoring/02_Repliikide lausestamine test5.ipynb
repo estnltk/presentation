{
 "cells": [
  {
   "cell_type": "markdown",
   "id": "a549628b",
   "metadata": {},
   "source": [
    "## Repliikide lausestamine test5"
   ]
  },
  {
   "cell_type": "code",
   "execution_count": 36,
   "id": "836074f8",
   "metadata": {},
   "outputs": [],
   "source": [
    "from estnltk import Text\n",
    "import sqlite3\n",
    "from estnltk.converters import json_to_text\n",
    "from estnltk.converters import text_to_json\n",
    "from estnltk_core.layer_operations import split_by_sentences"
   ]
  },
  {
   "cell_type": "markdown",
   "id": "e9711dc1",
   "metadata": {},
   "source": [
    "Tühi järjend repliikide hoiustamiseks:"
   ]
  },
  {
   "cell_type": "code",
   "execution_count": 37,
   "id": "f2b13213",
   "metadata": {},
   "outputs": [],
   "source": [
    "corpus = []"
   ]
  },
  {
   "cell_type": "markdown",
   "id": "8a01cf61",
   "metadata": {},
   "source": [
    "Tühi järjend repliikide ID-de jaoks:"
   ]
  },
  {
   "cell_type": "code",
   "execution_count": 38,
   "id": "a285d31f",
   "metadata": {},
   "outputs": [],
   "source": [
    "line_ids = []"
   ]
  },
  {
   "cell_type": "markdown",
   "id": "8683c9aa",
   "metadata": {},
   "source": [
    "Andmebaasi tabelist loetakse sisse repliikidele vastavad Text-objektid:"
   ]
  },
  {
   "cell_type": "code",
   "execution_count": 39,
   "id": "4e6f19bb",
   "metadata": {},
   "outputs": [],
   "source": [
    "con = sqlite3.connect(\"media_data.db\")"
   ]
  },
  {
   "cell_type": "code",
   "execution_count": 40,
   "id": "29491fbf",
   "metadata": {},
   "outputs": [],
   "source": [
    "cur = con.cursor()"
   ]
  },
  {
   "cell_type": "code",
   "execution_count": 41,
   "id": "31084b38",
   "metadata": {
    "scrolled": true
   },
   "outputs": [],
   "source": [
    "for row in cur.execute(\"SELECT ID, line FROM lines\"):\n",
    "    line_id = row[0]\n",
    "    line = json_to_text(json_text=row[1])\n",
    "    corpus.append(line)\n",
    "    line_ids.append(line_id)"
   ]
  },
  {
   "cell_type": "code",
   "execution_count": 42,
   "id": "505aaddc",
   "metadata": {},
   "outputs": [],
   "source": [
    "con.close()"
   ]
  },
  {
   "cell_type": "code",
   "execution_count": 43,
   "id": "ab555d61",
   "metadata": {},
   "outputs": [
    {
     "data": {
      "text/plain": [
       "391"
      ]
     },
     "execution_count": 43,
     "metadata": {},
     "output_type": "execute_result"
    }
   ],
   "source": [
    "len(corpus)"
   ]
  },
  {
   "cell_type": "code",
   "execution_count": 44,
   "id": "6d8710a5",
   "metadata": {},
   "outputs": [
    {
     "data": {
      "text/html": [
       "<table border=\"1\" class=\"dataframe\">\n",
       "  <thead>\n",
       "    <tr style=\"text-align: right;\">\n",
       "      <th>text</th>\n",
       "    </tr>\n",
       "  </thead>\n",
       "  <tbody>\n",
       "    <tr>\n",
       "      <td><div align = \"left\">Kes peab end jätkab Tartus Rein kilk Tallinnas Hans H luik ja priit olemegi ju meie rubriik uued nimed ja meie selle nädala uus nimi on Vadim Belov professor kes on siis Tallinna Tallinnasse uusi kandidaate aselinnapeaks sotside poolt teatavasti viibis sealt.</br>Ta läks ise tagasi astus ise tagasi siiamaani ta jätkab oma tegevust seal Vadim peab roht seal on siis endine telekanali PBK saatejuht endine venekeelse Delfi toimetaja endine ühe venekeelse ajalehe.</br>Töötaja et inimene kes räägib kes pärineb intelligentsus perekonnast kelle isa on juba olnud tegutseb.</br>Tõlkena oli vist ka Tallinna ülikooliga.</br>Kes on ise tegutsenud ajakirjaniku vana ajal mil pronksiöökirjad olid.</br>Taevasse tõusnud ja võttis ka üsna üheselt seisukohti pronksiosas.</div></td>\n",
       "    </tr>\n",
       "  </tbody>\n",
       "</table>\n",
       "<h4>Metadata</h4>\n",
       "<table border=\"1\" class=\"dataframe\">\n",
       "  <tbody>\n",
       "    <tr>\n",
       "      <td>date</td>\n",
       "      <td>2010-10-30</td>\n",
       "    </tr>\n",
       "    <tr>\n",
       "      <td>line_number</td>\n",
       "      <td>15</td>\n",
       "    </tr>\n",
       "    <tr>\n",
       "      <td>person</td>\n",
       "      <td>Tundmatu3</td>\n",
       "    </tr>\n",
       "  </tbody>\n",
       "</table>\n",
       "<table border=\"1\" class=\"dataframe\">\n",
       "  <thead>\n",
       "    <tr style=\"text-align: right;\">\n",
       "      <th>layer name</th>\n",
       "      <th>attributes</th>\n",
       "      <th>parent</th>\n",
       "      <th>enveloping</th>\n",
       "      <th>ambiguous</th>\n",
       "      <th>span count</th>\n",
       "    </tr>\n",
       "  </thead>\n",
       "  <tbody>\n",
       "    <tr>\n",
       "      <td>sentences</td>\n",
       "      <td></td>\n",
       "      <td>None</td>\n",
       "      <td>words</td>\n",
       "      <td>False</td>\n",
       "      <td>6</td>\n",
       "    </tr>\n",
       "    <tr>\n",
       "      <td>tokens</td>\n",
       "      <td></td>\n",
       "      <td>None</td>\n",
       "      <td>None</td>\n",
       "      <td>False</td>\n",
       "      <td>119</td>\n",
       "    </tr>\n",
       "    <tr>\n",
       "      <td>compound_tokens</td>\n",
       "      <td>type, normalized</td>\n",
       "      <td>None</td>\n",
       "      <td>tokens</td>\n",
       "      <td>False</td>\n",
       "      <td>0</td>\n",
       "    </tr>\n",
       "    <tr>\n",
       "      <td>words</td>\n",
       "      <td>normalized_form</td>\n",
       "      <td>None</td>\n",
       "      <td>None</td>\n",
       "      <td>True</td>\n",
       "      <td>119</td>\n",
       "    </tr>\n",
       "    <tr>\n",
       "      <td>morph_analysis</td>\n",
       "      <td>normalized_text, lemma, root, root_tokens, ending, clitic, form, partofspeech</td>\n",
       "      <td>words</td>\n",
       "      <td>None</td>\n",
       "      <td>True</td>\n",
       "      <td>119</td>\n",
       "    </tr>\n",
       "    <tr>\n",
       "      <td>ner</td>\n",
       "      <td>nertag</td>\n",
       "      <td>None</td>\n",
       "      <td>words</td>\n",
       "      <td>False</td>\n",
       "      <td>11</td>\n",
       "    </tr>\n",
       "  </tbody>\n",
       "</table>"
      ],
      "text/plain": [
       "Text(text='Kes peab end jätkab Tartus Rein kilk Tallinnas Hans H luik ja priit olemegi ju meie rubriik uued nimed ja meie selle nädala uus nimi on Vadim Belov professor kes on siis Tallinna Tallinnasse uusi kandidaate aselinnapeaks sotside poolt teatavasti viibis sealt.\\nTa läks ise tagasi astus ise tagasi siiamaani ta jätkab oma tegevust seal Vadim peab roht seal on siis endine telekanali PBK saatejuht endine venekeelse Delfi toimetaja endine ühe venekeelse ajalehe.\\nTöötaja et inimene kes räägib kes pärineb intelligentsus perekonnast kelle isa on juba olnud tegutseb.\\nTõlkena oli vist ka Tallinna ülikooliga.\\nKes on ise tegutsenud ajakirjaniku vana ajal mil pronksiöökirjad olid.\\nTaevasse tõusnud ja võttis ka üsna üheselt seisukohti pronksiosas.')"
      ]
     },
     "metadata": {},
     "output_type": "display_data"
    }
   ],
   "source": [
    "test_text = corpus[14]\n",
    "display(test_text)"
   ]
  },
  {
   "cell_type": "code",
   "execution_count": 45,
   "id": "93c72ddb",
   "metadata": {
    "scrolled": false
   },
   "outputs": [
    {
     "data": {
      "text/html": [
       "<h4>Layer</h4>\n",
       "\n",
       "\n",
       "<table border=\"1\" class=\"dataframe\">\n",
       "  <thead>\n",
       "    <tr style=\"text-align: right;\">\n",
       "      <th>layer name</th>\n",
       "      <th>attributes</th>\n",
       "      <th>parent</th>\n",
       "      <th>enveloping</th>\n",
       "      <th>ambiguous</th>\n",
       "      <th>span count</th>\n",
       "    </tr>\n",
       "  </thead>\n",
       "  <tbody>\n",
       "    <tr>\n",
       "      <td>ner</td>\n",
       "      <td>nertag</td>\n",
       "      <td>None</td>\n",
       "      <td>words</td>\n",
       "      <td>False</td>\n",
       "      <td>11</td>\n",
       "    </tr>\n",
       "  </tbody>\n",
       "</table>\n",
       "<table border=\"1\" class=\"dataframe\">\n",
       "  <thead>\n",
       "    <tr style=\"text-align: right;\">\n",
       "      <th>text</th>\n",
       "      <th>nertag</th>\n",
       "    </tr>\n",
       "  </thead>\n",
       "  <tbody>\n",
       "    <tr>\n",
       "      <td>['Tartus']</td>\n",
       "      <td>LOC</td>\n",
       "    </tr>\n",
       "    <tr>\n",
       "      <td>['Tallinnas']</td>\n",
       "      <td>LOC</td>\n",
       "    </tr>\n",
       "    <tr>\n",
       "      <td>['Hans']</td>\n",
       "      <td>PER</td>\n",
       "    </tr>\n",
       "    <tr>\n",
       "      <td>['H']</td>\n",
       "      <td>ORG</td>\n",
       "    </tr>\n",
       "    <tr>\n",
       "      <td>['Vadim', 'Belov']</td>\n",
       "      <td>ORG</td>\n",
       "    </tr>\n",
       "    <tr>\n",
       "      <td>['Tallinna']</td>\n",
       "      <td>LOC</td>\n",
       "    </tr>\n",
       "    <tr>\n",
       "      <td>['Tallinnasse']</td>\n",
       "      <td>LOC</td>\n",
       "    </tr>\n",
       "    <tr>\n",
       "      <td>['Vadim']</td>\n",
       "      <td>PER</td>\n",
       "    </tr>\n",
       "    <tr>\n",
       "      <td>['PBK']</td>\n",
       "      <td>ORG</td>\n",
       "    </tr>\n",
       "    <tr>\n",
       "      <td>['Delfi']</td>\n",
       "      <td>ORG</td>\n",
       "    </tr>\n",
       "    <tr>\n",
       "      <td>['Tallinna', 'ülikooliga']</td>\n",
       "      <td>ORG</td>\n",
       "    </tr>\n",
       "  </tbody>\n",
       "</table>"
      ],
      "text/plain": [
       "Layer(name='ner', attributes=('nertag',), spans=SL[EnvelopingSpan(['Tartus'], [{'nertag': 'LOC'}]),\n",
       "EnvelopingSpan(['Tallinnas'], [{'nertag': 'LOC'}]),\n",
       "EnvelopingSpan(['Hans'], [{'nertag': 'PER'}]),\n",
       "EnvelopingSpan(['H'], [{'nertag': 'ORG'}]),\n",
       "EnvelopingSpan(['Vadim', 'Belov'], [{'nertag': 'ORG'}]),\n",
       "EnvelopingSpan(['Tallinna'], [{'nertag': 'LOC'}]),\n",
       "EnvelopingSpan(['Tallinnasse'], [{'nertag': 'LOC'}]),\n",
       "EnvelopingSpan(['Vadim'], [{'nertag': 'PER'}]),\n",
       "EnvelopingSpan(['PBK'], [{'nertag': 'ORG'}]),\n",
       "EnvelopingSpan(['Delfi'], [{'nertag': 'ORG'}]),\n",
       "EnvelopingSpan(['Tallinna', 'ülikooliga'], [{'nertag': 'ORG'}])])"
      ]
     },
     "execution_count": 45,
     "metadata": {},
     "output_type": "execute_result"
    }
   ],
   "source": [
    "test_text.ner"
   ]
  },
  {
   "cell_type": "markdown",
   "id": "d56b1968",
   "metadata": {},
   "source": [
    "Kuna repliigid on suhteliselt kirjakeelsed (laused algavad suure algustähega ning lõppevad lauselõpumärgiga), lausestan esialgu split_by_sentences abil:"
   ]
  },
  {
   "cell_type": "code",
   "execution_count": 46,
   "id": "fe9faa4d",
   "metadata": {},
   "outputs": [],
   "source": [
    "line_sentences = split_by_sentences(text=test_text,\n",
    "                           layers_to_keep=list(test_text.layers),\n",
    "                           trim_overlapping=True\n",
    "                           )"
   ]
  },
  {
   "cell_type": "code",
   "execution_count": 47,
   "id": "e74b2701",
   "metadata": {},
   "outputs": [
    {
     "data": {
      "text/html": [
       "<table border=\"1\" class=\"dataframe\">\n",
       "  <thead>\n",
       "    <tr style=\"text-align: right;\">\n",
       "      <th>text</th>\n",
       "    </tr>\n",
       "  </thead>\n",
       "  <tbody>\n",
       "    <tr>\n",
       "      <td><div align = \"left\">Kes peab end jätkab Tartus Rein kilk Tallinnas Hans H luik ja priit olemegi ju meie rubriik uued nimed ja meie selle nädala uus nimi on Vadim Belov professor kes on siis Tallinna Tallinnasse uusi kandidaate aselinnapeaks sotside poolt teatavasti viibis sealt.</div></td>\n",
       "    </tr>\n",
       "  </tbody>\n",
       "</table>\n",
       "<table border=\"1\" class=\"dataframe\">\n",
       "  <thead>\n",
       "    <tr style=\"text-align: right;\">\n",
       "      <th>layer name</th>\n",
       "      <th>attributes</th>\n",
       "      <th>parent</th>\n",
       "      <th>enveloping</th>\n",
       "      <th>ambiguous</th>\n",
       "      <th>span count</th>\n",
       "    </tr>\n",
       "  </thead>\n",
       "  <tbody>\n",
       "    <tr>\n",
       "      <td>sentences</td>\n",
       "      <td></td>\n",
       "      <td>None</td>\n",
       "      <td>words</td>\n",
       "      <td>False</td>\n",
       "      <td>1</td>\n",
       "    </tr>\n",
       "    <tr>\n",
       "      <td>tokens</td>\n",
       "      <td></td>\n",
       "      <td>None</td>\n",
       "      <td>None</td>\n",
       "      <td>False</td>\n",
       "      <td>43</td>\n",
       "    </tr>\n",
       "    <tr>\n",
       "      <td>compound_tokens</td>\n",
       "      <td>type, normalized</td>\n",
       "      <td>None</td>\n",
       "      <td>tokens</td>\n",
       "      <td>False</td>\n",
       "      <td>0</td>\n",
       "    </tr>\n",
       "    <tr>\n",
       "      <td>words</td>\n",
       "      <td>normalized_form</td>\n",
       "      <td>None</td>\n",
       "      <td>None</td>\n",
       "      <td>True</td>\n",
       "      <td>43</td>\n",
       "    </tr>\n",
       "    <tr>\n",
       "      <td>morph_analysis</td>\n",
       "      <td>normalized_text, lemma, root, root_tokens, ending, clitic, form, partofspeech</td>\n",
       "      <td>words</td>\n",
       "      <td>None</td>\n",
       "      <td>True</td>\n",
       "      <td>43</td>\n",
       "    </tr>\n",
       "    <tr>\n",
       "      <td>ner</td>\n",
       "      <td>nertag</td>\n",
       "      <td>None</td>\n",
       "      <td>words</td>\n",
       "      <td>False</td>\n",
       "      <td>7</td>\n",
       "    </tr>\n",
       "  </tbody>\n",
       "</table>"
      ],
      "text/plain": [
       "Text(text='Kes peab end jätkab Tartus Rein kilk Tallinnas Hans H luik ja priit olemegi ju meie rubriik uued nimed ja meie selle nädala uus nimi on Vadim Belov professor kes on siis Tallinna Tallinnasse uusi kandidaate aselinnapeaks sotside poolt teatavasti viibis sealt.')"
      ]
     },
     "metadata": {},
     "output_type": "display_data"
    },
    {
     "data": {
      "text/html": [
       "<h4>Layer</h4>\n",
       "\n",
       "\n",
       "<table border=\"1\" class=\"dataframe\">\n",
       "  <thead>\n",
       "    <tr style=\"text-align: right;\">\n",
       "      <th>layer name</th>\n",
       "      <th>attributes</th>\n",
       "      <th>parent</th>\n",
       "      <th>enveloping</th>\n",
       "      <th>ambiguous</th>\n",
       "      <th>span count</th>\n",
       "    </tr>\n",
       "  </thead>\n",
       "  <tbody>\n",
       "    <tr>\n",
       "      <td>ner</td>\n",
       "      <td>nertag</td>\n",
       "      <td>None</td>\n",
       "      <td>words</td>\n",
       "      <td>False</td>\n",
       "      <td>7</td>\n",
       "    </tr>\n",
       "  </tbody>\n",
       "</table>\n",
       "<table border=\"1\" class=\"dataframe\">\n",
       "  <thead>\n",
       "    <tr style=\"text-align: right;\">\n",
       "      <th>text</th>\n",
       "      <th>nertag</th>\n",
       "    </tr>\n",
       "  </thead>\n",
       "  <tbody>\n",
       "    <tr>\n",
       "      <td>['Tartus']</td>\n",
       "      <td>LOC</td>\n",
       "    </tr>\n",
       "    <tr>\n",
       "      <td>['Tallinnas']</td>\n",
       "      <td>LOC</td>\n",
       "    </tr>\n",
       "    <tr>\n",
       "      <td>['Hans']</td>\n",
       "      <td>PER</td>\n",
       "    </tr>\n",
       "    <tr>\n",
       "      <td>['H']</td>\n",
       "      <td>ORG</td>\n",
       "    </tr>\n",
       "    <tr>\n",
       "      <td>['Vadim', 'Belov']</td>\n",
       "      <td>ORG</td>\n",
       "    </tr>\n",
       "    <tr>\n",
       "      <td>['Tallinna']</td>\n",
       "      <td>LOC</td>\n",
       "    </tr>\n",
       "    <tr>\n",
       "      <td>['Tallinnasse']</td>\n",
       "      <td>LOC</td>\n",
       "    </tr>\n",
       "  </tbody>\n",
       "</table>"
      ],
      "text/plain": [
       "Layer(name='ner', attributes=('nertag',), spans=SL[EnvelopingSpan(['Tartus'], [{'nertag': 'LOC'}]),\n",
       "EnvelopingSpan(['Tallinnas'], [{'nertag': 'LOC'}]),\n",
       "EnvelopingSpan(['Hans'], [{'nertag': 'PER'}]),\n",
       "EnvelopingSpan(['H'], [{'nertag': 'ORG'}]),\n",
       "EnvelopingSpan(['Vadim', 'Belov'], [{'nertag': 'ORG'}]),\n",
       "EnvelopingSpan(['Tallinna'], [{'nertag': 'LOC'}]),\n",
       "EnvelopingSpan(['Tallinnasse'], [{'nertag': 'LOC'}])])"
      ]
     },
     "metadata": {},
     "output_type": "display_data"
    },
    {
     "data": {
      "text/html": [
       "<table border=\"1\" class=\"dataframe\">\n",
       "  <thead>\n",
       "    <tr style=\"text-align: right;\">\n",
       "      <th>text</th>\n",
       "    </tr>\n",
       "  </thead>\n",
       "  <tbody>\n",
       "    <tr>\n",
       "      <td><div align = \"left\">Ta läks ise tagasi astus ise tagasi siiamaani ta jätkab oma tegevust seal Vadim peab roht seal on siis endine telekanali PBK saatejuht endine venekeelse Delfi toimetaja endine ühe venekeelse ajalehe.</div></td>\n",
       "    </tr>\n",
       "  </tbody>\n",
       "</table>\n",
       "<table border=\"1\" class=\"dataframe\">\n",
       "  <thead>\n",
       "    <tr style=\"text-align: right;\">\n",
       "      <th>layer name</th>\n",
       "      <th>attributes</th>\n",
       "      <th>parent</th>\n",
       "      <th>enveloping</th>\n",
       "      <th>ambiguous</th>\n",
       "      <th>span count</th>\n",
       "    </tr>\n",
       "  </thead>\n",
       "  <tbody>\n",
       "    <tr>\n",
       "      <td>sentences</td>\n",
       "      <td></td>\n",
       "      <td>None</td>\n",
       "      <td>words</td>\n",
       "      <td>False</td>\n",
       "      <td>1</td>\n",
       "    </tr>\n",
       "    <tr>\n",
       "      <td>tokens</td>\n",
       "      <td></td>\n",
       "      <td>None</td>\n",
       "      <td>None</td>\n",
       "      <td>False</td>\n",
       "      <td>32</td>\n",
       "    </tr>\n",
       "    <tr>\n",
       "      <td>compound_tokens</td>\n",
       "      <td>type, normalized</td>\n",
       "      <td>None</td>\n",
       "      <td>tokens</td>\n",
       "      <td>False</td>\n",
       "      <td>0</td>\n",
       "    </tr>\n",
       "    <tr>\n",
       "      <td>words</td>\n",
       "      <td>normalized_form</td>\n",
       "      <td>None</td>\n",
       "      <td>None</td>\n",
       "      <td>True</td>\n",
       "      <td>32</td>\n",
       "    </tr>\n",
       "    <tr>\n",
       "      <td>morph_analysis</td>\n",
       "      <td>normalized_text, lemma, root, root_tokens, ending, clitic, form, partofspeech</td>\n",
       "      <td>words</td>\n",
       "      <td>None</td>\n",
       "      <td>True</td>\n",
       "      <td>32</td>\n",
       "    </tr>\n",
       "    <tr>\n",
       "      <td>ner</td>\n",
       "      <td>nertag</td>\n",
       "      <td>None</td>\n",
       "      <td>words</td>\n",
       "      <td>False</td>\n",
       "      <td>3</td>\n",
       "    </tr>\n",
       "  </tbody>\n",
       "</table>"
      ],
      "text/plain": [
       "Text(text='Ta läks ise tagasi astus ise tagasi siiamaani ta jätkab oma tegevust seal Vadim peab roht seal on siis endine telekanali PBK saatejuht endine venekeelse Delfi toimetaja endine ühe venekeelse ajalehe.')"
      ]
     },
     "metadata": {},
     "output_type": "display_data"
    },
    {
     "data": {
      "text/html": [
       "<h4>Layer</h4>\n",
       "\n",
       "\n",
       "<table border=\"1\" class=\"dataframe\">\n",
       "  <thead>\n",
       "    <tr style=\"text-align: right;\">\n",
       "      <th>layer name</th>\n",
       "      <th>attributes</th>\n",
       "      <th>parent</th>\n",
       "      <th>enveloping</th>\n",
       "      <th>ambiguous</th>\n",
       "      <th>span count</th>\n",
       "    </tr>\n",
       "  </thead>\n",
       "  <tbody>\n",
       "    <tr>\n",
       "      <td>ner</td>\n",
       "      <td>nertag</td>\n",
       "      <td>None</td>\n",
       "      <td>words</td>\n",
       "      <td>False</td>\n",
       "      <td>3</td>\n",
       "    </tr>\n",
       "  </tbody>\n",
       "</table>\n",
       "<table border=\"1\" class=\"dataframe\">\n",
       "  <thead>\n",
       "    <tr style=\"text-align: right;\">\n",
       "      <th>text</th>\n",
       "      <th>nertag</th>\n",
       "    </tr>\n",
       "  </thead>\n",
       "  <tbody>\n",
       "    <tr>\n",
       "      <td>['Vadim']</td>\n",
       "      <td>PER</td>\n",
       "    </tr>\n",
       "    <tr>\n",
       "      <td>['PBK']</td>\n",
       "      <td>ORG</td>\n",
       "    </tr>\n",
       "    <tr>\n",
       "      <td>['Delfi']</td>\n",
       "      <td>ORG</td>\n",
       "    </tr>\n",
       "  </tbody>\n",
       "</table>"
      ],
      "text/plain": [
       "Layer(name='ner', attributes=('nertag',), spans=SL[EnvelopingSpan(['Vadim'], [{'nertag': 'PER'}]),\n",
       "EnvelopingSpan(['PBK'], [{'nertag': 'ORG'}]),\n",
       "EnvelopingSpan(['Delfi'], [{'nertag': 'ORG'}])])"
      ]
     },
     "metadata": {},
     "output_type": "display_data"
    },
    {
     "data": {
      "text/html": [
       "<table border=\"1\" class=\"dataframe\">\n",
       "  <thead>\n",
       "    <tr style=\"text-align: right;\">\n",
       "      <th>text</th>\n",
       "    </tr>\n",
       "  </thead>\n",
       "  <tbody>\n",
       "    <tr>\n",
       "      <td><div align = \"left\">Tõlkena oli vist ka Tallinna ülikooliga.</div></td>\n",
       "    </tr>\n",
       "  </tbody>\n",
       "</table>\n",
       "<table border=\"1\" class=\"dataframe\">\n",
       "  <thead>\n",
       "    <tr style=\"text-align: right;\">\n",
       "      <th>layer name</th>\n",
       "      <th>attributes</th>\n",
       "      <th>parent</th>\n",
       "      <th>enveloping</th>\n",
       "      <th>ambiguous</th>\n",
       "      <th>span count</th>\n",
       "    </tr>\n",
       "  </thead>\n",
       "  <tbody>\n",
       "    <tr>\n",
       "      <td>sentences</td>\n",
       "      <td></td>\n",
       "      <td>None</td>\n",
       "      <td>words</td>\n",
       "      <td>False</td>\n",
       "      <td>1</td>\n",
       "    </tr>\n",
       "    <tr>\n",
       "      <td>tokens</td>\n",
       "      <td></td>\n",
       "      <td>None</td>\n",
       "      <td>None</td>\n",
       "      <td>False</td>\n",
       "      <td>7</td>\n",
       "    </tr>\n",
       "    <tr>\n",
       "      <td>compound_tokens</td>\n",
       "      <td>type, normalized</td>\n",
       "      <td>None</td>\n",
       "      <td>tokens</td>\n",
       "      <td>False</td>\n",
       "      <td>0</td>\n",
       "    </tr>\n",
       "    <tr>\n",
       "      <td>words</td>\n",
       "      <td>normalized_form</td>\n",
       "      <td>None</td>\n",
       "      <td>None</td>\n",
       "      <td>True</td>\n",
       "      <td>7</td>\n",
       "    </tr>\n",
       "    <tr>\n",
       "      <td>morph_analysis</td>\n",
       "      <td>normalized_text, lemma, root, root_tokens, ending, clitic, form, partofspeech</td>\n",
       "      <td>words</td>\n",
       "      <td>None</td>\n",
       "      <td>True</td>\n",
       "      <td>7</td>\n",
       "    </tr>\n",
       "    <tr>\n",
       "      <td>ner</td>\n",
       "      <td>nertag</td>\n",
       "      <td>None</td>\n",
       "      <td>words</td>\n",
       "      <td>False</td>\n",
       "      <td>1</td>\n",
       "    </tr>\n",
       "  </tbody>\n",
       "</table>"
      ],
      "text/plain": [
       "Text(text='Tõlkena oli vist ka Tallinna ülikooliga.')"
      ]
     },
     "metadata": {},
     "output_type": "display_data"
    },
    {
     "data": {
      "text/html": [
       "<h4>Layer</h4>\n",
       "\n",
       "\n",
       "<table border=\"1\" class=\"dataframe\">\n",
       "  <thead>\n",
       "    <tr style=\"text-align: right;\">\n",
       "      <th>layer name</th>\n",
       "      <th>attributes</th>\n",
       "      <th>parent</th>\n",
       "      <th>enveloping</th>\n",
       "      <th>ambiguous</th>\n",
       "      <th>span count</th>\n",
       "    </tr>\n",
       "  </thead>\n",
       "  <tbody>\n",
       "    <tr>\n",
       "      <td>ner</td>\n",
       "      <td>nertag</td>\n",
       "      <td>None</td>\n",
       "      <td>words</td>\n",
       "      <td>False</td>\n",
       "      <td>1</td>\n",
       "    </tr>\n",
       "  </tbody>\n",
       "</table>\n",
       "<table border=\"1\" class=\"dataframe\">\n",
       "  <thead>\n",
       "    <tr style=\"text-align: right;\">\n",
       "      <th>text</th>\n",
       "      <th>nertag</th>\n",
       "    </tr>\n",
       "  </thead>\n",
       "  <tbody>\n",
       "    <tr>\n",
       "      <td>['Tallinna', 'ülikooliga']</td>\n",
       "      <td>ORG</td>\n",
       "    </tr>\n",
       "  </tbody>\n",
       "</table>"
      ],
      "text/plain": [
       "Layer(name='ner', attributes=('nertag',), spans=SL[EnvelopingSpan(['Tallinna', 'ülikooliga'], [{'nertag': 'ORG'}])])"
      ]
     },
     "metadata": {},
     "output_type": "display_data"
    }
   ],
   "source": [
    "for sentence in line_sentences:\n",
    "    if len(sentence.ner) > 0:\n",
    "        display(sentence)\n",
    "        display(sentence.ner)"
   ]
  },
  {
   "cell_type": "code",
   "execution_count": 48,
   "id": "dd18ee60",
   "metadata": {},
   "outputs": [],
   "source": [
    "con = sqlite3.connect(\"media_data.db\")\n",
    "cur = con.cursor()"
   ]
  },
  {
   "cell_type": "markdown",
   "id": "d85f04a6",
   "metadata": {},
   "source": [
    "Andmebaasi lisatakse uus tabel lausete jaoks:"
   ]
  },
  {
   "cell_type": "code",
   "execution_count": 50,
   "id": "62ed79d6",
   "metadata": {},
   "outputs": [
    {
     "data": {
      "text/plain": [
       "<sqlite3.Cursor at 0x1c0d6eaccc0>"
      ]
     },
     "execution_count": 50,
     "metadata": {},
     "output_type": "execute_result"
    }
   ],
   "source": [
    "cur.execute(\"CREATE TABLE sentences(ID INTEGER PRIMARY KEY, line_ID INTEGER, sentence TEXT, named_entity INTEGER)\")"
   ]
  },
  {
   "cell_type": "markdown",
   "id": "118eeef8",
   "metadata": {},
   "source": [
    "Loodud tabelisse lisatakse kõik laused, eraldi märge lisatakse veergu named_entity, kas lause sialdab mõnda nimeüksust või mitte:"
   ]
  },
  {
   "cell_type": "code",
   "execution_count": 51,
   "id": "e820e4cb",
   "metadata": {},
   "outputs": [],
   "source": [
    "for i in range(len(corpus)):\n",
    "    line_sentences = split_by_sentences(text=corpus[i], \n",
    "                           layers_to_keep=list(corpus[i].layers),\n",
    "                           trim_overlapping=True\n",
    "                           )\n",
    "    for sentence in line_sentences:\n",
    "        sentence.meta['line_number'] = corpus[i].meta['line_number']\n",
    "        sentence.meta['person'] = corpus[i].meta['person']\n",
    "        sentence.meta['date'] = corpus[i].meta['date']\n",
    "        sentence_json = text_to_json(sentence)\n",
    "        if len(sentence.ner) > 0:\n",
    "            cur.execute(\"\"\"INSERT INTO sentences\n",
    "                                    (line_ID, sentence, named_entity)\n",
    "                                    VALUES (?, ?, ?);\"\"\", (line_ids[i], sentence_json, 1))\n",
    "        else:\n",
    "            cur.execute(\"\"\"INSERT INTO sentences\n",
    "                                    (line_ID, sentence, named_entity)\n",
    "                                    VALUES (?, ?, ?);\"\"\", (line_ids[i], sentence_json, 0))\n",
    "        con.commit()"
   ]
  },
  {
   "cell_type": "code",
   "execution_count": 52,
   "id": "386544e6",
   "metadata": {},
   "outputs": [],
   "source": [
    "con.close()"
   ]
  }
 ],
 "metadata": {
  "kernelspec": {
   "display_name": "Python 3 (ipykernel)",
   "language": "python",
   "name": "python3"
  },
  "language_info": {
   "codemirror_mode": {
    "name": "ipython",
    "version": 3
   },
   "file_extension": ".py",
   "mimetype": "text/x-python",
   "name": "python",
   "nbconvert_exporter": "python",
   "pygments_lexer": "ipython3",
   "version": "3.10.11"
  }
 },
 "nbformat": 4,
 "nbformat_minor": 5
}
