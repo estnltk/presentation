{
 "cells": [
  {
   "cell_type": "markdown",
   "id": "e6213e3f",
   "metadata": {},
   "source": [
    "## Süntaksianalüüs"
   ]
  },
  {
   "cell_type": "markdown",
   "id": "0fc0a3a3",
   "metadata": {},
   "source": [
    "Varasemalt leiti 50 raadiosaate suurusel alamhulgal süntaksianalüüsi abil hulk nelja teemasse jagunevaid märksõnu. Selles notebookis lisatakse süntaksianalüüsi kiht kõigile lausetele, millele on PhraseTaggeriga märgendatud mõni huvipakkuv nimeüksus."
   ]
  },
  {
   "cell_type": "code",
   "execution_count": 14,
   "id": "869aef06",
   "metadata": {
    "scrolled": true
   },
   "outputs": [],
   "source": [
    "from estnltk import Text\n",
    "from estnltk.taggers import StanzaSyntaxEnsembleWebTagger\n",
    "from estnltk_neural.taggers.syntax.stanza_tagger.ensemble_tagger import StanzaSyntaxEnsembleTagger\n",
    "from estnltk_neural.taggers import StanzaSyntaxTagger\n",
    "from estnltk.taggers import SyntaxDependencyRetagger\n",
    "import sqlite3\n",
    "from estnltk.converters import json_to_text\n",
    "from estnltk.converters import text_to_json\n",
    "import csv\n",
    "from collections import Counter"
   ]
  },
  {
   "cell_type": "markdown",
   "id": "f4f4360c",
   "metadata": {},
   "source": [
    "### I Tagger"
   ]
  },
  {
   "cell_type": "markdown",
   "id": "ef320674",
   "metadata": {},
   "source": [
    "Siin võetakse märgendamisel kasutusele Stanza ensemble taggeri asemel tavaline Stanza tagger, sest andmehulk on suurem ja taggeri töökiirus on parem."
   ]
  },
  {
   "cell_type": "code",
   "execution_count": 3,
   "id": "a4d8f4cc",
   "metadata": {},
   "outputs": [],
   "source": [
    "stanza_tagger = StanzaSyntaxTagger(input_type='morph_analysis', input_morph_layer='morph_analysis', add_parent_and_children=True)"
   ]
  },
  {
   "cell_type": "markdown",
   "id": "65e3e691",
   "metadata": {},
   "source": [
    "### II Andmete sisselugemine ja süntaksianalüüsi kihi peale märgendamine"
   ]
  },
  {
   "cell_type": "markdown",
   "id": "746d07e9",
   "metadata": {},
   "source": [
    "Kõigepealt loetakse andmebaasist sisse laused, millele on PhraseTaggeriga märgendatud peale mõni huvipakkuvatest nimeüksustest."
   ]
  },
  {
   "cell_type": "code",
   "execution_count": 15,
   "id": "2b2998e7",
   "metadata": {},
   "outputs": [],
   "source": [
    "sentences = []\n",
    "sentence_ids = []"
   ]
  },
  {
   "cell_type": "code",
   "execution_count": 16,
   "id": "178cb65f",
   "metadata": {},
   "outputs": [],
   "source": [
    "con = sqlite3.connect(\"media_data_complete.db\")\n",
    "cur = con.cursor()"
   ]
  },
  {
   "cell_type": "code",
   "execution_count": 17,
   "id": "08c0c175",
   "metadata": {},
   "outputs": [],
   "source": [
    "# ID asemel võtta tabelist sentence_ID\n",
    "for row in cur.execute(\"SELECT sentence_ID, sentence FROM phrase_tagger_sentences\"):\n",
    "    sentence_id = row[0]\n",
    "    sentence = json_to_text(json_text=row[1])\n",
    "    sentences.append(sentence)\n",
    "    sentence_ids.append(sentence_id)"
   ]
  },
  {
   "cell_type": "code",
   "execution_count": 18,
   "id": "7cbc4c4f",
   "metadata": {},
   "outputs": [],
   "source": [
    "con.close()"
   ]
  },
  {
   "cell_type": "code",
   "execution_count": 19,
   "id": "d56b5f92",
   "metadata": {},
   "outputs": [
    {
     "data": {
      "text/plain": [
       "18569"
      ]
     },
     "execution_count": 19,
     "metadata": {},
     "output_type": "execute_result"
    }
   ],
   "source": [
    "len(sentences)"
   ]
  },
  {
   "cell_type": "markdown",
   "id": "0ebd959d",
   "metadata": {},
   "source": [
    "Seejärel märgendatakse lausetele süntaksianalüüsi kiht. Ühtlasi eraldatakse laused, mis on taggeri jaoks liiga pikad (need on transkriptsioonifailid, kus oli puudu lauselõpumärkidest)."
   ]
  },
  {
   "cell_type": "code",
   "execution_count": 20,
   "id": "de751a60",
   "metadata": {},
   "outputs": [],
   "source": [
    "sentences_untagged = []"
   ]
  },
  {
   "cell_type": "code",
   "execution_count": 21,
   "id": "43906b16",
   "metadata": {},
   "outputs": [],
   "source": [
    "for sentence in sentences:\n",
    "    try:\n",
    "        stanza_tagger.tag(sentence)\n",
    "    except:\n",
    "        sentences_untagged.append(sentence)\n",
    "        continue"
   ]
  },
  {
   "cell_type": "code",
   "execution_count": 23,
   "id": "22ffa52c",
   "metadata": {},
   "outputs": [
    {
     "data": {
      "text/plain": [
       "2"
      ]
     },
     "execution_count": 23,
     "metadata": {},
     "output_type": "execute_result"
    }
   ],
   "source": [
    "len(sentences_untagged)"
   ]
  },
  {
   "cell_type": "markdown",
   "id": "fc10dc9d",
   "metadata": {},
   "source": [
    "Esimene sellistest liiga pikkadest \"lausetest\":"
   ]
  },
  {
   "cell_type": "code",
   "execution_count": 26,
   "id": "b867f172",
   "metadata": {},
   "outputs": [
    {
     "name": "stdout",
     "output_type": "stream",
     "text": [
      "Tere siin Kuku raadios enam Keskpäevatund Tallinnas Marek Strandberg Priit Hõbemägi Tartus on Hannes Astok ja kurgid sulle raha mulle vastupidi kuidas keegi\n",
      "siis see teema ja viib meid selle juurde et nagu kirjutada et riik tellib toidu väiksemat maksukoormat üles on kerkinud selline diskussiooni teema\n",
      "et võiks võiks ju vähendada toidu käibemaksu toiduainetelt ettepanek mis on välja käidud on siis vist oli üheksa protsenti senise kahekümne asemel on nüüd diskussioon mis on\n",
      "sel teemal areneb teede põhiliselt põhiliselt selles ühe punkti ümber et kas siis kui käibemaksu alandatakse kas toiduainete hinnad vähenevad või toiduainete hinnad ei vähene see on üks alateema on kindlasti see et et kas toiduainete hinnad Eestis on\n",
      "on kõrgemad kui mujal Euroopas mujal maailmas või on nad madalamad aga see selle nimel juba\n",
      "toiduainete hind on küsimus ju sellest millist hinda inimesed taluvad ja selles mõttes nii-öelda käib\n",
      "maksuga mis on täna oluliselt kõrgem kui see mainitud üheksa protsenti on inimesed ära harjutatud ka kaupmees teab milline on inimese taluvuspiire käibemaksu alandamine väga suure tõenäosusega kasvatab lihtsalt kaupmehe kasumit\n",
      "mille nimel nad ehk isegi toimiksid aga asja sisu on lihtsalt selles et kui meie toiduainete hinnad moodustavad siin vahemikus seitsekümmend kuni üheksakümmend protsenti Euroopa\n",
      "kui liidu keskmisest siis meie alampalk on kaugelt kordades alla euro\n",
      "Liidu keskmise ja tegelikult peamine probleem ongi inimeste sissetulekute ja kohustuslik kulude mille hulka käib nii toit kui kommunaalkulud energia laste koolitamine ja muu selline et nende kahe asja vahele jääb aina vähem ja vähem raha ehk et nii-öelda\n",
      "kui soovite probleemi lahendada siis küsimus on selles kuidas tõuseks Eestis palgad kuidas kasvab tööviljakus sest nii-öelda ühises turus leida mingit üliodavat nii-öelda niši kust saab väga odavalt toitu osta ilmselt pole võimalik\n",
      "no mina mõtlesin tänase saate peale ja siis ma olen tuli ka muide mõtet peaks mängima seda muusikapala kurgid sulle raha mullaga mõttes millegipärast Edgar Savisaare peal aga selle nagu on see toiduainete hinnavärk on niisugune\n",
      "alati niisugune kirglik teema\n",
      "ja siin on kaks asja eks ole üks asi et alustate sellest kui see debatt algas sellest kas toiduained on kallimad või odavamad ja nüüd siis jutt\n",
      "selleni et on toiduainete rangemaks kõrgem kui paljudes riikides ei ole Eestis käibemaksu erisusest toiduainetel\n",
      "no mina see kogu seda diskussiooni ja debatti kuulates on siiski tahaks kõigile debateerija teile meelde tuletada et\n",
      "et eriti nendele siin siin Äripäeva loen ja raadiost nende ajakirjanike kuulan kes ütlevad et kindlasti peaks toiduainete käibemaksu alandama et siis läheks elu ilusamaks et kogu seda maksusüsteemi Eestis kõrgem kui tervikuna vaatama et kui meil on suhteliselt madal tulumaks üksikisikutele\n",
      "siis meil on ühetaoline käibemaks\n",
      "praktiliselt kõikidele kaupadele erandiks on siis meil eks ole teadupärast ravimid\n",
      "ja vist ettetellitavad ajalehed ja ja Muonio paneb ekspordiga seotud reisiteenuseid ja muud siis EJLi tervist aga üheksa protsenti mitte kakskümmend siis tasuks nagu seda pilti ka tervikuna vaadata et\n",
      "et et päris nii vist ei ole et kui me nüüd\n",
      "et alandame näiteks toiduainete käibemaksu et siis kohe saabub õnn õuele et ilmselgelt on riik riigi kõige suurem tuluallikas mis on küll see käibemaks Eestis siis siis on päris selge et\n",
      "kui nüüd näiteks toiduainete käibemaksu alandada siis siis ilmselgelt ootab meid ees näiteks hoopistükkis üksikisiku tulumaksutõus\n",
      "et et noh need maksusüsteem ega neid makse toiduainetele ei saa nagu lihtsalt võrrelda et me võtame lihtsalt toiduainete käibemaksu üldse vaatamisriigiliselt tulud on et sellisel moel ei ole see debatte diskussioon minu meelest väga viljakas mitte no ei\n",
      "jah no me oleme kuulnud ka seda et mingi kaupmeeste ühenduse kaupmeeste liitunud ja öelnud et et kui nüüd peaks käibemaks alandama et siis nemad peavad omavahel käed ja ja toiduainete hinnad et ei tõuse\n",
      "hoolimata et siis eelnõu sai vahepeal saavad nad siis kasumit rohkem ja selleks et kasumit üks selles ketis osalenud kõik tahavad ju kasumit saada ka see sisse\n",
      "karjääri ongi kasumi rajatud aga ei\n",
      "kellelegi uudiseks aga nüüd küsimus on ka selles et kas sellise sellisele helidele pakkumisele et et saab ka kaasa ka seda et et pakume saab uskuma jääda\n",
      "et noh mõnes kohas ja kuidas seda kuidas suured ketid seda teevad et tavaliselt on igas ketis on mingisuguseid toiduaineid mille hinnad on fikseeritud ja no milline ehk et nende\n",
      "madalam need hinnad on madalamad kui teistes kauplustes kauplustes siis tõenäoliselt siis nende müügist saadava kas nad lähevad siis nagu ilma vaheltkasuta sinna sinna võetakse see müüki või võetakse see kas on mingisugused Eesti toiduaine\n",
      "no ja tavaliselt see või see võis siis surutakse see hinnalangust tarnija eksis tootja kallal\n",
      "juhin tähelepanu sellele et väga paljudes riikides ja enamus riikides kus on nii-öelda toiduainet\n",
      "käibemaksuerisusi on madalam käibemaks toidule on toiduhinnad vaatama\n",
      "ta madala käibemaksule ometi olulisel kohal vastu Eestis ja selles mõttes nagu selline ühe maksuga avaneski täiesti nõus nagu ühe maksu kontekstis arutelu ei saa viia mitte kuhugi ja üldse selline käsitlus et\n",
      "et noh et nagu et kui on vilets elu siis alustas alandama makse mis tähendab seda et\n",
      "et elu läheb ju veel viletsamaks sellepärast et elu viletsust korrigeerib nagu mingit moodi riigi maksusüsteemi riigi toimimine selles osas üllatas mind väga nii-öelda sotsiaalminister rõiva see arusaam sellest et me peaksime kuidagimoodi nõudma hakkama seda et kuna meil on siin kehvi meie oleme siin nagu sellised\n",
      "et kannatajad ja ennast kasinusega piitsutamine et siis peaksid ka lõunaeurooplased oma palku alandama\n",
      "tegelikult on küsimuse teistpidi et me peaks nagu vaeva nägema selle nimel et nii lõunaeurooplastel\n",
      "kus nii-öelda on probleeme tööviljakusega nagu meil tööviljakus kasvaks ja ja selles mõttes sellised allaheitlikud meeleolud noh mis käivad paratamatult kaasas sellise\n",
      "noh ütleme liiale läinud kasinuskultuuriga on minu meelest natukene niisugused ütled ohtlikud aga vähemalt esialgu pentsikut enne seda kui nad ohtlikuks muutunud\n",
      "ja ja teine asi mis mulle pähe tuli neid debatte kuulates maal muru niites oli see et et kui toiduainete hinnad tõusevad siis on näiteks arukad ajakirjanikud ajaleht Äripäev arvavad siis et et\n",
      "et et see toiduained kättesaadavus inimesele teha siis on ainus kes siis peab järgi andma nii-öelda hinnas on siis riik ehk siis teisisõnu riik peaks seda käibemaksu osa toiduainetel vähendama ka et et mitte keegi ei küsi et miks toiduainete hinnad tõusevad et mis selle tagasiis on nagu üks põhiautotootjate sisend on suurem\n",
      "kaupmees tahab kasumit saada eks ole nii jaekaupmees kuigi kaupmees aga ega keegi ei tee ettepanekut et et näiteks kehtestada kasuminorm jaekaubanduses või või hulgikaubanduses või tootjatele aga riik võiks anda järgi riik riik võiks oma osas tagajärjel\n",
      "ja naljakas ja ega see kasuminormi kehtestamine on ka üksjagu veised mõtlejal rahvusluse ja\n",
      "et lihtsalt ei täida isegi et et kui keegi peab järgnema siis on riik kellega teise kallale meile\n",
      "aga tegelikult on see lahendus olemas ehk ütleme Küsimus on konkurentsis et täna on nagu Eestis paraku üks ainukene nii-öelda tarbija organisatsioon mille\n",
      "tarbijaorganisatsiooniks olek on kuidagi ära lahustunud või ära kadunud milleks on et ega ma ei tea milliseid tarbeid kuidas ta esindab ja kuidas tarbijatele kasulik on igal juhul on kaardiomanikke esindava jah see on mingisugune segane organisatsioon samas kui võrrelda seda näiteks ühistud\n",
      "ka millised on Soomes või Rootsis või Kesk-Euroopa Šveitsis Saksamaal kus tegelikult just nimelt ühistuline toidu tootmine\n",
      "sellega kauplemine on see mis ühistu liikmetele noh mitte tagasihoidliku päris märkimisväärset kasu ja annab siis just nimelt ma julgen väita ka seda et näiteks nii Soomes kui Rootsis on selline ühistuline majandamine toiduainete ja\n",
      "igapäeva kauba osas see mis on ja kui muudele kettidele tugevat konkurentsi pakub ja need ühistud on tugevad et tugevad ühistud on loonud osaühinguid aktsiaseltse teistesse riikidesse Eestisse sealhulgas loomulikult hinnad ei toimu enam üldse\n",
      "külastate kauplus Prisma mis on tore toiduainete kauplus mis kuulub Soome\n",
      "palve tühistada siis sellega saab toetada Soome tarbijad jah aga kahjuks mitte Eesti ta hüppas see on huvitav ja see et ega fenomen on suurepärane mida peaks põhjalikumalt uurima minu meelest ma olen ammu mõelnud et see et ega mille liikmeks tegemist on võimalik astuda ka juhtimises kellel ei ole võimalik sõna sekka öelda\n",
      "see on aga eduloost ja ja selle nii-öelda negatiivsest tulevast maa on võib lugeda üsna palju Eesti Ekspressi arhiivist kus on sees\n",
      "et palju kirjutatud aga ega seal muud pole kui te koolitükke sisemiste küsitlemist ja kahtlemata inimliku ahnusega minevast midagi ei saa teha sellepärast\n",
      "tulid inimesed kes arvas et neid ei peaks kuulama rohkem ja teised arvasid täpselt seda viimasel ajal Tallinna teise\n",
      "nende omavaheliste tülide kaupa ei suudetud kaudu ei suudetud lihtsalt jagada seda platsi mis neile suhteliselt nii-öelda muretult kätte kukkus et need ja need inimesed kes olid ette ka seda et\n",
      "et nad ei näinud nad ei pidanud tegema töödega töödega vaeva nägema selle nimel et siis selline organisatsioon ülesehitus oli Nõukogude ajast jäänud selline monstroosne\n",
      "konglomeraat ise kokku selle kätte ja siis nad imestasid mis pärast teised kettidest mööda kirjutab\n",
      "ja ja uus neljanda ideedega vaid EMT Eesti moondus koosneb\n",
      "mul on väga hea äri sest\n",
      "seal on eriline selle tegija puhul on käinud täna majandavad ennast päris toredasti et et samas ma mõtlen et see on nagu tarbijate ühistu\n",
      "ma mul on maakodu on Puka lähedal ja seal on puhas on tore et ega portselan ilusti ära remonditud viimasel ajal ja kenamaks tehtud ja kaubavalik on suhteliselt talutav aga iga kord kui ma sinna lähen siis keset suve näiteks ma tahaksin ustavus nüüd kohaliku tomatid kurk\n",
      "või on midagi mis on siis kohalike tootjatega kes aga võiksid olla selle tarbijate ühistu liikmed ja no seda ei ole moraalselt ikka niisugust kergete pleki alla\n",
      "poolt Poola tomatid ja rahul toonase kohalik kaup on kõige viimane asi\n",
      "naisena bioloogiast naabrite tegelased oma kala peavad veel ei ole niisamasugune vastab käib suviti\n",
      "tema asendaja jääks see eks eks ja keegi selle väga suures koguses viidi kasvatada selle sõna sõnaselgelt ma näen et on vaja kasutada kohalike elanikega ja mul on väga hea väga jääb kõige pärinevad sõnul tahab erinevalt sinust sama tegi sulle ei anta seal\n",
      "nii aga siinkohal kaheksa päeva\n",
      "keskpäevatund jätkab Tartus on Hannes Astok Tallinnas Aleksandri pidu on ikka räägime siis edasi Edgar Savisaar suurlaenudest et see on üks teema mis mis ajakirjandust muudkui huvitab ja huvitav huvitav mitte ainult ajakirjanduses vaid ka igasugust asutusi näiteks prokuratuuri ja võib-olla siis edasise kohta\n",
      "jah ja ei pea ma vaatan salajase kuulaja neljandal katsel küsivad nad ja\n",
      "ja nüüd siis need prokurör ning Põhja ringkonnaprokuratuur alustas kahe tuhande esimese kahe tuhande üheteistkümnendal aastal on kriminaalmenetluse rahapesu tunnustel ja\n",
      "ja selle mingisugust selgust kogu sellesse loosse peaks siis toome nüüd see et oma advokaadi saatel linna Tallinna linnapea Edgar Savisaar taas uus saja seitsme kolme tuhande viiesaja viiekümne euro suuruse laenu selle aasta alguses ilmunud raamatud Eestis kirjutamises saadud honorarid noh ütleme tuleb\n",
      "et raha Narva linnapeale tuleb\n",
      "tuleb õnne soovida sellepärast et sellist Zahar sellist kõigi aegade või palju eestlased siin siis viibinud on viie tuhande aasta jooksul on kümned tuhanded meeleavaldajate selle aja kestel kirjutanud kümned sel ajal üheksakümmend ja suure noh seda seda me kindlasti ei tea aga\n",
      "aga ma arvan et kümne tuhande aasta kus on see kõige suurem honorar mis on siis nii väikese raamatu siis oleks nii väikese rahaga ega pole imestada selles mõttes et\n",
      "et ega me ju näeme me näeme ühte teist fenomeni kuidas kahe erakonna osad on teineteise vastu täiesti vabalt vahetatavad ehk ütleme Reformierakonna osadega on võimalik täiendada Keskerakonda Keskerakonna osadega Reformierakonda\n",
      "ehk need organisatsioonid ongi nagu sarnased ja tegelikult juba pikka aega võib jälgida seda kuidas et Edgar Savisaar liigub täpselt samasuguse nii-öelda hapra piiri peal nii nagu teine võimuerakond ees et ega minul ei ole nagu võimalik\n",
      "vaadata oluliste näha olulist erinevust Edgar Savisaare toimingus ja näiteks ütleme\n",
      "toimingust nii palju kui sellest lugeda on olnud kontekstis siis autor olla ja riigi sihtasutus KredEx et\n",
      "et KredEx jaoks on ilmselt täiesti tavatu tehing toetada mingisuguse ettevõtte üle võtta\n",
      "et mis ma arvan et see on kogu nende ajaloo jooksul ainukene selline tehing mis tehtud on täpselt samamoodi nagu näiteks loobus makstes ära Šveits pangale me selle tehinguga tekkinud kohustuse loobus ta seda nõuet nõudmast ettevõtte käest mis võlgu oli\n",
      "just selle võla mõne tuhande euro eest ja ega need toimingud on ju täiesti rööbiti täpselt sarnased teiselt ühte vajab nii-öelda Savisaar oma teadmata kus\n",
      "pärit rahastajatele ka teist nii-öelda riigivõimuga seotud isikud kasuks\n",
      "kuidas selleks keegi asub\n",
      "edust või riigi sihtasutuste selles mõttes nii-öelda kui tänases mingis kommentaaris oli lugeda Jürgen Ligi noh ma arvan et teeseldud imestust selle üle et vaat\n",
      "tuhat mida Savisaar teeb tema enda ministeeriumi kantslerit tema enda erakonnakaaslane ja kes kõik veel istuvad sellessamas KredExi nõukogus mis täiesti rahulikult sadu tuhandeid eurosid nii-öelda raha maha kannab ja\n",
      "mitte midagi ei juhtu ehk nii-öelda nii-öelda see kuidas kahe organisatsiooni meetmed kriminaalselt kust mina tean kas need on kriminaalsed mitte ka sellised\n",
      "pehmelt öeldes kummalised toimingud nagu rööbiti kulgevad selles on mida vaadata ma usun et nii-öelda et täpselt samal moel samadel põhjustel miks ei juhtu midagi KredExi ja ja ja kõnealuse nii-öelda autoettevõte\n",
      "laenudega ja probleemidega tõenäoliselt nüüd viib õigus et kaitse järelvalvega oma hambad sellesama Savisaare kaasuse puhul\n",
      "nii ja\n",
      "nagu huvitav paralleel aga nii see on juba tegelikult kunagi viie üheksakümnendate aastate keskpaigas kui sai tehtud ühte huvitavat statistikat kuidas rööbiti käisid avalikkuse ette tulnud nime all\n",
      "ta avaliku võimu väärkasutused sellega kuidas pärast seda kasvas näiteks nii-öelda et liiklus või noh ütleme siis väärtegude hulk ehk et et tegelikult tegelikult me avalik võim ja avaliku võimu tegelased sellise\n",
      "räpaka ja natuke veidra käitumisega ja selle ilmsikstulekuga tekitavad tegelikult olukorra kus inimesed löövad käega Ma ei ütle et need nii-öelda KredExi ja Savisaare käitumine nagu rööviti on olnud põhjuseks miks me siin mõned päevad tagasi nägin meedias mingisugust hulljulged\n",
      "motorollerit juhti kes politsei autodest ja jooksis aga teatav selline mentaalne seosed ja see tavakodaniku tasemel seaduskuulekusega ja ja nende pettustega mida me näeme ilmset\n",
      "et on olemas on vaja\n",
      "kui nüüd tagasi tulla selle Edgar Savisaare laenu asja juurde nende honorarid juurde siis\n",
      "siis igal juhul on see uus asi väga põnev ses mõttes et kõik vastased on väga põnev ja et vaadates neid selgitusi mida siis keegi advokaat tema advokaat on jaganud et see tõepoolest et\n",
      "mingil ajal võetud midagi kustutada doonori saadud näiteks kõike väga usutav ei tundu et see võib olla nagu juriidiliselt korra\n",
      "et me kuidagi kellegi on tõepoolest tohutu honorar välja makstud jaanuar peaksid oludes kajastama järjekordse\n",
      "üks on aga selge partei sada kohta mis seal oli miks näiteks riigis ja kasutatavad aga räägime võlad algas et asi on sama asja erinevad küll et see ei olnud enese üle\n",
      "ja inimeste ma ei ole öelnud et me selle teise asja üleeile\n",
      "tavaliselt nad seda väiksem on ka sellest ühest asjast rääkida nüüd ja et et noh niisugustesse niisugustel juhtumitel kui on tipp-poliitikud on asjasse segatud ja väga suured rahad liiguvad ja mis nagu ületavad väga selgelt tavapäraseid\n",
      "et tavapäraseid numbreid noh näiteks seesama et kui sisse raamatu honorar tõepoolest peaks olema sada seitsekümmend kolm tuhat eurot millele me sinna jõudsime imestada siis siis see tõepoolest ei tundu tegelikult ühelgi terve mõistusega inimesele kuus ja ja siis ikkagi jääb ülesse küsimus et kas see\n",
      "kas see kas see raha on tegelikult see millest räägitakse selle nimega selle põhjuseks raamatu honorar või on see kõik midagi muud ei mingite muude teenuste teenuste teenete või tegemiste või tegematajätmiste eest saadud et selles mõttes\n",
      "ja ma saan aru küll et Edgar Savisaare valija üldse eriti nagu ei huvita sest nende jaoks on esiteks summad liiga suured et sellest aru saada ja teiseks teiseks nad on harjunud et\n",
      "jumal võib kõike teha aga\n",
      "aga milliste huvitab tõepoolest see et kui kui see piir nagu on kus niimoodi rahvast ja inimesi võib lollitada ja kõik sellega kui suur see on minu jaoks nagu tesaurus aga see ei ole mingisugune Keskerakonna mingi monopol rahvustrollid ei ei seda ma ei ütle aga lihtsalt et et aga kuidas üks isik nagu oma\n",
      "oma nende rahaasjadega mis sest et see on järjekordselt tegin närida\n",
      "et noh ütleme et saigi sada seitsekümmend kolm tuhat viissada viiskümmend eurot raamatu eest honorari esimene\n",
      "usume me peame leppima et see mis toimub Tallinna linna see mis toimub natukene juba riigis pikemat aega on üks väga ilus ja hästi korraldatud näitemäng selles mõttes et nii-öelda näitejuhtidele kui näitlejatele on selles mängus tagatud oluliselt parem sissetulek\n",
      "kui näiteks sellele samale no-teatriseltskonnale kes ükskord ju täiesti edukalt täpselt samasuguse neid\n",
      "mängu nimega suure Ühtse Eesti suurkogu edukalt maha mängis see paistis kõigile nii tõepärane et kohe-kohe kujutati et kuidas kuidas mingi erakond asutatakse et kes teab veel mida aga täpselt samade võtetega täpselt samasuguse noh nii-öelda tähelepanu hajutamise trikkidega ja\n",
      "millega kõigega veel valitsetakse sealhulgas nii Keskerakonda kui Tallinna linna kui kui kui tegelikult peaaegu kõiki\n",
      "tänaseid erakondi ja kohti kus nad võimust aga käia ka mis sellest mis nagu väljapääs ikkagi on et selles mõttes väljale leppida teine väljapääs on väljapääs on lihtsalt selles et nood noh ma ei oska öelda et\n",
      "sellel vargal alati valmisvahelised ala minul ei ole selle jaoks valdajale\n",
      "sest minul puudub selle jaoks valmis lahendus sellepärast et ma võin ju\n",
      "püüda ühe või teise mingisuguse moraali moraalifilosoofia järgi siin kui näppu vibutada aga tegelikult\n",
      "puudub selles osas nii-öelda väljapääs sellepärast et nii-öelda väljapääs noh ma võin oletada mis on väljapääs mis on mulle tundunud kogu aeg et see on väljapääs ja ja ma arvan et see ongi väljapääse on tegelikult sellesama nii-öelda\n",
      "ta rahvaalgatuse õiguse rahvahääletusõiguse võimalikult kiire ma saan aru et see on valus see on kõikidele nii-öelda võimul olevatele parteidele valus kuid rahvaalgatuse õiguse hääletusõiguse võimalikult kiire sisseviimine Eestis sellepärast et mingisugust muud nii-öelda päästerõngast lihtsalt ei ole\n",
      "ükski targutus sel teemal olgu ta ei jää keldrist või saunalavalt pärit\n",
      "et sellel teemal kuidas peaks paremini tegema ja milliseid kosmeetilisi muudatusi nii-öelda tekitama need lihtsalt ei toimi see on nagu selles mõttes\n",
      "siis endal aadrilaskmine ehk nii-öelda võim peab mingil imelikul moel ise end piirama arengu nimel noh tegelikult on ajaloos see fakt kunagi aset leidnud Šveitsis üheksateistkümnenda sajandi keskel kui tegelikult Šveitsi erinevad piirkonnad kant\n",
      "tunnid olid nagu omavahel päris suures tülis kaubanduslikel\n",
      "muudel võimu põhjustel ja seitse oli kodusõja lävel täiesti selge kodusõja lävel noh rikkus ei ole kogus on noh nii-öelda demokraatlikust traditsioonist väga pikalt ette\n",
      "ja ja see oli nende enese piitsutas nad nagu panid relvad maha ja muutsid oma põhiseadust sellisel moel et rahva hääl hakkas seal nii-öelda kajama ma näen et see olukord on umbes samasugune see nõuab nagu väga tugevat enesepiiramist väga lisatud käitumist noh\n",
      "ma saan aru väga moraliseeriv jutt aga ma lihtsalt ise ei näe ühtegi teist teed\n",
      "ja kui vaadata seda mis olid mis sellise noh nagu tavapäraste poliitiliste mehhanismide abil võib siis juhtuda et niisuguse küsida et mis mida siis tegema peaks on aga\n",
      "ega siin siis nagu meil on korduvalt öelnud Reformierakonna peaideoloogid et et\n",
      "et et võim on rahva käes ja kui tahate tahate nii-öelda paremat valitsust või paremat linnavalitsus kui praegu on ja mis seal siis vahet peaks olema et siis tõesti käsi vajutage või vahetage sellele nupule mis viib teie soovitud\n",
      "jõud siis võimule noh\n",
      "kui nüüd vaadata seda et millised\n",
      "et võimalus et noh nüüd on siis näiteks Reformierakonnal või IRLil et et välja tõsta Savisaare Keskerakonnaga konkurentsivõimelisi kandidaate või mingisugust struktuuri linna juhtimiseks siis peab ütlema et\n",
      "et mitte midagi pole näha üks küsimus kes on kaks probleemi üks probleem on see et\n",
      "nagu viimane on viimased paar aastat on näidanud\n",
      "ei ole enam olemas valgetega valged ja kollased valged punased valged rohelise ammugi mitteerakond on ühed erakonnad mis on kõik ühtemoodi hallid kõigil on omad luukered kapis või kolisevad ehk et enam ei saa tulla keegi valge särgi kus eeldustest uus erakond öelda et\n",
      "et nii meie oleme need kes teeb platsi puhtaks alati on võimalik küsida aga mis te seal miks ei teinud seda eelmise aasta üle-eelmise aasta jooksul ja\n",
      "teine on see et ei ole ka näha mitte mingisugust reaalset tegevus selleks et siis teiste erakondade poolt et üritada üritada Tallinnasse mingisugust\n",
      "et võimu tasakaalu muuta mitte midagi ei ei tõsiseltvõetavaid kandidaate Eerik-Niiles Kross minu lugupidamine meie kõige tuntuma või ütleme popluurel või staar luurele tuleks nii-öelda aga tema šansid Tallinna linnapeaks saada on ju tegelikult täiesti olemasolevate\n",
      "oleme ausad Tallinna linnas võiks kuhu päästa olukorra parem näitemäng kui see mida etendab Edgar Savisaar oma trupiga ehk et ehk et oleme ausad et siin nagu tavapärane nii-öelda poliitiline võitlus või tavapärane poliitiline konkurents enam ei saanud aga mitte mingit tulemust\n",
      "et siin on huvitav situatsioon Tallinna sellest et kui kõik teised jõudnud Edgar Savisaare vastu ma pean silmas sotside Isamaaliit ja Reformierakond või järel siis\n",
      "kokku paneksid ennast siis teoorias ja noh tuleksid ka välja üldse plaaniga üldse aktsiooniga sisse võiks oma valijaid mobiliseerida õige õige on sama hea loota nagu et ega peatub oma tajus esimest eks aga jah et kuna on juba näha et eks ole sotsid vajavad eraldi\n",
      "ega teised ei taha ja seal on oma põhjendus olemas valimistel alati öeldakse et kui see liiga palju tegeleb kokku leida tööd\n",
      "et enne kellega see kokku mängima hakkad siis näiteks see kes valis võib-olla IRL-i aga ütleb et kui nemad Reformierakonnaga võidavad või siis mina neid küll ei saa paljudest Marika Reformierakond siis ei olegi sellest midagi välja nii et et lame ma kardan et see lõpeb sellega\n",
      "Tallinnas lihtsalt suur hulk inimesi kes on nii-öelda positiivselt või kes võiks olla Edgar Savisaare vastu lihtsalt ei lähegi valima ja ja noh see see viisi visinal tuleb välja see plaan\n",
      "ainuke lootus on et keegi keegi võtab tõsiselt juba vaata üle poole sajandi tagasi Ameerikast matemaatikud on Fox nässi poolt nagu suletud\n",
      "tõsiasja et sellises olukorras kus tuleb mängida noh nii-öelda küllaltki keerukas situatsioonis annab kõige parema tulemuse kui need mängijad kes arvavad et nad on ühelt poolt teevad samme\n",
      "mis toetavad üksteist ja ja näss kes praegu peaks olema selline tubli kaheksakümne viie aastane vanahärra kelle eluloos on kõik\n",
      "kui seda just oma mõtlemisvõimega on jagu saanud ka oma küll\n",
      "nii raskest skisofreenia tõvest ja sellest tulenev ta täiesti sotsiaalselt välja tulnud no ma arvan et võib-olla oleks kasulik küsida kas vanahärra on valmis neid\n",
      "et eks nõustama veidikene selles osas mis on koostöö tähendus neid erakondi kes arvavad et nad lähevad nüüd igaüks eraldi võttes\n",
      "ühe vana näitejuhtide oma trupiga siit Tallinna linnapea\n",
      "lavalt minema peletama ja ja muideks näide on ju olemas meenutagem et seitse aastat tagasi kui Eesti valis eelmine kord presidenti teeninud üle-eelmine kord siis siis suutsid tegelikult et erakonnad ju seljad kokku panna leida ühise kandidaadi ehk siis Toomas Hendrik Ilves\n",
      "see võib olla olekski hea Tallinna linnapea kandideerivad Ojala selge ja minge küsige Kadriorus rääkis Ilves tuleb lahendada ära peamise probleemi mis ei ole seotud mu ja koos Tallinna linnaga\n",
      "aga aga jah et et see näide on olemas et tegelikult pandi alad kokku ei tekkinud igaüks oma kandidaati mängiti ühe kandidaadi peale saadi on napp aga kindel võit et ma ei tea minu meelest ei ole hilja aga ma millegipärast ei ole veel\n",
      "nojah see on see on kahtlemata kõik väga tore aga ma ei tea sellest midagi et see on minu meelest on on on praegu nii et sa võid kuskil kulisside taga või trellide taga või maal\n",
      "või või siis ka pühad peale kuulikindlas kambris haududa ükskõik missuguseid põnevaid poliitilisi plaane aga sel hetkel kui see kui see on see plaan sisaldab endas massilise\n",
      "et inimeste tuleku valimiskastide juurde eeldab seda et on olemas kriitiline mass inimesi kes soovivad sellise mängu kaasamine et kõik need plaanid võivad olla väga toredad aga nad jäävadki sinnasamasse kui neid juba kui neid\n",
      "diplomaat on juba piisavalt pikka aega et et inimesi mobiliseerida noh praegu on nagu rongid ammu läinud see on selge seisab see kes tahab et\n",
      "Tallinnas võim vahetub see seisab ühel platvormile peab ootama veel aastaid ja aastaid eks ole et on selge et on nii ja nii ametlikult kui poolametlikult on siis on liberaalse\n",
      "tööjõudu poolt selgelt väljunud rong Tallinnas on läinud mitte midagi teha ei ole nüüd jääb veel järgneb järgneb kuni ülejärgmiste kohaliku omavalitsuse valimised Tallinnas nii nagu on\n",
      "minu soovitus on veel nende loetud kuude jooksul siiski võtta nii palju vaevaks lugeda neid asju on kirjutanud on lugeda seda mille eest on antud talle Nobeli mitte matemaatika keemia mida teadupoolest välja antavaid majanduspreemia just nimelt\n",
      "ülikeerulistes olukordades toimetulekuks noh majanduspreemia sai selle eest et tema teooriat õnnestus kasutada väga edukalt turustamises ja ja ma arvan et nii-öelda\n",
      "nägi poolt tähele pandud on siiski pigem nii öelda loodusseadus kui mingisugune imelik nagu matemaatiline trikk mida väga sageli\n",
      "majanduspreemia saanud on teinud kas või näiteks tuletisväärtpaberite vallas või mis iganes ja hästi õpetus on selles mõttes hea õpetus et ega sellest ei saa üle ega ümber et kui on vaja määramatus situatsioonis saavutada olukord\n",
      "kus nii-öelda väidetavalt hea asja eest väidetavalt kahjuks ja sest teised soovivad seda head asja arutada ja see on tegelikult ainukene tee sellest Eesti ei saa üle ega ümber nii et ma\n",
      "minul kohalike valimistega ei ole mingit pistmist ka tulevikus tõenäoliselt ühtegi valimistega ka head soovitust on nagu Cicero ja siinkohal väike paus\n",
      "keskpäevatund jätkab ja kulutame saate viimase osa sellisele teemale kuidas elekter ja kõik muud head asjad meie elu järjest paremaks teevad näiteks elektriautod nagu me teame kust siis Eesti riik suure hulga elektriautosid\n",
      "mida siis jagati küll nii kohalikule omavalitsusele omavalitsuste sotsiaaltöötajad ja sotsid sotsiaaltöötajad jagati siis osaleks vist ja siseministeerium oli kasu\n",
      "elektrivaraste jälitamise kas see nii aga nende ikkagi kõvasti üle et siis tuli välja mõelda\n",
      "selle uustrükk ja nüüd me oleme kuulnud et riik on võtnud endale ette sellises erakonnas olnud tunni kaupa elektriautosid rentima mina mäletan oma ema juttu sellest kuidas suviti aegu oli ka kunagi eriti\n",
      "Tudelise Eestisse Nõukogude Liidus teha niisugust riiklikku auto rentimiseks nii-öelda lõppes suhteliselt õnnetult antud juhul on uudis muidugi omapärane selle kohta ehk riik kulutab seda kuidas ta on teinud esimese vägevaid\n",
      "ettevõtte selles vallas samal ajal on olemas Eestis vähemalt üks või mitu isegi ettevõtet mis on nii elektri kui hübriidautosid välja rentinud juba pikemat aega ja täpselt samamoodi tunni eest üles ehitanud süsteemi mis seal toimub\n",
      "ja olgu need autode kasutada olnud kuna mul nagu jooksvalt autot vaja ei ole siis enam-vähem sellisel moel ma oma sõiduvajadusega katta rentides siis pikemaks või lühemaks ajaks mingit sõidukit\n",
      "ja ja üllatav on see et noh see hind mida riik pakub on loomulikult täiesti selgelt dumping hind samamoodi võiks riik kasutada taksofirmasid ja mida iganes ja mille eest nad on seda et mis pagana värk see on kui siin üks kuulaja ka küsib et\n",
      "Riho Klettenberg nimelt et noh et kust siis tuleb nagu see tööviljakuse kasv siis mille poolest näiteks Soomest väga kõvasti maas olema siis tööviljakuse kasv ise kindlasti tulla sellest kui riik loob konkureerivaid ettevõtteid nii-öelda eraäridele\n",
      "tööviljakuse kassa tulla sellest kui nendele äridele luuakse nii-öelda head tingimused saada kapitali investeerida automatiseerimise uutesse süsteemidesse töö efektiivsuse see millesse iganes see kasvatab tööviljakus aga kindlasti kasuta tööviljakust kui see mida me näeme kus ka sellesama KredExi neid\n",
      "seal noh kes nii-öelda kannab maha ka tuimalt laenusid või loob mingisuguseid rendiettevõtteid või ka Estonian Airi näol või ka Eesti Energia näol\n",
      "kus nii-öelda kapitalimahutused tehakse kohtadesse kus põhimõtteliselt ei saa midagi tulemuslikku kasvama hakata\n",
      "jah need hinnad on muidugi soodsad ütleme ausalt ja kasutajal aga aga jah et\n",
      "et konkurentsi küsimused muidugi üles see on huvitav et Kredex tegi ise oma oma süsteemi et ma imestan et siin on vist mini Rein meenutan seda järeletegemine ka rohelisi autosid pakub Tallinnas ja Tartus mis on täitsa normaalsed et see on nagu sulgesid ja selgus et kokku oleks saanud panna kuidagipidi et neid asju teha\n",
      "aga ma arvan et seal on isegi nii autod käitutud et nende käest kes on selliseid süsteeme loonud ei ole vaevunud nii-öelda riigiasutus isegi küsima mitte et kuulge et meil on nüüd niisugune plaan et kas on mingisugune mehhanism millega me saaksime teie äri toetada ehk selline kõrvale ei teki\n",
      "peamine noh jälle et oleme nagu paratamatult situatsioonis kus Kredex teeb seda kõike oma nõukogu järelvalve all nõukogu järelvalve all mille nii-öelda liikmed\n",
      "noh peaksid olema justkui nagu vaba majanduse eest seisjad Rand\n",
      "pere rahandusministeeriumi kantsler\n",
      "sealhulgas riigiriigi presidendi kantselei juht ja keskmine kõik kuuluvad et ja ja tulemuseks on tegelikult see et kümne suhteliselt suhteliselt nagu nutune käkk mis ei etenda majandust mis lahendab tegelikult riigi probleemid\n",
      "ja ma ei imestaks kui nii-öelda selle ringi ettevõtte saatus on midagi samasugust nagu selle KredExi laenu tagamisega et see laen lihtsalt\n",
      "töökanti maha ja see ettevõte lihtsalt\n",
      "jälgitakse midagi nagu teil siin ei saa kindlasti nagu öeldud mustvalgelt üldsegi halb olnud selles mõttes et inimesed saavad elektriautosid proovida nendega sõita see on kõik väga tänu\n",
      "aga mida teevad inimesed kes on asutanud selle jaoks ettevõtete panustanud omal ajal ka bin Ladeni\n",
      "ja sama asja teha ei arvanud et et selles mõttes et tema sugulast pesuveega välja visata alates on juba ammu enne olemas kui riik tuli näol sünnitasin esimese lapse\n",
      "ei küsimus ei ole nüüd mitte autode rentimise küsimusele elektriautode proovida on selles et see on kindlasti tänuväärne et seda saab lihtsalt ja mõnusalt teha aga tõepoolest see konkurentsi küsimus jääb ülesse tegemisi mis väga palju rohkem ei saa\n",
      "ega meil lisada ei ole tõepoolest et\n",
      "lihtsalt osutuda selle tõsiasja peale et see õnnetus mida me kahjuks nagu näeme on kõikvõimalike riigi vahendite kuulutamine kohtadesse kus faktiliselt tegelikult\n",
      "eraettevõtluse meie konkurentsivõime eraettevõtluse tööviljakus ju lähtuvalt ei kasva kui me vaatame seda et ja riigil on võimalus tegelikult toetada ettevõtlust konkurentsivõime kasutamisel mis on täiesti ilmne et\n",
      "ei juhul kui seda ei tehta ei ole meil põhjust loota selle peale et kunagi lähitulevikus palgad kiiremini kasvama hakkavad ja nii edasi nii et nagu tegelikult nii-öelda selle riigiettevõtlus poliit\n",
      "nii-öelda küsimus on küllaltki fundamentaalne kas või näiteks selles kontekstis ja ja kas ja millistel aspektid on veel välja et näidata milline on seos seal välispoliitika Estonia need\n",
      "on saanud riigi käest noh suuri kingitusi need need kingitused on ühel või teisel moel seotud küsimusega et kas see on Euroopa Liidu poolt valitud või mitte on täiesti selge et osa välispoliitilist ressurssi kulutatakse selle peale et klubide siis Euroopa Komisjoni juures oli kõikvõimalikul moel selgitada miks just see panustamine on olnud väga kasulik\n",
      "riigi mastaabis tervikuna tööviljakuse kasvu mõjutab see väga vähe oluliselt rohkem mõjutaks tööviljakuse kasvu tõsiasi kui seesama Välisministeeriumi välisteenistused panustaksid selle siis nii-öelda meie enda ettevõtete toodang oleks kättesaadavam ostetud-müüdud\n",
      "et väljapoole raha toodud kõiki nii et noh ma näen lihtsalt seda kuidas tegelikult\n",
      "et selline noh natukene feodaalne ühiskonna ülesehitus eriti just suurte infrastruktuuri ettevõtete puhul tegelikult\n",
      "läksid majanduse arengut juba täna päris tugevalt\n",
      "räägime sellest et esimesest juulist Eestis Ida-Tallinna keskhaigla eriarstide tasuliste vastuvõttude hinda mis on ka üsna suurt vastukoht vastukaja leidnud\n",
      "et kui enne algasid eriarsti vastuvõtule neljateistkümnest eurost ulatusid üle seitsmekümne euro siis nüüd tuleb maksta kõvasti rohkem ja ja hind jääb viiekümne üheksakümne ühe euro vahele ma pean ütlema et see on väga soolane hind on päris mõnevõrra paremas tasemele\n",
      "tähendab need on juhtumid kus mul kokku siin ujulas ja\n",
      "käe peale tekkis mingisugune selline\n",
      "gangreen niinimetatud ja siis ei osanud ma sellega midagi peale hakata aga polnud siis varem või midagi taolist olnud läksin siis tasulise arsti juurde ma mäletan et toona maksis vist kakskümmend kakskümmend eurot ja ja\n",
      "ja siis väga meeldiv inimene kuulas mind ära rääkis minu südamlikult kõiki umbes minuti pool ütles et siin ei ole midagi teha et nad on jah see on ebameeldiv ma pean elu lõpuni sellega elama ja ja Aga kui tal oleks siin ruumis pärast juurde siis nad üritaksid makett sikutada nii et see asi kaoks ära aga\n",
      "see oleks ju kavalusega sellest pisut abi poleks sellepärast mida tuleb jälle tagasi\n",
      "ja maksin ära ei ole täna on\n",
      "no ja siis ja ja ja ma olin juba enne ära maksnud istusin seal see aga aga kuna see jutt kestis umbes poolteist minutit kuni siis ma leidsin et\n",
      "ma sain ikka oma rahast väga vähe siis endine vaikides edasi istuma ja arst küsis mu käest et mis teised masseerib kakskümmend eurot maksnud laske nüüd edasi\n",
      "et ega ta nüüd selle pooleteise minutiga et see on liiga vähe selle raha eest räägib edasi toetus on siis ausalt öeldes maksab siis\n",
      "me räägime et noh räägi ja selliseid ilmus ka välja siis ei ole jumal tänatud ilmneb Ungaris ära nagu tavaliselt ikka et ainus ravim ennast ise eks ole hakkama saanud aga on õppetund oli mul nagu suur\n",
      "aga võib-olla haigus kadus kisast ära et seal oli võimalik oma rahakoti kahekümne eurone tegelikult arst tajus seda et nii-öelda haigla ja hoidis mind nagu ütlevad soomlased see ehitus on mitte venekeelne laenud soomlased kes olid\n",
      "puhas pettumus et võetakse raha räägitakse poolteist minutit mitte milleski saadetakse ukse taha et nüüd\n",
      "töö ja küll ka video näitab seda et kui lennuväljalt saab seda peaaegu sajaeurost täpselt seda samalaadne asi\n",
      "see on ju jälle küsimus minu meelest selles samas nagu meditsiinikorralduses ehk et\n",
      "et midagi peab ju olema koht selle tegevusvaldkonna ülesehituses natukene nihkes et nii-öelda samad arstid praegu ka samades haiglates agul pakuvad nii-öelda era ja millised mitte öelda aga samas ka abi ja samas kabinetis ehk et nagu küsimus on lihtsalt see\n",
      "see ei ole siiski siin tuleb olema ta täpselt sinna ei paku era ja riikliku et siin pakutakse haigekassa raha eest ja siin oma raha eest ega raha saab seda vaid laienes arstide sõnumit\n",
      "see küsimus et nii-öelda ma arvan et nii-öelda see hetk on veel saabunud nagu neid varasemal ajal saabunud küsida tegelikult lihtne küsimus et kas meil on jaksu Eestis ülal pidada niivõrd palju maakondlikke haiglaid kus me eeldame kõikvõimalikke teenuseid kas ei oleks lihtsam mitte ülesehitus\n",
      "seda nii-öelda korraliku haiged transpordivad\n",
      "kuid mis peamine küsimus kelle käes peaks olema enamus haigekassarahadest kas nad peaksid olema haiglad kes ütlevad et nad pakuvad teenuseid või hoopiski me peaks mõtlema umbes samamoodi nagu on tehtud perearstide puhul teha ka eriarstide puhul et eriarsti meeskonna või ettevõtte või nimetame seda\n",
      "noh kuidas iganes ühisuse või kelle iganes käes on see raha millega tehakse siis nii-öelda eriarstioperatsioone toiminguid ravi\n",
      "protseduur ja nii edasi nii edasi just nimelt arstidest pannakse kokku haigla arstid pakuvad haiglale oma lepingutest mingisugust osa haigla pakub nii-öelda mingi\n",
      "baasinfrastruktuur ja baasteenuseid ei tekiks olukord kus nii-öelda arst saaks tegelikult vastu\n",
      "saada oma töö kvaliteedi hea nime eest lõpuni täna tegelikult nii-öelda arsti vastutus lõpeb üsna pea ära ta teeb oma üksiku protseduuri tal ei ole selle haigega nagu pikemalt pistmist ja tegelikult me näeme ka seda et arstid lähevad ju nad lähevad Soome või Rootsi\n",
      "need lähevad paremini korraldatud nii-öelda haiglatesse parema töökorraldusega haiglatesse nad on suutelised tegelikult seda siin ka ise tegema mida\n",
      "kurb küll aga Eesti haiglate juhtkonnad ei ole suutelised organiseerima\n",
      "ehk et võib-olla oleks möödapääsmatu just selline radikaalne muutus öelda et ei haigekassa lepingu saajaks on tegelikult arst oma meeskonnaga ta peab seda sellistel ja sellistel tingimustel tõestamata peab tagama selle kvaliteedi ja selle kvaliteedi saab tagada noh näiteks haigla kaudu nentides et ruumi võimalusi ja mida iganes\n",
      "see oli Ida-Tallinna keskhaigla avalike suhete suhtuti avalike suhete juht on seal Tallinn-Tallinn ja tema on kõrgem vastutus on suur tung on eriti tunnustatud spetsialistide juurde ja see on tõepoolest nii et pärast\n",
      "et pikki selgitusi ja ja ja jututeemadel et häid eriarste on vähe\n",
      "ja et kuidas siis mujal Euroopas ongi normaalne ma minu meelest selline väide nagu noh rääkida et mujal Euroopas on normaalne see jätab sellise mulje et me oleme mujal Euroopas me ise nagu ka mujal Euroopas selles mõttes et see ei ole nii et aga läänes NIME nendest\n",
      "et tegelikult on on loomulikult see et põhjused\n",
      "et haigekassaga on lepingu maht mis määrab vastutada arvu aga aga seda teades on see süsteem tundub selline täiesti Esteban on minu meelest ebanormaalne et minu meelest et see teeks see haiglatele selline\n",
      "selline temaatikat et väga suures väga suures ulatuses kahju minu meelest noh ütleme arstide arstide streik kus siis palgatõusu suurus oli oligi ulatus kuskil kahekümne protsendini Madis kümme koma\n",
      "kui ma ei eksi võib-olla ma eksin on ju suhteliselt värskelt veel nii-öelda kõigil lihas mälus ükskõik siis milline kellegi arvamus sel teemal oli\n",
      "ja nüüd kuna paaripäevast kuulsin raadiost taas sedasama lauset et on arstide palgad nõuavad tõstmist siis on nagu kergelt\n",
      "et tõepoolest kihvatas sees\n",
      "siin jällegi vaatamiseks küsimustki lihtsalt küsimus on selles et selle struktuuri enda ebaefektiivsus haiglate rohkus ja tegelikult usaldamatus mitu aastat suhtes on üles näidatud ongi\n",
      "kujunenud probleemi allikaks ehk et mõne kuu selleks et seda probleemi lahendada\n",
      "tuleb muuta maastiku vaieldamatud professionaalid kes on suutelised oma töö kõik toime tulema kes osutus hoidma enda juures saab ju raha olemasolul ei õdesid kui abipersonali oma vajaduste katmiseks ehk ka patsiendi vajaduste katmiseks\n",
      "on minu meelest need kellega tuleb tegeleda ei kaasata nad nii-öelda aktiivselt selles majandusprotsessid nimega ravimine\n",
      "ja ma ei ole selles väga veendunud et seda võib-olla päris võimalik on et südamearst et nagu tuleb oma meeskonnaga ütleb haiglale et ma siin natuke võtaksid teenuste nii ja naa\n",
      "sõnaga ei jõua on tänasel päeval välja kujunenud täpselt nii-öelda professionaalse haisevad ja ja selle\n",
      "ja siinkohal ja meelsus katki sellepärast et saada on lõppenud ja täname kõiki rääkimast et kõiki kes imiku last rohkem\n"
     ]
    }
   ],
   "source": [
    "for sentence in sentences_untagged:\n",
    "    print(sentence.text)\n",
    "    break"
   ]
  },
  {
   "cell_type": "markdown",
   "id": "123c2a45",
   "metadata": {},
   "source": [
    "### III Süntaksianalüüsi kihiga lausete salvestamine"
   ]
  },
  {
   "cell_type": "markdown",
   "id": "f68cf242",
   "metadata": {},
   "source": [
    "Laused, millele õnnestus märgendada peale süntaksianalüüsi kiht salvestatakse andmebaasis:"
   ]
  },
  {
   "cell_type": "code",
   "execution_count": 27,
   "id": "feee368f",
   "metadata": {},
   "outputs": [],
   "source": [
    "con = sqlite3.connect(\"media_data_complete.db\")\n",
    "cur = con.cursor()"
   ]
  },
  {
   "cell_type": "code",
   "execution_count": 28,
   "id": "ee9e3492",
   "metadata": {},
   "outputs": [
    {
     "data": {
      "text/plain": [
       "<sqlite3.Cursor at 0x22dce44aec0>"
      ]
     },
     "execution_count": 28,
     "metadata": {},
     "output_type": "execute_result"
    }
   ],
   "source": [
    "cur.execute(\"CREATE TABLE sentences_syntax_analysis(ID INTEGER PRIMARY KEY, sentence_ID INTEGER, sentence TEXT)\")"
   ]
  },
  {
   "cell_type": "code",
   "execution_count": 30,
   "id": "490e54c0",
   "metadata": {},
   "outputs": [],
   "source": [
    "for i in range(len(sentences)):\n",
    "    if sentences[i] not in sentences_untagged:\n",
    "        sentence_json = text_to_json(sentences[i])\n",
    "        cur.execute(\"\"\"INSERT INTO sentences_syntax_analysis\n",
    "                                (sentence_ID, sentence)\n",
    "                                VALUES (?, ?);\"\"\", (sentence_ids[i], sentence_json))\n",
    "    con.commit()"
   ]
  },
  {
   "cell_type": "code",
   "execution_count": 31,
   "id": "b293a97a",
   "metadata": {},
   "outputs": [],
   "source": [
    "con.close()"
   ]
  }
 ],
 "metadata": {
  "kernelspec": {
   "display_name": "Python 3 (ipykernel)",
   "language": "python",
   "name": "python3"
  },
  "language_info": {
   "codemirror_mode": {
    "name": "ipython",
    "version": 3
   },
   "file_extension": ".py",
   "mimetype": "text/x-python",
   "name": "python",
   "nbconvert_exporter": "python",
   "pygments_lexer": "ipython3",
   "version": "3.10.11"
  }
 },
 "nbformat": 4,
 "nbformat_minor": 5
}
