{
 "cells": [
  {
   "cell_type": "markdown",
   "id": "af0873bb",
   "metadata": {},
   "source": [
    "## Nimeüksused lausetes"
   ]
  },
  {
   "cell_type": "code",
   "execution_count": 1,
   "id": "4dd1f534",
   "metadata": {},
   "outputs": [],
   "source": [
    "# Vajalikud impordid\n",
    "from estnltk import Text\n",
    "import sqlite3\n",
    "from estnltk.converters import json_to_text\n",
    "from estnltk.converters import text_to_json\n",
    "from collections import Counter\n",
    "import itertools\n",
    "import csv\n",
    "from copy import deepcopy"
   ]
  },
  {
   "cell_type": "markdown",
   "id": "55f3556f",
   "metadata": {},
   "source": [
    "### I Andmete sisselugemine andmebaasist"
   ]
  },
  {
   "cell_type": "markdown",
   "id": "375c6372",
   "metadata": {},
   "source": [
    "Tühi järjend lausete jaoks:"
   ]
  },
  {
   "cell_type": "code",
   "execution_count": 2,
   "id": "69ae09ad",
   "metadata": {},
   "outputs": [],
   "source": [
    "corpus = []"
   ]
  },
  {
   "cell_type": "markdown",
   "id": "0a794f52",
   "metadata": {},
   "source": [
    "Tühi järjend lausete ID-de jaoks:"
   ]
  },
  {
   "cell_type": "code",
   "execution_count": 3,
   "id": "f290eef6",
   "metadata": {},
   "outputs": [],
   "source": [
    "sentence_ids = []"
   ]
  },
  {
   "cell_type": "markdown",
   "id": "9753178f",
   "metadata": {},
   "source": [
    "Andmebaasist loetakse sisse laused, mis sisaldavad mõnda NerTaggeri poolt peale märgitud nimeüksust:"
   ]
  },
  {
   "cell_type": "code",
   "execution_count": 4,
   "id": "20f80a33",
   "metadata": {},
   "outputs": [],
   "source": [
    "con = sqlite3.connect(\"media_data_complete.db\")\n",
    "cur = con.cursor()"
   ]
  },
  {
   "cell_type": "code",
   "execution_count": 5,
   "id": "427644f4",
   "metadata": {},
   "outputs": [],
   "source": [
    "for row in cur.execute(\"SELECT ID, sentence FROM sentences WHERE named_entity = 1\"):\n",
    "    sentence_id = row[0]\n",
    "    sentence = json_to_text(json_text=row[1])\n",
    "    corpus.append(sentence)\n",
    "    sentence_ids.append(sentence_id)"
   ]
  },
  {
   "cell_type": "code",
   "execution_count": 6,
   "id": "ebb8b3b9",
   "metadata": {},
   "outputs": [],
   "source": [
    "con.close()"
   ]
  },
  {
   "cell_type": "code",
   "execution_count": 7,
   "id": "ac68c3d7",
   "metadata": {},
   "outputs": [
    {
     "data": {
      "text/plain": [
       "39314"
      ]
     },
     "execution_count": 7,
     "metadata": {},
     "output_type": "execute_result"
    }
   ],
   "source": [
    "len(corpus)"
   ]
  },
  {
   "cell_type": "markdown",
   "id": "a8cfcff3",
   "metadata": {},
   "source": [
    "### II Nimeüksuste korrigeerimine"
   ]
  },
  {
   "cell_type": "markdown",
   "id": "0c8024a4",
   "metadata": {},
   "source": [
    "Vaatame üht lauset ja selle nimeüksusi:"
   ]
  },
  {
   "cell_type": "code",
   "execution_count": 10,
   "id": "6f5470be",
   "metadata": {},
   "outputs": [
    {
     "name": "stdout",
     "output_type": "stream",
     "text": [
      "LOC ['Tartus'] Tartus\n",
      "ORG ['Rein'] Rein\n",
      "LOC ['Tallinnas'] Tallinnas\n",
      "PER ['Hans'] Hans\n",
      "ORG ['H'] H\n"
     ]
    }
   ],
   "source": [
    "for ner in corpus[0].ner:\n",
    "    print(ner.nertag, ner.text, ner.enclosing_text)"
   ]
  },
  {
   "cell_type": "markdown",
   "id": "d0039896",
   "metadata": {},
   "source": [
    "NerTagger võib olla teinud vigu, näiteks märkinud isikunime asukohaks, asukoha organisatsiooniks jne. Siin katsetatakse lihtsakoelist lahendust, mis ei korrigeeri kindlasti kõiki selliseid vigu, kuid võib nende vigade hulka vähendada. Nimelt loetakse kokku eri nimeüksuste esinemised kõigis liikides. Kui nimeüksus esineb rohkem kui ühes liigis, loetakse õigeks liigiks see, milles tema esinemissagedus kõige suurem on. Kui esinemissagedused on eri liikides võrdsed, ei tehta aga praeguses etapis midagi.\n",
    "\n",
    "Esiteks luuakse tühjad järjendid nii isikunimede, organisatsiooninimede kui asukohanimede jaoks:"
   ]
  },
  {
   "cell_type": "code",
   "execution_count": 11,
   "id": "28793149",
   "metadata": {},
   "outputs": [],
   "source": [
    "entities_PER = []\n",
    "entities_ORG = []\n",
    "entities_LOC = []"
   ]
  },
  {
   "cell_type": "markdown",
   "id": "09521a26",
   "metadata": {},
   "source": [
    "Seejärel käiakse läbi kõik korpuses olevad laused ja lisatakse nimeüksused järjenditesse vastavalt nende liigile:"
   ]
  },
  {
   "cell_type": "code",
   "execution_count": 12,
   "id": "87403a6c",
   "metadata": {},
   "outputs": [],
   "source": [
    "for sentence in corpus:\n",
    "    for ner in sentence.ner:\n",
    "        lemmatized_ner = [word.lemma[0] for word in ner]\n",
    "        if ner.nertag == 'PER':\n",
    "            entities_PER.append(' '.join(lemmatized_ner))\n",
    "        elif ner.nertag == 'ORG':\n",
    "            entities_ORG.append(' '.join(lemmatized_ner))\n",
    "        else:\n",
    "            entities_LOC.append(' '.join(lemmatized_ner))"
   ]
  },
  {
   "cell_type": "code",
   "execution_count": 13,
   "id": "a7c187af",
   "metadata": {},
   "outputs": [
    {
     "data": {
      "text/plain": [
       "28303"
      ]
     },
     "execution_count": 13,
     "metadata": {},
     "output_type": "execute_result"
    }
   ],
   "source": [
    "# kui palju on isikunime märgendi saanud üksusi\n",
    "len(entities_PER)"
   ]
  },
  {
   "cell_type": "code",
   "execution_count": 14,
   "id": "46a9836d",
   "metadata": {},
   "outputs": [
    {
     "data": {
      "text/plain": [
       "20147"
      ]
     },
     "execution_count": 14,
     "metadata": {},
     "output_type": "execute_result"
    }
   ],
   "source": [
    "# kui palju on organisatsiooninime märgendi saanud üksusi\n",
    "len(entities_ORG)"
   ]
  },
  {
   "cell_type": "code",
   "execution_count": 15,
   "id": "b4b85fcf",
   "metadata": {},
   "outputs": [
    {
     "data": {
      "text/plain": [
       "37524"
      ]
     },
     "execution_count": 15,
     "metadata": {},
     "output_type": "execute_result"
    }
   ],
   "source": [
    "# kui palju on asukohanime märgendi saanud üksusi\n",
    "len(entities_LOC)"
   ]
  },
  {
   "cell_type": "markdown",
   "id": "9980a3d7",
   "metadata": {},
   "source": [
    "Seejärel tuleb tekitada kõigi nimeolemiliikide sagedusloendid:"
   ]
  },
  {
   "cell_type": "code",
   "execution_count": 16,
   "id": "8bf5680a",
   "metadata": {},
   "outputs": [],
   "source": [
    "entities_PER_lower = [name.lower() for name in entities_PER]\n",
    "entities_ORG_lower = [name.lower() for name in entities_ORG]\n",
    "entities_LOC_lower = [name.lower() for name in entities_LOC]"
   ]
  },
  {
   "cell_type": "code",
   "execution_count": 17,
   "id": "e10dd005",
   "metadata": {},
   "outputs": [],
   "source": [
    "frequencies_PER = Counter(entities_PER_lower)\n",
    "frequencies_ORG = Counter(entities_ORG_lower)\n",
    "frequencies_LOC = Counter(entities_LOC_lower)"
   ]
  },
  {
   "cell_type": "code",
   "execution_count": 18,
   "id": "47539af2",
   "metadata": {},
   "outputs": [
    {
     "name": "stdout",
     "output_type": "stream",
     "text": [
      "PER\tORG\tLOC\n",
      "('priit hõbemägi', 732) ('keskerakond', 2286) ('eesti', 10696)\n",
      "('edgar savisaar', 717) ('reformierakond', 2075) ('tallinn', 2894)\n",
      "('savisaar', 648) ('riigikogu', 1540) ('euroopa', 1680)\n",
      "('siim kallas', 439) ('irl', 1042) ('venemaa', 1461)\n",
      "('jüri ratas', 416) ('postimees', 594) ('tartu', 1098)\n",
      "('ainar ruussaar', 415) ('nato', 438) ('soome', 933)\n",
      "('mart luik', 334) ('euroopa liit', 335) ('euroopa liit', 759)\n",
      "('ansip', 303) ('keskpäevatund', 266) ('eesti vabariik', 662)\n",
      "('hannes astok', 257) ('eesti energia', 244) ('vene', 574)\n",
      "('jürgen ligi', 253) ('tallinn sadam', 205) ('läti', 496)\n"
     ]
    }
   ],
   "source": [
    "#Kümme sagedasemat isiku-, organisatsiooni- ja asukohanime\n",
    "print('PER' + '\\t' + 'ORG' + '\\t' + 'LOC')\n",
    "for (per, org, loc) in itertools.zip_longest(frequencies_PER.most_common(10), frequencies_ORG.most_common(10), frequencies_LOC.most_common(10)):\n",
    "    print(per, org, loc)"
   ]
  },
  {
   "cell_type": "markdown",
   "id": "8a983332",
   "metadata": {},
   "source": [
    "Luuakse uued tühjad järjendid isiku-, organisatsiooni- ja asukohanimede jaoks, mida võib hiljem kasutada nimede mugavaks andmebaasi lisamiseks."
   ]
  },
  {
   "cell_type": "code",
   "execution_count": 19,
   "id": "6cc32805",
   "metadata": {},
   "outputs": [],
   "source": [
    "entities_PER_new = []\n",
    "entities_ORG_new = []\n",
    "entities_LOC_new = []"
   ]
  },
  {
   "cell_type": "markdown",
   "id": "617d2efe",
   "metadata": {},
   "source": [
    "Sagedusloenditest tehakse koopiad, sest originaalloenditest hakatakse üksusi eemaldama:"
   ]
  },
  {
   "cell_type": "code",
   "execution_count": 20,
   "id": "c1fd4a84",
   "metadata": {},
   "outputs": [],
   "source": [
    "frequencies_PER_copy = deepcopy(frequencies_PER)\n",
    "frequencies_ORG_copy = deepcopy(frequencies_ORG)\n",
    "frequencies_LOC_copy = deepcopy(frequencies_LOC)"
   ]
  },
  {
   "cell_type": "markdown",
   "id": "46632078",
   "metadata": {},
   "source": [
    "Tühi järjend nimeüksustele, mis esinevad rohkem kui ühes klassis võrdsel määral:"
   ]
  },
  {
   "cell_type": "code",
   "execution_count": 21,
   "id": "5bc6bd5b",
   "metadata": {},
   "outputs": [],
   "source": [
    "equal_occurrences = []"
   ]
  },
  {
   "cell_type": "code",
   "execution_count": 22,
   "id": "5232af48",
   "metadata": {},
   "outputs": [],
   "source": [
    "#Kas isikunimede hulgas olevad nimed leiduvad ka organisatsiooni- või asukohanimede hulgas:\n",
    "for name in frequencies_PER_copy.keys():\n",
    "    if frequencies_ORG_copy[name] > 0:\n",
    "        if frequencies_ORG_copy[name] > frequencies_PER_copy[name]:\n",
    "            #print(name, 'ORG:', frequencies_ORG_copy[name], 'PER:', frequencies_PER_copy[name])\n",
    "            del frequencies_PER[name]\n",
    "        elif frequencies_ORG_copy[name] < frequencies_PER_copy[name]:\n",
    "            #print(name, 'ORG:', frequencies_ORG_copy[name], 'PER:', frequencies_PER_copy[name])\n",
    "            del frequencies_ORG[name]\n",
    "        else:\n",
    "            equal_occurrences.append(name)\n",
    "                \n",
    "    if frequencies_LOC_copy[name] > 0:\n",
    "        if frequencies_LOC_copy[name] > frequencies_PER_copy[name]:\n",
    "            #print(name, 'LOC:', frequencies_LOC_copy[name], 'PER:', frequencies_PER_copy[name])\n",
    "            del frequencies_PER[name]\n",
    "        elif frequencies_LOC_copy[name] < frequencies_PER_copy[name]:\n",
    "            #print(name, 'LOC:', frequencies_LOC_copy[name], 'PER:', frequencies_PER_copy[name])\n",
    "            del frequencies_LOC[name]\n",
    "        else:\n",
    "            equal_occurrences.append(name)\n",
    "            \n",
    "#Kas organisatsiooninimede hulgas leidub nimesid, mis esinevad ka asukohanimede hulgas (isikunimesid pole vaja uuesti läbi käia):\n",
    "for name in frequencies_ORG_copy.keys():\n",
    "    if frequencies_LOC_copy[name] > 0:\n",
    "        if frequencies_LOC_copy[name] > frequencies_ORG_copy[name]:\n",
    "            #print(name, 'LOC:', frequencies_LOC_copy[name], 'ORG:', frequencies_ORG_copy[name])\n",
    "            del frequencies_ORG[name]\n",
    "        elif frequencies_LOC_copy[name] < frequencies_ORG_copy[name]:\n",
    "            #print(name, 'LOC:', frequencies_LOC_copy[name], 'ORG:', frequencies_ORG_copy[name])\n",
    "            del frequencies_LOC[name]\n",
    "        else:\n",
    "            equal_occurrences.append(name)\n",
    "            \n",
    "#Asukohanimesid pole vaja eraldi läbi käia, seal leiduvad duplikaadid kas isiku- või organisatsiooninimedest on juba tuvastatud.  "
   ]
  },
  {
   "cell_type": "code",
   "execution_count": 25,
   "id": "23443b85",
   "metadata": {},
   "outputs": [
    {
     "name": "stdout",
     "output_type": "stream",
     "text": [
      "{'saksa bundestag', 'taxify', 'kiisa', 'hong', 'coca-cola', 'breivik', 'vikipeedia', 'rotermanni', 'swedbankis', 'dudajev', 'paul-eerik', 'helsinki', 'enron', 'real', 'expo', 'mäkinen', 'riia riia', 'martin helmes', 'katainen', 'postimehes', 'camorra', 'matsin', 'donatra', 'boroditš', 'dante', 'epp tohver', 'midfield', 'hansson', 'harju', 'service', 'france', 'fifa', 'magnitsk', 'just', 'saara', 'l. ron', 'madison', 'dressen', 'abbas', 'berlingo', 'maarja vaino', 'sotši', 'muammar gaddaf', 'gatesi', 'tõnisson', 'vaikma', 'stolitsa', 'prada', 'tapa', 'loeb', 'kisel', 'napoleon', 'eerik', 'sik', 'vaba', 'nord streami', 'rooma', 'lemett', 'kukerpill', 'reinsalule', 'nissan', 'pr', 'warhol', 'rossi', 'honda crv', 'ecker', 'tel', 'uuber', 'ekre isamaa', 'nissan qashqai', 'kalev meedia', 'rain lõhmus', 'transparency', 'neeme raud', 'ekrest', 'alex', 'rose', 'vladimir svet', 'enef', 'balticconnector', 'sults', 'järvikule', 'tori', 'sotsiaaldemokraatlik', 'kreenholm', 'facebook facebook', 'jaan toomik', 'assad', 'rocca', 'kanut', 'sd', 'poopuu', 'donetski', 'isamaal', 'bulgakov', 'exel', 'nybit', 'barack', 'olari taali', 'pip', 'uku lee', 'kare', 'sony', 'new delhi', 'facebook twitter', 'bombardier', 'peda', 'sikorsky', 'kingole', 'ruja', 'salvador', 'rohke debelakk', 'twitteris', 'est', 'mustafa', 'kuusmaa', 'smilers', 'oudekk loone', 'eiffel', 'sal-saller', 'lõhmus', 'aidla', 'goya', 'vormsi', 'ojasoo ja semper', 'elering', 'kolga-jaan', 'nõgene', 'paulus', 'impa', 'leeds', 'kundla', 'silicon valley', 'praxis', 'neeme lall', 'asta', 'snowden', 'aeroflot', 'süvari', 'kanon', 'riisalul', 'taska', 'koppel', 'amazon', 'hollanne', 'ergma', 'ultima', 'bilbrauder', 'tudulinna', 'news', 'reagan', 'talvistu', 'nordikat', 'danzig', 'baer', 'parex', 'orlov', 'assadi', 'cisco', 'mazda', 'lemet', 'pika hermann', 'atlantic', 'rosneft', 'lufthansa', 'tartu irl', 'eckerö', 'tallinn varssavi', 'dilaila', 'jurmala', 'nelli', 'apotheka', 'paljassaar', 'antropov', 'pravda', 'sist', 'stalnuhhin', 'tamula', 'nordea', 'jürgen ligist', 'endla', 'body', 'boko haram', 'maša', 'jolanda', 'ekker', 'infortar', 'photoshop', 'märten rossi', 'sauber', 'galojan', 'laur laas', 'petteri', 'sweet', 'haap', 'erki berends', 'diena', 'stamin', 'olympicu', 'vaiko epliku', 'gulag', 'roonemaa', 'piotr', 'gazprom', 'skype', 'guantanamo', 'bergen', 'dombrovskis', 'pepe', 'mart', 'lasna', 'iivi', 'külliki kübarsepp', 'ekres', 'maakr', 'coop bank', 'majakovsk', 'mare', 'lux express', 'taani finantsinspektsioon', 'inger', 'miina', 'likudi', 'aleksander', 'georgia', 'stasi', 'tammjärv', 'opportunity', 'münchhausen', 'amsterdam', 'somelar', 'mose', 'izvestija', 'uruguai', 'sampo', 'sudaan darfur', 'timo soin', 'mooses', 'mari', 'kunnas', 'sky', 'mari jesse', 'varik', 'lefortovo', 'stockman', 'arrak', 'schibsted', 'stanislav', 'mclaren', 'juhanson'}\n"
     ]
    }
   ],
   "source": [
    "# millised nimeüksused rohkem kui ühes klassis võrdsel määral esinesid\n",
    "equal_occurrences = set(equal_occurrences)\n",
    "print(equal_occurrences)"
   ]
  },
  {
   "cell_type": "markdown",
   "id": "491d7c29",
   "metadata": {},
   "source": [
    "Võrdsel määral rohkem kui ühes klassis nimeüksuseid võib soovi korral käsitsi kureerida või määrata neile klass automaatselt, valides juhuslikult NerTaggeri poolt pakutud variantide vahel. Siinses töös nendega aga rohkem edasi ei toimetata."
   ]
  },
  {
   "cell_type": "markdown",
   "id": "9a458483",
   "metadata": {},
   "source": [
    "### III Nimeüksuste salvestamine"
   ]
  },
  {
   "cell_type": "markdown",
   "id": "833b2ba0",
   "metadata": {},
   "source": [
    "Saadud parandustega nimeüksuste loendid tuleb salvestada, et neid saaks edasises töös kasutada. Siin salvestatakse nimeüksused nii CSV-faili (võimaldab käsitsi muudatuste tegemist) kui SQLite andmebaasi (võimaldab neid hiljem mugavalt sisse lugeda)."
   ]
  },
  {
   "cell_type": "markdown",
   "id": "d915572e",
   "metadata": {},
   "source": [
    "Läbitöödeldud sagedusloendite nimeüksused kantakse vastavatesse järjenditesse:"
   ]
  },
  {
   "cell_type": "code",
   "execution_count": 26,
   "id": "9ebb62a1",
   "metadata": {},
   "outputs": [],
   "source": [
    "# neid järjendeid kasuatakse nimeüksuste andmebaasi salvestamisel\n",
    "for name in frequencies_PER.keys():\n",
    "    entities_PER_new.append(name)\n",
    "    \n",
    "for name in frequencies_ORG.keys():\n",
    "    entities_ORG_new.append(name)\n",
    "    \n",
    "for name in frequencies_LOC.keys():\n",
    "    entities_LOC_new.append(name)"
   ]
  },
  {
   "cell_type": "markdown",
   "id": "571868b9",
   "metadata": {},
   "source": [
    "Saadud parandustega sagedusloendid talletatakse csv-failis, et võimaldada vajadusel käsitsi korrektuuride tegemist."
   ]
  },
  {
   "cell_type": "code",
   "execution_count": 27,
   "id": "7541bde5",
   "metadata": {},
   "outputs": [],
   "source": [
    "with open('ner_frequencies.csv', 'w', newline='', encoding='UTF-8') as csv_file:\n",
    "    writer = csv.DictWriter(csv_file, fieldnames=['name', 'freq', 'value'])\n",
    "    writer.writeheader()\n",
    "    header2 = {'name': 'string', 'freq': 'integer', 'value': 'string'}\n",
    "    writer.writerow(header2)\n",
    "    for name in frequencies_PER.keys():\n",
    "        writer.writerow({'name': name, 'freq': frequencies_PER[name], 'value': 'PER'})\n",
    "    for name in frequencies_ORG.keys():\n",
    "        writer.writerow({'name': name, 'freq': frequencies_ORG[name], 'value': 'ORG'})\n",
    "    for name in frequencies_LOC.keys():\n",
    "        writer.writerow({'name': name, 'freq': frequencies_LOC[name], 'value': 'LOC'})"
   ]
  },
  {
   "cell_type": "code",
   "execution_count": 28,
   "id": "e3f21ff3",
   "metadata": {},
   "outputs": [],
   "source": [
    "with open('ner_frequencies.csv', encoding='UTF-8') as csv_file:\n",
    "    rows = []\n",
    "    reader = csv.DictReader(csv_file)\n",
    "    for row in reader:\n",
    "        rows.append(row)"
   ]
  },
  {
   "cell_type": "code",
   "execution_count": 29,
   "id": "b2af07e4",
   "metadata": {},
   "outputs": [
    {
     "name": "stdout",
     "output_type": "stream",
     "text": [
      "[{'name': 'string', 'freq': 'integer', 'value': 'string'}, {'name': 'hans', 'freq': '15', 'value': 'PER'}, {'name': 'eerik', 'freq': '9', 'value': 'PER'}, {'name': 'andrus ansip', 'freq': '242', 'value': 'PER'}, {'name': 'meelis', 'freq': '35', 'value': 'PER'}, {'name': 'olev esula', 'freq': '1', 'value': 'PER'}, {'name': 'vadim', 'freq': '2', 'value': 'PER'}, {'name': 'juskin', 'freq': '1', 'value': 'PER'}, {'name': 'margus', 'freq': '11', 'value': 'PER'}, {'name': 'sven', 'freq': '31', 'value': 'PER'}]\n"
     ]
    }
   ],
   "source": [
    "#Esimesed 10 rida\n",
    "print(rows[:10])"
   ]
  },
  {
   "cell_type": "markdown",
   "id": "4945cfc9",
   "metadata": {},
   "source": [
    "Huvipakkuvad nimeüksused (siinses töös isiku- ja organisatsiooninimed) talletatakse lisaks ka andmebaasis. Rohkem kui ühes klassis võrdsel määral esinenud nimeüksused filtreeritakse ühtlasi selle käigus välja:"
   ]
  },
  {
   "cell_type": "code",
   "execution_count": 30,
   "id": "81794c5e",
   "metadata": {},
   "outputs": [],
   "source": [
    "con = sqlite3.connect(\"media_data_complete.db\")\n",
    "cur = con.cursor()"
   ]
  },
  {
   "cell_type": "code",
   "execution_count": 31,
   "id": "12e8917a",
   "metadata": {},
   "outputs": [
    {
     "data": {
      "text/plain": [
       "<sqlite3.Cursor at 0x20c91793140>"
      ]
     },
     "execution_count": 31,
     "metadata": {},
     "output_type": "execute_result"
    }
   ],
   "source": [
    "cur.execute(\"CREATE TABLE named_entities(ID INTEGER PRIMARY KEY, sentence_ID INTEGER, PER TEXT, ORG TEXT)\")"
   ]
  },
  {
   "cell_type": "code",
   "execution_count": 32,
   "id": "a7bb0785",
   "metadata": {},
   "outputs": [],
   "source": [
    "for i in range(len(corpus)):\n",
    "    for ner in corpus[i].ner:\n",
    "        # salvestatakse lemmad\n",
    "        lemmatized_ner = [word.lemma[0] for word in ner]\n",
    "        lemmatized_ner_text = ' '.join(lemmatized_ner).lower()\n",
    "        if ner.nertag == 'PER' and lemmatized_ner_text in entities_PER_new:\n",
    "            cur.execute(\"\"\"INSERT INTO named_entities\n",
    "                                    (sentence_ID, PER)\n",
    "                                    VALUES (?, ?);\"\"\", (sentence_ids[i], lemmatized_ner_text))\n",
    "        elif ner.nertag != 'PER' and lemmatized_ner_text in entities_PER_new and lemmatized_ner_text not in equal_occurrences:\n",
    "            cur.execute(\"\"\"INSERT INTO named_entities\n",
    "                                    (sentence_ID, PER)\n",
    "                                    VALUES (?, ?);\"\"\", (sentence_ids[i], lemmatized_ner_text))\n",
    "        elif ner.nertag == 'ORG' and lemmatized_ner_text in entities_ORG_new:\n",
    "            cur.execute(\"\"\"INSERT INTO named_entities\n",
    "                                    (sentence_ID, ORG)\n",
    "                                    VALUES (?, ?);\"\"\", (sentence_ids[i], lemmatized_ner_text))\n",
    "        elif ner.nertag != 'ORG' and lemmatized_ner_text in entities_ORG_new and lemmatized_ner_text not in equal_occurrences:\n",
    "            cur.execute(\"\"\"INSERT INTO named_entities\n",
    "                                    (sentence_ID, ORG)\n",
    "                                    VALUES (?, ?);\"\"\", (sentence_ids[i], lemmatized_ner_text))\n",
    "        con.commit()"
   ]
  },
  {
   "cell_type": "code",
   "execution_count": 36,
   "id": "ae337eea",
   "metadata": {},
   "outputs": [],
   "source": [
    "con.close()"
   ]
  }
 ],
 "metadata": {
  "kernelspec": {
   "display_name": "Python 3 (ipykernel)",
   "language": "python",
   "name": "python3"
  },
  "language_info": {
   "codemirror_mode": {
    "name": "ipython",
    "version": 3
   },
   "file_extension": ".py",
   "mimetype": "text/x-python",
   "name": "python",
   "nbconvert_exporter": "python",
   "pygments_lexer": "ipython3",
   "version": "3.10.11"
  }
 },
 "nbformat": 4,
 "nbformat_minor": 5
}
