{
 "cells": [
  {
   "cell_type": "markdown",
   "id": "5a4cd153",
   "metadata": {},
   "source": [
    "## Loend nimeüksustest"
   ]
  },
  {
   "cell_type": "markdown",
   "id": "238638a0",
   "metadata": {},
   "source": [
    "Eelnevalt eraldati lausetest NerTaggeri poolt tuvastatud nimeüksused, teostati neil esmased korrektuurid ning salvestati tulemused. Siin on eesmärgiks teostada nimeüksustele sagedusanalüüs, et tekitada loend sagedamini esinevatest isiku- ja organisatsiooninimedest. Seda loendit kasutatakse hiljem huvipakkuvate nimeüksuste uuesti lausetele peale märgendamiseks."
   ]
  },
  {
   "cell_type": "code",
   "execution_count": 26,
   "id": "8a9bec4d",
   "metadata": {},
   "outputs": [],
   "source": [
    "# Vajalikud impordid\n",
    "from estnltk import Text\n",
    "import sqlite3\n",
    "import csv\n",
    "from collections import Counter\n",
    "import itertools"
   ]
  },
  {
   "cell_type": "markdown",
   "id": "ce2c774d",
   "metadata": {},
   "source": [
    "### I Andmete sisselugemine"
   ]
  },
  {
   "cell_type": "markdown",
   "id": "e233b485",
   "metadata": {},
   "source": [
    "Alustuseks loetakse CSV-failist vastavatesse järjenditesse kõik sinna eelnevalt salvestatud isiku- ja organisatsiooninimed ja nende sagedused:"
   ]
  },
  {
   "cell_type": "code",
   "execution_count": 51,
   "id": "25887288",
   "metadata": {},
   "outputs": [],
   "source": [
    "entities_PER = []\n",
    "entities_ORG = []"
   ]
  },
  {
   "cell_type": "code",
   "execution_count": 53,
   "id": "c4657d86",
   "metadata": {},
   "outputs": [],
   "source": [
    "with open('ner_frequencies.csv', encoding='UTF-8') as csv_file:\n",
    "    reader = csv.DictReader(csv_file)\n",
    "    for row in reader:\n",
    "        if row['value'] == 'PER':\n",
    "            entities_PER.append(tuple([row['name'], row['freq']]))\n",
    "        elif row['value'] == 'ORG':\n",
    "            entities_ORG.append(tuple([row['name'], row['freq']]))"
   ]
  },
  {
   "cell_type": "code",
   "execution_count": 28,
   "id": "364ce2cc",
   "metadata": {},
   "outputs": [],
   "source": [
    "# Alternatiivselt saab lugeda ka andmebaasist, kuid seal puuduvad esinemissagedused\n",
    "#con = sqlite3.connect(\"media_data_complete.db\")\n",
    "#cur = con.cursor()"
   ]
  },
  {
   "cell_type": "code",
   "execution_count": 22,
   "id": "8b322505",
   "metadata": {},
   "outputs": [],
   "source": [
    "#for row in cur.execute(\"SELECT PER FROM named_entities where PER IS NOT NULL\"):\n",
    "#    entities_PER.append(row[0])"
   ]
  },
  {
   "cell_type": "code",
   "execution_count": 23,
   "id": "89bd7f65",
   "metadata": {},
   "outputs": [],
   "source": [
    "#for row in cur.execute(\"SELECT ORG FROM named_entities where ORG IS NOT NULL\"):\n",
    "#    entities_ORG.append(row[0])"
   ]
  },
  {
   "cell_type": "code",
   "execution_count": 29,
   "id": "16ff0701",
   "metadata": {},
   "outputs": [],
   "source": [
    "#con.close()"
   ]
  },
  {
   "cell_type": "markdown",
   "id": "4bb2b053",
   "metadata": {},
   "source": [
    "Vaatame saadud järjendeid:"
   ]
  },
  {
   "cell_type": "code",
   "execution_count": 54,
   "id": "c08aff6e",
   "metadata": {},
   "outputs": [
    {
     "name": "stdout",
     "output_type": "stream",
     "text": [
      "[('hans', '15'), ('eerik', '9'), ('andrus ansip', '242'), ('meelis', '35'), ('olev esula', '1'), ('vadim', '2'), ('juskin', '1'), ('margus', '11'), ('sven', '31'), ('siim kallas', '439'), ('deniss borodits', '1'), ('jukuminek', '1'), ('borodits', '3'), ('jüri', '90'), ('eiki', '29'), ('kerviel', '2'), ('andres', '54'), ('toomas hendrik', '47'), ('meri', '36'), ('lasna', '1')]\n"
     ]
    }
   ],
   "source": [
    "print(entities_PER[:20])"
   ]
  },
  {
   "cell_type": "code",
   "execution_count": 55,
   "id": "10f3ce99",
   "metadata": {},
   "outputs": [
    {
     "name": "stdout",
     "output_type": "stream",
     "text": [
      "[('h', '3'), ('taska', '1'), ('vadim belov', '1'), ('pbk', '40'), ('delfi', '114'), ('tallinn ülikool', '109'), ('el', '48'), ('ccbe', '1'), ('kapo', '75'), ('irl roheline', '1'), ('sots', '60'), ('keskerakond', '2286'), ('etv', '56'), ('demokraat obama', '1'), ('err', '53'), ('irl', '1042'), ('forever', '1'), ('annepii', '1'), ('värimäe', '1'), ('res publica', '135')]\n"
     ]
    }
   ],
   "source": [
    "print(entities_ORG[:20])"
   ]
  },
  {
   "cell_type": "markdown",
   "id": "620e4225",
   "metadata": {},
   "source": [
    "### II Saates kõnelejate nimede välja filtreerimine"
   ]
  },
  {
   "cell_type": "markdown",
   "id": "56e1598e",
   "metadata": {},
   "source": [
    "Esiteks eemaldatakse nimeüksuste hulgast need nimed, mis viitavad saatejuhtidele (sageli mainitakse saate sissejuhatuses ja lõpus)."
   ]
  },
  {
   "cell_type": "markdown",
   "id": "833124e0",
   "metadata": {},
   "source": [
    "Repliikide tabelist loetakse sisse (unikaalsed) kõnelejanimed:"
   ]
  },
  {
   "cell_type": "code",
   "execution_count": 56,
   "id": "567a92a3",
   "metadata": {},
   "outputs": [],
   "source": [
    "speakers = []"
   ]
  },
  {
   "cell_type": "code",
   "execution_count": 57,
   "id": "cda5814f",
   "metadata": {},
   "outputs": [],
   "source": [
    "con = sqlite3.connect(\"media_data_complete.db\")\n",
    "cur = con.cursor()"
   ]
  },
  {
   "cell_type": "code",
   "execution_count": 58,
   "id": "70fd5d65",
   "metadata": {},
   "outputs": [],
   "source": [
    "for row in cur.execute(\"SELECT DISTINCT person FROM lines\"):\n",
    "    speakers.append(row[0])"
   ]
  },
  {
   "cell_type": "code",
   "execution_count": 59,
   "id": "66dce920",
   "metadata": {},
   "outputs": [],
   "source": [
    "con.close()"
   ]
  },
  {
   "cell_type": "code",
   "execution_count": 60,
   "id": "fb799ded",
   "metadata": {},
   "outputs": [
    {
     "name": "stdout",
     "output_type": "stream",
     "text": [
      "['Tundmatu3', 'Tundmatu1', 'Tundmatu2', 'Tundmatu4', 'Tundmatu5', 'Tundmatu6', 'Tundmatu8', 'Tundmatu7', 'K1', 'K2']\n"
     ]
    }
   ],
   "source": [
    "# millised on\n",
    "print(speakers[:10])"
   ]
  },
  {
   "cell_type": "markdown",
   "id": "357e9679",
   "metadata": {},
   "source": [
    "Nimed väiketähestatakse, sest sagedusloendis on juba väiketähestatud nimed:"
   ]
  },
  {
   "cell_type": "code",
   "execution_count": 61,
   "id": "1321b16e",
   "metadata": {},
   "outputs": [],
   "source": [
    "speakers_lower = [speaker.lower() for speaker in speakers]"
   ]
  },
  {
   "cell_type": "markdown",
   "id": "e3a86f21",
   "metadata": {},
   "source": [
    "Seejärel käiakse läbi isikunimede sagedusloend ja filtreeritakse välja nimed, mis esinevad kõnelejanimede seas:"
   ]
  },
  {
   "cell_type": "code",
   "execution_count": 62,
   "id": "f822ef0f",
   "metadata": {},
   "outputs": [],
   "source": [
    "entities_PER_cleaned = [name for name in entities_PER if name[0] not in speakers_lower]"
   ]
  },
  {
   "cell_type": "markdown",
   "id": "b1580470",
   "metadata": {},
   "source": [
    "Esialgsed isiku- ja organisatsiooninimede sagedusloendid sorteeritakse kahanevas järjestuses:"
   ]
  },
  {
   "cell_type": "code",
   "execution_count": 74,
   "id": "3386e13e",
   "metadata": {},
   "outputs": [],
   "source": [
    "entities_PER_sorted = sorted(entities_PER_cleaned, reverse=True, key=lambda x: int(x[1]))\n",
    "entities_ORG_sorted = sorted(entities_ORG, reverse=True, key=lambda x: int(x[1]))"
   ]
  },
  {
   "cell_type": "code",
   "execution_count": 76,
   "id": "3056c68f",
   "metadata": {},
   "outputs": [
    {
     "name": "stdout",
     "output_type": "stream",
     "text": [
      "[('edgar savisaar', '717'), ('savisaar', '648'), ('siim kallas', '439'), ('jüri ratas', '416'), ('mart luik', '334'), ('ansip', '303'), ('jürgen ligi', '253'), ('andrus ansip', '242'), ('priit', '224'), ('indrek', '214')]\n",
      "[('keskerakond', '2286'), ('reformierakond', '2075'), ('riigikogu', '1540'), ('irl', '1042'), ('postimees', '594'), ('nato', '438'), ('keskpäevatund', '266'), ('eesti energia', '244'), ('tallinn sadam', '205'), ('euroopa komisjon', '195')]\n"
     ]
    }
   ],
   "source": [
    "print(entities_PER_sorted[:10])\n",
    "print(entities_ORG_sorted[:10])"
   ]
  },
  {
   "cell_type": "markdown",
   "id": "2f922c7f",
   "metadata": {},
   "source": [
    "### III Isikunimede tükeldamine"
   ]
  },
  {
   "cell_type": "markdown",
   "id": "68585849",
   "metadata": {},
   "source": [
    "Esialgsest isikunimede sagedusloendist on näha, et paljudele täispikkadele isikunimedele esineb ka vasteid kas ainult eesnime või ainult perekonnanime näol (nt Edgar Savisaar ja Savisaar). Samas ei pruugi selliseid vasteid esineda kõigile täispikkadele isikunimedele käesolevas loendis. Et hilisemat nimeolemite otsingut parandada (saada rohkem tulemusi), tükeldatakse kõik täispikad nimed ees- ja perekonnanimedeks. Järgneva lähenemise puuduseks on see, et siin ei püüta eristada ees- ja perenimest koosnevaid üksuseid kahest (või enamast) tühikuga eraldatud eesnimest koosnevatest üksustest (nt Toomas Hendrik). Mitmest eesnimest koosnevaid üksuseid oleks teoorias võimalik eristada osalise edukusega, kui tekstis leidub ka koos perekonnanimega täispikk variant, mille vastu eesnimesid võrrelda.\n",
    "\n",
    "Organisatsiooninimede peal seda lähenemist ei kasutata, sest pole alust arvata, et isikunimede kasutustavad organisatsiooninimedele laieneks. Pigem on sagedasem organisatsiooninimede puhul täispika nime asendamine lühendi/akronüümiga (nt Kaitsepolitseiamet -> KAPO). Siin praegu ei püüta lühendite/akronüümide võrdsustamist täispikkade nimedega lahendada."
   ]
  },
  {
   "cell_type": "markdown",
   "id": "55c3ed20",
   "metadata": {},
   "source": [
    "Nimeüksused tükeldatakse:"
   ]
  },
  {
   "cell_type": "code",
   "execution_count": 77,
   "id": "4c086d2b",
   "metadata": {},
   "outputs": [],
   "source": [
    "entities_splitted = [name[0].rsplit(' ', 1) for name in entities_PER_cleaned if len(name[0].split(' ')) > 1]"
   ]
  },
  {
   "cell_type": "markdown",
   "id": "f59a8aad",
   "metadata": {},
   "source": [
    "Vähendatakse järjendi dimensioone:"
   ]
  },
  {
   "cell_type": "code",
   "execution_count": 79,
   "id": "afd00aaa",
   "metadata": {},
   "outputs": [],
   "source": [
    "entities_unnested = [name for entity in entities_splitted for name in entity]"
   ]
  },
  {
   "cell_type": "code",
   "execution_count": 80,
   "id": "c82cc30a",
   "metadata": {},
   "outputs": [
    {
     "name": "stdout",
     "output_type": "stream",
     "text": [
      "['priit', 'hõbemäg', 'rein', 'lang', 'kersti', 'kaljulaid', 'hannes', 'hanso', 'indrek', 'teder']\n"
     ]
    }
   ],
   "source": [
    "print(entities_unnested[:10])"
   ]
  },
  {
   "cell_type": "markdown",
   "id": "98e8b597",
   "metadata": {},
   "source": [
    "Saadud tükeldatud nimedest tehakse uus sagedusloend:"
   ]
  },
  {
   "cell_type": "code",
   "execution_count": 81,
   "id": "e8917371",
   "metadata": {},
   "outputs": [],
   "source": [
    "frequencies_entities_unnested = Counter(entities_unnested)"
   ]
  },
  {
   "cell_type": "markdown",
   "id": "4020cc3f",
   "metadata": {},
   "source": [
    "Sagedusloend viiakse samasse formaati esialgse isikunimede loendiga:"
   ]
  },
  {
   "cell_type": "code",
   "execution_count": 88,
   "id": "f6f2ff8c",
   "metadata": {},
   "outputs": [
    {
     "name": "stdout",
     "output_type": "stream",
     "text": [
      "[('priit', 46), ('hõbemäg', 3), ('rein', 49), ('lang', 3), ('kersti', 13), ('kaljulaid', 5), ('hannes', 12), ('hanso', 3), ('indrek', 28), ('teder', 4)]\n"
     ]
    }
   ],
   "source": [
    "list_to_append = list(frequencies_entities_unnested.items())\n",
    "print(list_to_append[:10])"
   ]
  },
  {
   "cell_type": "markdown",
   "id": "24b3118f",
   "metadata": {},
   "source": [
    "Saadud järjend kleebitakse varasema isikunimede järjendi lõppu:"
   ]
  },
  {
   "cell_type": "code",
   "execution_count": 89,
   "id": "beb4c6da",
   "metadata": {},
   "outputs": [],
   "source": [
    "entities_PER_sorted = entities_PER_sorted + list_to_append"
   ]
  },
  {
   "cell_type": "code",
   "execution_count": 97,
   "id": "ff0fac3d",
   "metadata": {},
   "outputs": [
    {
     "data": {
      "text/plain": [
       "9586"
      ]
     },
     "execution_count": 97,
     "metadata": {},
     "output_type": "execute_result"
    }
   ],
   "source": [
    "len(entities_PER_sorted)"
   ]
  },
  {
   "cell_type": "code",
   "execution_count": 98,
   "id": "f4ee7dd4",
   "metadata": {},
   "outputs": [
    {
     "data": {
      "text/plain": [
       "2904"
      ]
     },
     "execution_count": 98,
     "metadata": {},
     "output_type": "execute_result"
    }
   ],
   "source": [
    "len(entities_ORG_sorted)"
   ]
  },
  {
   "cell_type": "code",
   "execution_count": 99,
   "id": "c9942fb4",
   "metadata": {},
   "outputs": [
    {
     "name": "stdout",
     "output_type": "stream",
     "text": [
      "12490\n"
     ]
    }
   ],
   "source": [
    "print(len(entities_PER_sorted)+len(entities_ORG_sorted))"
   ]
  },
  {
   "cell_type": "markdown",
   "id": "ddc5a387",
   "metadata": {},
   "source": [
    "### IV Vigade filtreerimine"
   ]
  },
  {
   "cell_type": "markdown",
   "id": "1c83c8ad",
   "metadata": {},
   "source": [
    "Praegusel kujul võib olla jäänud alles ka siiski vigaseid nimesid, mis võivad hiljem probleeme tekitada (nt \"ja\"). Selle vastu võib aidata haruldaste juhtude eemaldamine enne uut nimeüksuste märgendamist, sest eeldatavsti ei ole kõige suuremad vead eriti sagedased. Alampiiriks valitakse hetkel üsna suvaliselt esinemissagedus 10. Alampiiri võib soovi korral aga määrata ka statistika abil."
   ]
  },
  {
   "cell_type": "code",
   "execution_count": 108,
   "id": "745504ab",
   "metadata": {},
   "outputs": [],
   "source": [
    "names_to_remove = []\n",
    "\n",
    "for name in entities_PER_sorted:\n",
    "    if int(name[1]) < 10:\n",
    "        names_to_remove.append(name)\n",
    "for name in entities_ORG_sorted:\n",
    "    if int(name[1]) < 10:\n",
    "        names_to_remove.append(name)"
   ]
  },
  {
   "cell_type": "code",
   "execution_count": 109,
   "id": "74d3fbc5",
   "metadata": {},
   "outputs": [
    {
     "name": "stdout",
     "output_type": "stream",
     "text": [
      "[('eerik', '9'), ('evelin', '9'), ('hannes hanso', '9'), ('ivan', '9'), ('indrek teder', '9'), ('kelly', '9'), ('tamur tsäkko', '9'), ('merko', '9'), ('maie', '9'), ('argo ideon', '9')]\n"
     ]
    }
   ],
   "source": [
    "print(names_to_remove[:10])"
   ]
  },
  {
   "cell_type": "code",
   "execution_count": 110,
   "id": "e8a0fb9d",
   "metadata": {},
   "outputs": [
    {
     "data": {
      "text/plain": [
       "11856"
      ]
     },
     "execution_count": 110,
     "metadata": {},
     "output_type": "execute_result"
    }
   ],
   "source": [
    "len(names_to_remove)"
   ]
  },
  {
   "cell_type": "code",
   "execution_count": 111,
   "id": "4a5e406c",
   "metadata": {},
   "outputs": [],
   "source": [
    "entities_PER_cleaned = [name for name in entities_PER_sorted if name not in names_to_remove]\n",
    "entities_ORG_cleaned = [name for name in entities_ORG_sorted if name not in names_to_remove]"
   ]
  },
  {
   "cell_type": "code",
   "execution_count": 112,
   "id": "a0b251bc",
   "metadata": {},
   "outputs": [
    {
     "name": "stdout",
     "output_type": "stream",
     "text": [
      "634\n"
     ]
    }
   ],
   "source": [
    "print(len(entities_PER_cleaned)+len(entities_ORG_cleaned))"
   ]
  },
  {
   "cell_type": "markdown",
   "id": "6d50f50e",
   "metadata": {},
   "source": [
    "### V Loendi salvestamine"
   ]
  },
  {
   "cell_type": "markdown",
   "id": "c3074fe6",
   "metadata": {},
   "source": [
    "Saadud loendid isiku- ja organisatsiooninimedest talletatakse csv-failis kujul, mis sobib hiljem nimeüksusi uuesti peale märgendavale taggerile ette andmiseks:"
   ]
  },
  {
   "cell_type": "code",
   "execution_count": 113,
   "id": "af9bcb05",
   "metadata": {},
   "outputs": [],
   "source": [
    "with open('entity_phrases.csv', 'w', newline='', encoding='UTF-8') as csv_file:\n",
    "    writer = csv.DictWriter(csv_file, fieldnames=['phrase', 'value'])\n",
    "    writer.writeheader()\n",
    "    header2 = {'phrase': 'callable', 'value': 'string'}\n",
    "    writer.writerow(header2)\n",
    "    split_names_PER = [name[0].split() for name in entities_PER_cleaned]\n",
    "    split_names_ORG = [name[0].split() for name in entities_ORG_cleaned]\n",
    "    for name in split_names_PER:\n",
    "        if len(name) > 1:\n",
    "            writer.writerow({'phrase': ','.join([\"'\" + part + \"'\" for part in name]), 'value': 'PER'})\n",
    "        else:\n",
    "            writer.writerow({'phrase': \"'\" + name[0] + \"'\" + \",\", 'value': 'PER'})\n",
    "    for name in split_names_ORG:\n",
    "        if len(name) > 1:\n",
    "            writer.writerow({'phrase': ','.join([\"'\" + part + \"'\" for part in name]), 'value': 'ORG'})\n",
    "        else:\n",
    "            writer.writerow({'phrase': \"'\" + name[0] + \"'\" + \",\", 'value': 'ORG'})"
   ]
  },
  {
   "cell_type": "code",
   "execution_count": 114,
   "id": "5ec70758",
   "metadata": {},
   "outputs": [],
   "source": [
    "with open('entity_phrases.csv', encoding='UTF-8') as csv_file:\n",
    "    rows = []\n",
    "    reader = csv.DictReader(csv_file)\n",
    "    for row in reader:\n",
    "        rows.append(row)"
   ]
  },
  {
   "cell_type": "code",
   "execution_count": 115,
   "id": "16bb6aef",
   "metadata": {},
   "outputs": [
    {
     "name": "stdout",
     "output_type": "stream",
     "text": [
      "[{'phrase': 'callable', 'value': 'string'}, {'phrase': \"'edgar','savisaar'\", 'value': 'PER'}, {'phrase': \"'savisaar',\", 'value': 'PER'}, {'phrase': \"'siim','kallas'\", 'value': 'PER'}, {'phrase': \"'jüri','ratas'\", 'value': 'PER'}, {'phrase': \"'mart','luik'\", 'value': 'PER'}, {'phrase': \"'ansip',\", 'value': 'PER'}, {'phrase': \"'jürgen','ligi'\", 'value': 'PER'}, {'phrase': \"'andrus','ansip'\", 'value': 'PER'}, {'phrase': \"'priit',\", 'value': 'PER'}]\n"
     ]
    }
   ],
   "source": [
    "print(rows[:10])"
   ]
  },
  {
   "cell_type": "markdown",
   "id": "c430d387",
   "metadata": {},
   "source": [
    "Hetkel ei ole isikunimeüksuste juurde märgitud, kas tegemist on poliitikuga või mitte. Kuna KUKU Keskpäevatund on poliitikateemaline raadiosaade võib eeldada, et suur osa (iseäranis sagedasematest) isikunimedest kuulub poliitikutele, kuid kindlasti mitte kõik. Kui soovida eristada kindlalt poliitikute nimesid mittepoliitikute omadest, tuleb teha seda käsitsi."
   ]
  },
  {
   "cell_type": "code",
   "execution_count": null,
   "id": "f5aff1b6",
   "metadata": {},
   "outputs": [],
   "source": []
  }
 ],
 "metadata": {
  "kernelspec": {
   "display_name": "Python 3 (ipykernel)",
   "language": "python",
   "name": "python3"
  },
  "language_info": {
   "codemirror_mode": {
    "name": "ipython",
    "version": 3
   },
   "file_extension": ".py",
   "mimetype": "text/x-python",
   "name": "python",
   "nbconvert_exporter": "python",
   "pygments_lexer": "ipython3",
   "version": "3.10.11"
  }
 },
 "nbformat": 4,
 "nbformat_minor": 5
}
