{
 "cells": [
  {
   "cell_type": "markdown",
   "id": "a549628b",
   "metadata": {},
   "source": [
    "## Repliikide lausestamine"
   ]
  },
  {
   "cell_type": "markdown",
   "id": "d533a3dd",
   "metadata": {},
   "source": [
    "Eelnevalt segmenteeriti transkriptsioonifailid nimeüksusi sisaldavateks repliikideks. Repliigid võivad aga olla kohati üpris pikad tekstilõigud, mille töötlemine võib osutuda hiljem keerukaks. Seetõttu segmenteeritakse need siin hilisema töö lihtsustamise huvides lauseteks."
   ]
  },
  {
   "cell_type": "code",
   "execution_count": 2,
   "id": "836074f8",
   "metadata": {},
   "outputs": [],
   "source": [
    "# Vajalikud impordid\n",
    "from estnltk import Text\n",
    "import sqlite3\n",
    "from estnltk.converters import json_to_text\n",
    "from estnltk.converters import text_to_json\n",
    "from estnltk_core.layer_operations import split_by_sentences"
   ]
  },
  {
   "cell_type": "markdown",
   "id": "6780bf20",
   "metadata": {},
   "source": [
    "### I Andmete sisselugemine"
   ]
  },
  {
   "cell_type": "markdown",
   "id": "b3a0319d",
   "metadata": {},
   "source": [
    "Esmalt loetakse andmebaasist sisse sinna varem salvestatud repliigid."
   ]
  },
  {
   "cell_type": "markdown",
   "id": "e9711dc1",
   "metadata": {},
   "source": [
    "Tühi järjend repliikide hoiustamiseks:"
   ]
  },
  {
   "cell_type": "code",
   "execution_count": 3,
   "id": "f2b13213",
   "metadata": {},
   "outputs": [],
   "source": [
    "corpus = []"
   ]
  },
  {
   "cell_type": "markdown",
   "id": "8a01cf61",
   "metadata": {},
   "source": [
    "Tühi järjend repliikide ID-de jaoks:"
   ]
  },
  {
   "cell_type": "code",
   "execution_count": 4,
   "id": "a285d31f",
   "metadata": {},
   "outputs": [],
   "source": [
    "line_ids = []"
   ]
  },
  {
   "cell_type": "markdown",
   "id": "8683c9aa",
   "metadata": {},
   "source": [
    "Andmebaasi tabelist loetakse sisse repliikidele vastavad Text-objektid:"
   ]
  },
  {
   "cell_type": "code",
   "execution_count": 5,
   "id": "4e6f19bb",
   "metadata": {},
   "outputs": [],
   "source": [
    "con = sqlite3.connect(\"media_data_complete.db\")"
   ]
  },
  {
   "cell_type": "code",
   "execution_count": 6,
   "id": "29491fbf",
   "metadata": {},
   "outputs": [],
   "source": [
    "cur = con.cursor()"
   ]
  },
  {
   "cell_type": "code",
   "execution_count": 7,
   "id": "31084b38",
   "metadata": {
    "scrolled": true
   },
   "outputs": [],
   "source": [
    "for row in cur.execute(\"SELECT ID, line FROM lines\"):\n",
    "    line_id = row[0]\n",
    "    line = json_to_text(json_text=row[1])\n",
    "    corpus.append(line)\n",
    "    line_ids.append(line_id)"
   ]
  },
  {
   "cell_type": "code",
   "execution_count": 8,
   "id": "505aaddc",
   "metadata": {},
   "outputs": [],
   "source": [
    "con.close()"
   ]
  },
  {
   "cell_type": "code",
   "execution_count": 9,
   "id": "ab555d61",
   "metadata": {},
   "outputs": [
    {
     "data": {
      "text/plain": [
       "34812"
      ]
     },
     "execution_count": 9,
     "metadata": {},
     "output_type": "execute_result"
    }
   ],
   "source": [
    "len(corpus)"
   ]
  },
  {
   "cell_type": "markdown",
   "id": "145f5595",
   "metadata": {},
   "source": [
    "Vaatame üht repliiki:"
   ]
  },
  {
   "cell_type": "code",
   "execution_count": 10,
   "id": "6d8710a5",
   "metadata": {},
   "outputs": [
    {
     "data": {
      "text/html": [
       "<table border=\"1\" class=\"dataframe\">\n",
       "  <thead>\n",
       "    <tr style=\"text-align: right;\">\n",
       "      <th>text</th>\n",
       "    </tr>\n",
       "  </thead>\n",
       "  <tbody>\n",
       "    <tr>\n",
       "      <td><div align = \"left\">Sudaanis meediaväljaandeid ja neid kes end uuringutega tegelevad üles mingisugusele koordineerimisele.</br>Et mitte samal päeval ajavalt erineva metoodikaga tehtud küsitlusi näiteks et tingimata väga selgelt ja arusaadavalt välja tuua mis Birma poolt tehtud see on ja mida konkreetset küsiti et see oleks nagu peale ja sealt on siis Emori uuringu turuuuringuid uute riikide enese posti Marvi.</div></td>\n",
       "    </tr>\n",
       "  </tbody>\n",
       "</table>\n",
       "<h4>Metadata</h4>\n",
       "<table border=\"1\" class=\"dataframe\">\n",
       "  <tbody>\n",
       "    <tr>\n",
       "      <td>date</td>\n",
       "      <td>2010-11-06</td>\n",
       "    </tr>\n",
       "    <tr>\n",
       "      <td>line_number</td>\n",
       "      <td>21</td>\n",
       "    </tr>\n",
       "    <tr>\n",
       "      <td>person</td>\n",
       "      <td>Tundmatu2</td>\n",
       "    </tr>\n",
       "  </tbody>\n",
       "</table>\n",
       "<table border=\"1\" class=\"dataframe\">\n",
       "  <thead>\n",
       "    <tr style=\"text-align: right;\">\n",
       "      <th>layer name</th>\n",
       "      <th>attributes</th>\n",
       "      <th>parent</th>\n",
       "      <th>enveloping</th>\n",
       "      <th>ambiguous</th>\n",
       "      <th>span count</th>\n",
       "    </tr>\n",
       "  </thead>\n",
       "  <tbody>\n",
       "    <tr>\n",
       "      <td>sentences</td>\n",
       "      <td></td>\n",
       "      <td>None</td>\n",
       "      <td>words</td>\n",
       "      <td>False</td>\n",
       "      <td>2</td>\n",
       "    </tr>\n",
       "    <tr>\n",
       "      <td>tokens</td>\n",
       "      <td></td>\n",
       "      <td>None</td>\n",
       "      <td>None</td>\n",
       "      <td>False</td>\n",
       "      <td>58</td>\n",
       "    </tr>\n",
       "    <tr>\n",
       "      <td>compound_tokens</td>\n",
       "      <td>type, normalized</td>\n",
       "      <td>None</td>\n",
       "      <td>tokens</td>\n",
       "      <td>False</td>\n",
       "      <td>0</td>\n",
       "    </tr>\n",
       "    <tr>\n",
       "      <td>words</td>\n",
       "      <td>normalized_form</td>\n",
       "      <td>None</td>\n",
       "      <td>None</td>\n",
       "      <td>True</td>\n",
       "      <td>58</td>\n",
       "    </tr>\n",
       "    <tr>\n",
       "      <td>morph_analysis</td>\n",
       "      <td>normalized_text, lemma, root, root_tokens, ending, clitic, form, partofspeech</td>\n",
       "      <td>words</td>\n",
       "      <td>None</td>\n",
       "      <td>True</td>\n",
       "      <td>58</td>\n",
       "    </tr>\n",
       "    <tr>\n",
       "      <td>ner</td>\n",
       "      <td>nertag</td>\n",
       "      <td>None</td>\n",
       "      <td>words</td>\n",
       "      <td>False</td>\n",
       "      <td>4</td>\n",
       "    </tr>\n",
       "  </tbody>\n",
       "</table>"
      ],
      "text/plain": [
       "Text(text='Sudaanis meediaväljaandeid ja neid kes end uuringutega tegelevad üles mingisugusele koordineerimisele.\\nEt mitte samal päeval ajavalt erineva metoodikaga tehtud küsitlusi näiteks et tingimata väga selgelt ja arusaadavalt välja tuua mis Birma poolt tehtud see on ja mida konkreetset küsiti et see oleks nagu peale ja sealt on siis Emori uuringu turuuuringuid uute riikide enese posti Marvi.')"
      ]
     },
     "metadata": {},
     "output_type": "display_data"
    }
   ],
   "source": [
    "test_text = corpus[100]\n",
    "display(test_text)"
   ]
  },
  {
   "cell_type": "markdown",
   "id": "e601b2eb",
   "metadata": {},
   "source": [
    "Ja selles repliigis esinevaid nimeüksusi:"
   ]
  },
  {
   "cell_type": "code",
   "execution_count": 11,
   "id": "93c72ddb",
   "metadata": {
    "scrolled": false
   },
   "outputs": [
    {
     "data": {
      "text/html": [
       "<h4>Layer</h4>\n",
       "\n",
       "\n",
       "<table border=\"1\" class=\"dataframe\">\n",
       "  <thead>\n",
       "    <tr style=\"text-align: right;\">\n",
       "      <th>layer name</th>\n",
       "      <th>attributes</th>\n",
       "      <th>parent</th>\n",
       "      <th>enveloping</th>\n",
       "      <th>ambiguous</th>\n",
       "      <th>span count</th>\n",
       "    </tr>\n",
       "  </thead>\n",
       "  <tbody>\n",
       "    <tr>\n",
       "      <td>ner</td>\n",
       "      <td>nertag</td>\n",
       "      <td>None</td>\n",
       "      <td>words</td>\n",
       "      <td>False</td>\n",
       "      <td>4</td>\n",
       "    </tr>\n",
       "  </tbody>\n",
       "</table>\n",
       "<table border=\"1\" class=\"dataframe\">\n",
       "  <thead>\n",
       "    <tr style=\"text-align: right;\">\n",
       "      <th>text</th>\n",
       "      <th>nertag</th>\n",
       "    </tr>\n",
       "  </thead>\n",
       "  <tbody>\n",
       "    <tr>\n",
       "      <td>['Sudaanis']</td>\n",
       "      <td>LOC</td>\n",
       "    </tr>\n",
       "    <tr>\n",
       "      <td>['Birma']</td>\n",
       "      <td>LOC</td>\n",
       "    </tr>\n",
       "    <tr>\n",
       "      <td>['Emori']</td>\n",
       "      <td>ORG</td>\n",
       "    </tr>\n",
       "    <tr>\n",
       "      <td>['Marvi']</td>\n",
       "      <td>PER</td>\n",
       "    </tr>\n",
       "  </tbody>\n",
       "</table>"
      ],
      "text/plain": [
       "Layer(name='ner', attributes=('nertag',), spans=SL[EnvelopingSpan(['Sudaanis'], [{'nertag': 'LOC'}]),\n",
       "EnvelopingSpan(['Birma'], [{'nertag': 'LOC'}]),\n",
       "EnvelopingSpan(['Emori'], [{'nertag': 'ORG'}]),\n",
       "EnvelopingSpan(['Marvi'], [{'nertag': 'PER'}])])"
      ]
     },
     "execution_count": 11,
     "metadata": {},
     "output_type": "execute_result"
    }
   ],
   "source": [
    "test_text.ner"
   ]
  },
  {
   "cell_type": "markdown",
   "id": "e7201ae9",
   "metadata": {},
   "source": [
    "### II Repliikide lausestamine"
   ]
  },
  {
   "cell_type": "markdown",
   "id": "d56b1968",
   "metadata": {},
   "source": [
    "Repliikide lausestamiseks kasutatakse siin funktsiooni split_by_sentences, mis lööb teksti lauseteks lauselõpumärkide kohalt, säilitades samal ajal juba olemasolevad märgenduskihid. Küll aga ei lausesta see teksti, kus lauselõpumärgid puuduvad (mida võib tulla ette automaatselt transkribeeritud failide või muu mitte päris kirjakeelse teksti puhul). Seetõttu jäävad sellised repliigid oma esialgsele kujule, kuigi need salvestatakse lihtsuse mõttes hiljem koos lausetega samasse tabelisse."
   ]
  },
  {
   "cell_type": "code",
   "execution_count": 12,
   "id": "fe9faa4d",
   "metadata": {},
   "outputs": [],
   "source": [
    "line_sentences = split_by_sentences(text=test_text,\n",
    "                           layers_to_keep=list(test_text.layers),\n",
    "                           trim_overlapping=True\n",
    "                           )"
   ]
  },
  {
   "cell_type": "markdown",
   "id": "49e69fd0",
   "metadata": {},
   "source": [
    "Näiteks esimene lause näidisrepliigist:"
   ]
  },
  {
   "cell_type": "code",
   "execution_count": 13,
   "id": "e74b2701",
   "metadata": {},
   "outputs": [
    {
     "data": {
      "text/html": [
       "<table border=\"1\" class=\"dataframe\">\n",
       "  <thead>\n",
       "    <tr style=\"text-align: right;\">\n",
       "      <th>text</th>\n",
       "    </tr>\n",
       "  </thead>\n",
       "  <tbody>\n",
       "    <tr>\n",
       "      <td><div align = \"left\">Sudaanis meediaväljaandeid ja neid kes end uuringutega tegelevad üles mingisugusele koordineerimisele.</div></td>\n",
       "    </tr>\n",
       "  </tbody>\n",
       "</table>\n",
       "<table border=\"1\" class=\"dataframe\">\n",
       "  <thead>\n",
       "    <tr style=\"text-align: right;\">\n",
       "      <th>layer name</th>\n",
       "      <th>attributes</th>\n",
       "      <th>parent</th>\n",
       "      <th>enveloping</th>\n",
       "      <th>ambiguous</th>\n",
       "      <th>span count</th>\n",
       "    </tr>\n",
       "  </thead>\n",
       "  <tbody>\n",
       "    <tr>\n",
       "      <td>sentences</td>\n",
       "      <td></td>\n",
       "      <td>None</td>\n",
       "      <td>words</td>\n",
       "      <td>False</td>\n",
       "      <td>1</td>\n",
       "    </tr>\n",
       "    <tr>\n",
       "      <td>tokens</td>\n",
       "      <td></td>\n",
       "      <td>None</td>\n",
       "      <td>None</td>\n",
       "      <td>False</td>\n",
       "      <td>12</td>\n",
       "    </tr>\n",
       "    <tr>\n",
       "      <td>compound_tokens</td>\n",
       "      <td>type, normalized</td>\n",
       "      <td>None</td>\n",
       "      <td>tokens</td>\n",
       "      <td>False</td>\n",
       "      <td>0</td>\n",
       "    </tr>\n",
       "    <tr>\n",
       "      <td>words</td>\n",
       "      <td>normalized_form</td>\n",
       "      <td>None</td>\n",
       "      <td>None</td>\n",
       "      <td>True</td>\n",
       "      <td>12</td>\n",
       "    </tr>\n",
       "    <tr>\n",
       "      <td>morph_analysis</td>\n",
       "      <td>normalized_text, lemma, root, root_tokens, ending, clitic, form, partofspeech</td>\n",
       "      <td>words</td>\n",
       "      <td>None</td>\n",
       "      <td>True</td>\n",
       "      <td>12</td>\n",
       "    </tr>\n",
       "    <tr>\n",
       "      <td>ner</td>\n",
       "      <td>nertag</td>\n",
       "      <td>None</td>\n",
       "      <td>words</td>\n",
       "      <td>False</td>\n",
       "      <td>1</td>\n",
       "    </tr>\n",
       "  </tbody>\n",
       "</table>"
      ],
      "text/plain": [
       "Text(text='Sudaanis meediaväljaandeid ja neid kes end uuringutega tegelevad üles mingisugusele koordineerimisele.')"
      ]
     },
     "execution_count": 13,
     "metadata": {},
     "output_type": "execute_result"
    }
   ],
   "source": [
    "line_sentences[0]"
   ]
  },
  {
   "cell_type": "markdown",
   "id": "a1ac4165",
   "metadata": {},
   "source": [
    "### III Lausete salvestamine andmebaasi"
   ]
  },
  {
   "cell_type": "code",
   "execution_count": 20,
   "id": "dd18ee60",
   "metadata": {},
   "outputs": [],
   "source": [
    "con = sqlite3.connect(\"media_data_complete.db\")\n",
    "cur = con.cursor()"
   ]
  },
  {
   "cell_type": "markdown",
   "id": "d85f04a6",
   "metadata": {},
   "source": [
    "Andmebaasi tekitatakse uus tabel lausete jaoks:"
   ]
  },
  {
   "cell_type": "code",
   "execution_count": 21,
   "id": "62ed79d6",
   "metadata": {},
   "outputs": [
    {
     "data": {
      "text/plain": [
       "<sqlite3.Cursor at 0x13a66d73340>"
      ]
     },
     "execution_count": 21,
     "metadata": {},
     "output_type": "execute_result"
    }
   ],
   "source": [
    "cur.execute(\"CREATE TABLE sentences(ID INTEGER PRIMARY KEY, line_ID INTEGER, sentence TEXT, named_entity INTEGER)\")"
   ]
  },
  {
   "cell_type": "markdown",
   "id": "118eeef8",
   "metadata": {},
   "source": [
    "Kõik repliigid lausestatakse ja saadud laused lisatakse loodud tabelisse. Eraldi märge lisatakse veergu named_entity, kas lause sialdab mõnda NerTaggeri abil leitud nimeüksust või mitte:"
   ]
  },
  {
   "cell_type": "code",
   "execution_count": 22,
   "id": "e820e4cb",
   "metadata": {},
   "outputs": [],
   "source": [
    "for i in range(len(corpus)):\n",
    "    line_sentences = split_by_sentences(text=corpus[i], \n",
    "                           layers_to_keep=list(corpus[i].layers),\n",
    "                           trim_overlapping=True\n",
    "                           )\n",
    "    for sentence in line_sentences:\n",
    "        # igaks juhuks lisatakse lausetele ka metaandmed\n",
    "        sentence.meta['line_number'] = corpus[i].meta['line_number']\n",
    "        sentence.meta['person'] = corpus[i].meta['person']\n",
    "        sentence.meta['date'] = corpus[i].meta['date']\n",
    "        sentence_json = text_to_json(sentence)\n",
    "        if len(sentence.ner) > 0:\n",
    "            cur.execute(\"\"\"INSERT INTO sentences\n",
    "                                    (line_ID, sentence, named_entity)\n",
    "                                    VALUES (?, ?, ?);\"\"\", (line_ids[i], sentence_json, 1))\n",
    "        else:\n",
    "            cur.execute(\"\"\"INSERT INTO sentences\n",
    "                                    (line_ID, sentence, named_entity)\n",
    "                                    VALUES (?, ?, ?);\"\"\", (line_ids[i], sentence_json, 0))\n",
    "        con.commit()"
   ]
  },
  {
   "cell_type": "code",
   "execution_count": 23,
   "id": "386544e6",
   "metadata": {},
   "outputs": [],
   "source": [
    "con.close()"
   ]
  }
 ],
 "metadata": {
  "kernelspec": {
   "display_name": "Python 3 (ipykernel)",
   "language": "python",
   "name": "python3"
  },
  "language_info": {
   "codemirror_mode": {
    "name": "ipython",
    "version": 3
   },
   "file_extension": ".py",
   "mimetype": "text/x-python",
   "name": "python",
   "nbconvert_exporter": "python",
   "pygments_lexer": "ipython3",
   "version": "3.10.11"
  }
 },
 "nbformat": 4,
 "nbformat_minor": 5
}
