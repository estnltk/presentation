{
 "cells": [
  {
   "cell_type": "markdown",
   "id": "1c736aec",
   "metadata": {},
   "source": [
    "## EstBERT mudel lausete klassifitseerimiseks"
   ]
  },
  {
   "cell_type": "markdown",
   "id": "f44de953",
   "metadata": {},
   "source": [
    "Eelneva protsessi käigus leiti hulk nimeüksust sisaldavaid lauseid, millele sai temaatiliste märksõnade alusel määrata klassi. Siin treenitakse leitud andmehulgal BERT-i närvivõrgumudel lausete automaatseks klassifitseerimiseks ning tehakse esmane analüüs selle tulemustele."
   ]
  },
  {
   "cell_type": "code",
   "execution_count": 206,
   "id": "fc8bcca7",
   "metadata": {},
   "outputs": [],
   "source": [
    "# vajalikud impordid\n",
    "from estnltk import Text\n",
    "import sqlite3\n",
    "from estnltk.converters import json_to_text\n",
    "import random\n",
    "import statistics\n",
    "import pandas as pd\n",
    "import numpy as np\n",
    "import torch\n",
    "import torch.nn.functional as F\n",
    "import tensorflow as tf\n",
    "import matplotlib.pyplot as plt\n",
    "from sklearn.preprocessing import LabelEncoder, label_binarize\n",
    "from sklearn.metrics import accuracy_score, precision_recall_curve\n",
    "from transformers import pipeline, AutoTokenizer, TFAutoModelForSequenceClassification\n",
    "from tensorflow.keras.optimizers.schedules import PolynomialDecay\n",
    "from tensorflow.keras.optimizers import Adam"
   ]
  },
  {
   "cell_type": "markdown",
   "id": "745baf7a",
   "metadata": {},
   "source": [
    "### I Andmete sisselugemine andmebaasist"
   ]
  },
  {
   "cell_type": "markdown",
   "id": "a63b14be",
   "metadata": {},
   "source": [
    "Andmebaasist loetakse sisse laused ja nende klassid, mis hoiustatakse DataFrame-is:"
   ]
  },
  {
   "cell_type": "code",
   "execution_count": 200,
   "id": "4411c2dc",
   "metadata": {},
   "outputs": [],
   "source": [
    "con = sqlite3.connect(\"media_data_complete.db\")\n",
    "cur = con.cursor()"
   ]
  },
  {
   "cell_type": "code",
   "execution_count": 201,
   "id": "d3389550",
   "metadata": {},
   "outputs": [],
   "source": [
    "data = []\n",
    "\n",
    "for row in cur.execute(\"SELECT sentence, class FROM sentences_with_classes\"):\n",
    "    sentence = json_to_text(json_text=row[0])\n",
    "    sentence = sentence.text\n",
    "    data.append({'class': row[1], 'sentence': sentence})\n",
    "\n",
    "df = pd.DataFrame(data)"
   ]
  },
  {
   "cell_type": "code",
   "execution_count": 202,
   "id": "77ca4b23",
   "metadata": {},
   "outputs": [],
   "source": [
    "con.close()"
   ]
  },
  {
   "cell_type": "code",
   "execution_count": 203,
   "id": "daf28c02",
   "metadata": {},
   "outputs": [
    {
     "data": {
      "text/plain": [
       "746"
      ]
     },
     "execution_count": 203,
     "metadata": {},
     "output_type": "execute_result"
    }
   ],
   "source": [
    "len(df)"
   ]
  },
  {
   "cell_type": "code",
   "execution_count": 7,
   "id": "39d4feb9",
   "metadata": {
    "scrolled": true
   },
   "outputs": [
    {
     "data": {
      "text/html": [
       "<div>\n",
       "<style scoped>\n",
       "    .dataframe tbody tr th:only-of-type {\n",
       "        vertical-align: middle;\n",
       "    }\n",
       "\n",
       "    .dataframe tbody tr th {\n",
       "        vertical-align: top;\n",
       "    }\n",
       "\n",
       "    .dataframe thead th {\n",
       "        text-align: right;\n",
       "    }\n",
       "</style>\n",
       "<table border=\"1\" class=\"dataframe\">\n",
       "  <thead>\n",
       "    <tr style=\"text-align: right;\">\n",
       "      <th></th>\n",
       "      <th>class</th>\n",
       "      <th>sentence</th>\n",
       "    </tr>\n",
       "  </thead>\n",
       "  <tbody>\n",
       "    <tr>\n",
       "      <th>0</th>\n",
       "      <td>valimised</td>\n",
       "      <td>Teatas et ta kavatseb ka riigikokku kandideerida kevadel et kuidas ta hakkab seal töötama sotside fraktsioonis kus Eiki nestoriga kestev kas tema elust tõmbuksid linnast oma soojast peadest välja kangust.</td>\n",
       "    </tr>\n",
       "    <tr>\n",
       "      <th>1</th>\n",
       "      <td>valimised</td>\n",
       "      <td>Näiteks lubaduse mida mina ei mäletanudki IRL lubas enne eelmisi valimisi kahe tuhande kroonist huvialaringid toetust last.</td>\n",
       "    </tr>\n",
       "    <tr>\n",
       "      <th>2</th>\n",
       "      <td>vaidlused ja erimeelsused</td>\n",
       "      <td>Keskerakond reformierakond omaette vastanduma ja on hinnatud isegi üllatas et et et ma ise olin maha maganud et Margus Tsahkna seda teemat niimoodi tõstatas ja tegelikult ka IRLile on see.</td>\n",
       "    </tr>\n",
       "    <tr>\n",
       "      <th>3</th>\n",
       "      <td>valitsemine</td>\n",
       "      <td>Selle asemel et ma kunagi kunagi küsisin ka kohtasin tänaval laval Andres tarandit ja siis ka Indrek tarand oli Euroopa parlamendi liikmest pärast pikka mari mineerimist otsustanud ennast.</td>\n",
       "    </tr>\n",
       "    <tr>\n",
       "      <th>4</th>\n",
       "      <td>valitsemine</td>\n",
       "      <td>Miks riigikogu riigikogu koori juhtima.</td>\n",
       "    </tr>\n",
       "  </tbody>\n",
       "</table>\n",
       "</div>"
      ],
      "text/plain": [
       "                       class  \\\n",
       "0                  valimised   \n",
       "1                  valimised   \n",
       "2  vaidlused ja erimeelsused   \n",
       "3                valitsemine   \n",
       "4                valitsemine   \n",
       "\n",
       "                                                                                                                                                                                                       sentence  \n",
       "0  Teatas et ta kavatseb ka riigikokku kandideerida kevadel et kuidas ta hakkab seal töötama sotside fraktsioonis kus Eiki nestoriga kestev kas tema elust tõmbuksid linnast oma soojast peadest välja kangust.  \n",
       "1                                                                                   Näiteks lubaduse mida mina ei mäletanudki IRL lubas enne eelmisi valimisi kahe tuhande kroonist huvialaringid toetust last.  \n",
       "2                  Keskerakond reformierakond omaette vastanduma ja on hinnatud isegi üllatas et et et ma ise olin maha maganud et Margus Tsahkna seda teemat niimoodi tõstatas ja tegelikult ka IRLile on see.  \n",
       "3                  Selle asemel et ma kunagi kunagi küsisin ka kohtasin tänaval laval Andres tarandit ja siis ka Indrek tarand oli Euroopa parlamendi liikmest pärast pikka mari mineerimist otsustanud ennast.  \n",
       "4                                                                                                                                                                       Miks riigikogu riigikogu koori juhtima.  "
      ]
     },
     "execution_count": 7,
     "metadata": {},
     "output_type": "execute_result"
    }
   ],
   "source": [
    "df.head()"
   ]
  },
  {
   "cell_type": "markdown",
   "id": "311012db",
   "metadata": {},
   "source": [
    "### II None-klassi lisamine"
   ]
  },
  {
   "cell_type": "markdown",
   "id": "5e0fe6ba",
   "metadata": {},
   "source": [
    "Hetkel on andmestikus nelja klassi (vaidlused ja erimeelsused, valimised, valetamine, valitsemine) jaotatud laused. BERT-i treenimisel on vaja aga tuua sisse ka proportsionaalsel hulgal lauseid, mis ei kuulu ühtegi klassi (klass None): seda põhjusel, et kui lastaks mudelil hiljem uusi lauseid klassifitseerida, tuleks tõenäoliselt ette lauseid, mis oma sisu poolest nelja eelnevalt nimetatud klassi ei kuulu. Kuna klassidesse jagatud laused sisaldavad nimeüksust ja selle nimeüksusega seotud tegevust, võiksid None-klassi laused mitte nimeüksusi sisaldada. Sellised laused saab kätte andmebaasi tabelist \"sentences\", kus on märgitud ära, kas lauses leidub NerTaggeri poolt peale märgitud nimeüksus või mitte.\n",
    "\n",
    "Tabelist \"sentences\" loetakse sisse kõik laused, mis nimeüksust ei sisalda. Seejärel valitakse nende lausete seast juhuslikult proportsionaalne kogus lauseid, mis lisatakse DataFrame-i klassiga None."
   ]
  },
  {
   "cell_type": "code",
   "execution_count": 8,
   "id": "1197115c",
   "metadata": {},
   "outputs": [],
   "source": [
    "con = sqlite3.connect(\"media_data_complete.db\")\n",
    "cur = con.cursor()"
   ]
  },
  {
   "cell_type": "code",
   "execution_count": 9,
   "id": "1726fd4f",
   "metadata": {},
   "outputs": [],
   "source": [
    "data2 = []\n",
    "\n",
    "for row in cur.execute(\"SELECT sentence FROM sentences WHERE named_entity = 0\"):\n",
    "    sentence = json_to_text(json_text=row[0])\n",
    "    sentence = sentence.text\n",
    "    data2.append({'class': None, 'sentence': sentence})"
   ]
  },
  {
   "cell_type": "code",
   "execution_count": 10,
   "id": "778cf04e",
   "metadata": {},
   "outputs": [],
   "source": [
    "con.close()"
   ]
  },
  {
   "cell_type": "code",
   "execution_count": 11,
   "id": "5c45d17d",
   "metadata": {},
   "outputs": [
    {
     "data": {
      "text/plain": [
       "49806"
      ]
     },
     "execution_count": 11,
     "metadata": {},
     "output_type": "execute_result"
    }
   ],
   "source": [
    "len(data2)"
   ]
  },
  {
   "cell_type": "markdown",
   "id": "a36dda48",
   "metadata": {},
   "source": [
    "Järgnevalt vaadatakse, kuidas jagunevad andmestikus olevad laused eri klasside vahel. Selle põhjal pannakse paika, kui palju võiks andmestikus olla None-klassi lauseid."
   ]
  },
  {
   "cell_type": "code",
   "execution_count": 12,
   "id": "04f9bd4f",
   "metadata": {},
   "outputs": [
    {
     "data": {
      "text/plain": [
       "valimised                    332\n",
       "valitsemine                  294\n",
       "vaidlused ja erimeelsused    106\n",
       "valetamine                    14\n",
       "Name: class, dtype: int64"
      ]
     },
     "execution_count": 12,
     "metadata": {},
     "output_type": "execute_result"
    }
   ],
   "source": [
    "value_counts = df['class'].value_counts()\n",
    "value_counts"
   ]
  },
  {
   "cell_type": "markdown",
   "id": "a7a5b795",
   "metadata": {},
   "source": [
    "Klassi \"valetamine\" esineb andmestikus väga vähe, mistõttu ei ole mõistlik selle esinemissagedust arvesse võtta. None-klassi esinemissageduse määramiseks võetakse siin kolme klassi (valimised, valitsemine, vaidlused ja erimeelsused) keskmine esinemissagedus."
   ]
  },
  {
   "cell_type": "code",
   "execution_count": 13,
   "id": "a9975e94",
   "metadata": {},
   "outputs": [
    {
     "data": {
      "text/plain": [
       "244"
      ]
     },
     "execution_count": 13,
     "metadata": {},
     "output_type": "execute_result"
    }
   ],
   "source": [
    "mean = statistics.mean([value_counts['valimised'], value_counts['valitsemine'], value_counts['vaidlused ja erimeelsused']])\n",
    "mean"
   ]
  },
  {
   "cell_type": "markdown",
   "id": "b4fe2e10",
   "metadata": {},
   "source": [
    "Lausete järjestus paisatakse ümber juhuslikku järjekorda:"
   ]
  },
  {
   "cell_type": "code",
   "execution_count": 14,
   "id": "a16c60b1",
   "metadata": {},
   "outputs": [],
   "source": [
    "random.shuffle(data2)"
   ]
  },
  {
   "cell_type": "markdown",
   "id": "3a6c3835",
   "metadata": {},
   "source": [
    "Seejärel võetakse andmestikust laused esimesest indeksist kuni indeksini, mis võrdub eelnevalt leitud keskmisega. Nendest lausetest saavad None-klassi laused:"
   ]
  },
  {
   "cell_type": "code",
   "execution_count": 15,
   "id": "29f8db84",
   "metadata": {},
   "outputs": [],
   "source": [
    "class_none = data2[:mean]"
   ]
  },
  {
   "cell_type": "code",
   "execution_count": 16,
   "id": "39c601b1",
   "metadata": {},
   "outputs": [
    {
     "data": {
      "text/plain": [
       "[{'class': None, 'sentence': 'Tegelaste, võib-olla kaasaegsest Türgist'},\n",
       " {'class': None, 'sentence': 'Et mingisugust enesetäiendamist'},\n",
       " {'class': None, 'sentence': 'Uudiseid koduvabariigis.'},\n",
       " {'class': None,\n",
       "  'sentence': 'mingil põhjusel pani ta kaardi kinni, kuigi viimane aste leidnud, eks, aga'},\n",
       " {'class': None,\n",
       "  'sentence': 'Kehtetud üldkoosolek tavaliselt on üks minister kes hambaid pestes eks ole siis arutab ees ennast peeglist vaadates selle ettevõtte probleem iseenda kas kellegi teisega tal seda arutada ei ole.'}]"
      ]
     },
     "execution_count": 16,
     "metadata": {},
     "output_type": "execute_result"
    }
   ],
   "source": [
    "# kuidas näevad välja\n",
    "class_none[:5]"
   ]
  },
  {
   "cell_type": "markdown",
   "id": "aa6dd59e",
   "metadata": {},
   "source": [
    "None-klassi laused lisatakse DataFrame-i lõppu."
   ]
  },
  {
   "cell_type": "code",
   "execution_count": 17,
   "id": "9a0d5dbc",
   "metadata": {},
   "outputs": [],
   "source": [
    "df2 = pd.DataFrame(class_none, columns=['class', 'sentence'])\n",
    "\n",
    "df = pd.concat([df, df2], ignore_index=True)"
   ]
  },
  {
   "cell_type": "markdown",
   "id": "ba9ab507",
   "metadata": {},
   "source": [
    "Lõpliku DataFrame-i algus ja lõpp:"
   ]
  },
  {
   "cell_type": "code",
   "execution_count": 18,
   "id": "e55a9106",
   "metadata": {},
   "outputs": [
    {
     "data": {
      "text/html": [
       "<div>\n",
       "<style scoped>\n",
       "    .dataframe tbody tr th:only-of-type {\n",
       "        vertical-align: middle;\n",
       "    }\n",
       "\n",
       "    .dataframe tbody tr th {\n",
       "        vertical-align: top;\n",
       "    }\n",
       "\n",
       "    .dataframe thead th {\n",
       "        text-align: right;\n",
       "    }\n",
       "</style>\n",
       "<table border=\"1\" class=\"dataframe\">\n",
       "  <thead>\n",
       "    <tr style=\"text-align: right;\">\n",
       "      <th></th>\n",
       "      <th>class</th>\n",
       "      <th>sentence</th>\n",
       "    </tr>\n",
       "  </thead>\n",
       "  <tbody>\n",
       "    <tr>\n",
       "      <th>1</th>\n",
       "      <td>valimised</td>\n",
       "      <td>Näiteks lubaduse mida mina ei mäletanudki IRL lubas enne eelmisi valimisi kahe tuhande kroonist huvialaringid toetust last.</td>\n",
       "    </tr>\n",
       "    <tr>\n",
       "      <th>2</th>\n",
       "      <td>vaidlused ja erimeelsused</td>\n",
       "      <td>Keskerakond reformierakond omaette vastanduma ja on hinnatud isegi üllatas et et et ma ise olin maha maganud et Margus Tsahkna seda teemat niimoodi tõstatas ja tegelikult ka IRLile on see.</td>\n",
       "    </tr>\n",
       "    <tr>\n",
       "      <th>3</th>\n",
       "      <td>valitsemine</td>\n",
       "      <td>Selle asemel et ma kunagi kunagi küsisin ka kohtasin tänaval laval Andres tarandit ja siis ka Indrek tarand oli Euroopa parlamendi liikmest pärast pikka mari mineerimist otsustanud ennast.</td>\n",
       "    </tr>\n",
       "    <tr>\n",
       "      <th>4</th>\n",
       "      <td>valitsemine</td>\n",
       "      <td>Miks riigikogu riigikogu koori juhtima.</td>\n",
       "    </tr>\n",
       "    <tr>\n",
       "      <th>5</th>\n",
       "      <td>valimised</td>\n",
       "      <td>Naaber ta kõik see on köömes võrreldes sellega mis on praegu veel esitanud viimane teada et rahvaliidu esimees kandideerivad jätkuvalt Juhan Aare ja Andrus Blok.</td>\n",
       "    </tr>\n",
       "    <tr>\n",
       "      <th>...</th>\n",
       "      <td>...</td>\n",
       "      <td>...</td>\n",
       "    </tr>\n",
       "    <tr>\n",
       "      <th>985</th>\n",
       "      <td>None</td>\n",
       "      <td>Muidu, aga teisest küljest selleks, et siiski osaleda mingisugustel valimistel selleks on sul tervist küll, et siin on selline vastuolu, mis kahtlemata ka õiguskaitseorganitel kindlasti ei jää kahe silma vahele.</td>\n",
       "    </tr>\n",
       "    <tr>\n",
       "      <th>986</th>\n",
       "      <td>None</td>\n",
       "      <td>Või ma ei ma saan aru selle mingi.</td>\n",
       "    </tr>\n",
       "    <tr>\n",
       "      <th>987</th>\n",
       "      <td>None</td>\n",
       "      <td>Mis võikski olla mõistlik, kui siit nüüd välja öelda seesama mõte, et sellega võiks inimesi harjutada, kuidas kohalikul tasemel nii-öelda rahvaalgatuse hääletusega asju ajada.</td>\n",
       "    </tr>\n",
       "    <tr>\n",
       "      <th>988</th>\n",
       "      <td>None</td>\n",
       "      <td>seal on üks oluline asi, mis, mis mõjutab, hakkab mõjutama valimised tihtipeale sellise, nende küsitluste kui parlamendi matemaatika puhul on mingi oht selles, et noh, et jääme nagu rääkima sellest kaks koma kaheksa ja kolm koma kaks ja lõppude lõpuks, kui me küsime, et ja mis siis ja siis ei midagi lihtsalt, et aga et huvitav on nagu arutada siin</td>\n",
       "    </tr>\n",
       "    <tr>\n",
       "      <th>989</th>\n",
       "      <td>None</td>\n",
       "      <td>Aga</td>\n",
       "    </tr>\n",
       "  </tbody>\n",
       "</table>\n",
       "<p>989 rows × 2 columns</p>\n",
       "</div>"
      ],
      "text/plain": [
       "                         class  \\\n",
       "1                    valimised   \n",
       "2    vaidlused ja erimeelsused   \n",
       "3                  valitsemine   \n",
       "4                  valitsemine   \n",
       "5                    valimised   \n",
       "..                         ...   \n",
       "985                       None   \n",
       "986                       None   \n",
       "987                       None   \n",
       "988                       None   \n",
       "989                       None   \n",
       "\n",
       "                                                                                                                                                                                                                                                                                                                                                          sentence  \n",
       "1                                                                                                                                                                                                                                      Näiteks lubaduse mida mina ei mäletanudki IRL lubas enne eelmisi valimisi kahe tuhande kroonist huvialaringid toetust last.  \n",
       "2                                                                                                                                                                     Keskerakond reformierakond omaette vastanduma ja on hinnatud isegi üllatas et et et ma ise olin maha maganud et Margus Tsahkna seda teemat niimoodi tõstatas ja tegelikult ka IRLile on see.  \n",
       "3                                                                                                                                                                     Selle asemel et ma kunagi kunagi küsisin ka kohtasin tänaval laval Andres tarandit ja siis ka Indrek tarand oli Euroopa parlamendi liikmest pärast pikka mari mineerimist otsustanud ennast.  \n",
       "4                                                                                                                                                                                                                                                                                                                          Miks riigikogu riigikogu koori juhtima.  \n",
       "5                                                                                                                                                                                                Naaber ta kõik see on köömes võrreldes sellega mis on praegu veel esitanud viimane teada et rahvaliidu esimees kandideerivad jätkuvalt Juhan Aare ja Andrus Blok.  \n",
       "..                                                                                                                                                                                                                                                                                                                                                             ...  \n",
       "985                                                                                                                                            Muidu, aga teisest küljest selleks, et siiski osaleda mingisugustel valimistel selleks on sul tervist küll, et siin on selline vastuolu, mis kahtlemata ka õiguskaitseorganitel kindlasti ei jää kahe silma vahele.  \n",
       "986                                                                                                                                                                                                                                                                                                                             Või ma ei ma saan aru selle mingi.  \n",
       "987                                                                                                                                                                                Mis võikski olla mõistlik, kui siit nüüd välja öelda seesama mõte, et sellega võiks inimesi harjutada, kuidas kohalikul tasemel nii-öelda rahvaalgatuse hääletusega asju ajada.  \n",
       "988  seal on üks oluline asi, mis, mis mõjutab, hakkab mõjutama valimised tihtipeale sellise, nende küsitluste kui parlamendi matemaatika puhul on mingi oht selles, et noh, et jääme nagu rääkima sellest kaks koma kaheksa ja kolm koma kaks ja lõppude lõpuks, kui me küsime, et ja mis siis ja siis ei midagi lihtsalt, et aga et huvitav on nagu arutada siin  \n",
       "989                                                                                                                                                                                                                                                                                                                                                            Aga  \n",
       "\n",
       "[989 rows x 2 columns]"
      ]
     },
     "execution_count": 18,
     "metadata": {},
     "output_type": "execute_result"
    }
   ],
   "source": [
    "df.tail(-1)"
   ]
  },
  {
   "cell_type": "markdown",
   "id": "f80c7438",
   "metadata": {},
   "source": [
    "### III Andmete eeltöötlus"
   ]
  },
  {
   "cell_type": "markdown",
   "id": "3d87fe29",
   "metadata": {},
   "source": [
    "Enne BERT-i mudeli treenimist tuleb andmeid töödelda: jagada andmed treening-, valideerimis- ja testhulkadeks, kodeerida tekstiandmed ning teisendada klassid arvulisteks tunnusteks."
   ]
  },
  {
   "cell_type": "code",
   "execution_count": 19,
   "id": "59e011a7",
   "metadata": {},
   "outputs": [],
   "source": [
    "# andmed jagatakse treening-, valideerimis- ja testandmeteks\n",
    "train_size = int(0.8 * len(df))\n",
    "val_size = int(0.1 * len(df))\n",
    "test_size = len(df) - (train_size + val_size)\n",
    "\n",
    "indeces = np.arange(0, len(df))\n",
    "random.shuffle(indeces)\n",
    "\n",
    "train_idx = indeces[0:train_size]\n",
    "val_idx = indeces[train_size:(train_size + val_size)]\n",
    "test_idx = indeces[(train_size + val_size):]"
   ]
  },
  {
   "cell_type": "code",
   "execution_count": 20,
   "id": "ad020089",
   "metadata": {},
   "outputs": [
    {
     "name": "stdout",
     "output_type": "stream",
     "text": [
      "Treeningandmeid: 792\n",
      "Valideerimisandmeid: 99\n",
      "Testandmeid: 99\n"
     ]
    }
   ],
   "source": [
    "print('Treeningandmeid:', len(train_idx))\n",
    "print('Valideerimisandmeid:', len(val_idx))\n",
    "print('Testandmeid:', len(test_idx))"
   ]
  },
  {
   "cell_type": "code",
   "execution_count": 21,
   "id": "a026df3c",
   "metadata": {},
   "outputs": [],
   "source": [
    "y_train = df['class'].iloc[train_idx]\n",
    "y_val = df['class'].iloc[val_idx]\n",
    "y_test = df['class'].iloc[test_idx]\n",
    "\n",
    "X_train = df['sentence'].iloc[train_idx]\n",
    "X_val = df['sentence'].iloc[val_idx]\n",
    "X_test = df['sentence'].iloc[test_idx]"
   ]
  },
  {
   "cell_type": "code",
   "execution_count": 22,
   "id": "c8030352",
   "metadata": {},
   "outputs": [
    {
     "name": "stdout",
     "output_type": "stream",
     "text": [
      "792 792\n",
      "99 99\n",
      "99 99\n"
     ]
    }
   ],
   "source": [
    "print(len(y_train), len(X_train))\n",
    "print(len(y_val), len(X_val))\n",
    "print(len(y_test), len(X_test))"
   ]
  },
  {
   "cell_type": "markdown",
   "id": "473da71e",
   "metadata": {},
   "source": [
    "BERT tegeleb arvudega, seetõttu kodeeritakse esiteks klassid ümber arvulisteks tunnusteks:"
   ]
  },
  {
   "cell_type": "code",
   "execution_count": 23,
   "id": "f32ae9ec",
   "metadata": {},
   "outputs": [],
   "source": [
    "le = LabelEncoder()\n",
    "\n",
    "train_labels = le.fit_transform(y_train)\n",
    "val_labels = le.fit_transform(y_val)\n",
    "test_labels = le.fit_transform(y_test)"
   ]
  },
  {
   "cell_type": "code",
   "execution_count": 24,
   "id": "43bebcbc",
   "metadata": {},
   "outputs": [
    {
     "data": {
      "text/plain": [
       "array([4, 2, 4, 4, 2, 0, 4, 4, 3, 4, 4, 0, 2, 0, 3, 0, 4, 3, 3, 3, 4, 4,\n",
       "       3, 2, 2, 2, 4, 3, 3, 2, 2, 3, 4, 3, 4, 3, 4, 2, 3, 4, 2, 0, 0, 2,\n",
       "       2, 4, 2, 2, 3, 4, 4, 2, 3, 4, 2, 3, 3, 3, 2, 2, 0, 3, 2, 3, 3, 3,\n",
       "       3, 0, 2, 3, 2, 1, 4, 3, 3, 2, 2, 2, 3, 0, 3, 2, 3, 0, 3, 4, 3, 2,\n",
       "       0, 4, 3, 3, 3, 4, 3, 3, 1, 2, 4])"
      ]
     },
     "execution_count": 24,
     "metadata": {},
     "output_type": "execute_result"
    }
   ],
   "source": [
    "# kuidas välja näevad\n",
    "val_labels"
   ]
  },
  {
   "cell_type": "markdown",
   "id": "e5466f5d",
   "metadata": {},
   "source": [
    "Seejärel tuleb kodeerida ümber laused ise. Selle jaoks kasutatakse valmis BERT-i tokeniseerijat (vt. https://huggingface.co/tartuNLP/EstBERT)."
   ]
  },
  {
   "cell_type": "code",
   "execution_count": 25,
   "id": "49dbad43",
   "metadata": {},
   "outputs": [],
   "source": [
    "tokenizer = AutoTokenizer.from_pretrained(\"tartuNLP/EstBERT\")\n",
    "\n",
    "# kuna klassifitseeritakse lauseid, peaks pikkusest 128 piisama\n",
    "max_len = 128\n",
    "\n",
    "train_encodings = tokenizer(X_train.values.tolist(), truncation=True, padding=True, max_length=max_len)\n",
    "val_encodings = tokenizer(X_val.values.tolist(), truncation=True, padding=True, max_length=max_len)\n",
    "test_encodings = tokenizer(X_test.values.tolist(), truncation=True, padding=True, max_length=max_len)"
   ]
  },
  {
   "cell_type": "code",
   "execution_count": 26,
   "id": "f6b6815c",
   "metadata": {},
   "outputs": [
    {
     "name": "stdout",
     "output_type": "stream",
     "text": [
      "['[CLS]', 'nojah', ',', 'sinu', 'jutt', 'on', 'selles', 'mo', '##ttes', 'kuradi']\n",
      "[2, 12038, 11, 1289, 3344, 42, 1013, 863, 1285, 11782]\n",
      "[(0, 0), (0, 5), (5, 6), (7, 11), (12, 16), (17, 19), (20, 26), (27, 29), (29, 33), (34, 40)]\n",
      "[1, 1, 1, 1, 1, 1, 1, 1, 1, 1]\n",
      "\n",
      "['[PAD]', '[PAD]', '[PAD]', '[PAD]', '[PAD]', '[PAD]', '[PAD]', '[PAD]', '[PAD]', '[PAD]']\n",
      "[0, 0, 0, 0, 0, 0, 0, 0, 0, 0]\n",
      "[(0, 0), (0, 0), (0, 0), (0, 0), (0, 0), (0, 0), (0, 0), (0, 0), (0, 0), (0, 0)]\n",
      "[0, 0, 0, 0, 0, 0, 0, 0, 0, 0]\n"
     ]
    }
   ],
   "source": [
    "# algusots, kus on sõnad\n",
    "print(val_encodings[0].tokens[:10])\n",
    "print(val_encodings[0].ids[:10])\n",
    "print(val_encodings[0].offsets[:10])\n",
    "print(val_encodings[0].attention_mask[:10])\n",
    "print()\n",
    "# lõpuots, kus on puhvrid\n",
    "print(val_encodings[0].tokens[-10:])\n",
    "print(val_encodings[0].ids[-10:])\n",
    "print(val_encodings[0].offsets[-10:])\n",
    "print(val_encodings[0].attention_mask[-10:])"
   ]
  },
  {
   "cell_type": "markdown",
   "id": "e94fef05",
   "metadata": {},
   "source": [
    "Viimaks teisendatakse andmehulgad tensorflow Dataset-objektideks, millest on mugav andmeid mudelile ette anda."
   ]
  },
  {
   "cell_type": "code",
   "execution_count": 27,
   "id": "c1eddbfe",
   "metadata": {},
   "outputs": [],
   "source": [
    "train_dataset = tf.data.Dataset.from_tensor_slices((\n",
    "    dict(train_encodings),\n",
    "    train_labels\n",
    "))\n",
    "val_dataset = tf.data.Dataset.from_tensor_slices((\n",
    "    dict(val_encodings),\n",
    "    val_labels\n",
    "))\n",
    "test_dataset = tf.data.Dataset.from_tensor_slices((\n",
    "    dict(test_encodings),\n",
    "    test_labels\n",
    "))"
   ]
  },
  {
   "cell_type": "code",
   "execution_count": 28,
   "id": "ddc9f176",
   "metadata": {},
   "outputs": [
    {
     "data": {
      "text/plain": [
       "<_TensorSliceDataset element_spec=({'input_ids': TensorSpec(shape=(128,), dtype=tf.int32, name=None), 'token_type_ids': TensorSpec(shape=(128,), dtype=tf.int32, name=None), 'attention_mask': TensorSpec(shape=(128,), dtype=tf.int32, name=None)}, TensorSpec(shape=(), dtype=tf.int32, name=None))>"
      ]
     },
     "execution_count": 28,
     "metadata": {},
     "output_type": "execute_result"
    }
   ],
   "source": [
    "# kuidas välja näevad\n",
    "val_dataset"
   ]
  },
  {
   "cell_type": "markdown",
   "id": "87969a46",
   "metadata": {},
   "source": [
    "### IV BERT-i mudeli treenimine "
   ]
  },
  {
   "cell_type": "markdown",
   "id": "481b0b74",
   "metadata": {},
   "source": [
    "Pärast andmete eeltöötluse sooritamist on võimalik asuda mudeli treenimise juurde. Siin kasutatakse eesti keele spetsiifilist EstBERT mudelit (vt. https://huggingface.co/tartuNLP/EstBERT). Mudeli parameetreid on võimalik vastavalt vajadusele muuta, siin võetakse kasutusele batch size 16, kolm epohhi (esmasel katsetusel 10 epohhiga oli näha, et pärast kolmandat epohhi hakkab mudel ületreenima), optimeerija Adam, mis arvestab õppimiskiiruse vähendamisega samm-sammult ning kaofunktsioon SparseCategoricalCrossentropy, sest klasse on siinsetes andmetes mitu ning iga lause saab samas kuuluda vaid ühte klassi."
   ]
  },
  {
   "cell_type": "code",
   "execution_count": 29,
   "id": "1eceaf28",
   "metadata": {},
   "outputs": [
    {
     "name": "stderr",
     "output_type": "stream",
     "text": [
      "Some weights of the PyTorch model were not used when initializing the TF 2.0 model TFBertForSequenceClassification: ['bert.embeddings.position_ids']\n",
      "- This IS expected if you are initializing TFBertForSequenceClassification from a PyTorch model trained on another task or with another architecture (e.g. initializing a TFBertForSequenceClassification model from a BertForPreTraining model).\n",
      "- This IS NOT expected if you are initializing TFBertForSequenceClassification from a PyTorch model that you expect to be exactly identical (e.g. initializing a TFBertForSequenceClassification model from a BertForSequenceClassification model).\n",
      "Some weights or buffers of the TF 2.0 model TFBertForSequenceClassification were not initialized from the PyTorch model and are newly initialized: ['bert.pooler.dense.weight', 'bert.pooler.dense.bias', 'classifier.weight', 'classifier.bias']\n",
      "You should probably TRAIN this model on a down-stream task to be able to use it for predictions and inference.\n"
     ]
    }
   ],
   "source": [
    "batch_size = 16\n",
    "num_epochs = 3 # suurema epohhide arvu korral hakkab mudel ületreenima\n",
    "\n",
    "num_train_steps = len(train_dataset) * num_epochs\n",
    "\n",
    "lr_scheduler = PolynomialDecay(\n",
    "    initial_learning_rate=5e-5, end_learning_rate=0.0, decay_steps=num_train_steps\n",
    ")\n",
    "\n",
    "optimizer = Adam(learning_rate=lr_scheduler)\n",
    "\n",
    "loss = tf.keras.losses.SparseCategoricalCrossentropy(from_logits=True)\n",
    "\n",
    "model = TFAutoModelForSequenceClassification.from_pretrained(\"tartuNLP/EstBERT\", num_labels=5)\n",
    "\n",
    "model.compile(optimizer=optimizer, loss=loss, metrics=[\"accuracy\"])"
   ]
  },
  {
   "cell_type": "markdown",
   "id": "e64df2b0",
   "metadata": {},
   "source": [
    "Seejärel treenitakse mudel."
   ]
  },
  {
   "cell_type": "code",
   "execution_count": 30,
   "id": "31b8e9a7",
   "metadata": {},
   "outputs": [
    {
     "name": "stdout",
     "output_type": "stream",
     "text": [
      "Epoch 1/3\n",
      "50/50 [==============================] - 548s 10s/step - loss: 1.1501 - accuracy: 0.5139 - val_loss: 0.9809 - val_accuracy: 0.5758\n",
      "Epoch 2/3\n",
      "50/50 [==============================] - 511s 10s/step - loss: 0.6103 - accuracy: 0.7879 - val_loss: 0.5438 - val_accuracy: 0.8283\n",
      "Epoch 3/3\n",
      "50/50 [==============================] - 514s 10s/step - loss: 0.2558 - accuracy: 0.9167 - val_loss: 0.5064 - val_accuracy: 0.8081\n"
     ]
    },
    {
     "data": {
      "image/png": "[encoded data removed]",
      "text/plain": [
       "<Figure size 1400x400 with 3 Axes>"
      ]
     },
     "metadata": {},
     "output_type": "display_data"
    }
   ],
   "source": [
    "# mudeli treenimine ja progressi visualiseerimine\n",
    "history = model.fit(train_dataset.batch(batch_size), epochs=num_epochs, validation_data=val_dataset.batch(batch_size))\n",
    "\n",
    "epochs = np.arange(1, 4)\n",
    "fig, (ax1, ax2, ax3) = plt.subplots(1, 3, constrained_layout=True, figsize=(14, 4))\n",
    "ax1.set_title('Loss')\n",
    "ax1.set_xlabel('epoch')\n",
    "ax1.plot(epochs, history.history['loss'], c='blue', label='train', marker='o')\n",
    "ax1.plot(epochs, history.history['val_loss'], c='orange', label='val', marker='o')\n",
    "ax1.legend()\n",
    "ax2.set_title('Accuracy')\n",
    "ax2.set_xlabel('epoch')\n",
    "ax2.plot(epochs, history.history['accuracy'], c='blue', label='train', marker='o')\n",
    "ax2.plot(epochs, history.history['val_accuracy'], c='orange', label='val', marker='o')\n",
    "ax2.legend()\n",
    "ax3.set_title('Learning rate')\n",
    "ax3.set_xlabel('epoch')\n",
    "learning_rate = lr_scheduler(np.arange(num_epochs))\n",
    "ax3.plot(epochs, learning_rate, c='green', marker='o')\n",
    "plt.show()"
   ]
  },
  {
   "cell_type": "markdown",
   "id": "cc9b25cd",
   "metadata": {},
   "source": [
    "Mudeli täpsuse (accuracy) hindamine testandmetel:"
   ]
  },
  {
   "cell_type": "code",
   "execution_count": 49,
   "id": "b6ffadd1",
   "metadata": {},
   "outputs": [
    {
     "name": "stdout",
     "output_type": "stream",
     "text": [
      "7/7 [==============================] - 15s 2s/step\n"
     ]
    },
    {
     "data": {
      "text/plain": [
       "0.8585858585858586"
      ]
     },
     "execution_count": 49,
     "metadata": {},
     "output_type": "execute_result"
    }
   ],
   "source": [
    "pred = model.predict(test_dataset.batch(batch_size))['logits'] # väljundväärtustele pole softmaxi rakendatud\n",
    "y_pred = [np.argmax(vector) for vector in pred]\n",
    "\n",
    "accuracy_score(test_labels, y_pred)"
   ]
  },
  {
   "cell_type": "markdown",
   "id": "1374fed9",
   "metadata": {},
   "source": [
    "Mudel salvestatakse, sealjuures tekib automaatselt töökausta uus kaust."
   ]
  },
  {
   "cell_type": "code",
   "execution_count": 32,
   "id": "938bd13d",
   "metadata": {},
   "outputs": [],
   "source": [
    "model.save_pretrained('BERT_sentence_classification')"
   ]
  },
  {
   "cell_type": "markdown",
   "id": "6a0effc5",
   "metadata": {},
   "source": [
    "### V Hindamine"
   ]
  },
  {
   "cell_type": "markdown",
   "id": "489fa1b4",
   "metadata": {},
   "source": [
    "Mudeli headust saab hinnata rohkema, kui täpsuse (accuracy) kaudu testandmetel. Siin uuritakse mudeli sooritust mõnel uuel lausel. Samuti vaadatakse üle vale klassi saanud laused, sest võib juhtuda, et mudeli pakutav klass osutub sobilikumaks, kui varasemalt automaatselt märgendatud klass. Siiski tasub pidada silmas, et selline lähenemine sobib siinsel väikesel andmehulgal, kuid suurte andmehulkade korral ei pruugi olla võimalik kõiki vigu käsitsi üle vaadata. Viimaks tehakse precision-recall joonis.\n",
    "\n",
    "Esmalt võetakse paar näitelauset ja vaadatakse, mis klasse mudel lausetele ennustab."
   ]
  },
  {
   "cell_type": "code",
   "execution_count": 195,
   "id": "de208dcb",
   "metadata": {},
   "outputs": [
    {
     "name": "stderr",
     "output_type": "stream",
     "text": [
      "Some layers from the model checkpoint at BERT_sentence_classification were not used when initializing TFBertForSequenceClassification: ['dropout_37']\n",
      "- This IS expected if you are initializing TFBertForSequenceClassification from the checkpoint of a model trained on another task or with another architecture (e.g. initializing a BertForSequenceClassification model from a BertForPreTraining model).\n",
      "- This IS NOT expected if you are initializing TFBertForSequenceClassification from the checkpoint of a model that you expect to be exactly identical (initializing a BertForSequenceClassification model from a BertForSequenceClassification model).\n",
      "All the layers of TFBertForSequenceClassification were initialized from the model checkpoint at BERT_sentence_classification.\n",
      "If your task is similar to the task the model of the checkpoint was trained on, you can already use TFBertForSequenceClassification for predictions without further training.\n"
     ]
    }
   ],
   "source": [
    "# salvestatud mudelit saab uuesti sisse lugeda\n",
    "finetuned_model = TFAutoModelForSequenceClassification.from_pretrained('BERT_sentence_classification')\n",
    "tokenizer = AutoTokenizer.from_pretrained(\"tartuNLP/EstBERT\")\n",
    "\n",
    "clf = pipeline(\"text-classification\", model=finetuned_model, tokenizer=tokenizer)"
   ]
  },
  {
   "cell_type": "markdown",
   "id": "c81bce8c",
   "metadata": {},
   "source": [
    "Ennustatakse kahe uue lause klassid:"
   ]
  },
  {
   "cell_type": "code",
   "execution_count": 194,
   "id": "fe9dcb85",
   "metadata": {},
   "outputs": [
    {
     "name": "stdout",
     "output_type": "stream",
     "text": [
      "[{'label': 'LABEL_4', 'score': 0.581658124923706}]\n",
      "[{'label': 'LABEL_2', 'score': 0.8458204865455627}]\n"
     ]
    }
   ],
   "source": [
    "new_pred1 = clf.predict(\"Sel aastal valimistel ei osaleta.\")\n",
    "print(new_pred1)\n",
    "new_pred2 = clf.predict(\"Erakond ei osale selle aasta valimistel.\")\n",
    "print(new_pred2)"
   ]
  },
  {
   "cell_type": "markdown",
   "id": "de26c4c7",
   "metadata": {},
   "source": [
    "Nagu näha, on ennustatud klassid ('label') esitatud kodeeritud kujul. Et näha, mis klassinimed nende taga on, võib kasutada funktsioonide abi."
   ]
  },
  {
   "cell_type": "code",
   "execution_count": 190,
   "id": "ad061d91",
   "metadata": {},
   "outputs": [],
   "source": [
    "# funktsioon klassinime kättesaamiseks ja tagastamiseks sõnena\n",
    "def get_classname(pred):\n",
    "    # returns original classname\n",
    "    classname = le.inverse_transform([int(pred[0]['label'][-1])])\n",
    "    return str(classname[0])\n",
    "\n",
    "# funktsioon, mis tagastab natuke muudetud kujul ennustuse\n",
    "def get_sentence_prediction(sentence):\n",
    "    # returns sentence with its' predicted class and score\n",
    "    pred = clf.predict(sentence)\n",
    "    classname = get_classname(pred)\n",
    "    return [{'sentence': sentence, 'label': classname, 'score': pred[0]['score']}]"
   ]
  },
  {
   "cell_type": "code",
   "execution_count": 196,
   "id": "35745774",
   "metadata": {},
   "outputs": [
    {
     "data": {
      "text/plain": [
       "[{'sentence': 'Festivalil sel aastal ei osaleta.',\n",
       "  'label': 'None',\n",
       "  'score': 0.9677992463111877}]"
      ]
     },
     "execution_count": 196,
     "metadata": {},
     "output_type": "execute_result"
    }
   ],
   "source": [
    "# lause, kus esineb küll siinse andmestiku klassiga 'valimised' otseselt seonduv verb, kuid puudub ilmutatud kujul tegija\n",
    "get_sentence_prediction(\"Festivalil sel aastal ei osaleta.\")"
   ]
  },
  {
   "cell_type": "code",
   "execution_count": 197,
   "id": "49e9060c",
   "metadata": {},
   "outputs": [
    {
     "data": {
      "text/plain": [
       "[{'sentence': 'Valimistel sel aastal ei osaleta.',\n",
       "  'label': 'None',\n",
       "  'score': 0.717064380645752}]"
      ]
     },
     "execution_count": 197,
     "metadata": {},
     "output_type": "execute_result"
    }
   ],
   "source": [
    "# lause, kus esineb küll siinse andmestiku klassiga 'valimised' otseselt seonduv verb, kuid puudub ilmutatud kujul tegija\n",
    "get_sentence_prediction(\"Valimistel sel aastal ei osaleta.\")"
   ]
  },
  {
   "cell_type": "code",
   "execution_count": 199,
   "id": "efdbd113",
   "metadata": {},
   "outputs": [
    {
     "data": {
      "text/plain": [
       "[{'sentence': 'Kassid ei osale selle aasta valimistel.',\n",
       "  'label': 'valimised',\n",
       "  'score': 0.838873565196991}]"
      ]
     },
     "execution_count": 199,
     "metadata": {},
     "output_type": "execute_result"
    }
   ],
   "source": [
    "# lause, kus tegijaks on 'kassid'\n",
    "get_sentence_prediction(\"Kassid ei osale selle aasta valimistel.\")"
   ]
  },
  {
   "cell_type": "code",
   "execution_count": 192,
   "id": "6c765ecb",
   "metadata": {},
   "outputs": [
    {
     "data": {
      "text/plain": [
       "[{'sentence': 'Erakond ei osale selle aasta valimistel.',\n",
       "  'label': 'valimised',\n",
       "  'score': 0.8458204865455627}]"
      ]
     },
     "execution_count": 192,
     "metadata": {},
     "output_type": "execute_result"
    }
   ],
   "source": [
    "# lause, kus tegijaks on 'erakond'\n",
    "get_sentence_prediction(\"Erakond ei osale selle aasta valimistel.\")"
   ]
  },
  {
   "cell_type": "code",
   "execution_count": 193,
   "id": "5d6004a0",
   "metadata": {},
   "outputs": [
    {
     "data": {
      "text/plain": [
       "[{'sentence': 'Keskerakond ei osale selle aasta valimistel.',\n",
       "  'label': 'valimised',\n",
       "  'score': 0.9883395433425903}]"
      ]
     },
     "execution_count": 193,
     "metadata": {},
     "output_type": "execute_result"
    }
   ],
   "source": [
    "# lause, kus tegijaks on 'keskerakond', mis on tõenäoliselt treeningandmestikus esinenud; skoor eelnevast kõrgem\n",
    "get_sentence_prediction(\"Keskerakond ei osale selle aasta valimistel.\")"
   ]
  },
  {
   "cell_type": "markdown",
   "id": "06b451d6",
   "metadata": {},
   "source": [
    "Näitelausete põhjal tundub, et mudel on õppinud, et klassi (mis pole None) võib suurema kindlustasemega määrata lausetele, kus on ilmutatud kujul tegevusega seotud tegija/agent. None-klassi võib jällegi määrata suurema kindlustasemega lausetele, kus ilmutatud kujul tegija/agent puudub. Ühtlasi ei paista suurt kaalu omavat see, kas tegija/agent on poliitikavaldkonna-spetsiifiline ('kassid' ja 'erakond' said peaaegu sama tulemuse) juhul, kui see entiteet on üldisem mõiste. Teiste entiteetidega võrreldes sai 'keskerakond' märgatavalt suurema kindlustaseme, mis tuleneb ilmselt sellest, et treeningandmetes olid tegija/agendi rollis spetsiifilisemad nimeüksused. Tuleb siiski märkida, et siin treenitud mudel on näitlik ning suuremal andmehulgal treenitud mudel annaks paremaid tulemusi, millest saaks kindlamaid järeldusi teha."
   ]
  },
  {
   "cell_type": "markdown",
   "id": "bc9f2456",
   "metadata": {},
   "source": [
    "Järgnevalt leitakse testandmestikule tehtud ennustuste seast vigased ennustused, kus ennustatav klass ei ühti tegeliku klassiga ning väljastatakse vastavad laused ekraanile. Sellised laused saab vaadata käsitsi üle. Siin lauseid ümber märgendama ei hakata, kuid soovi korral võib seda teha lausetega, mis ilmselgelt muusse klassi kuuluda võiksid."
   ]
  },
  {
   "cell_type": "code",
   "execution_count": 117,
   "id": "e8baf194",
   "metadata": {},
   "outputs": [
    {
     "name": "stdout",
     "output_type": "stream",
     "text": [
      "TEKST: et oli teada et esimene kaik koma kaks ja neli aga kuhu edasi minna mille koikuda.\n",
      "PRED_LABEL: valitsemine TRUE_LABEL: vaidlused ja erimeelsused\n",
      "\n",
      "TEKST: osakond tegeles ideoloogilise vastuluurega, oli puhendatud noorte mojutamisele ja muuhulgas on ta siis osalenud ka koos meelisega.\n",
      "PRED_LABEL: None TRUE_LABEL: vaidlused ja erimeelsused\n",
      "\n",
      "TEKST: aga nuud siis ongi asi selles, et tallinnas siis nagu me teame, luuakse siis valimisliit tegus tallinn, mille saravamad nimed paistavad siis hetkel olevat urmas soorumaa ja juri mois ja tuleb siis tunnistada ka seda, et kampaania meistriks on siis valitud sinna mart luik ja kui see ei ole mingi teine mart, luhike, mina lugesin sellest ka ajalehe.\n",
      "PRED_LABEL: valitsemine TRUE_LABEL: valimised\n",
      "\n",
      "TEKST: aga selle puhul selle puhul on ometigi naha, et meil on niivord tugev vastuseis, et see on tartu linn seal on seal on vaga palju inimesi seal on vaga head argumendid, kusjuures uks argumente on veel see, et, et see eriplaneerimine on moeldud eeskatt moeldud uldse, selleks, et leida koht, aga antud juhul on nii - oelda koht enne eriplaneeringut juba paika pandud ja miskiparast see on uks lugu, kus kohas ratas ei koigu ja minu meelest on selle taga, et ma olen nagu aru saanud, aga selle taga on mingisugune lobi, mis ratast vaga tugevasti mojut\n",
      "PRED_LABEL: valimised TRUE_LABEL: valitsemine\n",
      "\n",
      "TEKST: et monarh vois kull tsingis - khaani voib - olla isegi, isegi tema, eks ja ta naeb,\n",
      "PRED_LABEL: None TRUE_LABEL: vaidlused ja erimeelsused\n",
      "\n",
      "TEKST: nimelt see et minust minulgi oli siin nagu ma kirjutasin viimases ekspressis kes viitsib lugeda et kuidas ma riigikokku ei kandideeri et minulgi oli vaike sugis veel uhe parempoolse erakonnaga siin ja seal kes sellega nagu ma siis naine sai teada et ei see loppes see asi loppes sellega et nii nagu tsiteerides ilfi ja petrovi et me laksime lahku nagu laevad ulgumerel ja aga ma pean tunnistama sisse enne testi enesekriitiliselt uhte asja selle aja jooksul kui ma sellele ettepanekule motlesin tundsin et mul nagu selline minu poliitiline nagemine hakkab juba muutunud ning asi laks nagu kuidagi haguseks ma hakkas nagu vaatavad kas\n",
      "PRED_LABEL: vaidlused ja erimeelsused TRUE_LABEL: valitsemine\n",
      "\n",
      "TEKST: et kui palju inimesi tuleb siis, kui nad langetavad viisteist protsenti ja kui palju kahekumne ja kui palju kolmekumne protsendi peale, et see, et nad ei osanud ette naha, see on kahtlemata jamaga, mis teisest kuljest ei, ei ei anna mingisugust alust selleks, et mit te uskuda selle omaniku siirast kahetsust, et laks nagu kehvasti, et seda, mida ta muidugi, seda voib ikka uskuda, aga ma tahtsin kusida, et kas sel nadalal uks, uks veidramaid uudiseid igasuguste korona uudiste hulgas oli tartu keskerakondlase jaan tootsi maaramine siis ettevotluse arendamise sihtasutuse noukogu\n",
      "PRED_LABEL: valimised TRUE_LABEL: vaidlused ja erimeelsused\n",
      "\n",
      "TEKST: aga tegelikult oligi, oli ikkagi juba enam kui nadal aega varem teada, et vaga suure toenaosusega eiki nestor ei kandideeri ja, ja miks ta ei kandideeri sotside poolt oli see nii - oelda puhas pragmaatiline otsus.\n",
      "PRED_LABEL: valitsemine TRUE_LABEL: vaidlused ja erimeelsused\n",
      "\n",
      "TEKST: minule tundus see avaldus reformiga mingit trikki tekib ma oma ma kahtlustan vaga - vaga seda et.\n",
      "PRED_LABEL: vaidlused ja erimeelsused TRUE_LABEL: valimised\n",
      "\n",
      "TEKST: jah, et, et nuud ossinovski on suutnud ennast kuidagi huvitavalt selleks alkoholipoliitika eestvoitlejaks positsioneerida, aga et tegelikult vist vist on see natuke natukene laiem probleem, et huvitaval kombel on suutnud ossinovski eesti paevalehe arvamustoimetuse ajada uli - ulitigedaks, et nad koige - koigepealt, nad toovad valja selle, et, et kuidas ossinovski on alkoholipoliitika taga tagajarjeks osas taitsa taiesti ilmselt manipuleerinud statistikaga ja, ja see, kuidas teeleht seda, seda siin kirjeldanud ja toestanud, et see on taiesti veenev ka minu jaoks.\n",
      "PRED_LABEL: vaidlused ja erimeelsused TRUE_LABEL: valetamine\n",
      "\n",
      "TEKST: nii valitsus kui riigikogu komisjonid, kes esindavad antud asjas siis riigikogu on valja tootanud oma seisukohad pagulaste vastuvotmise suhtes ja seda voiks luhidalt kokku votta, nii et eesti suudab kahe aastaga vastu votta sada viiskummend kuus pogeniku ja kui me nuud vordleme seda, siis nende esialgsete numbritega, mis siis euroopa komisjoni poolt pakuti siis oleks see number on tuhat nii et tuhat pakuti ja eesti valitsus ja riigikogu komisjonid on oelnud, aga suudame vastu votta ainult sada viiskummend kuus pogenikku, see vahe on ikka usna - usna suur.\n",
      "PRED_LABEL: valimised TRUE_LABEL: valitsemine\n",
      "\n",
      "TEKST: ja loomulikult siis keskkonnaminister siis eitab igasugust seost autol ametliku asjaajamisega ja ja ja oma seoseid riigikogu arvutisusteemiga just nii aga see on siiski nii - oelda rahade liikumise suhtes on sellise margilise voi voi poliitiliste rahade liikumise suhtes on sellise margilise tahtsusega kohtuprotsessi peab utlema et nuud rosimannus pentus - rosimannus rosimannus voitlevad kull nii - oelda viimase vindi peal sellest et et et et nende nende raha liikumine jaaks siis uheks uheks saladuseks aga kuigi kuigi nuud peab utlema et kohus on olnud suhteliselt selline selline noh nagu otsekohene lainud jarjepidevalt edasi et selle kohtuotsuse\n",
      "PRED_LABEL: valimised TRUE_LABEL: valitsemine\n",
      "\n",
      "TEKST: et sellest, et, et selle riigi riigi otsustest soltub siin ikkagi paris, paris palju.\n",
      "PRED_LABEL: valimised TRUE_LABEL: valitsemine\n",
      "\n",
      "TEKST: see on aga kui raakida veel sellist avalikust debatist siis mulle tundus sumpaatne see.\n",
      "PRED_LABEL: valitsemine TRUE_LABEL: valimised\n",
      "\n",
      "Eksimusi kokku: 14\n",
      "Eksimuste osakaal: 14.14 %\n"
     ]
    }
   ],
   "source": [
    "num_of_mistakes = 0\n",
    "\n",
    "for i in range(len(y_pred)):\n",
    "    if y_pred[i] != test_labels[i]:\n",
    "        num_of_mistakes += 1\n",
    "        tokens = [t for t in train_encodings[i].ids if  t > 3]\n",
    "        print(\"TEKST:\", tokenizer.decode(tokens))\n",
    "        print(\"PRED_LABEL:\", le.inverse_transform([y_pred[i]])[0], \"TRUE_LABEL:\", le.inverse_transform([test_labels[i]])[0])\n",
    "        print()\n",
    "print(\"Eksimusi kokku:\", num_of_mistakes)\n",
    "print(\"Eksimuste osakaal:\", round((num_of_mistakes/len(y_pred))*100, 2), \"%\")"
   ]
  },
  {
   "cell_type": "markdown",
   "id": "3c59d738",
   "metadata": {},
   "source": [
    "Järgmiseks tehakse joonis täpsuse-saagise kõverast (precision-recall curve) kõigi klasside kohta, et hinnata klasside täpsuse ja saagise suhet. Selleks on vaja teisendada mudeli ennustused tõenäosusteks ja teisendada klassid binaarseteks."
   ]
  },
  {
   "cell_type": "markdown",
   "id": "a4d6d064",
   "metadata": {},
   "source": [
    "Mudeli poolt antud ennustustele rakendatakse softmaxi funktsiooni, et saada kätte tõenäosused:"
   ]
  },
  {
   "cell_type": "code",
   "execution_count": 210,
   "id": "fc5dcc60",
   "metadata": {},
   "outputs": [],
   "source": [
    "probabilities = tf.nn.softmax(pred)"
   ]
  },
  {
   "cell_type": "code",
   "execution_count": 212,
   "id": "fbefb4f2",
   "metadata": {},
   "outputs": [
    {
     "name": "stdout",
     "output_type": "stream",
     "text": [
      "tf.Tensor([0.9456334  0.0212262  0.0138625  0.01378725 0.00549071], shape=(5,), dtype=float32)\n"
     ]
    }
   ],
   "source": [
    "print(probabilities[0])"
   ]
  },
  {
   "cell_type": "markdown",
   "id": "cc31ea6f",
   "metadata": {},
   "source": [
    "Klassid teisendatakse binaarseteks ja tehakse joonis:"
   ]
  },
  {
   "cell_type": "code",
   "execution_count": 239,
   "id": "383a3bbd",
   "metadata": {},
   "outputs": [
    {
     "data": {
      "image/png": "[encoded data removed]",
      "text/plain": [
       "<Figure size 640x480 with 1 Axes>"
      ]
     },
     "metadata": {},
     "output_type": "display_data"
    }
   ],
   "source": [
    "precision = dict()\n",
    "recall = dict()\n",
    "\n",
    "# vajalik samm, sest precision_recall_curve on mõeldud töötama binaarsete klassidega\n",
    "Y = label_binarize(test_labels, classes=[0, 1, 2, 3, 4])\n",
    "\n",
    "for i in range(5): # 5 tähistab klasside arvu\n",
    "    precision[i], recall[i], _ = precision_recall_curve(Y[:, i],\n",
    "                                                        probabilities[:, i])\n",
    "    plt.plot(recall[i], precision[i], lw=2, label=str(le.inverse_transform([i])[0]))\n",
    "    \n",
    "plt.xlabel(\"recall\")\n",
    "plt.ylabel(\"precision\")\n",
    "plt.legend(loc=\"best\")\n",
    "plt.title(\"precision-recall curve\")\n",
    "plt.show()"
   ]
  },
  {
   "cell_type": "markdown",
   "id": "65398c52",
   "metadata": {},
   "source": [
    "Jooniselt nähtuv klassi \"valetamine\" ideaalset tulemust (nii precision kui recall võrduvad ühega) ei peaks tõsiselt võtma, sest seda esines andmestikus väga vähe. Teiste klasside puhul on näha, et parim tulemus on saadud None-klassiga, millele järgneb klass \"valimised\", mis oli ühtlasi suurima esinemissagedusega klass."
   ]
  },
  {
   "cell_type": "code",
   "execution_count": null,
   "id": "e44171f9",
   "metadata": {},
   "outputs": [],
   "source": []
  }
 ],
 "metadata": {
  "kernelspec": {
   "display_name": "Python 3 (ipykernel)",
   "language": "python",
   "name": "python3"
  },
  "language_info": {
   "codemirror_mode": {
    "name": "ipython",
    "version": 3
   },
   "file_extension": ".py",
   "mimetype": "text/x-python",
   "name": "python",
   "nbconvert_exporter": "python",
   "pygments_lexer": "ipython3",
   "version": "3.10.11"
  }
 },
 "nbformat": 4,
 "nbformat_minor": 5
}
