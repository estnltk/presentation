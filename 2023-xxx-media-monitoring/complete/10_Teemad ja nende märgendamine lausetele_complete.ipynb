{
 "cells": [
  {
   "cell_type": "markdown",
   "id": "a07cdafd",
   "metadata": {},
   "source": [
    "## Teemad ja nende märgendamine lausetele"
   ]
  },
  {
   "cell_type": "markdown",
   "id": "b5a1458e",
   "metadata": {},
   "source": [
    "Süntaksianalüüsi, manuaalse ülevaatuse ja Word2Veci kasutamise tulemusel saadi loend teemadest ja neid ilmestavatest märksõnadest. Märksõnadeks on verbid, mis peaksid olema lauses nimeüksuste ülemuseks (parent) ehk kirjeldama, mida nimeüksus lauses teeb. Järgnevalt tuleb jaotada laused temaatilistesse klassidesse. Selleks kasutatakse taaskord PhraseTaggerit. Kui märksõnad on lausetele märgendatud, tuleb taaskord filtreerida lauseid selle põhjal, kas märksõna verb on lauses süntaktiliselt nimeüksusega seotud. Filtri läbinud laused säilitatakse hilisemaks lauseteklassifitseerimismudeli treenimiseks."
   ]
  },
  {
   "cell_type": "code",
   "execution_count": 2,
   "id": "4e050adb",
   "metadata": {},
   "outputs": [],
   "source": [
    "# Vajalikud impordid\n",
    "from estnltk import Text\n",
    "from estnltk.taggers.system.rule_taggers import AmbiguousRuleset, Ruleset, StaticExtractionRule\n",
    "from estnltk.taggers import PhraseTagger\n",
    "import sqlite3\n",
    "from estnltk.converters import json_to_text\n",
    "from estnltk.converters import text_to_json\n",
    "import csv\n",
    "from collections import Counter"
   ]
  },
  {
   "cell_type": "markdown",
   "id": "5c4cc0f8",
   "metadata": {},
   "source": [
    "### I temaatilised märksõnad ja laused"
   ]
  },
  {
   "cell_type": "markdown",
   "id": "cc8d1a67",
   "metadata": {},
   "source": [
    "Temaatilised märksõnad, mida märgendamisel kasutatakse on salvestatud CSV-faili."
   ]
  },
  {
   "cell_type": "code",
   "execution_count": 2,
   "id": "e00b1035",
   "metadata": {},
   "outputs": [],
   "source": [
    "with open('thematic_keywords.csv', encoding='UTF-8') as csv_file:\n",
    "    rows = []\n",
    "    reader = csv.DictReader(csv_file)\n",
    "    for row in reader:\n",
    "        rows.append(row)"
   ]
  },
  {
   "cell_type": "code",
   "execution_count": 3,
   "id": "8f3bf71c",
   "metadata": {},
   "outputs": [
    {
     "data": {
      "text/plain": [
       "97"
      ]
     },
     "execution_count": 3,
     "metadata": {},
     "output_type": "execute_result"
    }
   ],
   "source": [
    "len(rows)"
   ]
  },
  {
   "cell_type": "code",
   "execution_count": 4,
   "id": "f97309d4",
   "metadata": {},
   "outputs": [
    {
     "name": "stdout",
     "output_type": "stream",
     "text": [
      "[{'lemma': 'callable', 'class': 'string'}, {'lemma': \"'vastanduma',\", 'class': 'vaidlused ja erimeelsused'}, {'lemma': \"'võitlema',\", 'class': 'vaidlused ja erimeelsused'}, {'lemma': \"'häbistama',\", 'class': 'vaidlused ja erimeelsused'}, {'lemma': \"'vaidlema',\", 'class': 'vaidlused ja erimeelsused'}, {'lemma': \"'nokkima',\", 'class': 'vaidlused ja erimeelsused'}, {'lemma': \"'protestima',\", 'class': 'vaidlused ja erimeelsused'}, {'lemma': \"'sõdima',\", 'class': 'vaidlused ja erimeelsused'}, {'lemma': \"'debateerima',\", 'class': 'vaidlused ja erimeelsused'}, {'lemma': \"'diskuteerima',\", 'class': 'vaidlused ja erimeelsused'}, {'lemma': \"'nurisema',\", 'class': 'vaidlused ja erimeelsused'}, {'lemma': \"'ründama',\", 'class': 'vaidlused ja erimeelsused'}, {'lemma': \"'süüdistama',\", 'class': 'vaidlused ja erimeelsused'}, {'lemma': \"'kandideerima',\", 'class': 'valimised'}, {'lemma': \"'valima',\", 'class': 'valimised'}, {'lemma': \"'võitma',\", 'class': 'valimised'}, {'lemma': \"'lubama',\", 'class': 'valimised'}, {'lemma': \"'osalema',\", 'class': 'valimised'}, {'lemma': \"'hääletama',\", 'class': 'valimised'}, {'lemma': \"'kavatsema',\", 'class': 'valimised'}, {'lemma': \"'toetama',\", 'class': 'valimised'}, {'lemma': \"'valetama',\", 'class': 'valetamine'}, {'lemma': \"'varjama',\", 'class': 'valetamine'}, {'lemma': \"'mustama',\", 'class': 'valetamine'}, {'lemma': \"'kuritarvitama',\", 'class': 'valetamine'}, {'lemma': \"'manipuleerima',\", 'class': 'valetamine'}, {'lemma': \"'juhtima',\", 'class': 'valitsemine'}, {'lemma': \"'otsustama',\", 'class': 'valitsemine'}, {'lemma': \"'kaasama',\", 'class': 'valitsemine'}, {'lemma': \"'mõjutama',\", 'class': 'valitsemine'}, {'lemma': \"'esindama',\", 'class': 'valitsemine'}, {'lemma': \"'määrama',\", 'class': 'valitsemine'}, {'lemma': \"'kinnitama',\", 'class': 'valitsemine'}, {'lemma': \"'menetlema',\", 'class': 'valitsemine'}, {'lemma': \"'vastutama',\", 'class': 'valitsemine'}, {'lemma': \"'suunama',\", 'class': 'valitsemine'}, {'lemma': \"'paigutama',\", 'class': 'valitsemine'}, {'lemma': \"'finantseerima',\", 'class': 'valitsemine'}, {'lemma': \"'investeerima',\", 'class': 'valitsemine'}, {'lemma': \"'rahastama',\", 'class': 'valitsemine'}, {'lemma': \"'mõjuma',\", 'class': 'valitsemine'}, {'lemma': \"'piirama',\", 'class': 'valitsemine'}, {'lemma': \"'pommitama',\", 'class': 'vaidlused ja erimeelsused'}, {'lemma': \"'kritiseerima',\", 'class': 'vaidlused ja erimeelsused'}, {'lemma': \"'teotama',\", 'class': 'vaidlused ja erimeelsused'}, {'lemma': \"'vastandama',\", 'class': 'vaidlused ja erimeelsused'}, {'lemma': \"'piketeerima',\", 'class': 'vaidlused ja erimeelsused'}, {'lemma': \"'šantažeerima',\", 'class': 'vaidlused ja erimeelsused'}, {'lemma': \"'protesteerima',\", 'class': 'vaidlused ja erimeelsused'}, {'lemma': \"'mõnitama',\", 'class': 'vaidlused ja erimeelsused'}, {'lemma': \"'arutlema',\", 'class': 'vaidlused ja erimeelsused'}, {'lemma': \"'kaitsma',\", 'class': 'vaidlused ja erimeelsused'}, {'lemma': \"'pahandama',\", 'class': 'vaidlused ja erimeelsused'}, {'lemma': \"'hädaldama',\", 'class': 'vaidlused ja erimeelsused'}, {'lemma': \"'virisema',\", 'class': 'vaidlused ja erimeelsused'}, {'lemma': \"'argumenteerima',\", 'class': 'vaidlused ja erimeelsused'}, {'lemma': \"'eitama',\", 'class': 'vaidlused ja erimeelsused'}, {'lemma': \"'kahtlustama',\", 'class': 'vaidlused ja erimeelsused'}, {'lemma': \"'kaagutama',\", 'class': 'vaidlused ja erimeelsused'}, {'lemma': \"'prääksuma',\", 'class': 'vaidlused ja erimeelsused'}, {'lemma': \"'heitlema',\", 'class': 'vaidlused ja erimeelsused'}, {'lemma': \"'inisema',\", 'class': 'vaidlused ja erimeelsused'}, {'lemma': \"'väitlema',\", 'class': 'vaidlused ja erimeelsused'}, {'lemma': \"'kiruma',\", 'class': 'vaidlused ja erimeelsused'}, {'lemma': \"'naeruvääristama',\", 'class': 'vaidlused ja erimeelsused'}, {'lemma': \"'tulistama',\", 'class': 'vaidlused ja erimeelsused'}, {'lemma': \"'kurtma',\", 'class': 'vaidlused ja erimeelsused'}, {'lemma': \"'vastustama',\", 'class': 'vaidlused ja erimeelsused'}, {'lemma': \"'alistama',\", 'class': 'valimised'}, {'lemma': \"'võidutsema',\", 'class': 'valimised'}, {'lemma': \"'pürgima',\", 'class': 'valimised'}, {'lemma': \"'edestama',\", 'class': 'valimised'}, {'lemma': \"'pooldama',\", 'class': 'valimised'}, {'lemma': \"'luiskama',\", 'class': 'valetamine'}, {'lemma': \"'peitma',\", 'class': 'valetamine'}, {'lemma': \"'vassima',\", 'class': 'valetamine'}, {'lemma': \"'petma',\", 'class': 'valetamine'}, {'lemma': \"'reetma',\", 'class': 'valetamine'}, {'lemma': \"'reinvesteerima',\", 'class': 'valitsemine'}, {'lemma': \"'transportima',\", 'class': 'valitsemine'}, {'lemma': \"'vähendama',\", 'class': 'valitsemine'}, {'lemma': \"'takistama',\", 'class': 'valitsemine'}, {'lemma': \"'halvendama',\", 'class': 'valitsemine'}, {'lemma': \"'paigaldama',\", 'class': 'valitsemine'}, {'lemma': \"'arutama',\", 'class': 'valitsemine'}, {'lemma': \"'hoolitsema',\", 'class': 'valitsemine'}, {'lemma': \"'tõkestama',\", 'class': 'valitsemine'}, {'lemma': \"'rajama',\", 'class': 'valitsemine'}, {'lemma': \"'kitsendama',\", 'class': 'valitsemine'}, {'lemma': \"'pärssima',\", 'class': 'valitsemine'}, {'lemma': \"'kahjustama',\", 'class': 'valitsemine'}, {'lemma': \"'ehitama',\", 'class': 'valitsemine'}, {'lemma': \"'määratlema',\", 'class': 'valitsemine'}, {'lemma': \"'käskima',\", 'class': 'valitsemine'}, {'lemma': \"'kohustama',\", 'class': 'valitsemine'}, {'lemma': \"'kavandama',\", 'class': 'valitsemine'}, {'lemma': \"'korraldama',\", 'class': 'valitsemine'}]\n"
     ]
    }
   ],
   "source": [
    "print(rows)"
   ]
  },
  {
   "cell_type": "markdown",
   "id": "3839b8fd",
   "metadata": {},
   "source": [
    "Andmebaasist loetakse süntaktilise analüüsi kihiga laused."
   ]
  },
  {
   "cell_type": "code",
   "execution_count": 3,
   "id": "dc18a1dc",
   "metadata": {},
   "outputs": [],
   "source": [
    "sentences = []\n",
    "sentence_ids = []"
   ]
  },
  {
   "cell_type": "code",
   "execution_count": 4,
   "id": "024719be",
   "metadata": {},
   "outputs": [],
   "source": [
    "con = sqlite3.connect(\"media_data_complete.db\")\n",
    "cur = con.cursor()"
   ]
  },
  {
   "cell_type": "code",
   "execution_count": 5,
   "id": "38108d5b",
   "metadata": {},
   "outputs": [],
   "source": [
    "for row in cur.execute(\"SELECT ID, sentence FROM sentences_syntax_analysis\"):\n",
    "    sentence_id = row[0]\n",
    "    sentence = json_to_text(json_text=row[1])\n",
    "    sentences.append(sentence)\n",
    "    sentence_ids.append(sentence_id)"
   ]
  },
  {
   "cell_type": "code",
   "execution_count": 6,
   "id": "e30fb7f7",
   "metadata": {},
   "outputs": [],
   "source": [
    "con.close()"
   ]
  },
  {
   "cell_type": "markdown",
   "id": "e910c821",
   "metadata": {},
   "source": [
    "### II PhraseTagger märksõnade lausetele märkimiseks"
   ]
  },
  {
   "cell_type": "markdown",
   "id": "7973ddf6",
   "metadata": {},
   "source": [
    "Nagu varasemalt, tuleb ka siin PhraseTaggerit peenhäälestada andes sellele ette faili temaatiliste märksõnadega:"
   ]
  },
  {
   "cell_type": "code",
   "execution_count": 7,
   "id": "9d2231f0",
   "metadata": {},
   "outputs": [],
   "source": [
    "vocabulary_file = 'thematic_keywords.csv'\n",
    "ruleset = Ruleset()\n",
    "ruleset.load(file_name=vocabulary_file, key_column='lemma')"
   ]
  },
  {
   "cell_type": "code",
   "execution_count": 8,
   "id": "b2f6e2cb",
   "metadata": {},
   "outputs": [],
   "source": [
    "phrasetagger = PhraseTagger(output_layer='keywords',\n",
    "                      input_layer='morph_analysis',\n",
    "                      input_attribute='lemma',\n",
    "                      ruleset=ruleset,\n",
    "                      output_attributes=['class'],\n",
    "                      #decorator=decorator,\n",
    "                      conflict_resolver='KEEP_MAXIMAL',\n",
    "                      ignore_case=True)"
   ]
  },
  {
   "cell_type": "markdown",
   "id": "ad173a0c",
   "metadata": {},
   "source": [
    "Lausetele märgitakse peale märksõnade kiht:"
   ]
  },
  {
   "cell_type": "code",
   "execution_count": 9,
   "id": "d3f195b8",
   "metadata": {},
   "outputs": [],
   "source": [
    "for sentence in sentences:\n",
    "    phrasetagger.tag(sentence)"
   ]
  },
  {
   "cell_type": "markdown",
   "id": "3acc1f50",
   "metadata": {},
   "source": [
    "### III Lausete filtreerimine"
   ]
  },
  {
   "cell_type": "markdown",
   "id": "84050c2c",
   "metadata": {},
   "source": [
    "Märgendatud lausete seast leitakse need laused, kus mõni märksõna leidus:"
   ]
  },
  {
   "cell_type": "code",
   "execution_count": 10,
   "id": "99d0231c",
   "metadata": {},
   "outputs": [
    {
     "data": {
      "text/html": [
       "<table border=\"1\" class=\"dataframe\">\n",
       "  <thead>\n",
       "    <tr style=\"text-align: right;\">\n",
       "      <th>text</th>\n",
       "    </tr>\n",
       "  </thead>\n",
       "  <tbody>\n",
       "    <tr>\n",
       "      <td><div align = \"left\">See et kui nad väidavad et Andres Siitan ta on rikkunud seadust eelarve distsipliini seadusega siis miks politsei seda asja ei menetle et et kui kui kui asi peenes väidavad et et kolm koma viis miljonit krooni.</div></td>\n",
       "    </tr>\n",
       "  </tbody>\n",
       "</table>\n",
       "<h4>Metadata</h4>\n",
       "<table border=\"1\" class=\"dataframe\">\n",
       "  <tbody>\n",
       "    <tr>\n",
       "      <td>date</td>\n",
       "      <td>2010-11-20</td>\n",
       "    </tr>\n",
       "    <tr>\n",
       "      <td>line_number</td>\n",
       "      <td>5</td>\n",
       "    </tr>\n",
       "    <tr>\n",
       "      <td>person</td>\n",
       "      <td>Tundmatu3</td>\n",
       "    </tr>\n",
       "  </tbody>\n",
       "</table>\n",
       "<table border=\"1\" class=\"dataframe\">\n",
       "  <thead>\n",
       "    <tr style=\"text-align: right;\">\n",
       "      <th>layer name</th>\n",
       "      <th>attributes</th>\n",
       "      <th>parent</th>\n",
       "      <th>enveloping</th>\n",
       "      <th>ambiguous</th>\n",
       "      <th>span count</th>\n",
       "    </tr>\n",
       "  </thead>\n",
       "  <tbody>\n",
       "    <tr>\n",
       "      <td>sentences</td>\n",
       "      <td></td>\n",
       "      <td>None</td>\n",
       "      <td>words</td>\n",
       "      <td>False</td>\n",
       "      <td>1</td>\n",
       "    </tr>\n",
       "    <tr>\n",
       "      <td>tokens</td>\n",
       "      <td></td>\n",
       "      <td>None</td>\n",
       "      <td>None</td>\n",
       "      <td>False</td>\n",
       "      <td>38</td>\n",
       "    </tr>\n",
       "    <tr>\n",
       "      <td>compound_tokens</td>\n",
       "      <td>type, normalized</td>\n",
       "      <td>None</td>\n",
       "      <td>tokens</td>\n",
       "      <td>False</td>\n",
       "      <td>0</td>\n",
       "    </tr>\n",
       "    <tr>\n",
       "      <td>words</td>\n",
       "      <td>normalized_form</td>\n",
       "      <td>None</td>\n",
       "      <td>None</td>\n",
       "      <td>True</td>\n",
       "      <td>38</td>\n",
       "    </tr>\n",
       "    <tr>\n",
       "      <td>morph_analysis</td>\n",
       "      <td>normalized_text, lemma, root, root_tokens, ending, clitic, form, partofspeech</td>\n",
       "      <td>words</td>\n",
       "      <td>None</td>\n",
       "      <td>True</td>\n",
       "      <td>38</td>\n",
       "    </tr>\n",
       "    <tr>\n",
       "      <td>entity_phrases</td>\n",
       "      <td>value</td>\n",
       "      <td>None</td>\n",
       "      <td>morph_analysis</td>\n",
       "      <td>True</td>\n",
       "      <td>1</td>\n",
       "    </tr>\n",
       "    <tr>\n",
       "      <td>ner</td>\n",
       "      <td>nertag</td>\n",
       "      <td>None</td>\n",
       "      <td>words</td>\n",
       "      <td>False</td>\n",
       "      <td>1</td>\n",
       "    </tr>\n",
       "    <tr>\n",
       "      <td>stanza_syntax</td>\n",
       "      <td>id, lemma, upostag, xpostag, feats, head, deprel, deps, misc, parent_span, children</td>\n",
       "      <td>morph_analysis</td>\n",
       "      <td>None</td>\n",
       "      <td>False</td>\n",
       "      <td>38</td>\n",
       "    </tr>\n",
       "    <tr>\n",
       "      <td>keywords</td>\n",
       "      <td>class</td>\n",
       "      <td>None</td>\n",
       "      <td>morph_analysis</td>\n",
       "      <td>False</td>\n",
       "      <td>1</td>\n",
       "    </tr>\n",
       "  </tbody>\n",
       "</table>"
      ],
      "text/plain": [
       "Text(text='See et kui nad väidavad et Andres Siitan ta on rikkunud seadust eelarve distsipliini seadusega siis miks politsei seda asja ei menetle et et kui kui kui asi peenes väidavad et et kolm koma viis miljonit krooni.')"
      ]
     },
     "metadata": {},
     "output_type": "display_data"
    },
    {
     "data": {
      "text/html": [
       "<h4>Layer</h4>\n",
       "\n",
       "\n",
       "<table border=\"1\" class=\"dataframe\">\n",
       "  <thead>\n",
       "    <tr style=\"text-align: right;\">\n",
       "      <th>layer name</th>\n",
       "      <th>attributes</th>\n",
       "      <th>parent</th>\n",
       "      <th>enveloping</th>\n",
       "      <th>ambiguous</th>\n",
       "      <th>span count</th>\n",
       "    </tr>\n",
       "  </thead>\n",
       "  <tbody>\n",
       "    <tr>\n",
       "      <td>keywords</td>\n",
       "      <td>class</td>\n",
       "      <td>None</td>\n",
       "      <td>morph_analysis</td>\n",
       "      <td>False</td>\n",
       "      <td>1</td>\n",
       "    </tr>\n",
       "  </tbody>\n",
       "</table>\n",
       "<table border=\"1\" class=\"dataframe\">\n",
       "  <thead>\n",
       "    <tr style=\"text-align: right;\">\n",
       "      <th>text</th>\n",
       "      <th>class</th>\n",
       "    </tr>\n",
       "  </thead>\n",
       "  <tbody>\n",
       "    <tr>\n",
       "      <td>['menetle']</td>\n",
       "      <td>valitsemine</td>\n",
       "    </tr>\n",
       "  </tbody>\n",
       "</table>"
      ],
      "text/plain": [
       "Layer(name='keywords', attributes=('class',), spans=SL[EnvelopingSpan(['menetle'], [{'class': 'valitsemine'}])])"
      ]
     },
     "metadata": {},
     "output_type": "display_data"
    },
    {
     "data": {
      "text/html": [
       "<h4>Layer</h4>\n",
       "\n",
       "\n",
       "<table border=\"1\" class=\"dataframe\">\n",
       "  <thead>\n",
       "    <tr style=\"text-align: right;\">\n",
       "      <th>layer name</th>\n",
       "      <th>attributes</th>\n",
       "      <th>parent</th>\n",
       "      <th>enveloping</th>\n",
       "      <th>ambiguous</th>\n",
       "      <th>span count</th>\n",
       "    </tr>\n",
       "  </thead>\n",
       "  <tbody>\n",
       "    <tr>\n",
       "      <td>stanza_syntax</td>\n",
       "      <td>id, lemma, upostag, xpostag, feats, head, deprel, deps, misc, parent_span, children</td>\n",
       "      <td>morph_analysis</td>\n",
       "      <td>None</td>\n",
       "      <td>False</td>\n",
       "      <td>38</td>\n",
       "    </tr>\n",
       "  </tbody>\n",
       "</table>\n",
       "<table border=\"1\" class=\"dataframe\">\n",
       "  <thead>\n",
       "    <tr style=\"text-align: right;\">\n",
       "      <th>text</th>\n",
       "      <th>id</th>\n",
       "      <th>lemma</th>\n",
       "      <th>upostag</th>\n",
       "      <th>xpostag</th>\n",
       "      <th>feats</th>\n",
       "      <th>head</th>\n",
       "      <th>deprel</th>\n",
       "      <th>deps</th>\n",
       "      <th>misc</th>\n",
       "      <th>parent_span</th>\n",
       "      <th>children</th>\n",
       "    </tr>\n",
       "  </thead>\n",
       "  <tbody>\n",
       "    <tr>\n",
       "      <td>See</td>\n",
       "      <td>1</td>\n",
       "      <td>see</td>\n",
       "      <td>P</td>\n",
       "      <td>P</td>\n",
       "      <td>{'sg': 'sg', 'n': 'n'}</td>\n",
       "      <td>0</td>\n",
       "      <td>root</td>\n",
       "      <td>_</td>\n",
       "      <td>_</td>\n",
       "      <td>None</td>\n",
       "      <td>(\"Span('väidavad', [{'id': 5, 'lemma': 'väitma', 'upostag': 'V', 'xpostag': 'V', ..., type: &lt;class 'tuple'&gt;, length: 1</td>\n",
       "    </tr>\n",
       "    <tr>\n",
       "      <td>et</td>\n",
       "      <td>2</td>\n",
       "      <td>et</td>\n",
       "      <td>J</td>\n",
       "      <td>J</td>\n",
       "      <td>{}</td>\n",
       "      <td>5</td>\n",
       "      <td>mark</td>\n",
       "      <td>_</td>\n",
       "      <td>_</td>\n",
       "      <td>Span('väidavad', [{'id': 5, 'lemma': 'väitma', 'upostag': 'V', 'xpostag': 'V', ' ..., type: &lt;class 'estnltk_core.layer.span.Span'&gt;</td>\n",
       "      <td>()</td>\n",
       "    </tr>\n",
       "    <tr>\n",
       "      <td>kui</td>\n",
       "      <td>3</td>\n",
       "      <td>kui</td>\n",
       "      <td>J</td>\n",
       "      <td>J</td>\n",
       "      <td>{}</td>\n",
       "      <td>5</td>\n",
       "      <td>mark</td>\n",
       "      <td>_</td>\n",
       "      <td>_</td>\n",
       "      <td>Span('väidavad', [{'id': 5, 'lemma': 'väitma', 'upostag': 'V', 'xpostag': 'V', ' ..., type: &lt;class 'estnltk_core.layer.span.Span'&gt;</td>\n",
       "      <td>()</td>\n",
       "    </tr>\n",
       "    <tr>\n",
       "      <td>nad</td>\n",
       "      <td>4</td>\n",
       "      <td>tema</td>\n",
       "      <td>P</td>\n",
       "      <td>P</td>\n",
       "      <td>{'pl': 'pl', 'n': 'n'}</td>\n",
       "      <td>5</td>\n",
       "      <td>nsubj</td>\n",
       "      <td>_</td>\n",
       "      <td>_</td>\n",
       "      <td>Span('väidavad', [{'id': 5, 'lemma': 'väitma', 'upostag': 'V', 'xpostag': 'V', ' ..., type: &lt;class 'estnltk_core.layer.span.Span'&gt;</td>\n",
       "      <td>()</td>\n",
       "    </tr>\n",
       "    <tr>\n",
       "      <td>väidavad</td>\n",
       "      <td>5</td>\n",
       "      <td>väitma</td>\n",
       "      <td>V</td>\n",
       "      <td>V</td>\n",
       "      <td>{'vad': 'vad'}</td>\n",
       "      <td>1</td>\n",
       "      <td>advcl</td>\n",
       "      <td>_</td>\n",
       "      <td>_</td>\n",
       "      <td>Span('See', [{'id': 1, 'lemma': 'see', 'upostag': 'P', 'xpostag': 'P', 'feats':  ..., type: &lt;class 'estnltk_core.layer.span.Span'&gt;</td>\n",
       "      <td>(\"Span('et', [{'id': 2, 'lemma': 'et', 'upostag': 'J', 'xpostag': 'J', 'feats':  ..., type: &lt;class 'tuple'&gt;, length: 4</td>\n",
       "    </tr>\n",
       "    <tr>\n",
       "      <td>et</td>\n",
       "      <td>6</td>\n",
       "      <td>et</td>\n",
       "      <td>J</td>\n",
       "      <td>J</td>\n",
       "      <td>{}</td>\n",
       "      <td>11</td>\n",
       "      <td>mark</td>\n",
       "      <td>_</td>\n",
       "      <td>_</td>\n",
       "      <td>Span('rikkunud', [{'id': 11, 'lemma': 'rikkunud', 'upostag': 'A', 'xpostag': 'A' ..., type: &lt;class 'estnltk_core.layer.span.Span'&gt;</td>\n",
       "      <td>()</td>\n",
       "    </tr>\n",
       "    <tr>\n",
       "      <td>Andres</td>\n",
       "      <td>7</td>\n",
       "      <td>Andres</td>\n",
       "      <td>H</td>\n",
       "      <td>H</td>\n",
       "      <td>{'sg': 'sg', 'n': 'n'}</td>\n",
       "      <td>11</td>\n",
       "      <td>nsubj</td>\n",
       "      <td>_</td>\n",
       "      <td>_</td>\n",
       "      <td>Span('rikkunud', [{'id': 11, 'lemma': 'rikkunud', 'upostag': 'A', 'xpostag': 'A' ..., type: &lt;class 'estnltk_core.layer.span.Span'&gt;</td>\n",
       "      <td>(\"Span('Siitan', [{'id': 8, 'lemma': 'Siitan', 'upostag': 'H', 'xpostag': 'H', ' ..., type: &lt;class 'tuple'&gt;, length: 1</td>\n",
       "    </tr>\n",
       "    <tr>\n",
       "      <td>Siitan</td>\n",
       "      <td>8</td>\n",
       "      <td>Siitan</td>\n",
       "      <td>H</td>\n",
       "      <td>H</td>\n",
       "      <td>{'sg': 'sg', 'n': 'n'}</td>\n",
       "      <td>7</td>\n",
       "      <td>flat</td>\n",
       "      <td>_</td>\n",
       "      <td>_</td>\n",
       "      <td>Span('Andres', [{'id': 7, 'lemma': 'Andres', 'upostag': 'H', 'xpostag': 'H', 'fe ..., type: &lt;class 'estnltk_core.layer.span.Span'&gt;</td>\n",
       "      <td>()</td>\n",
       "    </tr>\n",
       "    <tr>\n",
       "      <td>ta</td>\n",
       "      <td>9</td>\n",
       "      <td>tema</td>\n",
       "      <td>P</td>\n",
       "      <td>P</td>\n",
       "      <td>{'sg': 'sg', 'n': 'n'}</td>\n",
       "      <td>11</td>\n",
       "      <td>nsubj</td>\n",
       "      <td>_</td>\n",
       "      <td>_</td>\n",
       "      <td>Span('rikkunud', [{'id': 11, 'lemma': 'rikkunud', 'upostag': 'A', 'xpostag': 'A' ..., type: &lt;class 'estnltk_core.layer.span.Span'&gt;</td>\n",
       "      <td>()</td>\n",
       "    </tr>\n",
       "    <tr>\n",
       "      <td>on</td>\n",
       "      <td>10</td>\n",
       "      <td>olema</td>\n",
       "      <td>V</td>\n",
       "      <td>V</td>\n",
       "      <td>{'b': 'b'}</td>\n",
       "      <td>11</td>\n",
       "      <td>aux</td>\n",
       "      <td>_</td>\n",
       "      <td>_</td>\n",
       "      <td>Span('rikkunud', [{'id': 11, 'lemma': 'rikkunud', 'upostag': 'A', 'xpostag': 'A' ..., type: &lt;class 'estnltk_core.layer.span.Span'&gt;</td>\n",
       "      <td>()</td>\n",
       "    </tr>\n",
       "    <tr>\n",
       "      <td>rikkunud</td>\n",
       "      <td>11</td>\n",
       "      <td>rikkunud</td>\n",
       "      <td>A</td>\n",
       "      <td>A</td>\n",
       "      <td>{'pl': 'pl', 'n': 'n'}</td>\n",
       "      <td>5</td>\n",
       "      <td>ccomp</td>\n",
       "      <td>_</td>\n",
       "      <td>_</td>\n",
       "      <td>Span('väidavad', [{'id': 5, 'lemma': 'väitma', 'upostag': 'V', 'xpostag': 'V', ' ..., type: &lt;class 'estnltk_core.layer.span.Span'&gt;</td>\n",
       "      <td>(\"Span('et', [{'id': 6, 'lemma': 'et', 'upostag': 'J', 'xpostag': 'J', 'feats':  ..., type: &lt;class 'tuple'&gt;, length: 7</td>\n",
       "    </tr>\n",
       "    <tr>\n",
       "      <td>seadust</td>\n",
       "      <td>12</td>\n",
       "      <td>seadus</td>\n",
       "      <td>S</td>\n",
       "      <td>S</td>\n",
       "      <td>{'sg': 'sg', 'p': 'p'}</td>\n",
       "      <td>11</td>\n",
       "      <td>obj</td>\n",
       "      <td>_</td>\n",
       "      <td>_</td>\n",
       "      <td>Span('rikkunud', [{'id': 11, 'lemma': 'rikkunud', 'upostag': 'A', 'xpostag': 'A' ..., type: &lt;class 'estnltk_core.layer.span.Span'&gt;</td>\n",
       "      <td>()</td>\n",
       "    </tr>\n",
       "    <tr>\n",
       "      <td>eelarve</td>\n",
       "      <td>13</td>\n",
       "      <td>eelarve</td>\n",
       "      <td>S</td>\n",
       "      <td>S</td>\n",
       "      <td>{'sg': 'sg', 'g': 'g'}</td>\n",
       "      <td>14</td>\n",
       "      <td>nmod</td>\n",
       "      <td>_</td>\n",
       "      <td>_</td>\n",
       "      <td>Span('distsipliini', [{'id': 14, 'lemma': 'distsipliin', 'upostag': 'S', 'xposta ..., type: &lt;class 'estnltk_core.layer.span.Span'&gt;</td>\n",
       "      <td>()</td>\n",
       "    </tr>\n",
       "    <tr>\n",
       "      <td>distsipliini</td>\n",
       "      <td>14</td>\n",
       "      <td>distsipliin</td>\n",
       "      <td>S</td>\n",
       "      <td>S</td>\n",
       "      <td>{'sg': 'sg', 'g': 'g'}</td>\n",
       "      <td>15</td>\n",
       "      <td>nmod</td>\n",
       "      <td>_</td>\n",
       "      <td>_</td>\n",
       "      <td>Span('seadusega', [{'id': 15, 'lemma': 'seadus', 'upostag': 'S', 'xpostag': 'S', ..., type: &lt;class 'estnltk_core.layer.span.Span'&gt;</td>\n",
       "      <td>(\"Span('eelarve', [{'id': 13, 'lemma': 'eelarve', 'upostag': 'S', 'xpostag': 'S' ..., type: &lt;class 'tuple'&gt;, length: 1</td>\n",
       "    </tr>\n",
       "    <tr>\n",
       "      <td>seadusega</td>\n",
       "      <td>15</td>\n",
       "      <td>seadus</td>\n",
       "      <td>S</td>\n",
       "      <td>S</td>\n",
       "      <td>{'sg': 'sg', 'kom': 'kom'}</td>\n",
       "      <td>11</td>\n",
       "      <td>obl</td>\n",
       "      <td>_</td>\n",
       "      <td>_</td>\n",
       "      <td>Span('rikkunud', [{'id': 11, 'lemma': 'rikkunud', 'upostag': 'A', 'xpostag': 'A' ..., type: &lt;class 'estnltk_core.layer.span.Span'&gt;</td>\n",
       "      <td>(\"Span('distsipliini', [{'id': 14, 'lemma': 'distsipliin', 'upostag': 'S', 'xpos ..., type: &lt;class 'tuple'&gt;, length: 1</td>\n",
       "    </tr>\n",
       "    <tr>\n",
       "      <td>siis</td>\n",
       "      <td>16</td>\n",
       "      <td>siis</td>\n",
       "      <td>D</td>\n",
       "      <td>D</td>\n",
       "      <td>{}</td>\n",
       "      <td>22</td>\n",
       "      <td>advmod</td>\n",
       "      <td>_</td>\n",
       "      <td>_</td>\n",
       "      <td>Span('menetle', [{'id': 22, 'lemma': 'menetlema', 'upostag': 'V', 'xpostag': 'V' ..., type: &lt;class 'estnltk_core.layer.span.Span'&gt;</td>\n",
       "      <td>()</td>\n",
       "    </tr>\n",
       "    <tr>\n",
       "      <td>miks</td>\n",
       "      <td>17</td>\n",
       "      <td>miks</td>\n",
       "      <td>D</td>\n",
       "      <td>D</td>\n",
       "      <td>{}</td>\n",
       "      <td>22</td>\n",
       "      <td>mark</td>\n",
       "      <td>_</td>\n",
       "      <td>_</td>\n",
       "      <td>Span('menetle', [{'id': 22, 'lemma': 'menetlema', 'upostag': 'V', 'xpostag': 'V' ..., type: &lt;class 'estnltk_core.layer.span.Span'&gt;</td>\n",
       "      <td>()</td>\n",
       "    </tr>\n",
       "    <tr>\n",
       "      <td>politsei</td>\n",
       "      <td>18</td>\n",
       "      <td>politsei</td>\n",
       "      <td>S</td>\n",
       "      <td>S</td>\n",
       "      <td>{'sg': 'sg', 'g': 'g'}</td>\n",
       "      <td>22</td>\n",
       "      <td>nsubj</td>\n",
       "      <td>_</td>\n",
       "      <td>_</td>\n",
       "      <td>Span('menetle', [{'id': 22, 'lemma': 'menetlema', 'upostag': 'V', 'xpostag': 'V' ..., type: &lt;class 'estnltk_core.layer.span.Span'&gt;</td>\n",
       "      <td>()</td>\n",
       "    </tr>\n",
       "    <tr>\n",
       "      <td>seda</td>\n",
       "      <td>19</td>\n",
       "      <td>see</td>\n",
       "      <td>P</td>\n",
       "      <td>P</td>\n",
       "      <td>{'sg': 'sg', 'p': 'p'}</td>\n",
       "      <td>20</td>\n",
       "      <td>det</td>\n",
       "      <td>_</td>\n",
       "      <td>_</td>\n",
       "      <td>Span('asja', [{'id': 20, 'lemma': 'asi', 'upostag': 'S', 'xpostag': 'S', 'feats' ..., type: &lt;class 'estnltk_core.layer.span.Span'&gt;</td>\n",
       "      <td>()</td>\n",
       "    </tr>\n",
       "    <tr>\n",
       "      <td>asja</td>\n",
       "      <td>20</td>\n",
       "      <td>asi</td>\n",
       "      <td>S</td>\n",
       "      <td>S</td>\n",
       "      <td>{'sg': 'sg', 'p': 'p'}</td>\n",
       "      <td>22</td>\n",
       "      <td>obj</td>\n",
       "      <td>_</td>\n",
       "      <td>_</td>\n",
       "      <td>Span('menetle', [{'id': 22, 'lemma': 'menetlema', 'upostag': 'V', 'xpostag': 'V' ..., type: &lt;class 'estnltk_core.layer.span.Span'&gt;</td>\n",
       "      <td>(\"Span('seda', [{'id': 19, 'lemma': 'see', 'upostag': 'P', 'xpostag': 'P', 'feat ..., type: &lt;class 'tuple'&gt;, length: 1</td>\n",
       "    </tr>\n",
       "    <tr>\n",
       "      <td>ei</td>\n",
       "      <td>21</td>\n",
       "      <td>ei</td>\n",
       "      <td>V</td>\n",
       "      <td>V</td>\n",
       "      <td>{'neg': 'neg'}</td>\n",
       "      <td>22</td>\n",
       "      <td>aux</td>\n",
       "      <td>_</td>\n",
       "      <td>_</td>\n",
       "      <td>Span('menetle', [{'id': 22, 'lemma': 'menetlema', 'upostag': 'V', 'xpostag': 'V' ..., type: &lt;class 'estnltk_core.layer.span.Span'&gt;</td>\n",
       "      <td>()</td>\n",
       "    </tr>\n",
       "    <tr>\n",
       "      <td>menetle</td>\n",
       "      <td>22</td>\n",
       "      <td>menetlema</td>\n",
       "      <td>V</td>\n",
       "      <td>V</td>\n",
       "      <td>{'o': 'o'}</td>\n",
       "      <td>11</td>\n",
       "      <td>conj</td>\n",
       "      <td>_</td>\n",
       "      <td>_</td>\n",
       "      <td>Span('rikkunud', [{'id': 11, 'lemma': 'rikkunud', 'upostag': 'A', 'xpostag': 'A' ..., type: &lt;class 'estnltk_core.layer.span.Span'&gt;</td>\n",
       "      <td>(\"Span('siis', [{'id': 16, 'lemma': 'siis', 'upostag': 'D', 'xpostag': 'D', 'fea ..., type: &lt;class 'tuple'&gt;, length: 7</td>\n",
       "    </tr>\n",
       "    <tr>\n",
       "      <td>et</td>\n",
       "      <td>23</td>\n",
       "      <td>et</td>\n",
       "      <td>J</td>\n",
       "      <td>J</td>\n",
       "      <td>{}</td>\n",
       "      <td>30</td>\n",
       "      <td>mark</td>\n",
       "      <td>_</td>\n",
       "      <td>_</td>\n",
       "      <td>Span('väidavad', [{'id': 30, 'lemma': 'väitma', 'upostag': 'V', 'xpostag': 'V',  ..., type: &lt;class 'estnltk_core.layer.span.Span'&gt;</td>\n",
       "      <td>()</td>\n",
       "    </tr>\n",
       "    <tr>\n",
       "      <td>et</td>\n",
       "      <td>24</td>\n",
       "      <td>et</td>\n",
       "      <td>J</td>\n",
       "      <td>J</td>\n",
       "      <td>{}</td>\n",
       "      <td>30</td>\n",
       "      <td>mark</td>\n",
       "      <td>_</td>\n",
       "      <td>_</td>\n",
       "      <td>Span('väidavad', [{'id': 30, 'lemma': 'väitma', 'upostag': 'V', 'xpostag': 'V',  ..., type: &lt;class 'estnltk_core.layer.span.Span'&gt;</td>\n",
       "      <td>()</td>\n",
       "    </tr>\n",
       "    <tr>\n",
       "      <td>kui</td>\n",
       "      <td>25</td>\n",
       "      <td>kui</td>\n",
       "      <td>J</td>\n",
       "      <td>J</td>\n",
       "      <td>{}</td>\n",
       "      <td>30</td>\n",
       "      <td>mark</td>\n",
       "      <td>_</td>\n",
       "      <td>_</td>\n",
       "      <td>Span('väidavad', [{'id': 30, 'lemma': 'väitma', 'upostag': 'V', 'xpostag': 'V',  ..., type: &lt;class 'estnltk_core.layer.span.Span'&gt;</td>\n",
       "      <td>()</td>\n",
       "    </tr>\n",
       "    <tr>\n",
       "      <td>kui</td>\n",
       "      <td>26</td>\n",
       "      <td>kui</td>\n",
       "      <td>J</td>\n",
       "      <td>J</td>\n",
       "      <td>{}</td>\n",
       "      <td>30</td>\n",
       "      <td>mark</td>\n",
       "      <td>_</td>\n",
       "      <td>_</td>\n",
       "      <td>Span('väidavad', [{'id': 30, 'lemma': 'väitma', 'upostag': 'V', 'xpostag': 'V',  ..., type: &lt;class 'estnltk_core.layer.span.Span'&gt;</td>\n",
       "      <td>()</td>\n",
       "    </tr>\n",
       "    <tr>\n",
       "      <td>kui</td>\n",
       "      <td>27</td>\n",
       "      <td>kui</td>\n",
       "      <td>J</td>\n",
       "      <td>J</td>\n",
       "      <td>{}</td>\n",
       "      <td>30</td>\n",
       "      <td>mark</td>\n",
       "      <td>_</td>\n",
       "      <td>_</td>\n",
       "      <td>Span('väidavad', [{'id': 30, 'lemma': 'väitma', 'upostag': 'V', 'xpostag': 'V',  ..., type: &lt;class 'estnltk_core.layer.span.Span'&gt;</td>\n",
       "      <td>()</td>\n",
       "    </tr>\n",
       "    <tr>\n",
       "      <td>asi</td>\n",
       "      <td>28</td>\n",
       "      <td>asi</td>\n",
       "      <td>S</td>\n",
       "      <td>S</td>\n",
       "      <td>{'sg': 'sg', 'n': 'n'}</td>\n",
       "      <td>30</td>\n",
       "      <td>nsubj</td>\n",
       "      <td>_</td>\n",
       "      <td>_</td>\n",
       "      <td>Span('väidavad', [{'id': 30, 'lemma': 'väitma', 'upostag': 'V', 'xpostag': 'V',  ..., type: &lt;class 'estnltk_core.layer.span.Span'&gt;</td>\n",
       "      <td>()</td>\n",
       "    </tr>\n",
       "    <tr>\n",
       "      <td>peenes</td>\n",
       "      <td>29</td>\n",
       "      <td>peen</td>\n",
       "      <td>A</td>\n",
       "      <td>A</td>\n",
       "      <td>{'sg': 'sg', 'in': 'in'}</td>\n",
       "      <td>30</td>\n",
       "      <td>obl</td>\n",
       "      <td>_</td>\n",
       "      <td>_</td>\n",
       "      <td>Span('väidavad', [{'id': 30, 'lemma': 'väitma', 'upostag': 'V', 'xpostag': 'V',  ..., type: &lt;class 'estnltk_core.layer.span.Span'&gt;</td>\n",
       "      <td>()</td>\n",
       "    </tr>\n",
       "    <tr>\n",
       "      <td>väidavad</td>\n",
       "      <td>30</td>\n",
       "      <td>väitma</td>\n",
       "      <td>V</td>\n",
       "      <td>V</td>\n",
       "      <td>{'vad': 'vad'}</td>\n",
       "      <td>22</td>\n",
       "      <td>advcl</td>\n",
       "      <td>_</td>\n",
       "      <td>_</td>\n",
       "      <td>Span('menetle', [{'id': 22, 'lemma': 'menetlema', 'upostag': 'V', 'xpostag': 'V' ..., type: &lt;class 'estnltk_core.layer.span.Span'&gt;</td>\n",
       "      <td>(\"Span('et', [{'id': 23, 'lemma': 'et', 'upostag': 'J', 'xpostag': 'J', 'feats': ..., type: &lt;class 'tuple'&gt;, length: 9</td>\n",
       "    </tr>\n",
       "    <tr>\n",
       "      <td>et</td>\n",
       "      <td>31</td>\n",
       "      <td>et</td>\n",
       "      <td>J</td>\n",
       "      <td>J</td>\n",
       "      <td>{}</td>\n",
       "      <td>37</td>\n",
       "      <td>mark</td>\n",
       "      <td>_</td>\n",
       "      <td>_</td>\n",
       "      <td>Span('krooni', [{'id': 37, 'lemma': 'kroon', 'upostag': 'S', 'xpostag': 'S', 'fe ..., type: &lt;class 'estnltk_core.layer.span.Span'&gt;</td>\n",
       "      <td>()</td>\n",
       "    </tr>\n",
       "    <tr>\n",
       "      <td>et</td>\n",
       "      <td>32</td>\n",
       "      <td>et</td>\n",
       "      <td>J</td>\n",
       "      <td>J</td>\n",
       "      <td>{}</td>\n",
       "      <td>37</td>\n",
       "      <td>mark</td>\n",
       "      <td>_</td>\n",
       "      <td>_</td>\n",
       "      <td>Span('krooni', [{'id': 37, 'lemma': 'kroon', 'upostag': 'S', 'xpostag': 'S', 'fe ..., type: &lt;class 'estnltk_core.layer.span.Span'&gt;</td>\n",
       "      <td>()</td>\n",
       "    </tr>\n",
       "    <tr>\n",
       "      <td>kolm</td>\n",
       "      <td>33</td>\n",
       "      <td>kolm</td>\n",
       "      <td>N</td>\n",
       "      <td>N</td>\n",
       "      <td>{'sg': 'sg', 'n': 'n'}</td>\n",
       "      <td>34</td>\n",
       "      <td>nummod</td>\n",
       "      <td>_</td>\n",
       "      <td>_</td>\n",
       "      <td>Span('koma', [{'id': 34, 'lemma': 'koma', 'upostag': 'S', 'xpostag': 'S', 'feats ..., type: &lt;class 'estnltk_core.layer.span.Span'&gt;</td>\n",
       "      <td>()</td>\n",
       "    </tr>\n",
       "    <tr>\n",
       "      <td>koma</td>\n",
       "      <td>34</td>\n",
       "      <td>koma</td>\n",
       "      <td>S</td>\n",
       "      <td>S</td>\n",
       "      <td>{'sg': 'sg', 'n': 'n'}</td>\n",
       "      <td>30</td>\n",
       "      <td>ccomp</td>\n",
       "      <td>_</td>\n",
       "      <td>_</td>\n",
       "      <td>Span('väidavad', [{'id': 30, 'lemma': 'väitma', 'upostag': 'V', 'xpostag': 'V',  ..., type: &lt;class 'estnltk_core.layer.span.Span'&gt;</td>\n",
       "      <td>(\"Span('kolm', [{'id': 33, 'lemma': 'kolm', 'upostag': 'N', 'xpostag': 'N', 'fea ..., type: &lt;class 'tuple'&gt;, length: 1</td>\n",
       "    </tr>\n",
       "    <tr>\n",
       "      <td>viis</td>\n",
       "      <td>35</td>\n",
       "      <td>viis</td>\n",
       "      <td>N</td>\n",
       "      <td>N</td>\n",
       "      <td>{'sg': 'sg', 'n': 'n'}</td>\n",
       "      <td>36</td>\n",
       "      <td>compound</td>\n",
       "      <td>_</td>\n",
       "      <td>_</td>\n",
       "      <td>Span('miljonit', [{'id': 36, 'lemma': 'miljon', 'upostag': 'N', 'xpostag': 'N',  ..., type: &lt;class 'estnltk_core.layer.span.Span'&gt;</td>\n",
       "      <td>()</td>\n",
       "    </tr>\n",
       "    <tr>\n",
       "      <td>miljonit</td>\n",
       "      <td>36</td>\n",
       "      <td>miljon</td>\n",
       "      <td>N</td>\n",
       "      <td>N</td>\n",
       "      <td>{'sg': 'sg', 'p': 'p'}</td>\n",
       "      <td>37</td>\n",
       "      <td>nummod</td>\n",
       "      <td>_</td>\n",
       "      <td>_</td>\n",
       "      <td>Span('krooni', [{'id': 37, 'lemma': 'kroon', 'upostag': 'S', 'xpostag': 'S', 'fe ..., type: &lt;class 'estnltk_core.layer.span.Span'&gt;</td>\n",
       "      <td>(\"Span('viis', [{'id': 35, 'lemma': 'viis', 'upostag': 'N', 'xpostag': 'N', 'fea ..., type: &lt;class 'tuple'&gt;, length: 1</td>\n",
       "    </tr>\n",
       "    <tr>\n",
       "      <td>krooni</td>\n",
       "      <td>37</td>\n",
       "      <td>kroon</td>\n",
       "      <td>S</td>\n",
       "      <td>S</td>\n",
       "      <td>{'sg': 'sg', 'p': 'p'}</td>\n",
       "      <td>30</td>\n",
       "      <td>ccomp</td>\n",
       "      <td>_</td>\n",
       "      <td>_</td>\n",
       "      <td>Span('väidavad', [{'id': 30, 'lemma': 'väitma', 'upostag': 'V', 'xpostag': 'V',  ..., type: &lt;class 'estnltk_core.layer.span.Span'&gt;</td>\n",
       "      <td>(\"Span('et', [{'id': 31, 'lemma': 'et', 'upostag': 'J', 'xpostag': 'J', 'feats': ..., type: &lt;class 'tuple'&gt;, length: 3</td>\n",
       "    </tr>\n",
       "    <tr>\n",
       "      <td>.</td>\n",
       "      <td>38</td>\n",
       "      <td>.</td>\n",
       "      <td>Z</td>\n",
       "      <td>Z</td>\n",
       "      <td>{}</td>\n",
       "      <td>22</td>\n",
       "      <td>punct</td>\n",
       "      <td>_</td>\n",
       "      <td>_</td>\n",
       "      <td>Span('menetle', [{'id': 22, 'lemma': 'menetlema', 'upostag': 'V', 'xpostag': 'V' ..., type: &lt;class 'estnltk_core.layer.span.Span'&gt;</td>\n",
       "      <td>()</td>\n",
       "    </tr>\n",
       "  </tbody>\n",
       "</table>"
      ],
      "text/plain": [
       "Layer(name='stanza_syntax', attributes=('id', 'lemma', 'upostag', 'xpostag', 'feats', 'head', 'deprel', 'deps', 'misc', 'parent_span', 'children'), spans=SL[Span('See', [{'id': 1, 'lemma': 'see', 'upostag': 'P', 'xpostag': 'P', 'feats': {'sg': 'sg', 'n': 'n'}, 'head': 0, 'deprel': 'root', 'deps': '_', 'misc': '_', 'parent_span': None, 'children': <class 'tuple'>}]),\n",
       "Span('et', [{'id': 2, 'lemma': 'et', 'upostag': 'J', 'xpostag': 'J', 'feats': {}, 'head': 5, 'deprel': 'mark', 'deps': '_', 'misc': '_', 'parent_span': <class 'estnltk_core.layer.span.Span'>, 'children': ()}]),\n",
       "Span('kui', [{'id': 3, 'lemma': 'kui', 'upostag': 'J', 'xpostag': 'J', 'feats': {}, 'head': 5, 'deprel': 'mark', 'deps': '_', 'misc': '_', 'parent_span': <class 'estnltk_core.layer.span.Span'>, 'children': ()}]),\n",
       "Span('nad', [{'id': 4, 'lemma': 'tema', 'upostag': 'P', 'xpostag': 'P', 'feats': {'pl': 'pl', 'n': 'n'}, 'head': 5, 'deprel': 'nsubj', 'deps': '_', 'misc': '_', 'parent_span': <class 'estnltk_core.layer.span.Span'>, 'children': ()}]),\n",
       "Span('väidavad', [{'id': 5, 'lemma': 'väitma', 'upostag': 'V', 'xpostag': 'V', 'feats': {'vad': 'vad'}, 'head': 1, 'deprel': 'advcl', 'deps': '_', 'misc': '_', 'parent_span': <class 'estnltk_core.layer.span.Span'>, 'children': <class 'tuple'>}]),\n",
       "Span('et', [{'id': 6, 'lemma': 'et', 'upostag': 'J', 'xpostag': 'J', 'feats': {}, 'head': 11, 'deprel': 'mark', 'deps': '_', 'misc': '_', 'parent_span': <class 'estnltk_core.layer.span.Span'>, 'children': ()}]),\n",
       "Span('Andres', [{'id': 7, 'lemma': 'Andres', 'upostag': 'H', 'xpostag': 'H', 'feats': {'sg': 'sg', 'n': 'n'}, 'head': 11, 'deprel': 'nsubj', 'deps': '_', 'misc': '_', 'parent_span': <class 'estnltk_core.layer.span.Span'>, 'children': <class 'tuple'>}]),\n",
       "Span('Siitan', [{'id': 8, 'lemma': 'Siitan', 'upostag': 'H', 'xpostag': 'H', 'feats': {'sg': 'sg', 'n': 'n'}, 'head': 7, 'deprel': 'flat', 'deps': '_', 'misc': '_', 'parent_span': <class 'estnltk_core.layer.span.Span'>, 'children': ()}]),\n",
       "Span('ta', [{'id': 9, 'lemma': 'tema', 'upostag': 'P', 'xpostag': 'P', 'feats': {'sg': 'sg', 'n': 'n'}, 'head': 11, 'deprel': 'nsubj', 'deps': '_', 'misc': '_', 'parent_span': <class 'estnltk_core.layer.span.Span'>, 'children': ()}]),\n",
       "Span('on', [{'id': 10, 'lemma': 'olema', 'upostag': 'V', 'xpostag': 'V', 'feats': {'b': 'b'}, 'head': 11, 'deprel': 'aux', 'deps': '_', 'misc': '_', 'parent_span': <class 'estnltk_core.layer.span.Span'>, 'children': ()}]),\n",
       "Span('rikkunud', [{'id': 11, 'lemma': 'rikkunud', 'upostag': 'A', 'xpostag': 'A', 'feats': {'pl': 'pl', 'n': 'n'}, 'head': 5, 'deprel': 'ccomp', 'deps': '_', 'misc': '_', 'parent_span': <class 'estnltk_core.layer.span.Span'>, 'children': <class 'tuple'>}]),\n",
       "Span('seadust', [{'id': 12, 'lemma': 'seadus', 'upostag': 'S', 'xpostag': 'S', 'feats': {'sg': 'sg', 'p': 'p'}, 'head': 11, 'deprel': 'obj', 'deps': '_', 'misc': '_', 'parent_span': <class 'estnltk_core.layer.span.Span'>, 'children': ()}]),\n",
       "Span('eelarve', [{'id': 13, 'lemma': 'eelarve', 'upostag': 'S', 'xpostag': 'S', 'feats': {'sg': 'sg', 'g': 'g'}, 'head': 14, 'deprel': 'nmod', 'deps': '_', 'misc': '_', 'parent_span': <class 'estnltk_core.layer.span.Span'>, 'children': ()}]),\n",
       "Span('distsipliini', [{'id': 14, 'lemma': 'distsipliin', 'upostag': 'S', 'xpostag': 'S', 'feats': {'sg': 'sg', 'g': 'g'}, 'head': 15, 'deprel': 'nmod', 'deps': '_', 'misc': '_', 'parent_span': <class 'estnltk_core.layer.span.Span'>, 'children': <class 'tuple'>}]),\n",
       "Span('seadusega', [{'id': 15, 'lemma': 'seadus', 'upostag': 'S', 'xpostag': 'S', 'feats': {'sg': 'sg', 'kom': 'kom'}, 'head': 11, 'deprel': 'obl', 'deps': '_', 'misc': '_', 'parent_span': <class 'estnltk_core.layer.span.Span'>, 'children': <class 'tuple'>}]),\n",
       "Span('siis', [{'id': 16, 'lemma': 'siis', 'upostag': 'D', 'xpostag': 'D', 'feats': {}, 'head': 22, 'deprel': 'advmod', 'deps': '_', 'misc': '_', 'parent_span': <class 'estnltk_core.layer.span.Span'>, 'children': ()}]),\n",
       "Span('miks', [{'id': 17, 'lemma': 'miks', 'upostag': 'D', 'xpostag': 'D', 'feats': {}, 'head': 22, 'deprel': 'mark', 'deps': '_', 'misc': '_', 'parent_span': <class 'estnltk_core.layer.span.Span'>, 'children': ()}]),\n",
       "Span('politsei', [{'id': 18, 'lemma': 'politsei', 'upostag': 'S', 'xpostag': 'S', 'feats': {'sg': 'sg', 'g': 'g'}, 'head': 22, 'deprel': 'nsubj', 'deps': '_', 'misc': '_', 'parent_span': <class 'estnltk_core.layer.span.Span'>, 'children': ()}]),\n",
       "Span('seda', [{'id': 19, 'lemma': 'see', 'upostag': 'P', 'xpostag': 'P', 'feats': {'sg': 'sg', 'p': 'p'}, 'head': 20, 'deprel': 'det', 'deps': '_', 'misc': '_', 'parent_span': <class 'estnltk_core.layer.span.Span'>, 'children': ()}]),\n",
       "Span('asja', [{'id': 20, 'lemma': 'asi', 'upostag': 'S', 'xpostag': 'S', 'feats': {'sg': 'sg', 'p': 'p'}, 'head': 22, 'deprel': 'obj', 'deps': '_', 'misc': '_', 'parent_span': <class 'estnltk_core.layer.span.Span'>, 'children': <class 'tuple'>}]),\n",
       "Span('ei', [{'id': 21, 'lemma': 'ei', 'upostag': 'V', 'xpostag': 'V', 'feats': {'neg': 'neg'}, 'head': 22, 'deprel': 'aux', 'deps': '_', 'misc': '_', 'parent_span': <class 'estnltk_core.layer.span.Span'>, 'children': ()}]),\n",
       "Span('menetle', [{'id': 22, 'lemma': 'menetlema', 'upostag': 'V', 'xpostag': 'V', 'feats': {'o': 'o'}, 'head': 11, 'deprel': 'conj', 'deps': '_', 'misc': '_', 'parent_span': <class 'estnltk_core.layer.span.Span'>, 'children': <class 'tuple'>}]),\n",
       "Span('et', [{'id': 23, 'lemma': 'et', 'upostag': 'J', 'xpostag': 'J', 'feats': {}, 'head': 30, 'deprel': 'mark', 'deps': '_', 'misc': '_', 'parent_span': <class 'estnltk_core.layer.span.Span'>, 'children': ()}]),\n",
       "Span('et', [{'id': 24, 'lemma': 'et', 'upostag': 'J', 'xpostag': 'J', 'feats': {}, 'head': 30, 'deprel': 'mark', 'deps': '_', 'misc': '_', 'parent_span': <class 'estnltk_core.layer.span.Span'>, 'children': ()}]),\n",
       "Span('kui', [{'id': 25, 'lemma': 'kui', 'upostag': 'J', 'xpostag': 'J', 'feats': {}, 'head': 30, 'deprel': 'mark', 'deps': '_', 'misc': '_', 'parent_span': <class 'estnltk_core.layer.span.Span'>, 'children': ()}]),\n",
       "Span('kui', [{'id': 26, 'lemma': 'kui', 'upostag': 'J', 'xpostag': 'J', 'feats': {}, 'head': 30, 'deprel': 'mark', 'deps': '_', 'misc': '_', 'parent_span': <class 'estnltk_core.layer.span.Span'>, 'children': ()}]),\n",
       "Span('kui', [{'id': 27, 'lemma': 'kui', 'upostag': 'J', 'xpostag': 'J', 'feats': {}, 'head': 30, 'deprel': 'mark', 'deps': '_', 'misc': '_', 'parent_span': <class 'estnltk_core.layer.span.Span'>, 'children': ()}]),\n",
       "Span('asi', [{'id': 28, 'lemma': 'asi', 'upostag': 'S', 'xpostag': 'S', 'feats': {'sg': 'sg', 'n': 'n'}, 'head': 30, 'deprel': 'nsubj', 'deps': '_', 'misc': '_', 'parent_span': <class 'estnltk_core.layer.span.Span'>, 'children': ()}]),\n",
       "Span('peenes', [{'id': 29, 'lemma': 'peen', 'upostag': 'A', 'xpostag': 'A', 'feats': {'sg': 'sg', 'in': 'in'}, 'head': 30, 'deprel': 'obl', 'deps': '_', 'misc': '_', 'parent_span': <class 'estnltk_core.layer.span.Span'>, 'children': ()}]),\n",
       "Span('väidavad', [{'id': 30, 'lemma': 'väitma', 'upostag': 'V', 'xpostag': 'V', 'feats': {'vad': 'vad'}, 'head': 22, 'deprel': 'advcl', 'deps': '_', 'misc': '_', 'parent_span': <class 'estnltk_core.layer.span.Span'>, 'children': <class 'tuple'>}]),\n",
       "Span('et', [{'id': 31, 'lemma': 'et', 'upostag': 'J', 'xpostag': 'J', 'feats': {}, 'head': 37, 'deprel': 'mark', 'deps': '_', 'misc': '_', 'parent_span': <class 'estnltk_core.layer.span.Span'>, 'children': ()}]),\n",
       "Span('et', [{'id': 32, 'lemma': 'et', 'upostag': 'J', 'xpostag': 'J', 'feats': {}, 'head': 37, 'deprel': 'mark', 'deps': '_', 'misc': '_', 'parent_span': <class 'estnltk_core.layer.span.Span'>, 'children': ()}]),\n",
       "Span('kolm', [{'id': 33, 'lemma': 'kolm', 'upostag': 'N', 'xpostag': 'N', 'feats': {'sg': 'sg', 'n': 'n'}, 'head': 34, 'deprel': 'nummod', 'deps': '_', 'misc': '_', 'parent_span': <class 'estnltk_core.layer.span.Span'>, 'children': ()}]),\n",
       "Span('koma', [{'id': 34, 'lemma': 'koma', 'upostag': 'S', 'xpostag': 'S', 'feats': {'sg': 'sg', 'n': 'n'}, 'head': 30, 'deprel': 'ccomp', 'deps': '_', 'misc': '_', 'parent_span': <class 'estnltk_core.layer.span.Span'>, 'children': <class 'tuple'>}]),\n",
       "Span('viis', [{'id': 35, 'lemma': 'viis', 'upostag': 'N', 'xpostag': 'N', 'feats': {'sg': 'sg', 'n': 'n'}, 'head': 36, 'deprel': 'compound', 'deps': '_', 'misc': '_', 'parent_span': <class 'estnltk_core.layer.span.Span'>, 'children': ()}]),\n",
       "Span('miljonit', [{'id': 36, 'lemma': 'miljon', 'upostag': 'N', 'xpostag': 'N', 'feats': {'sg': 'sg', 'p': 'p'}, 'head': 37, 'deprel': 'nummod', 'deps': '_', 'misc': '_', 'parent_span': <class 'estnltk_core.layer.span.Span'>, 'children': <class 'tuple'>}]),\n",
       "Span('krooni', [{'id': 37, 'lemma': 'kroon', 'upostag': 'S', 'xpostag': 'S', 'feats': {'sg': 'sg', 'p': 'p'}, 'head': 30, 'deprel': 'ccomp', 'deps': '_', 'misc': '_', 'parent_span': <class 'estnltk_core.layer.span.Span'>, 'children': <class 'tuple'>}]),\n",
       "Span('.', [{'id': 38, 'lemma': '.', 'upostag': 'Z', 'xpostag': 'Z', 'feats': {}, 'head': 22, 'deprel': 'punct', 'deps': '_', 'misc': '_', 'parent_span': <class 'estnltk_core.layer.span.Span'>, 'children': ()}])])"
      ]
     },
     "metadata": {},
     "output_type": "display_data"
    }
   ],
   "source": [
    "sentences_with_keywords = []\n",
    "sentences_with_keywords_ids = []\n",
    "\n",
    "for i in range(len(sentences)):\n",
    "    if len(sentences[i].keywords) > 0:\n",
    "        sentences_with_keywords.append(sentences[i])\n",
    "        sentences_with_keywords_ids.append(sentence_ids[i])\n",
    "\n",
    "display(sentences_with_keywords[20])\n",
    "display(sentences_with_keywords[20].keywords)\n",
    "display(sentences_with_keywords[20].stanza_syntax)"
   ]
  },
  {
   "cell_type": "markdown",
   "id": "3ee0d9ce",
   "metadata": {},
   "source": [
    "Kuigi märksõna lausest leiti, ei pruugi see olla lauses seotud huvipakkuva isiku/organisatsiooniga. Seetõttu tuleb võtta arvesse ka süntaksianalüüsi kihti, et teha kindlaks, kas leitud märksõna esineb lauses seoses isiku/organisatsiooniga (kas täiendi, verbi või määruse positsioonil)."
   ]
  },
  {
   "cell_type": "markdown",
   "id": "bf488f4c",
   "metadata": {},
   "source": [
    "Leitakse nimeüksus:"
   ]
  },
  {
   "cell_type": "code",
   "execution_count": 11,
   "id": "b126efa4",
   "metadata": {},
   "outputs": [],
   "source": [
    "phrase = []"
   ]
  },
  {
   "cell_type": "code",
   "execution_count": 12,
   "id": "9f562e71",
   "metadata": {},
   "outputs": [],
   "source": [
    "for entity in sentences_with_keywords[20].entity_phrases:\n",
    "    for span in entity:\n",
    "        phrase.append(span)"
   ]
  },
  {
   "cell_type": "code",
   "execution_count": 13,
   "id": "ff3f4c76",
   "metadata": {},
   "outputs": [
    {
     "name": "stdout",
     "output_type": "stream",
     "text": [
      "[Span('Andres', [{'normalized_text': 'Andres', 'lemma': 'Andres', 'root': 'Andres', 'root_tokens': ['Andres'], 'ending': '0', 'clitic': '', 'form': 'sg n', 'partofspeech': 'H'}])]\n"
     ]
    }
   ],
   "source": [
    "print(phrase)"
   ]
  },
  {
   "cell_type": "markdown",
   "id": "89c6eb6d",
   "metadata": {},
   "source": [
    "Ja märksõnad:"
   ]
  },
  {
   "cell_type": "code",
   "execution_count": 14,
   "id": "368eeb3f",
   "metadata": {},
   "outputs": [],
   "source": [
    "keywrds = []"
   ]
  },
  {
   "cell_type": "code",
   "execution_count": 15,
   "id": "4ef0741a",
   "metadata": {},
   "outputs": [],
   "source": [
    "for word in sentences_with_keywords[20].keywords:\n",
    "    keywrds.append(word[0])"
   ]
  },
  {
   "cell_type": "code",
   "execution_count": 16,
   "id": "87cdfb93",
   "metadata": {},
   "outputs": [
    {
     "name": "stdout",
     "output_type": "stream",
     "text": [
      "[Span('menetle', [{'normalized_text': 'menetle', 'lemma': 'menetlema', 'root': 'menetle', 'root_tokens': ['menetle'], 'ending': '0', 'clitic': '', 'form': 'o', 'partofspeech': 'V'}])]\n"
     ]
    }
   ],
   "source": [
    "print(keywrds)"
   ]
  },
  {
   "cell_type": "code",
   "execution_count": 17,
   "id": "16e8f1a3",
   "metadata": {},
   "outputs": [
    {
     "name": "stdout",
     "output_type": "stream",
     "text": [
      "rikkunud\n",
      "Kas on ülemus:  False\n",
      "['Andres']\n",
      "rikkunud\n"
     ]
    }
   ],
   "source": [
    "for subspan in phrase:\n",
    "    parent = sentences_with_keywords[20].stanza_syntax.get(subspan)['parent_span']\n",
    "    parent_word = sentences_with_keywords[20]['words'].get(parent) \n",
    "    if parent_word in phrase:\n",
    "        continue\n",
    "    parent_morph = sentences_with_keywords[20].morph_analysis.get(parent)\n",
    "    if 'V' not in parent_morph['partofspeech']:\n",
    "        continue\n",
    "    print(parent['lemma'])\n",
    "    print('Kas on ülemus: ', parent_morph in keywrds)\n",
    "    \n",
    "    # -- Välja kommenteeritud osa osutub vajalikuks vaid siis, kui soovitakse leida midagi lisaks ülemustest verbidele\n",
    "    #\n",
    "    # Verbist ülemuse alluv, kui on määrus\n",
    "    #parent_children = sentences_with_keywords[20].stanza_syntax.get(parent)['children']\n",
    "    #if len(parent_children) > 1:\n",
    "    #    for child in parent_children:\n",
    "    #        child_word = sentence['words'].get(child) \n",
    "    #        if child_word in phrase:\n",
    "    #            continue\n",
    "    #        elif 'advmod' != child['deprel']:\n",
    "    #            continue\n",
    "    #        if child == keywrds[0]:\n",
    "    #            print(child['lemma'])\n",
    "    #            print('Kas on ülemuse alluv: ', child == keywrds[0])\n",
    "    #            break\n",
    "    #        print(child['lemma'])\n",
    "    #        print('Kas on ülemuse alluv: ', child == keywrds[0])\n",
    "            \n",
    "    #children = sentences_with_keywords[20].stanza_syntax.get(subspan)['children']\n",
    "    #if len(children) > 0:\n",
    "    #    for child in children:\n",
    "    #        child_word = sentences_with_keywords[20]['words'].get(child) \n",
    "    #        if child_word in phrase:\n",
    "    #            continue\n",
    "    #        elif 'amod' != child['deprel']:\n",
    "    #            continue\n",
    "    #        if child == keywrds[0]:\n",
    "    #            print(child['lemma'])\n",
    "    #            print('Kas on alluv: ', child == keywrds[0])\n",
    "    #            break\n",
    "    #        print(child['lemma'])\n",
    "    #        print('Kas on alluv: ', child == keywrds[0])\n",
    "    \n",
    "    print(list(s.text for s in phrase))\n",
    "    print(parent['lemma'])"
   ]
  },
  {
   "cell_type": "markdown",
   "id": "655edead",
   "metadata": {},
   "source": [
    "Kõigil lausetel:"
   ]
  },
  {
   "cell_type": "code",
   "execution_count": 18,
   "id": "c70dcb22",
   "metadata": {},
   "outputs": [],
   "source": [
    "sentences_with_classes = []\n",
    "sentences_with_classes_ambiguous = []"
   ]
  },
  {
   "cell_type": "code",
   "execution_count": 19,
   "id": "af55f3d8",
   "metadata": {},
   "outputs": [],
   "source": [
    "for i in range(len(sentences_with_keywords)):\n",
    "    index = sentences_with_keywords_ids[i]\n",
    "    sentence = sentences_with_keywords[i]\n",
    "    \n",
    "    keywrds = []\n",
    "    for word in sentence.keywords:\n",
    "        keywrds.append(word[0])\n",
    "        \n",
    "    classes = []\n",
    "    \n",
    "    for entity in sentence.entity_phrases:\n",
    "        phrase = []\n",
    "        for span in entity:\n",
    "            phrase.append(span)\n",
    "    \n",
    "        for subspan in phrase:\n",
    "            parent = sentence.stanza_syntax.get(subspan)['parent_span']\n",
    "            if parent != None:\n",
    "                # Verbist ülemus\n",
    "                parent_morph = sentence.morph_analysis.get(parent)\n",
    "                if 'V' not in parent_morph['partofspeech']:\n",
    "                    continue\n",
    "                for i in range(len(keywrds)):\n",
    "                    if keywrds[i] == parent_morph:\n",
    "                        cl = sentence['keywords'][i]['class']\n",
    "                        classes.append(cl)\n",
    "                \n",
    "                # -- Välja kommenteeritud osa osutub vajalikuks vaid siis, kui soovitakse leida midagi lisaks ülemustest verbidele\n",
    "                #        \n",
    "                # Verbist ülemuse alluv, kui on määrus\n",
    "                #parent_children = sentence.stanza_syntax.get(parent)['children']\n",
    "                #if len(parent_children) > 1:\n",
    "                #    for child in parent_children:\n",
    "                #        if 'advmod' != child['deprel']:\n",
    "                #            continue\n",
    "                #        child_morph = sentence.morph_analysis.get(child)\n",
    "                #        for i in range(len(keywrds)):\n",
    "                #            if keywrds[i] == child_morph:\n",
    "                #                cl = sentence['keywords'][i]['class']\n",
    "                #                classes.append(cl)\n",
    "                                \n",
    "            \n",
    "            # Täiendid\n",
    "            #children = sentence.stanza_syntax.get(subspan)['children']\n",
    "            #if len(children) > 0:\n",
    "            #    for child in children:\n",
    "            #        if 'amod' != child['deprel']:\n",
    "            #            continue\n",
    "            #        child_morph = sentence.morph_analysis.get(child)\n",
    "            #        for i in range(len(keywrds)):\n",
    "            #            if keywrds[i] == child_morph:\n",
    "            #                cl = sentence['keywords'][i]['class']\n",
    "            #                classes.append(cl)\n",
    "            \n",
    "    # Kui lausele on määratud mitu klassi\n",
    "    if len(classes) > 1:\n",
    "        is_identical = True \n",
    "        i = 1\n",
    "        for i in range(len(classes)):\n",
    "            if classes[i] != classes[i-1]:\n",
    "                is_identical = False\n",
    "                break\n",
    "        # Kui määratud klassid on identsed, siis klass ühestatakse\n",
    "        if is_identical:\n",
    "            classes = [classes[0]]\n",
    "        # Kui määratud klaasid pole identsed, salvestatakse lause ambivalentsete lausete järjendisse\n",
    "        else:\n",
    "            cls = classes\n",
    "            sentences_with_classes_ambiguous.append([index, cls, sentence])\n",
    "    if len(classes) == 1:\n",
    "        cls = classes[0]\n",
    "        sentences_with_classes.append([index, cls, sentence])"
   ]
  },
  {
   "cell_type": "code",
   "execution_count": 20,
   "id": "bb3d4c85",
   "metadata": {},
   "outputs": [
    {
     "data": {
      "text/plain": [
       "746"
      ]
     },
     "execution_count": 20,
     "metadata": {},
     "output_type": "execute_result"
    }
   ],
   "source": [
    "# Leitud lauseid:\n",
    "len(sentences_with_classes)"
   ]
  },
  {
   "cell_type": "code",
   "execution_count": 21,
   "id": "373a87d2",
   "metadata": {},
   "outputs": [
    {
     "data": {
      "text/plain": [
       "6"
      ]
     },
     "execution_count": 21,
     "metadata": {},
     "output_type": "execute_result"
    }
   ],
   "source": [
    "# Laused, mis said analüüsis mitu klassi\n",
    "len(sentences_with_classes_ambiguous)"
   ]
  },
  {
   "cell_type": "markdown",
   "id": "a699b795",
   "metadata": {},
   "source": [
    "Kuue lause puhul tuvastati rohkem kui üks klass:"
   ]
  },
  {
   "cell_type": "code",
   "execution_count": 22,
   "id": "2804dab2",
   "metadata": {},
   "outputs": [
    {
     "data": {
      "text/plain": [
       "[[5956,\n",
       "  ['valitsemine', 'valimised'],\n",
       "  Text(text='hea aga see kui kaitseministeerium toetab eepilise monumentaalse Teise maailma sündmusi kajastava sõjafilmi tootmist või Edgar Savisaare juhitud Tallinna linnavalitsus toetab Robin Williams kontserti siis kas need on samas esineb')],\n",
       " [6265,\n",
       "  ['valitsemine', 'valimised', 'valimised'],\n",
       "  Text(text='mina nägin uut ma toonitan sõnu nagu mina nägin unes et Rain Rosimannuse Kristen Michal juba ammu hakkasid omavahel arutama et kurat nii ei saa et see Kaarel läinud üle võlli noh minu isiklik arvamus aeg läks ka\\net vaata meil on siin selline väljend nagu Kaur Kender\\net et me aeg-ajalt maksame talle mingisugust ma toonitan sama unenägu algas maksame talle siin nagu raha selle eest et too ta looks nagu Reformierakonna kasuks Facebookis libakontosid ja postitas mingeid kommentaare halvustavaid kommentaare poliitiliste vastaste kohta et et kurat aga musta raha ei ole olemas ütleb Rainer\\nKristel sa ise tead seda eks ole et see on nagu riskibisnis et legaliseeris kuidagi selle Kauri värgi ära\\neelistavad Kaurile Kaur eks ole kes on selline aktiivne seikleja ja miks mitte Sirbist võiks teha mingisugust teise asja eristab siis Kaur Toomas Väljataga kes on kultuur sihtasutuse Kultuurileht et tegelikult neid koole\\nToomas et me siin Kristen Iraaniga arutasime et ma võiks Sirbi ülevalt Toomas kes on selline nagu pehme loomuga kultuuriinimesed seda aastat kuid et olete nagu arutanud\\njah et see on nagu otsustatud noh siis Toomas valib ette Toomas valib Urmas Klaasi numbri kes on sihtasutuse Kultuurileht nõukogu esimees ja ka pehme inimene et kuule et siin Kaur eelistused Christine Rain\\nsee olevat kokku leppinud kaunistab nagu Sirbi uus nagu meil siin juhte peab mustlas ahah et noh kui on niimoodi kokku lepitud et siis ja siis noh et kui on kokku lepitud siis on Soku teada mis tehtud eks Rein Lang saab sellest teada\\nalgul vihastab mida minust on täiesti mööda minna aga siis tekibki teine mõte tõepoolest aga lisaks siis sirbid idee\\nja visata toimetuse granaadi et väga hea\\nja saab ka natuke lisaraha anda sellele sihtasutusele et noh Kender tuleb nagu oma meeskonnaga eks ja kõik on nagu legaalne varem see kahuri need paigutused seal Facebookis ja selle eest makstava muretsev oligi nagu natuke kahtlane\\nja see mis vaja ja sellel hetkel ärkasin ja sügavust')],\n",
       " [7794,\n",
       "  ['valimised', 'valitsemine'],\n",
       "  Text(text='nojah presidendil on ka võimalik praegu siin ikkagi nagu sissekirju ja et kui kui Sotsid on näiteks oma koalitsioonipartnerile Reformierakonnale lubanud selle praegu parlamendist läbi lükata, siis sellise kokkuleppega ei ole kuidagi piiratud Kadri')],\n",
       " [8108,\n",
       "  ['vaidlused ja erimeelsused', 'valimised'],\n",
       "  Text(text='Sest kordan, uuesti, et kogu seda asja ikkagi on tugevalt lõhestab see, ei ole kõigi vahel täit usaldust ühelt poolt\\nteiselt poolt on jälle see, et on ka erimeelsused nii-öelda maksu\\npoliitikas, kui tervikus ja siin ma võib-olla eksin, aga praktiliselt kõik välja arvatud siis ehk parlamenti pääsenud erakonnad vastanduvad Reformierakonnale, kes on väga selgelt hoidnud maksupoliitikas noh, seda ühte joont\\nja ka praegune Reformierakonna esimees, kes oma partneritele saatis kirja kui seal taga rõhutas, et,\\net mingit muudatust Reformierakond ei kavatse oma senises tööjõumaksude osas teha.')],\n",
       " [13195,\n",
       "  ['vaidlused ja erimeelsused', 'valimised'],\n",
       "  Text(text='Ja minister on vaba oma ütlemistes ka üldiselt, et noh, see on ikkagi praegu\\nväga konkreetsest kontekstist lähtuvalt Keskerakonna ministrile antud koalitsioonis, kus IRL võitleb oma ellujäämise eest ja üks tema\\nnii-öelda fundamentaalselt ajaloolisi\\ntugipunkt oligi see nii-öelda Eesti noh, need vähesed rahvuslased, kes veel IRL-i toetavad, võib olla palju pole jäänud, aga aga, aga nende nimel\\non justkui IRL siis valmis võitlema selle koalitsiooni ja, ja selles kontekstis ei tohi vene rahvusest Keskerakonna esindajast minister endale sellist asja öelda')],\n",
       " [17904,\n",
       "  ['valitsemine', 'vaidlused ja erimeelsused'],\n",
       "  Text(text='Kahe tuhande viieteistkümnendal aastal kaks tuhat neliteist pandi tema seemned mulda, kaks tuhat viisteist algas, nüüd on meil juba kaks tuhat kakskümmend käes ja võib-olla noh, ajakirjanikud võivad öelda, et nad elavad väga pikka aega ühe mingisuguse kohtuprotsessi tähe all, et nii nagu oli maadevahetuse kohtu kohtuprotsess, mis kestis ka muide vist juba kümme aastat või midagi taolist ja nüüd on viis aastat viis aastat seda protsessi või murdepunkt oli siin minu meelest siiski toona, kui kahe tuhande kaheksateistkümnenda aasta suvel otsustas Harju maakohus, et lõpetab Savisaare suhtes kohtumenetluse, mida siis pärast Riigikohus ka kinnitas seda otsust ja see tugineb, tuginedes sellest siis endokrinoloog Vallo Volke ekspertiisi arvamusel, et kohtuistungitel osalemine võib-olla Savisaarele eluohtlikke selle üle vaieldi siis ja vaieldakse ka praegu.')]]"
      ]
     },
     "metadata": {},
     "output_type": "display_data"
    }
   ],
   "source": [
    "display(sentences_with_classes_ambiguous)"
   ]
  },
  {
   "cell_type": "markdown",
   "id": "35948a86",
   "metadata": {},
   "source": [
    "Laused, mis said rohkem kui ühe klassi jäetakse siinses töös edasistest sammudest välja. Soovi korral võib aga sellised laused käsitsi üle vaadata ja ümber märgendada."
   ]
  },
  {
   "cell_type": "markdown",
   "id": "c1532317",
   "metadata": {},
   "source": [
    "### IV Klasside esinemissagedused"
   ]
  },
  {
   "cell_type": "markdown",
   "id": "d64cff05",
   "metadata": {},
   "source": [
    "Järgnevalt uuritakse, milline on eri klasside esinemissagedus. Suure tõenäosusega pole klassid päris võrdselt jaotunud, mis ei ole väiksemate erinevuste puhul takistuseks hiljem mudeli treenimisel. Suured erinevused võivad aga tekitada olukorra, kus mõnda klassi pole võimalik mudelile selgeks õpetada."
   ]
  },
  {
   "cell_type": "code",
   "execution_count": 23,
   "id": "869e14ab",
   "metadata": {},
   "outputs": [
    {
     "data": {
      "text/plain": [
       "[[24,\n",
       "  'valimised',\n",
       "  Text(text='Teatas et ta kavatseb ka riigikokku kandideerida kevadel et kuidas ta hakkab seal töötama sotside fraktsioonis kus Eiki nestoriga kestev kas tema elust tõmbuksid linnast oma soojast peadest välja kangust.')],\n",
       " [73,\n",
       "  'valimised',\n",
       "  Text(text='Näiteks lubaduse mida mina ei mäletanudki IRL lubas enne eelmisi valimisi kahe tuhande kroonist huvialaringid toetust last.')],\n",
       " [118,\n",
       "  'vaidlused ja erimeelsused',\n",
       "  Text(text='Keskerakond reformierakond omaette vastanduma ja on hinnatud isegi üllatas et et et ma ise olin maha maganud et Margus Tsahkna seda teemat niimoodi tõstatas ja tegelikult ka IRLile on see.')],\n",
       " [136,\n",
       "  'valitsemine',\n",
       "  Text(text='Selle asemel et ma kunagi kunagi küsisin ka kohtasin tänaval laval Andres tarandit ja siis ka Indrek tarand oli Euroopa parlamendi liikmest pärast pikka mari mineerimist otsustanud ennast.')],\n",
       " [181, 'valitsemine', Text(text='Miks riigikogu riigikogu koori juhtima.')]]"
      ]
     },
     "metadata": {},
     "output_type": "display_data"
    }
   ],
   "source": [
    "display(sentences_with_classes[:5])"
   ]
  },
  {
   "cell_type": "markdown",
   "id": "479c8618",
   "metadata": {},
   "source": [
    "Loendurid iga klassi jaoks:"
   ]
  },
  {
   "cell_type": "code",
   "execution_count": 86,
   "id": "588c9a9e",
   "metadata": {},
   "outputs": [],
   "source": [
    "vaidl_erim_kokku = 0\n",
    "valimised_kokku = 0\n",
    "valetamine_kokku = 0\n",
    "valitsemine_kokku = 0"
   ]
  },
  {
   "cell_type": "code",
   "execution_count": 89,
   "id": "a89ae80c",
   "metadata": {},
   "outputs": [],
   "source": [
    "# Loendamine\n",
    "for sent in sentences_with_classes:\n",
    "    if sent[1] == 'vaidlused ja erimeelsused':\n",
    "        vaidl_erim_kokku += 1\n",
    "    elif sent[1] == 'valimised':\n",
    "        valimised_kokku += 1\n",
    "    elif sent[1] == 'valetamine':\n",
    "        valetamine_kokku += 1\n",
    "    elif sent[1] == 'valitsemine':\n",
    "        valitsemine_kokku += 1"
   ]
  },
  {
   "cell_type": "code",
   "execution_count": 90,
   "id": "09d4c0fd",
   "metadata": {},
   "outputs": [
    {
     "name": "stdout",
     "output_type": "stream",
     "text": [
      "vaidlused ja erimeelsused: 106\n",
      "valimised: 332\n",
      "valetamine: 14\n",
      "valitsemine: 294\n"
     ]
    }
   ],
   "source": [
    "print(\"vaidlused ja erimeelsused:\", vaidl_erim_kokku)\n",
    "print(\"valimised:\", valimised_kokku)\n",
    "print(\"valetamine:\", valetamine_kokku)\n",
    "print(\"valitsemine:\", valitsemine_kokku)"
   ]
  },
  {
   "cell_type": "markdown",
   "id": "0c77639e",
   "metadata": {},
   "source": [
    "Nagu näha, ei ole klassid lausete lõikes võrdselt esindatud. Kui muude klasside erinevused pole nii suured, siis klass \"valetamine\" on teistega võrreldes eriti harva esinev, seetõttu seda närvivõrgumudelile selgeks õpetada ilmselt ei õnnestu. Sellistes olukordades võib klasse üksteisega liita või välja jätta, kuid siinses töös jäetakse see klass siiski eksperimentaalses korras alles."
   ]
  },
  {
   "cell_type": "markdown",
   "id": "e7b3dc70",
   "metadata": {},
   "source": [
    "### V Lausete salvestamine koos klassiga"
   ]
  },
  {
   "cell_type": "markdown",
   "id": "7c2000d2",
   "metadata": {},
   "source": [
    "Filtrid läbinud laused salvestatakse andmebaasis koos neile määratud temaatiliste klassidega. Edaspidi kasutatakse neid BERT-i klassifitseerija treenimisel."
   ]
  },
  {
   "cell_type": "code",
   "execution_count": 91,
   "id": "feb0d738",
   "metadata": {},
   "outputs": [],
   "source": [
    "con = sqlite3.connect(\"media_data_complete.db\")\n",
    "cur = con.cursor()"
   ]
  },
  {
   "cell_type": "code",
   "execution_count": 92,
   "id": "a847cf8a",
   "metadata": {},
   "outputs": [
    {
     "data": {
      "text/plain": [
       "<sqlite3.Cursor at 0x2b4442bbdc0>"
      ]
     },
     "execution_count": 92,
     "metadata": {},
     "output_type": "execute_result"
    }
   ],
   "source": [
    "cur.execute(\"CREATE TABLE sentences_with_classes(ID INTEGER PRIMARY KEY, sentence_with_syntax_ID INTEGER, sentence TEXT, class TEXT)\")"
   ]
  },
  {
   "cell_type": "code",
   "execution_count": 95,
   "id": "1d8c3e34",
   "metadata": {},
   "outputs": [],
   "source": [
    "for i in range(len(sentences_with_classes)):\n",
    "    sentence_json = text_to_json(sentences_with_classes[i][2])\n",
    "    cur.execute(\"\"\"INSERT INTO sentences_with_classes\n",
    "                            (sentence_with_syntax_ID, sentence, class)\n",
    "                            VALUES (?, ?, ?);\"\"\", (sentences_with_classes[i][0], sentence_json, sentences_with_classes[i][1]))\n",
    "    con.commit()"
   ]
  },
  {
   "cell_type": "code",
   "execution_count": 96,
   "id": "3a4d9392",
   "metadata": {},
   "outputs": [],
   "source": [
    "con.close()"
   ]
  },
  {
   "cell_type": "code",
   "execution_count": null,
   "id": "563ca732",
   "metadata": {},
   "outputs": [],
   "source": []
  }
 ],
 "metadata": {
  "kernelspec": {
   "display_name": "Python 3 (ipykernel)",
   "language": "python",
   "name": "python3"
  },
  "language_info": {
   "codemirror_mode": {
    "name": "ipython",
    "version": 3
   },
   "file_extension": ".py",
   "mimetype": "text/x-python",
   "name": "python",
   "nbconvert_exporter": "python",
   "pygments_lexer": "ipython3",
   "version": "3.10.11"
  }
 },
 "nbformat": 4,
 "nbformat_minor": 5
}
