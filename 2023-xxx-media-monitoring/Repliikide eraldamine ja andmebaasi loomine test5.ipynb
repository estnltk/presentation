{
 "cells": [
  {
   "cell_type": "markdown",
   "id": "30171c35",
   "metadata": {},
   "source": [
    "## Repliikide eraldamine ja andmebaasi loomine test5"
   ]
  },
  {
   "cell_type": "code",
   "execution_count": 1,
   "id": "b6c0136e",
   "metadata": {},
   "outputs": [],
   "source": [
    "from estnltk import Text\n",
    "import re\n",
    "import regex\n",
    "from estnltk.taggers.system.rule_taggers import RegexTagger, Ruleset\n",
    "from estnltk.taggers.system.rule_taggers import StaticExtractionRule\n",
    "from estnltk.taggers import HeaderBasedSegmenter\n",
    "from estnltk.taggers import NerTagger\n",
    "import sqlite3\n",
    "import os\n",
    "import datetime\n",
    "import pickle"
   ]
  },
  {
   "cell_type": "markdown",
   "id": "618c153c",
   "metadata": {},
   "source": [
    "Kõnelejale vastav regulaaravaldis:"
   ]
  },
  {
   "cell_type": "code",
   "execution_count": 2,
   "id": "ebafc6cc",
   "metadata": {},
   "outputs": [],
   "source": [
    "pattern = r'((^|\\n)(?P<span>(?P<name>.*): ?))'"
   ]
  },
  {
   "cell_type": "markdown",
   "id": "22d38db9",
   "metadata": {},
   "source": [
    "Funktsioon kõneleja nime atribuudi lisamiseks:"
   ]
  },
  {
   "cell_type": "code",
   "execution_count": 3,
   "id": "bfc897db",
   "metadata": {},
   "outputs": [],
   "source": [
    "def decorator(layer,span,annotation):\n",
    "    annotation['person'] = annotation['match'].group(4)\n",
    "    return annotation"
   ]
  },
  {
   "cell_type": "markdown",
   "id": "40f39105",
   "metadata": {},
   "source": [
    "Lisatakse reegel kõneleja fikseeriva tekstifragmendi väljavõtmiseks:"
   ]
  },
  {
   "cell_type": "code",
   "execution_count": 4,
   "id": "49336cd6",
   "metadata": {},
   "outputs": [],
   "source": [
    "rule = [StaticExtractionRule(pattern=regex.Regex('((^|\\n)(?P<span>(?P<name>.*): ?))'), attributes={'_group_': 0}, group=3)]\n",
    "ruleset = Ruleset()\n",
    "ruleset.add_rules(rule)"
   ]
  },
  {
   "cell_type": "markdown",
   "id": "e8d2c38f",
   "metadata": {},
   "source": [
    "Märgendaja RegexTagger loomine:"
   ]
  },
  {
   "cell_type": "code",
   "execution_count": 5,
   "id": "0b2c8cbd",
   "metadata": {},
   "outputs": [],
   "source": [
    "tagger = RegexTagger(\n",
    "    ruleset = ruleset,\n",
    "    output_layer = 'headers',\n",
    "    output_attributes = ['person'],\n",
    "    decorator=decorator,\n",
    "    match_attribute='match'\n",
    ") "
   ]
  },
  {
   "cell_type": "markdown",
   "id": "4dc72b0e",
   "metadata": {},
   "source": [
    "Märgendaja HeaderBasedSegmenter loomine:"
   ]
  },
  {
   "cell_type": "code",
   "execution_count": 6,
   "id": "951ca6da",
   "metadata": {},
   "outputs": [],
   "source": [
    "tagger2 = HeaderBasedSegmenter(\n",
    "    input_layer = 'headers', \n",
    "    output_layer = 'lines',\n",
    "    output_attributes = ['person'],\n",
    "    decorator = lambda header_span: {'person': header_span['person'][0]},\n",
    "    include_header = False\n",
    ")"
   ]
  },
  {
   "cell_type": "markdown",
   "id": "bf5c69f1",
   "metadata": {},
   "source": [
    "Nimeüksuste märgendaja NerTagger:"
   ]
  },
  {
   "cell_type": "code",
   "execution_count": 7,
   "id": "a52433cd",
   "metadata": {},
   "outputs": [],
   "source": [
    "nertagger = NerTagger()"
   ]
  },
  {
   "cell_type": "markdown",
   "id": "d8f8aa88",
   "metadata": {},
   "source": [
    "Luuakse andmebaas ja seal uus tabel, kuhu lisatakse kõik repliikidele vastavad Text-objektid, samuti info kuupäeva, kõneleja nime ja repliigi numbri kohta."
   ]
  },
  {
   "cell_type": "code",
   "execution_count": 8,
   "id": "9cba92fe",
   "metadata": {},
   "outputs": [
    {
     "data": {
      "text/plain": [
       "<sqlite3.Cursor at 0x2c15e255140>"
      ]
     },
     "execution_count": 8,
     "metadata": {},
     "output_type": "execute_result"
    }
   ],
   "source": [
    "con = sqlite3.connect(\"data.db\")\n",
    "cur = con.cursor()\n",
    "cur.execute('pragma encoding=UTF8')\n",
    "cur.execute(\"CREATE TABLE data(line BLOB, number INTEGER, person TEXT, date DATE)\")"
   ]
  },
  {
   "cell_type": "code",
   "execution_count": 11,
   "id": "c9767a1a",
   "metadata": {},
   "outputs": [],
   "source": [
    "path = 'test5/'\n",
    "for file in os.listdir(path):\n",
    "    with open(os.path.join(path, file), mode=\"r\", encoding=\"utf-8\") as f:\n",
    "        raw_text = f.read()\n",
    "        filename = file.replace('.txt', '')\n",
    "        date = datetime.datetime.strptime(filename, \"%Y-%m-%d\").date()\n",
    "        \n",
    "        text = tagger.tag(Text(raw_text))\n",
    "        text = tagger2.tag(text)\n",
    "        \n",
    "        for i in range(len(text.lines)):\n",
    "            span = text.lines[i]\n",
    "            line = span.text.strip()\n",
    "            if line == '':\n",
    "                continue\n",
    "            number = i+1\n",
    "            line = Text(line)\n",
    "            line.meta['line_number'] = number\n",
    "            line.meta['person'] = span.person\n",
    "            line.meta['date'] = date\n",
    "            line.tag_layer(['sentences', 'morph_analysis'])\n",
    "            nertagger.tag(line)\n",
    "            line_bytes = pickle.dumps(line)\n",
    "            cur.execute(\"\"\"INSERT INTO data\n",
    "                                  (line, number, person, date) \n",
    "                                  VALUES (?, ?, ?, ?);\"\"\", ((bytearray(line_bytes)), number, span.person, date))\n",
    "            con.commit()"
   ]
  },
  {
   "cell_type": "code",
   "execution_count": 12,
   "id": "9f43c718",
   "metadata": {},
   "outputs": [],
   "source": [
    "con.close()"
   ]
  }
 ],
 "metadata": {
  "kernelspec": {
   "display_name": "Python 3 (ipykernel)",
   "language": "python",
   "name": "python3"
  },
  "language_info": {
   "codemirror_mode": {
    "name": "ipython",
    "version": 3
   },
   "file_extension": ".py",
   "mimetype": "text/x-python",
   "name": "python",
   "nbconvert_exporter": "python",
   "pygments_lexer": "ipython3",
   "version": "3.10.11"
  }
 },
 "nbformat": 4,
 "nbformat_minor": 5
}
