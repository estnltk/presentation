{
 "cells": [
  {
   "cell_type": "markdown",
   "id": "e6213e3f",
   "metadata": {},
   "source": [
    "## Süntaksianalüüs test5"
   ]
  },
  {
   "cell_type": "code",
   "execution_count": 10,
   "id": "869aef06",
   "metadata": {
    "scrolled": true
   },
   "outputs": [],
   "source": [
    "from estnltk import Text\n",
    "from estnltk_neural.taggers import StanzaSyntaxTagger\n",
    "import sqlite3\n",
    "from estnltk.converters import json_to_text"
   ]
  },
  {
   "cell_type": "code",
   "execution_count": 11,
   "id": "a4d8f4cc",
   "metadata": {},
   "outputs": [
    {
     "name": "stderr",
     "output_type": "stream",
     "text": [
      "Downloading resources index: 20.1kB [00:00, ?B/s]\n"
     ]
    },
    {
     "name": "stdout",
     "output_type": "stream",
     "text": [
      "This requires downloading resource 'stanza_syntax_2023-01-21' (size: 1.5G). Proceed with downloading? [Y/n] y\n"
     ]
    },
    {
     "ename": "ValueError",
     "evalue": "(!) File downloadable from 'https://object.hpc.ut.ee/ladu.keeleressursid.ee/estnltk/estnltk_resources/stanza_syntax_2023-01-21.zip' is not a zip or gz file.Unexpected Content-Type: 'application/x-zip-compressed'",
     "output_type": "error",
     "traceback": [
      "\u001b[1;31m---------------------------------------------------------------------------\u001b[0m",
      "\u001b[1;31mValueError\u001b[0m                                Traceback (most recent call last)",
      "Cell \u001b[1;32mIn[11], line 1\u001b[0m\n\u001b[1;32m----> 1\u001b[0m StanzaTagger \u001b[38;5;241m=\u001b[39m \u001b[43mStanzaSyntaxTagger\u001b[49m\u001b[43m(\u001b[49m\u001b[43minput_type\u001b[49m\u001b[38;5;241;43m=\u001b[39;49m\u001b[38;5;124;43m'\u001b[39;49m\u001b[38;5;124;43mmorph_extended\u001b[39;49m\u001b[38;5;124;43m'\u001b[39;49m\u001b[43m,\u001b[49m\u001b[43m \u001b[49m\u001b[43madd_parent_and_children\u001b[49m\u001b[38;5;241;43m=\u001b[39;49m\u001b[38;5;28;43;01mTrue\u001b[39;49;00m\u001b[43m)\u001b[49m\n",
      "File \u001b[1;32m~\\AppData\\Local\\anaconda3\\envs\\py310\\lib\\site-packages\\estnltk_core\\taggers\\tagger.py:9\u001b[0m, in \u001b[0;36mTaggerChecker.__call__\u001b[1;34m(cls, *args, **kwargs)\u001b[0m\n\u001b[0;32m      8\u001b[0m \u001b[38;5;28;01mdef\u001b[39;00m \u001b[38;5;21m__call__\u001b[39m(\u001b[38;5;28mcls\u001b[39m, \u001b[38;5;241m*\u001b[39margs, \u001b[38;5;241m*\u001b[39m\u001b[38;5;241m*\u001b[39mkwargs):\n\u001b[1;32m----> 9\u001b[0m     tagger \u001b[38;5;241m=\u001b[39m \u001b[38;5;28mtype\u001b[39m\u001b[38;5;241m.\u001b[39m\u001b[38;5;21m__call__\u001b[39m(\u001b[38;5;28mcls\u001b[39m, \u001b[38;5;241m*\u001b[39margs, \u001b[38;5;241m*\u001b[39m\u001b[38;5;241m*\u001b[39mkwargs)\n\u001b[0;32m     11\u001b[0m     \u001b[38;5;28;01massert\u001b[39;00m \u001b[38;5;28misinstance\u001b[39m(tagger\u001b[38;5;241m.\u001b[39mconf_param, Sequence), \u001b[38;5;124m\"\u001b[39m\u001b[38;5;124m'\u001b[39m\u001b[38;5;124mconf_param\u001b[39m\u001b[38;5;124m'\u001b[39m\u001b[38;5;124m not defined in \u001b[39m\u001b[38;5;132;01m{!r}\u001b[39;00m\u001b[38;5;124m\"\u001b[39m\u001b[38;5;241m.\u001b[39mformat(\u001b[38;5;28mcls\u001b[39m\u001b[38;5;241m.\u001b[39m\u001b[38;5;18m__name__\u001b[39m)\n\u001b[0;32m     12\u001b[0m     \u001b[38;5;28;01massert\u001b[39;00m \u001b[38;5;129;01mnot\u001b[39;00m \u001b[38;5;28misinstance\u001b[39m(tagger\u001b[38;5;241m.\u001b[39mconf_param, \u001b[38;5;28mstr\u001b[39m)\n",
      "File \u001b[1;32m~\\AppData\\Local\\anaconda3\\envs\\py310\\lib\\site-packages\\estnltk_neural\\taggers\\syntax\\stanza_tagger\\stanza_tagger.py:79\u001b[0m, in \u001b[0;36mStanzaSyntaxTagger.__init__\u001b[1;34m(self, output_layer, sentences_layer, words_layer, input_morph_layer, input_type, add_parent_and_children, depparse_path, resources_path, mark_syntax_error, mark_agreement_error, use_gpu)\u001b[0m\n\u001b[0;32m     75\u001b[0m \u001b[38;5;28mself\u001b[39m\u001b[38;5;241m.\u001b[39muse_gpu \u001b[38;5;241m=\u001b[39m use_gpu\n\u001b[0;32m     77\u001b[0m \u001b[38;5;28;01mif\u001b[39;00m \u001b[38;5;129;01mnot\u001b[39;00m resources_path:\n\u001b[0;32m     78\u001b[0m     \u001b[38;5;66;03m# Try to get the resources path for stanzasyntaxtagger. Attempt to download resources, if missing\u001b[39;00m\n\u001b[1;32m---> 79\u001b[0m     \u001b[38;5;28mself\u001b[39m\u001b[38;5;241m.\u001b[39mdir \u001b[38;5;241m=\u001b[39m \u001b[43mget_resource_paths\u001b[49m\u001b[43m(\u001b[49m\u001b[38;5;124;43m\"\u001b[39;49m\u001b[38;5;124;43mstanzasyntaxtagger\u001b[39;49m\u001b[38;5;124;43m\"\u001b[39;49m\u001b[43m,\u001b[49m\u001b[43m \u001b[49m\u001b[43monly_latest\u001b[49m\u001b[38;5;241;43m=\u001b[39;49m\u001b[38;5;28;43;01mTrue\u001b[39;49;00m\u001b[43m,\u001b[49m\u001b[43m \u001b[49m\u001b[43mdownload_missing\u001b[49m\u001b[38;5;241;43m=\u001b[39;49m\u001b[38;5;28;43;01mTrue\u001b[39;49;00m\u001b[43m)\u001b[49m\n\u001b[0;32m     80\u001b[0m \u001b[38;5;28;01melse\u001b[39;00m:\n\u001b[0;32m     81\u001b[0m     \u001b[38;5;28mself\u001b[39m\u001b[38;5;241m.\u001b[39mdir \u001b[38;5;241m=\u001b[39m resources_path\n",
      "File \u001b[1;32m~\\AppData\\Local\\anaconda3\\envs\\py310\\lib\\site-packages\\estnltk\\downloader.py:160\u001b[0m, in \u001b[0;36mget_resource_paths\u001b[1;34m(resource, only_latest, download_missing, check_version)\u001b[0m\n\u001b[0;32m    157\u001b[0m     proceed_with_download \u001b[38;5;241m=\u001b[39m \\\n\u001b[0;32m    158\u001b[0m         _ask_download_permission( target_resource )\n\u001b[0;32m    159\u001b[0m \u001b[38;5;28;01mif\u001b[39;00m proceed_with_download:\n\u001b[1;32m--> 160\u001b[0m     status \u001b[38;5;241m=\u001b[39m \u001b[43mdownload\u001b[49m\u001b[43m(\u001b[49m\u001b[43mtarget_resource\u001b[49m\u001b[43m[\u001b[49m\u001b[38;5;124;43m'\u001b[39;49m\u001b[38;5;124;43mname\u001b[39;49m\u001b[38;5;124;43m'\u001b[39;49m\u001b[43m]\u001b[49m\u001b[43m)\u001b[49m\n\u001b[0;32m    161\u001b[0m     \u001b[38;5;28;01mif\u001b[39;00m status:\n\u001b[0;32m    162\u001b[0m         \u001b[38;5;66;03m# Recursively fetch the path to the \u001b[39;00m\n\u001b[0;32m    163\u001b[0m         \u001b[38;5;66;03m# downloaded resource\u001b[39;00m\n\u001b[0;32m    164\u001b[0m         \u001b[38;5;28;01mreturn\u001b[39;00m get_resource_paths(resource, only_latest\u001b[38;5;241m=\u001b[39monly_latest)\n",
      "File \u001b[1;32m~\\AppData\\Local\\anaconda3\\envs\\py310\\lib\\site-packages\\estnltk\\downloader.py:705\u001b[0m, in \u001b[0;36mdownload\u001b[1;34m(resource, refresh_index, redownload, only_latest, version_warnings)\u001b[0m\n\u001b[0;32m    701\u001b[0m                 success \u001b[38;5;241m=\u001b[39m \u001b[38;5;28;01mTrue\u001b[39;00m\n\u001b[0;32m    702\u001b[0m             \u001b[38;5;28;01melse\u001b[39;00m:\n\u001b[0;32m    703\u001b[0m                 \u001b[38;5;66;03m# Download ordinary resource\u001b[39;00m\n\u001b[0;32m    704\u001b[0m                 success \u001b[38;5;241m=\u001b[39m \\\n\u001b[1;32m--> 705\u001b[0m                     \u001b[43m_download_and_unpack\u001b[49m\u001b[43m(\u001b[49m\u001b[43mresource_desc\u001b[49m\u001b[43m,\u001b[49m\u001b[43m \u001b[49m\u001b[43mresources_dir\u001b[49m\u001b[43m)\u001b[49m\n\u001b[0;32m    706\u001b[0m     \u001b[38;5;28;01mreturn\u001b[39;00m success\n\u001b[0;32m    707\u001b[0m \u001b[38;5;28;01melse\u001b[39;00m:\n",
      "File \u001b[1;32m~\\AppData\\Local\\anaconda3\\envs\\py310\\lib\\site-packages\\estnltk\\downloader.py:492\u001b[0m, in \u001b[0;36m_download_and_unpack\u001b[1;34m(resource_description, resources_dir)\u001b[0m\n\u001b[0;32m    490\u001b[0m         response\u001b[38;5;241m.\u001b[39mraise_for_status()\n\u001b[0;32m    491\u001b[0m \u001b[38;5;28;01melse\u001b[39;00m:\n\u001b[1;32m--> 492\u001b[0m     \u001b[38;5;28;01mraise\u001b[39;00m \u001b[38;5;167;01mValueError\u001b[39;00m( (\u001b[38;5;124m'\u001b[39m\u001b[38;5;124m(!) File downloadable from \u001b[39m\u001b[38;5;132;01m{!r}\u001b[39;00m\u001b[38;5;124m is not a zip or gz file.\u001b[39m\u001b[38;5;124m'\u001b[39m\u001b[38;5;241m+\u001b[39m\\\n\u001b[0;32m    493\u001b[0m                        \u001b[38;5;124m'\u001b[39m\u001b[38;5;124mUnexpected Content-Type: \u001b[39m\u001b[38;5;132;01m{!r}\u001b[39;00m\u001b[38;5;124m'\u001b[39m)\u001b[38;5;241m.\u001b[39mformat( url, \n\u001b[0;32m    494\u001b[0m                        file_headers[\u001b[38;5;124m'\u001b[39m\u001b[38;5;124mContent-Type\u001b[39m\u001b[38;5;124m'\u001b[39m]) )\n\u001b[0;32m    495\u001b[0m \u001b[38;5;66;03m# =================================================\u001b[39;00m\n\u001b[0;32m    496\u001b[0m \u001b[38;5;66;03m# 2) Check MD5 digest (if provided)\u001b[39;00m\n\u001b[0;32m    497\u001b[0m \u001b[38;5;66;03m# =================================================\u001b[39;00m\n\u001b[0;32m    498\u001b[0m downloaded_file \u001b[38;5;241m=\u001b[39m temp_f\u001b[38;5;241m.\u001b[39mname\n",
      "\u001b[1;31mValueError\u001b[0m: (!) File downloadable from 'https://object.hpc.ut.ee/ladu.keeleressursid.ee/estnltk/estnltk_resources/stanza_syntax_2023-01-21.zip' is not a zip or gz file.Unexpected Content-Type: 'application/x-zip-compressed'"
     ]
    }
   ],
   "source": [
    "StanzaTagger = StanzaSyntaxTagger(input_type='morph_extended', add_parent_and_children=True)"
   ]
  },
  {
   "cell_type": "code",
   "execution_count": null,
   "id": "2b2998e7",
   "metadata": {},
   "outputs": [],
   "source": []
  }
 ],
 "metadata": {
  "kernelspec": {
   "display_name": "Python 3 (ipykernel)",
   "language": "python",
   "name": "python3"
  },
  "language_info": {
   "codemirror_mode": {
    "name": "ipython",
    "version": 3
   },
   "file_extension": ".py",
   "mimetype": "text/x-python",
   "name": "python",
   "nbconvert_exporter": "python",
   "pygments_lexer": "ipython3",
   "version": "3.10.11"
  }
 },
 "nbformat": 4,
 "nbformat_minor": 5
}
