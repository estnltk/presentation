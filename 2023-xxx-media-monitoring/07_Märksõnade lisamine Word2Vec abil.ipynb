{
 "cells": [
  {
   "cell_type": "code",
   "execution_count": 2,
   "id": "e91eda74",
   "metadata": {},
   "outputs": [],
   "source": [
    "from estnltk import Text\n",
    "import sqlite3\n",
    "from estnltk.converters import json_to_text\n",
    "from gensim.models import Word2Vec\n",
    "import re"
   ]
  },
  {
   "cell_type": "markdown",
   "id": "55f88711",
   "metadata": {},
   "source": [
    "Varasemalt valiti välja teemad ja neid ilmestavad märksõnad manuaalselt, uurides süntaksianalüüsi tulemust. Märksõnade hulka võiks aga suurendada, et leida üles rohkem valitud teemasid käsitlevaid lauseid. Siin katsetatakse märksõnadele lisa leidmiseks Word2Vec mudelit. Word2Vec mudel treenitakse kõigi andmestikus olevate lausete peal, sest suuremal andmehulgal treenides võib oodata paremaid tulemusi."
   ]
  },
  {
   "cell_type": "markdown",
   "id": "0123468b",
   "metadata": {},
   "source": [
    "### I Lausete sisselugemine andmebaasist"
   ]
  },
  {
   "cell_type": "code",
   "execution_count": 3,
   "id": "dd04267d",
   "metadata": {},
   "outputs": [],
   "source": [
    "con = sqlite3.connect(\"media_data_complete.db\")\n",
    "cur = con.cursor()"
   ]
  },
  {
   "cell_type": "code",
   "execution_count": 4,
   "id": "6f548a5b",
   "metadata": {},
   "outputs": [],
   "source": [
    "sentences = []"
   ]
  },
  {
   "cell_type": "code",
   "execution_count": 5,
   "id": "27bbbd08",
   "metadata": {},
   "outputs": [],
   "source": [
    "for row in cur.execute(\"SELECT sentence FROM sentences\"):\n",
    "    sentence = json_to_text(json_text=row[0])\n",
    "    sentences.append(sentence)"
   ]
  },
  {
   "cell_type": "code",
   "execution_count": 6,
   "id": "65454a4d",
   "metadata": {},
   "outputs": [],
   "source": [
    "con.close()"
   ]
  },
  {
   "cell_type": "code",
   "execution_count": 7,
   "id": "3319dcc7",
   "metadata": {},
   "outputs": [
    {
     "data": {
      "text/plain": [
       "89120"
      ]
     },
     "execution_count": 7,
     "metadata": {},
     "output_type": "execute_result"
    }
   ],
   "source": [
    "len(sentences)"
   ]
  },
  {
   "cell_type": "markdown",
   "id": "f2639d5b",
   "metadata": {},
   "source": [
    "### II Lausete eeltöötlus"
   ]
  },
  {
   "cell_type": "markdown",
   "id": "14bd97c4",
   "metadata": {},
   "source": [
    "Enne Word2Vec mudelile etteandmist tuleb lauseid töödelda. See tähendab lausete väiketähestamist, erisümbolite eemaldamist ja lemmatiseerimist"
   ]
  },
  {
   "cell_type": "code",
   "execution_count": 8,
   "id": "cde048ca",
   "metadata": {},
   "outputs": [],
   "source": [
    "def get_lemmas(sentence):\n",
    "    lemma_list = []\n",
    "    for i in range(len(sentence.words)):\n",
    "        lemma_list.append(sentence.words[i].lemma[0])\n",
    "    return lemma_list"
   ]
  },
  {
   "cell_type": "code",
   "execution_count": 9,
   "id": "b4b123cd",
   "metadata": {},
   "outputs": [],
   "source": [
    "lemmatized_sentences = [get_lemmas(sentence) for sentence in sentences]"
   ]
  },
  {
   "cell_type": "code",
   "execution_count": 10,
   "id": "156ce097",
   "metadata": {},
   "outputs": [
    {
     "data": {
      "text/plain": [
       "['tere',\n",
       " 'siin',\n",
       " 'kukkuma',\n",
       " 'raadio',\n",
       " 'keskpäevatund',\n",
       " 'Tartu',\n",
       " 'Rein',\n",
       " 'kilk',\n",
       " 'Tallinn',\n",
       " 'Hans',\n",
       " 'H',\n",
       " 'luik',\n",
       " 'ja',\n",
       " 'priit',\n",
       " 'hõbemägi',\n",
       " 'ja',\n",
       " 'see',\n",
       " 'esimene',\n",
       " 'lukk',\n",
       " 'ka',\n",
       " 'faktor',\n",
       " 'olema',\n",
       " 'lepik',\n",
       " 'maa',\n",
       " 'tõesti',\n",
       " 'suur',\n",
       " 'rahakott',\n",
       " 'pühendama',\n",
       " 'see',\n",
       " 'kolm',\n",
       " 'konteiner',\n",
       " 'euroraha',\n",
       " 'kolmene',\n",
       " 'konteineritäis',\n",
       " '.']"
      ]
     },
     "execution_count": 10,
     "metadata": {},
     "output_type": "execute_result"
    }
   ],
   "source": [
    "lemmatized_sentences[0]"
   ]
  },
  {
   "cell_type": "code",
   "execution_count": 11,
   "id": "e875526f",
   "metadata": {},
   "outputs": [],
   "source": [
    "lemmatized_sentences_joined = [\" \".join(sentence) for sentence in lemmatized_sentences]"
   ]
  },
  {
   "cell_type": "code",
   "execution_count": 12,
   "id": "793e776f",
   "metadata": {},
   "outputs": [
    {
     "name": "stdout",
     "output_type": "stream",
     "text": [
      "tere siin kukkuma raadio keskpäevatund Tartu Rein kilk Tallinn Hans H luik ja priit hõbemägi ja see esimene lukk ka faktor olema lepik maa tõesti suur rahakott pühendama see kolm konteiner euroraha kolmene konteineritäis .\n"
     ]
    }
   ],
   "source": [
    "print(lemmatized_sentences_joined[0])"
   ]
  },
  {
   "cell_type": "code",
   "execution_count": 19,
   "id": "8ea35cc3",
   "metadata": {},
   "outputs": [],
   "source": [
    "lemmatized_sentences_lower = [sentence.lower() for sentence in lemmatized_sentences_joined]"
   ]
  },
  {
   "cell_type": "code",
   "execution_count": 20,
   "id": "d7eaa4be",
   "metadata": {},
   "outputs": [
    {
     "name": "stdout",
     "output_type": "stream",
     "text": [
      "tere siin kukkuma raadio keskpäevatund tartu rein kilk tallinn hans h luik ja priit hõbemägi ja see esimene lukk ka faktor olema lepik maa tõesti suur rahakott pühendama see kolm konteiner euroraha kolmene konteineritäis .\n"
     ]
    }
   ],
   "source": [
    "print(lemmatized_sentences_lower[0])"
   ]
  },
  {
   "cell_type": "code",
   "execution_count": 21,
   "id": "9a442a29",
   "metadata": {},
   "outputs": [],
   "source": [
    "lemmatized_sentences_lower = [re.sub('\\W', ' ', sentence) for sentence in lemmatized_sentences_lower]"
   ]
  },
  {
   "cell_type": "code",
   "execution_count": 22,
   "id": "ec210136",
   "metadata": {},
   "outputs": [
    {
     "name": "stdout",
     "output_type": "stream",
     "text": [
      "tere siin kukkuma raadio keskpäevatund tartu rein kilk tallinn hans h luik ja priit hõbemägi ja see esimene lukk ka faktor olema lepik maa tõesti suur rahakott pühendama see kolm konteiner euroraha kolmene konteineritäis  \n"
     ]
    }
   ],
   "source": [
    "print(lemmatized_sentences_lower[0])"
   ]
  },
  {
   "cell_type": "code",
   "execution_count": 23,
   "id": "818a7430",
   "metadata": {},
   "outputs": [],
   "source": [
    "lemmatized_sentences_tokenized = [sentence.split() for sentence in lemmatized_sentences_lower]"
   ]
  },
  {
   "cell_type": "code",
   "execution_count": 24,
   "id": "3f814841",
   "metadata": {},
   "outputs": [
    {
     "name": "stdout",
     "output_type": "stream",
     "text": [
      "['tere', 'siin', 'kukkuma', 'raadio', 'keskpäevatund', 'tartu', 'rein', 'kilk', 'tallinn', 'hans', 'h', 'luik', 'ja', 'priit', 'hõbemägi', 'ja', 'see', 'esimene', 'lukk', 'ka', 'faktor', 'olema', 'lepik', 'maa', 'tõesti', 'suur', 'rahakott', 'pühendama', 'see', 'kolm', 'konteiner', 'euroraha', 'kolmene', 'konteineritäis']\n"
     ]
    }
   ],
   "source": [
    "print(lemmatized_sentences_tokenized[0])"
   ]
  },
  {
   "cell_type": "code",
   "execution_count": 25,
   "id": "746d61ac",
   "metadata": {},
   "outputs": [
    {
     "name": "stdout",
     "output_type": "stream",
     "text": [
      "INFO:word2vec.py:582: collecting all words and their counts\n",
      "INFO:word2vec.py:565: PROGRESS: at sentence #0, processed 0 words, keeping 0 word types\n",
      "INFO:word2vec.py:565: PROGRESS: at sentence #10000, processed 253324 words, keeping 17519 word types\n",
      "INFO:word2vec.py:565: PROGRESS: at sentence #20000, processed 482928 words, keeping 25985 word types\n",
      "INFO:word2vec.py:565: PROGRESS: at sentence #30000, processed 719315 words, keeping 32960 word types\n",
      "INFO:word2vec.py:565: PROGRESS: at sentence #40000, processed 1313189 words, keeping 43728 word types\n",
      "INFO:word2vec.py:565: PROGRESS: at sentence #50000, processed 1632081 words, keeping 47861 word types\n",
      "INFO:word2vec.py:565: PROGRESS: at sentence #60000, processed 1927637 words, keeping 51527 word types\n",
      "INFO:word2vec.py:565: PROGRESS: at sentence #70000, processed 2215682 words, keeping 54795 word types\n",
      "INFO:word2vec.py:565: PROGRESS: at sentence #80000, processed 2547985 words, keeping 59282 word types\n",
      "INFO:word2vec.py:588: collected 63385 word types from a corpus of 2870220 raw words and 89120 sentences\n",
      "INFO:word2vec.py:637: Creating a fresh vocabulary\n",
      "INFO:utils.py:448: Word2Vec lifecycle event {'msg': 'effective_min_count=1 retains 63385 unique words (100.00% of original 63385, drops 0)', 'datetime': '2023-11-02T21:42:53.739035', 'gensim': '4.3.2', 'python': '3.10.11 | packaged by Anaconda, Inc. | (main, Apr 20 2023, 18:56:50) [MSC v.1916 64 bit (AMD64)]', 'platform': 'Windows-10-10.0.19045-SP0', 'event': 'prepare_vocab'}\n",
      "INFO:utils.py:448: Word2Vec lifecycle event {'msg': 'effective_min_count=1 leaves 2870220 word corpus (100.00% of original 2870220, drops 0)', 'datetime': '2023-11-02T21:42:53.739035', 'gensim': '4.3.2', 'python': '3.10.11 | packaged by Anaconda, Inc. | (main, Apr 20 2023, 18:56:50) [MSC v.1916 64 bit (AMD64)]', 'platform': 'Windows-10-10.0.19045-SP0', 'event': 'prepare_vocab'}\n",
      "INFO:word2vec.py:745: deleting the raw counts dictionary of 63385 items\n",
      "INFO:word2vec.py:748: sample=0.001 downsamples 46 most-common words\n",
      "INFO:utils.py:448: Word2Vec lifecycle event {'msg': 'downsampling leaves estimated 2001853.326761049 word corpus (69.7%% of prior 2870220)', 'datetime': '2023-11-02T21:42:54.575437', 'gensim': '4.3.2', 'python': '3.10.11 | packaged by Anaconda, Inc. | (main, Apr 20 2023, 18:56:50) [MSC v.1916 64 bit (AMD64)]', 'platform': 'Windows-10-10.0.19045-SP0', 'event': 'prepare_vocab'}\n",
      "INFO:word2vec.py:805: estimated required memory for 63385 words and 100 dimensions: 82400500 bytes\n",
      "INFO:word2vec.py:863: resetting layer weights\n",
      "INFO:utils.py:448: Word2Vec lifecycle event {'update': False, 'trim_rule': 'None', 'datetime': '2023-11-02T21:42:56.505668', 'gensim': '4.3.2', 'python': '3.10.11 | packaged by Anaconda, Inc. | (main, Apr 20 2023, 18:56:50) [MSC v.1916 64 bit (AMD64)]', 'platform': 'Windows-10-10.0.19045-SP0', 'event': 'build_vocab'}\n",
      "INFO:utils.py:448: Word2Vec lifecycle event {'msg': 'training model with 16 workers on 63385 vocabulary and 100 features, using sg=0 hs=0 sample=0.001 negative=10 window=2 shrink_windows=True', 'datetime': '2023-11-02T21:42:56.508820', 'gensim': '4.3.2', 'python': '3.10.11 | packaged by Anaconda, Inc. | (main, Apr 20 2023, 18:56:50) [MSC v.1916 64 bit (AMD64)]', 'platform': 'Windows-10-10.0.19045-SP0', 'event': 'train'}\n",
      "INFO:word2vec.py:1608: EPOCH 0 - PROGRESS: at 36.91% examples, 560368 words/s, in_qsize 27, out_qsize 4\n",
      "INFO:word2vec.py:1608: EPOCH 0 - PROGRESS: at 61.32% examples, 609345 words/s, in_qsize 32, out_qsize 0\n",
      "INFO:word2vec.py:1652: EPOCH 0: training on 2870220 raw words (2001149 effective words) took 3.0s, 663257 effective words/s\n",
      "INFO:word2vec.py:1608: EPOCH 1 - PROGRESS: at 37.06% examples, 576694 words/s, in_qsize 31, out_qsize 0\n",
      "INFO:word2vec.py:1608: EPOCH 1 - PROGRESS: at 63.66% examples, 639601 words/s, in_qsize 31, out_qsize 0\n",
      "INFO:word2vec.py:1608: EPOCH 1 - PROGRESS: at 100.00% examples, 665833 words/s, in_qsize 0, out_qsize 1\n",
      "INFO:word2vec.py:1652: EPOCH 1: training on 2870220 raw words (2001791 effective words) took 3.0s, 665557 effective words/s\n",
      "INFO:word2vec.py:1608: EPOCH 2 - PROGRESS: at 37.19% examples, 572462 words/s, in_qsize 32, out_qsize 0\n",
      "INFO:word2vec.py:1608: EPOCH 2 - PROGRESS: at 65.56% examples, 648351 words/s, in_qsize 31, out_qsize 0\n",
      "INFO:word2vec.py:1652: EPOCH 2: training on 2870220 raw words (2001761 effective words) took 2.9s, 682821 effective words/s\n",
      "INFO:word2vec.py:1608: EPOCH 3 - PROGRESS: at 37.87% examples, 598430 words/s, in_qsize 31, out_qsize 0\n",
      "INFO:word2vec.py:1608: EPOCH 3 - PROGRESS: at 67.07% examples, 638850 words/s, in_qsize 25, out_qsize 6\n",
      "INFO:word2vec.py:1652: EPOCH 3: training on 2870220 raw words (2002712 effective words) took 3.0s, 660992 effective words/s\n",
      "INFO:word2vec.py:1608: EPOCH 4 - PROGRESS: at 37.61% examples, 597239 words/s, in_qsize 31, out_qsize 0\n",
      "INFO:word2vec.py:1608: EPOCH 4 - PROGRESS: at 64.07% examples, 638049 words/s, in_qsize 32, out_qsize 2\n",
      "INFO:word2vec.py:1652: EPOCH 4: training on 2870220 raw words (2001080 effective words) took 3.0s, 669929 effective words/s\n",
      "INFO:word2vec.py:1608: EPOCH 5 - PROGRESS: at 37.75% examples, 586428 words/s, in_qsize 32, out_qsize 0\n",
      "INFO:word2vec.py:1608: EPOCH 5 - PROGRESS: at 66.35% examples, 648413 words/s, in_qsize 31, out_qsize 0\n",
      "INFO:word2vec.py:1652: EPOCH 5: training on 2870220 raw words (2001101 effective words) took 3.0s, 675205 effective words/s\n",
      "INFO:word2vec.py:1608: EPOCH 6 - PROGRESS: at 37.86% examples, 621858 words/s, in_qsize 30, out_qsize 1\n",
      "INFO:word2vec.py:1608: EPOCH 6 - PROGRESS: at 65.23% examples, 646152 words/s, in_qsize 30, out_qsize 1\n",
      "INFO:word2vec.py:1652: EPOCH 6: training on 2870220 raw words (2002070 effective words) took 2.9s, 689405 effective words/s\n",
      "INFO:word2vec.py:1608: EPOCH 7 - PROGRESS: at 37.88% examples, 617885 words/s, in_qsize 32, out_qsize 2\n",
      "INFO:word2vec.py:1608: EPOCH 7 - PROGRESS: at 64.42% examples, 642775 words/s, in_qsize 30, out_qsize 1\n",
      "INFO:word2vec.py:1652: EPOCH 7: training on 2870220 raw words (2001863 effective words) took 3.0s, 677756 effective words/s\n",
      "INFO:word2vec.py:1608: EPOCH 8 - PROGRESS: at 33.18% examples, 494323 words/s, in_qsize 32, out_qsize 2\n",
      "INFO:word2vec.py:1608: EPOCH 8 - PROGRESS: at 58.03% examples, 581048 words/s, in_qsize 32, out_qsize 0\n",
      "INFO:word2vec.py:1608: EPOCH 8 - PROGRESS: at 90.87% examples, 592922 words/s, in_qsize 30, out_qsize 0\n",
      "INFO:word2vec.py:1652: EPOCH 8: training on 2870220 raw words (2002150 effective words) took 3.3s, 608570 effective words/s\n",
      "INFO:word2vec.py:1608: EPOCH 9 - PROGRESS: at 37.35% examples, 589231 words/s, in_qsize 30, out_qsize 1\n",
      "INFO:word2vec.py:1608: EPOCH 9 - PROGRESS: at 64.02% examples, 635966 words/s, in_qsize 25, out_qsize 6\n",
      "INFO:word2vec.py:1652: EPOCH 9: training on 2870220 raw words (2001917 effective words) took 3.0s, 671751 effective words/s\n",
      "INFO:word2vec.py:1608: EPOCH 10 - PROGRESS: at 37.31% examples, 592844 words/s, in_qsize 31, out_qsize 0\n",
      "INFO:word2vec.py:1608: EPOCH 10 - PROGRESS: at 64.04% examples, 637769 words/s, in_qsize 32, out_qsize 0\n",
      "INFO:word2vec.py:1652: EPOCH 10: training on 2870220 raw words (2001235 effective words) took 3.0s, 671261 effective words/s\n",
      "INFO:word2vec.py:1608: EPOCH 11 - PROGRESS: at 37.88% examples, 582622 words/s, in_qsize 30, out_qsize 1\n",
      "INFO:word2vec.py:1608: EPOCH 11 - PROGRESS: at 65.94% examples, 639223 words/s, in_qsize 30, out_qsize 1\n",
      "INFO:word2vec.py:1652: EPOCH 11: training on 2870220 raw words (2002143 effective words) took 3.0s, 668660 effective words/s\n",
      "INFO:word2vec.py:1608: EPOCH 12 - PROGRESS: at 38.92% examples, 648433 words/s, in_qsize 29, out_qsize 2\n",
      "INFO:word2vec.py:1608: EPOCH 12 - PROGRESS: at 69.11% examples, 674610 words/s, in_qsize 29, out_qsize 2\n",
      "INFO:word2vec.py:1652: EPOCH 12: training on 2870220 raw words (2001692 effective words) took 2.9s, 689517 effective words/s\n",
      "INFO:word2vec.py:1608: EPOCH 13 - PROGRESS: at 37.50% examples, 606332 words/s, in_qsize 29, out_qsize 2\n",
      "INFO:word2vec.py:1608: EPOCH 13 - PROGRESS: at 62.55% examples, 624106 words/s, in_qsize 31, out_qsize 0\n",
      "INFO:word2vec.py:1652: EPOCH 13: training on 2870220 raw words (2001977 effective words) took 3.0s, 669249 effective words/s\n",
      "INFO:word2vec.py:1608: EPOCH 14 - PROGRESS: at 38.36% examples, 646155 words/s, in_qsize 31, out_qsize 0\n"
     ]
    },
    {
     "name": "stdout",
     "output_type": "stream",
     "text": [
      "INFO:word2vec.py:1608: EPOCH 14 - PROGRESS: at 66.02% examples, 650767 words/s, in_qsize 31, out_qsize 1\n",
      "INFO:word2vec.py:1652: EPOCH 14: training on 2870220 raw words (2001423 effective words) took 2.8s, 725306 effective words/s\n",
      "INFO:word2vec.py:1608: EPOCH 15 - PROGRESS: at 40.03% examples, 728544 words/s, in_qsize 27, out_qsize 4\n",
      "INFO:word2vec.py:1608: EPOCH 15 - PROGRESS: at 71.40% examples, 704848 words/s, in_qsize 31, out_qsize 0\n",
      "INFO:word2vec.py:1652: EPOCH 15: training on 2870220 raw words (2002041 effective words) took 2.8s, 727063 effective words/s\n",
      "INFO:word2vec.py:1608: EPOCH 16 - PROGRESS: at 40.31% examples, 731912 words/s, in_qsize 32, out_qsize 0\n",
      "INFO:word2vec.py:1608: EPOCH 16 - PROGRESS: at 75.60% examples, 734010 words/s, in_qsize 32, out_qsize 0\n",
      "INFO:word2vec.py:1652: EPOCH 16: training on 2870220 raw words (2001860 effective words) took 2.7s, 746273 effective words/s\n",
      "INFO:word2vec.py:1608: EPOCH 17 - PROGRESS: at 38.62% examples, 630912 words/s, in_qsize 31, out_qsize 0\n",
      "INFO:word2vec.py:1608: EPOCH 17 - PROGRESS: at 71.40% examples, 680964 words/s, in_qsize 31, out_qsize 0\n",
      "INFO:word2vec.py:1652: EPOCH 17: training on 2870220 raw words (2001805 effective words) took 2.8s, 702821 effective words/s\n",
      "INFO:word2vec.py:1608: EPOCH 18 - PROGRESS: at 38.22% examples, 640842 words/s, in_qsize 31, out_qsize 0\n",
      "INFO:word2vec.py:1608: EPOCH 18 - PROGRESS: at 68.33% examples, 662321 words/s, in_qsize 27, out_qsize 4\n",
      "INFO:word2vec.py:1652: EPOCH 18: training on 2870220 raw words (2002400 effective words) took 2.9s, 698580 effective words/s\n",
      "INFO:word2vec.py:1608: EPOCH 19 - PROGRESS: at 38.22% examples, 626062 words/s, in_qsize 31, out_qsize 0\n",
      "INFO:word2vec.py:1608: EPOCH 19 - PROGRESS: at 70.69% examples, 682358 words/s, in_qsize 31, out_qsize 0\n",
      "INFO:word2vec.py:1652: EPOCH 19: training on 2870220 raw words (2002439 effective words) took 2.8s, 714825 effective words/s\n",
      "INFO:utils.py:448: Word2Vec lifecycle event {'msg': 'training on 57404400 raw words (40036609 effective words) took 59.4s, 674269 effective words/s', 'datetime': '2023-11-02T21:43:55.882355', 'gensim': '4.3.2', 'python': '3.10.11 | packaged by Anaconda, Inc. | (main, Apr 20 2023, 18:56:50) [MSC v.1916 64 bit (AMD64)]', 'platform': 'Windows-10-10.0.19045-SP0', 'event': 'train'}\n",
      "INFO:utils.py:448: Word2Vec lifecycle event {'params': 'Word2Vec<vocab=63385, vector_size=100, alpha=0.025>', 'datetime': '2023-11-02T21:43:55.882355', 'gensim': '4.3.2', 'python': '3.10.11 | packaged by Anaconda, Inc. | (main, Apr 20 2023, 18:56:50) [MSC v.1916 64 bit (AMD64)]', 'platform': 'Windows-10-10.0.19045-SP0', 'event': 'created'}\n"
     ]
    }
   ],
   "source": [
    "model = Word2Vec(lemmatized_sentences_tokenized, vector_size=100, window=2, min_count = 1,\n",
    "                 seed = 1000, hs = 0, negative = 10, workers=16, epochs=20)"
   ]
  },
  {
   "cell_type": "code",
   "execution_count": 26,
   "id": "eb638d5f",
   "metadata": {},
   "outputs": [
    {
     "name": "stdout",
     "output_type": "stream",
     "text": [
      "INFO:utils.py:448: Word2Vec lifecycle event {'fname_or_handle': 'word2vec.model', 'separately': 'None', 'sep_limit': 10485760, 'ignore': frozenset(), 'datetime': '2023-11-02T21:58:45.713565', 'gensim': '4.3.2', 'python': '3.10.11 | packaged by Anaconda, Inc. | (main, Apr 20 2023, 18:56:50) [MSC v.1916 64 bit (AMD64)]', 'platform': 'Windows-10-10.0.19045-SP0', 'event': 'saving'}\n",
      "INFO:utils.py:710: not storing attribute cum_table\n",
      "INFO:utils.py:618: saved word2vec.model\n"
     ]
    }
   ],
   "source": [
    "model.save(\"word2vec.model\")"
   ]
  },
  {
   "cell_type": "code",
   "execution_count": 27,
   "id": "61cc2c7f",
   "metadata": {},
   "outputs": [
    {
     "name": "stdout",
     "output_type": "stream",
     "text": [
      "INFO:utils.py:482: loading Word2Vec object from word2vec.model\n",
      "INFO:utils.py:516: loading wv recursively from word2vec.model.wv.* with mmap=None\n",
      "INFO:utils.py:554: setting ignored attribute cum_table to None\n",
      "INFO:utils.py:448: Word2Vec lifecycle event {'fname': 'word2vec.model', 'datetime': '2023-11-02T21:58:48.743619', 'gensim': '4.3.2', 'python': '3.10.11 | packaged by Anaconda, Inc. | (main, Apr 20 2023, 18:56:50) [MSC v.1916 64 bit (AMD64)]', 'platform': 'Windows-10-10.0.19045-SP0', 'event': 'loaded'}\n"
     ]
    }
   ],
   "source": [
    "model = Word2Vec.load(\"word2vec.model\")"
   ]
  },
  {
   "cell_type": "markdown",
   "id": "611a59e9",
   "metadata": {},
   "source": [
    "Teemad ja märksõnad:\n",
    "1. Vaidlused ja erimeelsused: vastanduma, võitlema, häbistama, vaidlema\n",
    "2. Valimised: kandideerima, valima, võitma, lubama, hääletama\n",
    "3. Valetamine: valetama, varjama, mustama, kuritarvitama\n",
    "4. Valitsemine: otsustama, kaasama, mõjutama, esindama, juhtima"
   ]
  },
  {
   "cell_type": "code",
   "execution_count": 28,
   "id": "7b903bfa",
   "metadata": {},
   "outputs": [
    {
     "data": {
      "text/plain": [
       "[('kokkupanija', 0.6224339008331299),\n",
       " ('rakkopp', 0.6214811205863953),\n",
       " ('toetajaskond', 0.6186890006065369),\n",
       " ('pealeriba', 0.6180562973022461),\n",
       " ('reformi', 0.6151947379112244),\n",
       " ('sisehall', 0.6084675192832947),\n",
       " ('auasi', 0.6069961190223694),\n",
       " ('kumuleeruma', 0.5954799056053162),\n",
       " ('esimehekandidaat', 0.5945754647254944),\n",
       " ('juhtfiguur', 0.5903006792068481)]"
      ]
     },
     "execution_count": 28,
     "metadata": {},
     "output_type": "execute_result"
    }
   ],
   "source": [
    "model.wv.most_similar('vastanduma')\n",
    "#tulemuses ei paista midagi sarnase tähendusega olevat"
   ]
  },
  {
   "cell_type": "code",
   "execution_count": 29,
   "id": "e6a1c7b2",
   "metadata": {},
   "outputs": [
    {
     "data": {
      "text/plain": [
       "[('protestima', 0.523410439491272),\n",
       " ('sõdima', 0.5013259649276733),\n",
       " ('seisma', 0.4866519570350647),\n",
       " ('töötama', 0.47069108486175537),\n",
       " ('vaidlema', 0.46901026368141174),\n",
       " ('vastutama', 0.46203529834747314),\n",
       " ('jubedasti', 0.44240596890449524),\n",
       " ('hoolitsema', 0.4423796236515045),\n",
       " ('paaritumine', 0.43765899538993835),\n",
       " ('lojaalne', 0.43651506304740906)]"
      ]
     },
     "execution_count": 29,
     "metadata": {},
     "output_type": "execute_result"
    }
   ],
   "source": [
    "model.wv.most_similar('võitlema')\n",
    "#saranase tähendusega 'protestima', 'sõdima'"
   ]
  },
  {
   "cell_type": "code",
   "execution_count": 30,
   "id": "4da2d148",
   "metadata": {},
   "outputs": [
    {
     "data": {
      "text/plain": [
       "[('isamaliit', 0.7511600255966187),\n",
       " ('kubermanguvalitsus', 0.7444968819618225),\n",
       " ('parteiladvik', 0.7417912483215332),\n",
       " ('mi5', 0.7394930720329285),\n",
       " ('vanaonutütar', 0.7384188771247864),\n",
       " ('harrastaja', 0.7380626797676086),\n",
       " ('uurimistoiming', 0.736935019493103),\n",
       " ('palkaja', 0.7369329333305359),\n",
       " ('sepatöö', 0.7353139519691467),\n",
       " ('jääkeldriaeg', 0.7334276437759399)]"
      ]
     },
     "execution_count": 30,
     "metadata": {},
     "output_type": "execute_result"
    }
   ],
   "source": [
    "model.wv.most_similar('häbistama')\n",
    "#tulemuses ei paista midagi sarnase tähendusega olevat"
   ]
  },
  {
   "cell_type": "code",
   "execution_count": 31,
   "id": "deaf5f00",
   "metadata": {},
   "outputs": [
    {
     "data": {
      "text/plain": [
       "[('protestima', 0.5775725245475769),\n",
       " ('arutlema', 0.5740605592727661),\n",
       " ('arutama', 0.5544575452804565),\n",
       " ('debateerima', 0.5212641954421997),\n",
       " ('diskuteerima', 0.49965736269950867),\n",
       " ('nurisema', 0.48652660846710205),\n",
       " ('hääletama', 0.47399431467056274),\n",
       " ('netisait', 0.4731456935405731),\n",
       " ('võitlema', 0.46901026368141174),\n",
       " ('poolmaraton', 0.4589269757270813)]"
      ]
     },
     "execution_count": 31,
     "metadata": {},
     "output_type": "execute_result"
    }
   ],
   "source": [
    "model.wv.most_similar('vaidlema')\n",
    "#sarnase tähendusega debateerima, diskuteerima, nurisema"
   ]
  },
  {
   "cell_type": "code",
   "execution_count": 32,
   "id": "bd05d0b8",
   "metadata": {},
   "outputs": [
    {
     "data": {
      "text/plain": [
       "[('valima', 0.6270256042480469),\n",
       " ('asendusliige', 0.589776337146759),\n",
       " ('üksikkandidaat', 0.5729894042015076),\n",
       " ('aseesimees', 0.559035062789917),\n",
       " ('valitud', 0.5348803400993347),\n",
       " ('linnapea', 0.5284157991409302),\n",
       " ('hääletama', 0.5265281200408936),\n",
       " ('valimiskogu', 0.524062991142273),\n",
       " ('kandidaat', 0.5151594877243042),\n",
       " ('osalema', 0.5128973126411438)]"
      ]
     },
     "execution_count": 32,
     "metadata": {},
     "output_type": "execute_result"
    }
   ],
   "source": [
    "model.wv.most_similar('kandideerima')\n",
    "#sarnase tähendusega 'osalema'"
   ]
  },
  {
   "cell_type": "code",
   "execution_count": 33,
   "id": "1763daf5",
   "metadata": {},
   "outputs": [
    {
     "data": {
      "text/plain": [
       "[('kandideerima', 0.6270256042480469),\n",
       " ('valitud', 0.6044657826423645),\n",
       " ('otsustama', 0.5826196074485779),\n",
       " ('hääletama', 0.5817234516143799),\n",
       " ('valimiskogu', 0.5384629368782043),\n",
       " ('eelistama', 0.5249647498130798),\n",
       " ('kuratoorium', 0.48315897583961487),\n",
       " ('määrama', 0.47138163447380066),\n",
       " ('mõtlema', 0.4658842384815216),\n",
       " ('valimine', 0.45968955755233765)]"
      ]
     },
     "execution_count": 33,
     "metadata": {},
     "output_type": "execute_result"
    }
   ],
   "source": [
    "model.wv.most_similar('valima')\n",
    "#sarnase tähendusega sõnu on leitud, kuid need on juba märksõnade seas"
   ]
  },
  {
   "cell_type": "code",
   "execution_count": 34,
   "id": "54db16b6",
   "metadata": {},
   "outputs": [
    {
     "data": {
      "text/plain": [
       "[('osalema', 0.5104299783706665),\n",
       " ('kaotama', 0.49529433250427246),\n",
       " ('hinnatuim', 0.46480485796928406),\n",
       " ('sõltuma', 0.4645591080188751),\n",
       " ('kandideerima', 0.4616854786872864),\n",
       " ('verikogu', 0.45450359582901),\n",
       " ('valituskogu', 0.439203679561615),\n",
       " ('eel', 0.4341794550418854),\n",
       " ('pakkuma', 0.4307640492916107),\n",
       " ('valima', 0.42971187829971313)]"
      ]
     },
     "execution_count": 34,
     "metadata": {},
     "output_type": "execute_result"
    }
   ],
   "source": [
    "model.wv.most_similar('võitma')\n",
    "#sarnase tähendusega sõnu on leitud, kuid need on juba märksõnade hulgas"
   ]
  },
  {
   "cell_type": "code",
   "execution_count": 35,
   "id": "ae916450",
   "metadata": {},
   "outputs": [
    {
     "data": {
      "text/plain": [
       "[('kavatsema', 0.5568326115608215),\n",
       " ('tahtma', 0.5117815732955933),\n",
       " ('registreerima', 0.4993237853050232),\n",
       " ('kinnitama', 0.4914655089378357),\n",
       " ('saama', 0.4732564091682434),\n",
       " ('otsustama', 0.46696409583091736),\n",
       " ('soovima', 0.4660798907279968),\n",
       " ('küsitud', 0.46385112404823303),\n",
       " ('ostma', 0.4625377357006073),\n",
       " ('võimus', 0.4596814513206482)]"
      ]
     },
     "execution_count": 35,
     "metadata": {},
     "output_type": "execute_result"
    }
   ],
   "source": [
    "model.wv.most_similar('lubama')\n",
    "#sarnase tähendusega 'kavatsema'"
   ]
  },
  {
   "cell_type": "code",
   "execution_count": 36,
   "id": "0b7f2458",
   "metadata": {},
   "outputs": [
    {
     "data": {
      "text/plain": [
       "[('valima', 0.5817233920097351),\n",
       " ('valitud', 0.5272095799446106),\n",
       " ('kandideerima', 0.5265281200408936),\n",
       " ('valimiskogu', 0.5229399800300598),\n",
       " ('protestima', 0.5199283361434937),\n",
       " ('mandaat', 0.4970180094242096),\n",
       " ('riigikogu', 0.49058881402015686),\n",
       " ('otsustama', 0.4866863191127777),\n",
       " ('vaidlema', 0.47399425506591797),\n",
       " ('toetama', 0.45921438932418823)]"
      ]
     },
     "execution_count": 36,
     "metadata": {},
     "output_type": "execute_result"
    }
   ],
   "source": [
    "model.wv.most_similar('hääletama')\n",
    "#sarnase tähendusega 'toetama'"
   ]
  },
  {
   "cell_type": "code",
   "execution_count": 37,
   "id": "264142c8",
   "metadata": {},
   "outputs": [
    {
     "data": {
      "text/plain": [
       "[('ründama', 0.5853550434112549),\n",
       " ('süüdistama', 0.5348684191703796),\n",
       " ('usaldama', 0.5113126039505005),\n",
       " ('mõistma', 0.5027973055839539),\n",
       " ('manipuleerima', 0.4990549683570862),\n",
       " ('rahuldama', 0.4936761260032654),\n",
       " ('lekitama', 0.4896601736545563),\n",
       " ('taipama', 0.48760750889778137),\n",
       " ('tajuma', 0.47582074999809265),\n",
       " ('oskama', 0.4639304578304291)]"
      ]
     },
     "execution_count": 37,
     "metadata": {},
     "output_type": "execute_result"
    }
   ],
   "source": [
    "model.wv.most_similar('valetama')\n",
    "#sarnase tähendusega 'manipuleerima', kuid 'ründama' ja 'süüdistama' sobiks vaidluste ja erimeelsuste hulka"
   ]
  },
  {
   "cell_type": "code",
   "execution_count": 38,
   "id": "3e7ac225",
   "metadata": {},
   "outputs": [
    {
     "data": {
      "text/plain": [
       "[('pistmine', 0.5733086466789246),\n",
       " ('taipama', 0.5644692182540894),\n",
       " ('kobisema', 0.5371357798576355),\n",
       " ('takistama', 0.5133538246154785),\n",
       " ('põhjendama', 0.5128811597824097),\n",
       " ('reklaamima', 0.5063628554344177),\n",
       " ('krussis', 0.5027134418487549),\n",
       " ('süüdistama', 0.4951495826244354),\n",
       " ('taluma', 0.4872486889362335),\n",
       " ('parata', 0.4788810610771179)]"
      ]
     },
     "execution_count": 38,
     "metadata": {},
     "output_type": "execute_result"
    }
   ],
   "source": [
    "model.wv.most_similar('varjama')\n",
    "#sobivaid sõnu ei leitud"
   ]
  },
  {
   "cell_type": "code",
   "execution_count": 39,
   "id": "bf655782",
   "metadata": {},
   "outputs": [
    {
     "data": {
      "text/plain": [
       "[('honda', 0.7582514882087708),\n",
       " ('teedeehituskontsern', 0.7538400888442993),\n",
       " ('rüü', 0.7451639175415039),\n",
       " ('soomustama', 0.7389765381813049),\n",
       " ('daugava', 0.7351694107055664),\n",
       " ('avatar', 0.7349169850349426),\n",
       " ('võsane', 0.7321881055831909),\n",
       " ('totterdava', 0.7292080521583557),\n",
       " ('very', 0.7258449196815491),\n",
       " ('käesjaam', 0.7257856130599976)]"
      ]
     },
     "execution_count": 39,
     "metadata": {},
     "output_type": "execute_result"
    }
   ],
   "source": [
    "model.wv.most_similar('mustama')\n",
    "#sobivaid sõnu ei leitud"
   ]
  },
  {
   "cell_type": "code",
   "execution_count": 40,
   "id": "1de14225",
   "metadata": {},
   "outputs": [
    {
     "data": {
      "text/plain": [
       "[('saatetiir', 0.696429967880249),\n",
       " ('vasakpopulist', 0.671026349067688),\n",
       " ('setukas', 0.6692653298377991),\n",
       " ('warmale', 0.6643701195716858),\n",
       " ('munitsipaalväljaanne', 0.6549315452575684),\n",
       " ('usurpeerinu', 0.6501203179359436),\n",
       " ('elektrilas', 0.6495986580848694),\n",
       " ('ühistegemine', 0.646170973777771),\n",
       " ('regress', 0.6461708545684814),\n",
       " ('kodusool', 0.6416218280792236)]"
      ]
     },
     "execution_count": 40,
     "metadata": {},
     "output_type": "execute_result"
    }
   ],
   "source": [
    "model.wv.most_similar('kuritarvitama')\n",
    "#sobivaid sõnu ei leitud"
   ]
  },
  {
   "cell_type": "code",
   "execution_count": 41,
   "id": "d839eb50",
   "metadata": {},
   "outputs": [
    {
     "data": {
      "text/plain": [
       "[('valima', 0.5826196670532227),\n",
       " ('määrama', 0.5304931998252869),\n",
       " ('menetlema', 0.5071468353271484),\n",
       " ('kinnitama', 0.5063421726226807),\n",
       " ('vastutama', 0.49241870641708374),\n",
       " ('hääletama', 0.4866863489151001),\n",
       " ('otsus', 0.4860902428627014),\n",
       " ('küsima', 0.4769878089427948),\n",
       " ('registreerima', 0.47688907384872437),\n",
       " ('veenma', 0.47455453872680664)]"
      ]
     },
     "execution_count": 41,
     "metadata": {},
     "output_type": "execute_result"
    }
   ],
   "source": [
    "model.wv.most_similar('otsustama')\n",
    "#sarnase tähendusega sõnad 'määrama', 'kinnitama', 'menetlema' ning võibolla ka 'vastutama'"
   ]
  },
  {
   "cell_type": "code",
   "execution_count": 42,
   "id": "b21ee441",
   "metadata": {},
   "outputs": [
    {
     "data": {
      "text/plain": [
       "[('finantseerima', 0.5306695103645325),\n",
       " ('investeerima', 0.5123718976974487),\n",
       " ('suunama', 0.5005371570587158),\n",
       " ('paigutama', 0.4950893223285675),\n",
       " ('hankima', 0.46612435579299927),\n",
       " ('usaldama', 0.45946404337882996),\n",
       " ('manipuleerima', 0.45832550525665283),\n",
       " ('rahastama', 0.44900715351104736),\n",
       " ('põhjendama', 0.4466596245765686),\n",
       " ('aktsepteerima', 0.44045642018318176)]"
      ]
     },
     "execution_count": 42,
     "metadata": {},
     "output_type": "execute_result"
    }
   ],
   "source": [
    "model.wv.most_similar('kaasama')\n",
    "#saranse tähendusega sõnad 'suunama', 'paigutama', aga võibolla ka 'finantseerima', 'investeerima' ja 'rahastama'"
   ]
  },
  {
   "cell_type": "code",
   "execution_count": 43,
   "id": "e2df0c90",
   "metadata": {},
   "outputs": [
    {
     "data": {
      "text/plain": [
       "[('sõltuma', 0.6637705564498901),\n",
       " ('mõjuma', 0.6015416979789734),\n",
       " ('kajastuma', 0.5434731841087341),\n",
       " ('kajastama', 0.506058394908905),\n",
       " ('kahjustama', 0.5025191307067871),\n",
       " ('piirama', 0.5001704096794128),\n",
       " ('edendama', 0.48526307940483093),\n",
       " ('puudutama', 0.4767216444015503),\n",
       " ('arenema', 0.47497254610061646),\n",
       " ('jälgima', 0.47483912110328674)]"
      ]
     },
     "execution_count": 43,
     "metadata": {},
     "output_type": "execute_result"
    }
   ],
   "source": [
    "model.wv.most_similar('mõjutama')\n",
    "#saranase tähendusega sõnad 'mõjuma', 'piirama'"
   ]
  },
  {
   "cell_type": "code",
   "execution_count": 44,
   "id": "9c1ac8b0",
   "metadata": {},
   "outputs": [
    {
     "data": {
      "text/plain": [
       "[('esindaja', 0.5250771045684814),\n",
       " ('kuuluv', 0.5179451107978821),\n",
       " ('huvituma', 0.4994533658027649),\n",
       " ('delegatsioon', 0.4755462408065796),\n",
       " ('lojaalne', 0.4745830297470093),\n",
       " ('vestlema', 0.47226694226264954),\n",
       " ('suhtlema', 0.4703591763973236),\n",
       " ('liige', 0.46780064702033997),\n",
       " ('eelistama', 0.46206408739089966),\n",
       " ('kuuluma', 0.4582160711288452)]"
      ]
     },
     "execution_count": 44,
     "metadata": {},
     "output_type": "execute_result"
    }
   ],
   "source": [
    "model.wv.most_similar('esindama')\n",
    "#sobivaid sõnu ei leitud"
   ]
  },
  {
   "cell_type": "code",
   "execution_count": 45,
   "id": "b4f20728",
   "metadata": {},
   "outputs": [
    {
     "data": {
      "text/plain": [
       "[('juhitud', 0.6343020796775818),\n",
       " ('juhtinud', 0.5932800769805908),\n",
       " ('juhtimine', 0.5384437441825867),\n",
       " ('pälvima', 0.5209156274795532),\n",
       " ('maajuhiks', 0.5043453574180603),\n",
       " ('paeluma', 0.5033291578292847),\n",
       " ('pöör', 0.4989897906780243),\n",
       " ('pöörata', 0.4976150393486023),\n",
       " ('pöörama', 0.4900239408016205),\n",
       " ('koonduma', 0.489751935005188)]"
      ]
     },
     "execution_count": 45,
     "metadata": {},
     "output_type": "execute_result"
    }
   ],
   "source": [
    "model.wv.most_similar('juhtima')\n",
    "#sobivaid sõnu ei leitud"
   ]
  },
  {
   "cell_type": "markdown",
   "id": "e3b4e0a9",
   "metadata": {},
   "source": [
    "Sõnad, mis sobivatena tunduvad, lisatakse manuaalselt teemade ja märksõnade nimekirja."
   ]
  }
 ],
 "metadata": {
  "kernelspec": {
   "display_name": "Python 3 (ipykernel)",
   "language": "python",
   "name": "python3"
  },
  "language_info": {
   "codemirror_mode": {
    "name": "ipython",
    "version": 3
   },
   "file_extension": ".py",
   "mimetype": "text/x-python",
   "name": "python",
   "nbconvert_exporter": "python",
   "pygments_lexer": "ipython3",
   "version": "3.10.11"
  }
 },
 "nbformat": 4,
 "nbformat_minor": 5
}
