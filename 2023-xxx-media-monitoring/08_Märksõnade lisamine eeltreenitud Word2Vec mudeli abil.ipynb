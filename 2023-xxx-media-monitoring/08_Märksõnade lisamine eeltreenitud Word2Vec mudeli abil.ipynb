{
 "cells": [
  {
   "cell_type": "markdown",
   "id": "538369c8",
   "metadata": {},
   "source": [
    "## Märksõnade lisamine eeltreenitud Word2Vec mudeli abil"
   ]
  },
  {
   "cell_type": "markdown",
   "id": "eb195137",
   "metadata": {},
   "source": [
    "Isetreenitud Word2Vec mudeli abil sai eelnevalt teemasid ilmestavate märksõnade hulka täiendatud, kuid siiski suhteliselt vähe: suur hulk sõnadest, mida mudel sarnasteks pidas, olid täiesti sobimatud. See on ootuspärane, sest treeningandmete hulk ei olnud eriti suur. Paremaid tulemusi võiks saada tunduvalt suuremal andmehulgal juba eeltreenitud mudeliga, mida järgnevalt implementeeritaksegi, et suurendada veelgi märksõnade hulka.\n",
    "Võrreldes oma andmetel treenitud mudeliga on eeltreenitud mudeli puuduseks see, et selle treenimiseks kasutatud sõnavara ei pruugi siinsetes andmetes leiduvaga kattuda ning selle pakutavad märksõnad ei pruugi üldse siinses andmestikus esineda. Selle probleemi lahendamiseks filtreeritakse tulemusi: alles jäetakse vaid verbid, mis esinevad ka siinses andmestikus."
   ]
  },
  {
   "cell_type": "code",
   "execution_count": 89,
   "id": "15c847d8",
   "metadata": {},
   "outputs": [],
   "source": [
    "import gensim\n",
    "from estnltk import Text\n",
    "import sqlite3\n",
    "import csv\n",
    "from estnltk.converters import json_to_text"
   ]
  },
  {
   "cell_type": "markdown",
   "id": "8083b488",
   "metadata": {},
   "source": [
    "### I Word2Vec mudel"
   ]
  },
  {
   "cell_type": "markdown",
   "id": "b898d8aa",
   "metadata": {},
   "source": [
    "Eeltreenitud Word2Vec mudeleid on mitmeid (täpsem info https://github.com/estnltk/word2vec-models/, mudelid on treenitud optimaalsete parameetritega). Siin võetakse kasutusele neist üks."
   ]
  },
  {
   "cell_type": "code",
   "execution_count": 8,
   "id": "412d0f1f",
   "metadata": {},
   "outputs": [
    {
     "name": "stdout",
     "output_type": "stream",
     "text": [
      "INFO:keyedvectors.py:2047: loading projection weights from lemmas.sg.s200.w2v.bin\n",
      "INFO:utils.py:448: KeyedVectors lifecycle event {'msg': 'loaded (441391, 200) matrix of type float32 from lemmas.sg.s200.w2v.bin', 'binary': True, 'encoding': 'utf8', 'datetime': '2023-12-01T10:13:40.716356', 'gensim': '4.3.2', 'python': '3.10.11 | packaged by Anaconda, Inc. | (main, Apr 20 2023, 18:56:50) [MSC v.1916 64 bit (AMD64)]', 'platform': 'Windows-10-10.0.19045-SP0', 'event': 'load_word2vec_format'}\n"
     ]
    }
   ],
   "source": [
    "model = gensim.models.KeyedVectors.load_word2vec_format('lemmas.sg.s200.w2v.bin', binary=True)"
   ]
  },
  {
   "cell_type": "markdown",
   "id": "f2dd8780",
   "metadata": {},
   "source": [
    "Üks sõna ja selle kümme kõige sarnasemat sõna:"
   ]
  },
  {
   "cell_type": "code",
   "execution_count": 6,
   "id": "f0ca1570",
   "metadata": {},
   "outputs": [
    {
     "data": {
      "text/plain": [
       "[('häbistama|häbistanud', 0.6818853616714478),\n",
       " ('mõnitama', 0.6587278246879578),\n",
       " ('vaenama', 0.6524444818496704),\n",
       " ('mustama|mustanud', 0.6495568156242371),\n",
       " ('blameerima', 0.6478762626647949),\n",
       " ('käseva|käsevad', 0.6470065712928772),\n",
       " ('naeruvääristama', 0.6439527869224548),\n",
       " ('teotama', 0.6419845819473267),\n",
       " ('šantažeerima', 0.636863648891449),\n",
       " ('laimama|laimatud', 0.6340272426605225)]"
      ]
     },
     "execution_count": 6,
     "metadata": {},
     "output_type": "execute_result"
    }
   ],
   "source": [
    "model.most_similar('häbistama')"
   ]
  },
  {
   "cell_type": "markdown",
   "id": "9db27448",
   "metadata": {},
   "source": [
    "On näha, et suur osa vastetest on tõesti sarnase tähendusega sõnale \"häbistama\". Järgnevalt loetakse CSV-failist siiani kogutud märksõnad ning leitakse mudeli abil neile kõigile kümme sarnaseimat sõna (filtreerides välja korduvused). Seejärel filtreeritakse tulemusi uuesti, jättes alles vaid sõnad, mis on verbid ja esinevad siinses andmestikus. Viimaks vaadatakse järelejäänud sõnad üle manuaalselt ning lisatakse sobivate teemade alla märksõnastikus."
   ]
  },
  {
   "cell_type": "markdown",
   "id": "4d4158ad",
   "metadata": {},
   "source": [
    "### II Olemasolevatele märksõnadele sarnaste sõnade leidmine"
   ]
  },
  {
   "cell_type": "code",
   "execution_count": 65,
   "id": "5b8ba7a8",
   "metadata": {},
   "outputs": [],
   "source": [
    "# tühjad järjendid iga teema jaoks\n",
    "vaidl_erim = []\n",
    "valimised = []\n",
    "valetamine = []\n",
    "valitsemine = []"
   ]
  },
  {
   "cell_type": "code",
   "execution_count": 66,
   "id": "43f6ff7e",
   "metadata": {},
   "outputs": [],
   "source": [
    "# olemasolevad märksõnad lotekse järjenditesse\n",
    "with open('thematic_keywords.csv', encoding='UTF-8') as csv_file:\n",
    "    reader = csv.DictReader(csv_file)\n",
    "    for row in reader:\n",
    "        if row['class'] == 'vaidlused ja erimeelsused':\n",
    "            vaidl_erim.append(row['lemma'].strip(\"',\"))\n",
    "        elif row['class'] == 'valimised':\n",
    "            valimised.append(row['lemma'].strip(\"',\"))\n",
    "        elif row['class'] == 'valetamine':\n",
    "            valetamine.append(row['lemma'].strip(\"',\"))\n",
    "        elif row['class'] == 'valitsemine':\n",
    "            valitsemine.append(row['lemma'].strip(\"',\"))"
   ]
  },
  {
   "cell_type": "code",
   "execution_count": 128,
   "id": "f17a95bf",
   "metadata": {},
   "outputs": [
    {
     "name": "stdout",
     "output_type": "stream",
     "text": [
      "['valetama', 'varjama', 'mustama', 'kuritarvitama', 'manipuleerima']\n"
     ]
    }
   ],
   "source": [
    "print(valetamine)"
   ]
  },
  {
   "cell_type": "code",
   "execution_count": 129,
   "id": "5af5716d",
   "metadata": {},
   "outputs": [],
   "source": [
    "# tühjad järjendid Word2Vec mudeli abil leitavate sõnade jaoks\n",
    "vaidl_erim_w2v = []\n",
    "valimised_w2v = []\n",
    "valetamine_w2v = []\n",
    "valitsemine_w2v = []"
   ]
  },
  {
   "cell_type": "code",
   "execution_count": 130,
   "id": "6bc048c0",
   "metadata": {},
   "outputs": [],
   "source": [
    "for word in vaidl_erim:\n",
    "    vaidl_erim_w2v.append([w[0] for w in model.most_similar(word)])\n",
    "    \n",
    "for word in valimised:\n",
    "    valimised_w2v.append([w[0] for w in model.most_similar(word)])\n",
    "    \n",
    "for word in valetamine:\n",
    "    valetamine_w2v.append([w[0] for w in model.most_similar(word)])\n",
    "    \n",
    "for word in valitsemine:\n",
    "    valitsemine_w2v.append([w[0] for w in model.most_similar(word)])"
   ]
  },
  {
   "cell_type": "code",
   "execution_count": 131,
   "id": "9ad169f7",
   "metadata": {},
   "outputs": [
    {
     "name": "stdout",
     "output_type": "stream",
     "text": [
      "[['vassima', 'valetama|valetanud', 'silmakirjatsema', 'luiskama', 'vassima|vassinud', 'valetama|valetatud', 'kingoks', 'luisanud|luiskama', 'laimama|laimatud', 'valetamine'], ['varjama|varjanud', 'varjav', 'peitma', 'paljastama', 'varjamine', 'paljastama|paljastanud', 'reetma', 'peitev', 'varjatav', 'varjamata'], ['tümitama|tümitanud', 'kuldpagun', 'ratsutav', 'leinarõivas', 'silmalapp', 'krillima', 'valelik', 'poseerinu', 'hõikav', 'uusüritaja'], ['kuritarvitama|kuritarvitanud', 'kuritarvitamine', 'ametiseisund', '1993.-1998.', 'kuritarvitanu', 'kuritarvitav', 'teenistushuvi', 'petma', 'kurjasti', 'ameti-seisund'], ['manipuleerimine', 'omakasupüüdlikult', 'manipuleeritavus', 'manipuleerija', 'desorienteerima', 'shantazheerima', 'manipuleeritav', 'manipuleeriv', 'manipulatsioon', 'mittemõtlev']]\n"
     ]
    }
   ],
   "source": [
    "print(valetamine_w2v)"
   ]
  },
  {
   "cell_type": "code",
   "execution_count": 132,
   "id": "14a2123f",
   "metadata": {},
   "outputs": [],
   "source": [
    "# kahedimensioonilistest listidest saavad ühedimensioonilised\n",
    "vaidl_erim_w2v = [w for wrds in vaidl_erim_w2v for w in wrds]\n",
    "valimised_w2v = [w for wrds in valimised_w2v for w in wrds]\n",
    "valetamine_w2v = [w for wrds in valetamine_w2v for w in wrds]\n",
    "valitsemine_w2v = [w for wrds in valitsemine_w2v for w in wrds]"
   ]
  },
  {
   "cell_type": "code",
   "execution_count": 133,
   "id": "168f7595",
   "metadata": {},
   "outputs": [
    {
     "name": "stdout",
     "output_type": "stream",
     "text": [
      "['vassima', 'valetama|valetanud', 'silmakirjatsema', 'luiskama', 'vassima|vassinud', 'valetama|valetatud', 'kingoks', 'luisanud|luiskama', 'laimama|laimatud', 'valetamine', 'varjama|varjanud', 'varjav', 'peitma', 'paljastama', 'varjamine', 'paljastama|paljastanud', 'reetma', 'peitev', 'varjatav', 'varjamata', 'tümitama|tümitanud', 'kuldpagun', 'ratsutav', 'leinarõivas', 'silmalapp', 'krillima', 'valelik', 'poseerinu', 'hõikav', 'uusüritaja', 'kuritarvitama|kuritarvitanud', 'kuritarvitamine', 'ametiseisund', '1993.-1998.', 'kuritarvitanu', 'kuritarvitav', 'teenistushuvi', 'petma', 'kurjasti', 'ameti-seisund', 'manipuleerimine', 'omakasupüüdlikult', 'manipuleeritavus', 'manipuleerija', 'desorienteerima', 'shantazheerima', 'manipuleeritav', 'manipuleeriv', 'manipulatsioon', 'mittemõtlev']\n"
     ]
    }
   ],
   "source": [
    "print(valetamine_w2v)"
   ]
  },
  {
   "cell_type": "code",
   "execution_count": 134,
   "id": "a5964657",
   "metadata": {},
   "outputs": [],
   "source": [
    "# püstkriipsuga eraldatud sõnad lüüakse lahku, ühtlasi eemaldatakse kordused\n",
    "vaidl_erim_w2v = set([piece for w in vaidl_erim_w2v for piece in w.split(\"|\")])\n",
    "valimised_w2v = set([piece for w in valimised_w2v for piece in w.split(\"|\")])\n",
    "valetamine_w2v = set([piece for w in valetamine_w2v for piece in w.split(\"|\")])\n",
    "valitsemine_w2v = set([piece for w in valitsemine_w2v for piece in w.split(\"|\")])"
   ]
  },
  {
   "cell_type": "code",
   "execution_count": 135,
   "id": "e86c77eb",
   "metadata": {},
   "outputs": [
    {
     "name": "stdout",
     "output_type": "stream",
     "text": [
      "{'leinarõivas', 'paljastama', 'silmalapp', 'laimatud', 'valetamine', 'desorienteerima', 'manipuleeritav', 'tümitama', 'ametiseisund', 'valetama', 'omakasupüüdlikult', 'varjamine', 'shantazheerima', 'manipulatsioon', 'peitev', 'kuritarvitama', 'luiskama', 'manipuleeritavus', 'peitma', 'valetatud', 'varjav', 'varjama', 'kuritarvitanu', 'kingoks', 'kuldpagun', 'vassima', 'manipuleerimine', 'luisanud', 'tümitanud', 'petma', 'kuritarvitamine', 'uusüritaja', 'vassinud', 'laimama', 'kuritarvitanud', 'paljastanud', 'poseerinu', 'teenistushuvi', 'hõikav', 'varjatav', 'silmakirjatsema', 'varjamata', 'kuritarvitav', 'varjanud', 'ameti-seisund', 'krillima', 'manipuleeriv', '1993.-1998.', 'valetanud', 'kurjasti', 'reetma', 'valelik', 'mittemõtlev', 'manipuleerija', 'ratsutav'}\n"
     ]
    }
   ],
   "source": [
    "print(valetamine_w2v)"
   ]
  },
  {
   "cell_type": "code",
   "execution_count": 136,
   "id": "d6afb937",
   "metadata": {},
   "outputs": [],
   "source": [
    "# viimaks eemaldatakse leitud sõnade seast sõnad, mis juba märksõnade seas olemas olid\n",
    "vaidl_erim_w2v = [w for w in vaidl_erim_w2v if w not in vaidl_erim and w not in valimised and w not in valetamine\n",
    "                  and w not in valitsemine]\n",
    "valimised_w2v = [w for w in valimised_w2v if w not in vaidl_erim and w not in valimised and w not in valetamine\n",
    "                and w not in valitsemine]\n",
    "valetamine_w2v = [w for w in valetamine_w2v if w not in vaidl_erim and w not in valimised and w not in valetamine\n",
    "                 and w not in valitsemine]\n",
    "valitsemine_w2v = [w for w in valitsemine_w2v if w not in vaidl_erim and w not in valimised and w not in valetamine\n",
    "                   and w not in valitsemine]"
   ]
  },
  {
   "cell_type": "code",
   "execution_count": 137,
   "id": "83e40c84",
   "metadata": {},
   "outputs": [
    {
     "name": "stdout",
     "output_type": "stream",
     "text": [
      "['leinarõivas', 'paljastama', 'silmalapp', 'laimatud', 'valetamine', 'desorienteerima', 'manipuleeritav', 'tümitama', 'ametiseisund', 'omakasupüüdlikult', 'varjamine', 'shantazheerima', 'manipulatsioon', 'peitev', 'luiskama', 'manipuleeritavus', 'peitma', 'valetatud', 'varjav', 'kuritarvitanu', 'kingoks', 'kuldpagun', 'vassima', 'manipuleerimine', 'luisanud', 'tümitanud', 'petma', 'kuritarvitamine', 'uusüritaja', 'vassinud', 'laimama', 'kuritarvitanud', 'paljastanud', 'poseerinu', 'teenistushuvi', 'hõikav', 'varjatav', 'silmakirjatsema', 'varjamata', 'kuritarvitav', 'varjanud', 'ameti-seisund', 'krillima', 'manipuleeriv', '1993.-1998.', 'valetanud', 'kurjasti', 'reetma', 'valelik', 'mittemõtlev', 'manipuleerija', 'ratsutav']\n"
     ]
    }
   ],
   "source": [
    "print(valetamine_w2v)"
   ]
  },
  {
   "cell_type": "code",
   "execution_count": 138,
   "id": "f79cc32d",
   "metadata": {},
   "outputs": [
    {
     "name": "stdout",
     "output_type": "stream",
     "text": [
      "109\n",
      "71\n",
      "52\n",
      "152\n"
     ]
    }
   ],
   "source": [
    "print(len(vaidl_erim_w2v))\n",
    "print(len(valimised_w2v))\n",
    "print(len(valetamine_w2v))\n",
    "print(len(valitsemine_w2v))"
   ]
  },
  {
   "cell_type": "markdown",
   "id": "fd3cc336",
   "metadata": {},
   "source": [
    "### III Andmestikus mitte-esinevate sõnade ja mitte-verbide välja filtreerimine"
   ]
  },
  {
   "cell_type": "code",
   "execution_count": 86,
   "id": "4e3a8291",
   "metadata": {},
   "outputs": [],
   "source": [
    "con = sqlite3.connect(\"media_data_complete.db\")\n",
    "cur = con.cursor()"
   ]
  },
  {
   "cell_type": "code",
   "execution_count": 87,
   "id": "f82b2df6",
   "metadata": {},
   "outputs": [],
   "source": [
    "sentences = []"
   ]
  },
  {
   "cell_type": "code",
   "execution_count": 90,
   "id": "a266d894",
   "metadata": {},
   "outputs": [],
   "source": [
    "# siin võetakse vaid laused, millele hiljem märksõnu peale märgendama hakatakse\n",
    "for row in cur.execute(\"SELECT sentence FROM sentences_syntax_analysis\"):\n",
    "    sentence = json_to_text(json_text=row[0])\n",
    "    sentences.append(sentence)"
   ]
  },
  {
   "cell_type": "code",
   "execution_count": 91,
   "id": "8abbd13b",
   "metadata": {},
   "outputs": [],
   "source": [
    "con.close()"
   ]
  },
  {
   "cell_type": "code",
   "execution_count": 97,
   "id": "80659b06",
   "metadata": {},
   "outputs": [],
   "source": [
    "# tühi hulk lausetes esinevate verbide hoiustamiseks\n",
    "verbs = set()"
   ]
  },
  {
   "cell_type": "code",
   "execution_count": 98,
   "id": "7b43cae8",
   "metadata": {},
   "outputs": [],
   "source": [
    "for sentence in sentences:\n",
    "    for word in sentence.words:\n",
    "        if 'V' in word.partofspeech:\n",
    "            verbs.add(word.lemma[0])"
   ]
  },
  {
   "cell_type": "code",
   "execution_count": 139,
   "id": "e6b9659c",
   "metadata": {},
   "outputs": [
    {
     "data": {
      "text/plain": [
       "2502"
      ]
     },
     "execution_count": 139,
     "metadata": {},
     "output_type": "execute_result"
    }
   ],
   "source": [
    "len(verbs)"
   ]
  },
  {
   "cell_type": "code",
   "execution_count": 140,
   "id": "d690d277",
   "metadata": {},
   "outputs": [],
   "source": [
    "# mudeli abil leitud sõnade hulgast eemaldatakse sõnad, mis ei esine siinsetes andmetes\n",
    "vaidl_erim_w2v = [w for w in vaidl_erim_w2v if w in verbs]\n",
    "valimised_w2v = [w for w in valimised_w2v if w in verbs]\n",
    "valetamine_w2v = [w for w in valetamine_w2v if w in verbs]\n",
    "valitsemine_w2v = [w for w in valitsemine_w2v if w in verbs]"
   ]
  },
  {
   "cell_type": "code",
   "execution_count": 141,
   "id": "eda33125",
   "metadata": {},
   "outputs": [
    {
     "name": "stdout",
     "output_type": "stream",
     "text": [
      "['imestama', 'pommitama', 'kritiseerima', 'teotama', 'vastandama', 'piketeerima', 'pommima', 'šantažeerima', 'protesteerima', 'mõnitama', 'arutlema', 'kaitsma', 'tungima', 'pahandama', 'tapma', 'hädaldama', 'virisema', 'argumenteerima', 'eitama', 'kahtlustama', 'kaagutama', 'prääksuma', 'heitlema', 'inisema', 'väitlema', 'kiruma', 'naeruvääristama', 'tulistama', 'kurtma', 'rõõmustama']\n"
     ]
    }
   ],
   "source": [
    "print(vaidl_erim_w2v)"
   ]
  },
  {
   "cell_type": "code",
   "execution_count": 142,
   "id": "6e86dee7",
   "metadata": {},
   "outputs": [
    {
     "name": "stdout",
     "output_type": "stream",
     "text": [
      "['alistama', 'lootma', 'võidutsema', 'pürgima', 'kavandama', 'valitud', 'soostuma', 'korraldama', 'tahtma', 'võidetud', 'vastustama', 'plaanima', 'keelduma', 'käskima', 'kohustama', 'nõustuma', 'edestama', 'pooldama', 'soovima']\n"
     ]
    }
   ],
   "source": [
    "print(valimised_w2v)"
   ]
  },
  {
   "cell_type": "code",
   "execution_count": 143,
   "id": "e0291e56",
   "metadata": {},
   "outputs": [
    {
     "name": "stdout",
     "output_type": "stream",
     "text": [
      "['paljastama', 'tümitama', 'luiskama', 'peitma', 'vassima', 'petma', 'reetma']\n"
     ]
    }
   ],
   "source": [
    "print(valetamine_w2v)"
   ]
  },
  {
   "cell_type": "code",
   "execution_count": 144,
   "id": "a8e51756",
   "metadata": {},
   "outputs": [
    {
     "name": "stdout",
     "output_type": "stream",
     "text": [
      "['määratud', 'reinvesteerima', 'transportima', 'vähendama', 'rahastatud', 'takistama', 'keskendama', 'nentima', 'suunanud', 'investeeritud', 'suunatud', 'väitma', 'halvendama', 'paigaldama', 'arutama', 'möönma', 'paigutatud', 'kanaliseerima', 'sõnama', 'hoolitsema', 'tõdema', 'tõkestama', 'rajama', 'sõltuma', 'märkima', 'toonitama', 'juhtinud', 'kitsendama', 'kontsentreerima', 'pärssima', 'rõhutama', 'kahjustama', 'ehitama', 'ütlema', 'juhitud', 'määratlema']\n"
     ]
    }
   ],
   "source": [
    "print(valitsemine_w2v)"
   ]
  },
  {
   "cell_type": "markdown",
   "id": "ca6226b1",
   "metadata": {},
   "source": [
    "Kuna leitud sõnade seas on sobivaid palju, lisatakse siin sõnad automaatselt märksõnastikku ning ebasobivad sõnad eemaldatakse või tõstetakse ümber manuaalselt juba CSV-failis."
   ]
  },
  {
   "cell_type": "code",
   "execution_count": 145,
   "id": "38105ec5",
   "metadata": {},
   "outputs": [],
   "source": [
    "with open('thematic_keywords.csv', 'a', newline='', encoding='UTF-8') as csv_file:\n",
    "    writer = csv.DictWriter(csv_file, fieldnames=['lemma', 'class'])\n",
    "    for word in vaidl_erim_w2v:\n",
    "        writer.writerow({'lemma': \"'\" + word + \"'\" + \",\", 'class': 'vaidlused ja erimeelsused'})\n",
    "    for word in valimised_w2v:\n",
    "        writer.writerow({'lemma': \"'\" + word + \"'\" + \",\", 'class': 'valimised'})\n",
    "    for word in valetamine_w2v:\n",
    "        writer.writerow({'lemma': \"'\" + word + \"'\" + \",\", 'class': 'valetamine'})\n",
    "    for word in valitsemine_w2v:\n",
    "        writer.writerow({'lemma': \"'\" + word + \"'\" + \",\", 'class': 'valitsemine'})"
   ]
  },
  {
   "cell_type": "code",
   "execution_count": 146,
   "id": "11438899",
   "metadata": {},
   "outputs": [],
   "source": [
    "# enne sobimatute sõnade manuaalset eemaldamist\n",
    "with open('thematic_keywords.csv', 'r', encoding='UTF-8') as csv_file:\n",
    "    rows = []\n",
    "    reader = csv.DictReader(csv_file)\n",
    "    for row in reader:\n",
    "        rows.append(row)"
   ]
  },
  {
   "cell_type": "code",
   "execution_count": 147,
   "id": "ddb30ae2",
   "metadata": {},
   "outputs": [
    {
     "name": "stdout",
     "output_type": "stream",
     "text": [
      "[{'lemma': 'callable', 'class': 'string'}, {'lemma': \"'vastanduma',\", 'class': 'vaidlused ja erimeelsused'}, {'lemma': \"'võitlema',\", 'class': 'vaidlused ja erimeelsused'}, {'lemma': \"'häbistama',\", 'class': 'vaidlused ja erimeelsused'}, {'lemma': \"'vaidlema',\", 'class': 'vaidlused ja erimeelsused'}, {'lemma': \"'nokkima',\", 'class': 'vaidlused ja erimeelsused'}, {'lemma': \"'protestima',\", 'class': 'vaidlused ja erimeelsused'}, {'lemma': \"'sõdima',\", 'class': 'vaidlused ja erimeelsused'}, {'lemma': \"'debateerima',\", 'class': 'vaidlused ja erimeelsused'}, {'lemma': \"'diskuteerima',\", 'class': 'vaidlused ja erimeelsused'}, {'lemma': \"'nurisema',\", 'class': 'vaidlused ja erimeelsused'}, {'lemma': \"'ründama',\", 'class': 'vaidlused ja erimeelsused'}, {'lemma': \"'süüdistama',\", 'class': 'vaidlused ja erimeelsused'}, {'lemma': \"'kandideerima',\", 'class': 'valimised'}, {'lemma': \"'valima',\", 'class': 'valimised'}, {'lemma': \"'võitma',\", 'class': 'valimised'}, {'lemma': \"'lubama',\", 'class': 'valimised'}, {'lemma': \"'osalema',\", 'class': 'valimised'}, {'lemma': \"'hääletama',\", 'class': 'valimised'}, {'lemma': \"'kavatsema',\", 'class': 'valimised'}, {'lemma': \"'toetama',\", 'class': 'valimised'}, {'lemma': \"'valetama',\", 'class': 'valetamine'}, {'lemma': \"'varjama',\", 'class': 'valetamine'}, {'lemma': \"'mustama',\", 'class': 'valetamine'}, {'lemma': \"'kuritarvitama',\", 'class': 'valetamine'}, {'lemma': \"'manipuleerima',\", 'class': 'valetamine'}, {'lemma': \"'juhtima',\", 'class': 'valitsemine'}, {'lemma': \"'otsustama',\", 'class': 'valitsemine'}, {'lemma': \"'kaasama',\", 'class': 'valitsemine'}, {'lemma': \"'mõjutama',\", 'class': 'valitsemine'}, {'lemma': \"'esindama',\", 'class': 'valitsemine'}, {'lemma': \"'määrama',\", 'class': 'valitsemine'}, {'lemma': \"'kinnitama',\", 'class': 'valitsemine'}, {'lemma': \"'menetlema',\", 'class': 'valitsemine'}, {'lemma': \"'vastutama',\", 'class': 'valitsemine'}, {'lemma': \"'suunama',\", 'class': 'valitsemine'}, {'lemma': \"'paigutama',\", 'class': 'valitsemine'}, {'lemma': \"'finantseerima',\", 'class': 'valitsemine'}, {'lemma': \"'investeerima',\", 'class': 'valitsemine'}, {'lemma': \"'rahastama',\", 'class': 'valitsemine'}, {'lemma': \"'mõjuma',\", 'class': 'valitsemine'}, {'lemma': \"'piirama',\", 'class': 'valitsemine'}, {'lemma': \"'imestama',\", 'class': 'vaidlused ja erimeelsused'}, {'lemma': \"'pommitama',\", 'class': 'vaidlused ja erimeelsused'}, {'lemma': \"'kritiseerima',\", 'class': 'vaidlused ja erimeelsused'}, {'lemma': \"'teotama',\", 'class': 'vaidlused ja erimeelsused'}, {'lemma': \"'vastandama',\", 'class': 'vaidlused ja erimeelsused'}, {'lemma': \"'piketeerima',\", 'class': 'vaidlused ja erimeelsused'}, {'lemma': \"'pommima',\", 'class': 'vaidlused ja erimeelsused'}, {'lemma': \"'šantažeerima',\", 'class': 'vaidlused ja erimeelsused'}, {'lemma': \"'protesteerima',\", 'class': 'vaidlused ja erimeelsused'}, {'lemma': \"'mõnitama',\", 'class': 'vaidlused ja erimeelsused'}, {'lemma': \"'arutlema',\", 'class': 'vaidlused ja erimeelsused'}, {'lemma': \"'kaitsma',\", 'class': 'vaidlused ja erimeelsused'}, {'lemma': \"'tungima',\", 'class': 'vaidlused ja erimeelsused'}, {'lemma': \"'pahandama',\", 'class': 'vaidlused ja erimeelsused'}, {'lemma': \"'tapma',\", 'class': 'vaidlused ja erimeelsused'}, {'lemma': \"'hädaldama',\", 'class': 'vaidlused ja erimeelsused'}, {'lemma': \"'virisema',\", 'class': 'vaidlused ja erimeelsused'}, {'lemma': \"'argumenteerima',\", 'class': 'vaidlused ja erimeelsused'}, {'lemma': \"'eitama',\", 'class': 'vaidlused ja erimeelsused'}, {'lemma': \"'kahtlustama',\", 'class': 'vaidlused ja erimeelsused'}, {'lemma': \"'kaagutama',\", 'class': 'vaidlused ja erimeelsused'}, {'lemma': \"'prääksuma',\", 'class': 'vaidlused ja erimeelsused'}, {'lemma': \"'heitlema',\", 'class': 'vaidlused ja erimeelsused'}, {'lemma': \"'inisema',\", 'class': 'vaidlused ja erimeelsused'}, {'lemma': \"'väitlema',\", 'class': 'vaidlused ja erimeelsused'}, {'lemma': \"'kiruma',\", 'class': 'vaidlused ja erimeelsused'}, {'lemma': \"'naeruvääristama',\", 'class': 'vaidlused ja erimeelsused'}, {'lemma': \"'tulistama',\", 'class': 'vaidlused ja erimeelsused'}, {'lemma': \"'kurtma',\", 'class': 'vaidlused ja erimeelsused'}, {'lemma': \"'rõõmustama',\", 'class': 'vaidlused ja erimeelsused'}, {'lemma': \"'alistama',\", 'class': 'valimised'}, {'lemma': \"'lootma',\", 'class': 'valimised'}, {'lemma': \"'võidutsema',\", 'class': 'valimised'}, {'lemma': \"'pürgima',\", 'class': 'valimised'}, {'lemma': \"'kavandama',\", 'class': 'valimised'}, {'lemma': \"'valitud',\", 'class': 'valimised'}, {'lemma': \"'soostuma',\", 'class': 'valimised'}, {'lemma': \"'korraldama',\", 'class': 'valimised'}, {'lemma': \"'tahtma',\", 'class': 'valimised'}, {'lemma': \"'võidetud',\", 'class': 'valimised'}, {'lemma': \"'vastustama',\", 'class': 'valimised'}, {'lemma': \"'plaanima',\", 'class': 'valimised'}, {'lemma': \"'keelduma',\", 'class': 'valimised'}, {'lemma': \"'käskima',\", 'class': 'valimised'}, {'lemma': \"'kohustama',\", 'class': 'valimised'}, {'lemma': \"'nõustuma',\", 'class': 'valimised'}, {'lemma': \"'edestama',\", 'class': 'valimised'}, {'lemma': \"'pooldama',\", 'class': 'valimised'}, {'lemma': \"'soovima',\", 'class': 'valimised'}, {'lemma': \"'paljastama',\", 'class': 'valetamine'}, {'lemma': \"'tümitama',\", 'class': 'valetamine'}, {'lemma': \"'luiskama',\", 'class': 'valetamine'}, {'lemma': \"'peitma',\", 'class': 'valetamine'}, {'lemma': \"'vassima',\", 'class': 'valetamine'}, {'lemma': \"'petma',\", 'class': 'valetamine'}, {'lemma': \"'reetma',\", 'class': 'valetamine'}, {'lemma': \"'määratud',\", 'class': 'valitsemine'}, {'lemma': \"'reinvesteerima',\", 'class': 'valitsemine'}, {'lemma': \"'transportima',\", 'class': 'valitsemine'}, {'lemma': \"'vähendama',\", 'class': 'valitsemine'}, {'lemma': \"'rahastatud',\", 'class': 'valitsemine'}, {'lemma': \"'takistama',\", 'class': 'valitsemine'}, {'lemma': \"'keskendama',\", 'class': 'valitsemine'}, {'lemma': \"'nentima',\", 'class': 'valitsemine'}, {'lemma': \"'suunanud',\", 'class': 'valitsemine'}, {'lemma': \"'investeeritud',\", 'class': 'valitsemine'}, {'lemma': \"'suunatud',\", 'class': 'valitsemine'}, {'lemma': \"'väitma',\", 'class': 'valitsemine'}, {'lemma': \"'halvendama',\", 'class': 'valitsemine'}, {'lemma': \"'paigaldama',\", 'class': 'valitsemine'}, {'lemma': \"'arutama',\", 'class': 'valitsemine'}, {'lemma': \"'möönma',\", 'class': 'valitsemine'}, {'lemma': \"'paigutatud',\", 'class': 'valitsemine'}, {'lemma': \"'kanaliseerima',\", 'class': 'valitsemine'}, {'lemma': \"'sõnama',\", 'class': 'valitsemine'}, {'lemma': \"'hoolitsema',\", 'class': 'valitsemine'}, {'lemma': \"'tõdema',\", 'class': 'valitsemine'}, {'lemma': \"'tõkestama',\", 'class': 'valitsemine'}, {'lemma': \"'rajama',\", 'class': 'valitsemine'}, {'lemma': \"'sõltuma',\", 'class': 'valitsemine'}, {'lemma': \"'märkima',\", 'class': 'valitsemine'}, {'lemma': \"'toonitama',\", 'class': 'valitsemine'}, {'lemma': \"'juhtinud',\", 'class': 'valitsemine'}, {'lemma': \"'kitsendama',\", 'class': 'valitsemine'}, {'lemma': \"'kontsentreerima',\", 'class': 'valitsemine'}, {'lemma': \"'pärssima',\", 'class': 'valitsemine'}, {'lemma': \"'rõhutama',\", 'class': 'valitsemine'}, {'lemma': \"'kahjustama',\", 'class': 'valitsemine'}, {'lemma': \"'ehitama',\", 'class': 'valitsemine'}, {'lemma': \"'ütlema',\", 'class': 'valitsemine'}, {'lemma': \"'juhitud',\", 'class': 'valitsemine'}, {'lemma': \"'määratlema',\", 'class': 'valitsemine'}]\n"
     ]
    }
   ],
   "source": [
    "# enne sobimatute sõnade manuaalset eemaldamist\n",
    "print(rows)"
   ]
  },
  {
   "cell_type": "code",
   "execution_count": 148,
   "id": "b32c5ab8",
   "metadata": {},
   "outputs": [],
   "source": [
    "# pärast sobimatute sõnade manuaalset eemaldamist või ümber tõstmist\n",
    "with open('thematic_keywords.csv', 'r', encoding='UTF-8') as csv_file:\n",
    "    rows = []\n",
    "    reader = csv.DictReader(csv_file)\n",
    "    for row in reader:\n",
    "        rows.append(row)"
   ]
  },
  {
   "cell_type": "code",
   "execution_count": 149,
   "id": "d898544e",
   "metadata": {},
   "outputs": [
    {
     "name": "stdout",
     "output_type": "stream",
     "text": [
      "[{'lemma': 'callable', 'class': 'string'}, {'lemma': \"'vastanduma',\", 'class': 'vaidlused ja erimeelsused'}, {'lemma': \"'võitlema',\", 'class': 'vaidlused ja erimeelsused'}, {'lemma': \"'häbistama',\", 'class': 'vaidlused ja erimeelsused'}, {'lemma': \"'vaidlema',\", 'class': 'vaidlused ja erimeelsused'}, {'lemma': \"'nokkima',\", 'class': 'vaidlused ja erimeelsused'}, {'lemma': \"'protestima',\", 'class': 'vaidlused ja erimeelsused'}, {'lemma': \"'sõdima',\", 'class': 'vaidlused ja erimeelsused'}, {'lemma': \"'debateerima',\", 'class': 'vaidlused ja erimeelsused'}, {'lemma': \"'diskuteerima',\", 'class': 'vaidlused ja erimeelsused'}, {'lemma': \"'nurisema',\", 'class': 'vaidlused ja erimeelsused'}, {'lemma': \"'ründama',\", 'class': 'vaidlused ja erimeelsused'}, {'lemma': \"'süüdistama',\", 'class': 'vaidlused ja erimeelsused'}, {'lemma': \"'kandideerima',\", 'class': 'valimised'}, {'lemma': \"'valima',\", 'class': 'valimised'}, {'lemma': \"'võitma',\", 'class': 'valimised'}, {'lemma': \"'lubama',\", 'class': 'valimised'}, {'lemma': \"'osalema',\", 'class': 'valimised'}, {'lemma': \"'hääletama',\", 'class': 'valimised'}, {'lemma': \"'kavatsema',\", 'class': 'valimised'}, {'lemma': \"'toetama',\", 'class': 'valimised'}, {'lemma': \"'valetama',\", 'class': 'valetamine'}, {'lemma': \"'varjama',\", 'class': 'valetamine'}, {'lemma': \"'mustama',\", 'class': 'valetamine'}, {'lemma': \"'kuritarvitama',\", 'class': 'valetamine'}, {'lemma': \"'manipuleerima',\", 'class': 'valetamine'}, {'lemma': \"'juhtima',\", 'class': 'valitsemine'}, {'lemma': \"'otsustama',\", 'class': 'valitsemine'}, {'lemma': \"'kaasama',\", 'class': 'valitsemine'}, {'lemma': \"'mõjutama',\", 'class': 'valitsemine'}, {'lemma': \"'esindama',\", 'class': 'valitsemine'}, {'lemma': \"'määrama',\", 'class': 'valitsemine'}, {'lemma': \"'kinnitama',\", 'class': 'valitsemine'}, {'lemma': \"'menetlema',\", 'class': 'valitsemine'}, {'lemma': \"'vastutama',\", 'class': 'valitsemine'}, {'lemma': \"'suunama',\", 'class': 'valitsemine'}, {'lemma': \"'paigutama',\", 'class': 'valitsemine'}, {'lemma': \"'finantseerima',\", 'class': 'valitsemine'}, {'lemma': \"'investeerima',\", 'class': 'valitsemine'}, {'lemma': \"'rahastama',\", 'class': 'valitsemine'}, {'lemma': \"'mõjuma',\", 'class': 'valitsemine'}, {'lemma': \"'piirama',\", 'class': 'valitsemine'}, {'lemma': \"'pommitama',\", 'class': 'vaidlused ja erimeelsused'}, {'lemma': \"'kritiseerima',\", 'class': 'vaidlused ja erimeelsused'}, {'lemma': \"'teotama',\", 'class': 'vaidlused ja erimeelsused'}, {'lemma': \"'vastandama',\", 'class': 'vaidlused ja erimeelsused'}, {'lemma': \"'piketeerima',\", 'class': 'vaidlused ja erimeelsused'}, {'lemma': \"'šantažeerima',\", 'class': 'vaidlused ja erimeelsused'}, {'lemma': \"'protesteerima',\", 'class': 'vaidlused ja erimeelsused'}, {'lemma': \"'mõnitama',\", 'class': 'vaidlused ja erimeelsused'}, {'lemma': \"'arutlema',\", 'class': 'vaidlused ja erimeelsused'}, {'lemma': \"'kaitsma',\", 'class': 'vaidlused ja erimeelsused'}, {'lemma': \"'pahandama',\", 'class': 'vaidlused ja erimeelsused'}, {'lemma': \"'hädaldama',\", 'class': 'vaidlused ja erimeelsused'}, {'lemma': \"'virisema',\", 'class': 'vaidlused ja erimeelsused'}, {'lemma': \"'argumenteerima',\", 'class': 'vaidlused ja erimeelsused'}, {'lemma': \"'eitama',\", 'class': 'vaidlused ja erimeelsused'}, {'lemma': \"'kahtlustama',\", 'class': 'vaidlused ja erimeelsused'}, {'lemma': \"'kaagutama',\", 'class': 'vaidlused ja erimeelsused'}, {'lemma': \"'prääksuma',\", 'class': 'vaidlused ja erimeelsused'}, {'lemma': \"'heitlema',\", 'class': 'vaidlused ja erimeelsused'}, {'lemma': \"'inisema',\", 'class': 'vaidlused ja erimeelsused'}, {'lemma': \"'väitlema',\", 'class': 'vaidlused ja erimeelsused'}, {'lemma': \"'kiruma',\", 'class': 'vaidlused ja erimeelsused'}, {'lemma': \"'naeruvääristama',\", 'class': 'vaidlused ja erimeelsused'}, {'lemma': \"'tulistama',\", 'class': 'vaidlused ja erimeelsused'}, {'lemma': \"'kurtma',\", 'class': 'vaidlused ja erimeelsused'}, {'lemma': \"'vastustama',\", 'class': 'vaidlused ja erimeelsused'}, {'lemma': \"'alistama',\", 'class': 'valimised'}, {'lemma': \"'võidutsema',\", 'class': 'valimised'}, {'lemma': \"'pürgima',\", 'class': 'valimised'}, {'lemma': \"'edestama',\", 'class': 'valimised'}, {'lemma': \"'pooldama',\", 'class': 'valimised'}, {'lemma': \"'luiskama',\", 'class': 'valetamine'}, {'lemma': \"'peitma',\", 'class': 'valetamine'}, {'lemma': \"'vassima',\", 'class': 'valetamine'}, {'lemma': \"'petma',\", 'class': 'valetamine'}, {'lemma': \"'reetma',\", 'class': 'valetamine'}, {'lemma': \"'reinvesteerima',\", 'class': 'valitsemine'}, {'lemma': \"'transportima',\", 'class': 'valitsemine'}, {'lemma': \"'vähendama',\", 'class': 'valitsemine'}, {'lemma': \"'takistama',\", 'class': 'valitsemine'}, {'lemma': \"'halvendama',\", 'class': 'valitsemine'}, {'lemma': \"'paigaldama',\", 'class': 'valitsemine'}, {'lemma': \"'arutama',\", 'class': 'valitsemine'}, {'lemma': \"'hoolitsema',\", 'class': 'valitsemine'}, {'lemma': \"'tõkestama',\", 'class': 'valitsemine'}, {'lemma': \"'rajama',\", 'class': 'valitsemine'}, {'lemma': \"'kitsendama',\", 'class': 'valitsemine'}, {'lemma': \"'pärssima',\", 'class': 'valitsemine'}, {'lemma': \"'kahjustama',\", 'class': 'valitsemine'}, {'lemma': \"'ehitama',\", 'class': 'valitsemine'}, {'lemma': \"'määratlema',\", 'class': 'valitsemine'}, {'lemma': \"'käskima',\", 'class': 'valitsemine'}, {'lemma': \"'kohustama',\", 'class': 'valitsemine'}, {'lemma': \"'kavandama',\", 'class': 'valitsemine'}, {'lemma': \"'korraldama',\", 'class': 'valitsemine'}]\n"
     ]
    }
   ],
   "source": [
    "# pärast sobimatute sõnade manuaalset eemaldamist või ümber tõstmist\n",
    "print(rows)"
   ]
  }
 ],
 "metadata": {
  "kernelspec": {
   "display_name": "Python 3 (ipykernel)",
   "language": "python",
   "name": "python3"
  },
  "language_info": {
   "codemirror_mode": {
    "name": "ipython",
    "version": 3
   },
   "file_extension": ".py",
   "mimetype": "text/x-python",
   "name": "python",
   "nbconvert_exporter": "python",
   "pygments_lexer": "ipython3",
   "version": "3.10.11"
  }
 },
 "nbformat": 4,
 "nbformat_minor": 5
}
