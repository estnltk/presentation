{
 "cells": [
  {
   "cell_type": "markdown",
   "id": "5a0af9e0",
   "metadata": {},
   "source": [
    "## Märksõnade (hulga) sobivuse hindamine"
   ]
  },
  {
   "cell_type": "markdown",
   "id": "00db1fe0",
   "metadata": {},
   "source": [
    "Eelnevalt leiti Word2Vec mudelite abil juurde temaatilisi märksõnu. Vaja oleks aga ka hinnata, kas saadud sõnade hulk on piisav. Selleks vaadatakse isikunimega koosesinevaid unikaalseid verbe ning kas ja mil määral esineb leitud märksõnu suvalises unikaalsete verbide alamhulgas."
   ]
  },
  {
   "cell_type": "code",
   "execution_count": 17,
   "id": "c96347be",
   "metadata": {},
   "outputs": [],
   "source": [
    "from estnltk import Text\n",
    "import sqlite3\n",
    "from estnltk.converters import json_to_text\n",
    "import csv\n",
    "import random"
   ]
  },
  {
   "cell_type": "markdown",
   "id": "084e43b3",
   "metadata": {},
   "source": [
    "Esmalt tuleb lugeda andmebaasist sisse süntaktilise analüüsiga laused."
   ]
  },
  {
   "cell_type": "code",
   "execution_count": 3,
   "id": "e435672b",
   "metadata": {},
   "outputs": [],
   "source": [
    "sentences = []"
   ]
  },
  {
   "cell_type": "code",
   "execution_count": 2,
   "id": "de8ca8f9",
   "metadata": {},
   "outputs": [],
   "source": [
    "con = sqlite3.connect(\"media_data_complete.db\")\n",
    "cur = con.cursor()"
   ]
  },
  {
   "cell_type": "code",
   "execution_count": 4,
   "id": "185a37b5",
   "metadata": {},
   "outputs": [],
   "source": [
    "for row in cur.execute(\"SELECT sentence FROM sentences_syntax_analysis\"):\n",
    "    sentence = json_to_text(json_text=row[0])\n",
    "    sentences.append(sentence)"
   ]
  },
  {
   "cell_type": "code",
   "execution_count": 5,
   "id": "e6c0a11d",
   "metadata": {},
   "outputs": [],
   "source": [
    "con.close()"
   ]
  },
  {
   "cell_type": "markdown",
   "id": "ebb1b247",
   "metadata": {},
   "source": [
    "Järgnevalt leitakse lausetest unikaalsed verbid, mis on seotud isiku- või organisatsiooninimega."
   ]
  },
  {
   "cell_type": "code",
   "execution_count": 11,
   "id": "463e2d2d",
   "metadata": {},
   "outputs": [],
   "source": [
    "sentence_verbs = set()"
   ]
  },
  {
   "cell_type": "code",
   "execution_count": 12,
   "id": "15fede4d",
   "metadata": {},
   "outputs": [],
   "source": [
    "for sentence in sentences:\n",
    "    for entity in sentence.entity_phrases:\n",
    "        phrase = []\n",
    "        for span in entity:\n",
    "            phrase.append(span)\n",
    "    \n",
    "        for subspan in phrase:\n",
    "            parent = sentence.stanza_syntax.get(subspan)['parent_span']\n",
    "            if parent != None:\n",
    "                parent_word = sentence['words'].get(parent) \n",
    "                if parent_word in phrase:\n",
    "                    continue\n",
    "                # Verbist ülemus\n",
    "                parent_morph = sentence.morph_analysis.get(parent)\n",
    "                if 'V' not in parent_morph['partofspeech']:\n",
    "                    continue\n",
    "                sentence_verbs.add(parent['lemma'])"
   ]
  },
  {
   "cell_type": "code",
   "execution_count": 13,
   "id": "6c35de42",
   "metadata": {},
   "outputs": [
    {
     "data": {
      "text/plain": [
       "1255"
      ]
     },
     "execution_count": 13,
     "metadata": {},
     "output_type": "execute_result"
    }
   ],
   "source": [
    "len(sentence_verbs)"
   ]
  },
  {
   "cell_type": "markdown",
   "id": "69928810",
   "metadata": {},
   "source": [
    "Loetakse sisse temaatilised märksõnad."
   ]
  },
  {
   "cell_type": "code",
   "execution_count": 22,
   "id": "e2b00b64",
   "metadata": {},
   "outputs": [],
   "source": [
    "thematic_verbs = []"
   ]
  },
  {
   "cell_type": "code",
   "execution_count": 23,
   "id": "8fc9a42a",
   "metadata": {},
   "outputs": [],
   "source": [
    "with open('thematic_keywords.csv', encoding='UTF-8') as csv_file:\n",
    "    reader = csv.DictReader(csv_file)\n",
    "    for row in reader:\n",
    "        if row['lemma'].strip(\"',\") == 'callable':\n",
    "            continue\n",
    "        thematic_verbs.append(row['lemma'].strip(\"',\"))"
   ]
  },
  {
   "cell_type": "code",
   "execution_count": 25,
   "id": "18c967b5",
   "metadata": {},
   "outputs": [
    {
     "data": {
      "text/plain": [
       "96"
      ]
     },
     "execution_count": 25,
     "metadata": {},
     "output_type": "execute_result"
    }
   ],
   "source": [
    "len(thematic_verbs)"
   ]
  },
  {
   "cell_type": "markdown",
   "id": "f5f20307",
   "metadata": {},
   "source": [
    "Järgnevalt võetakse lausetest leitud unikaalsete verbide hulgast juhuslik alamosa, näiteks suurusega 100."
   ]
  },
  {
   "cell_type": "code",
   "execution_count": 26,
   "id": "bb0aa37a",
   "metadata": {},
   "outputs": [],
   "source": [
    "sentence_verbs_list = list(sentence_verbs)"
   ]
  },
  {
   "cell_type": "code",
   "execution_count": 27,
   "id": "f72a397f",
   "metadata": {},
   "outputs": [],
   "source": [
    "random.shuffle(sentence_verbs_list)"
   ]
  },
  {
   "cell_type": "code",
   "execution_count": 28,
   "id": "0f6c66d4",
   "metadata": {},
   "outputs": [],
   "source": [
    "# 100 unikaalse verbi suurune alamosa\n",
    "sub_100 = sentence_verbs_list[:100]"
   ]
  },
  {
   "cell_type": "code",
   "execution_count": 30,
   "id": "5b58e74c",
   "metadata": {},
   "outputs": [],
   "source": [
    "occurs_in_both = 0\n",
    "\n",
    "for verb in thematic_verbs:\n",
    "    if verb in sub_100:\n",
    "        occurs_in_both += 1"
   ]
  },
  {
   "cell_type": "code",
   "execution_count": 32,
   "id": "4e2436d4",
   "metadata": {},
   "outputs": [
    {
     "name": "stdout",
     "output_type": "stream",
     "text": [
      "Märksõnad moodustasid unikaalsete verbide alamhulgast 5.0 protsenti\n"
     ]
    }
   ],
   "source": [
    "print(\"Märksõnad moodustasid unikaalsete verbide alamhulgast\", (len(sub_100)/100)*occurs_in_both, \"protsenti\")"
   ]
  },
  {
   "cell_type": "markdown",
   "id": "0d2d1ff9",
   "metadata": {},
   "source": [
    "Märksõnad moodustasid unikaalsete verbide alamhulgast 5%, mis on suhteliselt ootuspärane arvestades seda, et kogu märksõnade hulk moodustab kõigist unikaalsetest verbidest ~7%."
   ]
  },
  {
   "cell_type": "code",
   "execution_count": null,
   "id": "eb82e71a",
   "metadata": {},
   "outputs": [],
   "source": []
  }
 ],
 "metadata": {
  "kernelspec": {
   "display_name": "Python 3 (ipykernel)",
   "language": "python",
   "name": "python3"
  },
  "language_info": {
   "codemirror_mode": {
    "name": "ipython",
    "version": 3
   },
   "file_extension": ".py",
   "mimetype": "text/x-python",
   "name": "python",
   "nbconvert_exporter": "python",
   "pygments_lexer": "ipython3",
   "version": "3.10.11"
  }
 },
 "nbformat": 4,
 "nbformat_minor": 5
}
