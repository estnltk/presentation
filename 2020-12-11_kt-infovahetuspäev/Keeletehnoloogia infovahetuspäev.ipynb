{
 "cells": [
  {
   "cell_type": "markdown",
   "metadata": {
    "slideshow": {
     "slide_type": "skip"
    }
   },
   "source": [
    "Use [RISE](https://github.com/damianavila/RISE) to display the slides.\n",
    "\n",
    "```bash\n",
    "pip install RISE\n",
    "```"
   ]
  },
  {
   "cell_type": "markdown",
   "metadata": {
    "slideshow": {
     "slide_type": "slide"
    }
   },
   "source": [
    "<H1 style=\"text-align: center;\">\n",
    "EstNLTK - Pythoni teegid \n",
    "</H1>\n",
    "\n",
    "<H1 style=\"text-align: center;\">    \n",
    "eestikeelsete tekstide automaattöötluseks\n",
    "</H1>\n",
    "\n",
    "<H4 style=\"text-align: center;\">\n",
    "https://github.com/estnltk/estnltk\n",
    "</H4>\n",
    "\n",
    "<H4 style=\"text-align: center;\">\n",
    "Dage Särg, dage.sarg@ut.ee\n",
    "</H4>"
   ]
  },
  {
   "cell_type": "markdown",
   "metadata": {
    "slideshow": {
     "slide_type": "slide"
    }
   },
   "source": [
    "<img src=\"pildid2/wh1.svg\">"
   ]
  },
  {
   "cell_type": "markdown",
   "metadata": {
    "slideshow": {
     "slide_type": "slide"
    }
   },
   "source": [
    "<img src=\"pildid2/whyy2.svg\">"
   ]
  },
  {
   "cell_type": "markdown",
   "metadata": {
    "slideshow": {
     "slide_type": "slide"
    }
   },
   "source": [
    "<img src=\"pildid2/oad2.svg\">"
   ]
  },
  {
   "cell_type": "code",
   "execution_count": 1,
   "metadata": {
    "slideshow": {
     "slide_type": "slide"
    }
   },
   "outputs": [
    {
     "data": {
      "text/html": [
       "<h4>Layer</h4>\n",
       "\n",
       "\n",
       "<table border=\"1\" class=\"dataframe\">\n",
       "  <thead>\n",
       "    <tr style=\"text-align: right;\">\n",
       "      <th>layer name</th>\n",
       "      <th>attributes</th>\n",
       "      <th>parent</th>\n",
       "      <th>enveloping</th>\n",
       "      <th>ambiguous</th>\n",
       "      <th>span count</th>\n",
       "    </tr>\n",
       "  </thead>\n",
       "  <tbody>\n",
       "    <tr>\n",
       "      <td>morph_analysis</td>\n",
       "      <td>normalized_text, lemma, root, root_tokens, ending, clitic, form, partofspeech</td>\n",
       "      <td>words</td>\n",
       "      <td>None</td>\n",
       "      <td>True</td>\n",
       "      <td>9</td>\n",
       "    </tr>\n",
       "  </tbody>\n",
       "</table>\n",
       "<table border=\"1\" class=\"dataframe\">\n",
       "  <thead>\n",
       "    <tr style=\"text-align: right;\">\n",
       "      <th>text</th>\n",
       "      <th>normalized_text</th>\n",
       "      <th>lemma</th>\n",
       "      <th>root</th>\n",
       "      <th>root_tokens</th>\n",
       "      <th>ending</th>\n",
       "      <th>clitic</th>\n",
       "      <th>form</th>\n",
       "      <th>partofspeech</th>\n",
       "    </tr>\n",
       "  </thead>\n",
       "  <tbody>\n",
       "    <tr>\n",
       "      <td>Mida</td>\n",
       "      <td>Mida</td>\n",
       "      <td>mis</td>\n",
       "      <td>mis</td>\n",
       "      <td>['mis']</td>\n",
       "      <td>da</td>\n",
       "      <td></td>\n",
       "      <td>pl p</td>\n",
       "      <td>P</td>\n",
       "    </tr>\n",
       "    <tr>\n",
       "      <td></td>\n",
       "      <td>Mida</td>\n",
       "      <td>mis</td>\n",
       "      <td>mis</td>\n",
       "      <td>['mis']</td>\n",
       "      <td>da</td>\n",
       "      <td></td>\n",
       "      <td>sg p</td>\n",
       "      <td>P</td>\n",
       "    </tr>\n",
       "    <tr>\n",
       "      <td>ubadest</td>\n",
       "      <td>ubadest</td>\n",
       "      <td>uba</td>\n",
       "      <td>uba</td>\n",
       "      <td>['uba']</td>\n",
       "      <td>dest</td>\n",
       "      <td></td>\n",
       "      <td>pl el</td>\n",
       "      <td>S</td>\n",
       "    </tr>\n",
       "    <tr>\n",
       "      <td>teha</td>\n",
       "      <td>teha</td>\n",
       "      <td>tegema</td>\n",
       "      <td>tege</td>\n",
       "      <td>['tege']</td>\n",
       "      <td>a</td>\n",
       "      <td></td>\n",
       "      <td>da</td>\n",
       "      <td>V</td>\n",
       "    </tr>\n",
       "    <tr>\n",
       "      <td>?</td>\n",
       "      <td>?</td>\n",
       "      <td>?</td>\n",
       "      <td>?</td>\n",
       "      <td>['?']</td>\n",
       "      <td></td>\n",
       "      <td></td>\n",
       "      <td></td>\n",
       "      <td>Z</td>\n",
       "    </tr>\n",
       "    <tr>\n",
       "      <td>Oad</td>\n",
       "      <td>Oad</td>\n",
       "      <td>uba</td>\n",
       "      <td>uba</td>\n",
       "      <td>['uba']</td>\n",
       "      <td>d</td>\n",
       "      <td></td>\n",
       "      <td>pl n</td>\n",
       "      <td>S</td>\n",
       "    </tr>\n",
       "    <tr>\n",
       "      <td>võib</td>\n",
       "      <td>võib</td>\n",
       "      <td>võima</td>\n",
       "      <td>või</td>\n",
       "      <td>['või']</td>\n",
       "      <td>b</td>\n",
       "      <td></td>\n",
       "      <td>b</td>\n",
       "      <td>V</td>\n",
       "    </tr>\n",
       "    <tr>\n",
       "      <td>salatisse</td>\n",
       "      <td>salatisse</td>\n",
       "      <td>salat</td>\n",
       "      <td>salat</td>\n",
       "      <td>['salat']</td>\n",
       "      <td>sse</td>\n",
       "      <td></td>\n",
       "      <td>sg ill</td>\n",
       "      <td>S</td>\n",
       "    </tr>\n",
       "    <tr>\n",
       "      <td>panna</td>\n",
       "      <td>panna</td>\n",
       "      <td>panema</td>\n",
       "      <td>pane</td>\n",
       "      <td>['pane']</td>\n",
       "      <td>a</td>\n",
       "      <td></td>\n",
       "      <td>da</td>\n",
       "      <td>V</td>\n",
       "    </tr>\n",
       "    <tr>\n",
       "      <td>.</td>\n",
       "      <td>.</td>\n",
       "      <td>.</td>\n",
       "      <td>.</td>\n",
       "      <td>['.']</td>\n",
       "      <td></td>\n",
       "      <td></td>\n",
       "      <td></td>\n",
       "      <td>Z</td>\n",
       "    </tr>\n",
       "  </tbody>\n",
       "</table>"
      ],
      "text/plain": [
       "Layer(name='morph_analysis', attributes=('normalized_text', 'lemma', 'root', 'root_tokens', 'ending', 'clitic', 'form', 'partofspeech'), spans=SL[Span('Mida', [{'normalized_text': 'Mida', 'lemma': 'mis', 'root': 'mis', 'root_tokens': ['mis'], 'ending': 'da', 'clitic': '', 'form': 'pl p', 'partofspeech': 'P'}, {'normalized_text': 'Mida', 'lemma': 'mis', 'root': 'mis', 'root_tokens': ['mis'], 'ending': 'da', 'clitic': '', 'form': 'sg p', 'partofspeech': 'P'}]),\n",
       "Span('ubadest', [{'normalized_text': 'ubadest', 'lemma': 'uba', 'root': 'uba', 'root_tokens': ['uba'], 'ending': 'dest', 'clitic': '', 'form': 'pl el', 'partofspeech': 'S'}]),\n",
       "Span('teha', [{'normalized_text': 'teha', 'lemma': 'tegema', 'root': 'tege', 'root_tokens': ['tege'], 'ending': 'a', 'clitic': '', 'form': 'da', 'partofspeech': 'V'}]),\n",
       "Span('?', [{'normalized_text': '?', 'lemma': '?', 'root': '?', 'root_tokens': ['?'], 'ending': '', 'clitic': '', 'form': '', 'partofspeech': 'Z'}]),\n",
       "Span('Oad', [{'normalized_text': 'Oad', 'lemma': 'uba', 'root': 'uba', 'root_tokens': ['uba'], 'ending': 'd', 'clitic': '', 'form': 'pl n', 'partofspeech': 'S'}]),\n",
       "Span('võib', [{'normalized_text': 'võib', 'lemma': 'võima', 'root': 'või', 'root_tokens': ['või'], 'ending': 'b', 'clitic': '', 'form': 'b', 'partofspeech': 'V'}]),\n",
       "Span('salatisse', [{'normalized_text': 'salatisse', 'lemma': 'salat', 'root': 'salat', 'root_tokens': ['salat'], 'ending': 'sse', 'clitic': '', 'form': 'sg ill', 'partofspeech': 'S'}]),\n",
       "Span('panna', [{'normalized_text': 'panna', 'lemma': 'panema', 'root': 'pane', 'root_tokens': ['pane'], 'ending': 'a', 'clitic': '', 'form': 'da', 'partofspeech': 'V'}]),\n",
       "Span('.', [{'normalized_text': '.', 'lemma': '.', 'root': '.', 'root_tokens': ['.'], 'ending': '', 'clitic': '', 'form': '', 'partofspeech': 'Z'}])])"
      ]
     },
     "execution_count": 1,
     "metadata": {},
     "output_type": "execute_result"
    }
   ],
   "source": [
    "from estnltk import Text\n",
    "t = Text('Mida ubadest teha? Oad võib salatisse panna.').tag_layer()\n",
    "t.morph_analysis"
   ]
  },
  {
   "cell_type": "markdown",
   "metadata": {
    "slideshow": {
     "slide_type": "slide"
    }
   },
   "source": [
    "<img src=\"pildid2/morff1.svg\">"
   ]
  },
  {
   "cell_type": "markdown",
   "metadata": {
    "slideshow": {
     "slide_type": "slide"
    }
   },
   "source": [
    "<img src=\"pildid2/morff2.svg\">"
   ]
  },
  {
   "cell_type": "code",
   "execution_count": 2,
   "metadata": {
    "slideshow": {
     "slide_type": "slide"
    }
   },
   "outputs": [
    {
     "data": {
      "text/html": [
       "<h4>Layer</h4>\n",
       "\n",
       "\n",
       "<table border=\"1\" class=\"dataframe\">\n",
       "  <thead>\n",
       "    <tr style=\"text-align: right;\">\n",
       "      <th>layer name</th>\n",
       "      <th>attributes</th>\n",
       "      <th>parent</th>\n",
       "      <th>enveloping</th>\n",
       "      <th>ambiguous</th>\n",
       "      <th>span count</th>\n",
       "    </tr>\n",
       "  </thead>\n",
       "  <tbody>\n",
       "    <tr>\n",
       "      <td>morph_analysis</td>\n",
       "      <td>normalized_text, lemma, root, root_tokens, ending, clitic, form, partofspeech</td>\n",
       "      <td>words</td>\n",
       "      <td>None</td>\n",
       "      <td>True</td>\n",
       "      <td>6</td>\n",
       "    </tr>\n",
       "  </tbody>\n",
       "</table>\n",
       "<table border=\"1\" class=\"dataframe\">\n",
       "  <thead>\n",
       "    <tr style=\"text-align: right;\">\n",
       "      <th>text</th>\n",
       "      <th>normalized_text</th>\n",
       "      <th>lemma</th>\n",
       "      <th>root</th>\n",
       "      <th>root_tokens</th>\n",
       "      <th>ending</th>\n",
       "      <th>clitic</th>\n",
       "      <th>form</th>\n",
       "      <th>partofspeech</th>\n",
       "    </tr>\n",
       "  </thead>\n",
       "  <tbody>\n",
       "    <tr>\n",
       "      <td>Põgeneja</td>\n",
       "      <td>Põgeneja</td>\n",
       "      <td>põgeneja</td>\n",
       "      <td>põgeneja</td>\n",
       "      <td>['põgeneja']</td>\n",
       "      <td>0</td>\n",
       "      <td></td>\n",
       "      <td>sg n</td>\n",
       "      <td>S</td>\n",
       "    </tr>\n",
       "    <tr>\n",
       "      <td>peeti</td>\n",
       "      <td>peeti</td>\n",
       "      <td>pidama</td>\n",
       "      <td>pida</td>\n",
       "      <td>['pida']</td>\n",
       "      <td>ti</td>\n",
       "      <td></td>\n",
       "      <td>ti</td>\n",
       "      <td>V</td>\n",
       "    </tr>\n",
       "    <tr>\n",
       "      <td>tee</td>\n",
       "      <td>tee</td>\n",
       "      <td>tee</td>\n",
       "      <td>tee</td>\n",
       "      <td>['tee']</td>\n",
       "      <td>0</td>\n",
       "      <td></td>\n",
       "      <td>sg g</td>\n",
       "      <td>S</td>\n",
       "    </tr>\n",
       "    <tr>\n",
       "      <td>lõpus</td>\n",
       "      <td>lõpus</td>\n",
       "      <td>lõpp</td>\n",
       "      <td>lõpp</td>\n",
       "      <td>['lõpp']</td>\n",
       "      <td>s</td>\n",
       "      <td></td>\n",
       "      <td>sg in</td>\n",
       "      <td>S</td>\n",
       "    </tr>\n",
       "    <tr>\n",
       "      <td>kinni</td>\n",
       "      <td>kinni</td>\n",
       "      <td>kinni</td>\n",
       "      <td>kinni</td>\n",
       "      <td>['kinni']</td>\n",
       "      <td>0</td>\n",
       "      <td></td>\n",
       "      <td></td>\n",
       "      <td>D</td>\n",
       "    </tr>\n",
       "    <tr>\n",
       "      <td>.</td>\n",
       "      <td>.</td>\n",
       "      <td>.</td>\n",
       "      <td>.</td>\n",
       "      <td>['.']</td>\n",
       "      <td></td>\n",
       "      <td></td>\n",
       "      <td></td>\n",
       "      <td>Z</td>\n",
       "    </tr>\n",
       "  </tbody>\n",
       "</table>"
      ],
      "text/plain": [
       "Layer(name='morph_analysis', attributes=('normalized_text', 'lemma', 'root', 'root_tokens', 'ending', 'clitic', 'form', 'partofspeech'), spans=SL[Span('Põgeneja', [{'normalized_text': 'Põgeneja', 'lemma': 'põgeneja', 'root': 'põgeneja', 'root_tokens': ['põgeneja'], 'ending': '0', 'clitic': '', 'form': 'sg n', 'partofspeech': 'S'}]),\n",
       "Span('peeti', [{'normalized_text': 'peeti', 'lemma': 'pidama', 'root': 'pida', 'root_tokens': ['pida'], 'ending': 'ti', 'clitic': '', 'form': 'ti', 'partofspeech': 'V'}]),\n",
       "Span('tee', [{'normalized_text': 'tee', 'lemma': 'tee', 'root': 'tee', 'root_tokens': ['tee'], 'ending': '0', 'clitic': '', 'form': 'sg g', 'partofspeech': 'S'}]),\n",
       "Span('lõpus', [{'normalized_text': 'lõpus', 'lemma': 'lõpp', 'root': 'lõpp', 'root_tokens': ['lõpp'], 'ending': 's', 'clitic': '', 'form': 'sg in', 'partofspeech': 'S'}]),\n",
       "Span('kinni', [{'normalized_text': 'kinni', 'lemma': 'kinni', 'root': 'kinni', 'root_tokens': ['kinni'], 'ending': '0', 'clitic': '', 'form': '', 'partofspeech': 'D'}]),\n",
       "Span('.', [{'normalized_text': '.', 'lemma': '.', 'root': '.', 'root_tokens': ['.'], 'ending': '', 'clitic': '', 'form': '', 'partofspeech': 'Z'}])])"
      ]
     },
     "execution_count": 2,
     "metadata": {},
     "output_type": "execute_result"
    }
   ],
   "source": [
    "t = Text('Põgeneja peeti tee lõpus kinni.').tag_layer()\n",
    "t.morph_analysis"
   ]
  },
  {
   "cell_type": "markdown",
   "metadata": {
    "slideshow": {
     "slide_type": "slide"
    }
   },
   "source": [
    "## Wordnet\n",
    "\n",
    "* Andmebaas, mis sisaldab semantiliselt seotud mõisteid\n",
    "\n",
    "* 2018 ~139 000 sõna\n"
   ]
  },
  {
   "cell_type": "code",
   "execution_count": 3,
   "metadata": {
    "slideshow": {
     "slide_type": "fragment"
    }
   },
   "outputs": [
    {
     "data": {
      "text/plain": [
       "'ettevalmistatud (keedetud, küpsetatud, grillitud, lõigutud vm) toiduained lauale panemiseks ja söömiseks; valmisained, mida süüakse kõhu täitmiseks'"
      ]
     },
     "execution_count": 3,
     "metadata": {},
     "output_type": "execute_result"
    }
   ],
   "source": [
    "from estnltk.wordnet import Wordnet\n",
    "wn = Wordnet()\n",
    "toit = wn['toit']\n",
    "toit[0].definition"
   ]
  },
  {
   "cell_type": "code",
   "execution_count": 4,
   "metadata": {
    "slideshow": {
     "slide_type": "slide"
    }
   },
   "outputs": [
    {
     "data": {
      "text/plain": [
       "[\"Synset('hapukapsasalat.n.01')\",\n",
       " \"Synset('garneering.n.01')\",\n",
       " \"Synset('dipp.n.01')\",\n",
       " \"Synset('tzatziki.n.01')\",\n",
       " \"Synset('kaste.n.01')\",\n",
       " \"Synset('vinegrett.n.01')\",\n",
       " \"Synset('seenekaste.n.01')\",\n",
       " \"Synset('salatikaste.n.01')\",\n",
       " \"Synset('Tuhande saare salatikaste.n.01')\",\n",
       " \"Synset('Vene salatikaste.n.01')\"]"
      ]
     },
     "execution_count": 4,
     "metadata": {},
     "output_type": "execute_result"
    }
   ],
   "source": [
    "toidud = toit[0].closure('hyponym')\n",
    "toidud[700:710]"
   ]
  },
  {
   "cell_type": "code",
   "execution_count": 5,
   "metadata": {
    "slideshow": {
     "slide_type": "fragment"
    }
   },
   "outputs": [
    {
     "data": {
      "text/plain": [
       "942"
      ]
     },
     "execution_count": 5,
     "metadata": {},
     "output_type": "execute_result"
    }
   ],
   "source": [
    "len(toidud)"
   ]
  },
  {
   "cell_type": "markdown",
   "metadata": {
    "slideshow": {
     "slide_type": "slide"
    }
   },
   "source": [
    "## Nimeüksuste tuvastamine (NER - Named Entity Recognition)\n",
    "\n",
    "EstNLTK sisaldab automaatset nimeüksuste tuvastajat, mis võimaldab tuvastada 3 liiki nimeüksuseid:\n",
    "* isikunimesid ( lühend: PER );\n",
    "\n",
    "* asukohanimesid ( lühend: LOC );\n",
    "\n",
    "* organisatsiooninimesid ( lühend: ORG )"
   ]
  },
  {
   "cell_type": "code",
   "execution_count": 6,
   "metadata": {
    "slideshow": {
     "slide_type": "slide"
    }
   },
   "outputs": [
    {
     "data": {
      "text/html": [
       "<h4>Layer</h4>\n",
       "\n",
       "\n",
       "<table border=\"1\" class=\"dataframe\">\n",
       "  <thead>\n",
       "    <tr style=\"text-align: right;\">\n",
       "      <th>layer name</th>\n",
       "      <th>attributes</th>\n",
       "      <th>parent</th>\n",
       "      <th>enveloping</th>\n",
       "      <th>ambiguous</th>\n",
       "      <th>span count</th>\n",
       "    </tr>\n",
       "  </thead>\n",
       "  <tbody>\n",
       "    <tr>\n",
       "      <td>ner</td>\n",
       "      <td>nertag</td>\n",
       "      <td>None</td>\n",
       "      <td>words</td>\n",
       "      <td>False</td>\n",
       "      <td>2</td>\n",
       "    </tr>\n",
       "  </tbody>\n",
       "</table>\n",
       "<table border=\"1\" class=\"dataframe\">\n",
       "  <thead>\n",
       "    <tr style=\"text-align: right;\">\n",
       "      <th>text</th>\n",
       "      <th>nertag</th>\n",
       "    </tr>\n",
       "  </thead>\n",
       "  <tbody>\n",
       "    <tr>\n",
       "      <td>['Martin', 'Helme']</td>\n",
       "      <td>PER</td>\n",
       "    </tr>\n",
       "    <tr>\n",
       "      <td>['Selverisse']</td>\n",
       "      <td>ORG</td>\n",
       "    </tr>\n",
       "  </tbody>\n",
       "</table>"
      ],
      "text/plain": [
       "Layer(name='ner', attributes=('nertag',), spans=SL[EnvelopingSpan(['Martin', 'Helme'], [{'nertag': 'PER'}]),\n",
       "EnvelopingSpan(['Selverisse'], [{'nertag': 'ORG'}])])"
      ]
     },
     "execution_count": 6,
     "metadata": {},
     "output_type": "execute_result"
    }
   ],
   "source": [
    "from estnltk.taggers import NerTagger\n",
    "ner_tagger = NerTagger()\n",
    "t = Text('Martin Helme kandideeris Selverisse müüjaks.').tag_layer()\n",
    "ner_tagger.tag(t)\n",
    "t.ner"
   ]
  },
  {
   "cell_type": "markdown",
   "metadata": {
    "slideshow": {
     "slide_type": "slide"
    }
   },
   "source": [
    "<img src=\"pildid2/uudis2.svg\">"
   ]
  },
  {
   "cell_type": "markdown",
   "metadata": {
    "slideshow": {
     "slide_type": "slide"
    }
   },
   "source": [
    "### Ajaväljendite tuvastamine"
   ]
  },
  {
   "cell_type": "code",
   "execution_count": 7,
   "metadata": {
    "slideshow": {
     "slide_type": "fragment"
    }
   },
   "outputs": [
    {
     "data": {
      "text/html": [
       "<h4>Layer</h4>\n",
       "\n",
       "\n",
       "<table border=\"1\" class=\"dataframe\">\n",
       "  <thead>\n",
       "    <tr style=\"text-align: right;\">\n",
       "      <th>layer name</th>\n",
       "      <th>attributes</th>\n",
       "      <th>parent</th>\n",
       "      <th>enveloping</th>\n",
       "      <th>ambiguous</th>\n",
       "      <th>span count</th>\n",
       "    </tr>\n",
       "  </thead>\n",
       "  <tbody>\n",
       "    <tr>\n",
       "      <td>timexes</td>\n",
       "      <td>tid, type, value, temporal_function, anchor_time_id, mod, quant, freq, begin_point, end_point, part_of_interval</td>\n",
       "      <td>None</td>\n",
       "      <td>words</td>\n",
       "      <td>False</td>\n",
       "      <td>1</td>\n",
       "    </tr>\n",
       "  </tbody>\n",
       "</table>\n",
       "<table border=\"1\" class=\"dataframe\">\n",
       "  <thead>\n",
       "    <tr style=\"text-align: right;\">\n",
       "      <th>text</th>\n",
       "      <th>tid</th>\n",
       "      <th>type</th>\n",
       "      <th>value</th>\n",
       "      <th>temporal_function</th>\n",
       "      <th>anchor_time_id</th>\n",
       "      <th>mod</th>\n",
       "      <th>quant</th>\n",
       "      <th>freq</th>\n",
       "      <th>begin_point</th>\n",
       "      <th>end_point</th>\n",
       "      <th>part_of_interval</th>\n",
       "    </tr>\n",
       "  </thead>\n",
       "  <tbody>\n",
       "    <tr>\n",
       "      <td>['Neljapäeval', 'kell', '16.00']</td>\n",
       "      <td>t1</td>\n",
       "      <td>TIME</td>\n",
       "      <td>2020-12-10T16:00</td>\n",
       "      <td>True</td>\n",
       "      <td>None</td>\n",
       "      <td>None</td>\n",
       "      <td>None</td>\n",
       "      <td>None</td>\n",
       "      <td>None</td>\n",
       "      <td>None</td>\n",
       "      <td>None</td>\n",
       "    </tr>\n",
       "  </tbody>\n",
       "</table>"
      ],
      "text/plain": [
       "Layer(name='timexes', attributes=('tid', 'type', 'value', 'temporal_function', 'anchor_time_id', 'mod', 'quant', 'freq', 'begin_point', 'end_point', 'part_of_interval'), spans=SL[EnvelopingSpan(['Neljapäeval', 'kell', '16.00'], [{'tid': 't1', 'type': 'TIME', 'value': '2020-12-10T16:00', 'temporal_function': True, 'anchor_time_id': None, 'mod': None, 'quant': None, 'freq': None, 'begin_point': None, 'end_point': None, 'part_of_interval': None}])])"
      ]
     },
     "execution_count": 7,
     "metadata": {},
     "output_type": "execute_result"
    }
   ],
   "source": [
    "from estnltk.taggers import TimexTagger\n",
    "text3 = Text('Neljapäeval kell 16.00 avame näituse.').tag_layer()\n",
    "tagger = TimexTagger()\n",
    "tagger.tag(text3)\n",
    "text3.timexes"
   ]
  },
  {
   "cell_type": "markdown",
   "metadata": {
    "slideshow": {
     "slide_type": "slide"
    }
   },
   "source": [
    "### Verbiahelate (sündmuste) tuvastamine"
   ]
  },
  {
   "cell_type": "code",
   "execution_count": 8,
   "metadata": {
    "slideshow": {
     "slide_type": "fragment"
    }
   },
   "outputs": [
    {
     "data": {
      "text/html": [
       "<h4>Layer</h4>\n",
       "\n",
       "\n",
       "<table border=\"1\" class=\"dataframe\">\n",
       "  <thead>\n",
       "    <tr style=\"text-align: right;\">\n",
       "      <th>layer name</th>\n",
       "      <th>attributes</th>\n",
       "      <th>parent</th>\n",
       "      <th>enveloping</th>\n",
       "      <th>ambiguous</th>\n",
       "      <th>span count</th>\n",
       "    </tr>\n",
       "  </thead>\n",
       "  <tbody>\n",
       "    <tr>\n",
       "      <td>verb_chains</td>\n",
       "      <td>pattern, roots, word_ids, mood, polarity, tense, voice, remaining_verbs</td>\n",
       "      <td>None</td>\n",
       "      <td>words</td>\n",
       "      <td>False</td>\n",
       "      <td>2</td>\n",
       "    </tr>\n",
       "  </tbody>\n",
       "</table>\n",
       "<table border=\"1\" class=\"dataframe\">\n",
       "  <thead>\n",
       "    <tr style=\"text-align: right;\">\n",
       "      <th>text</th>\n",
       "      <th>pattern</th>\n",
       "      <th>roots</th>\n",
       "      <th>word_ids</th>\n",
       "      <th>mood</th>\n",
       "      <th>polarity</th>\n",
       "      <th>tense</th>\n",
       "      <th>voice</th>\n",
       "      <th>remaining_verbs</th>\n",
       "    </tr>\n",
       "  </thead>\n",
       "  <tbody>\n",
       "    <tr>\n",
       "      <td>['ei', 'umbusaldatud']</td>\n",
       "      <td>['ei', 'verb']</td>\n",
       "      <td>['ei', 'umb_usalda']</td>\n",
       "      <td>[1, 2]</td>\n",
       "      <td>indic</td>\n",
       "      <td>NEG</td>\n",
       "      <td>imperfect</td>\n",
       "      <td>impersonal</td>\n",
       "      <td>False</td>\n",
       "    </tr>\n",
       "    <tr>\n",
       "      <td>['jäi']</td>\n",
       "      <td>['verb']</td>\n",
       "      <td>['jää']</td>\n",
       "      <td>[6]</td>\n",
       "      <td>indic</td>\n",
       "      <td>POS</td>\n",
       "      <td>imperfect</td>\n",
       "      <td>personal</td>\n",
       "      <td>False</td>\n",
       "    </tr>\n",
       "  </tbody>\n",
       "</table>"
      ],
      "text/plain": [
       "Layer(name='verb_chains', attributes=('pattern', 'roots', 'word_ids', 'mood', 'polarity', 'tense', 'voice', 'remaining_verbs'), spans=SL[EnvelopingSpan(['ei', 'umbusaldatud'], [{'pattern': ['ei', 'verb'], 'roots': ['ei', 'umb_usalda'], 'word_ids': [1, 2], 'mood': 'indic', 'polarity': 'NEG', 'tense': 'imperfect', 'voice': 'impersonal', 'remaining_verbs': False}]),\n",
       "EnvelopingSpan(['jäi'], [{'pattern': ['verb'], 'roots': ['jää'], 'word_ids': [6], 'mood': 'indic', 'polarity': 'POS', 'tense': 'imperfect', 'voice': 'personal', 'remaining_verbs': False}])])"
      ]
     },
     "execution_count": 8,
     "metadata": {},
     "output_type": "execute_result"
    }
   ],
   "source": [
    "from estnltk.taggers import VerbChainDetector\n",
    "text = Text('Peaministrit ei umbusaldatud, aga puudu jäi vähe.')\n",
    "text.tag_layer(['words', 'sentences', 'morph_analysis', 'clauses'])\n",
    "vc_detector = VerbChainDetector()\n",
    "vc_detector.tag(text)\n",
    "text.verb_chains"
   ]
  },
  {
   "cell_type": "markdown",
   "metadata": {
    "slideshow": {
     "slide_type": "slide"
    }
   },
   "source": [
    "### Veel võimalusi EstNLTK-s\n",
    "\n",
    "* Fraasigrammatikad - täpne viis kirjeldada olulisi fraase\n",
    "* Süntaktiline analüüs - sõnadevahelised seosed lauses\n",
    "* Tehisnärvivõrgud - musta kasti meetodid tekstianalüüsiks\n",
    "* ..."
   ]
  },
  {
   "cell_type": "markdown",
   "metadata": {
    "slideshow": {
     "slide_type": "slide"
    }
   },
   "source": [
    "#### EstNLTK kasutamine\n",
    "* Veebis - Google colab: https://tinyurl.com/estnltk-colab\n",
    "* Installimine läbi Anaconda: https://github.com/estnltk/estnltk/tree/devel_1.6#version-16\n",
    "\n",
    "* Juhendid: https://github.com/estnltk/estnltk/tree/devel_1.6/tutorials"
   ]
  },
  {
   "cell_type": "markdown",
   "metadata": {
    "slideshow": {
     "slide_type": "slide"
    }
   },
   "source": [
    "#### EstNLTK lähtekood ja arendus: \n",
    "* https://github.com/estnltk/estnltk/tree/devel_1.6\n",
    "\n",
    "#### Küsimused ja kommentaarid:\n",
    "* Video autor: Dage Särg, dage.sarg@ut.ee\n",
    "* EstNLTK projektijuht: Sven Laur, sven.laur@ut.ee"
   ]
  }
 ],
 "metadata": {
  "celltoolbar": "Slideshow",
  "kernelspec": {
   "display_name": "Python [conda env:estnltk] *",
   "language": "python",
   "name": "conda-env-estnltk-py"
  },
  "language_info": {
   "codemirror_mode": {
    "name": "ipython",
    "version": 3
   },
   "file_extension": ".py",
   "mimetype": "text/x-python",
   "name": "python",
   "nbconvert_exporter": "python",
   "pygments_lexer": "ipython3",
   "version": "3.6.12"
  }
 },
 "nbformat": 4,
 "nbformat_minor": 4
}
